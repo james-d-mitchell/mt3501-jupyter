{
 "cells": [
  {
   "cell_type": "markdown",
   "id": "bb0be32f",
   "metadata": {},
   "source": [
    "# Problem 8"
   ]
  },
  {
   "cell_type": "code",
   "execution_count": 21,
   "id": "f1ad993a",
   "metadata": {},
   "outputs": [],
   "source": [
    "from sympy import integrate, conjugate, I, sqrt, simplify\n",
    "from sympy.abc import x\n"
   ]
  },
  {
   "cell_type": "code",
   "execution_count": 14,
   "id": "b9c8dc15",
   "metadata": {},
   "outputs": [],
   "source": [
    "def ip(f, g):\n",
    "    return integrate(f * conjugate(g), (x, 0, 1))\n",
    "\n",
    "def norm(f):\n",
    "    return sqrt(ip(f, f))"
   ]
  },
  {
   "cell_type": "code",
   "execution_count": 15,
   "id": "a29b4aaf",
   "metadata": {},
   "outputs": [],
   "source": [
    "v1, v2, v3, v4 = 1, x, x ** 2, x ** 3"
   ]
  },
  {
   "cell_type": "code",
   "execution_count": 16,
   "id": "c44889eb",
   "metadata": {},
   "outputs": [],
   "source": [
    "e1 = 1 / norm(v1) * v1"
   ]
  },
  {
   "cell_type": "code",
   "execution_count": 17,
   "id": "37b329a4",
   "metadata": {},
   "outputs": [
    {
     "data": {
      "text/latex": [
       "$\\displaystyle 1$"
      ],
      "text/plain": [
       "1"
      ]
     },
     "execution_count": 17,
     "metadata": {},
     "output_type": "execute_result"
    }
   ],
   "source": [
    "e1"
   ]
  },
  {
   "cell_type": "code",
   "execution_count": 18,
   "id": "73798dc4",
   "metadata": {},
   "outputs": [],
   "source": [
    "w2 = v2 - ip(v2, e1) * e1"
   ]
  },
  {
   "cell_type": "code",
   "execution_count": 19,
   "id": "038b7720",
   "metadata": {},
   "outputs": [],
   "source": [
    "e2 = 1/ norm(w2) * w2"
   ]
  },
  {
   "cell_type": "code",
   "execution_count": 22,
   "id": "46a84d55",
   "metadata": {},
   "outputs": [
    {
     "data": {
      "text/latex": [
       "$\\displaystyle \\sqrt{3} \\left(2 x - 1\\right)$"
      ],
      "text/plain": [
       "sqrt(3)*(2*x - 1)"
      ]
     },
     "execution_count": 22,
     "metadata": {},
     "output_type": "execute_result"
    }
   ],
   "source": [
    "simplify(e2)"
   ]
  },
  {
   "cell_type": "code",
   "execution_count": 23,
   "id": "71f1b71d",
   "metadata": {},
   "outputs": [
    {
     "data": {
      "text/latex": [
       "$\\displaystyle 0$"
      ],
      "text/plain": [
       "0"
      ]
     },
     "execution_count": 23,
     "metadata": {},
     "output_type": "execute_result"
    }
   ],
   "source": [
    "ip(e1, e2)"
   ]
  },
  {
   "cell_type": "code",
   "execution_count": 25,
   "id": "d2403fc3",
   "metadata": {},
   "outputs": [
    {
     "data": {
      "text/latex": [
       "$\\displaystyle 1$"
      ],
      "text/plain": [
       "1"
      ]
     },
     "execution_count": 25,
     "metadata": {},
     "output_type": "execute_result"
    }
   ],
   "source": [
    "norm(e2)"
   ]
  },
  {
   "cell_type": "code",
   "execution_count": 26,
   "id": "e5521a93",
   "metadata": {},
   "outputs": [],
   "source": [
    "w3 = v3 - ip(v3, e1) * e1 - ip(v3, e2) * e2"
   ]
  },
  {
   "cell_type": "code",
   "execution_count": 27,
   "id": "2db3c7fc",
   "metadata": {},
   "outputs": [],
   "source": [
    "e3 = 1 / norm(w3) * w3"
   ]
  },
  {
   "cell_type": "code",
   "execution_count": 29,
   "id": "46e5091c",
   "metadata": {},
   "outputs": [
    {
     "data": {
      "text/plain": [
       "(0, 0)"
      ]
     },
     "execution_count": 29,
     "metadata": {},
     "output_type": "execute_result"
    }
   ],
   "source": [
    "ip(e3, e1), ip(e3, e2)"
   ]
  },
  {
   "cell_type": "code",
   "execution_count": 30,
   "id": "3202787e",
   "metadata": {},
   "outputs": [
    {
     "data": {
      "text/latex": [
       "$\\displaystyle 1$"
      ],
      "text/plain": [
       "1"
      ]
     },
     "execution_count": 30,
     "metadata": {},
     "output_type": "execute_result"
    }
   ],
   "source": [
    "norm(e3)"
   ]
  },
  {
   "cell_type": "code",
   "execution_count": 31,
   "id": "b8f497e7",
   "metadata": {},
   "outputs": [],
   "source": [
    "w4 = v4 - ip(v4, e1) * e1 - ip(v4, e2) * e2 - ip(v4, e3) * e3"
   ]
  },
  {
   "cell_type": "code",
   "execution_count": 32,
   "id": "09761144",
   "metadata": {},
   "outputs": [],
   "source": [
    "e4 = 1/ norm(w4) * w4"
   ]
  },
  {
   "cell_type": "code",
   "execution_count": 33,
   "id": "cd990678",
   "metadata": {},
   "outputs": [
    {
     "data": {
      "text/latex": [
       "$\\displaystyle 20 \\sqrt{7} \\left(x^{3} - \\frac{3 x^{2}}{2} + \\frac{3 x}{5} - \\frac{1}{20}\\right)$"
      ],
      "text/plain": [
       "20*sqrt(7)*(x**3 - 3*x**2/2 + 3*x/5 - 1/20)"
      ]
     },
     "execution_count": 33,
     "metadata": {},
     "output_type": "execute_result"
    }
   ],
   "source": [
    "e4\n"
   ]
  },
  {
   "cell_type": "code",
   "execution_count": 35,
   "id": "44c3589c",
   "metadata": {},
   "outputs": [
    {
     "data": {
      "text/plain": [
       "(0, 0, 0, 0)"
      ]
     },
     "execution_count": 35,
     "metadata": {},
     "output_type": "execute_result"
    }
   ],
   "source": [
    "ip(e4, e3), ip(e4, e3), ip(e4, e2), ip(e4, e1)"
   ]
  },
  {
   "cell_type": "code",
   "execution_count": 36,
   "id": "5f224ac8",
   "metadata": {},
   "outputs": [
    {
     "data": {
      "text/plain": [
       "[1, 1, 1, 1]"
      ]
     },
     "execution_count": 36,
     "metadata": {},
     "output_type": "execute_result"
    }
   ],
   "source": [
    "[norm(y) for y in [e1, e2, e3, e4]]"
   ]
  },
  {
   "cell_type": "code",
   "execution_count": 40,
   "id": "f9e243e1",
   "metadata": {},
   "outputs": [
    {
     "data": {
      "text/plain": [
       "{a: 2, b: 3/2, c: 1/2}"
      ]
     },
     "execution_count": 40,
     "metadata": {},
     "output_type": "execute_result"
    }
   ],
   "source": [
    "from sympy import solve, Matrix\n",
    "from sympy.abc import a, b, c\n",
    "solve(a * Matrix([1, 0, 1]) + b * Matrix([-1, 2, -1]) + c * Matrix([-1, 0, 1]) - Matrix([0, 3, 1]))"
   ]
  },
  {
   "cell_type": "code",
   "execution_count": 41,
   "id": "4b74295b",
   "metadata": {},
   "outputs": [
    {
     "data": {
      "text/latex": [
       "$\\displaystyle \\left[\\begin{matrix}0.5\\\\3.0\\\\0.5\\end{matrix}\\right]$"
      ],
      "text/plain": [
       "Matrix([\n",
       "[0.5],\n",
       "[3.0],\n",
       "[0.5]])"
      ]
     },
     "execution_count": 41,
     "metadata": {},
     "output_type": "execute_result"
    }
   ],
   "source": [
    "2 * Matrix([1, 0, 1]) + 3 / 2 * Matrix([-1, 2, -1])"
   ]
  },
  {
   "cell_type": "code",
   "execution_count": 43,
   "id": "0b31568e",
   "metadata": {},
   "outputs": [],
   "source": [
    "import numpy\n",
    "def dot(v1, v2):\n",
    "    return numpy.dot(list(v1), list(v2))\n",
    "def norm(v):\n",
    "    return sqrt(dot(v, v))"
   ]
  },
  {
   "cell_type": "code",
   "execution_count": 44,
   "id": "8de746c6",
   "metadata": {},
   "outputs": [
    {
     "data": {
      "text/latex": [
       "$\\displaystyle 0.707106781186548$"
      ],
      "text/plain": [
       "0.707106781186548"
      ]
     },
     "execution_count": 44,
     "metadata": {},
     "output_type": "execute_result"
    }
   ],
   "source": [
    "norm(1/2 * Matrix([-1, 0, 1]))"
   ]
  },
  {
   "cell_type": "code",
   "execution_count": 46,
   "id": "ad73c967",
   "metadata": {},
   "outputs": [
    {
     "data": {
      "text/plain": [
       "0.7071067811865476"
      ]
     },
     "execution_count": 46,
     "metadata": {},
     "output_type": "execute_result"
    }
   ],
   "source": [
    "float(1 / sqrt(2))"
   ]
  },
  {
   "cell_type": "code",
   "execution_count": 50,
   "id": "0d257467",
   "metadata": {},
   "outputs": [],
   "source": [
    "v1, v2, v3 = Matrix([1, 0, 1]), Matrix([-1, 2, -1]), Matrix([0, 0, 1])"
   ]
  },
  {
   "cell_type": "code",
   "execution_count": 51,
   "id": "883305e4",
   "metadata": {},
   "outputs": [
    {
     "data": {
      "text/plain": [
       "{a: 0, b: 0, c: 0}"
      ]
     },
     "execution_count": 51,
     "metadata": {},
     "output_type": "execute_result"
    }
   ],
   "source": [
    "from sympy.abc import a, b, c\n",
    "solve(a * v1 + b * v2 + c * v3)"
   ]
  },
  {
   "cell_type": "code",
   "execution_count": 52,
   "id": "99cc8130",
   "metadata": {},
   "outputs": [],
   "source": [
    "e1 = 1 / norm(v1) * v1"
   ]
  },
  {
   "cell_type": "code",
   "execution_count": 56,
   "id": "0e9c28cb",
   "metadata": {},
   "outputs": [],
   "source": [
    "w2 = v2 - dot(e1, v2) * e1"
   ]
  },
  {
   "cell_type": "code",
   "execution_count": 57,
   "id": "821616f5",
   "metadata": {},
   "outputs": [],
   "source": [
    "e2 = 1 / norm(w2) * w2"
   ]
  },
  {
   "cell_type": "code",
   "execution_count": 58,
   "id": "38a2a321",
   "metadata": {},
   "outputs": [],
   "source": [
    "w3 = v3 - dot(e1, v3) * e1 - dot(e2, v3) * e2"
   ]
  },
  {
   "cell_type": "code",
   "execution_count": 59,
   "id": "68b89ecd",
   "metadata": {},
   "outputs": [],
   "source": [
    "e3 = 1/ norm(w3) * w3"
   ]
  },
  {
   "cell_type": "code",
   "execution_count": 60,
   "id": "dac515d8",
   "metadata": {},
   "outputs": [
    {
     "data": {
      "text/latex": [
       "$\\displaystyle \\left[\\begin{matrix}- \\frac{\\sqrt{2}}{2}\\\\0\\\\\\frac{\\sqrt{2}}{2}\\end{matrix}\\right]$"
      ],
      "text/plain": [
       "Matrix([\n",
       "[-sqrt(2)/2],\n",
       "[         0],\n",
       "[ sqrt(2)/2]])"
      ]
     },
     "execution_count": 60,
     "metadata": {},
     "output_type": "execute_result"
    }
   ],
   "source": [
    "e3"
   ]
  },
  {
   "cell_type": "code",
   "execution_count": 64,
   "id": "eaa28b74",
   "metadata": {},
   "outputs": [
    {
     "data": {
      "text/plain": [
       "{a: sqrt(2)/2, c: sqrt(2)/2, b: 3}"
      ]
     },
     "execution_count": 64,
     "metadata": {},
     "output_type": "execute_result"
    }
   ],
   "source": [
    "v = Matrix([0, 3, 1])\n",
    "solve(a * e1 + b * e2 + c * e3 - v)"
   ]
  },
  {
   "cell_type": "code",
   "execution_count": 65,
   "id": "3d846f45",
   "metadata": {},
   "outputs": [
    {
     "data": {
      "text/latex": [
       "$\\displaystyle \\left[\\begin{matrix}\\frac{1}{2}\\\\3\\\\\\frac{1}{2}\\end{matrix}\\right]$"
      ],
      "text/plain": [
       "Matrix([\n",
       "[1/2],\n",
       "[  3],\n",
       "[1/2]])"
      ]
     },
     "execution_count": 65,
     "metadata": {},
     "output_type": "execute_result"
    }
   ],
   "source": [
    "sqrt(2)/2 * e1 + 3 * e2"
   ]
  },
  {
   "cell_type": "code",
   "execution_count": 66,
   "id": "6c7849f9",
   "metadata": {},
   "outputs": [
    {
     "data": {
      "text/latex": [
       "$\\displaystyle \\frac{\\sqrt{2}}{2}$"
      ],
      "text/plain": [
       "sqrt(2)/2"
      ]
     },
     "execution_count": 66,
     "metadata": {},
     "output_type": "execute_result"
    }
   ],
   "source": [
    "norm(sqrt(2)/2 * e1 + 3 * e2 - v)"
   ]
  },
  {
   "cell_type": "code",
   "execution_count": null,
   "id": "878f8e32",
   "metadata": {},
   "outputs": [],
   "source": []
  }
 ],
 "metadata": {
  "kernelspec": {
   "display_name": "Python 3 (ipykernel)",
   "language": "python",
   "name": "python3"
  },
  "language_info": {
   "codemirror_mode": {
    "name": "ipython",
    "version": 3
   },
   "file_extension": ".py",
   "mimetype": "text/x-python",
   "name": "python",
   "nbconvert_exporter": "python",
   "pygments_lexer": "ipython3",
   "version": "3.9.6"
  }
 },
 "nbformat": 4,
 "nbformat_minor": 5
}
