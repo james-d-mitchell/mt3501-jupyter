{
 "cells": [
  {
   "cell_type": "code",
   "execution_count": 2,
   "id": "98d8323a",
   "metadata": {},
   "outputs": [],
   "source": [
    "from sympy import Matrix\n",
    "C = Matrix([[3, 0, 1, -1], [1, 2, 1, -1], [-1, 0, 1, 1], [0, 0, 0, 2]])"
   ]
  },
  {
   "cell_type": "code",
   "execution_count": 3,
   "id": "9adb3768",
   "metadata": {},
   "outputs": [],
   "source": [
    "from sympy.abc import x, y, z, t, a, b, c, d\n",
    "v1 = Matrix([x, y, z, t])\n",
    "v2 = Matrix([a, b, c, d])"
   ]
  },
  {
   "cell_type": "code",
   "execution_count": 4,
   "id": "6bb51695",
   "metadata": {},
   "outputs": [
    {
     "data": {
      "text/plain": [
       "{a: -c + d - z, t: 0, x: -z, y: -z}"
      ]
     },
     "execution_count": 4,
     "metadata": {},
     "output_type": "execute_result"
    }
   ],
   "source": [
    "from sympy import solve\n",
    "solve(C * v1 - 2 * v1 + C * v2 - v1 - 2 * v2)"
   ]
  },
  {
   "cell_type": "code",
   "execution_count": 5,
   "id": "cce1693a",
   "metadata": {},
   "outputs": [
    {
     "data": {
      "text/latex": [
       "$\\displaystyle \\left[\\begin{matrix}-2\\\\-2\\\\2\\\\0\\end{matrix}\\right]$"
      ],
      "text/plain": [
       "Matrix([\n",
       "[-2],\n",
       "[-2],\n",
       "[ 2],\n",
       "[ 0]])"
      ]
     },
     "execution_count": 5,
     "metadata": {},
     "output_type": "execute_result"
    }
   ],
   "source": [
    "# z = 1\n",
    "v1 = Matrix([-1, -1, 1, 0])\n",
    "C * v1"
   ]
  },
  {
   "cell_type": "code",
   "execution_count": 6,
   "id": "ec310e77",
   "metadata": {},
   "outputs": [],
   "source": [
    "# b = 0, c = 0, d = 0\n",
    "v2 = Matrix([-1, 0, 0, 0])"
   ]
  },
  {
   "cell_type": "code",
   "execution_count": 7,
   "id": "45bff583",
   "metadata": {},
   "outputs": [
    {
     "data": {
      "text/plain": [
       "(Matrix([\n",
       " [-3],\n",
       " [-1],\n",
       " [ 1],\n",
       " [ 0]]),\n",
       " Matrix([\n",
       " [-3],\n",
       " [-1],\n",
       " [ 1],\n",
       " [ 0]]))"
      ]
     },
     "execution_count": 7,
     "metadata": {},
     "output_type": "execute_result"
    }
   ],
   "source": [
    "C * v2, v1 + 2 * v2"
   ]
  },
  {
   "cell_type": "code",
   "execution_count": 8,
   "id": "7b866664",
   "metadata": {},
   "outputs": [
    {
     "data": {
      "text/plain": [
       "{a: 0, b: 0}"
      ]
     },
     "execution_count": 8,
     "metadata": {},
     "output_type": "execute_result"
    }
   ],
   "source": [
    "solve(a * v1 + b *v2)"
   ]
  },
  {
   "cell_type": "code",
   "execution_count": 10,
   "id": "9586d52a",
   "metadata": {},
   "outputs": [],
   "source": [
    "v3 = Matrix([x, y, z, t])"
   ]
  },
  {
   "cell_type": "code",
   "execution_count": 11,
   "id": "f4f0e760",
   "metadata": {},
   "outputs": [
    {
     "data": {
      "text/plain": [
       "{t: x + z}"
      ]
     },
     "execution_count": 11,
     "metadata": {},
     "output_type": "execute_result"
    }
   ],
   "source": [
    "solve(C * v3 - 2 * v3)"
   ]
  },
  {
   "cell_type": "code",
   "execution_count": 12,
   "id": "59ac147f",
   "metadata": {},
   "outputs": [],
   "source": [
    "# x = 1, y = 0, z = 0\n",
    "v3 = Matrix([1, 0, 0, 1])"
   ]
  },
  {
   "cell_type": "code",
   "execution_count": 13,
   "id": "1fb09a08",
   "metadata": {},
   "outputs": [
    {
     "data": {
      "text/plain": [
       "{a: 0, b: 0, c: 0}"
      ]
     },
     "execution_count": 13,
     "metadata": {},
     "output_type": "execute_result"
    }
   ],
   "source": [
    "solve(a * v1 + b * v2 + c * v3)"
   ]
  },
  {
   "cell_type": "code",
   "execution_count": 14,
   "id": "b2e8ae04",
   "metadata": {},
   "outputs": [],
   "source": [
    "# x = 0, y = 42, z = 0\n",
    "v4 = Matrix([0, 42, 0, 0])"
   ]
  },
  {
   "cell_type": "code",
   "execution_count": 15,
   "id": "87844c1c",
   "metadata": {},
   "outputs": [
    {
     "data": {
      "text/plain": [
       "{a: 0, b: 0, c: 0, d: 0}"
      ]
     },
     "execution_count": 15,
     "metadata": {},
     "output_type": "execute_result"
    }
   ],
   "source": [
    "solve(a * v1 + b * v2 + c * v3 + d * v4)"
   ]
  },
  {
   "cell_type": "code",
   "execution_count": 20,
   "id": "08a3ff0a",
   "metadata": {},
   "outputs": [],
   "source": [
    "P = Matrix([[-1, -1, 1, 0], [-1, 0, 0, 0], [1, 0, 0, 1], [0, 42, 0, 0]]).transpose()"
   ]
  },
  {
   "cell_type": "code",
   "execution_count": 21,
   "id": "3cdffe6f",
   "metadata": {},
   "outputs": [
    {
     "data": {
      "text/plain": [
       "4"
      ]
     },
     "execution_count": 21,
     "metadata": {},
     "output_type": "execute_result"
    }
   ],
   "source": [
    "P.rank()"
   ]
  },
  {
   "cell_type": "code",
   "execution_count": 22,
   "id": "63e56e28",
   "metadata": {},
   "outputs": [
    {
     "data": {
      "text/latex": [
       "$\\displaystyle \\left[\\begin{matrix}2 & 1 & 0 & 0\\\\0 & 2 & 0 & 0\\\\0 & 0 & 2 & 0\\\\0 & 0 & 0 & 2\\end{matrix}\\right]$"
      ],
      "text/plain": [
       "Matrix([\n",
       "[2, 1, 0, 0],\n",
       "[0, 2, 0, 0],\n",
       "[0, 0, 2, 0],\n",
       "[0, 0, 0, 2]])"
      ]
     },
     "execution_count": 22,
     "metadata": {},
     "output_type": "execute_result"
    }
   ],
   "source": [
    "P ** -1 * C * P"
   ]
  },
  {
   "cell_type": "code",
   "execution_count": 1,
   "id": "e3c33f45",
   "metadata": {},
   "outputs": [
    {
     "data": {
      "text/latex": [
       "$\\displaystyle \\left[\\begin{matrix}0 & 1 & 2\\\\0 & 0 & 3\\\\0 & 0 & 0\\end{matrix}\\right]$"
      ],
      "text/plain": [
       "Matrix([\n",
       "[0, 1, 2],\n",
       "[0, 0, 3],\n",
       "[0, 0, 0]])"
      ]
     },
     "execution_count": 1,
     "metadata": {},
     "output_type": "execute_result"
    }
   ],
   "source": [
    "from sympy import Matrix, factor\n",
    "A = Matrix([[0, 1, 2], [0, 0, 3], [0] * 3])\n",
    "A"
   ]
  },
  {
   "cell_type": "code",
   "execution_count": 2,
   "id": "8c70b795",
   "metadata": {},
   "outputs": [
    {
     "data": {
      "text/latex": [
       "$\\displaystyle \\lambda^{3}$"
      ],
      "text/plain": [
       "lambda**3"
      ]
     },
     "execution_count": 2,
     "metadata": {},
     "output_type": "execute_result"
    }
   ],
   "source": [
    "A.charpoly().as_expr()"
   ]
  },
  {
   "cell_type": "code",
   "execution_count": 3,
   "id": "080f88b1",
   "metadata": {},
   "outputs": [
    {
     "data": {
      "text/latex": [
       "$\\displaystyle \\left[\\begin{matrix}0 & 1 & 2\\\\0 & 0 & 3\\\\0 & 0 & 0\\end{matrix}\\right]$"
      ],
      "text/plain": [
       "Matrix([\n",
       "[0, 1, 2],\n",
       "[0, 0, 3],\n",
       "[0, 0, 0]])"
      ]
     },
     "execution_count": 3,
     "metadata": {},
     "output_type": "execute_result"
    }
   ],
   "source": [
    "A"
   ]
  },
  {
   "cell_type": "code",
   "execution_count": 4,
   "id": "2a0815dc",
   "metadata": {},
   "outputs": [
    {
     "data": {
      "text/latex": [
       "$\\displaystyle \\left[\\begin{matrix}0 & 0 & 3\\\\0 & 0 & 0\\\\0 & 0 & 0\\end{matrix}\\right]$"
      ],
      "text/plain": [
       "Matrix([\n",
       "[0, 0, 3],\n",
       "[0, 0, 0],\n",
       "[0, 0, 0]])"
      ]
     },
     "execution_count": 4,
     "metadata": {},
     "output_type": "execute_result"
    }
   ],
   "source": [
    "A ** 2"
   ]
  },
  {
   "cell_type": "code",
   "execution_count": 5,
   "id": "e0fef0b0",
   "metadata": {},
   "outputs": [
    {
     "data": {
      "text/latex": [
       "$\\displaystyle \\left[\\begin{matrix}0 & 0 & 0\\\\0 & 0 & 0\\\\0 & 0 & 0\\end{matrix}\\right]$"
      ],
      "text/plain": [
       "Matrix([\n",
       "[0, 0, 0],\n",
       "[0, 0, 0],\n",
       "[0, 0, 0]])"
      ]
     },
     "execution_count": 5,
     "metadata": {},
     "output_type": "execute_result"
    }
   ],
   "source": [
    "A ** 3"
   ]
  },
  {
   "cell_type": "code",
   "execution_count": 6,
   "id": "7889ab79",
   "metadata": {},
   "outputs": [],
   "source": [
    "from sympy.abc import x, y, z, a, b, c\n",
    "from sympy import solve\n",
    "v1 = Matrix([x, y, z])"
   ]
  },
  {
   "cell_type": "code",
   "execution_count": 7,
   "id": "015b504c",
   "metadata": {},
   "outputs": [
    {
     "data": {
      "text/plain": [
       "{y: 0, z: 0}"
      ]
     },
     "execution_count": 7,
     "metadata": {},
     "output_type": "execute_result"
    }
   ],
   "source": [
    "solve(A * v1)"
   ]
  },
  {
   "cell_type": "code",
   "execution_count": 8,
   "id": "4b8391c3",
   "metadata": {},
   "outputs": [
    {
     "data": {
      "text/plain": [
       "{y: 666, z: 0}"
      ]
     },
     "execution_count": 8,
     "metadata": {},
     "output_type": "execute_result"
    }
   ],
   "source": [
    "# x = 1\n",
    "v1 = Matrix([666, 0, 0])\n",
    "v2 = Matrix([x, y, z])\n",
    "solve(A * v2 - v1)"
   ]
  },
  {
   "cell_type": "code",
   "execution_count": 9,
   "id": "a1ac1206",
   "metadata": {},
   "outputs": [],
   "source": [
    "v2 = Matrix([0, 666, 0])"
   ]
  },
  {
   "cell_type": "code",
   "execution_count": 10,
   "id": "d7507615",
   "metadata": {},
   "outputs": [
    {
     "data": {
      "text/plain": [
       "{y: -444, z: 222}"
      ]
     },
     "execution_count": 10,
     "metadata": {},
     "output_type": "execute_result"
    }
   ],
   "source": [
    "v3 = Matrix([x, y, z])\n",
    "solve(A * v3 - v2)"
   ]
  },
  {
   "cell_type": "code",
   "execution_count": 11,
   "id": "e177543e",
   "metadata": {},
   "outputs": [],
   "source": [
    "P = Matrix( [[666, 0, 0], [0, 666, -444], [0, 0, 222]])"
   ]
  },
  {
   "cell_type": "code",
   "execution_count": 12,
   "id": "9482b380",
   "metadata": {},
   "outputs": [
    {
     "data": {
      "text/latex": [
       "$\\displaystyle \\left[\\begin{matrix}0 & 1 & 0\\\\0 & 0 & 1\\\\0 & 0 & 0\\end{matrix}\\right]$"
      ],
      "text/plain": [
       "Matrix([\n",
       "[0, 1, 0],\n",
       "[0, 0, 1],\n",
       "[0, 0, 0]])"
      ]
     },
     "execution_count": 12,
     "metadata": {},
     "output_type": "execute_result"
    }
   ],
   "source": [
    "P ** -1 * A * P"
   ]
  },
  {
   "cell_type": "code",
   "execution_count": 13,
   "id": "82440001",
   "metadata": {},
   "outputs": [
    {
     "data": {
      "text/plain": [
       "0.6666666666666666"
      ]
     },
     "execution_count": 13,
     "metadata": {},
     "output_type": "execute_result"
    }
   ],
   "source": [
    "2 / 3"
   ]
  },
  {
   "cell_type": "code",
   "execution_count": 18,
   "id": "e6d37c8c",
   "metadata": {},
   "outputs": [],
   "source": [
    "A = Matrix([[-2, 2, 0, -6], [-2, 3, 0, -3], [-2, 1, 2, -3], [2, -1, 0, 5]])"
   ]
  },
  {
   "cell_type": "code",
   "execution_count": 19,
   "id": "18a00e1e",
   "metadata": {},
   "outputs": [
    {
     "data": {
      "text/latex": [
       "$\\displaystyle \\left(\\lambda - 2\\right)^{4}$"
      ],
      "text/plain": [
       "(lambda - 2)**4"
      ]
     },
     "execution_count": 19,
     "metadata": {},
     "output_type": "execute_result"
    }
   ],
   "source": [
    "factor(A.charpoly().as_expr())"
   ]
  },
  {
   "cell_type": "code",
   "execution_count": 21,
   "id": "796b58b6",
   "metadata": {},
   "outputs": [
    {
     "data": {
      "text/latex": [
       "$\\displaystyle \\left[\\begin{matrix}-4 & 2 & 0 & -6\\\\-2 & 1 & 0 & -3\\\\-2 & 1 & 0 & -3\\\\2 & -1 & 0 & 3\\end{matrix}\\right]$"
      ],
      "text/plain": [
       "Matrix([\n",
       "[-4,  2, 0, -6],\n",
       "[-2,  1, 0, -3],\n",
       "[-2,  1, 0, -3],\n",
       "[ 2, -1, 0,  3]])"
      ]
     },
     "execution_count": 21,
     "metadata": {},
     "output_type": "execute_result"
    }
   ],
   "source": [
    "from sympy import eye\n",
    "(A - 2 * eye(4))"
   ]
  },
  {
   "cell_type": "code",
   "execution_count": 22,
   "id": "22c466d2",
   "metadata": {},
   "outputs": [
    {
     "data": {
      "text/latex": [
       "$\\displaystyle \\left[\\begin{matrix}0 & 0 & 0 & 0\\\\0 & 0 & 0 & 0\\\\0 & 0 & 0 & 0\\\\0 & 0 & 0 & 0\\end{matrix}\\right]$"
      ],
      "text/plain": [
       "Matrix([\n",
       "[0, 0, 0, 0],\n",
       "[0, 0, 0, 0],\n",
       "[0, 0, 0, 0],\n",
       "[0, 0, 0, 0]])"
      ]
     },
     "execution_count": 22,
     "metadata": {},
     "output_type": "execute_result"
    }
   ],
   "source": [
    "(A - 2 * eye(4)) ** 2"
   ]
  },
  {
   "cell_type": "code",
   "execution_count": 23,
   "id": "9b6e78e1",
   "metadata": {},
   "outputs": [
    {
     "data": {
      "text/plain": [
       "1"
      ]
     },
     "execution_count": 23,
     "metadata": {},
     "output_type": "execute_result"
    }
   ],
   "source": [
    "# 4 = 2 + 2 = 2 + 1 + 1\n",
    "# if g_2 = 2, then there are 2 blocks of size 2\n",
    "# if g_2 = 3, then there are 1 block of size 2, and 2 blokcs of size 1\n",
    "# g_2 = dim E_2 = dim ker (A - 2 * eye(4))\n",
    "(A - 2 * eye(4)).rank()"
   ]
  },
  {
   "cell_type": "code",
   "execution_count": 24,
   "id": "e68a1095",
   "metadata": {},
   "outputs": [],
   "source": [
    "# Rank-Nullity implies that dim ker( A - 2 * eye(4)) = 4 - 1 = 3\n",
    "# Hence\n",
    "# JNF(A) = \n",
    "J = Matrix([[2, 1, 0, 0], \n",
    "            [0, 2, 0, 0], \n",
    "            [0, 0, 2, 0], \n",
    "            [0, 0, 0, 2]])"
   ]
  },
  {
   "cell_type": "code",
   "execution_count": 25,
   "id": "811a54b4",
   "metadata": {},
   "outputs": [],
   "source": [
    "# Find v1, v2, v3, v4 s.t.\n",
    "# Av1 = 2v1\n",
    "# Av2 = v1 + 2v2\n",
    "# Av3 = 2v3\n",
    "# Av4 = 2v4 \n",
    "# because A is written with respect to the standard basis and \n",
    "# so T(v_i) = A v_i\n",
    "from sympy.abc import x, y, z, t, a, b, c, d\n",
    "v1 = Matrix([x, y, z, t])\n",
    "v2 = Matrix([a, b, c, d])"
   ]
  },
  {
   "cell_type": "code",
   "execution_count": 29,
   "id": "638411b0",
   "metadata": {},
   "outputs": [
    {
     "data": {
      "text/plain": [
       "{x: -3*t/2 + y/2}"
      ]
     },
     "execution_count": 29,
     "metadata": {},
     "output_type": "execute_result"
    }
   ],
   "source": [
    "solve(A * v1 - 2 *v1, [x, y, z, t])"
   ]
  },
  {
   "cell_type": "code",
   "execution_count": 30,
   "id": "cdb4b33c",
   "metadata": {},
   "outputs": [
    {
     "data": {
      "text/plain": [
       "{a: b/2 - 3*d/2 - z/2, t: -z, y: z}"
      ]
     },
     "execution_count": 30,
     "metadata": {},
     "output_type": "execute_result"
    }
   ],
   "source": [
    "v1 = Matrix([-3 * t / 2 + y / 2, y, z, t])\n",
    "solve(A * v2 - v1 - 2 * v2)"
   ]
  },
  {
   "cell_type": "code",
   "execution_count": 31,
   "id": "efedd5c8",
   "metadata": {},
   "outputs": [
    {
     "data": {
      "text/plain": [
       "True"
      ]
     },
     "execution_count": 31,
     "metadata": {},
     "output_type": "execute_result"
    }
   ],
   "source": [
    "# z = 1, t = -1, y = 1, x = 2\n",
    "v1 = Matrix([2, 1, 1, -1])\n",
    "A * v1 == 2 * v1"
   ]
  },
  {
   "cell_type": "code",
   "execution_count": 37,
   "id": "9b17bbf4",
   "metadata": {},
   "outputs": [
    {
     "data": {
      "text/latex": [
       "$\\displaystyle \\left[\\begin{matrix}0\\\\0\\\\0\\\\0\\end{matrix}\\right]$"
      ],
      "text/plain": [
       "Matrix([\n",
       "[0],\n",
       "[0],\n",
       "[0],\n",
       "[0]])"
      ]
     },
     "execution_count": 37,
     "metadata": {},
     "output_type": "execute_result"
    }
   ],
   "source": [
    "# a = -2, b = 2, c = 0, d = 2\n",
    "v2 = Matrix([-2.5, 2, 0, 2])\n",
    "A * v2- v1 - 2 * v2"
   ]
  },
  {
   "cell_type": "code",
   "execution_count": 38,
   "id": "cebf87fe",
   "metadata": {},
   "outputs": [
    {
     "data": {
      "text/plain": [
       "{a: 0.0, b: 0.0}"
      ]
     },
     "execution_count": 38,
     "metadata": {},
     "output_type": "execute_result"
    }
   ],
   "source": [
    "solve(a * v1 + b * v2)"
   ]
  },
  {
   "cell_type": "code",
   "execution_count": 39,
   "id": "11424b63",
   "metadata": {},
   "outputs": [],
   "source": [
    "v3 = Matrix([x, y, z, t])"
   ]
  },
  {
   "cell_type": "code",
   "execution_count": 40,
   "id": "9e9d86f7",
   "metadata": {},
   "outputs": [
    {
     "data": {
      "text/plain": [
       "{t: -2*x/3 + y/3}"
      ]
     },
     "execution_count": 40,
     "metadata": {},
     "output_type": "execute_result"
    }
   ],
   "source": [
    "solve(A * v3 - 2 * v3)"
   ]
  },
  {
   "cell_type": "code",
   "execution_count": 42,
   "id": "d5d29f76",
   "metadata": {},
   "outputs": [
    {
     "data": {
      "text/plain": [
       "True"
      ]
     },
     "execution_count": 42,
     "metadata": {},
     "output_type": "execute_result"
    }
   ],
   "source": [
    "# x = 0, y = 3, z = 1, t = 1\n",
    "v3 = Matrix([0, 3, 1, 1])\n",
    "A * v3 == 2 * v3"
   ]
  },
  {
   "cell_type": "code",
   "execution_count": 43,
   "id": "ef0097d4",
   "metadata": {},
   "outputs": [
    {
     "data": {
      "text/plain": [
       "{a: 0.0, b: 0.0, c: 0.0}"
      ]
     },
     "execution_count": 43,
     "metadata": {},
     "output_type": "execute_result"
    }
   ],
   "source": [
    "solve(a * v1 + b * v2 + c * v3)"
   ]
  },
  {
   "cell_type": "code",
   "execution_count": 44,
   "id": "59ef4a2c",
   "metadata": {},
   "outputs": [
    {
     "data": {
      "text/plain": [
       "{a: 0.0, b: 0.0, c: 0.0, d: 0.0}"
      ]
     },
     "execution_count": 44,
     "metadata": {},
     "output_type": "execute_result"
    }
   ],
   "source": [
    "# x = 3, y = 0, z = 0, t = -2\n",
    "v4 = Matrix([3, 0, 0, -2])\n",
    "solve(a * v1 + b * v2 + c * v3 + d * v4)"
   ]
  },
  {
   "cell_type": "code",
   "execution_count": 46,
   "id": "1aa06bd8",
   "metadata": {},
   "outputs": [],
   "source": [
    "P = Matrix([[*v1], [*v2], [*v3], [*v4]]).transpose()"
   ]
  },
  {
   "cell_type": "code",
   "execution_count": 47,
   "id": "20d414ca",
   "metadata": {},
   "outputs": [
    {
     "data": {
      "text/latex": [
       "$\\displaystyle \\left[\\begin{matrix}2 & -2.5 & 0 & 3\\\\1 & 2 & 3 & 0\\\\1 & 0 & 1 & 0\\\\-1 & 2 & 1 & -2\\end{matrix}\\right]$"
      ],
      "text/plain": [
       "Matrix([\n",
       "[ 2, -2.5, 0,  3],\n",
       "[ 1,    2, 3,  0],\n",
       "[ 1,    0, 1,  0],\n",
       "[-1,    2, 1, -2]])"
      ]
     },
     "execution_count": 47,
     "metadata": {},
     "output_type": "execute_result"
    }
   ],
   "source": [
    "P"
   ]
  },
  {
   "cell_type": "code",
   "execution_count": 48,
   "id": "499bf365",
   "metadata": {},
   "outputs": [
    {
     "data": {
      "text/latex": [
       "$\\displaystyle \\left[\\begin{matrix}2.0 & 1.0 & 0 & 0\\\\0 & 2.0 & 0 & 0\\\\0 & 0 & 2.0 & 0\\\\0 & 0 & 0 & 2.0\\end{matrix}\\right]$"
      ],
      "text/plain": [
       "Matrix([\n",
       "[2.0, 1.0,   0,   0],\n",
       "[  0, 2.0,   0,   0],\n",
       "[  0,   0, 2.0,   0],\n",
       "[  0,   0,   0, 2.0]])"
      ]
     },
     "execution_count": 48,
     "metadata": {},
     "output_type": "execute_result"
    }
   ],
   "source": [
    "P ** - 1 * A * P"
   ]
  },
  {
   "cell_type": "code",
   "execution_count": 49,
   "id": "04e5c369",
   "metadata": {},
   "outputs": [],
   "source": [
    "A = Matrix([[1, 2, 3, 4], [4, 5, 6, 7], [-1, 1, 0, 1], [1, 0, -2, 1]])"
   ]
  },
  {
   "cell_type": "code",
   "execution_count": 50,
   "id": "9eb349a9",
   "metadata": {},
   "outputs": [
    {
     "data": {
      "text/latex": [
       "$\\displaystyle \\lambda^{4} - 7 \\lambda^{3} - 2 \\lambda^{2} - 6 \\lambda + 39$"
      ],
      "text/plain": [
       "lambda**4 - 7*lambda**3 - 2*lambda**2 - 6*lambda + 39"
      ]
     },
     "execution_count": 50,
     "metadata": {},
     "output_type": "execute_result"
    }
   ],
   "source": [
    "factor(A.charpoly().as_expr())"
   ]
  },
  {
   "cell_type": "code",
   "execution_count": 55,
   "id": "49294a95",
   "metadata": {},
   "outputs": [
    {
     "data": {
      "text/plain": [
       "[(1.642684818073247, 0.0),\n",
       " (7.286673608719728, 0.0),\n",
       " (-0.9646792133964874, -1.5256535748752817),\n",
       " (-0.9646792133964874, 1.5256535748752817)]"
      ]
     },
     "execution_count": 55,
     "metadata": {},
     "output_type": "execute_result"
    }
   ],
   "source": [
    "from sympy import re, im\n",
    "[(float(re(x)), float(im(x))) for x in A.charpoly().all_roots()]"
   ]
  },
  {
   "cell_type": "code",
   "execution_count": null,
   "id": "b9e67ba9",
   "metadata": {},
   "outputs": [],
   "source": []
  },
  {
   "cell_type": "code",
   "execution_count": 1,
   "id": "3e82afc5",
   "metadata": {},
   "outputs": [],
   "source": [
    "from sympy import Matrix, factor, re, im\n",
    "A = Matrix([[1, 2, 3], [4, 5, 4], [6, 6, 6]])"
   ]
  },
  {
   "cell_type": "code",
   "execution_count": 2,
   "id": "41d5265e",
   "metadata": {},
   "outputs": [
    {
     "data": {
      "text/latex": [
       "$\\displaystyle \\left[\\begin{matrix}1 & 2 & 3\\\\4 & 5 & 4\\\\6 & 6 & 6\\end{matrix}\\right]$"
      ],
      "text/plain": [
       "Matrix([\n",
       "[1, 2, 3],\n",
       "[4, 5, 4],\n",
       "[6, 6, 6]])"
      ]
     },
     "execution_count": 2,
     "metadata": {},
     "output_type": "execute_result"
    }
   ],
   "source": [
    "A"
   ]
  },
  {
   "cell_type": "code",
   "execution_count": 3,
   "id": "d07ef567",
   "metadata": {},
   "outputs": [
    {
     "data": {
      "text/latex": [
       "$\\displaystyle \\lambda^{3} - 12 \\lambda^{2} - 9 \\lambda + 12$"
      ],
      "text/plain": [
       "lambda**3 - 12*lambda**2 - 9*lambda + 12"
      ]
     },
     "execution_count": 3,
     "metadata": {},
     "output_type": "execute_result"
    }
   ],
   "source": [
    "factor(A.charpoly().as_expr())"
   ]
  },
  {
   "cell_type": "code",
   "execution_count": 4,
   "id": "2d7b1487",
   "metadata": {},
   "outputs": [
    {
     "data": {
      "text/plain": [
       "[(-1.3437297732339928, 0.0),\n",
       " (0.7066813954753003, 0.0),\n",
       " (12.637048377758692, 0.0)]"
      ]
     },
     "execution_count": 4,
     "metadata": {},
     "output_type": "execute_result"
    }
   ],
   "source": [
    "[(float(re(x)), float(im(x))) for x in A.charpoly().all_roots()]\n"
   ]
  },
  {
   "cell_type": "code",
   "execution_count": 32,
   "id": "530f6c2b",
   "metadata": {},
   "outputs": [
    {
     "data": {
      "text/latex": [
       "$\\displaystyle \\left(\\lambda - 2\\right) \\left(\\lambda^{2} - 3\\right)$"
      ],
      "text/plain": [
       "(lambda - 2)*(lambda**2 - 3)"
      ]
     },
     "execution_count": 32,
     "metadata": {},
     "output_type": "execute_result"
    }
   ],
   "source": [
    "A = Matrix([[1, 0, 2], [0, 2, 1], [1, 0, -1]])\n",
    "factor(A.charpoly().as_expr())"
   ]
  },
  {
   "cell_type": "code",
   "execution_count": 33,
   "id": "76b7b1e2",
   "metadata": {},
   "outputs": [],
   "source": [
    "# Roots are 2, and +-sqrt(3)"
   ]
  },
  {
   "cell_type": "code",
   "execution_count": 13,
   "id": "bc455fcd",
   "metadata": {},
   "outputs": [
    {
     "data": {
      "text/plain": [
       "{x: z*(1 + sqrt(3)), y: z*(-2 - sqrt(3))}"
      ]
     },
     "execution_count": 13,
     "metadata": {},
     "output_type": "execute_result"
    }
   ],
   "source": [
    "A = Matrix([[1, 0, 2], [0, 2, 1], [1, 0, -1]])\n",
    "from sympy import solve, sqrt, Matrix, expand\n",
    "from sympy.abc import x, y, z\n",
    "v2 = Matrix([x, y, z])\n",
    "solve(A * v2 - sqrt(3) * v2, [x, y, z]) # solve for x, y, z"
   ]
  },
  {
   "cell_type": "code",
   "execution_count": 14,
   "id": "b65a32f6",
   "metadata": {},
   "outputs": [
    {
     "data": {
      "text/latex": [
       "$\\displaystyle \\left[\\begin{matrix}\\sqrt{3} + 3\\\\- 2 \\sqrt{3} - 3\\\\\\sqrt{3}\\end{matrix}\\right]$"
      ],
      "text/plain": [
       "Matrix([\n",
       "[   sqrt(3) + 3],\n",
       "[-2*sqrt(3) - 3],\n",
       "[       sqrt(3)]])"
      ]
     },
     "execution_count": 14,
     "metadata": {},
     "output_type": "execute_result"
    }
   ],
   "source": [
    "v2 = Matrix([1 + sqrt(3), -2 - sqrt(3), 1])\n",
    "A * v2"
   ]
  },
  {
   "cell_type": "code",
   "execution_count": 17,
   "id": "4fe674dc",
   "metadata": {},
   "outputs": [
    {
     "data": {
      "text/plain": [
       "True"
      ]
     },
     "execution_count": 17,
     "metadata": {},
     "output_type": "execute_result"
    }
   ],
   "source": [
    "expand(sqrt(3) * v2) == A * v2"
   ]
  },
  {
   "cell_type": "code",
   "execution_count": 38,
   "id": "9aa5f8dc",
   "metadata": {},
   "outputs": [
    {
     "data": {
      "text/latex": [
       "$\\displaystyle \\left[\\begin{matrix}\\sqrt{3} \\left(1 + \\sqrt{3}\\right)\\\\\\sqrt{3} \\left(-2 - \\sqrt{3}\\right)\\\\\\sqrt{3}\\end{matrix}\\right]$"
      ],
      "text/plain": [
       "Matrix([\n",
       "[ sqrt(3)*(1 + sqrt(3))],\n",
       "[sqrt(3)*(-2 - sqrt(3))],\n",
       "[               sqrt(3)]])"
      ]
     },
     "execution_count": 38,
     "metadata": {},
     "output_type": "execute_result"
    }
   ],
   "source": [
    "sqrt(3) * v2"
   ]
  },
  {
   "cell_type": "code",
   "execution_count": 28,
   "id": "1292ff8c",
   "metadata": {},
   "outputs": [
    {
     "data": {
      "text/plain": [
       "False"
      ]
     },
     "execution_count": 28,
     "metadata": {},
     "output_type": "execute_result"
    }
   ],
   "source": [
    "sqrt(3) * (1 + sqrt(3)) == 1 + sqrt(3)"
   ]
  },
  {
   "cell_type": "code",
   "execution_count": 5,
   "id": "4349b4e1",
   "metadata": {},
   "outputs": [],
   "source": [
    "from sympy import Matrix, eye\n",
    "A = Matrix([[1, -2], [2, 0]])"
   ]
  },
  {
   "cell_type": "code",
   "execution_count": 6,
   "id": "44e95072",
   "metadata": {},
   "outputs": [
    {
     "data": {
      "text/latex": [
       "$\\displaystyle \\lambda^{2} - \\lambda + 4$"
      ],
      "text/plain": [
       "lambda**2 - lambda + 4"
      ]
     },
     "execution_count": 6,
     "metadata": {},
     "output_type": "execute_result"
    }
   ],
   "source": [
    "A.charpoly().as_expr()"
   ]
  },
  {
   "cell_type": "code",
   "execution_count": 8,
   "id": "5d6899d3",
   "metadata": {},
   "outputs": [
    {
     "data": {
      "text/latex": [
       "$\\displaystyle \\left[\\begin{matrix}0 & 0\\\\0 & 0\\end{matrix}\\right]$"
      ],
      "text/plain": [
       "Matrix([\n",
       "[0, 0],\n",
       "[0, 0]])"
      ]
     },
     "execution_count": 8,
     "metadata": {},
     "output_type": "execute_result"
    }
   ],
   "source": [
    "A * A - A + 4 * eye(2)"
   ]
  },
  {
   "cell_type": "code",
   "execution_count": 9,
   "id": "bf9cd3c9",
   "metadata": {},
   "outputs": [],
   "source": [
    "A = Matrix([[5, 2, 3], [6, 1, 7], [-1, 0, 0]])"
   ]
  },
  {
   "cell_type": "code",
   "execution_count": 11,
   "id": "05623337",
   "metadata": {},
   "outputs": [
    {
     "data": {
      "text/latex": [
       "$\\displaystyle \\lambda^{3} - 6 \\lambda^{2} - 4 \\lambda + 11$"
      ],
      "text/plain": [
       "lambda**3 - 6*lambda**2 - 4*lambda + 11"
      ]
     },
     "execution_count": 11,
     "metadata": {},
     "output_type": "execute_result"
    }
   ],
   "source": [
    "A.charpoly().as_expr()"
   ]
  },
  {
   "cell_type": "code",
   "execution_count": 12,
   "id": "603fc60c",
   "metadata": {},
   "outputs": [
    {
     "data": {
      "text/latex": [
       "$\\displaystyle \\left[\\begin{matrix}0 & 0 & 0\\\\0 & 0 & 0\\\\0 & 0 & 0\\end{matrix}\\right]$"
      ],
      "text/plain": [
       "Matrix([\n",
       "[0, 0, 0],\n",
       "[0, 0, 0],\n",
       "[0, 0, 0]])"
      ]
     },
     "execution_count": 12,
     "metadata": {},
     "output_type": "execute_result"
    }
   ],
   "source": [
    "A ** 3 - 6 * A **2 - 4 * A + 11 * eye(3)"
   ]
  },
  {
   "cell_type": "code",
   "execution_count": 3,
   "id": "c1f6048b",
   "metadata": {},
   "outputs": [
    {
     "data": {
      "text/latex": [
       "$\\displaystyle \\left(\\lambda - 2\\right)^{4}$"
      ],
      "text/plain": [
       "(lambda - 2)**4"
      ]
     },
     "execution_count": 3,
     "metadata": {},
     "output_type": "execute_result"
    }
   ],
   "source": [
    "from sympy import Matrix, factor, eye\n",
    "C = Matrix([[3, 0, 1, -1], [1, 2, 1, -1], [-1, 0, 1, 1], [0, 0, 0, 2]])\n",
    "factor(C.charpoly().as_expr())"
   ]
  },
  {
   "cell_type": "code",
   "execution_count": 5,
   "id": "ea4006dd",
   "metadata": {},
   "outputs": [
    {
     "data": {
      "text/latex": [
       "$\\displaystyle \\left[\\begin{matrix}0 & 0 & 0 & 0\\\\0 & 0 & 0 & 0\\\\0 & 0 & 0 & 0\\\\0 & 0 & 0 & 0\\end{matrix}\\right]$"
      ],
      "text/plain": [
       "Matrix([\n",
       "[0, 0, 0, 0],\n",
       "[0, 0, 0, 0],\n",
       "[0, 0, 0, 0],\n",
       "[0, 0, 0, 0]])"
      ]
     },
     "execution_count": 5,
     "metadata": {},
     "output_type": "execute_result"
    }
   ],
   "source": [
    "(C - 2 * eye(4)) ** 2"
   ]
  },
  {
   "cell_type": "code",
   "execution_count": 6,
   "id": "bf33df02",
   "metadata": {},
   "outputs": [
    {
     "data": {
      "text/plain": [
       "1"
      ]
     },
     "execution_count": 6,
     "metadata": {},
     "output_type": "execute_result"
    }
   ],
   "source": [
    "# 4 = 2 + 2 = 2 + 1 + 1\n",
    "(C - 2 * eye(4)).rank()\n",
    "# => dim ker( C - 2 * eye(4))) = 4 - 1 = 3"
   ]
  },
  {
   "cell_type": "code",
   "execution_count": 7,
   "id": "ea472361",
   "metadata": {},
   "outputs": [],
   "source": [
    "J = Matrix([[2, 1, 0, 0], [0, 2, 0, 0], [0, 0, 2, 0], [0, 0, 0, 2]])"
   ]
  },
  {
   "cell_type": "code",
   "execution_count": 8,
   "id": "4b9eeec5",
   "metadata": {},
   "outputs": [
    {
     "data": {
      "text/latex": [
       "$\\displaystyle \\left[\\begin{matrix}2 & 1 & 0 & 0\\\\0 & 2 & 0 & 0\\\\0 & 0 & 2 & 0\\\\0 & 0 & 0 & 2\\end{matrix}\\right]$"
      ],
      "text/plain": [
       "Matrix([\n",
       "[2, 1, 0, 0],\n",
       "[0, 2, 0, 0],\n",
       "[0, 0, 2, 0],\n",
       "[0, 0, 0, 2]])"
      ]
     },
     "execution_count": 8,
     "metadata": {},
     "output_type": "execute_result"
    }
   ],
   "source": [
    "J"
   ]
  },
  {
   "cell_type": "code",
   "execution_count": 15,
   "id": "45ee1059",
   "metadata": {},
   "outputs": [],
   "source": [
    "from sympy.abc import x, y, z, t, a, b, c, d, k, l\n",
    "from sympy import solve"
   ]
  },
  {
   "cell_type": "code",
   "execution_count": 35,
   "id": "b3871bb6",
   "metadata": {},
   "outputs": [],
   "source": [
    "v1 = Matrix([x, y, z, t])\n",
    "v2 = Matrix([a, b, c, d])\n",
    "v3 = Matrix([x, y, z, t])"
   ]
  },
  {
   "cell_type": "code",
   "execution_count": 36,
   "id": "68114dc5",
   "metadata": {},
   "outputs": [
    {
     "data": {
      "text/plain": [
       "{a: -t + 3*x/2 + z, b: -t + x + y/2 + z, c: t - x - z/2, d: t/2}"
      ]
     },
     "execution_count": 36,
     "metadata": {},
     "output_type": "execute_result"
    }
   ],
   "source": [
    "solve(C * v1 - v1 - 2 * v2 + C * v1 - 2 * v1)"
   ]
  },
  {
   "cell_type": "code",
   "execution_count": 37,
   "id": "e6c454ec",
   "metadata": {},
   "outputs": [],
   "source": [
    "# setting x = y = z = t = 2\n",
    "v1, v2 = Matrix([2, 2, 2, 2]), Matrix([-2 + 3 + 2, -2 + 2 + 1, 2 - 2 - 1, 1])"
   ]
  },
  {
   "cell_type": "code",
   "execution_count": 38,
   "id": "7c55250b",
   "metadata": {},
   "outputs": [
    {
     "data": {
      "text/plain": [
       "(Matrix([\n",
       " [2],\n",
       " [2],\n",
       " [2],\n",
       " [2]]),\n",
       " Matrix([\n",
       " [ 3],\n",
       " [ 1],\n",
       " [-1],\n",
       " [ 1]]))"
      ]
     },
     "execution_count": 38,
     "metadata": {},
     "output_type": "execute_result"
    }
   ],
   "source": [
    "v1, v2"
   ]
  },
  {
   "cell_type": "code",
   "execution_count": 39,
   "id": "2ea18fa8",
   "metadata": {},
   "outputs": [
    {
     "data": {
      "text/plain": [
       "{a: 0, b: 0}"
      ]
     },
     "execution_count": 39,
     "metadata": {},
     "output_type": "execute_result"
    }
   ],
   "source": [
    "solve(a * v1 + b * v2, [a, b])"
   ]
  },
  {
   "cell_type": "code",
   "execution_count": 40,
   "id": "7fd715e4",
   "metadata": {},
   "outputs": [
    {
     "data": {
      "text/plain": [
       "{t: x + z}"
      ]
     },
     "execution_count": 40,
     "metadata": {},
     "output_type": "execute_result"
    }
   ],
   "source": [
    "solve(C * v3 - 2 * v3)"
   ]
  },
  {
   "cell_type": "code",
   "execution_count": 42,
   "id": "fe2bb92c",
   "metadata": {},
   "outputs": [
    {
     "data": {
      "text/plain": [
       "{x: -2*a - 3*b, y: -2*a - b, z: -2*a + b, t: -2*a - b}"
      ]
     },
     "execution_count": 42,
     "metadata": {},
     "output_type": "execute_result"
    }
   ],
   "source": [
    "solve(a * v1 + b * v2 + v3, [x, y, z, t])"
   ]
  },
  {
   "cell_type": "code",
   "execution_count": 51,
   "id": "b68ec14a",
   "metadata": {},
   "outputs": [],
   "source": [
    "v3, v4 = Matrix([-1, 0, 0, -1]), Matrix([0, 1, 0, 0])"
   ]
  },
  {
   "cell_type": "code",
   "execution_count": 52,
   "id": "a320907c",
   "metadata": {},
   "outputs": [
    {
     "data": {
      "text/plain": [
       "(Matrix([\n",
       " [-2],\n",
       " [ 0],\n",
       " [ 0],\n",
       " [-2]]),\n",
       " Matrix([\n",
       " [0],\n",
       " [2],\n",
       " [0],\n",
       " [0]]))"
      ]
     },
     "execution_count": 52,
     "metadata": {},
     "output_type": "execute_result"
    }
   ],
   "source": [
    "C * v3, C * v4"
   ]
  },
  {
   "cell_type": "code",
   "execution_count": 53,
   "id": "8d1edaf3",
   "metadata": {},
   "outputs": [
    {
     "data": {
      "text/plain": [
       "{a: 0, b: 0, c: 0, d: 0}"
      ]
     },
     "execution_count": 53,
     "metadata": {},
     "output_type": "execute_result"
    }
   ],
   "source": [
    "solve(a * v1 + b * v2 + c * v3 + d * v4)"
   ]
  },
  {
   "cell_type": "code",
   "execution_count": 7,
   "id": "8831f322",
   "metadata": {},
   "outputs": [],
   "source": [
    "from sympy import Matrix, factor, eye"
   ]
  },
  {
   "cell_type": "code",
   "execution_count": 8,
   "id": "544b298d",
   "metadata": {},
   "outputs": [],
   "source": [
    "B = Matrix([[2, 1, 0, -3], [0, 2, 0, 4], [4, 5, -2, 1], [0, 0, 0, -2]])"
   ]
  },
  {
   "cell_type": "code",
   "execution_count": 6,
   "id": "193831cd",
   "metadata": {},
   "outputs": [
    {
     "data": {
      "text/latex": [
       "$\\displaystyle \\left(\\lambda - 2\\right)^{2} \\left(\\lambda + 2\\right)^{2}$"
      ],
      "text/plain": [
       "(lambda - 2)**2*(lambda + 2)**2"
      ]
     },
     "execution_count": 6,
     "metadata": {},
     "output_type": "execute_result"
    }
   ],
   "source": [
    "factor(B.charpoly().as_expr())"
   ]
  },
  {
   "cell_type": "code",
   "execution_count": 9,
   "id": "b3dfccc5",
   "metadata": {},
   "outputs": [
    {
     "data": {
      "text/latex": [
       "$\\displaystyle \\left[\\begin{matrix}0 & 4 & 0 & 4\\\\0 & 0 & 0 & 0\\\\0 & 4 & 0 & 4\\\\0 & 0 & 0 & 0\\end{matrix}\\right]$"
      ],
      "text/plain": [
       "Matrix([\n",
       "[0, 4, 0, 4],\n",
       "[0, 0, 0, 0],\n",
       "[0, 4, 0, 4],\n",
       "[0, 0, 0, 0]])"
      ]
     },
     "execution_count": 9,
     "metadata": {},
     "output_type": "execute_result"
    }
   ],
   "source": [
    "# (B - 2 * eye(4)) * (B + 2 * eye(4))\n",
    "# (B - 2 * eye(4)) **2 * (B + 2 * eye(4)) or (B - 2 * eye(4)) * (B + 2 * eye(4)) ** 2\n",
    "# c_T(x)\n",
    "(B - 2 * eye(4)) * (B + 2 * eye(4))"
   ]
  },
  {
   "cell_type": "code",
   "execution_count": 10,
   "id": "eece36ed",
   "metadata": {},
   "outputs": [
    {
     "data": {
      "text/latex": [
       "$\\displaystyle \\left[\\begin{matrix}0 & 0 & 0 & 0\\\\0 & 0 & 0 & 0\\\\0 & 0 & 0 & 0\\\\0 & 0 & 0 & 0\\end{matrix}\\right]$"
      ],
      "text/plain": [
       "Matrix([\n",
       "[0, 0, 0, 0],\n",
       "[0, 0, 0, 0],\n",
       "[0, 0, 0, 0],\n",
       "[0, 0, 0, 0]])"
      ]
     },
     "execution_count": 10,
     "metadata": {},
     "output_type": "execute_result"
    }
   ],
   "source": [
    "(B - 2 * eye(4)) **2 * (B + 2 * eye(4))"
   ]
  },
  {
   "cell_type": "code",
   "execution_count": 11,
   "id": "5d0130ef",
   "metadata": {},
   "outputs": [
    {
     "data": {
      "text/latex": [
       "$\\displaystyle \\left[\\begin{matrix}0 & 16 & 0 & 16\\\\0 & 0 & 0 & 0\\\\0 & 16 & 0 & 16\\\\0 & 0 & 0 & 0\\end{matrix}\\right]$"
      ],
      "text/plain": [
       "Matrix([\n",
       "[0, 16, 0, 16],\n",
       "[0,  0, 0,  0],\n",
       "[0, 16, 0, 16],\n",
       "[0,  0, 0,  0]])"
      ]
     },
     "execution_count": 11,
     "metadata": {},
     "output_type": "execute_result"
    }
   ],
   "source": [
    "(B - 2 * eye(4)) * (B + 2 * eye(4)) ** 2"
   ]
  },
  {
   "cell_type": "code",
   "execution_count": 12,
   "id": "f47f3360",
   "metadata": {},
   "outputs": [],
   "source": [
    "# lambda = 2\n",
    "# a_2 = 2 , and by the m_B(x) we know that there has to be a J_2(2) of dim. 2 in JNF(B)\n",
    "# J_2(2)"
   ]
  },
  {
   "cell_type": "code",
   "execution_count": 13,
   "id": "c61617c0",
   "metadata": {},
   "outputs": [],
   "source": [
    "# lambda = -2\n",
    "# a_{-2} = 2 = 1 + 1, and by the min. poly. we know that the largest size of a block J_m(-2) in JNF(B) is 1"
   ]
  },
  {
   "cell_type": "code",
   "execution_count": 14,
   "id": "d5834bfd",
   "metadata": {},
   "outputs": [],
   "source": [
    "J = Matrix([[2, 1, 0, 0],\n",
    "            [0, 2, 0, 0], \n",
    "            [0, 0, -2, 0],\n",
    "            [0, 0, 0, -2]])"
   ]
  },
  {
   "cell_type": "code",
   "execution_count": 15,
   "id": "c8f6b5fb",
   "metadata": {},
   "outputs": [],
   "source": [
    "C = Matrix([[3, 0, 1, -1], [1, 2, 1, -1], [-1, 0, 1, 1], [0, 0, 0, 2]])"
   ]
  },
  {
   "cell_type": "code",
   "execution_count": 16,
   "id": "4483fcb6",
   "metadata": {},
   "outputs": [
    {
     "data": {
      "text/latex": [
       "$\\displaystyle \\left(\\lambda - 2\\right)^{4}$"
      ],
      "text/plain": [
       "(lambda - 2)**4"
      ]
     },
     "execution_count": 16,
     "metadata": {},
     "output_type": "execute_result"
    }
   ],
   "source": [
    "factor(C.charpoly().as_expr())"
   ]
  },
  {
   "cell_type": "code",
   "execution_count": 18,
   "id": "1b870c24",
   "metadata": {},
   "outputs": [
    {
     "data": {
      "text/latex": [
       "$\\displaystyle \\left[\\begin{matrix}0 & 0 & 0 & 0\\\\0 & 0 & 0 & 0\\\\0 & 0 & 0 & 0\\\\0 & 0 & 0 & 0\\end{matrix}\\right]$"
      ],
      "text/plain": [
       "Matrix([\n",
       "[0, 0, 0, 0],\n",
       "[0, 0, 0, 0],\n",
       "[0, 0, 0, 0],\n",
       "[0, 0, 0, 0]])"
      ]
     },
     "execution_count": 18,
     "metadata": {},
     "output_type": "execute_result"
    }
   ],
   "source": [
    "# a_2 = 4 = 2 + 2 = 2 + 1 + 1\n",
    "(C - 2 * eye(4)) ** 2"
   ]
  },
  {
   "cell_type": "code",
   "execution_count": 21,
   "id": "e432c148",
   "metadata": {},
   "outputs": [
    {
     "data": {
      "text/plain": [
       "1"
      ]
     },
     "execution_count": 21,
     "metadata": {},
     "output_type": "execute_result"
    }
   ],
   "source": [
    "# compute geometric multiplicity\n",
    "\n",
    "# dim E_2 = dim ker(C - 2 * eye(4)) = dim V - dim im (C - 2 * eye(4)) = dim V - (C - 2 * eye(4)).rank()\n",
    "\n",
    "\n",
    "# dim E_2 = dim ker(C - 2 * eye(4))\n",
    "(C - 2 * eye(4)).rank()"
   ]
  },
  {
   "cell_type": "code",
   "execution_count": 23,
   "id": "3eca24f9",
   "metadata": {},
   "outputs": [
    {
     "data": {
      "text/latex": [
       "$\\displaystyle \\left[\\begin{matrix}1 & 0 & 1 & -1\\\\1 & 0 & 1 & -1\\\\-1 & 0 & -1 & 1\\\\0 & 0 & 0 & 0\\end{matrix}\\right]$"
      ],
      "text/plain": [
       "Matrix([\n",
       "[ 1, 0,  1, -1],\n",
       "[ 1, 0,  1, -1],\n",
       "[-1, 0, -1,  1],\n",
       "[ 0, 0,  0,  0]])"
      ]
     },
     "execution_count": 23,
     "metadata": {},
     "output_type": "execute_result"
    }
   ],
   "source": [
    "# g_2 = 4 - 1 = 3\n",
    "# Hence 2 + 1 + 1\n",
    "C - 2 * eye(4)"
   ]
  },
  {
   "cell_type": "code",
   "execution_count": 24,
   "id": "6ee78dc6",
   "metadata": {},
   "outputs": [
    {
     "data": {
      "text/plain": [
       "(Matrix([\n",
       " [ 1, 1, 0, 1],\n",
       " [ 1, 0, 1, 0],\n",
       " [-1, 0, 0, 0],\n",
       " [ 0, 0, 0, 1]]),\n",
       " Matrix([\n",
       " [2, 1, 0, 0],\n",
       " [0, 2, 0, 0],\n",
       " [0, 0, 2, 0],\n",
       " [0, 0, 0, 2]]))"
      ]
     },
     "execution_count": 24,
     "metadata": {},
     "output_type": "execute_result"
    }
   ],
   "source": [
    "C.jordan_form()"
   ]
  },
  {
   "cell_type": "code",
   "execution_count": 25,
   "id": "e9b3a52f",
   "metadata": {},
   "outputs": [
    {
     "data": {
      "text/latex": [
       "$\\displaystyle \\left[\\begin{matrix}2 & 1 & 0 & 0\\\\0 & 2 & 0 & 0\\\\0 & 0 & 2 & 0\\\\0 & 0 & 0 & 2\\end{matrix}\\right]$"
      ],
      "text/plain": [
       "Matrix([\n",
       "[2, 1, 0, 0],\n",
       "[0, 2, 0, 0],\n",
       "[0, 0, 2, 0],\n",
       "[0, 0, 0, 2]])"
      ]
     },
     "execution_count": 25,
     "metadata": {},
     "output_type": "execute_result"
    }
   ],
   "source": [
    "P = Matrix([\n",
    " [ 1, 1, 0, 1],\n",
    " [ 1, 0, 1, 0],\n",
    " [-1, 0, 0, 0],\n",
    " [ 0, 0, 0, 1]])\n",
    "P ** - 1 * C * P"
   ]
  },
  {
   "cell_type": "code",
   "execution_count": 31,
   "id": "32273792",
   "metadata": {},
   "outputs": [
    {
     "data": {
      "text/plain": [
       "{x: t - z}"
      ]
     },
     "execution_count": 31,
     "metadata": {},
     "output_type": "execute_result"
    }
   ],
   "source": [
    "from sympy.abc import a, b, c,d, x, y, z, t\n",
    "from sympy import solve\n",
    "v1 = Matrix([x, y, z, t])\n",
    "v2 = Matrix([a, b, c, d])\n",
    "solve(C * v1 - 2 * v1, [x, y, z, t]) "
   ]
  },
  {
   "cell_type": "code",
   "execution_count": 32,
   "id": "452f176f",
   "metadata": {},
   "outputs": [
    {
     "data": {
      "text/plain": [
       "{a: -c + d - z, x: -z, y: -z, t: 0}"
      ]
     },
     "execution_count": 32,
     "metadata": {},
     "output_type": "execute_result"
    }
   ],
   "source": [
    "solve(C * v2 - (v1 + 2 * v2), [a, b, c, d, x, y, z, t])"
   ]
  },
  {
   "cell_type": "code",
   "execution_count": null,
   "id": "6639b845",
   "metadata": {},
   "outputs": [],
   "source": [
    "T(v2) = C * v2"
   ]
  }
 ],
 "metadata": {
  "kernelspec": {
   "display_name": "Python 3 (ipykernel)",
   "language": "python",
   "name": "python3"
  },
  "language_info": {
   "codemirror_mode": {
    "name": "ipython",
    "version": 3
   },
   "file_extension": ".py",
   "mimetype": "text/x-python",
   "name": "python",
   "nbconvert_exporter": "python",
   "pygments_lexer": "ipython3",
   "version": "3.9.6"
  }
 },
 "nbformat": 4,
 "nbformat_minor": 5
}
