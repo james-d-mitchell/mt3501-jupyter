{
 "cells": [
  {
   "cell_type": "code",
   "execution_count": 5,
   "id": "8297ec59",
   "metadata": {},
   "outputs": [],
   "source": [
    "from sympy import Matrix, factor, eye\n",
    "A = Matrix([[2, 1, 0, -1], [-2, 5, -1, -7], [-12, 16, -4, -15], [-2, 3, -1, -5]])"
   ]
  },
  {
   "cell_type": "code",
   "execution_count": 6,
   "id": "562ce121",
   "metadata": {},
   "outputs": [
    {
     "data": {
      "text/latex": [
       "$\\displaystyle \\left(\\lambda - 2\\right)^{2} \\left(\\lambda + 3\\right)^{2}$"
      ],
      "text/plain": [
       "(lambda - 2)**2*(lambda + 3)**2"
      ]
     },
     "execution_count": 6,
     "metadata": {},
     "output_type": "execute_result"
    }
   ],
   "source": [
    "factor(A.charpoly().as_expr())"
   ]
  },
  {
   "cell_type": "code",
   "execution_count": 8,
   "id": "355c7d34",
   "metadata": {},
   "outputs": [
    {
     "data": {
      "text/latex": [
       "$\\displaystyle \\left[\\begin{matrix}0 & 5 & 0 & -5\\\\10 & -15 & 5 & 10\\\\10 & -25 & 5 & 20\\\\10 & -15 & 5 & 10\\end{matrix}\\right]$"
      ],
      "text/plain": [
       "Matrix([\n",
       "[ 0,   5, 0, -5],\n",
       "[10, -15, 5, 10],\n",
       "[10, -25, 5, 20],\n",
       "[10, -15, 5, 10]])"
      ]
     },
     "execution_count": 8,
     "metadata": {},
     "output_type": "execute_result"
    }
   ],
   "source": [
    "# m_A(x) divide c_A(x) and has the same roots as c_A(x)\n",
    "# m_A(A) = 0-matrix and m_A is the polynomial of min. degree with this property.\n",
    "# 1st choice: (x - 2) * (x + 3) \n",
    "(A - 2 * eye(4)) * (A + 3 * eye(4))"
   ]
  },
  {
   "cell_type": "code",
   "execution_count": 9,
   "id": "8747041a",
   "metadata": {},
   "outputs": [
    {
     "data": {
      "text/latex": [
       "$\\displaystyle \\left[\\begin{matrix}0 & 25 & 0 & -25\\\\0 & 0 & 0 & 0\\\\0 & -50 & 0 & 50\\\\0 & 0 & 0 & 0\\end{matrix}\\right]$"
      ],
      "text/plain": [
       "Matrix([\n",
       "[0,  25, 0, -25],\n",
       "[0,   0, 0,   0],\n",
       "[0, -50, 0,  50],\n",
       "[0,   0, 0,   0]])"
      ]
     },
     "execution_count": 9,
     "metadata": {},
     "output_type": "execute_result"
    }
   ],
   "source": [
    "# Not zero so, the min.poly. is not (x -2)(x+3)\n",
    "# 2nd choice: (x - 2) * (x + 3) **2 or (x - 2) **2 * (x + 3)\n",
    "(A - 2 * eye(4)) * (A + 3 * eye(4)) ** 2"
   ]
  },
  {
   "cell_type": "code",
   "execution_count": 10,
   "id": "28f4f5a8",
   "metadata": {},
   "outputs": [
    {
     "data": {
      "text/latex": [
       "$\\displaystyle \\left[\\begin{matrix}0 & 0 & 0 & 0\\\\-50 & 75 & -25 & -50\\\\-50 & 75 & -25 & -50\\\\-50 & 75 & -25 & -50\\end{matrix}\\right]$"
      ],
      "text/plain": [
       "Matrix([\n",
       "[  0,  0,   0,   0],\n",
       "[-50, 75, -25, -50],\n",
       "[-50, 75, -25, -50],\n",
       "[-50, 75, -25, -50]])"
      ]
     },
     "execution_count": 10,
     "metadata": {},
     "output_type": "execute_result"
    }
   ],
   "source": [
    "(A - 2 * eye(4)) ** 2* (A + 3 * eye(4))"
   ]
  },
  {
   "cell_type": "code",
   "execution_count": 11,
   "id": "5394e484",
   "metadata": {},
   "outputs": [
    {
     "data": {
      "text/latex": [
       "$\\displaystyle \\left[\\begin{matrix}0 & 0 & 0 & 0\\\\0 & 0 & 0 & 0\\\\0 & 0 & 0 & 0\\\\0 & 0 & 0 & 0\\end{matrix}\\right]$"
      ],
      "text/plain": [
       "Matrix([\n",
       "[0, 0, 0, 0],\n",
       "[0, 0, 0, 0],\n",
       "[0, 0, 0, 0],\n",
       "[0, 0, 0, 0]])"
      ]
     },
     "execution_count": 11,
     "metadata": {},
     "output_type": "execute_result"
    }
   ],
   "source": [
    "# conclude: m_T(x) = (x - 2) **2 * (x + 3)  **2\n",
    "# double-check:\n",
    "(A - 2 * eye(4)) ** 2* (A + 3 * eye(4)) ** 2"
   ]
  },
  {
   "cell_type": "code",
   "execution_count": 12,
   "id": "307b5cb9",
   "metadata": {},
   "outputs": [
    {
     "data": {
      "text/latex": [
       "$\\displaystyle \\left(\\lambda - 3\\right) \\left(\\lambda - 2\\right) \\left(\\lambda + 1\\right)$"
      ],
      "text/plain": [
       "(lambda - 3)*(lambda - 2)*(lambda + 1)"
      ]
     },
     "execution_count": 12,
     "metadata": {},
     "output_type": "execute_result"
    }
   ],
   "source": [
    "# Not diagonalisable!\n",
    "A = Matrix([[3, -4, 0], [0, -1, 0], [0, 6, 2]])\n",
    "factor(A.charpoly().as_expr())"
   ]
  },
  {
   "cell_type": "code",
   "execution_count": 13,
   "id": "8953d72e",
   "metadata": {},
   "outputs": [],
   "source": [
    "D = Matrix([[-1, 0, 0],\n",
    "            [0, 2, 0],\n",
    "            [0, 0, 3]])"
   ]
  },
  {
   "cell_type": "code",
   "execution_count": 14,
   "id": "5d8303c6",
   "metadata": {},
   "outputs": [
    {
     "data": {
      "text/plain": [
       "[(-1,\n",
       "  1,\n",
       "  [Matrix([\n",
       "   [-1/2],\n",
       "   [-1/2],\n",
       "   [   1]])]),\n",
       " (2,\n",
       "  1,\n",
       "  [Matrix([\n",
       "   [0],\n",
       "   [0],\n",
       "   [1]])]),\n",
       " (3,\n",
       "  1,\n",
       "  [Matrix([\n",
       "   [1],\n",
       "   [0],\n",
       "   [0]])])]"
      ]
     },
     "execution_count": 14,
     "metadata": {},
     "output_type": "execute_result"
    }
   ],
   "source": [
    "# Compute P such that: P ** - 1 * Mat_B, B(T) * P = P ** - 1 * A * P == D = Mat_{C, C}(T)\n",
    "# P is the change of basis matrix\n",
    "# C consist of eigenvectors for T. \n",
    "A.eigenvects()"
   ]
  },
  {
   "cell_type": "code",
   "execution_count": 15,
   "id": "04755688",
   "metadata": {},
   "outputs": [],
   "source": [
    "P = Matrix([[-1/2, -1/2, 1], [0, 0, 1], [1, 0, 0]]).transpose()"
   ]
  },
  {
   "cell_type": "code",
   "execution_count": 16,
   "id": "ba1730f2",
   "metadata": {},
   "outputs": [
    {
     "data": {
      "text/latex": [
       "$\\displaystyle \\left[\\begin{matrix}-0.5 & 0 & 1\\\\-0.5 & 0 & 0\\\\1 & 1 & 0\\end{matrix}\\right]$"
      ],
      "text/plain": [
       "Matrix([\n",
       "[-0.5, 0, 1],\n",
       "[-0.5, 0, 0],\n",
       "[   1, 1, 0]])"
      ]
     },
     "execution_count": 16,
     "metadata": {},
     "output_type": "execute_result"
    }
   ],
   "source": [
    "P"
   ]
  },
  {
   "cell_type": "code",
   "execution_count": 17,
   "id": "eb5d3420",
   "metadata": {},
   "outputs": [
    {
     "data": {
      "text/latex": [
       "$\\displaystyle \\left[\\begin{matrix}-1.0 & 0 & 0\\\\0 & 2.0 & 0\\\\0 & 0 & 3.0\\end{matrix}\\right]$"
      ],
      "text/plain": [
       "Matrix([\n",
       "[-1.0,   0,   0],\n",
       "[   0, 2.0,   0],\n",
       "[   0,   0, 3.0]])"
      ]
     },
     "execution_count": 17,
     "metadata": {},
     "output_type": "execute_result"
    }
   ],
   "source": [
    "P ** - 1 * A * P"
   ]
  },
  {
   "cell_type": "code",
   "execution_count": 18,
   "id": "00476539",
   "metadata": {},
   "outputs": [
    {
     "data": {
      "text/plain": [
       "3"
      ]
     },
     "execution_count": 18,
     "metadata": {},
     "output_type": "execute_result"
    }
   ],
   "source": [
    "P.rank()"
   ]
  },
  {
   "cell_type": "code",
   "execution_count": 19,
   "id": "9582efbb",
   "metadata": {},
   "outputs": [
    {
     "data": {
      "text/plain": [
       "[(-3,\n",
       "  2,\n",
       "  [Matrix([\n",
       "   [0],\n",
       "   [1],\n",
       "   [1],\n",
       "   [1]])]),\n",
       " (2,\n",
       "  2,\n",
       "  [Matrix([\n",
       "   [-1/2],\n",
       "   [   0],\n",
       "   [   1],\n",
       "   [   0]])])]"
      ]
     },
     "execution_count": 19,
     "metadata": {},
     "output_type": "execute_result"
    }
   ],
   "source": [
    "A = Matrix([[2, 1, 0, -1], [-2, 5, -1, -7], [-12, 16, -4, -15], [-2, 3, -1, -5]])\n",
    "A.eigenvects()"
   ]
  },
  {
   "cell_type": "code",
   "execution_count": null,
   "id": "7d91a3d6",
   "metadata": {},
   "outputs": [],
   "source": []
  }
 ],
 "metadata": {
  "kernelspec": {
   "display_name": "Python 3",
   "language": "python",
   "name": "python3"
  },
  "language_info": {
   "codemirror_mode": {
    "name": "ipython",
    "version": 3
   },
   "file_extension": ".py",
   "mimetype": "text/x-python",
   "name": "python",
   "nbconvert_exporter": "python",
   "pygments_lexer": "ipython3",
   "version": "3.9.8"
  }
 },
 "nbformat": 4,
 "nbformat_minor": 5
}
