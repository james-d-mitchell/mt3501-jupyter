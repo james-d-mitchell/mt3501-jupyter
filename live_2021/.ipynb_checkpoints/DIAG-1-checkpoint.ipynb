{
 "cells": [
  {
   "cell_type": "code",
   "execution_count": 1,
   "id": "6deae53c",
   "metadata": {},
   "outputs": [],
   "source": [
    "from sympy import Matrix, factor\n",
    "B = Matrix([[8, 3, 0], [-18, -7, 0], [-9, -4, 2]])"
   ]
  },
  {
   "cell_type": "code",
   "execution_count": 2,
   "id": "add52ebd",
   "metadata": {},
   "outputs": [
    {
     "data": {
      "text/latex": [
       "$\\displaystyle \\left(\\lambda - 2\\right)^{2} \\left(\\lambda + 1\\right)$"
      ],
      "text/plain": [
       "(lambda - 2)**2*(lambda + 1)"
      ]
     },
     "execution_count": 2,
     "metadata": {},
     "output_type": "execute_result"
    }
   ],
   "source": [
    "factor(B.charpoly().as_expr())"
   ]
  },
  {
   "cell_type": "code",
   "execution_count": 3,
   "id": "2c26d1b1",
   "metadata": {},
   "outputs": [
    {
     "data": {
      "text/latex": [
       "$\\displaystyle \\left[\\begin{matrix}0 & 0 & 0\\\\0 & 0 & 0\\\\-9 & -3 & 0\\end{matrix}\\right]$"
      ],
      "text/plain": [
       "Matrix([\n",
       "[ 0,  0, 0],\n",
       "[ 0,  0, 0],\n",
       "[-9, -3, 0]])"
      ]
     },
     "execution_count": 3,
     "metadata": {},
     "output_type": "execute_result"
    }
   ],
   "source": [
    "# We know that the minimum poly. divides the char. poly. and has the same roots so it has to be: (x - 2)(x + 1) or (x - 2)**2 (x + 1)\n",
    "from sympy import eye\n",
    "(B - 2 * eye(3)) * (B + eye(3))"
   ]
  },
  {
   "cell_type": "code",
   "execution_count": 4,
   "id": "f952b8c7",
   "metadata": {},
   "outputs": [
    {
     "data": {
      "text/latex": [
       "$\\displaystyle \\left[\\begin{matrix}0 & 0 & 0\\\\0 & 0 & 0\\\\0 & 0 & 0\\end{matrix}\\right]$"
      ],
      "text/plain": [
       "Matrix([\n",
       "[0, 0, 0],\n",
       "[0, 0, 0],\n",
       "[0, 0, 0]])"
      ]
     },
     "execution_count": 4,
     "metadata": {},
     "output_type": "execute_result"
    }
   ],
   "source": [
    "(B - 2 * eye(3)) **2  * (B + eye(3))"
   ]
  },
  {
   "cell_type": "code",
   "execution_count": 5,
   "id": "4427d651",
   "metadata": {},
   "outputs": [],
   "source": [
    "# Hence m_B(x) = (x - 2) **2 * (x + 1)"
   ]
  },
  {
   "cell_type": "code",
   "execution_count": 6,
   "id": "00173479",
   "metadata": {},
   "outputs": [],
   "source": [
    "# Therefore B is not diagonalisable."
   ]
  },
  {
   "cell_type": "code",
   "execution_count": 7,
   "id": "c4808b47",
   "metadata": {},
   "outputs": [],
   "source": [
    "A = Matrix([[8, 6, 0], [-9, -7, 0], [3, 3, 2]])"
   ]
  },
  {
   "cell_type": "markdown",
   "id": "3d114460",
   "metadata": {},
   "source": [
    "Is $A$ diagonalisable? And if it is, find the diagonal matrix D such that there exists invertible P where P ** - 1 A P == D"
   ]
  },
  {
   "cell_type": "code",
   "execution_count": 8,
   "id": "b77158ff",
   "metadata": {},
   "outputs": [
    {
     "data": {
      "text/latex": [
       "$\\displaystyle \\left(\\lambda - 2\\right)^{2} \\left(\\lambda + 1\\right)$"
      ],
      "text/plain": [
       "(lambda - 2)**2*(lambda + 1)"
      ]
     },
     "execution_count": 8,
     "metadata": {},
     "output_type": "execute_result"
    }
   ],
   "source": [
    "factor(A.charpoly().as_expr())"
   ]
  },
  {
   "cell_type": "code",
   "execution_count": 9,
   "id": "ae07aefe",
   "metadata": {},
   "outputs": [
    {
     "data": {
      "text/latex": [
       "$\\displaystyle \\left[\\begin{matrix}0 & 0 & 0\\\\0 & 0 & 0\\\\0 & 0 & 0\\end{matrix}\\right]$"
      ],
      "text/plain": [
       "Matrix([\n",
       "[0, 0, 0],\n",
       "[0, 0, 0],\n",
       "[0, 0, 0]])"
      ]
     },
     "execution_count": 9,
     "metadata": {},
     "output_type": "execute_result"
    }
   ],
   "source": [
    "(A - 2 * eye(3)) * (A + eye(3))"
   ]
  },
  {
   "cell_type": "code",
   "execution_count": 10,
   "id": "9318f48e",
   "metadata": {},
   "outputs": [
    {
     "data": {
      "text/latex": [
       "$\\displaystyle \\left[\\begin{matrix}0 & 0 & 0\\\\0 & 0 & 0\\\\0 & 0 & 0\\end{matrix}\\right]$"
      ],
      "text/plain": [
       "Matrix([\n",
       "[0, 0, 0],\n",
       "[0, 0, 0],\n",
       "[0, 0, 0]])"
      ]
     },
     "execution_count": 10,
     "metadata": {},
     "output_type": "execute_result"
    }
   ],
   "source": [
    "# Hence min. poly is (x - 2)(x + 1), which is a product of linear factors and so A is diagonalisable.\n",
    "(A - 2 * eye(3)) ** 2 * (A + eye(3))"
   ]
  },
  {
   "cell_type": "code",
   "execution_count": 11,
   "id": "2c100bd6",
   "metadata": {},
   "outputs": [],
   "source": [
    "# Hence D is : \n",
    "D = Matrix([[-1, 0, 0], [0, 2, 0], [0, 0, 2]])"
   ]
  },
  {
   "cell_type": "code",
   "execution_count": 18,
   "id": "5b224620",
   "metadata": {},
   "outputs": [
    {
     "data": {
      "text/plain": [
       "{x: 2*z, y: -3*z}"
      ]
     },
     "execution_count": 18,
     "metadata": {},
     "output_type": "execute_result"
    }
   ],
   "source": [
    "from sympy.abc import x, y, z, a, b, c\n",
    "from sympy import solve\n",
    "v1 = Matrix([x, y, z])\n",
    "solve(A * v1 + v1, [x, y, z])"
   ]
  },
  {
   "cell_type": "code",
   "execution_count": 21,
   "id": "61d1a0c2",
   "metadata": {},
   "outputs": [
    {
     "data": {
      "text/plain": [
       "True"
      ]
     },
     "execution_count": 21,
     "metadata": {},
     "output_type": "execute_result"
    }
   ],
   "source": [
    "# Set z = 1, gives \n",
    "v1 = Matrix([2, -3, 1])\n",
    "A *v1 == -1 * v1"
   ]
  },
  {
   "cell_type": "code",
   "execution_count": 23,
   "id": "2596a23a",
   "metadata": {},
   "outputs": [
    {
     "data": {
      "text/plain": [
       "{x: -y}"
      ]
     },
     "execution_count": 23,
     "metadata": {},
     "output_type": "execute_result"
    }
   ],
   "source": [
    "v2 = Matrix([x, y, z])\n",
    "solve(A * v2 - 2*v2, [x, y, z])"
   ]
  },
  {
   "cell_type": "code",
   "execution_count": 24,
   "id": "99da8dbe",
   "metadata": {},
   "outputs": [],
   "source": [
    "\n",
    "# so i.e set y = 1, z = 0 & y = 0, z = 1\n",
    "v2 = Matrix([-1, 1, 0])\n",
    "v3 = Matrix([0, 0, 1])\n"
   ]
  },
  {
   "cell_type": "code",
   "execution_count": 25,
   "id": "5c223cbf",
   "metadata": {},
   "outputs": [
    {
     "data": {
      "text/plain": [
       "{a: 0, b: 0, c: 0}"
      ]
     },
     "execution_count": 25,
     "metadata": {},
     "output_type": "execute_result"
    }
   ],
   "source": [
    "# Double check:\n",
    "solve(a * v1 + b * v2 + c * v3, [a, b, c])"
   ]
  },
  {
   "cell_type": "code",
   "execution_count": 26,
   "id": "3f831aff",
   "metadata": {},
   "outputs": [],
   "source": [
    "# So, linearly independent\n",
    "# Compute P = Mat_{C, B}(id)\n",
    "P = Matrix([[2, -1, 0], [-3, 1, 0], [1, 0, 1]])"
   ]
  },
  {
   "cell_type": "code",
   "execution_count": 27,
   "id": "2541dbbe",
   "metadata": {},
   "outputs": [
    {
     "data": {
      "text/latex": [
       "$\\displaystyle \\left[\\begin{matrix}-1 & 0 & 0\\\\0 & 2 & 0\\\\0 & 0 & 2\\end{matrix}\\right]$"
      ],
      "text/plain": [
       "Matrix([\n",
       "[-1, 0, 0],\n",
       "[ 0, 2, 0],\n",
       "[ 0, 0, 2]])"
      ]
     },
     "execution_count": 27,
     "metadata": {},
     "output_type": "execute_result"
    }
   ],
   "source": [
    "P ** - 1 * A * P"
   ]
  },
  {
   "cell_type": "code",
   "execution_count": null,
   "id": "9beb20ef",
   "metadata": {},
   "outputs": [],
   "source": [
    "# Nice"
   ]
  }
 ],
 "metadata": {
  "kernelspec": {
   "display_name": "Python 3",
   "language": "python",
   "name": "python3"
  },
  "language_info": {
   "codemirror_mode": {
    "name": "ipython",
    "version": 3
   },
   "file_extension": ".py",
   "mimetype": "text/x-python",
   "name": "python",
   "nbconvert_exporter": "python",
   "pygments_lexer": "ipython3",
   "version": "3.9.8"
  }
 },
 "nbformat": 4,
 "nbformat_minor": 5
}
