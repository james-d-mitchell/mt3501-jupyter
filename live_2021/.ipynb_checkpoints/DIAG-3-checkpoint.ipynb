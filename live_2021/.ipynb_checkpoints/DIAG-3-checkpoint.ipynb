{
 "cells": [
  {
   "cell_type": "code",
   "execution_count": 9,
   "id": "31f2b89c",
   "metadata": {},
   "outputs": [],
   "source": [
    "from sympy import Matrix, factor, eye"
   ]
  },
  {
   "cell_type": "code",
   "execution_count": 10,
   "id": "a3e50532",
   "metadata": {},
   "outputs": [],
   "source": [
    "A = Matrix([[2, 1, 0, -1], [-2, 5, -1, -7], [-12, 16, -4, -15], [-2, 3, -1, -5]])"
   ]
  },
  {
   "cell_type": "code",
   "execution_count": 11,
   "id": "0fc1d02b",
   "metadata": {},
   "outputs": [
    {
     "data": {
      "text/latex": [
       "$\\displaystyle \\left(\\lambda - 2\\right)^{2} \\left(\\lambda + 3\\right)^{2}$"
      ],
      "text/plain": [
       "(lambda - 2)**2*(lambda + 3)**2"
      ]
     },
     "execution_count": 11,
     "metadata": {},
     "output_type": "execute_result"
    }
   ],
   "source": [
    "factor(A.charpoly().as_expr())"
   ]
  },
  {
   "cell_type": "code",
   "execution_count": 12,
   "id": "2e1fc494",
   "metadata": {},
   "outputs": [
    {
     "data": {
      "text/latex": [
       "$\\displaystyle \\left[\\begin{matrix}1 & 0 & 0 & 0\\\\0 & 1 & 0 & 0\\\\0 & 0 & 1 & 0\\\\0 & 0 & 0 & 1\\end{matrix}\\right]$"
      ],
      "text/plain": [
       "Matrix([\n",
       "[1, 0, 0, 0],\n",
       "[0, 1, 0, 0],\n",
       "[0, 0, 1, 0],\n",
       "[0, 0, 0, 1]])"
      ]
     },
     "execution_count": 12,
     "metadata": {},
     "output_type": "execute_result"
    }
   ],
   "source": [
    "eye(4)"
   ]
  },
  {
   "cell_type": "code",
   "execution_count": 13,
   "id": "04984c3c",
   "metadata": {},
   "outputs": [
    {
     "data": {
      "text/latex": [
       "$\\displaystyle \\left[\\begin{matrix}0 & 5 & 0 & -5\\\\10 & -15 & 5 & 10\\\\10 & -25 & 5 & 20\\\\10 & -15 & 5 & 10\\end{matrix}\\right]$"
      ],
      "text/plain": [
       "Matrix([\n",
       "[ 0,   5, 0, -5],\n",
       "[10, -15, 5, 10],\n",
       "[10, -25, 5, 20],\n",
       "[10, -15, 5, 10]])"
      ]
     },
     "execution_count": 13,
     "metadata": {},
     "output_type": "execute_result"
    }
   ],
   "source": [
    "# To check if A is diagonalisable, we find the min. poly.\n",
    "# m_T(x) has the same roots as c_T(x) and divides c_T(x)\n",
    "# (x - 2)^ i (x + 3) ^ j, for some 2 >= i, j > 0\n",
    "# (x - 2)(x + 3), (x - 2) **2 (x + 3), (x - 2) (x + 3) ** 2, c_T(x)\n",
    " # Cayley-Hamilton impies (A - 2I) ** 2 * (A + 3I) ** 2 = 0-matrix\n",
    "# m_T(x) is the least poly. such that m_T(T) = 0-map, m_A(A) = 0-matrix.\n",
    "(A - 2 * eye(4))*(A + 3 * eye(4))\n"
   ]
  },
  {
   "cell_type": "code",
   "execution_count": 14,
   "id": "24474699",
   "metadata": {},
   "outputs": [
    {
     "data": {
      "text/latex": [
       "$\\displaystyle \\left[\\begin{matrix}0 & 0 & 0 & 0\\\\-50 & 75 & -25 & -50\\\\-50 & 75 & -25 & -50\\\\-50 & 75 & -25 & -50\\end{matrix}\\right]$"
      ],
      "text/plain": [
       "Matrix([\n",
       "[  0,  0,   0,   0],\n",
       "[-50, 75, -25, -50],\n",
       "[-50, 75, -25, -50],\n",
       "[-50, 75, -25, -50]])"
      ]
     },
     "execution_count": 14,
     "metadata": {},
     "output_type": "execute_result"
    }
   ],
   "source": [
    "# m_T(x) != (x - 2)(x + 3) => A and T are not diagonalisable.\n",
    "# T is diagonalisable <=> m_T(x) is a product of distinct linear factors.\n",
    "(A - 2 * eye(4)) ** 2*(A + 3 * eye(4))"
   ]
  },
  {
   "cell_type": "code",
   "execution_count": 15,
   "id": "9edc154a",
   "metadata": {},
   "outputs": [
    {
     "data": {
      "text/latex": [
       "$\\displaystyle \\left[\\begin{matrix}0 & 25 & 0 & -25\\\\0 & 0 & 0 & 0\\\\0 & -50 & 0 & 50\\\\0 & 0 & 0 & 0\\end{matrix}\\right]$"
      ],
      "text/plain": [
       "Matrix([\n",
       "[0,  25, 0, -25],\n",
       "[0,   0, 0,   0],\n",
       "[0, -50, 0,  50],\n",
       "[0,   0, 0,   0]])"
      ]
     },
     "execution_count": 15,
     "metadata": {},
     "output_type": "execute_result"
    }
   ],
   "source": [
    "(A - 2 * eye(4)) *(A + 3 * eye(4))**2"
   ]
  },
  {
   "cell_type": "code",
   "execution_count": 16,
   "id": "caf4005b",
   "metadata": {},
   "outputs": [
    {
     "data": {
      "text/latex": [
       "$\\displaystyle \\left[\\begin{matrix}0 & 0 & 0 & 0\\\\0 & 0 & 0 & 0\\\\0 & 0 & 0 & 0\\\\0 & 0 & 0 & 0\\end{matrix}\\right]$"
      ],
      "text/plain": [
       "Matrix([\n",
       "[0, 0, 0, 0],\n",
       "[0, 0, 0, 0],\n",
       "[0, 0, 0, 0],\n",
       "[0, 0, 0, 0]])"
      ]
     },
     "execution_count": 16,
     "metadata": {},
     "output_type": "execute_result"
    }
   ],
   "source": [
    "# hence m_T(x) = c_T(x)\n",
    "(A - 2 * eye(4))**2 *(A + 3 * eye(4))**2\n"
   ]
  },
  {
   "cell_type": "code",
   "execution_count": 17,
   "id": "55cc3830",
   "metadata": {},
   "outputs": [],
   "source": [
    "A = Matrix([[3, 4, 4], [1, 3, 0], [-2, -4, -1]])"
   ]
  },
  {
   "cell_type": "code",
   "execution_count": 18,
   "id": "1d7e31bb",
   "metadata": {},
   "outputs": [
    {
     "data": {
      "text/latex": [
       "$\\displaystyle \\left(\\lambda - 3\\right) \\left(\\lambda - 1\\right)^{2}$"
      ],
      "text/plain": [
       "(lambda - 3)*(lambda - 1)**2"
      ]
     },
     "execution_count": 18,
     "metadata": {},
     "output_type": "execute_result"
    }
   ],
   "source": [
    "factor(A.charpoly().as_expr())"
   ]
  },
  {
   "cell_type": "code",
   "execution_count": 19,
   "id": "9b74ad66",
   "metadata": {},
   "outputs": [
    {
     "data": {
      "text/latex": [
       "$\\displaystyle \\left[\\begin{matrix}-4 & -8 & -8\\\\2 & 4 & 4\\\\0 & 0 & 0\\end{matrix}\\right]$"
      ],
      "text/plain": [
       "Matrix([\n",
       "[-4, -8, -8],\n",
       "[ 2,  4,  4],\n",
       "[ 0,  0,  0]])"
      ]
     },
     "execution_count": 19,
     "metadata": {},
     "output_type": "execute_result"
    }
   ],
   "source": [
    "# eigenvalue of A are 3 and 1.\n",
    "# (x - 3)(x -1) = m_A(x) => A is diagonalisable\n",
    "(A - 3 * eye(3)) * (A - eye(3))"
   ]
  },
  {
   "cell_type": "code",
   "execution_count": 20,
   "id": "f9e41a11",
   "metadata": {},
   "outputs": [],
   "source": [
    "# not diagonalisable. "
   ]
  },
  {
   "cell_type": "code",
   "execution_count": 21,
   "id": "40797e24",
   "metadata": {},
   "outputs": [],
   "source": [
    "A = Matrix([[3, -4, -0], [0, -1, 0], [0, 6, 2]])"
   ]
  },
  {
   "cell_type": "code",
   "execution_count": 22,
   "id": "9ba505af",
   "metadata": {},
   "outputs": [
    {
     "data": {
      "text/latex": [
       "$\\displaystyle \\left(\\lambda - 3\\right) \\left(\\lambda - 2\\right) \\left(\\lambda + 1\\right)$"
      ],
      "text/plain": [
       "(lambda - 3)*(lambda - 2)*(lambda + 1)"
      ]
     },
     "execution_count": 22,
     "metadata": {},
     "output_type": "execute_result"
    }
   ],
   "source": [
    "factor(A.charpoly().as_expr())\n"
   ]
  },
  {
   "cell_type": "code",
   "execution_count": 23,
   "id": "73840327",
   "metadata": {},
   "outputs": [],
   "source": [
    "D = Matrix([[3, 0, 0], [0, 2, 0], [0, 0, -1]])"
   ]
  },
  {
   "cell_type": "code",
   "execution_count": 24,
   "id": "162e14b8",
   "metadata": {},
   "outputs": [
    {
     "data": {
      "text/latex": [
       "$\\displaystyle \\left[\\begin{matrix}3 & 0 & 0\\\\0 & 2 & 0\\\\0 & 0 & -1\\end{matrix}\\right]$"
      ],
      "text/plain": [
       "Matrix([\n",
       "[3, 0,  0],\n",
       "[0, 2,  0],\n",
       "[0, 0, -1]])"
      ]
     },
     "execution_count": 24,
     "metadata": {},
     "output_type": "execute_result"
    }
   ],
   "source": [
    "D"
   ]
  },
  {
   "cell_type": "code",
   "execution_count": 27,
   "id": "0deee731",
   "metadata": {},
   "outputs": [
    {
     "data": {
      "text/plain": [
       "{y: 0, z: 0}"
      ]
     },
     "execution_count": 27,
     "metadata": {},
     "output_type": "execute_result"
    }
   ],
   "source": [
    "# Find P such that P ** - 1 * A * P = D? \n",
    "# A = Mat_{B, B}(T) # B standard basis\n",
    "# D = Mat_{C, C}(T) # C is some basis?\n",
    "# P = Mat_{C, B}(id) # change of basis matrix?\n",
    "# C = {v1, v2, v3}\n",
    "# T(v1) = 3v1 + 0v2 + 0v3 = 3v1 \n",
    "# T(v2) = 0v1 + 2v2 + 0v3 = 2v2\n",
    "# T(v3) = 0v1 + 0v2 + -1v3 = -v3\n",
    "# v1, v2, v3 are eigenvectors for the eigenvalues 3, 2, and -1:\n",
    "from sympy.abc import a, b, c, x, y, z\n",
    "from sympy import solve\n",
    "v1 = Matrix([x, y, z])\n",
    "solve(A * v1 - 3 * v1, [x, y, z])\n"
   ]
  },
  {
   "cell_type": "code",
   "execution_count": 28,
   "id": "4ad40860",
   "metadata": {},
   "outputs": [
    {
     "data": {
      "text/plain": [
       "{x: 0, y: 0}"
      ]
     },
     "execution_count": 28,
     "metadata": {},
     "output_type": "execute_result"
    }
   ],
   "source": [
    "v1 = Matrix([42, 0, 0])\n",
    "v2 = Matrix([x, y, z])\n",
    "solve(A * v2 - 2 * v2, [x, y, z])"
   ]
  },
  {
   "cell_type": "code",
   "execution_count": 29,
   "id": "d8d8f2f7",
   "metadata": {},
   "outputs": [],
   "source": [
    "v2 = Matrix([0, 0, 42])"
   ]
  },
  {
   "cell_type": "code",
   "execution_count": 30,
   "id": "959ec18e",
   "metadata": {},
   "outputs": [
    {
     "data": {
      "text/plain": [
       "{x: -z/2, y: -z/2}"
      ]
     },
     "execution_count": 30,
     "metadata": {},
     "output_type": "execute_result"
    }
   ],
   "source": [
    "v3 = Matrix([x, y, z])\n",
    "solve(A * v3 +  v3, [x, y, z])"
   ]
  },
  {
   "cell_type": "code",
   "execution_count": 31,
   "id": "cec01306",
   "metadata": {},
   "outputs": [],
   "source": [
    "v3 = Matrix([-1, -1, 2])"
   ]
  },
  {
   "cell_type": "code",
   "execution_count": 32,
   "id": "93f3804d",
   "metadata": {},
   "outputs": [
    {
     "data": {
      "text/plain": [
       "{a: 0, b: 0, c: 0}"
      ]
     },
     "execution_count": 32,
     "metadata": {},
     "output_type": "execute_result"
    }
   ],
   "source": [
    "solve(a * v1 + b * v2 + c * v3, [a, b, c])"
   ]
  },
  {
   "cell_type": "code",
   "execution_count": 33,
   "id": "fde1922b",
   "metadata": {},
   "outputs": [
    {
     "data": {
      "text/plain": [
       "True"
      ]
     },
     "execution_count": 33,
     "metadata": {},
     "output_type": "execute_result"
    }
   ],
   "source": [
    "A * v1 == 3 * v1"
   ]
  },
  {
   "cell_type": "code",
   "execution_count": 34,
   "id": "d7e7fca7",
   "metadata": {},
   "outputs": [
    {
     "data": {
      "text/plain": [
       "True"
      ]
     },
     "execution_count": 34,
     "metadata": {},
     "output_type": "execute_result"
    }
   ],
   "source": [
    "A * v2 == 2 * v2"
   ]
  },
  {
   "cell_type": "code",
   "execution_count": 35,
   "id": "2055e8fd",
   "metadata": {},
   "outputs": [
    {
     "data": {
      "text/plain": [
       "True"
      ]
     },
     "execution_count": 35,
     "metadata": {},
     "output_type": "execute_result"
    }
   ],
   "source": [
    "A * v3 == -1 * v3"
   ]
  },
  {
   "cell_type": "code",
   "execution_count": 36,
   "id": "6cfc8c81",
   "metadata": {},
   "outputs": [],
   "source": [
    "P = Matrix([[42, 0, 0], [0, 0, 42], [-1, -1, 2]]).transpose()"
   ]
  },
  {
   "cell_type": "code",
   "execution_count": 37,
   "id": "ae929ffb",
   "metadata": {},
   "outputs": [
    {
     "data": {
      "text/latex": [
       "$\\displaystyle \\left[\\begin{matrix}42 & 0 & -1\\\\0 & 0 & -1\\\\0 & 42 & 2\\end{matrix}\\right]$"
      ],
      "text/plain": [
       "Matrix([\n",
       "[42,  0, -1],\n",
       "[ 0,  0, -1],\n",
       "[ 0, 42,  2]])"
      ]
     },
     "execution_count": 37,
     "metadata": {},
     "output_type": "execute_result"
    }
   ],
   "source": [
    "P"
   ]
  },
  {
   "cell_type": "code",
   "execution_count": 38,
   "id": "844cf85e",
   "metadata": {},
   "outputs": [
    {
     "data": {
      "text/latex": [
       "$\\displaystyle \\left[\\begin{matrix}3 & 0 & 0\\\\0 & 2 & 0\\\\0 & 0 & -1\\end{matrix}\\right]$"
      ],
      "text/plain": [
       "Matrix([\n",
       "[3, 0,  0],\n",
       "[0, 2,  0],\n",
       "[0, 0, -1]])"
      ]
     },
     "execution_count": 38,
     "metadata": {},
     "output_type": "execute_result"
    }
   ],
   "source": [
    "P ** -1 * A * P"
   ]
  },
  {
   "cell_type": "code",
   "execution_count": 41,
   "id": "28d5d697",
   "metadata": {},
   "outputs": [],
   "source": [
    "P = Matrix([[2, 0, 0], [0, 0, 2], [-1, -1, 2]]).transpose()"
   ]
  },
  {
   "cell_type": "code",
   "execution_count": 42,
   "id": "5dc19577",
   "metadata": {},
   "outputs": [
    {
     "data": {
      "text/latex": [
       "$\\displaystyle \\left[\\begin{matrix}3 & 0 & 0\\\\0 & 2 & 0\\\\0 & 0 & -1\\end{matrix}\\right]$"
      ],
      "text/plain": [
       "Matrix([\n",
       "[3, 0,  0],\n",
       "[0, 2,  0],\n",
       "[0, 0, -1]])"
      ]
     },
     "execution_count": 42,
     "metadata": {},
     "output_type": "execute_result"
    }
   ],
   "source": [
    "P ** -1 * A * P"
   ]
  },
  {
   "cell_type": "code",
   "execution_count": null,
   "id": "e46e8755",
   "metadata": {},
   "outputs": [],
   "source": []
  }
 ],
 "metadata": {
  "kernelspec": {
   "display_name": "Python 3",
   "language": "python",
   "name": "python3"
  },
  "language_info": {
   "codemirror_mode": {
    "name": "ipython",
    "version": 3
   },
   "file_extension": ".py",
   "mimetype": "text/x-python",
   "name": "python",
   "nbconvert_exporter": "python",
   "pygments_lexer": "ipython3",
   "version": "3.9.8"
  }
 },
 "nbformat": 4,
 "nbformat_minor": 5
}
