{
 "cells": [
  {
   "cell_type": "code",
   "execution_count": 1,
   "id": "e7bc40cd",
   "metadata": {},
   "outputs": [],
   "source": [
    "from sympy import Matrix\n",
    "v1, v2, v3, v4 = Matrix([2, 0, 2, 0]), Matrix([0, 1, -1, 0]), Matrix([0, 0, 1, 0]), Matrix([3, 0, 0, 1])"
   ]
  },
  {
   "cell_type": "code",
   "execution_count": 4,
   "id": "95e47175",
   "metadata": {},
   "outputs": [],
   "source": [
    "from sympy.abc import a, b, c, d\n",
    "from sympy import solve"
   ]
  },
  {
   "cell_type": "code",
   "execution_count": 6,
   "id": "8ca2b84a",
   "metadata": {},
   "outputs": [
    {
     "data": {
      "text/plain": [
       "{a: -2, b: 0, c: 8, d: 2}"
      ]
     },
     "execution_count": 6,
     "metadata": {},
     "output_type": "execute_result"
    }
   ],
   "source": [
    "solve(a * v1 + b * v2 + c * v3 + d * v4 - Matrix([2, 0, 4, 2]), [a, b, c, d])"
   ]
  },
  {
   "cell_type": "code",
   "execution_count": 7,
   "id": "73f9e281",
   "metadata": {},
   "outputs": [],
   "source": [
    "def T(x, y, z, t):\n",
    "    return Matrix([x + 4 * y, y, 2 * z + t, z + 2 * t])"
   ]
  },
  {
   "cell_type": "code",
   "execution_count": 9,
   "id": "b2dc75d7",
   "metadata": {},
   "outputs": [
    {
     "data": {
      "text/latex": [
       "$\\displaystyle \\left[\\begin{matrix}2\\\\0\\\\4\\\\2\\end{matrix}\\right]$"
      ],
      "text/plain": [
       "Matrix([\n",
       "[2],\n",
       "[0],\n",
       "[4],\n",
       "[2]])"
      ]
     },
     "execution_count": 9,
     "metadata": {},
     "output_type": "execute_result"
    }
   ],
   "source": [
    "T(*v1)"
   ]
  },
  {
   "cell_type": "code",
   "execution_count": 10,
   "id": "bc1228ff",
   "metadata": {},
   "outputs": [
    {
     "data": {
      "text/plain": [
       "{a: 7/2, b: 1, c: -8, d: -1}"
      ]
     },
     "execution_count": 10,
     "metadata": {},
     "output_type": "execute_result"
    }
   ],
   "source": [
    "solve(a * v1 + b * v2 + c * v3 + d * v4 - T(*v2), [a, b, c, d])"
   ]
  },
  {
   "cell_type": "code",
   "execution_count": 11,
   "id": "8f7af6bd",
   "metadata": {},
   "outputs": [
    {
     "data": {
      "text/plain": [
       "{a: -3/2, b: 0, c: 5, d: 1}"
      ]
     },
     "execution_count": 11,
     "metadata": {},
     "output_type": "execute_result"
    }
   ],
   "source": [
    "solve(a * v1 + b * v2 + c * v3 + d * v4 - T(*v3), [a, b, c, d])"
   ]
  },
  {
   "cell_type": "code",
   "execution_count": 12,
   "id": "9300da34",
   "metadata": {},
   "outputs": [
    {
     "data": {
      "text/plain": [
       "{a: -3/2, b: 0, c: 4, d: 2}"
      ]
     },
     "execution_count": 12,
     "metadata": {},
     "output_type": "execute_result"
    }
   ],
   "source": [
    "solve(a * v1 + b * v2 + c * v3 + d * v4 - T(*v4), [a, b, c, d])"
   ]
  },
  {
   "cell_type": "code",
   "execution_count": 14,
   "id": "d9343466",
   "metadata": {},
   "outputs": [],
   "source": [
    "A = Matrix([[1, 4, 0, 0], [0, 1, 0, 0], [0, 0, 2, 1], [0, 0, 1, 2]]) # Mat_B, B(T)\n",
    "B = 0.5 * Matrix([[-4, 7, -3, -3], [0, 2, 0, 0], [16, -16, 10, 8], [4, -2, 2, 4]]) # Mat_C,C(T)\n",
    "P = Matrix([[2, 0, 0, 3], [0, 1, 0, 0], [2, -1, 1, 0], [0, 0, 0, 1]])"
   ]
  },
  {
   "cell_type": "code",
   "execution_count": 16,
   "id": "28758a98",
   "metadata": {},
   "outputs": [
    {
     "data": {
      "text/plain": [
       "True"
      ]
     },
     "execution_count": 16,
     "metadata": {},
     "output_type": "execute_result"
    }
   ],
   "source": [
    "P ** -1 * A * P == B"
   ]
  },
  {
   "cell_type": "code",
   "execution_count": 17,
   "id": "3a1ab375",
   "metadata": {},
   "outputs": [
    {
     "data": {
      "text/plain": [
       "True"
      ]
     },
     "execution_count": 17,
     "metadata": {},
     "output_type": "execute_result"
    }
   ],
   "source": [
    "P * B * P ** -1 == A"
   ]
  }
 ],
 "metadata": {
  "kernelspec": {
   "display_name": "Python 3",
   "language": "python",
   "name": "python3"
  },
  "language_info": {
   "codemirror_mode": {
    "name": "ipython",
    "version": 3
   },
   "file_extension": ".py",
   "mimetype": "text/x-python",
   "name": "python",
   "nbconvert_exporter": "python",
   "pygments_lexer": "ipython3",
   "version": "3.9.8"
  }
 },
 "nbformat": 4,
 "nbformat_minor": 5
}
