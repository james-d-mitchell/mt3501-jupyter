{
 "cells": [
  {
   "cell_type": "code",
   "execution_count": 1,
   "id": "175513f3",
   "metadata": {},
   "outputs": [],
   "source": [
    "from sympy import Matrix, pi"
   ]
  },
  {
   "cell_type": "code",
   "execution_count": 2,
   "id": "04b5dc8e",
   "metadata": {},
   "outputs": [
    {
     "data": {
      "text/latex": [
       "$\\displaystyle \\pi$"
      ],
      "text/plain": [
       "pi"
      ]
     },
     "execution_count": 2,
     "metadata": {},
     "output_type": "execute_result"
    }
   ],
   "source": [
    "pi"
   ]
  },
  {
   "cell_type": "code",
   "execution_count": 3,
   "id": "c882093f",
   "metadata": {},
   "outputs": [
    {
     "data": {
      "text/plain": [
       "{x: -z, y: 0}"
      ]
     },
     "execution_count": 3,
     "metadata": {},
     "output_type": "execute_result"
    }
   ],
   "source": [
    "A = Matrix([[4, pi, 4], [3, 2, 3], [6, 3, 6]])\n",
    "from sympy.abc import x, y, z\n",
    "from sympy import solve\n",
    "v = Matrix([x, y, z])\n",
    "solve(A * v, [x, y, z])"
   ]
  }
 ],
 "metadata": {
  "kernelspec": {
   "display_name": "Python 3",
   "language": "python",
   "name": "python3"
  },
  "language_info": {
   "codemirror_mode": {
    "name": "ipython",
    "version": 3
   },
   "file_extension": ".py",
   "mimetype": "text/x-python",
   "name": "python",
   "nbconvert_exporter": "python",
   "pygments_lexer": "ipython3",
   "version": "3.9.8"
  }
 },
 "nbformat": 4,
 "nbformat_minor": 5
}
