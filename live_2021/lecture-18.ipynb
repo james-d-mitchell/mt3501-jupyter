{
 "cells": [
  {
   "cell_type": "code",
   "execution_count": 6,
   "id": "b4e36b77",
   "metadata": {},
   "outputs": [],
   "source": [
    "from sympy import Matrix, factor, eye\n",
    "A = Matrix([[8, 6, 0], \n",
    "            [-9, -7, 0], \n",
    "            [3, 3, 2]])"
   ]
  },
  {
   "cell_type": "code",
   "execution_count": 7,
   "id": "0e58ba77",
   "metadata": {},
   "outputs": [
    {
     "data": {
      "text/latex": [
       "$\\displaystyle \\left(\\lambda - 2\\right)^{2} \\left(\\lambda + 1\\right)$"
      ],
      "text/plain": [
       "(lambda - 2)**2*(lambda + 1)"
      ]
     },
     "execution_count": 7,
     "metadata": {},
     "output_type": "execute_result"
    }
   ],
   "source": [
    "factor(A.charpoly().as_expr())"
   ]
  },
  {
   "cell_type": "code",
   "execution_count": 8,
   "id": "57f1ffa8",
   "metadata": {},
   "outputs": [
    {
     "data": {
      "text/latex": [
       "$\\displaystyle \\left[\\begin{matrix}0 & 0 & 0\\\\0 & 0 & 0\\\\0 & 0 & 0\\end{matrix}\\right]$"
      ],
      "text/plain": [
       "Matrix([\n",
       "[0, 0, 0],\n",
       "[0, 0, 0],\n",
       "[0, 0, 0]])"
      ]
     },
     "execution_count": 8,
     "metadata": {},
     "output_type": "execute_result"
    }
   ],
   "source": [
    "# m_A(x) = (x - 2) * (x + 1) or (x - 2) **2 * (x + 1)\n",
    "# m_A(A) = 0\n",
    "(A - 2*eye(3))  * (A + eye(3))"
   ]
  },
  {
   "cell_type": "code",
   "execution_count": 9,
   "id": "4278f7ba",
   "metadata": {},
   "outputs": [],
   "source": [
    "# m_A(x) = (x - 2) * (x + 1)\n",
    "D = Matrix([[-1, 0, 0], [0, 2, 0], [0, 0, 2]])"
   ]
  },
  {
   "cell_type": "markdown",
   "id": "041d8081",
   "metadata": {},
   "source": [
    "WTF: a matrix P such that P ** -1 * A * P = D\n",
    "P is just the change of basis matrix\n",
    "A = matrix of T with respect to the standard basis for R ^ 3\n",
    "D = matrix of T with respect to C basis for R ^ 3?\n",
    "\n"
   ]
  },
  {
   "cell_type": "code",
   "execution_count": 12,
   "id": "61ea5820",
   "metadata": {},
   "outputs": [],
   "source": [
    "from sympy.abc import x, y, z, a, b, c\n",
    "from sympy import solve"
   ]
  },
  {
   "cell_type": "code",
   "execution_count": 13,
   "id": "ac4f24cb",
   "metadata": {},
   "outputs": [],
   "source": [
    "v1 = Matrix([x, y, z])"
   ]
  },
  {
   "cell_type": "code",
   "execution_count": 16,
   "id": "0c12ad91",
   "metadata": {},
   "outputs": [
    {
     "data": {
      "text/plain": [
       "{x: 2*z, y: -3*z}"
      ]
     },
     "execution_count": 16,
     "metadata": {},
     "output_type": "execute_result"
    }
   ],
   "source": [
    "solve(A * v1 + v1, [x, y, z])"
   ]
  },
  {
   "cell_type": "code",
   "execution_count": 17,
   "id": "bca6d530",
   "metadata": {},
   "outputs": [],
   "source": [
    "v1 = Matrix([2, -3, 1]) # z = 1\n",
    "v2 = Matrix([x, y, z])"
   ]
  },
  {
   "cell_type": "code",
   "execution_count": 18,
   "id": "4d51386f",
   "metadata": {},
   "outputs": [
    {
     "data": {
      "text/plain": [
       "{x: -y}"
      ]
     },
     "execution_count": 18,
     "metadata": {},
     "output_type": "execute_result"
    }
   ],
   "source": [
    "solve(A * v2 - 2 * v2, [x, y, z])"
   ]
  },
  {
   "cell_type": "code",
   "execution_count": 19,
   "id": "68d06bd4",
   "metadata": {},
   "outputs": [],
   "source": [
    "v2, v3 = Matrix([-1, 1, 0]), Matrix([0, 0, 1]) # (z = 0, y = 1) + (z=1, y = 0)"
   ]
  },
  {
   "cell_type": "code",
   "execution_count": 20,
   "id": "faa90ec2",
   "metadata": {},
   "outputs": [
    {
     "data": {
      "text/plain": [
       "{a: 0, b: 0, c: 0}"
      ]
     },
     "execution_count": 20,
     "metadata": {},
     "output_type": "execute_result"
    }
   ],
   "source": [
    "solve(a * v1 + b *v2 + c * v3, [a, b, c])"
   ]
  },
  {
   "cell_type": "code",
   "execution_count": 21,
   "id": "9025dc15",
   "metadata": {},
   "outputs": [
    {
     "data": {
      "text/plain": [
       "True"
      ]
     },
     "execution_count": 21,
     "metadata": {},
     "output_type": "execute_result"
    }
   ],
   "source": [
    "A * v1 == -1 * v1"
   ]
  },
  {
   "cell_type": "code",
   "execution_count": 22,
   "id": "abd70e02",
   "metadata": {},
   "outputs": [
    {
     "data": {
      "text/plain": [
       "True"
      ]
     },
     "execution_count": 22,
     "metadata": {},
     "output_type": "execute_result"
    }
   ],
   "source": [
    "A * v2 == 2 * v2"
   ]
  },
  {
   "cell_type": "code",
   "execution_count": 23,
   "id": "2323440b",
   "metadata": {},
   "outputs": [
    {
     "data": {
      "text/plain": [
       "True"
      ]
     },
     "execution_count": 23,
     "metadata": {},
     "output_type": "execute_result"
    }
   ],
   "source": [
    "A * v3 == 2 * v3"
   ]
  },
  {
   "cell_type": "code",
   "execution_count": 24,
   "id": "35a0bed6",
   "metadata": {},
   "outputs": [],
   "source": [
    "# P= Mat_{C, B}(id)\n",
    "P = Matrix([[2, -3, 1], [-1, 1, 0], [0, 0, 1]]).transpose()"
   ]
  },
  {
   "cell_type": "code",
   "execution_count": 25,
   "id": "ea191490",
   "metadata": {},
   "outputs": [
    {
     "data": {
      "text/latex": [
       "$\\displaystyle \\left[\\begin{matrix}2 & -1 & 0\\\\-3 & 1 & 0\\\\1 & 0 & 1\\end{matrix}\\right]$"
      ],
      "text/plain": [
       "Matrix([\n",
       "[ 2, -1, 0],\n",
       "[-3,  1, 0],\n",
       "[ 1,  0, 1]])"
      ]
     },
     "execution_count": 25,
     "metadata": {},
     "output_type": "execute_result"
    }
   ],
   "source": [
    "P"
   ]
  },
  {
   "cell_type": "code",
   "execution_count": 26,
   "id": "cf40d6a8",
   "metadata": {},
   "outputs": [
    {
     "data": {
      "text/latex": [
       "$\\displaystyle \\left[\\begin{matrix}-1 & 0 & 0\\\\0 & 2 & 0\\\\0 & 0 & 2\\end{matrix}\\right]$"
      ],
      "text/plain": [
       "Matrix([\n",
       "[-1, 0, 0],\n",
       "[ 0, 2, 0],\n",
       "[ 0, 0, 2]])"
      ]
     },
     "execution_count": 26,
     "metadata": {},
     "output_type": "execute_result"
    }
   ],
   "source": [
    "P ** -1 * A * P "
   ]
  },
  {
   "cell_type": "code",
   "execution_count": 43,
   "id": "6393ef13",
   "metadata": {},
   "outputs": [],
   "source": [
    "from sympy import fraction\n",
    "v1 = Matrix([2 * 26, -3 * 26, 26]) # z = 26 = Fraction(26, 10)"
   ]
  },
  {
   "cell_type": "code",
   "execution_count": 44,
   "id": "6fc380bc",
   "metadata": {},
   "outputs": [],
   "source": [
    "v2 = Matrix([-42, 42, 666]) # y = 42, z = 666\n",
    "v3 = Matrix([-42, 42, 0]) # y = 42, z = 0"
   ]
  },
  {
   "cell_type": "code",
   "execution_count": 45,
   "id": "744910c1",
   "metadata": {},
   "outputs": [
    {
     "data": {
      "text/plain": [
       "{a: 0, b: 0, c: 0}"
      ]
     },
     "execution_count": 45,
     "metadata": {},
     "output_type": "execute_result"
    }
   ],
   "source": [
    "solve(a * v1 + b * v2 + c * v3, [a, b, c])"
   ]
  },
  {
   "cell_type": "code",
   "execution_count": 46,
   "id": "7bff3c51",
   "metadata": {},
   "outputs": [
    {
     "data": {
      "text/plain": [
       "True"
      ]
     },
     "execution_count": 46,
     "metadata": {},
     "output_type": "execute_result"
    }
   ],
   "source": [
    "A * v1 == -v1"
   ]
  },
  {
   "cell_type": "code",
   "execution_count": 47,
   "id": "84969283",
   "metadata": {},
   "outputs": [
    {
     "data": {
      "text/latex": [
       "$\\displaystyle \\left[\\begin{matrix}-52\\\\78\\\\-26\\end{matrix}\\right]$"
      ],
      "text/plain": [
       "Matrix([\n",
       "[-52],\n",
       "[ 78],\n",
       "[-26]])"
      ]
     },
     "execution_count": 47,
     "metadata": {},
     "output_type": "execute_result"
    }
   ],
   "source": [
    "A * v1"
   ]
  },
  {
   "cell_type": "code",
   "execution_count": 48,
   "id": "a33059b2",
   "metadata": {},
   "outputs": [
    {
     "data": {
      "text/latex": [
       "$\\displaystyle \\left[\\begin{matrix}-52\\\\78\\\\-26\\end{matrix}\\right]$"
      ],
      "text/plain": [
       "Matrix([\n",
       "[-52],\n",
       "[ 78],\n",
       "[-26]])"
      ]
     },
     "execution_count": 48,
     "metadata": {},
     "output_type": "execute_result"
    }
   ],
   "source": [
    "-v1"
   ]
  },
  {
   "cell_type": "code",
   "execution_count": 49,
   "id": "be576ca7",
   "metadata": {},
   "outputs": [
    {
     "data": {
      "text/plain": [
       "True"
      ]
     },
     "execution_count": 49,
     "metadata": {},
     "output_type": "execute_result"
    }
   ],
   "source": [
    "A * v2 == 2 * v2"
   ]
  },
  {
   "cell_type": "code",
   "execution_count": 50,
   "id": "c35ca11b",
   "metadata": {},
   "outputs": [
    {
     "data": {
      "text/plain": [
       "True"
      ]
     },
     "execution_count": 50,
     "metadata": {},
     "output_type": "execute_result"
    }
   ],
   "source": [
    "A * v3 == 2 * v3"
   ]
  },
  {
   "cell_type": "code",
   "execution_count": 55,
   "id": "6235bbc7",
   "metadata": {},
   "outputs": [],
   "source": [
    "P = Matrix([[2 * 26, -3 * 26, 26], [-42, 42, 666], [-42, 42, 0]]).transpose()"
   ]
  },
  {
   "cell_type": "code",
   "execution_count": 56,
   "id": "7e334db8",
   "metadata": {},
   "outputs": [
    {
     "data": {
      "text/latex": [
       "$\\displaystyle \\left[\\begin{matrix}52 & -42 & -42\\\\-78 & 42 & 42\\\\26 & 666 & 0\\end{matrix}\\right]$"
      ],
      "text/plain": [
       "Matrix([\n",
       "[ 52, -42, -42],\n",
       "[-78,  42,  42],\n",
       "[ 26, 666,   0]])"
      ]
     },
     "execution_count": 56,
     "metadata": {},
     "output_type": "execute_result"
    }
   ],
   "source": [
    "P"
   ]
  },
  {
   "cell_type": "code",
   "execution_count": 57,
   "id": "42467866",
   "metadata": {},
   "outputs": [
    {
     "data": {
      "text/latex": [
       "$\\displaystyle \\left[\\begin{matrix}-1 & 0 & 0\\\\0 & 2 & 0\\\\0 & 0 & 2\\end{matrix}\\right]$"
      ],
      "text/plain": [
       "Matrix([\n",
       "[-1, 0, 0],\n",
       "[ 0, 2, 0],\n",
       "[ 0, 0, 2]])"
      ]
     },
     "execution_count": 57,
     "metadata": {},
     "output_type": "execute_result"
    }
   ],
   "source": [
    "P ** - 1 * A * P "
   ]
  },
  {
   "cell_type": "markdown",
   "id": "52b99f3a",
   "metadata": {},
   "source": [
    "Example 9.5B"
   ]
  },
  {
   "cell_type": "code",
   "execution_count": 58,
   "id": "beb60418",
   "metadata": {},
   "outputs": [],
   "source": [
    "A = Matrix([[0, -2, -1], [1, 5, 3], [-1, -2, 0]])"
   ]
  },
  {
   "cell_type": "code",
   "execution_count": 60,
   "id": "49ad4dcd",
   "metadata": {},
   "outputs": [
    {
     "data": {
      "text/latex": [
       "$\\displaystyle \\left(\\lambda - 3\\right) \\left(\\lambda - 1\\right)^{2}$"
      ],
      "text/plain": [
       "(lambda - 3)*(lambda - 1)**2"
      ]
     },
     "execution_count": 60,
     "metadata": {},
     "output_type": "execute_result"
    }
   ],
   "source": [
    "factor(A.charpoly().as_expr())"
   ]
  },
  {
   "cell_type": "code",
   "execution_count": 62,
   "id": "ba1f1ad2",
   "metadata": {},
   "outputs": [
    {
     "data": {
      "text/latex": [
       "$\\displaystyle \\left[\\begin{matrix}2 & 0 & -2\\\\-2 & 0 & 2\\\\2 & 0 & -2\\end{matrix}\\right]$"
      ],
      "text/plain": [
       "Matrix([\n",
       "[ 2, 0, -2],\n",
       "[-2, 0,  2],\n",
       "[ 2, 0, -2]])"
      ]
     },
     "execution_count": 62,
     "metadata": {},
     "output_type": "execute_result"
    }
   ],
   "source": [
    "# m_A(x) = (x - 3)(x - 1) or (x - 3)(x - 1) ** 2\n",
    "# m_A(A) = zero matrix\n",
    "(A - 3 * eye(3))*(A - eye(3)) # (A - 3I) (A - I)"
   ]
  },
  {
   "cell_type": "code",
   "execution_count": 63,
   "id": "acd9b565",
   "metadata": {},
   "outputs": [
    {
     "data": {
      "text/latex": [
       "$\\displaystyle \\left[\\begin{matrix}0 & 0 & 0\\\\0 & 0 & 0\\\\0 & 0 & 0\\end{matrix}\\right]$"
      ],
      "text/plain": [
       "Matrix([\n",
       "[0, 0, 0],\n",
       "[0, 0, 0],\n",
       "[0, 0, 0]])"
      ]
     },
     "execution_count": 63,
     "metadata": {},
     "output_type": "execute_result"
    }
   ],
   "source": [
    "# Hence m_A(x) = c_A(x)\n",
    "(A - 3 * eye(3))*(A - eye(3)) ** 2"
   ]
  },
  {
   "cell_type": "code",
   "execution_count": 64,
   "id": "3ff5a73e",
   "metadata": {},
   "outputs": [
    {
     "data": {
      "text/latex": [
       "$\\displaystyle \\left[\\begin{matrix}1 & 0 & 0\\\\0 & 1 & 0\\\\0 & 0 & 1\\end{matrix}\\right]$"
      ],
      "text/plain": [
       "Matrix([\n",
       "[1, 0, 0],\n",
       "[0, 1, 0],\n",
       "[0, 0, 1]])"
      ]
     },
     "execution_count": 64,
     "metadata": {},
     "output_type": "execute_result"
    }
   ],
   "source": [
    "# Is A diagonalisable?\n",
    "# No! \n",
    "eye(3)"
   ]
  },
  {
   "cell_type": "code",
   "execution_count": null,
   "id": "382f9dc7",
   "metadata": {},
   "outputs": [],
   "source": [
    "{p : p(T) = 0} is non-empty"
   ]
  }
 ],
 "metadata": {
  "kernelspec": {
   "display_name": "Python 3",
   "language": "python",
   "name": "python3"
  },
  "language_info": {
   "codemirror_mode": {
    "name": "ipython",
    "version": 3
   },
   "file_extension": ".py",
   "mimetype": "text/x-python",
   "name": "python",
   "nbconvert_exporter": "python",
   "pygments_lexer": "ipython3",
   "version": "3.9.8"
  }
 },
 "nbformat": 4,
 "nbformat_minor": 5
}
