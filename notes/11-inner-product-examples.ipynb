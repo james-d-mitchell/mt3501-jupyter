{
 "cells": [
  {
   "cell_type": "markdown",
   "metadata": {},
   "source": [
    "# Section 11 (Inner products)"
   ]
  },
  {
   "cell_type": "markdown",
   "metadata": {},
   "source": [
    "## Example 11.4.7"
   ]
  },
  {
   "cell_type": "markdown",
   "metadata": {},
   "source": [
    "Consider $\\mathbb{R}^{3}$ with the usual inner product. Find an orthonormal\n",
    "basis for the subspace $U$ spanned by the vectors\n",
    "\n",
    "$$\n",
    " \\vec{v}_{1}\n",
    " =\n",
    " \\begin{pmatrix}\n",
    " 1 \\\\\n",
    " 0 \\\\\n",
    " -1 \\\\\n",
    " \\end{pmatrix}\n",
    " \\qquad \\text{and} \\qquad\n",
    " \\vec{v}_{2}\n",
    " =\n",
    " \\begin{pmatrix}\n",
    " 2 \\\\\n",
    " 3 \\\\\n",
    " 1 \\\\\n",
    " \\end{pmatrix}.\n",
    "$$"
   ]
  },
  {
   "cell_type": "markdown",
   "metadata": {},
   "source": [
    "## Solution to Example 11.4.7"
   ]
  },
  {
   "cell_type": "code",
   "execution_count": 1,
   "metadata": {},
   "outputs": [],
   "source": [
    "from sympy import sqrt\n",
    "from sympy import Matrix\n",
    "import numpy\n",
    "def dot(x, y):\n",
    "    \"A wee function that allows us to compute the inner product of two of sympy's vectors\"\n",
    "    return numpy.dot(list(x), list(y))\n",
    "def norm(x):\n",
    "    \"A wee function that allows us to compute the norm of a sympy vector\"\n",
    "    return sqrt(dot(list(x), list(x)))"
   ]
  },
  {
   "cell_type": "code",
   "execution_count": 2,
   "metadata": {},
   "outputs": [
    {
     "data": {
      "text/latex": [
       "$\\displaystyle \\sqrt{2}$"
      ],
      "text/plain": [
       "sqrt(2)"
      ]
     },
     "execution_count": 2,
     "metadata": {},
     "output_type": "execute_result"
    }
   ],
   "source": [
    "v1, v2 = Matrix([1, 0, -1]), Matrix([2, 3, 1])\n",
    "norm(v1)"
   ]
  },
  {
   "cell_type": "code",
   "execution_count": 3,
   "metadata": {},
   "outputs": [
    {
     "data": {
      "text/latex": [
       "$\\displaystyle \\left[\\begin{matrix}\\frac{\\sqrt{2}}{2}\\\\0\\\\- \\frac{\\sqrt{2}}{2}\\end{matrix}\\right]$"
      ],
      "text/plain": [
       "Matrix([\n",
       "[ sqrt(2)/2],\n",
       "[         0],\n",
       "[-sqrt(2)/2]])"
      ]
     },
     "execution_count": 3,
     "metadata": {},
     "output_type": "execute_result"
    }
   ],
   "source": [
    "e1 = (1 / sqrt(2)) * Matrix([1, 0, -1])\n",
    "e1"
   ]
  },
  {
   "cell_type": "code",
   "execution_count": 4,
   "metadata": {},
   "outputs": [
    {
     "data": {
      "text/latex": [
       "$\\displaystyle \\left[\\begin{matrix}\\frac{3}{2}\\\\3\\\\\\frac{3}{2}\\end{matrix}\\right]$"
      ],
      "text/plain": [
       "Matrix([\n",
       "[3/2],\n",
       "[  3],\n",
       "[3/2]])"
      ]
     },
     "execution_count": 4,
     "metadata": {},
     "output_type": "execute_result"
    }
   ],
   "source": [
    "w2 = v2 - dot(v2, e1) * e1\n",
    "w2"
   ]
  },
  {
   "cell_type": "code",
   "execution_count": 5,
   "metadata": {},
   "outputs": [
    {
     "data": {
      "text/latex": [
       "$\\displaystyle \\left[\\begin{matrix}\\frac{\\sqrt{6}}{6}\\\\\\frac{\\sqrt{6}}{3}\\\\\\frac{\\sqrt{6}}{6}\\end{matrix}\\right]$"
      ],
      "text/plain": [
       "Matrix([\n",
       "[sqrt(6)/6],\n",
       "[sqrt(6)/3],\n",
       "[sqrt(6)/6]])"
      ]
     },
     "execution_count": 5,
     "metadata": {},
     "output_type": "execute_result"
    }
   ],
   "source": [
    "e2 = (1 / sqrt(dot(list(w2), list(w2)))) * w2\n",
    "e2"
   ]
  },
  {
   "cell_type": "markdown",
   "metadata": {},
   "source": [
    "Hence \n",
    "$$\n",
    "e_1 = \\frac{\\sqrt{2}}{2} \\begin{pmatrix} 1 \\\\ 0 \\\\ 1\\end{pmatrix}, \\qquad\n",
    "e_2 = \\frac{\\sqrt{6}}{6} \\begin{pmatrix} 1 \\\\ 2 \\\\ 1\\end{pmatrix}\n",
    "$$\n",
    "is an orthonormal basis for the space spanned by $\\vec{v}_1$ and $\\vec{v}_2$. "
   ]
  },
  {
   "cell_type": "code",
   "execution_count": 6,
   "metadata": {},
   "outputs": [
    {
     "data": {
      "text/plain": [
       "(1, 1)"
      ]
     },
     "execution_count": 6,
     "metadata": {},
     "output_type": "execute_result"
    }
   ],
   "source": [
    "norm(e1), norm(e2)"
   ]
  },
  {
   "cell_type": "code",
   "execution_count": 7,
   "metadata": {},
   "outputs": [
    {
     "data": {
      "text/latex": [
       "$\\displaystyle 0$"
      ],
      "text/plain": [
       "0"
      ]
     },
     "execution_count": 7,
     "metadata": {},
     "output_type": "execute_result"
    }
   ],
   "source": [
    "dot(e1, e2)"
   ]
  },
  {
   "cell_type": "markdown",
   "metadata": {},
   "source": [
    "## Example 11.4.8 (Laguerre polynomials)"
   ]
  },
  {
   "cell_type": "markdown",
   "metadata": {},
   "source": [
    "We can define an inner product on the space $\\mathcal{P}$ of real\n",
    "polynomials $f(x)$ by\n",
    "$$\n",
    "\\langle f,g \\rangle = \\int\\_{0}^{\\infty} f(x)g(x)\\mathrm{e}^{-x} \\,\n",
    "\\text{d}x.\n",
    "$$\n",
    "The _Laguerre polynomials_ form the orthonormal basis\n",
    "for $\\mathcal{P}$ that is produced when we apply the Gram-Schmidt\n",
    "process to the standard basis\n",
    "$$\n",
    "\\{ 1, x, x^{2}, x^{3}, \\dots \\}\n",
    "$$\n",
    "of monomials.\n",
    "\n",
    "Determine the first three Laguerre polynomials."
   ]
  },
  {
   "cell_type": "markdown",
   "metadata": {},
   "source": [
    "## Solution to Example 11.4.8"
   ]
  },
  {
   "cell_type": "code",
   "execution_count": 8,
   "metadata": {},
   "outputs": [],
   "source": [
    "from sympy import integrate, oo, exp, sqrt\n",
    "from sympy.abc import x"
   ]
  },
  {
   "cell_type": "markdown",
   "metadata": {},
   "source": [
    "Let's first test the assertion that $$\\int_{0}^{\\infty} x^{n}\\mathrm{e}^{-x} \\, \\text{d} x = n!$$"
   ]
  },
  {
   "cell_type": "code",
   "execution_count": 9,
   "metadata": {},
   "outputs": [
    {
     "data": {
      "text/latex": [
       "$\\displaystyle 1$"
      ],
      "text/plain": [
       "1"
      ]
     },
     "execution_count": 9,
     "metadata": {},
     "output_type": "execute_result"
    }
   ],
   "source": [
    "integrate(x ** 1 * exp(-x), (x, 0, oo))"
   ]
  },
  {
   "cell_type": "code",
   "execution_count": 10,
   "metadata": {},
   "outputs": [
    {
     "data": {
      "text/latex": [
       "$\\displaystyle 2$"
      ],
      "text/plain": [
       "2"
      ]
     },
     "execution_count": 10,
     "metadata": {},
     "output_type": "execute_result"
    }
   ],
   "source": [
    "integrate(x ** 2 * exp(-x), (x, 0, oo))"
   ]
  },
  {
   "cell_type": "code",
   "execution_count": 11,
   "metadata": {},
   "outputs": [
    {
     "data": {
      "text/latex": [
       "$\\displaystyle 6$"
      ],
      "text/plain": [
       "6"
      ]
     },
     "execution_count": 11,
     "metadata": {},
     "output_type": "execute_result"
    }
   ],
   "source": [
    "integrate(x ** 3 * exp(-x), (x, 0, oo))"
   ]
  },
  {
   "cell_type": "code",
   "execution_count": 12,
   "metadata": {},
   "outputs": [
    {
     "data": {
      "text/latex": [
       "$\\displaystyle 24$"
      ],
      "text/plain": [
       "24"
      ]
     },
     "execution_count": 12,
     "metadata": {},
     "output_type": "execute_result"
    }
   ],
   "source": [
    "integrate(x ** 4 * exp(-x), (x, 0, oo))"
   ]
  },
  {
   "cell_type": "markdown",
   "metadata": {},
   "source": [
    "We define a couple of python functions to compute the inner product and the norm, so that we don't have to type so much."
   ]
  },
  {
   "cell_type": "code",
   "execution_count": 13,
   "metadata": {},
   "outputs": [],
   "source": [
    "def laguerre_inner_product(p, q): \n",
    "    'A function for computing the inner product define in the question.'\n",
    "    return integrate(p * q * exp(-x), (x, 0, oo))\n",
    "def laguerre_norm(p): \n",
    "    'A function for computing the norm of a polynomial.'\n",
    "    return sqrt(laguerre_inner_product(p, p))"
   ]
  },
  {
   "cell_type": "markdown",
   "metadata": {},
   "source": [
    "Next we perform the Gram-Schmidt process:"
   ]
  },
  {
   "cell_type": "code",
   "execution_count": 14,
   "metadata": {},
   "outputs": [
    {
     "data": {
      "text/latex": [
       "$\\displaystyle 1$"
      ],
      "text/plain": [
       "1"
      ]
     },
     "execution_count": 14,
     "metadata": {},
     "output_type": "execute_result"
    }
   ],
   "source": [
    "laguerre_norm(1)"
   ]
  },
  {
   "cell_type": "code",
   "execution_count": 15,
   "metadata": {},
   "outputs": [
    {
     "data": {
      "text/latex": [
       "$\\displaystyle 1$"
      ],
      "text/plain": [
       "1"
      ]
     },
     "execution_count": 15,
     "metadata": {},
     "output_type": "execute_result"
    }
   ],
   "source": [
    "L0 = 1 / laguerre_norm(1) * 1\n",
    "L0"
   ]
  },
  {
   "cell_type": "code",
   "execution_count": 16,
   "metadata": {},
   "outputs": [
    {
     "data": {
      "text/latex": [
       "$\\displaystyle x - 1$"
      ],
      "text/plain": [
       "x - 1"
      ]
     },
     "execution_count": 16,
     "metadata": {},
     "output_type": "execute_result"
    }
   ],
   "source": [
    "w1 = x - laguerre_inner_product(x, L0) * L0\n",
    "w1"
   ]
  },
  {
   "cell_type": "code",
   "execution_count": 17,
   "metadata": {},
   "outputs": [
    {
     "data": {
      "text/latex": [
       "$\\displaystyle x - 1$"
      ],
      "text/plain": [
       "x - 1"
      ]
     },
     "execution_count": 17,
     "metadata": {},
     "output_type": "execute_result"
    }
   ],
   "source": [
    "L1 = 1 / laguerre_norm(w1) * w1\n",
    "L1"
   ]
  },
  {
   "cell_type": "code",
   "execution_count": 18,
   "metadata": {},
   "outputs": [
    {
     "data": {
      "text/latex": [
       "$\\displaystyle x^{2} - 4 x + 2$"
      ],
      "text/plain": [
       "x**2 - 4*x + 2"
      ]
     },
     "execution_count": 18,
     "metadata": {},
     "output_type": "execute_result"
    }
   ],
   "source": [
    "w2 = x ** 2 - laguerre_inner_product(x ** 2, L0) * L0 - laguerre_inner_product(x ** 2, L1) * L1\n",
    "w2"
   ]
  },
  {
   "cell_type": "code",
   "execution_count": 19,
   "metadata": {},
   "outputs": [
    {
     "data": {
      "text/latex": [
       "$\\displaystyle \\frac{x^{2}}{2} - 2 x + 1$"
      ],
      "text/plain": [
       "x**2/2 - 2*x + 1"
      ]
     },
     "execution_count": 19,
     "metadata": {},
     "output_type": "execute_result"
    }
   ],
   "source": [
    "L2 = 1 / laguerre_norm(w2) * w2\n",
    "L2"
   ]
  },
  {
   "cell_type": "code",
   "execution_count": 20,
   "metadata": {},
   "outputs": [
    {
     "data": {
      "text/latex": [
       "$\\displaystyle \\frac{x^{3}}{6} - \\frac{3 x^{2}}{2} + 3 x - 1$"
      ],
      "text/plain": [
       "x**3/6 - 3*x**2/2 + 3*x - 1"
      ]
     },
     "execution_count": 20,
     "metadata": {},
     "output_type": "execute_result"
    }
   ],
   "source": [
    "w3 = x ** 3 - (laguerre_inner_product(x ** 3, L0) * L0 + laguerre_inner_product(x ** 3, L1) * L1 + laguerre_inner_product(x ** 3, L2) * L2)\n",
    "L3 = 1 / laguerre_norm(w3) * w3\n",
    "L3"
   ]
  },
  {
   "cell_type": "code",
   "execution_count": 21,
   "metadata": {},
   "outputs": [
    {
     "data": {
      "text/latex": [
       "$\\displaystyle \\frac{\\sqrt{6} \\left(x^{4} - 16 x^{3} + 72 x^{2} - 96 x + 24\\right)}{12}$"
      ],
      "text/plain": [
       "sqrt(6)*(x**4 - 16*x**3 + 72*x**2 - 96*x + 24)/12"
      ]
     },
     "execution_count": 21,
     "metadata": {},
     "output_type": "execute_result"
    }
   ],
   "source": [
    "w4 = x ** 4 - (laguerre_inner_product(x ** 4, L0) * L0 + laguerre_inner_product(x ** 4, L1) * L1 + laguerre_inner_product(x ** 4, L2) * L2 + laguerre_inner_product(x ** 4, L3) * L3)\n",
    "L4 = 1 / sqrt(laguerre_norm(w4)) * w4\n",
    "L4"
   ]
  },
  {
   "cell_type": "markdown",
   "metadata": {},
   "source": [
    "Let's double-check that $L_0$, $L_1$, $L_2$, $L_3$ and $L_4$ are orthonormal:"
   ]
  },
  {
   "cell_type": "code",
   "execution_count": 22,
   "metadata": {},
   "outputs": [
    {
     "data": {
      "text/latex": [
       "$\\displaystyle 1$"
      ],
      "text/plain": [
       "1"
      ]
     },
     "execution_count": 22,
     "metadata": {},
     "output_type": "execute_result"
    }
   ],
   "source": [
    "laguerre_norm(L0)"
   ]
  },
  {
   "cell_type": "code",
   "execution_count": 23,
   "metadata": {},
   "outputs": [
    {
     "data": {
      "text/latex": [
       "$\\displaystyle 1$"
      ],
      "text/plain": [
       "1"
      ]
     },
     "execution_count": 23,
     "metadata": {},
     "output_type": "execute_result"
    }
   ],
   "source": [
    "laguerre_norm(L1)"
   ]
  },
  {
   "cell_type": "code",
   "execution_count": 24,
   "metadata": {},
   "outputs": [
    {
     "data": {
      "text/latex": [
       "$\\displaystyle 1$"
      ],
      "text/plain": [
       "1"
      ]
     },
     "execution_count": 24,
     "metadata": {},
     "output_type": "execute_result"
    }
   ],
   "source": [
    "laguerre_norm(L2)"
   ]
  },
  {
   "cell_type": "code",
   "execution_count": 25,
   "metadata": {},
   "outputs": [
    {
     "data": {
      "text/latex": [
       "$\\displaystyle 1$"
      ],
      "text/plain": [
       "1"
      ]
     },
     "execution_count": 25,
     "metadata": {},
     "output_type": "execute_result"
    }
   ],
   "source": [
    "laguerre_norm(L3)"
   ]
  },
  {
   "cell_type": "code",
   "execution_count": 26,
   "metadata": {},
   "outputs": [
    {
     "data": {
      "text/latex": [
       "$\\displaystyle 2 \\sqrt{6}$"
      ],
      "text/plain": [
       "2*sqrt(6)"
      ]
     },
     "execution_count": 26,
     "metadata": {},
     "output_type": "execute_result"
    }
   ],
   "source": [
    "laguerre_norm(L4)"
   ]
  },
  {
   "cell_type": "code",
   "execution_count": 27,
   "metadata": {},
   "outputs": [
    {
     "data": {
      "text/plain": [
       "(0, 0, 0, 0, 0, 0)"
      ]
     },
     "execution_count": 27,
     "metadata": {},
     "output_type": "execute_result"
    }
   ],
   "source": [
    "laguerre_inner_product(L0, L1), laguerre_inner_product(L0, L2), laguerre_inner_product(L0, L3), laguerre_inner_product(L0, L4), laguerre_inner_product(L1, L2), laguerre_inner_product(L1, L3)"
   ]
  },
  {
   "cell_type": "markdown",
   "metadata": {},
   "source": [
    "## Example 11.4.9 (Legendre polynomials)"
   ]
  },
  {
   "cell_type": "code",
   "execution_count": 28,
   "metadata": {},
   "outputs": [],
   "source": [
    "from sympy import integrate\n",
    "from sympy.abc import x\n",
    "def legendre_inner_product(p, q):\n",
    "    return integrate(p * q, (x, -1, 1))\n",
    "def legendre_norm(p):\n",
    "    return legendre_inner_product(p, p)"
   ]
  },
  {
   "cell_type": "code",
   "execution_count": 29,
   "metadata": {},
   "outputs": [
    {
     "data": {
      "text/latex": [
       "$\\displaystyle \\frac{\\sqrt{2}}{2}$"
      ],
      "text/plain": [
       "sqrt(2)/2"
      ]
     },
     "execution_count": 29,
     "metadata": {},
     "output_type": "execute_result"
    }
   ],
   "source": [
    "L0 = 1 / sqrt(legendre_norm(1)) * 1\n",
    "L0"
   ]
  },
  {
   "cell_type": "code",
   "execution_count": 30,
   "metadata": {},
   "outputs": [
    {
     "data": {
      "text/latex": [
       "$\\displaystyle \\frac{\\sqrt{6} x}{2}$"
      ],
      "text/plain": [
       "sqrt(6)*x/2"
      ]
     },
     "execution_count": 30,
     "metadata": {},
     "output_type": "execute_result"
    }
   ],
   "source": [
    "w1 = x - legendre_inner_product(x, L0) * L0\n",
    "L1 = 1 / sqrt(legendre_norm(w1)) * w1\n",
    "L1"
   ]
  },
  {
   "cell_type": "code",
   "execution_count": 31,
   "metadata": {},
   "outputs": [
    {
     "data": {
      "text/latex": [
       "$\\displaystyle \\frac{3 \\sqrt{10} \\left(x^{2} - \\frac{1}{3}\\right)}{4}$"
      ],
      "text/plain": [
       "3*sqrt(10)*(x**2 - 1/3)/4"
      ]
     },
     "execution_count": 31,
     "metadata": {},
     "output_type": "execute_result"
    }
   ],
   "source": [
    "w2 = x ** 2 - legendre_inner_product(x ** 2, L0) * L0 - legendre_inner_product(x ** 2, L1) * L1\n",
    "L2 = 1 / sqrt(legendre_norm(w2)) * w2\n",
    "L2"
   ]
  },
  {
   "cell_type": "code",
   "execution_count": 32,
   "metadata": {},
   "outputs": [
    {
     "data": {
      "text/latex": [
       "$\\displaystyle \\frac{5 \\sqrt{14} \\left(x^{3} - \\frac{3 x}{5}\\right)}{4}$"
      ],
      "text/plain": [
       "5*sqrt(14)*(x**3 - 3*x/5)/4"
      ]
     },
     "execution_count": 32,
     "metadata": {},
     "output_type": "execute_result"
    }
   ],
   "source": [
    "w3 = x ** 3 - legendre_inner_product(x ** 3, L0) * L0 - legendre_inner_product(x ** 3, L1) * L1 - legendre_inner_product(x ** 3, L2) * L2\n",
    "L3 = 1 / sqrt(legendre_inner_product(w3, w3)) * w3\n",
    "L3"
   ]
  },
  {
   "cell_type": "code",
   "execution_count": 33,
   "metadata": {},
   "outputs": [],
   "source": [
    "P0, P1, P2 = 1, x, 1/2 * (3 * x ** 2 - 1)"
   ]
  },
  {
   "cell_type": "code",
   "execution_count": 34,
   "metadata": {},
   "outputs": [
    {
     "data": {
      "text/latex": [
       "$\\displaystyle 0$"
      ],
      "text/plain": [
       "0"
      ]
     },
     "execution_count": 34,
     "metadata": {},
     "output_type": "execute_result"
    }
   ],
   "source": [
    "legendre_inner_product(P0, P1)"
   ]
  },
  {
   "cell_type": "code",
   "execution_count": 35,
   "metadata": {},
   "outputs": [
    {
     "data": {
      "text/latex": [
       "$\\displaystyle 0$"
      ],
      "text/plain": [
       "0"
      ]
     },
     "execution_count": 35,
     "metadata": {},
     "output_type": "execute_result"
    }
   ],
   "source": [
    "legendre_inner_product(P1, P2)"
   ]
  },
  {
   "cell_type": "code",
   "execution_count": 36,
   "metadata": {},
   "outputs": [
    {
     "data": {
      "text/latex": [
       "$\\displaystyle 0$"
      ],
      "text/plain": [
       "0"
      ]
     },
     "execution_count": 36,
     "metadata": {},
     "output_type": "execute_result"
    }
   ],
   "source": [
    "legendre_inner_product(P0, P2)"
   ]
  },
  {
   "cell_type": "code",
   "execution_count": 37,
   "metadata": {},
   "outputs": [
    {
     "data": {
      "text/latex": [
       "$\\displaystyle 0$"
      ],
      "text/plain": [
       "0"
      ]
     },
     "execution_count": 37,
     "metadata": {},
     "output_type": "execute_result"
    }
   ],
   "source": [
    "legendre_inner_product(L0, L1)"
   ]
  },
  {
   "cell_type": "code",
   "execution_count": 38,
   "metadata": {},
   "outputs": [
    {
     "data": {
      "text/latex": [
       "$\\displaystyle 1$"
      ],
      "text/plain": [
       "1"
      ]
     },
     "execution_count": 38,
     "metadata": {},
     "output_type": "execute_result"
    }
   ],
   "source": [
    "legendre_norm(L0)"
   ]
  },
  {
   "cell_type": "code",
   "execution_count": 39,
   "metadata": {},
   "outputs": [
    {
     "data": {
      "text/latex": [
       "$\\displaystyle 1$"
      ],
      "text/plain": [
       "1"
      ]
     },
     "execution_count": 39,
     "metadata": {},
     "output_type": "execute_result"
    }
   ],
   "source": [
    "legendre_norm(L1)"
   ]
  },
  {
   "cell_type": "code",
   "execution_count": 40,
   "metadata": {},
   "outputs": [
    {
     "data": {
      "text/latex": [
       "$\\displaystyle 1$"
      ],
      "text/plain": [
       "1"
      ]
     },
     "execution_count": 40,
     "metadata": {},
     "output_type": "execute_result"
    }
   ],
   "source": [
    "legendre_norm(L2)"
   ]
  },
  {
   "cell_type": "code",
   "execution_count": 41,
   "metadata": {},
   "outputs": [
    {
     "data": {
      "text/latex": [
       "$\\displaystyle 1$"
      ],
      "text/plain": [
       "1"
      ]
     },
     "execution_count": 41,
     "metadata": {},
     "output_type": "execute_result"
    }
   ],
   "source": [
    "legendre_norm(L3)"
   ]
  },
  {
   "cell_type": "markdown",
   "metadata": {},
   "source": [
    "## Example 11.4.10 (Hermite polynomials)"
   ]
  },
  {
   "cell_type": "code",
   "execution_count": 42,
   "metadata": {},
   "outputs": [],
   "source": [
    "from sympy import integrate\n",
    "from sympy.abc import x\n",
    "def hermite_inner_product(p, q):\n",
    "    return integrate(p * q * exp(-x ** 2 / 2), (x, -oo, oo))\n",
    "def hermite_norm(p):\n",
    "    return hermite_inner_product(p, p)"
   ]
  },
  {
   "cell_type": "code",
   "execution_count": 43,
   "metadata": {},
   "outputs": [
    {
     "data": {
      "text/latex": [
       "$\\displaystyle \\frac{2^{\\frac{3}{4}}}{2 \\sqrt[4]{\\pi}}$"
      ],
      "text/plain": [
       "2**(3/4)/(2*pi**(1/4))"
      ]
     },
     "execution_count": 43,
     "metadata": {},
     "output_type": "execute_result"
    }
   ],
   "source": [
    "L0 = 1 / sqrt(hermite_norm(1)) * 1\n",
    "L0"
   ]
  },
  {
   "cell_type": "code",
   "execution_count": 44,
   "metadata": {},
   "outputs": [
    {
     "data": {
      "text/latex": [
       "$\\displaystyle \\frac{2^{\\frac{3}{4}} x}{2 \\sqrt[4]{\\pi}}$"
      ],
      "text/plain": [
       "2**(3/4)*x/(2*pi**(1/4))"
      ]
     },
     "execution_count": 44,
     "metadata": {},
     "output_type": "execute_result"
    }
   ],
   "source": [
    "w1 = x - hermite_inner_product(x, L0) * L0\n",
    "L1 = 1 / sqrt(hermite_norm(w1)) * w1\n",
    "L1"
   ]
  },
  {
   "cell_type": "code",
   "execution_count": 45,
   "metadata": {},
   "outputs": [
    {
     "data": {
      "text/latex": [
       "$\\displaystyle \\frac{\\sqrt[4]{2} \\left(x^{2} - 1\\right)}{2 \\sqrt[4]{\\pi}}$"
      ],
      "text/plain": [
       "2**(1/4)*(x**2 - 1)/(2*pi**(1/4))"
      ]
     },
     "execution_count": 45,
     "metadata": {},
     "output_type": "execute_result"
    }
   ],
   "source": [
    "w2 = x ** 2 - hermite_inner_product(x ** 2, L0) * L0 - hermite_inner_product(x ** 2, L1) * L1\n",
    "L2 = 1 / sqrt(hermite_norm(w2)) * w2\n",
    "L2"
   ]
  },
  {
   "cell_type": "markdown",
   "metadata": {},
   "source": [
    "https://en.wikipedia.org/wiki/Hermite_polynomials"
   ]
  },
  {
   "cell_type": "markdown",
   "metadata": {},
   "source": [
    "## Example 11.5.5"
   ]
  },
  {
   "cell_type": "markdown",
   "metadata": {},
   "source": [
    "  Find the distance from the vector $\\vec{w}_{0} =\n",
    "  \\begin{pmatrix}\n",
    "    -1 \\\\\n",
    "    5 \\\\\n",
    "    1 \\\\\n",
    "  \\end{pmatrix}$ in $\\mathbb{R}^{3}$ to the subspace\n",
    "  $$\n",
    "    U = \\operatorname{Span} \\left( \\begin{pmatrix}\n",
    "        1 \\\\\n",
    "        1 \\\\\n",
    "        1 \\\\\n",
    "      \\end{pmatrix},\n",
    "      \\begin{pmatrix}\n",
    "        0 \\\\\n",
    "        1 \\\\\n",
    "        -2 \\\\\n",
    "    \\end{pmatrix} \\right).\n",
    "  $$"
   ]
  },
  {
   "cell_type": "markdown",
   "metadata": {},
   "source": [
    "## Solution to Example 11.5.5"
   ]
  },
  {
   "cell_type": "code",
   "execution_count": 46,
   "metadata": {},
   "outputs": [],
   "source": [
    "from sympy import Matrix, sqrt, solve\n",
    "from sympy.abc import x, y, z\n",
    "import numpy\n",
    "def dot(x, y):\n",
    "    return numpy.dot(list(x), list(y))\n",
    "def norm(x):\n",
    "    return sqrt(dot(list(x), list(x)))"
   ]
  },
  {
   "cell_type": "code",
   "execution_count": 47,
   "metadata": {},
   "outputs": [],
   "source": [
    "w0 = Matrix([-1, 5, 1])\n",
    "v1 = Matrix([1, 1, 1])\n",
    "v2 = Matrix([0, 1, -2])"
   ]
  },
  {
   "cell_type": "markdown",
   "metadata": {},
   "source": [
    "To solve this problem we must compute $P_U(\\vec{w}_0)$. In other words,  we must write $\\vec{w}_0 = \\vec{u}_1 + \\vec{u}_2$ where $\\vec{u}_1 \\in U$ and $\\vec{u}_2\\in U ^ {\\perp}$, and then $P_U(\\vec{w}_0) = \\vec{u}_1$. We begin by figuring out $U ^ {\\perp}$, since $\\mathbb{R} ^ 3 = U \\oplus U ^ {\\perp}$ and $\\dim U = 2$, it follows that $\\dim U ^ {\\perp} = 1$."
   ]
  },
  {
   "cell_type": "code",
   "execution_count": 48,
   "metadata": {},
   "outputs": [
    {
     "data": {
      "text/plain": [
       "[(-y - z, y, z)]"
      ]
     },
     "execution_count": 48,
     "metadata": {},
     "output_type": "execute_result"
    }
   ],
   "source": [
    "v = Matrix([x, y, z])\n",
    "solve(dot(v, v1), [x, y, z])"
   ]
  },
  {
   "cell_type": "code",
   "execution_count": 49,
   "metadata": {},
   "outputs": [
    {
     "data": {
      "text/plain": [
       "[(x, 2*z, z)]"
      ]
     },
     "execution_count": 49,
     "metadata": {},
     "output_type": "execute_result"
    }
   ],
   "source": [
    "v2 = Matrix([0, 1, -2])\n",
    "solve(dot(v, v2), [x, y, z])"
   ]
  },
  {
   "cell_type": "markdown",
   "metadata": {},
   "source": [
    "So, $x = -y - z$ and $y = 2z$, from which we deduce that $y = -2x/3$, and $z = -x/ 3$. So setting $x = 3$,\n",
    "$$\n",
    "U ^ {\\perp} = \\operatorname{Span}\\begin{pmatrix} 3 \\\\ -2 \\\\ -1 \\end{pmatrix}.\n",
    "$$"
   ]
  },
  {
   "cell_type": "markdown",
   "metadata": {},
   "source": [
    "So, we must express $\\vec{w}_0$ as a linear combination of the vectors \n",
    "$$\n",
    "\\vec{v}_1 = \\begin{pmatrix} 1 \\\\ 1 \\\\ 1 \\end{pmatrix},\\qquad\n",
    "\\vec{v}_2 = \\begin{pmatrix} 0 \\\\ 1 \\\\ -2 \\end{pmatrix},\\qquad\n",
    "\\vec{v}_3 = \\begin{pmatrix} 3 \\\\ -2 \\\\ -1 \\end{pmatrix}.\n",
    "$$"
   ]
  },
  {
   "cell_type": "code",
   "execution_count": 50,
   "metadata": {},
   "outputs": [],
   "source": [
    "v3 = Matrix([3, -2, -1])"
   ]
  },
  {
   "cell_type": "code",
   "execution_count": 51,
   "metadata": {},
   "outputs": [
    {
     "data": {
      "text/plain": [
       "{x: 2, y: 1, z: -1}"
      ]
     },
     "execution_count": 51,
     "metadata": {},
     "output_type": "execute_result"
    }
   ],
   "source": [
    "solve(x * v1 + y * v2 + z * v3 - w0, [x, y, z])"
   ]
  },
  {
   "cell_type": "markdown",
   "metadata": {},
   "source": [
    "So, $P_U(\\vec{w}_0) = 2\\vec{v}_1 + \\vec{v}_2$"
   ]
  },
  {
   "cell_type": "code",
   "execution_count": 52,
   "metadata": {},
   "outputs": [
    {
     "data": {
      "text/latex": [
       "$\\displaystyle \\left[\\begin{matrix}2\\\\3\\\\0\\end{matrix}\\right]$"
      ],
      "text/plain": [
       "Matrix([\n",
       "[2],\n",
       "[3],\n",
       "[0]])"
      ]
     },
     "execution_count": 52,
     "metadata": {},
     "output_type": "execute_result"
    }
   ],
   "source": [
    "2 * v1 + v2"
   ]
  },
  {
   "cell_type": "code",
   "execution_count": 53,
   "metadata": {},
   "outputs": [
    {
     "data": {
      "text/latex": [
       "$\\displaystyle \\sqrt{14}$"
      ],
      "text/plain": [
       "sqrt(14)"
      ]
     },
     "execution_count": 53,
     "metadata": {},
     "output_type": "execute_result"
    }
   ],
   "source": [
    "norm(2 * v1 + v2 - w0)"
   ]
  },
  {
   "cell_type": "markdown",
   "metadata": {},
   "source": [
    "## Example 11.4A"
   ]
  },
  {
   "cell_type": "markdown",
   "metadata": {},
   "source": [
    "Let $\\langle \\cdot, \\cdot \\rangle$ denote the usual inner product\n",
    "on $\\mathbb{R}^{4}$, namely\n",
    "$$\n",
    "\\langle \\vec{u}, \\vec{v} \\rangle = \\sum_{i=1}^{4} x_{i} y_{i}\n",
    "$$\n",
    "for $$\\vec{u} = \\begin{pmatrix} x_1 \\\\ x_{2} \\\\ x_{3} \\\\ x_{4} \\end{pmatrix}, \\qquad \\vec{v}\n",
    "= \\begin{pmatrix} y_{1} \\\\ y_{2} \\\\ y_{3} \\\\ y_{4} \\end{pmatrix}.$$\n",
    "\n",
    "**(i)** Apply the Gram-Schmidt Process to the set\n",
    "     $$\n",
    "            \\mathscr{A} = \\left\\{ \\begin{pmatrix} 1 \\\\\n",
    " 1 \\\\\n",
    " -1 \\\\\n",
    " 1 \\\\\n",
    " \\end{pmatrix}, \\begin{pmatrix} 3 \\\\\n",
    " 1 \\\\\n",
    " -2 \\\\\n",
    " 2 \\\\\n",
    " \\end{pmatrix},\n",
    "            \\begin{pmatrix} 2 \\\\\n",
    " -4 \\\\\n",
    " 3 \\\\\n",
    " 1 \\\\\n",
    " \\end{pmatrix}, \\begin{pmatrix} 1 \\\\\n",
    " 0 \\\\\n",
    " 0 \\\\\n",
    " 0 \\\\\n",
    " \\end{pmatrix} \\right\\}\n",
    "         $$\n",
    " to produce an orthonormal basis for $\\mathbb{R}^{4}$.\n",
    "      \n",
    "**(ii)** Let $U$ be the subspace of $\\mathbb{R}^{4}$ spanned by\n",
    "          $$\n",
    "            \\mathscr{B} = \\left\\{ \\begin{pmatrix} 1 \\\\\n",
    " 1 \\\\\n",
    " -1 \\\\\n",
    " 1 \\\\\n",
    " \\end{pmatrix}, \\begin{pmatrix} 3 \\\\\n",
    " 1 \\\\\n",
    " -2 \\\\\n",
    " 2 \\\\\n",
    " \\end{pmatrix} \\right\\}.\n",
    "         $$\n",
    "Find a basis for the orthogonal complement to $U$ in $\\mathbb{R}^{4}$.\n",
    "\n",
    "**(iii)** Find the vector in $U$ that is nearest\n",
    "to $\\begin{pmatrix} 2 \\\\\n",
    " -4 \\\\\n",
    " 3 \\\\\n",
    " 1 \\\\\n",
    " \\end{pmatrix}$."
   ]
  },
  {
   "cell_type": "markdown",
   "metadata": {},
   "source": [
    "## Solution to Example 11.4A(i)"
   ]
  },
  {
   "cell_type": "code",
   "execution_count": 54,
   "metadata": {},
   "outputs": [],
   "source": [
    "from sympy import sqrt, Matrix\n",
    "import numpy\n",
    "def dot(x, y):\n",
    "    return numpy.dot(list(x), list(y))\n",
    "def norm(x):\n",
    "    return sqrt(dot(x, x))"
   ]
  },
  {
   "cell_type": "code",
   "execution_count": 55,
   "metadata": {},
   "outputs": [],
   "source": [
    "v1, v2, v3, v4 = Matrix([1, 1, -1, 1]), Matrix([3, 1, -2, 2]), Matrix([2, -4, 3, 1]), Matrix([1, 0, 0, 0])"
   ]
  },
  {
   "cell_type": "code",
   "execution_count": 56,
   "metadata": {},
   "outputs": [
    {
     "data": {
      "text/latex": [
       "$\\displaystyle \\left[\\begin{matrix}\\frac{1}{2}\\\\\\frac{1}{2}\\\\- \\frac{1}{2}\\\\\\frac{1}{2}\\end{matrix}\\right]$"
      ],
      "text/plain": [
       "Matrix([\n",
       "[ 1/2],\n",
       "[ 1/2],\n",
       "[-1/2],\n",
       "[ 1/2]])"
      ]
     },
     "execution_count": 56,
     "metadata": {},
     "output_type": "execute_result"
    }
   ],
   "source": [
    "e1 = 1 / norm(v1) * v1\n",
    "e1"
   ]
  },
  {
   "cell_type": "code",
   "execution_count": 57,
   "metadata": {},
   "outputs": [
    {
     "data": {
      "text/latex": [
       "$\\displaystyle \\left[\\begin{matrix}1\\\\-1\\\\0\\\\0\\end{matrix}\\right]$"
      ],
      "text/plain": [
       "Matrix([\n",
       "[ 1],\n",
       "[-1],\n",
       "[ 0],\n",
       "[ 0]])"
      ]
     },
     "execution_count": 57,
     "metadata": {},
     "output_type": "execute_result"
    }
   ],
   "source": [
    "w2 = v2 - dot(v2, e1) * e1\n",
    "w2"
   ]
  },
  {
   "cell_type": "code",
   "execution_count": 58,
   "metadata": {},
   "outputs": [
    {
     "data": {
      "text/latex": [
       "$\\displaystyle \\left[\\begin{matrix}\\frac{\\sqrt{2}}{2}\\\\- \\frac{\\sqrt{2}}{2}\\\\0\\\\0\\end{matrix}\\right]$"
      ],
      "text/plain": [
       "Matrix([\n",
       "[ sqrt(2)/2],\n",
       "[-sqrt(2)/2],\n",
       "[         0],\n",
       "[         0]])"
      ]
     },
     "execution_count": 58,
     "metadata": {},
     "output_type": "execute_result"
    }
   ],
   "source": [
    "e2 = 1/ norm(w2) * w2\n",
    "e2"
   ]
  },
  {
   "cell_type": "code",
   "execution_count": 59,
   "metadata": {},
   "outputs": [
    {
     "data": {
      "text/latex": [
       "$\\displaystyle \\left[\\begin{matrix}0\\\\0\\\\2\\\\2\\end{matrix}\\right]$"
      ],
      "text/plain": [
       "Matrix([\n",
       "[0],\n",
       "[0],\n",
       "[2],\n",
       "[2]])"
      ]
     },
     "execution_count": 59,
     "metadata": {},
     "output_type": "execute_result"
    }
   ],
   "source": [
    "w3 = v3 - dot(v3, e1) * e1 - dot(v3, e2) * e2\n",
    "w3"
   ]
  },
  {
   "cell_type": "code",
   "execution_count": 60,
   "metadata": {},
   "outputs": [
    {
     "data": {
      "text/latex": [
       "$\\displaystyle \\left[\\begin{matrix}0\\\\0\\\\\\frac{\\sqrt{2}}{2}\\\\\\frac{\\sqrt{2}}{2}\\end{matrix}\\right]$"
      ],
      "text/plain": [
       "Matrix([\n",
       "[        0],\n",
       "[        0],\n",
       "[sqrt(2)/2],\n",
       "[sqrt(2)/2]])"
      ]
     },
     "execution_count": 60,
     "metadata": {},
     "output_type": "execute_result"
    }
   ],
   "source": [
    "e3 = 1 / norm(w3) * w3\n",
    "e3"
   ]
  },
  {
   "cell_type": "code",
   "execution_count": 61,
   "metadata": {},
   "outputs": [
    {
     "data": {
      "text/latex": [
       "$\\displaystyle \\left[\\begin{matrix}\\frac{1}{4}\\\\\\frac{1}{4}\\\\\\frac{1}{4}\\\\- \\frac{1}{4}\\end{matrix}\\right]$"
      ],
      "text/plain": [
       "Matrix([\n",
       "[ 1/4],\n",
       "[ 1/4],\n",
       "[ 1/4],\n",
       "[-1/4]])"
      ]
     },
     "execution_count": 61,
     "metadata": {},
     "output_type": "execute_result"
    }
   ],
   "source": [
    "w4 = v4 - dot(v4, e1) * e1 - dot(v4, e2) * e2 - dot(v4, e3) * e3\n",
    "w4"
   ]
  },
  {
   "cell_type": "code",
   "execution_count": 62,
   "metadata": {},
   "outputs": [
    {
     "data": {
      "text/latex": [
       "$\\displaystyle \\left[\\begin{matrix}\\frac{1}{2}\\\\\\frac{1}{2}\\\\\\frac{1}{2}\\\\- \\frac{1}{2}\\end{matrix}\\right]$"
      ],
      "text/plain": [
       "Matrix([\n",
       "[ 1/2],\n",
       "[ 1/2],\n",
       "[ 1/2],\n",
       "[-1/2]])"
      ]
     },
     "execution_count": 62,
     "metadata": {},
     "output_type": "execute_result"
    }
   ],
   "source": [
    "e4 = 1 / norm(w4) * w4\n",
    "e4"
   ]
  },
  {
   "cell_type": "code",
   "execution_count": 63,
   "metadata": {},
   "outputs": [
    {
     "data": {
      "text/plain": [
       "(1, 1, 1, 1)"
      ]
     },
     "execution_count": 63,
     "metadata": {},
     "output_type": "execute_result"
    }
   ],
   "source": [
    "(norm(e1), norm(e2), norm(e3), norm(e4))"
   ]
  },
  {
   "cell_type": "code",
   "execution_count": 64,
   "metadata": {},
   "outputs": [
    {
     "data": {
      "text/plain": [
       "(0, 0, 0, 0, 0, 0)"
      ]
     },
     "execution_count": 64,
     "metadata": {},
     "output_type": "execute_result"
    }
   ],
   "source": [
    "(dot(e1, e2), dot(e1, e3), dot(e1, e4), dot(e2, e3), dot(e2, e4), dot(e3, e4))"
   ]
  },
  {
   "cell_type": "markdown",
   "metadata": {},
   "source": [
    "## Solution to Example 11.4A(ii)"
   ]
  },
  {
   "cell_type": "markdown",
   "metadata": {},
   "source": [
    "There's nothing to compute here, please see the solution in the notes."
   ]
  },
  {
   "cell_type": "markdown",
   "metadata": {},
   "source": [
    "## Solution to Example 11.4A(iii)"
   ]
  },
  {
   "cell_type": "markdown",
   "metadata": {},
   "source": [
    "It suffices to figure out what the value of $P_U$ is when applied to the vector\n",
    "$$\n",
    "\\vec{v} = \\begin{pmatrix} 2 \\\\\n",
    " -4 \\\\\n",
    " 3 \\\\\n",
    " 1 \\\\\n",
    " \\end{pmatrix}.\n",
    "$$\n",
    "Recall that $P_U(\\vec{v}) = \\vec{u}$ when we write $\\vec{v} = \\vec{u} + \\vec{u} ^ {\\perp}$ where $\\vec{u} \\in U = \\operatorname{Span}(\\vec{v}_1, \\vec{v}_2)$ and $\\vec{u} ^ {\\perp} \\in U ^ {\\perp} = \\operatorname{Span}(\\vec{e}_3, \\vec{e}_4)$."
   ]
  },
  {
   "cell_type": "code",
   "execution_count": 65,
   "metadata": {},
   "outputs": [],
   "source": [
    "from sympy import sqrt, Matrix\n",
    "\n",
    "from sympy.abc import a, b, c, d\n",
    "import numpy\n",
    "def dot(x, y):\n",
    "    return numpy.dot(list(x), list(y))\n",
    "def norm(x):\n",
    "    return sqrt(dot(x, x))"
   ]
  },
  {
   "cell_type": "code",
   "execution_count": 66,
   "metadata": {},
   "outputs": [
    {
     "data": {
      "text/plain": [
       "{a: -7, b: 3, c: 2*sqrt(2), d: 0}"
      ]
     },
     "execution_count": 66,
     "metadata": {},
     "output_type": "execute_result"
    }
   ],
   "source": [
    "v = Matrix([2, -4, 3, 1])\n",
    "v1, v2 = Matrix([1, 1, -1, 1]), Matrix([3, 1, -2, 2])\n",
    "solve(a * v1 + b * v2 + c * e3 + d * e4 - v, [a, b, c, d])"
   ]
  },
  {
   "cell_type": "markdown",
   "metadata": {},
   "source": [
    "So, $P_U(\\vec{v}) = -7 \\vec{v}_1 + 3 \\vec{v}_2$"
   ]
  },
  {
   "cell_type": "code",
   "execution_count": 67,
   "metadata": {},
   "outputs": [
    {
     "data": {
      "text/latex": [
       "$\\displaystyle \\left[\\begin{matrix}2\\\\-4\\\\1\\\\-1\\end{matrix}\\right]$"
      ],
      "text/plain": [
       "Matrix([\n",
       "[ 2],\n",
       "[-4],\n",
       "[ 1],\n",
       "[-1]])"
      ]
     },
     "execution_count": 67,
     "metadata": {},
     "output_type": "execute_result"
    }
   ],
   "source": [
    "-7 * v1 + 3 * v2"
   ]
  },
  {
   "cell_type": "code",
   "execution_count": 68,
   "metadata": {},
   "outputs": [
    {
     "data": {
      "text/latex": [
       "$\\displaystyle 2 \\sqrt{2}$"
      ],
      "text/plain": [
       "2*sqrt(2)"
      ]
     },
     "execution_count": 68,
     "metadata": {},
     "output_type": "execute_result"
    }
   ],
   "source": [
    "norm(v + 7 * v1 - 3 * v2)"
   ]
  }
 ],
 "metadata": {
  "kernelspec": {
   "display_name": "Python 3",
   "language": "python",
   "name": "python3"
  },
  "language_info": {
   "codemirror_mode": {
    "name": "ipython",
    "version": 3
   },
   "file_extension": ".py",
   "mimetype": "text/x-python",
   "name": "python",
   "nbconvert_exporter": "python",
   "pygments_lexer": "ipython3",
   "version": "3.9.8"
  }
 },
 "nbformat": 4,
 "nbformat_minor": 4
}
