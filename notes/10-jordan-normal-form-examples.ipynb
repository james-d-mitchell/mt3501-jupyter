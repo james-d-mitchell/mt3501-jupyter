{
 "cells": [
  {
   "cell_type": "markdown",
   "metadata": {
    "collapsed": false
   },
   "source": [
    "# Section 10 (Jordan Normal Form)"
   ]
  },
  {
   "cell_type": "markdown",
   "metadata": {
    "collapsed": false
   },
   "source": [
    "## Example 10.3.1"
   ]
  },
  {
   "cell_type": "markdown",
   "metadata": {
    "collapsed": false
   },
   "source": [
    "  Let $V = \\R^{4}$ and let $T : V \\to V$ be the linear\n",
    "  transformation given by the matrix\n",
    "  \\[\n",
    "    B = \\begin{pmatrix}\n",
    "      2 & 1 & 0  & -3 \\\\\n",
    "      0 & 2 & 0  & 4  \\\\\n",
    "      4 & 5 & -2 & 1  \\\\\n",
    "      0 & 0 & 0  & -2\n",
    "    \\end{pmatrix}.\n",
    "  \\]\n",
    "  Determine the Jordan normal form of $T$.\n"
   ]
  },
  {
   "cell_type": "markdown",
   "metadata": {
    "collapsed": false
   },
   "source": [
    "## Solution to Example 10.3.1"
   ]
  },
  {
   "cell_type": "code",
   "execution_count": 1,
   "metadata": {
    "collapsed": false
   },
   "outputs": [
   ],
   "source": [
    "from sympy import Matrix, factor, eye\n",
    "from sympy.abc import x"
   ]
  },
  {
   "cell_type": "code",
   "execution_count": 2,
   "metadata": {
    "collapsed": false
   },
   "outputs": [
   ],
   "source": [
    "B = Matrix([[2, 1, 0, -3], [0, 2, 0, 4], [4, 5, -2, 1], [0, 0, 0, -2]])"
   ]
  },
  {
   "cell_type": "markdown",
   "metadata": {
    "collapsed": false
   },
   "source": [
    "First let's compute the characteristic polynomial:"
   ]
  },
  {
   "cell_type": "code",
   "execution_count": 3,
   "metadata": {
    "collapsed": false
   },
   "outputs": [
    {
     "data": {
      "text/latex": [
       "$\\displaystyle \\left(\\lambda - 2\\right)^{2} \\left(\\lambda + 2\\right)^{2}$"
      ],
      "text/plain": [
       "(lambda - 2)**2*(lambda + 2)**2"
      ]
     },
     "execution_count": 3,
     "metadata": {
     },
     "output_type": "execute_result"
    }
   ],
   "source": [
    "factor(B.charpoly().as_expr())"
   ]
  },
  {
   "cell_type": "markdown",
   "metadata": {
    "collapsed": false
   },
   "source": [
    "Hence the eigenvalues of $B$ are $2$ and $-2$, and their algebraic multiplicities are $a_2 = 2 = a_{-2}$. Hence there are either $1 + 1$ or $2$ Jordan blocks associated to both of $2$ and $-2$."
   ]
  },
  {
   "cell_type": "markdown",
   "metadata": {
    "collapsed": false
   },
   "source": [
    "To figure out which of these 4 possibilities is actually the case, we compute the minimum polynomial:"
   ]
  },
  {
   "cell_type": "code",
   "execution_count": 4,
   "metadata": {
    "collapsed": false
   },
   "outputs": [
    {
     "data": {
      "text/latex": [
       "$\\displaystyle \\left[\\begin{matrix}0 & 4 & 0 & 4\\\\0 & 0 & 0 & 0\\\\0 & 4 & 0 & 4\\\\0 & 0 & 0 & 0\\end{matrix}\\right]$"
      ],
      "text/plain": [
       "Matrix([\n",
       "[0, 4, 0, 4],\n",
       "[0, 0, 0, 0],\n",
       "[0, 4, 0, 4],\n",
       "[0, 0, 0, 0]])"
      ]
     },
     "execution_count": 4,
     "metadata": {
     },
     "output_type": "execute_result"
    }
   ],
   "source": [
    "(B - 2 * eye(4)) * (B + 2 * eye(4))"
   ]
  },
  {
   "cell_type": "code",
   "execution_count": 5,
   "metadata": {
    "collapsed": false
   },
   "outputs": [
    {
     "data": {
      "text/latex": [
       "$\\displaystyle \\left[\\begin{matrix}0 & 0 & 0 & 0\\\\0 & 0 & 0 & 0\\\\0 & 0 & 0 & 0\\\\0 & 0 & 0 & 0\\end{matrix}\\right]$"
      ],
      "text/plain": [
       "Matrix([\n",
       "[0, 0, 0, 0],\n",
       "[0, 0, 0, 0],\n",
       "[0, 0, 0, 0],\n",
       "[0, 0, 0, 0]])"
      ]
     },
     "execution_count": 5,
     "metadata": {
     },
     "output_type": "execute_result"
    }
   ],
   "source": [
    "(B - 2 * eye(4)) ** 2 * (B + 2 * eye(4))"
   ]
  },
  {
   "cell_type": "markdown",
   "metadata": {
    "collapsed": false
   },
   "source": [
    "Hence the minimum polynomial is $(x - 2) ^ 2 (x + 2)$, the largest Jordan block associated to $2$ is of size $2$, and the largest Jordan block associated to $-2$ is $1$, and so\n",
    "$$\n",
    "JNF(B) = \n",
    "    \\begin{pmatrix}\n",
    "      J_{2}(2) & 0         & 0         \\\\\n",
    "      0        & J_{1}(-2) & 0         \\\\\n",
    "      0        & 0         & J_{1}(-2)\n",
    "    \\end{pmatrix} =\n",
    "    \\begin{pmatrix}\n",
    "      2 & 1 & 0  & 0  \\\\\n",
    "      0 & 2 & 0  & 0  \\\\\n",
    "      0 & 0 & -2 & 0  \\\\\n",
    "      0 & 0 & 0  & -2\n",
    "    \\end{pmatrix}.\n",
    "$$"
   ]
  },
  {
   "cell_type": "markdown",
   "metadata": {
    "collapsed": false
   },
   "source": [
    "## Example 10.3.2"
   ]
  },
  {
   "cell_type": "markdown",
   "metadata": {
    "collapsed": false
   },
   "source": [
    "Let $V = \\R^{4}$ and let $T : V \\to V$ be the linear transformation given by\n",
    "the matrix\n",
    "\\[\n",
    "C = \\begin{pmatrix}\n",
    "3 & 0 & 1 & -1 \\\\\n",
    "1 & 2 & 1 & -1 \\\\\n",
    "-1 & 0 & 1 & 1 \\\\\n",
    "0 & 0 & 0 & 2\n",
    "\\end{pmatrix}.\n",
    "\\]\n",
    "Determine the Jordan normal form of $T$."
   ]
  },
  {
   "cell_type": "markdown",
   "metadata": {
    "collapsed": false
   },
   "source": [
    "## Solution to Example 10.3.2"
   ]
  },
  {
   "cell_type": "markdown",
   "metadata": {
    "collapsed": false
   },
   "source": [
    "First we compute the characteristic polynomial:"
   ]
  },
  {
   "cell_type": "code",
   "execution_count": 6,
   "metadata": {
    "collapsed": false
   },
   "outputs": [
   ],
   "source": [
    "from sympy import Matrix, factor, eye\n",
    "from sympy.abc import x"
   ]
  },
  {
   "cell_type": "code",
   "execution_count": 7,
   "metadata": {
    "collapsed": false
   },
   "outputs": [
   ],
   "source": [
    "C = Matrix([[3, 0, 1, -1], [1, 2, 1, -1], [-1, 0, 1, 1], [0, 0, 0, 2]])"
   ]
  },
  {
   "cell_type": "code",
   "execution_count": 8,
   "metadata": {
    "collapsed": false
   },
   "outputs": [
    {
     "data": {
      "text/latex": [
       "$\\displaystyle \\left(\\lambda - 2\\right)^{4}$"
      ],
      "text/plain": [
       "(lambda - 2)**4"
      ]
     },
     "execution_count": 8,
     "metadata": {
     },
     "output_type": "execute_result"
    }
   ],
   "source": [
    "factor(C.charpoly().as_expr())"
   ]
  },
  {
   "cell_type": "markdown",
   "metadata": {
    "collapsed": false
   },
   "source": [
    "So, $C$ has only one eigenvalue ($2$), and its algebraic multiplicity is $4$. Hence the Jordan blocks in $JNF(C)$ are $1 + 1 + 1 + 1$, $1 + 1 + 2$, $2 + 2$, $1 + 3$, or $4$. To figure out which, we compute the minimum polynomial for $C$:"
   ]
  },
  {
   "cell_type": "code",
   "execution_count": 9,
   "metadata": {
    "collapsed": false
   },
   "outputs": [
    {
     "data": {
      "text/latex": [
       "$\\displaystyle \\left[\\begin{matrix}1 & 0 & 1 & -1\\\\1 & 0 & 1 & -1\\\\-1 & 0 & -1 & 1\\\\0 & 0 & 0 & 0\\end{matrix}\\right]$"
      ],
      "text/plain": [
       "Matrix([\n",
       "[ 1, 0,  1, -1],\n",
       "[ 1, 0,  1, -1],\n",
       "[-1, 0, -1,  1],\n",
       "[ 0, 0,  0,  0]])"
      ]
     },
     "execution_count": 9,
     "metadata": {
     },
     "output_type": "execute_result"
    }
   ],
   "source": [
    "C - 2 * eye(4)"
   ]
  },
  {
   "cell_type": "code",
   "execution_count": 10,
   "metadata": {
    "collapsed": false
   },
   "outputs": [
    {
     "data": {
      "text/latex": [
       "$\\displaystyle \\left[\\begin{matrix}0 & 0 & 0 & 0\\\\0 & 0 & 0 & 0\\\\0 & 0 & 0 & 0\\\\0 & 0 & 0 & 0\\end{matrix}\\right]$"
      ],
      "text/plain": [
       "Matrix([\n",
       "[0, 0, 0, 0],\n",
       "[0, 0, 0, 0],\n",
       "[0, 0, 0, 0],\n",
       "[0, 0, 0, 0]])"
      ]
     },
     "execution_count": 10,
     "metadata": {
     },
     "output_type": "execute_result"
    }
   ],
   "source": [
    "(C - 2 * eye(4)) ** 2"
   ]
  },
  {
   "cell_type": "markdown",
   "metadata": {
    "collapsed": false
   },
   "source": [
    "It follows that the minimum polynomial of $C$ is $(x - 2) ^ 2$ and so the Jordan blocks in $JNF(C)$ correspond to $1 + 1 + 2$ or $2 + 2$. To decide which option holds, we compute the geometric multiplicity $g_2$, if this value is $3$, then it's $1 + 1 + 2$, if $g_2 = 2$, then it's $2 + 2$. Remembering that $g_2 = \\dim \\ker(C - 2I) = \\dim \\mathbb{R} ^ 4 - \\dim \\operatorname{im} (C - 2I)$, we compute:"
   ]
  },
  {
   "cell_type": "code",
   "execution_count": 11,
   "metadata": {
    "collapsed": false
   },
   "outputs": [
    {
     "data": {
      "text/plain": [
       "1"
      ]
     },
     "execution_count": 11,
     "metadata": {
     },
     "output_type": "execute_result"
    }
   ],
   "source": [
    "(C - 2 * eye(4)).rank()"
   ]
  },
  {
   "cell_type": "markdown",
   "metadata": {
    "collapsed": false
   },
   "source": [
    "Hence $g_2 = 4 - 1 = 3$, and so the Jordan blocks in $JNF(C)$ correspond to $1 + 1 + 2$, and so:\n",
    "$$JNF(C) =\n",
    "    \\begin{pmatrix}\n",
    "      J_{2}(2) & 0        & 0        \\\\\n",
    "      0        & J_{1}(2) & 0        \\\\\n",
    "      0        & 0        & J_{1}(2)\n",
    "    \\end{pmatrix} =\n",
    "    \\begin{pmatrix}\n",
    "      2 & 1 & 0 & 0 \\\\\n",
    "      0 & 2 & 0 & 0 \\\\\n",
    "      0 & 0 & 2 & 0 \\\\\n",
    "      0 & 0 & 0 & 2\n",
    "    \\end{pmatrix}.\n",
    "    $$"
   ]
  },
  {
   "cell_type": "markdown",
   "metadata": {
    "collapsed": false
   },
   "source": [
    "## Example 10.3.3"
   ]
  },
  {
   "cell_type": "markdown",
   "metadata": {
    "collapsed": false
   },
   "source": [
    "  Let\n",
    "  \\[\n",
    "    C = \\begin{pmatrix}\n",
    "      3  & 0 & 1 & -1 \\\\\n",
    "      1  & 2 & 1 & -1 \\\\\n",
    "      -1 & 0 & 1 & 1  \\\\\n",
    "      0  & 0 & 0 & 2\n",
    "    \\end{pmatrix}\n",
    "  \\]\n",
    "  (the matrix from Example 10.3.2).  Find an invertible\n",
    "  matrix $P$ such that $P^{-1}CP$ is in Jordan normal form.\n"
   ]
  },
  {
   "cell_type": "markdown",
   "metadata": {
    "collapsed": false
   },
   "source": [
    "## Solution to Example 10.3.3"
   ]
  },
  {
   "cell_type": "markdown",
   "metadata": {
    "collapsed": false
   },
   "source": [
    "We showed in Example 10.3.2 that\n",
    "$$JNF(C) = \n",
    "    \\begin{pmatrix}\n",
    "      2 & 1 & 0 & 0 \\\\\n",
    "      0 & 2 & 0 & 0 \\\\\n",
    "      0 & 0 & 2 & 0 \\\\\n",
    "      0 & 0 & 0 & 2\n",
    "    \\end{pmatrix}.\n",
    "$$"
   ]
  },
  {
   "cell_type": "markdown",
   "metadata": {
    "collapsed": false
   },
   "source": [
    "We begin our solution by finding a basis $\\mathscr{B} = \\{\\vec{v}_1, \\vec{v}_2, \\vec{v}_3, \\vec{v}_4\\}$ for $\\R ^ 4$ such that $JNF(C) = \\operatorname{Mat}_{\\mathscr{B}, \\mathscr{B}}(T)$. By the definition of the matrix of a linear transformation it follows that\n",
    "$$\n",
    "T(\\vec{v}_1) = C \\vec{v}_1 =  2\\vec{v}_1, \\quad T(\\vec{v}_2) = C \\vec{v}_2 =  \\vec{v}_1 + 2 \\vec{v}_2, \\quad T(\\vec{v}_3) = C \\vec{v}_3 = 2 \\vec{v}_3, \\quad T(\\vec{v}_4) = C \\vec{v}_4 = 2\\vec{v}_4.\n",
    "$$"
   ]
  },
  {
   "cell_type": "code",
   "execution_count": 12,
   "metadata": {
    "collapsed": false
   },
   "outputs": [
   ],
   "source": [
    "from sympy import Matrix, Symbol, solve\n",
    "from sympy.abc import a, b, c\n",
    "def Vector(*args):\n",
    "    return Matrix([[x] for x in args])"
   ]
  },
  {
   "cell_type": "code",
   "execution_count": 13,
   "metadata": {
    "collapsed": false
   },
   "outputs": [
   ],
   "source": [
    "x1, x2, x3, x4, y1, y2, y3, y4, z1, z2, z3, z4, t1, t2, t3, t4 = Symbol('x1'), Symbol('x2'), Symbol('x3'), Symbol('x4'), Symbol('y1'), Symbol('y2'), Symbol('y3'), Symbol('y4'), Symbol('z1'), Symbol('z2'), Symbol('z3'), Symbol('z4'), Symbol('t1'), Symbol('t2'), Symbol('t3'), Symbol('t4')"
   ]
  },
  {
   "cell_type": "code",
   "execution_count": 14,
   "metadata": {
    "collapsed": false
   },
   "outputs": [
   ],
   "source": [
    "v1, v2, v3, v4 = Vector(x1, y1, z1, t1), Vector(x2, y2, z2, t2), Vector(x3, y3, z3, t3), Vector(x4, y4, z4, t4)"
   ]
  },
  {
   "cell_type": "code",
   "execution_count": 15,
   "metadata": {
    "collapsed": false
   },
   "outputs": [
    {
     "data": {
      "text/plain": [
       "{t1: 0, y1: -z1, x1: -z1, x2: t2 - z1 - z2}"
      ]
     },
     "execution_count": 15,
     "metadata": {
     },
     "output_type": "execute_result"
    }
   ],
   "source": [
    "solve(C * v1 - 2* v1 + C * v2 - v1 - 2 * v2, [x1, x2, y1, y2, z1, z2, t1, t2])"
   ]
  },
  {
   "cell_type": "markdown",
   "metadata": {
    "collapsed": false
   },
   "source": [
    "So, taking $z_1 = 1$, $z_2 = 1$, and $t_2 = 1$ we obtain:\n",
    "$$\n",
    "v_1 = \\begin{pmatrix} -1 \\\\ -1 \\\\ 1 \\\\ 0\\end{pmatrix}, \\quad\n",
    "v_2 = \\begin{pmatrix} -1 \\\\ 0 \\\\ 1 \\\\ 1\\end{pmatrix}\n",
    "$$"
   ]
  },
  {
   "cell_type": "markdown",
   "metadata": {
    "collapsed": false
   },
   "source": [
    "(Note that in python 1 - 1 - 1 = -1.)"
   ]
  },
  {
   "cell_type": "code",
   "execution_count": 16,
   "metadata": {
    "collapsed": false
   },
   "outputs": [
   ],
   "source": [
    "v1, v2 = Vector(-1, -1, 1, 0), Vector(-1, 0, 1, 1)"
   ]
  },
  {
   "cell_type": "code",
   "execution_count": 17,
   "metadata": {
    "collapsed": false
   },
   "outputs": [
    {
     "data": {
      "text/plain": [
       "True"
      ]
     },
     "execution_count": 17,
     "metadata": {
     },
     "output_type": "execute_result"
    }
   ],
   "source": [
    "C * v1 == 2 * v1"
   ]
  },
  {
   "cell_type": "code",
   "execution_count": 18,
   "metadata": {
    "collapsed": false
   },
   "outputs": [
    {
     "data": {
      "text/plain": [
       "True"
      ]
     },
     "execution_count": 18,
     "metadata": {
     },
     "output_type": "execute_result"
    }
   ],
   "source": [
    "C * v2 == v1 + 2 * v2"
   ]
  },
  {
   "cell_type": "markdown",
   "metadata": {
    "collapsed": false
   },
   "source": [
    "The vectors $v_1$, $v_3$, and $v_4$ are all eigenvectors for the eigenvalue $2$. "
   ]
  },
  {
   "cell_type": "code",
   "execution_count": 19,
   "metadata": {
    "collapsed": false
   },
   "outputs": [
    {
     "data": {
      "text/plain": [
       "{x3: t3 - z3}"
      ]
     },
     "execution_count": 19,
     "metadata": {
     },
     "output_type": "execute_result"
    }
   ],
   "source": [
    "solve(C * v3 - 2  *v3, [x3, y3, z3, t3])"
   ]
  },
  {
   "cell_type": "markdown",
   "metadata": {
    "collapsed": false
   },
   "source": [
    "It follows that every eigenvector with eigenvalue $2$ is of the form:\n",
    "$$\n",
    "\\begin{pmatrix} t_3 - z_3 \\\\ y_3 \\\\ z_3 \\\\ t_3 \\end{pmatrix}.\n",
    "$$\n",
    "We choose $v_3$ and $v_4$ so that $\\{v_1, v_3, v_4\\}$ is linearly independent. The choice of $v_3$ is simple, it just has to not be a scalar multiple of $v_1$, so \n",
    "$$\n",
    "v_3 = \\begin{pmatrix} 0 \\\\ 0 \\\\ 1 \\\\ 1 \\end{pmatrix}\n",
    "$$\n",
    "and we can choose\n",
    "$$\n",
    "v_4 = \\begin{pmatrix} 1 \\\\ 0 \\\\ 1 \\\\ 2\\end{pmatrix}.\n",
    "$$\n",
    "Double check that $\\{v_1, v_2, v_3, v_4\\}$ form a basis for $\\R ^ 4$:"
   ]
  },
  {
   "cell_type": "code",
   "execution_count": 20,
   "metadata": {
    "collapsed": false
   },
   "outputs": [
   ],
   "source": [
    "v3, v4 = Vector(0, 0, 1, 1), Vector(1, 0, 1, 2)"
   ]
  },
  {
   "cell_type": "code",
   "execution_count": 21,
   "metadata": {
    "collapsed": false
   },
   "outputs": [
   ],
   "source": [
    "A = Matrix([[-1, -1, 1, 0], [-1, 0, 1, 1], [0, 0, 1, 1], [1, 0, 1, 2]])"
   ]
  },
  {
   "cell_type": "code",
   "execution_count": 22,
   "metadata": {
    "collapsed": false
   },
   "outputs": [
    {
     "data": {
      "text/plain": [
       "4"
      ]
     },
     "execution_count": 22,
     "metadata": {
     },
     "output_type": "execute_result"
    }
   ],
   "source": [
    "A.rank()"
   ]
  },
  {
   "cell_type": "markdown",
   "metadata": {
    "collapsed": false
   },
   "source": [
    "Hence $v_1$, $v_2$, $v_3$, $v_4$ is a basis for $\\R ^ 4$ by Algorithm 1. If $\\mathscr{C}$ is the standard basis for $\\R ^ 4$, then $C = \\operatorname{Mat}_{\\mathscr{C}, \\mathscr{C}}(T)$ and so the change of basis matrix is $P = \\operatorname{Mat}_{\\mathscr{B}, \\mathscr{C}}(\\operatorname{id})$. "
   ]
  },
  {
   "cell_type": "code",
   "execution_count": 23,
   "metadata": {
    "collapsed": false
   },
   "outputs": [
    {
     "data": {
      "text/plain": [
       "(Matrix([\n",
       " [-1],\n",
       " [-1],\n",
       " [ 1],\n",
       " [ 0]]),\n",
       " Matrix([\n",
       " [-1],\n",
       " [ 0],\n",
       " [ 1],\n",
       " [ 1]]),\n",
       " Matrix([\n",
       " [0],\n",
       " [0],\n",
       " [1],\n",
       " [1]]),\n",
       " Matrix([\n",
       " [1],\n",
       " [0],\n",
       " [1],\n",
       " [2]]))"
      ]
     },
     "execution_count": 23,
     "metadata": {
     },
     "output_type": "execute_result"
    }
   ],
   "source": [
    "v1, v2, v3, v4"
   ]
  },
  {
   "cell_type": "markdown",
   "metadata": {
    "collapsed": false
   },
   "source": [
    "Hence \n",
    "$$ P = \n",
    "\\begin{pmatrix}\n",
    "-1 & -1 & 0 & 1 \\\\\n",
    "-1 & 0 & 0 & 0 \\\\\n",
    "1 & 1 & 1 & 1 \\\\\n",
    "0 & 1 & 1 & 2 \n",
    "\\end{pmatrix}$$"
   ]
  },
  {
   "cell_type": "code",
   "execution_count": 61,
   "metadata": {
    "collapsed": false
   },
   "outputs": [
   ],
   "source": [
    "P = Matrix([[-1, -1, 0, 1], [-1, 0, 0, 0], [1, 1, 1, 1], [0, 1, 1, 2]])"
   ]
  },
  {
   "cell_type": "code",
   "execution_count": 62,
   "metadata": {
    "collapsed": false
   },
   "outputs": [
    {
     "data": {
      "text/latex": [
       "$\\displaystyle \\left[\\begin{matrix}2 & 1 & 0 & 0\\\\0 & 2 & 0 & 0\\\\0 & 0 & 2 & 0\\\\0 & 0 & 0 & 2\\end{matrix}\\right]$"
      ],
      "text/plain": [
       "Matrix([\n",
       "[2, 1, 0, 0],\n",
       "[0, 2, 0, 0],\n",
       "[0, 0, 2, 0],\n",
       "[0, 0, 0, 2]])"
      ]
     },
     "execution_count": 62,
     "metadata": {
     },
     "output_type": "execute_result"
    }
   ],
   "source": [
    "P ** -1 * C * P"
   ]
  },
  {
   "cell_type": "markdown",
   "metadata": {
    "collapsed": false
   },
   "source": [
    "## Example 10.3.4"
   ]
  },
  {
   "cell_type": "markdown",
   "metadata": {
    "collapsed": false
   },
   "source": [
    "  Let $T : \\R^{4} \\to \\R^{4}$ be the linear transformation\n",
    "  given by the matrix\n",
    "  \\[\n",
    "    D = \\begin{pmatrix}\n",
    "      -3 & 2  & \\frac{1}{2} & -2 \\\\\n",
    "      0  & 0  & 0     & 0  \\\\\n",
    "      0  & -3 & -3    & -3 \\\\\n",
    "      0  & 0  & 0     & 0\n",
    "    \\end{pmatrix}.\n",
    "  \\]\n",
    "  Determine the Jordan normal form $J$ of $T$ and find an invertible\n",
    "  matrix $P$ such that $P^{-1}DP = J$.\n"
   ]
  },
  {
   "cell_type": "markdown",
   "metadata": {
    "collapsed": false
   },
   "source": [
    "## Solution to Example 10.3.4"
   ]
  },
  {
   "cell_type": "code",
   "execution_count": 26,
   "metadata": {
    "collapsed": false
   },
   "outputs": [
   ],
   "source": [
    "from sympy import Matrix, factor\n",
    "from sympy.abc import a, b, c\n",
    "def Vector(*args):\n",
    "    return Matrix([[x] for x in args])"
   ]
  },
  {
   "cell_type": "markdown",
   "metadata": {
    "collapsed": false
   },
   "source": [
    "### Find the characteristic polynomial of $D$"
   ]
  },
  {
   "cell_type": "code",
   "execution_count": 27,
   "metadata": {
    "collapsed": false
   },
   "outputs": [
   ],
   "source": [
    "D = Matrix([[-3, 2, 0.5, -2], [0, 0, 0, 0], [0, -3, -3, -3], [0, 0, 0, 0]])"
   ]
  },
  {
   "cell_type": "code",
   "execution_count": 28,
   "metadata": {
    "collapsed": false
   },
   "outputs": [
    {
     "data": {
      "text/latex": [
       "$\\displaystyle \\lambda^{2} \\left(\\lambda + 3\\right)^{2}$"
      ],
      "text/plain": [
       "lambda**2*(lambda + 3)**2"
      ]
     },
     "execution_count": 28,
     "metadata": {
     },
     "output_type": "execute_result"
    }
   ],
   "source": [
    "factor(D.charpoly().as_expr())"
   ]
  },
  {
   "cell_type": "markdown",
   "metadata": {
    "collapsed": false
   },
   "source": [
    "Hence the eigenvalues of $D$ are $0$ and $-3$ and there algebraic multiplicities are $a_0 = 2$ and $a_{-3} = 2$. Hence for both of the eigenvalues the associated Jordan blocks in the JNF correspond to $1 + 1$ or $2$. To determine which we compute the minimum polynomial."
   ]
  },
  {
   "cell_type": "markdown",
   "metadata": {
    "collapsed": false
   },
   "source": [
    "### Find the minimal polynomial of $D$"
   ]
  },
  {
   "cell_type": "code",
   "execution_count": 29,
   "metadata": {
    "collapsed": false
   },
   "outputs": [
    {
     "data": {
      "text/latex": [
       "$\\displaystyle \\left[\\begin{matrix}0 & -1.5 & -1.5 & -1.5\\\\0 & 0 & 0 & 0\\\\0 & 0 & 0 & 0\\\\0 & 0 & 0 & 0\\end{matrix}\\right]$"
      ],
      "text/plain": [
       "Matrix([\n",
       "[0, -1.5, -1.5, -1.5],\n",
       "[0,    0,    0,    0],\n",
       "[0,    0,    0,    0],\n",
       "[0,    0,    0,    0]])"
      ]
     },
     "execution_count": 29,
     "metadata": {
     },
     "output_type": "execute_result"
    }
   ],
   "source": [
    "D * (D + 3 * eye(4))"
   ]
  },
  {
   "cell_type": "code",
   "execution_count": 30,
   "metadata": {
    "collapsed": false
   },
   "outputs": [
    {
     "data": {
      "text/latex": [
       "$\\displaystyle \\left[\\begin{matrix}9 & -7.5 & -3.0 & 4.5\\\\0 & 0 & 0 & 0\\\\0 & 9 & 9 & 9\\\\0 & 0 & 0 & 0\\end{matrix}\\right]$"
      ],
      "text/plain": [
       "Matrix([\n",
       "[9, -7.5, -3.0, 4.5],\n",
       "[0,    0,    0,   0],\n",
       "[0,    9,    9,   9],\n",
       "[0,    0,    0,   0]])"
      ]
     },
     "execution_count": 30,
     "metadata": {
     },
     "output_type": "execute_result"
    }
   ],
   "source": [
    "D ** 2"
   ]
  },
  {
   "cell_type": "code",
   "execution_count": 31,
   "metadata": {
    "collapsed": false
   },
   "outputs": [
    {
     "data": {
      "text/latex": [
       "$\\displaystyle \\left[\\begin{matrix}0 & 4.5 & 4.5 & 4.5\\\\0 & 0 & 0 & 0\\\\0 & 0 & 0 & 0\\\\0 & 0 & 0 & 0\\end{matrix}\\right]$"
      ],
      "text/plain": [
       "Matrix([\n",
       "[0, 4.5, 4.5, 4.5],\n",
       "[0,   0,   0,   0],\n",
       "[0,   0,   0,   0],\n",
       "[0,   0,   0,   0]])"
      ]
     },
     "execution_count": 31,
     "metadata": {
     },
     "output_type": "execute_result"
    }
   ],
   "source": [
    "D ** 2 * (D + 3 * eye(4))"
   ]
  },
  {
   "cell_type": "code",
   "execution_count": 32,
   "metadata": {
    "collapsed": false
   },
   "outputs": [
    {
     "data": {
      "text/latex": [
       "$\\displaystyle \\left[\\begin{matrix}0 & 0 & 0 & 0\\\\0 & 0 & 0 & 0\\\\0 & 0 & 0 & 0\\\\0 & 0 & 0 & 0\\end{matrix}\\right]$"
      ],
      "text/plain": [
       "Matrix([\n",
       "[0, 0, 0, 0],\n",
       "[0, 0, 0, 0],\n",
       "[0, 0, 0, 0],\n",
       "[0, 0, 0, 0]])"
      ]
     },
     "execution_count": 32,
     "metadata": {
     },
     "output_type": "execute_result"
    }
   ],
   "source": [
    "D * (D + 3 * eye(4)) ** 2"
   ]
  },
  {
   "cell_type": "markdown",
   "metadata": {
    "collapsed": false
   },
   "source": [
    "Hence the minimum polynomial of $D$ is $x(x + 3) ^ 2$, and so the Jordan blocks associated to $0$ correspond to $1 + 1$ and the Jordan block for $-3$ corresponds to $2$.\n"
   ]
  },
  {
   "cell_type": "markdown",
   "metadata": {
    "collapsed": false
   },
   "source": [
    "### The Jordan normal form\n",
    "\n",
    "and $JNF(D)$ equals\n",
    "$$\n",
    "    J = \\begin{pmatrix}\n",
    "      J_{1}(0) & 0        & 0         \\\\\n",
    "      0        & J_{1}(0) & 0         \\\\\n",
    "      0        & 0        & J_{2}(-3)\n",
    "    \\end{pmatrix} =\n",
    "    \\begin{pmatrix}\n",
    "      0 & 0 & 0  & 0  \\\\\n",
    "      0 & 0 & 0  & 0  \\\\\n",
    "      0 & 0 & -3 & 1  \\\\\n",
    "      0 & 0 & 0  & -3\n",
    "    \\end{pmatrix}.\n",
    "$$"
   ]
  },
  {
   "cell_type": "markdown",
   "metadata": {
    "collapsed": false
   },
   "source": [
    "### Finding a basis"
   ]
  },
  {
   "cell_type": "markdown",
   "metadata": {
    "collapsed": false
   },
   "source": [
    "Next, we find a basis $\\mathscr{B} = \\{\\vec{v}_1, \\vec{v}_2, \\vec{v}_3, \\vec{v}_4\\}$ for $\\R ^ 4$ such that $\\operatorname{Mat}_{\\mathscr{B}, \\mathscr{B}}(T) = J$. By the definition of the matrix of a linear transformation it follows that \n",
    "$$\n",
    "T(\\vec{v}_1) = D \\vec{v}_1 = \\vec{0},\\quad T(\\vec{v}_2) = D \\vec{v}_2 = \\vec{0}, \\quad T(\\vec{v}_3) = D \\vec{v}_3 = -3\\vec{v}_3, \\quad T(\\vec{v}_4) = D \\vec{v}_4 = \\vec{v}_3 - 3\\vec{v}_4.\n",
    "$$"
   ]
  },
  {
   "cell_type": "markdown",
   "metadata": {
    "collapsed": false
   },
   "source": [
    "Note that $\\vec{v}_1, \\vec{v}_2\\in \\ker(D)$ and that $\\vec{v}_3$ is an eigenvector for $-3$. "
   ]
  },
  {
   "cell_type": "code",
   "execution_count": 33,
   "metadata": {
    "collapsed": false
   },
   "outputs": [
   ],
   "source": [
    "from sympy import Matrix, solve\n",
    "from sympy.abc import a, b, c, d\n",
    "def Vector(*args):\n",
    "    return Matrix([[x] for x in args])"
   ]
  },
  {
   "cell_type": "code",
   "execution_count": 34,
   "metadata": {
    "collapsed": false
   },
   "outputs": [
   ],
   "source": [
    "v1 = Vector(a, b, c, d)"
   ]
  },
  {
   "cell_type": "code",
   "execution_count": 35,
   "metadata": {
    "collapsed": false
   },
   "outputs": [
    {
     "data": {
      "text/plain": [
       "{b: -c - d, a: -0.5*c - 1.33333333333333*d}"
      ]
     },
     "execution_count": 35,
     "metadata": {
     },
     "output_type": "execute_result"
    }
   ],
   "source": [
    "solve(D * v1, [a, b, c, d])"
   ]
  },
  {
   "cell_type": "markdown",
   "metadata": {
    "collapsed": false
   },
   "source": [
    "Hence setting $c = 2$ and $d = 0$, for example, we can define:\n",
    "$$v_1 = \\begin{pmatrix} -1 \\\\ -2 \\\\ 2 \\\\ 0 \\end{pmatrix}$$\n",
    "and setting $c = 0$ and $d = 3$ we can define:\n",
    "$$v_2 = \\begin{pmatrix} -4 \\\\ -3 \\\\ 0 \\\\ 3 \\end{pmatrix}.$$\n",
    "It is clear that $v_1$ and $v_2$ are linearly independent, but let's just double check anyway."
   ]
  },
  {
   "cell_type": "code",
   "execution_count": 36,
   "metadata": {
    "collapsed": false
   },
   "outputs": [
   ],
   "source": [
    "v1, v2 = Vector(-1, -2, 2, 0), Vector(-4, -3, 0, 3)"
   ]
  },
  {
   "cell_type": "code",
   "execution_count": 37,
   "metadata": {
    "collapsed": false
   },
   "outputs": [
    {
     "data": {
      "text/latex": [
       "$\\displaystyle \\left[\\begin{matrix}0\\\\0\\\\0\\\\0\\end{matrix}\\right]$"
      ],
      "text/plain": [
       "Matrix([\n",
       "[0],\n",
       "[0],\n",
       "[0],\n",
       "[0]])"
      ]
     },
     "execution_count": 37,
     "metadata": {
     },
     "output_type": "execute_result"
    }
   ],
   "source": [
    "D * v1"
   ]
  },
  {
   "cell_type": "code",
   "execution_count": 38,
   "metadata": {
    "collapsed": false
   },
   "outputs": [
    {
     "data": {
      "text/latex": [
       "$\\displaystyle \\left[\\begin{matrix}0\\\\0\\\\0\\\\0\\end{matrix}\\right]$"
      ],
      "text/plain": [
       "Matrix([\n",
       "[0],\n",
       "[0],\n",
       "[0],\n",
       "[0]])"
      ]
     },
     "execution_count": 38,
     "metadata": {
     },
     "output_type": "execute_result"
    }
   ],
   "source": [
    "D * v2"
   ]
  },
  {
   "cell_type": "code",
   "execution_count": 39,
   "metadata": {
    "collapsed": false
   },
   "outputs": [
    {
     "data": {
      "text/plain": [
       "2"
      ]
     },
     "execution_count": 39,
     "metadata": {
     },
     "output_type": "execute_result"
    }
   ],
   "source": [
    "Matrix([[-1, -2, 2, 0], [-4, -3, 0, 3]] ).rank()"
   ]
  },
  {
   "cell_type": "code",
   "execution_count": 40,
   "metadata": {
    "collapsed": false
   },
   "outputs": [
   ],
   "source": [
    "v3 = Vector(a, b, c, d)"
   ]
  },
  {
   "cell_type": "code",
   "execution_count": 41,
   "metadata": {
    "collapsed": false
   },
   "outputs": [
    {
     "data": {
      "text/plain": [
       "{d: 0.0, c: 0.0, b: 0.0}"
      ]
     },
     "execution_count": 41,
     "metadata": {
     },
     "output_type": "execute_result"
    }
   ],
   "source": [
    "solve(D * v3 + 3 * v3, [a, b, c, d])"
   ]
  },
  {
   "cell_type": "markdown",
   "metadata": {
    "collapsed": false
   },
   "source": [
    "So, one choice is:\n",
    "$$v_3 = \\begin{pmatrix} 1 \\\\ 0 \\\\ 0 \\\\0\\end{pmatrix}.$$\n",
    "Double-checking:"
   ]
  },
  {
   "cell_type": "code",
   "execution_count": 42,
   "metadata": {
    "collapsed": false
   },
   "outputs": [
    {
     "data": {
      "text/plain": [
       "3"
      ]
     },
     "execution_count": 42,
     "metadata": {
     },
     "output_type": "execute_result"
    }
   ],
   "source": [
    "Matrix([[-1, -2, 2, 0], [-4, -3, 0, 3], [1, 0,0, 0]] ).rank()"
   ]
  },
  {
   "cell_type": "code",
   "execution_count": 43,
   "metadata": {
    "collapsed": false
   },
   "outputs": [
   ],
   "source": [
    "v3 = Vector(1, 0, 0, 0)"
   ]
  },
  {
   "cell_type": "code",
   "execution_count": 44,
   "metadata": {
    "collapsed": false
   },
   "outputs": [
    {
     "data": {
      "text/latex": [
       "$\\displaystyle \\left[\\begin{matrix}-3\\\\0\\\\0\\\\0\\end{matrix}\\right]$"
      ],
      "text/plain": [
       "Matrix([\n",
       "[-3],\n",
       "[ 0],\n",
       "[ 0],\n",
       "[ 0]])"
      ]
     },
     "execution_count": 44,
     "metadata": {
     },
     "output_type": "execute_result"
    }
   ],
   "source": [
    "D * v3"
   ]
  },
  {
   "cell_type": "code",
   "execution_count": 45,
   "metadata": {
    "collapsed": false
   },
   "outputs": [
   ],
   "source": [
    "from sympy.abc import a, b, c, d\n",
    "v4 = Vector(a, b, c, d)"
   ]
  },
  {
   "cell_type": "code",
   "execution_count": 46,
   "metadata": {
    "collapsed": false
   },
   "outputs": [
    {
     "data": {
      "text/plain": [
       "{d: 0.0, c: 2.00000000000000, b: 0.0}"
      ]
     },
     "execution_count": 46,
     "metadata": {
     },
     "output_type": "execute_result"
    }
   ],
   "source": [
    "solve(D * v4 - v3 + 3 * v4, [a, b, c, d])"
   ]
  },
  {
   "cell_type": "markdown",
   "metadata": {
    "collapsed": false
   },
   "source": [
    "Hence one choice for $v_4$ is:\n",
    "$$\n",
    "v_4 = \\begin{pmatrix}\n",
    "0 \\\\ 0 \\\\ 2 \\\\ 0\n",
    "\\end{pmatrix}.\n",
    "$$\n",
    "Finally, we double-check that $v_1, v_2, v_3, v_4$ are linearly independent."
   ]
  },
  {
   "cell_type": "code",
   "execution_count": 47,
   "metadata": {
    "collapsed": false
   },
   "outputs": [
    {
     "data": {
      "text/plain": [
       "4"
      ]
     },
     "execution_count": 47,
     "metadata": {
     },
     "output_type": "execute_result"
    }
   ],
   "source": [
    "Matrix([[-1, -2, 2, 0], [-4, -3, 0, 3], [1, 0, 0, 0], [0, 0, 2, 0]] ).rank()"
   ]
  },
  {
   "cell_type": "markdown",
   "metadata": {
    "collapsed": false
   },
   "source": [
    "So, if $\\mathscr{C}$ is the standard basis for $\\R ^ 4$, then $P = \\operatorname{Mat}_{\\mathscr{B}, \\mathscr{C}}(\\operatorname{id})$, which is:\n",
    "$$ P = \n",
    "\\begin{pmatrix}\n",
    "-1 & -4 & 1 & 0 \n",
    "\\\\ \n",
    "-2 & -3 & 0 & 0\n",
    "\\\\ \n",
    "2 & 0 & 0 & 2\n",
    "\\\\ \n",
    "0 & 3 & 0 & 0\n",
    "\\end{pmatrix}\n",
    "$$"
   ]
  },
  {
   "cell_type": "code",
   "execution_count": 48,
   "metadata": {
    "collapsed": false
   },
   "outputs": [
   ],
   "source": [
    "P = Matrix([[-1, -4, 1, 0], [-2, -3, 0, 0], [2, 0, 0, 2], [0, 3, 0, 0]])"
   ]
  },
  {
   "cell_type": "code",
   "execution_count": 49,
   "metadata": {
    "collapsed": false
   },
   "outputs": [
    {
     "data": {
      "text/latex": [
       "$\\displaystyle \\left[\\begin{matrix}0 & 0 & 0 & 0\\\\0 & 0 & 0 & 0\\\\0 & 0 & -3 & 1.0\\\\0 & 0 & 0 & -3\\end{matrix}\\right]$"
      ],
      "text/plain": [
       "Matrix([\n",
       "[0, 0,  0,   0],\n",
       "[0, 0,  0,   0],\n",
       "[0, 0, -3, 1.0],\n",
       "[0, 0,  0,  -3]])"
      ]
     },
     "execution_count": 49,
     "metadata": {
     },
     "output_type": "execute_result"
    }
   ],
   "source": [
    "P ** - 1 * D * P"
   ]
  },
  {
   "cell_type": "markdown",
   "metadata": {
    "collapsed": false
   },
   "source": [
    "## Example 10.3A"
   ]
  },
  {
   "cell_type": "markdown",
   "metadata": {
    "collapsed": false
   },
   "source": [
    "  Let $V = \\R^{5}$ and let $T : V \\to V$ be the linear\n",
    "  transformation given by the matrix\n",
    "  \\[\n",
    "    E = \\begin{pmatrix}\n",
    "      1  & 0 & -1 & 0 & -8  \\\\\n",
    "      0  & 1 & 4  & 0 & 29  \\\\\n",
    "      -1 & 0 & 1  & 1 & 5   \\\\\n",
    "      0  & 0 & -1 & 1 & -11 \\\\\n",
    "      0  & 0 & 0  & 0 & -2\n",
    "    \\end{pmatrix}.\n",
    "  \\]\n",
    "  Determine a Jordan normal form $J$ of $T$ and find an invertible\n",
    "  matrix $P$ such that $P^{-1}EP = J$.\n"
   ]
  },
  {
   "cell_type": "markdown",
   "metadata": {
    "collapsed": false
   },
   "source": [
    "## Solution to Example 10.3A"
   ]
  },
  {
   "cell_type": "markdown",
   "metadata": {
    "collapsed": false
   },
   "source": [
    "TODO"
   ]
  },
  {
   "cell_type": "markdown",
   "metadata": {
    "collapsed": false,
    "slideshow": {
     "slide_type": "subslide"
    }
   },
   "source": [
    "## Example"
   ]
  },
  {
   "cell_type": "markdown",
   "metadata": {
    "collapsed": false
   },
   "source": [
    "In this notebook we will use python to find the Jordan normal form of the matrix:\n",
    "\\begin{equation*}\n",
    "A = \n",
    "\\begin{pmatrix}\n",
    "4 & 0 & 1 & 0 \\\\\n",
    "2 & 2 & 3 & 0 \\\\\n",
    "-1 & 0 & 2 & 0 \\\\\n",
    "4 & 0 & 1 & 2\n",
    "\\end{pmatrix}\n",
    "\\end{equation*}"
   ]
  },
  {
   "cell_type": "markdown",
   "metadata": {
    "collapsed": false
   },
   "source": [
    "### Import some useful things from the sympy package"
   ]
  },
  {
   "cell_type": "code",
   "execution_count": 50,
   "metadata": {
    "collapsed": false
   },
   "outputs": [
   ],
   "source": [
    "from sympy.matrices import Matrix"
   ]
  },
  {
   "cell_type": "code",
   "execution_count": 51,
   "metadata": {
    "collapsed": false
   },
   "outputs": [
   ],
   "source": [
    "from sympy import factor, eye\n"
   ]
  },
  {
   "cell_type": "markdown",
   "metadata": {
    "collapsed": false
   },
   "source": [
    "### Input the matrix"
   ]
  },
  {
   "cell_type": "code",
   "execution_count": 52,
   "metadata": {
    "collapsed": false
   },
   "outputs": [
   ],
   "source": [
    "A = Matrix([[4, 0, 1, 0], \n",
    "            [2, 2, 3, 0], \n",
    "            [-1, 0, 2, 0], \n",
    "            [4, 0, 1, 2]])"
   ]
  },
  {
   "cell_type": "markdown",
   "metadata": {
    "collapsed": false
   },
   "source": [
    "### Characteristic polynomial"
   ]
  },
  {
   "cell_type": "code",
   "execution_count": 53,
   "metadata": {
    "collapsed": false
   },
   "outputs": [
    {
     "data": {
      "text/latex": [
       "$\\displaystyle \\left(\\lambda - 3\\right)^{2} \\left(\\lambda - 2\\right)^{2}$"
      ],
      "text/plain": [
       "(lambda - 3)**2*(lambda - 2)**2"
      ]
     },
     "execution_count": 53,
     "metadata": {
     },
     "output_type": "execute_result"
    }
   ],
   "source": [
    "factor(A.charpoly().as_expr())"
   ]
  },
  {
   "cell_type": "markdown",
   "metadata": {
    "collapsed": false
   },
   "source": [
    "### Minimum polynomial\n",
    "\n",
    "It looks like sympy doesn't have built in functionality to find the minimum polynomial, so we just use python to compute $(A - 3I)(A - 2I)$, $(A-3I) ^ 2 (A-2I)$, and $(A-3I)(A-2I) ^ 2$. The first one of these equal to the $4\\times 4$ matrix where every entry is $0$ is the minimum polynomial $m_A(x)$ of $A$. If none of these equals the zero matrix, then the minimum polynomial equals the characteristic polynomial.\n"
   ]
  },
  {
   "cell_type": "code",
   "execution_count": 54,
   "metadata": {
    "collapsed": false
   },
   "outputs": [
   ],
   "source": [
    "I = eye(4)"
   ]
  },
  {
   "cell_type": "code",
   "execution_count": 55,
   "metadata": {
    "collapsed": false,
    "slideshow": {
     "slide_type": ""
    }
   },
   "outputs": [
    {
     "data": {
      "text/latex": [
       "$\\displaystyle \\left[\\begin{matrix}1 & 0 & 0 & 0\\\\0 & 1 & 0 & 0\\\\0 & 0 & 1 & 0\\\\0 & 0 & 0 & 1\\end{matrix}\\right]$"
      ],
      "text/plain": [
       "Matrix([\n",
       "[1, 0, 0, 0],\n",
       "[0, 1, 0, 0],\n",
       "[0, 0, 1, 0],\n",
       "[0, 0, 0, 1]])"
      ]
     },
     "execution_count": 55,
     "metadata": {
     },
     "output_type": "execute_result"
    }
   ],
   "source": [
    "I"
   ]
  },
  {
   "cell_type": "code",
   "execution_count": 56,
   "metadata": {
    "collapsed": false
   },
   "outputs": [
    {
     "data": {
      "text/latex": [
       "$\\displaystyle \\left[\\begin{matrix}1 & 0 & 1 & 0\\\\-1 & 0 & -1 & 0\\\\-1 & 0 & -1 & 0\\\\3 & 0 & 3 & 0\\end{matrix}\\right]$"
      ],
      "text/plain": [
       "Matrix([\n",
       "[ 1, 0,  1, 0],\n",
       "[-1, 0, -1, 0],\n",
       "[-1, 0, -1, 0],\n",
       "[ 3, 0,  3, 0]])"
      ]
     },
     "execution_count": 56,
     "metadata": {
     },
     "output_type": "execute_result"
    }
   ],
   "source": [
    "(A - 3 * I)*(A - 2 * I)"
   ]
  },
  {
   "cell_type": "markdown",
   "metadata": {
    "collapsed": false
   },
   "source": [
    "Not zero, so we try $(A-3I) ^ 2 (A-2I)$ next."
   ]
  },
  {
   "cell_type": "code",
   "execution_count": 57,
   "metadata": {
    "collapsed": false
   },
   "outputs": [
    {
     "data": {
      "text/latex": [
       "$\\displaystyle \\left[\\begin{matrix}0 & 0 & 0 & 0\\\\0 & 0 & 0 & 0\\\\0 & 0 & 0 & 0\\\\0 & 0 & 0 & 0\\end{matrix}\\right]$"
      ],
      "text/plain": [
       "Matrix([\n",
       "[0, 0, 0, 0],\n",
       "[0, 0, 0, 0],\n",
       "[0, 0, 0, 0],\n",
       "[0, 0, 0, 0]])"
      ]
     },
     "execution_count": 57,
     "metadata": {
     },
     "output_type": "execute_result"
    }
   ],
   "source": [
    "(A - 3* I) ** 2 *(A - 2 * I)"
   ]
  },
  {
   "cell_type": "markdown",
   "metadata": {
    "collapsed": false
   },
   "source": [
    "So, the minimum polynomial $m_A(x)$ is $(x - 3) ^ 2 (x - 2)$. It follows that there is a Jordan block $J_2(3)$ and a block $J_1(2)$ and that no block for $\\lambda = 2$ has size greater than $1$. Hence the Jordan Normal Form of the matrix $A$ is:\n",
    "\\begin{pmatrix}\n",
    "3 & 1 & 0 & 0 \\\\\n",
    "0 & 3 & 0 & 0 \\\\\n",
    "0 & 0 & 2 & 0 \\\\\n",
    "0 & 0 & 0 & 2\n",
    "\\end{pmatrix}"
   ]
  },
  {
   "cell_type": "code",
   "execution_count": 58,
   "metadata": {
    "collapsed": false
   },
   "outputs": [
   ],
   "source": [
    "from sympy import solve\n",
    "from sympy.abc import x, y, z, t\n"
   ]
  },
  {
   "cell_type": "code",
   "execution_count": 59,
   "metadata": {
    "collapsed": false
   },
   "outputs": [
    {
     "data": {
      "text/plain": [
       "{z: -t/3, y: -t/3, x: t/3}"
      ]
     },
     "execution_count": 59,
     "metadata": {
     },
     "output_type": "execute_result"
    }
   ],
   "source": [
    "solve((A - 3 * I) * Matrix([[x], [y], [z], [t]]), [x, y, z, t])\n"
   ]
  },
  {
   "cell_type": "code",
   "execution_count": 60,
   "metadata": {
    "collapsed": false
   },
   "outputs": [
    {
     "data": {
      "text/plain": [
       "{z: 0, x: 0}"
      ]
     },
     "execution_count": 60,
     "metadata": {
     },
     "output_type": "execute_result"
    }
   ],
   "source": [
    "solve((A - 2 * I) * Matrix([[x], [y], [z], [t]]), [x, y, z, t])\n"
   ]
  },
  {
   "cell_type": "code",
   "execution_count": 0,
   "metadata": {
    "collapsed": false
   },
   "outputs": [
   ],
   "source": [
   ]
  }
 ],
 "metadata": {
  "kernelspec": {
   "display_name": "Python 3 (system-wide)",
   "language": "python",
   "metadata": {
    "cocalc": {
     "description": "Python 3 programming language",
     "priority": 100,
     "url": "https://www.python.org/"
    }
   },
   "name": "python3"
  },
  "language_info": {
   "codemirror_mode": {
    "name": "ipython",
    "version": 3
   },
   "file_extension": ".py",
   "mimetype": "text/x-python",
   "name": "python",
   "nbconvert_exporter": "python",
   "pygments_lexer": "ipython3",
   "version": "3.8.2"
  }
 },
 "nbformat": 4,
 "nbformat_minor": 4
}