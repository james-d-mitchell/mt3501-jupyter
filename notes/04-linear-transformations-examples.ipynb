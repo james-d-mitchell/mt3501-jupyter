{
 "cells": [
  {
   "cell_type": "markdown",
   "metadata": {
    "collapsed": false
   },
   "source": [
    "# Section 4 (Linear transformations)"
   ]
  },
  {
   "cell_type": "markdown",
   "metadata": {
    "collapsed": false
   },
   "source": [
    "## Example 4.1A"
   ]
  },
  {
   "cell_type": "markdown",
   "metadata": {
    "collapsed": false
   },
   "source": [
    "  Define a linear transformation $T : \\mathbb{R}^{4} \\to \\mathbb{R}^{3}$ in terms\n",
    "  of the standard basis $\\mathscr{B} = \\{ \\vec{e}_{1},\\vec{e}_{2},\\vec{e}_{3},\\vec{e}_{4} \\}$ by\n",
    "  \\begin{align*}\n",
    "    T(\\vec{e}_{1}) & = \\vec{y}_{1} = \\begin{pmatrix}2 \\\\ 1 \\\\ 3 \\end{pmatrix},\n",
    "              & T(\\vec{e}_{2})                             & = \\vec{y}_{2} = \\begin{pmatrix} -1 \\\\ 0 \\\\ 1 \\end{pmatrix}, \\\\\n",
    "    T(\\vec{e}_{3}) & = \\vec{y}_{3} = \\begin{pmatrix} 0 \\\\ 1 \\\\ 5 \\end{pmatrix},\n",
    "              & T(\\vec{e}_{4})                             & = \\vec{y}_{4} = \\begin{pmatrix}-5 \\\\ -2 \\\\ -5 \\end{pmatrix}.\n",
    "  \\end{align*}\n",
    "  Calculate the linear transformation $T$ and its rank and nullity.\n"
   ]
  },
  {
   "cell_type": "markdown",
   "metadata": {
    "collapsed": false
   },
   "source": [
    "## Solution to Example 4.1A"
   ]
  },
  {
   "cell_type": "markdown",
   "metadata": {
    "collapsed": false
   },
   "source": [
    "### Compute a formula for $T$"
   ]
  },
  {
   "cell_type": "markdown",
   "metadata": {
    "collapsed": false
   },
   "source": [
    "Import some useful stuff from sympy"
   ]
  },
  {
   "cell_type": "code",
   "execution_count": 5,
   "metadata": {
    "collapsed": false
   },
   "outputs": [
   ],
   "source": [
    "from sympy import Matrix"
   ]
  },
  {
   "cell_type": "markdown",
   "metadata": {
    "collapsed": false
   },
   "source": [
    "We define a little function in python for creating vectors. In sympy (and in mathematics more generally), vectors are really just $n \\times 1$ matrices, and this function is just syntactic sugar to create such a matrix without having to write so many brackets."
   ]
  },
  {
   "cell_type": "code",
   "execution_count": 6,
   "metadata": {
    "collapsed": false
   },
   "outputs": [
   ],
   "source": [
    "def Vector(*args):\n",
    "    return Matrix([[x] for x in args])"
   ]
  },
  {
   "cell_type": "code",
   "execution_count": 7,
   "metadata": {
    "collapsed": false
   },
   "outputs": [
   ],
   "source": [
    "e1, e2, e3, e4 = Vector(1, 0, 0, 0), Vector(0, 1, 0, 0), Vector(0, 0, 1, 0), Vector(0, 0, 0, 1)"
   ]
  },
  {
   "cell_type": "code",
   "execution_count": 8,
   "metadata": {
    "collapsed": false
   },
   "outputs": [
   ],
   "source": [
    "y1, y2, y3, y4 = Vector(2, 1, 3), Vector(-1, 0, 1), Vector(0, 1, 5), Vector(-5, -2, -5)"
   ]
  },
  {
   "cell_type": "code",
   "execution_count": 9,
   "metadata": {
    "collapsed": false
   },
   "outputs": [
   ],
   "source": [
    "def T(a, b, c, d):\n",
    "    return a * y1 + b * y2 + c * y3 + d * y4"
   ]
  },
  {
   "cell_type": "markdown",
   "metadata": {
    "collapsed": false
   },
   "source": [
    "We need some \"variables\" which we will use to figure out a formula for $T$:"
   ]
  },
  {
   "cell_type": "code",
   "execution_count": 10,
   "metadata": {
    "collapsed": false
   },
   "outputs": [
   ],
   "source": [
    "from sympy.abc import a, b, c, d"
   ]
  },
  {
   "cell_type": "code",
   "execution_count": 11,
   "metadata": {
    "collapsed": false
   },
   "outputs": [
    {
     "data": {
      "text/latex": [
       "$\\displaystyle \\left[\\begin{matrix}2 a - b - 5 d\\\\a + c - 2 d\\\\3 a + b + 5 c - 5 d\\end{matrix}\\right]$"
      ],
      "text/plain": [
       "Matrix([\n",
       "[      2*a - b - 5*d],\n",
       "[        a + c - 2*d],\n",
       "[3*a + b + 5*c - 5*d]])"
      ]
     },
     "execution_count": 11,
     "metadata": {
     },
     "output_type": "execute_result"
    }
   ],
   "source": [
    "T(a, b, c, d)"
   ]
  },
  {
   "cell_type": "markdown",
   "metadata": {
    "collapsed": false,
    "heading_collapsed": true
   },
   "source": [
    "### Compute the rank of T"
   ]
  },
  {
   "cell_type": "markdown",
   "metadata": {
    "collapsed": false,
    "hidden": true
   },
   "source": [
    "The rank of $T$ is the dimension of the image of $T$, and, by Proposition 4.1.8(i), the vectors $y_1, y_2, y_3, y_4$ span $\\operatorname{im} T$. Hence the rank of $T$ equals $\\operatorname{dim} \\operatorname{Span}(y_1, y_2, y_3, y_4)$.\n",
    "So we enter $y_1$, $y_2$, $y_3$, and $y_4$ as the columns (or rows) of a matrix $A$:"
   ]
  },
  {
   "cell_type": "code",
   "execution_count": 13,
   "metadata": {
    "collapsed": false,
    "hidden": true
   },
   "outputs": [
    {
     "data": {
      "text/latex": [
       "$\\displaystyle \\left[\\begin{matrix}2 & -1 & 0 & -5\\\\1 & 0 & 1 & -2\\\\3 & 1 & 5 & -5\\end{matrix}\\right]$"
      ],
      "text/plain": [
       "Matrix([\n",
       "[2, -1, 0, -5],\n",
       "[1,  0, 1, -2],\n",
       "[3,  1, 5, -5]])"
      ]
     },
     "execution_count": 13,
     "metadata": {
     },
     "output_type": "execute_result"
    }
   ],
   "source": [
    "A = Matrix()\n",
    "A = A.col_insert(0, y1)\n",
    "A = A.col_insert(1, y2)\n",
    "A = A.col_insert(2, y3)\n",
    "A = A.col_insert(3, y4)\n",
    "A"
   ]
  },
  {
   "cell_type": "markdown",
   "metadata": {
    "collapsed": false,
    "hidden": true
   },
   "source": [
    "and compute the rank of $A$:"
   ]
  },
  {
   "cell_type": "code",
   "execution_count": 14,
   "metadata": {
    "collapsed": false,
    "hidden": true
   },
   "outputs": [
    {
     "data": {
      "text/plain": [
       "2"
      ]
     },
     "execution_count": 14,
     "metadata": {
     },
     "output_type": "execute_result"
    }
   ],
   "source": [
    "A.rank()"
   ]
  },
  {
   "cell_type": "markdown",
   "metadata": {
    "collapsed": false,
    "hidden": true
   },
   "source": [
    "Hence the rank of $T$ is $2$."
   ]
  },
  {
   "cell_type": "markdown",
   "metadata": {
    "collapsed": false
   },
   "source": [
    "### Compute the nullity of $T$"
   ]
  },
  {
   "cell_type": "markdown",
   "metadata": {
    "collapsed": false
   },
   "source": [
    "By the Rank-Nullity Theorem, $\\operatorname{null} T = \\operatorname{dim} \\mathbb{R} ^ 4 - \\operatorname{rank} T = 4 - \n",
    "2 = 2$.  This is a complete solution to the problem, just as an exercise we will also compute the dimension of the kernel of $T$ directly."
   ]
  },
  {
   "cell_type": "code",
   "execution_count": 16,
   "metadata": {
    "collapsed": false
   },
   "outputs": [
   ],
   "source": [
    "from sympy import solve"
   ]
  },
  {
   "cell_type": "markdown",
   "metadata": {
    "collapsed": false
   },
   "source": [
    "The next line is asking sympy to solve the equation\n",
    "$$\n",
    "A \\begin{pmatrix} a \\\\ b \\\\ c \\\\ d \\end{pmatrix} = \\begin{pmatrix} 0 \\\\ 0 \\\\ 0 \\\\ 0 \\end{pmatrix}.\n",
    "$$"
   ]
  },
  {
   "cell_type": "code",
   "execution_count": 18,
   "metadata": {
    "collapsed": false
   },
   "outputs": [
    {
     "data": {
      "text/plain": [
       "{b: -2*c - d, a: -c + 2*d}"
      ]
     },
     "execution_count": 18,
     "metadata": {
     },
     "output_type": "execute_result"
    }
   ],
   "source": [
    "solve(A * Vector(a, b, c, d), [a, b, c, d])"
   ]
  },
  {
   "cell_type": "markdown",
   "metadata": {
    "collapsed": false
   },
   "source": [
    "So, the vectors \n",
    "$$\n",
    "\\begin{pmatrix} \n",
    "-1 \\\\ -2 \\\\ 1 \\\\ 0\n",
    "\\end{pmatrix},\n",
    "\\begin{pmatrix} \n",
    "2 \\\\ -1 \\\\ 0 \\\\ 1\n",
    "\\end{pmatrix}\n",
    "$$\n",
    "form a basis for the nullspace of $A$."
   ]
  },
  {
   "cell_type": "markdown",
   "metadata": {
    "collapsed": false
   },
   "source": [
    "This approach requires that you remember (or have read ahead in the notes) that the matrix $A$ defined above is the matrix of the linear transformation $T$, and so the nullspace of $A$ and $T$ coincide. "
   ]
  },
  {
   "cell_type": "markdown",
   "metadata": {
    "collapsed": false
   },
   "source": [
    "Here's yet another approach, solve the equation:\n",
    "$$\n",
    "T\\begin{pmatrix}\n",
    "a \\\\\n",
    "b \\\\\n",
    "c \\\\\n",
    "d \n",
    "\\end{pmatrix} = \\begin{pmatrix} 0 \\\\ 0 \\\\ 0 \\\\ 0 \\end{pmatrix}\n",
    "$$"
   ]
  },
  {
   "cell_type": "code",
   "execution_count": 24,
   "metadata": {
    "collapsed": false
   },
   "outputs": [
   ],
   "source": [
    "from sympy import solve"
   ]
  },
  {
   "cell_type": "code",
   "execution_count": 26,
   "metadata": {
    "collapsed": false
   },
   "outputs": [
    {
     "data": {
      "image/png": "[encoded data removed]",
      "text/latex": [
       "$\\displaystyle \\left\\{ a : - c + 2 d, \\  b : - 2 c - d\\right\\}$"
      ],
      "text/plain": [
       "{a: -c + 2⋅d, b: -2⋅c - d}"
      ]
     },
     "execution_count": 26,
     "metadata": {
     },
     "output_type": "execute_result"
    }
   ],
   "source": [
    "solve(T(a, b, c, d), [a, b, c, d])"
   ]
  },
  {
   "cell_type": "markdown",
   "metadata": {
    "collapsed": false
   },
   "source": [
    "So, if $a = -c + 2d$ and $b = -2c - d$, then \n",
    "$$\n",
    "T\\begin{pmatrix}\n",
    "a \\\\\n",
    "b \\\\\n",
    "c \\\\\n",
    "d \n",
    "\\end{pmatrix} = \n",
    "T\n",
    "\\begin{pmatrix}\n",
    "-c + 2d \\\\\n",
    "-2c - d \\\\\n",
    "c \\\\\n",
    "d \n",
    "\\end{pmatrix}\n",
    "= \n",
    "\\begin{pmatrix} 0 \\\\ 0 \\\\ 0 \\\\ 0 \\end{pmatrix}.\n",
    "$$"
   ]
  },
  {
   "cell_type": "markdown",
   "metadata": {
    "collapsed": false
   },
   "source": [
    "Clearly, every vector of the form:\n",
    "$$\n",
    "\\begin{pmatrix}\n",
    "-c + 2d \\\\\n",
    "-2c - d \\\\\n",
    "c \\\\\n",
    "d \n",
    "\\end{pmatrix}\n",
    "= \n",
    "c \\begin{pmatrix}\n",
    "-1 \\\\ -2 \\\\ 1\\\\ 0\n",
    "\\end{pmatrix}\n",
    "+ d \n",
    "\\begin{pmatrix}\n",
    "2 \\\\ -1 \\\\ 0 \\\\ 1\n",
    "\\end{pmatrix}\n",
    "\\in \\operatorname{Span}\n",
    "\\begin{pmatrix}\n",
    "-1 \\\\ -2 \\\\ 1\\\\ 0\n",
    "\\end{pmatrix}, \n",
    "\\begin{pmatrix}\n",
    "2 \\\\ -1 \\\\ 0 \\\\ 1\n",
    "\\end{pmatrix}.\n",
    "$$\n",
    "Hence \n",
    "$$\\begin{pmatrix}\n",
    "-1 \\\\ -2 \\\\ 1\\\\ 0\n",
    "\\end{pmatrix}, \n",
    "\\begin{pmatrix}\n",
    "2 \\\\ -1 \\\\ 0 \\\\ 1\n",
    "\\end{pmatrix}\n",
    "$$\n",
    "span the nullspace of $T$. To show that these vectors are linearly independent, we insert them as the columns of a matrix and compute its rank (as per Algorithm 1):"
   ]
  },
  {
   "cell_type": "code",
   "execution_count": 27,
   "metadata": {
    "collapsed": false
   },
   "outputs": [
   ],
   "source": [
    "B = Matrix([[-1, 2], [-2, -1], [1, 0], [0, 1]])"
   ]
  },
  {
   "cell_type": "code",
   "execution_count": 28,
   "metadata": {
    "collapsed": false
   },
   "outputs": [
    {
     "data": {
      "image/png": "[encoded data removed]",
      "text/latex": [
       "$\\displaystyle 2$"
      ],
      "text/plain": [
       "2"
      ]
     },
     "execution_count": 28,
     "metadata": {
     },
     "output_type": "execute_result"
    }
   ],
   "source": [
    "B.rank()"
   ]
  },
  {
   "cell_type": "markdown",
   "metadata": {
    "collapsed": false
   },
   "source": [
    "Since the rank of $B$ is $2$, Algorithm 1, informs us that these vectors are linearly independent, and hence form a basis for the nullspace of $T$."
   ]
  },
  {
   "cell_type": "markdown",
   "metadata": {
    "collapsed": false,
    "heading_collapsed": true
   },
   "source": [
    "## Example 4.2.2"
   ]
  },
  {
   "cell_type": "markdown",
   "metadata": {
    "collapsed": false,
    "hidden": true
   },
   "source": [
    "  Define a linear transformation $T \\colon \\mathbb{R}^{4} \\to \\mathbb{R}^{4}$ by\n",
    "  the following formula:\n",
    "  $$\n",
    "    T \\begin{pmatrix} x \\\\\n",
    " y \\\\\n",
    " z \\\\\n",
    " t \\\\\n",
    " \\end{pmatrix} = \\begin{pmatrix} x+4y \\\\\n",
    " y \\\\\n",
    " 2z+t \\\\\n",
    " z+2t \\\\\n",
    " \\end{pmatrix}.\n",
    "  $$\n",
    "  Let $\\mathscr{B} = \\{ \\vec{e}_{1},\\vec{e}_{2},\\vec{e}_{3},\\vec{e}_{4} \\}$ denote the standard\n",
    "  basis for $\\mathbb{R}^{4}$ and let $\\mathscr{C}$ be the basis\n",
    "  $$\n",
    "    \\mathscr{C} = \\{ \\vec{v}_{1},\\vec{v}_{2},\\vec{v}_{3},\\vec{v}_{4}\n",
    "    \\} = \\left\\{ \\begin{pmatrix} 2 \\\\\n",
    " 0 \\\\\n",
    " 2 \\\\\n",
    " 0 \\\\\n",
    " \\end{pmatrix}, \\begin{pmatrix} 0 \\\\\n",
    " 1 \\\\\n",
    " -1 \\\\\n",
    " 0 \\\\\n",
    " \\end{pmatrix},\n",
    "    \\begin{pmatrix} 0 \\\\\n",
    " 0 \\\\\n",
    " 1 \\\\\n",
    " 0 \\\\\n",
    " \\end{pmatrix}, \\begin{pmatrix} 3 \\\\\n",
    " 0 \\\\\n",
    " 0 \\\\\n",
    " 1 \\\\\n",
    " \\end{pmatrix} \\right\\}.\n",
    " $$\n",
    "  Determine the matrix of $T$ with respect to $\\mathscr{B}$ and $\\mathscr{B}$; $\\mathscr{C}$ and $\\mathscr{B}$; and \n",
    "  finally with respect to $\\mathscr{C}$ and $\\mathscr{C}$."
   ]
  },
  {
   "cell_type": "markdown",
   "metadata": {
    "collapsed": false,
    "heading_collapsed": true
   },
   "source": [
    "## Solution to Example 4.2.2"
   ]
  },
  {
   "cell_type": "markdown",
   "metadata": {
    "collapsed": false,
    "hidden": true
   },
   "source": [
    "According to the definition of the matrix of a linear transformation, we must express every $T(\\vec{e}_i)$ as a linear combination of the vector in $\\mathscr{B}$. Let's define $T$ as a python function:"
   ]
  },
  {
   "cell_type": "code",
   "execution_count": 33,
   "metadata": {
    "collapsed": false,
    "hidden": true
   },
   "outputs": [
   ],
   "source": [
    "def T(x, y, z, t):\n",
    "    return Vector(x + 4 * y, y, 2 * z + t, z + 2 * t)"
   ]
  },
  {
   "cell_type": "markdown",
   "metadata": {
    "collapsed": false,
    "hidden": true
   },
   "source": [
    "Since $\\mathscr{B}$ is the standard basis the columns of the matrix are given by:"
   ]
  },
  {
   "cell_type": "code",
   "execution_count": 35,
   "metadata": {
    "collapsed": false,
    "hidden": true
   },
   "outputs": [
    {
     "data": {
      "image/png": "[encoded data removed]",
      "text/latex": [
       "$\\displaystyle \\left( \\left[\\begin{matrix}1\\\\0\\\\0\\\\0\\end{matrix}\\right], \\  \\left[\\begin{matrix}4\\\\1\\\\0\\\\0\\end{matrix}\\right], \\  \\left[\\begin{matrix}0\\\\0\\\\2\\\\1\\end{matrix}\\right], \\  \\left[\\begin{matrix}0\\\\0\\\\1\\\\2\\end{matrix}\\right]\\right)$"
      ],
      "text/plain": [
       "⎛⎡1⎤  ⎡4⎤  ⎡0⎤  ⎡0⎤⎞\n",
       "⎜⎢ ⎥  ⎢ ⎥  ⎢ ⎥  ⎢ ⎥⎟\n",
       "⎜⎢0⎥  ⎢1⎥  ⎢0⎥  ⎢0⎥⎟\n",
       "⎜⎢ ⎥, ⎢ ⎥, ⎢ ⎥, ⎢ ⎥⎟\n",
       "⎜⎢0⎥  ⎢0⎥  ⎢2⎥  ⎢1⎥⎟\n",
       "⎜⎢ ⎥  ⎢ ⎥  ⎢ ⎥  ⎢ ⎥⎟\n",
       "⎝⎣0⎦  ⎣0⎦  ⎣1⎦  ⎣2⎦⎠"
      ]
     },
     "execution_count": 35,
     "metadata": {
     },
     "output_type": "execute_result"
    }
   ],
   "source": [
    "T(1, 0, 0, 0), T(0, 1, 0, 0), T(0, 0, 1, 0), T(0, 0, 0, 1)"
   ]
  },
  {
   "cell_type": "markdown",
   "metadata": {
    "collapsed": false,
    "hidden": true
   },
   "source": [
    "Hence the matrix of $T$ with respect to $\\mathscr{B}$ and $\\mathscr{B}$ is:\n",
    "$$\n",
    "\\begin{pmatrix}\n",
    "      1 & 4 & 0 & 0 \\\\\n",
    "      0 & 1 & 0 & 0 \\\\\n",
    "      0 & 0 & 2 & 1 \\\\\n",
    "      0 & 0 & 1 & 2\n",
    "\\end{pmatrix}\n",
    "$$"
   ]
  },
  {
   "cell_type": "markdown",
   "metadata": {
    "collapsed": false,
    "hidden": true
   },
   "source": [
    "To compute the matrix of $T$ with respect to $\\mathscr{C}$ and $\\mathscr{B}$ we must express the image of each vector in $\\mathscr{C}$ under $T$ as a linear combination of the vectors in $\\mathscr{B}$. Again since $\\mathscr{B}$ is the standard basis this is easy:"
   ]
  },
  {
   "cell_type": "code",
   "execution_count": 39,
   "metadata": {
    "collapsed": false,
    "hidden": true
   },
   "outputs": [
    {
     "data": {
      "image/png": "[encoded data removed]",
      "text/latex": [
       "$\\displaystyle \\left( \\left[\\begin{matrix}2\\\\0\\\\4\\\\2\\end{matrix}\\right], \\  \\left[\\begin{matrix}4\\\\1\\\\-2\\\\-1\\end{matrix}\\right], \\  \\left[\\begin{matrix}0\\\\0\\\\2\\\\1\\end{matrix}\\right], \\  \\left[\\begin{matrix}3\\\\0\\\\1\\\\2\\end{matrix}\\right]\\right)$"
      ],
      "text/plain": [
       "⎛⎡2⎤  ⎡4 ⎤  ⎡0⎤  ⎡3⎤⎞\n",
       "⎜⎢ ⎥  ⎢  ⎥  ⎢ ⎥  ⎢ ⎥⎟\n",
       "⎜⎢0⎥  ⎢1 ⎥  ⎢0⎥  ⎢0⎥⎟\n",
       "⎜⎢ ⎥, ⎢  ⎥, ⎢ ⎥, ⎢ ⎥⎟\n",
       "⎜⎢4⎥  ⎢-2⎥  ⎢2⎥  ⎢1⎥⎟\n",
       "⎜⎢ ⎥  ⎢  ⎥  ⎢ ⎥  ⎢ ⎥⎟\n",
       "⎝⎣2⎦  ⎣-1⎦  ⎣1⎦  ⎣2⎦⎠"
      ]
     },
     "execution_count": 39,
     "metadata": {
     },
     "output_type": "execute_result"
    }
   ],
   "source": [
    "T(2, 0, 2, 0), T(0, 1, -1, 0), T(0, 0, 1, 0), T(3, 0, 0, 1)"
   ]
  },
  {
   "cell_type": "markdown",
   "metadata": {
    "collapsed": false,
    "hidden": true
   },
   "source": [
    "and so the matrix of $T$ with respect to $\\mathscr{C}$ and $\\mathscr{B}$ is:\n",
    "$$\n",
    "\\begin{pmatrix}\n",
    "2 & 4  & 0 & 3 \\\\\n",
    "      0 & 1  & 0 & 0 \\\\\n",
    "      4 & -2 & 2 & 1 \\\\\n",
    "      2 & -1 & 1 & 2\n",
    "      \\end{pmatrix}.\n",
    "$$"
   ]
  },
  {
   "cell_type": "markdown",
   "metadata": {
    "collapsed": false,
    "hidden": true
   },
   "source": [
    "To compute the matrix of $T$ with respect to $\\mathscr{C}$ and $\\mathscr{C}$ is harder, because it isn't immediately apparent how to express $T(\\vec{v}_i)$ as a linear combination of vectors in $\\mathscr{C}$. Thankfully, python can help us with that too"
   ]
  },
  {
   "cell_type": "code",
   "execution_count": 40,
   "metadata": {
    "collapsed": false,
    "hidden": true
   },
   "outputs": [
   ],
   "source": [
    "v1, v2, v3, v4 = Vector(2, 0, 2, 0), Vector(0, 1, -1, 0), Vector(0, 0, 1, 0), Vector(3, 0, 0, 1)"
   ]
  },
  {
   "cell_type": "code",
   "execution_count": 41,
   "metadata": {
    "collapsed": false,
    "hidden": true
   },
   "outputs": [
   ],
   "source": [
    "Tv1, Tv2, Tv3, Tv4 = T(2, 0, 2, 0), T(0, 1, -1, 0), T(0, 0, 1, 0), T(3, 0, 0, 1)"
   ]
  },
  {
   "cell_type": "code",
   "execution_count": 43,
   "metadata": {
    "collapsed": false,
    "hidden": true
   },
   "outputs": [
   ],
   "source": [
    "from sympy.abc import a, b, c, d\n",
    "from sympy import solve"
   ]
  },
  {
   "cell_type": "code",
   "execution_count": 44,
   "metadata": {
    "collapsed": false,
    "hidden": true
   },
   "outputs": [
    {
     "data": {
      "image/png": "[encoded data removed]",
      "text/latex": [
       "$\\displaystyle \\left\\{ a : -2, \\  b : 0, \\  c : 8, \\  d : 2\\right\\}$"
      ],
      "text/plain": [
       "{a: -2, b: 0, c: 8, d: 2}"
      ]
     },
     "execution_count": 44,
     "metadata": {
     },
     "output_type": "execute_result"
    }
   ],
   "source": [
    "solve(a * v1 + b * v2 + c * v3 + d * v4 - Tv1, [a, b, c, d])"
   ]
  },
  {
   "cell_type": "code",
   "execution_count": 45,
   "metadata": {
    "collapsed": false,
    "hidden": true
   },
   "outputs": [
    {
     "data": {
      "image/png": "[encoded data removed]",
      "text/latex": [
       "$\\displaystyle \\left\\{ a : \\frac{7}{2}, \\  b : 1, \\  c : -8, \\  d : -1\\right\\}$"
      ],
      "text/plain": [
       "{a: 7/2, b: 1, c: -8, d: -1}"
      ]
     },
     "execution_count": 45,
     "metadata": {
     },
     "output_type": "execute_result"
    }
   ],
   "source": [
    "solve(a * v1 + b * v2 + c * v3 + d * v4 - Tv2, [a, b, c, d])"
   ]
  },
  {
   "cell_type": "code",
   "execution_count": 47,
   "metadata": {
    "collapsed": false,
    "hidden": true
   },
   "outputs": [
    {
     "data": {
      "image/png": "[encoded data removed]",
      "text/latex": [
       "$\\displaystyle \\left\\{ a : - \\frac{3}{2}, \\  b : 0, \\  c : 5, \\  d : 1\\right\\}$"
      ],
      "text/plain": [
       "{a: -3/2, b: 0, c: 5, d: 1}"
      ]
     },
     "execution_count": 47,
     "metadata": {
     },
     "output_type": "execute_result"
    }
   ],
   "source": [
    "solve(a * v1 + b * v2 + c * v3 + d * v4 - Tv3, [a, b, c, d])"
   ]
  },
  {
   "cell_type": "code",
   "execution_count": 48,
   "metadata": {
    "collapsed": false,
    "hidden": true
   },
   "outputs": [
    {
     "data": {
      "image/png": "[encoded data removed]",
      "text/latex": [
       "$\\displaystyle \\left\\{ a : - \\frac{3}{2}, \\  b : 0, \\  c : 4, \\  d : 2\\right\\}$"
      ],
      "text/plain": [
       "{a: -3/2, b: 0, c: 4, d: 2}"
      ]
     },
     "execution_count": 48,
     "metadata": {
     },
     "output_type": "execute_result"
    }
   ],
   "source": [
    "solve(a * v1 + b * v2 + c * v3 + d * v4 - Tv4, [a, b, c, d])"
   ]
  },
  {
   "cell_type": "markdown",
   "metadata": {
    "collapsed": false,
    "hidden": true
   },
   "source": [
    "Hence the required matrix is:\n",
    "$$\n",
    "\\frac{1}{2}\n",
    "    \\begin{pmatrix}\n",
    "      -4 & 7 & -3 & -3 \\\\\n",
    "      0  & 2            & 0             & 0             \\\\\n",
    "      16  & -16           & 10             & 8             \\\\\n",
    "      4  & -2           & 2             & 4\n",
    "    \\end{pmatrix}.\n",
    "$$"
   ]
  },
  {
   "cell_type": "markdown",
   "metadata": {
    "collapsed": false
   },
   "source": [
    "## Example 4.3.3"
   ]
  },
  {
   "cell_type": "markdown",
   "metadata": {
    "collapsed": false
   },
   "source": [
    "  Let $V$ be a $2$-dimensional vector space over $\\mathbb{R}$ with basis\n",
    "  $\\mathscr{B} = \\{ v_{1},v_{2} \\}$.  Let\n",
    "  \\begin{equation*}\n",
    "    w_{1} = 3v_{1} - 5v_{2}\\\\\n",
    "    w_{2} = -v_{1}+2v_{2}\n",
    "  \\end{equation*}\n",
    "  and $\\mathscr{C} = \\{ w_{1},w_{2} \\}$.  Define the linear\n",
    "  transformation $T: V \\to V$ by\n",
    "  \\begin{align*}\n",
    "    T(v_{1}) & = 16v_{1} - 30v_{2} \\\\\n",
    "    T(v_{2}) & = 9v_{1} - 17v_{2}.\n",
    "  \\end{align*}\n",
    "  Find the matrix Mat$_{\\mathscr{C},\\mathscr{C}}(T)$.\n"
   ]
  },
  {
   "cell_type": "markdown",
   "metadata": {
    "collapsed": false
   },
   "source": [
    "## Solution to Example 4.3.3"
   ]
  },
  {
   "cell_type": "markdown",
   "metadata": {
    "collapsed": false
   },
   "source": [
    "There are several possible solutions, but we will use the change of basis matrix since this is in the section about change of basis matrices."
   ]
  },
  {
   "cell_type": "markdown",
   "metadata": {
    "collapsed": false
   },
   "source": [
    " The formula for $T$ tells us that:\n",
    " $$\n",
    "     A = \\operatorname{Mat}_{\\mathscr{B},\\mathscr{B}}(T) = \n",
    "    \\begin{pmatrix} \n",
    "      16 & 9 \\\\ \n",
    "      -30 & -17\n",
    "    \\end{pmatrix}.\n",
    "$$"
   ]
  },
  {
   "cell_type": "code",
   "execution_count": 7,
   "metadata": {
    "collapsed": false
   },
   "outputs": [
   ],
   "source": [
    "from sympy import Matrix\n",
    "A = Matrix([[16, 9], [-30, -17]])"
   ]
  },
  {
   "cell_type": "markdown",
   "metadata": {
    "collapsed": false
   },
   "source": [
    "Since \n",
    " \\begin{equation*}\n",
    "   id(w_1) = w_{1} = 3v_{1} - 5v_{2}\\\\\n",
    "   id(w_2) =  w_{2} = -v_{1}+2v_{2},\n",
    "  \\end{equation*}\n",
    "we can also express the change of basis matrix\n",
    "$$P = \\operatorname{Mat}_{\\mathscr{C}, \\mathscr{B}}(\\operatorname{id}) = \n",
    "\\begin{pmatrix}\n",
    "3 & -1 \\\\\n",
    "-5 & 2\n",
    "\\end{pmatrix}.\n",
    "$$"
   ]
  },
  {
   "cell_type": "code",
   "execution_count": 8,
   "metadata": {
    "collapsed": false
   },
   "outputs": [
   ],
   "source": [
    "\n",
    "P = Matrix([[3, -1], [-5, 2]])"
   ]
  },
  {
   "cell_type": "markdown",
   "metadata": {
    "collapsed": false
   },
   "source": [
    "Hence $\\operatorname{Mat}_{\\mathscr{C}, \\mathscr{C}}(T) = P ^ {-1} A P = $"
   ]
  },
  {
   "cell_type": "code",
   "execution_count": 9,
   "metadata": {
    "collapsed": false
   },
   "outputs": [
    {
     "data": {
      "text/latex": [
       "$\\displaystyle \\left[\\begin{matrix}1 & 0\\\\0 & -2\\end{matrix}\\right]$"
      ],
      "text/plain": [
       "Matrix([\n",
       "[1,  0],\n",
       "[0, -2]])"
      ]
     },
     "execution_count": 9,
     "metadata": {
     },
     "output_type": "execute_result"
    }
   ],
   "source": [
    "P ** -1 * A * P"
   ]
  },
  {
   "cell_type": "markdown",
   "metadata": {
    "collapsed": false
   },
   "source": [
    "## Example 4.3A"
   ]
  },
  {
   "cell_type": "markdown",
   "metadata": {
    "collapsed": false
   },
   "source": [
    "  Let\n",
    "  $$\n",
    "    \\mathscr{B} = \\left\\{ \\begin{pmatrix}0 \\\\ 1 \\\\ -1 \\end{pmatrix} \n",
    "                \\begin{pmatrix} 1 \\\\ 0 \\\\ -1 \\end{pmatrix}\n",
    "                \\begin{pmatrix} 2 \\\\ -1 \\\\0\\end{pmatrix} \n",
    "                \\right\\}.\n",
    "  $$\n",
    " \n",
    "  (i) Show that $\\mathscr{B}$ is a basis for $\\mathbb{R}^{3}$.\n",
    "  \n",
    "  (ii) Write down the change of basis matrix from the standard basis $\\mathscr{E} = \\{ \\vec{e}_{1},\\vec{e}_{2},\\vec{e}_{3}\\}$ to $\\mathscr{B}$.\n",
    "  \n",
    "  (iii) Let $$\n",
    "            A = \\begin{pmatrix}\n",
    "              -2 & -2 & -3 \\\\\n",
    "              1  & 1  & 2  \\\\\n",
    "              -1 & -2 & -2\n",
    "            \\end{pmatrix}\n",
    "          $$\n",
    "     and view $A$ as a linear transformation $\\mathbb{R}^{3} \\to \\mathbb{R}^{3}$.  Find\n",
    "     the matrix of $A$ with respect to the basis $\\mathscr{B}$.\n"
   ]
  },
  {
   "cell_type": "markdown",
   "metadata": {
    "collapsed": false
   },
   "source": [
    "## Solution to Example 4.3A"
   ]
  },
  {
   "cell_type": "markdown",
   "metadata": {
    "collapsed": false,
    "heading_collapsed": true
   },
   "source": [
    "### Part (i)"
   ]
  },
  {
   "cell_type": "markdown",
   "metadata": {
    "collapsed": false,
    "hidden": true
   },
   "source": [
    "To show that $\\mathscr{B}$ is a basis for $\\mathbb{R} ^ 3$ we put the columns into a matrix and compute the rank. "
   ]
  },
  {
   "cell_type": "code",
   "execution_count": 11,
   "metadata": {
    "collapsed": false,
    "hidden": true
   },
   "outputs": [
   ],
   "source": [
    "from sympy import Matrix"
   ]
  },
  {
   "cell_type": "code",
   "execution_count": 12,
   "metadata": {
    "collapsed": false,
    "hidden": true
   },
   "outputs": [
    {
     "data": {
      "text/plain": [
       "3"
      ]
     },
     "execution_count": 12,
     "metadata": {
     },
     "output_type": "execute_result"
    }
   ],
   "source": [
    "Matrix([[0, 1, 2], [1, 0, -1], [-1, -1, 0]]).rank()"
   ]
  },
  {
   "cell_type": "markdown",
   "metadata": {
    "collapsed": false,
    "hidden": true
   },
   "source": [
    "Hence we deduce that $\\mathscr{B}$ is linearly independent."
   ]
  },
  {
   "cell_type": "markdown",
   "metadata": {
    "collapsed": false,
    "heading_collapsed": true
   },
   "source": [
    "### Part (ii)"
   ]
  },
  {
   "cell_type": "markdown",
   "metadata": {
    "collapsed": false,
    "hidden": true
   },
   "source": [
    "We write each vector in $\\mathscr{B}$ in terms of the standard basis, so that the change of basis matrix $P = \\operatorname{Mat}_{\\mathscr{E}, \\mathscr{B}}(\\operatorname{id})$ is\n",
    "$$\n",
    "P = \\operatorname{Mat}_{\\mathscr{E}, \\mathscr{B}}(\\operatorname{id}) = \n",
    "\\begin{pmatrix}\n",
    "0 & 1 & 2 \\\\\n",
    "1 & 0 & -1 \\\\\n",
    "-1 & -1 & 0.\n",
    "\\end{pmatrix}$$"
   ]
  },
  {
   "cell_type": "code",
   "execution_count": 32,
   "metadata": {
    "collapsed": false,
    "hidden": true
   },
   "outputs": [
   ],
   "source": [
    "P = Matrix([[0, 1, 2], [1, 0, -1], [-1, -1, 0]])"
   ]
  },
  {
   "cell_type": "markdown",
   "metadata": {
    "collapsed": false,
    "heading_collapsed": true
   },
   "source": [
    "### Part (iii)"
   ]
  },
  {
   "cell_type": "code",
   "execution_count": 24,
   "metadata": {
    "collapsed": false,
    "hidden": true
   },
   "outputs": [
   ],
   "source": [
    "def Vector(*args):\n",
    "    return Matrix([[x] for x in args])\n",
    "from sympy.abc import a, b, c\n",
    "from sympy import solve"
   ]
  },
  {
   "cell_type": "code",
   "execution_count": 25,
   "metadata": {
    "collapsed": false,
    "hidden": true
   },
   "outputs": [
   ],
   "source": [
    "A = Matrix([[-2, -2, -3], [1, 1, 2], [-1, -2, -2]])"
   ]
  },
  {
   "cell_type": "code",
   "execution_count": 26,
   "metadata": {
    "collapsed": false,
    "hidden": true
   },
   "outputs": [
   ],
   "source": [
    "v1, v2, v3 = Vector(0, 1, -1), Vector(1, 0, -1), Vector(2, -1, 0)"
   ]
  },
  {
   "cell_type": "code",
   "execution_count": 27,
   "metadata": {
    "collapsed": false,
    "hidden": true
   },
   "outputs": [
    {
     "data": {
      "text/latex": [
       "$\\displaystyle \\left[\\begin{matrix}1\\\\-1\\\\0\\end{matrix}\\right]$"
      ],
      "text/plain": [
       "Matrix([\n",
       "[ 1],\n",
       "[-1],\n",
       "[ 0]])"
      ]
     },
     "execution_count": 27,
     "metadata": {
     },
     "output_type": "execute_result"
    }
   ],
   "source": [
    "A * v1"
   ]
  },
  {
   "cell_type": "code",
   "execution_count": 28,
   "metadata": {
    "collapsed": false,
    "hidden": true
   },
   "outputs": [
    {
     "data": {
      "text/plain": [
       "{a: -1, b: 1, c: 0}"
      ]
     },
     "execution_count": 28,
     "metadata": {
     },
     "output_type": "execute_result"
    }
   ],
   "source": [
    "solve(a * v1 + b * v2 + c * v3 - A * v1, [a, b, c])"
   ]
  },
  {
   "cell_type": "code",
   "execution_count": 30,
   "metadata": {
    "collapsed": false,
    "hidden": true
   },
   "outputs": [
    {
     "data": {
      "text/plain": [
       "{a: 0, b: -1, c: 1}"
      ]
     },
     "execution_count": 30,
     "metadata": {
     },
     "output_type": "execute_result"
    }
   ],
   "source": [
    "solve(a * v1 + b * v2 + c * v3 - A * v2, [a, b, c])"
   ]
  },
  {
   "cell_type": "code",
   "execution_count": 31,
   "metadata": {
    "collapsed": false,
    "hidden": true
   },
   "outputs": [
    {
     "data": {
      "text/plain": [
       "{a: 0, b: -1, c: 1}"
      ]
     },
     "execution_count": 31,
     "metadata": {
     },
     "output_type": "execute_result"
    }
   ],
   "source": [
    "solve(a * v1 + b * v2 + c * v3 - A * v2, [a, b, c])"
   ]
  },
  {
   "cell_type": "markdown",
   "metadata": {
    "collapsed": false,
    "hidden": true
   },
   "source": [
    "So, if $T: \\mathbb{R} ^ 3 \\to \\mathbb{R} ^ 3$ is defined by $T(\\vec{v}) = A\\vec{v}$, then\n",
    "$$\n",
    "\\operatorname{Mat}_{\\mathscr{B}, \\mathscr{B}}(T) = \n",
    "\\begin{pmatrix}\n",
    "-1 & 0 & 0 \\\\\n",
    "1 & -1 & -1 \\\\\n",
    "0 & 1 & 1\n",
    "\\end{pmatrix}$$"
   ]
  },
  {
   "cell_type": "markdown",
   "metadata": {
    "collapsed": false,
    "heading_collapsed": true
   },
   "source": [
    "### Alternative solution to part (iii)"
   ]
  },
  {
   "cell_type": "markdown",
   "metadata": {
    "collapsed": false,
    "hidden": true
   },
   "source": [
    "The previous solution didn't use the change of basis matrix. Here's a solution that does. Using the change of basis matrix from $\\mathscr{E}$ to $\\mathscr{B}$ found in part (ii), we compute:"
   ]
  },
  {
   "cell_type": "code",
   "execution_count": 0,
   "metadata": {
    "collapsed": false,
    "hidden": true
   },
   "outputs": [
   ],
   "source": [
    "P = Matrix([[0, 1, 2], [1, 0, -1], [-1, -1, 0]])"
   ]
  },
  {
   "cell_type": "markdown",
   "metadata": {
    "collapsed": false,
    "hidden": true
   },
   "source": [
    "The matrix $\\operatorname{Mat}_{\\mathscr{B}, \\mathscr{B}}(T)$ is then $P ^ {-1} A P$, which we compute as:"
   ]
  },
  {
   "cell_type": "code",
   "execution_count": 36,
   "metadata": {
    "collapsed": false,
    "hidden": true
   },
   "outputs": [
    {
     "data": {
      "text/latex": [
       "$\\displaystyle \\left[\\begin{matrix}-1 & 0 & 0\\\\1 & -1 & 0\\\\0 & 1 & -1\\end{matrix}\\right]$"
      ],
      "text/plain": [
       "Matrix([\n",
       "[-1,  0,  0],\n",
       "[ 1, -1,  0],\n",
       "[ 0,  1, -1]])"
      ]
     },
     "execution_count": 36,
     "metadata": {
     },
     "output_type": "execute_result"
    }
   ],
   "source": [
    "P ** -1 * A * P"
   ]
  }
 ],
 "metadata": {
  "kernelspec": {
   "display_name": "Python 3 (system-wide)",
   "language": "python",
   "metadata": {
    "cocalc": {
     "description": "Python 3 programming language",
     "priority": 100,
     "url": "https://www.python.org/"
    }
   },
   "name": "python3"
  },
  "language_info": {
   "codemirror_mode": {
    "name": "ipython",
    "version": 3
   },
   "file_extension": ".py",
   "mimetype": "text/x-python",
   "name": "python",
   "nbconvert_exporter": "python",
   "pygments_lexer": "ipython3",
   "version": "3.8.2"
  }
 },
 "nbformat": 4,
 "nbformat_minor": 4
}