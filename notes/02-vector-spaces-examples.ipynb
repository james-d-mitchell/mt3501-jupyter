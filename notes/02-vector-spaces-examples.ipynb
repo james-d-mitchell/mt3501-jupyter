{
 "cells": [
  {
   "cell_type": "markdown",
   "id": "b54d83f2",
   "metadata": {},
   "source": [
    "# Section 2 - Vector spaces"
   ]
  },
  {
   "cell_type": "markdown",
   "id": "3e70fb89",
   "metadata": {},
   "source": [
    "## Example 2.4A (Extending a linearly independent set to a basis)"
   ]
  },
  {
   "cell_type": "markdown",
   "id": "14118f30",
   "metadata": {},
   "source": [
    "  Let $V = \\mathbb{R}^{4}$.  Show that the set\n",
    "  $$\n",
    "    \\mathscr{A} = \n",
    "    \\left\\{ \n",
    "    v_1 := \\begin{pmatrix} 3 \\\\ 1 \\\\ 0 \\\\ 0 \\end{pmatrix},\n",
    "    v_2 := \\begin{pmatrix} 1 \\\\ 0 \\\\ 3 \\\\ 4 \\end{pmatrix} \n",
    "    \\right\\}\n",
    "  $$\n",
    "  is a linearly independent set of vectors.  Find a basis for $\\mathbb{R}^{4}$\n",
    "  containing $\\mathscr{A}$."
   ]
  },
  {
   "cell_type": "markdown",
   "id": "fc10ad82",
   "metadata": {},
   "source": [
    "## Solution to Example 2.4A"
   ]
  },
  {
   "cell_type": "markdown",
   "id": "0530fe5e",
   "metadata": {},
   "source": [
    "We insert the vectors in $\\mathscr{A}$ as the columns in a matrix $A$:"
   ]
  },
  {
   "cell_type": "code",
   "execution_count": 1,
   "id": "d9ce3c01",
   "metadata": {},
   "outputs": [],
   "source": [
    "from sympy import Matrix\n",
    "A = Matrix([[3, 1], [1, 0], [0, 3], [0, 4]])"
   ]
  },
  {
   "cell_type": "markdown",
   "id": "19d98d0a",
   "metadata": {},
   "source": [
    "To check that $\\mathcal{A}$ is linearly independent, we compute an echelon form of $A$:"
   ]
  },
  {
   "cell_type": "code",
   "execution_count": 2,
   "id": "79b11c84",
   "metadata": {},
   "outputs": [
    {
     "data": {
      "text/latex": [
       "$\\displaystyle \\left[\\begin{matrix}3 & 1\\\\0 & -1\\\\0 & 0\\\\0 & 0\\end{matrix}\\right]$"
      ],
      "text/plain": [
       "Matrix([\n",
       "[3,  1],\n",
       "[0, -1],\n",
       "[0,  0],\n",
       "[0,  0]])"
      ]
     },
     "execution_count": 2,
     "metadata": {},
     "output_type": "execute_result"
    }
   ],
   "source": [
    "A.echelon_form()"
   ]
  },
  {
   "cell_type": "markdown",
   "id": "0ceb146f",
   "metadata": {},
   "source": [
    "Since there are two non-zero columns (and rows) in this echelon form for $A$, we conclude that $\\mathscr{A}$ is linearly independent."
   ]
  },
  {
   "cell_type": "markdown",
   "id": "b4a7fe00",
   "metadata": {},
   "source": [
    "Next, we find a vector that isn't in the space spanned by $\\mathcal{A}$, it is enough to find vectors $v_3$ and $v_4$ such that $v_3 \\not\\in \\operatorname{Span}(v_1, v_2)$ and $v_4\\not\\in \\operatorname{Span}(v_1, v_2, v_3)$. \n",
    "\n",
    "Every vector in $\\operatorname{Span}(v_1, v_2)$ is of the form \n",
    "$$\n",
    "\\begin{pmatrix} 3\\alpha_1 + \\alpha_2 \\\\ \\alpha_1 \\\\ 3 \\alpha_2 \\\\ 4 \\alpha_2 \\end{pmatrix}\n",
    "$$\n",
    "but the vector\n",
    "$$\n",
    "v_3 = \\begin{pmatrix} 0 \\\\ 0 \\\\ 0 \\\\ 4 \\end{pmatrix}\n",
    "$$\n",
    "is not. Similarly, \n",
    "$$\n",
    "v_4  = \\begin{pmatrix} 0 \\\\ 0 \\\\ 3 \\\\ 0 \\end{pmatrix}\n",
    "$$\n",
    "does not belong to the space spanned by $v_1$, $v_2$, and $v_3$.\n",
    "\n",
    "So, the set $\\{v_1, v_2, v_3, v_4\\}$ should be linearly independent, let's check. "
   ]
  },
  {
   "cell_type": "code",
   "execution_count": 3,
   "id": "cbdf2508",
   "metadata": {},
   "outputs": [
    {
     "data": {
      "text/plain": [
       "{a: 0, b: 0, c: 0, d: 0}"
      ]
     },
     "execution_count": 3,
     "metadata": {},
     "output_type": "execute_result"
    }
   ],
   "source": [
    "from sympy.abc import a, b, c, d\n",
    "from sympy import solve\n",
    "v1, v2, v3, v4 = Matrix([3, 1, 0, 0]), Matrix([1, 0, 3, 4]), Matrix([0, 0, 0, 4]), Matrix([0, 0, 3, 0])\n",
    "solve(a * v1 + b * v2 + c * v3 + d * v4, [a, b, c, d])\n"
   ]
  },
  {
   "cell_type": "markdown",
   "id": "6d8bd400",
   "metadata": {},
   "source": [
    "And so since the only solution is when the coefficients $a = b = c= d = 0$, it follows that the set is actually linearly independent. "
   ]
  }
 ],
 "metadata": {
  "kernelspec": {
   "display_name": "Python 3",
   "language": "python",
   "name": "python3"
  },
  "language_info": {
   "codemirror_mode": {
    "name": "ipython",
    "version": 3
   },
   "file_extension": ".py",
   "mimetype": "text/x-python",
   "name": "python",
   "nbconvert_exporter": "python",
   "pygments_lexer": "ipython3",
   "version": "3.9.6"
  }
 },
 "nbformat": 4,
 "nbformat_minor": 5
}
