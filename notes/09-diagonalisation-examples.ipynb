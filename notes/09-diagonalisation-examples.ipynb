{
 "cells": [
  {
   "cell_type": "markdown",
   "metadata": {},
   "source": [
    "# Section 9 (Diagonalisation)"
   ]
  },
  {
   "cell_type": "markdown",
   "metadata": {},
   "source": [
    "## Example 9.5.1"
   ]
  },
  {
   "cell_type": "markdown",
   "metadata": {},
   "source": [
    "Let $T : \\mathbb{R}^{3} \\to \\mathbb{R}^{3}$ be the linear transformation such that the\n",
    "matrix of $T$ with respect to the standard basis for $\\mathbb{R} ^ 3$ is\n",
    "$$\n",
    "B = \\begin{pmatrix}\n",
    "8 & 3 & 0 \\\\\n",
    "-18 & -7 & 0 \\\\\n",
    "-9 & -4 & 2\n",
    "\\end{pmatrix}.\n",
    "$$\n",
    "Show that $T$ is not diagonalisable."
   ]
  },
  {
   "cell_type": "markdown",
   "metadata": {},
   "source": [
    "## Solution to Example 9.5.1 (using Theorem 9.1.5(3))"
   ]
  },
  {
   "cell_type": "markdown",
   "metadata": {},
   "source": [
    "The transformation $T$ is diagonalisable if and only if the characteristic polynomial $c_T(x)$ is a product of linear factors, and the algebraic multiplicity of every eigenvalue $\\lambda$ equals the geometric multiplicity of $\\lambda$. "
   ]
  },
  {
   "cell_type": "code",
   "execution_count": 1,
   "metadata": {},
   "outputs": [],
   "source": [
    "from sympy import Matrix, factor, eye\n",
    "from sympy.abc import x"
   ]
  },
  {
   "cell_type": "code",
   "execution_count": 2,
   "metadata": {},
   "outputs": [],
   "source": [
    "B = Matrix([[8, 3, 0], [-18, -7, 0], [-9, -4, 2]])"
   ]
  },
  {
   "cell_type": "code",
   "execution_count": 3,
   "metadata": {},
   "outputs": [],
   "source": [
    "A = x * eye(3) - B"
   ]
  },
  {
   "cell_type": "code",
   "execution_count": 4,
   "metadata": {},
   "outputs": [
    {
     "data": {
      "text/latex": [
       "$\\displaystyle \\left[\\begin{matrix}x - 8 & -3 & 0\\\\18 & x + 7 & 0\\\\9 & 4 & x - 2\\end{matrix}\\right]$"
      ],
      "text/plain": [
       "Matrix([\n",
       "[x - 8,    -3,     0],\n",
       "[   18, x + 7,     0],\n",
       "[    9,     4, x - 2]])"
      ]
     },
     "execution_count": 4,
     "metadata": {},
     "output_type": "execute_result"
    }
   ],
   "source": [
    "A"
   ]
  },
  {
   "cell_type": "code",
   "execution_count": 5,
   "metadata": {},
   "outputs": [
    {
     "data": {
      "text/latex": [
       "$\\displaystyle x^{3} - 3 x^{2} + 4$"
      ],
      "text/plain": [
       "x**3 - 3*x**2 + 4"
      ]
     },
     "execution_count": 5,
     "metadata": {},
     "output_type": "execute_result"
    }
   ],
   "source": [
    "A.det()"
   ]
  },
  {
   "cell_type": "markdown",
   "metadata": {},
   "source": [
    "Not super helpful"
   ]
  },
  {
   "cell_type": "code",
   "execution_count": 6,
   "metadata": {},
   "outputs": [
    {
     "data": {
      "text/latex": [
       "$\\displaystyle \\left(\\lambda - 2\\right)^{2} \\left(\\lambda + 1\\right)$"
      ],
      "text/plain": [
       "(lambda - 2)**2*(lambda + 1)"
      ]
     },
     "execution_count": 6,
     "metadata": {},
     "output_type": "execute_result"
    }
   ],
   "source": [
    "factor(B.charpoly().as_expr())"
   ]
  },
  {
   "cell_type": "markdown",
   "metadata": {},
   "source": [
    "It follows that $c_T(x) = (x + 1)(x - 2) ^ 2$ and the algebraic multiplicities are $a_{-1} = 1$ and $a_{2} = 2$. Since $1 = a_{-1} \\geq g_{-1} \\geq 1$, it follows that $g_{-1}$ is $1$. "
   ]
  },
  {
   "cell_type": "markdown",
   "metadata": {},
   "source": [
    "Alternatively, we can compute the dimension of the eigenspaces $\\ker(B + I)$ and $\\ker(B - 2I)$ directly. "
   ]
  },
  {
   "cell_type": "code",
   "execution_count": 7,
   "metadata": {},
   "outputs": [
    {
     "data": {
      "text/plain": [
       "(2, 2)"
      ]
     },
     "execution_count": 7,
     "metadata": {},
     "output_type": "execute_result"
    }
   ],
   "source": [
    "(B + eye(3)).rank(), (B - 2 * eye(3)).rank()"
   ]
  },
  {
   "cell_type": "markdown",
   "metadata": {},
   "source": [
    "Hence, by the Rank-Nullity Theorem, $g_{-1} = \\dim\\ker(B + I) = \\dim\\mathbb{R} ^ 3 - \\dim \\operatorname{im} (B + I) = 3 - 2 = 1$ and $g_{2} = \\dim\\ker(B - 2I) = 1$ also. In particular, $g_{2} = 1 \\neq 2 = a_2$, and so $B$ is not diagonalisable."
   ]
  },
  {
   "cell_type": "markdown",
   "metadata": {},
   "source": [
    "## Solution to Example 9.5.1 (using Theorem 9.1.5(4))"
   ]
  },
  {
   "cell_type": "code",
   "execution_count": 8,
   "metadata": {},
   "outputs": [],
   "source": [
    "from sympy import Matrix, factor, eye\n",
    "from sympy.abc import x"
   ]
  },
  {
   "cell_type": "markdown",
   "metadata": {},
   "source": [
    "As in the other solution given above, we know that $c_T(x) = (x + 1)(x - 2) ^ 2$, and we know that the minimum polynomial $m_T(x) = (x + 1)(x - 2)$ or $(x + 1)(x - 2) ^ 2$. We can just evaluate both of the possibilities for the minimum polynomial (substituting $B$ for $x$), and the one of least degree that equals the zero matrix is the minimum polynomial."
   ]
  },
  {
   "cell_type": "code",
   "execution_count": 9,
   "metadata": {},
   "outputs": [
    {
     "data": {
      "text/latex": [
       "$\\displaystyle \\left[\\begin{matrix}0 & 0 & 0\\\\0 & 0 & 0\\\\-9 & -3 & 0\\end{matrix}\\right]$"
      ],
      "text/plain": [
       "Matrix([\n",
       "[ 0,  0, 0],\n",
       "[ 0,  0, 0],\n",
       "[-9, -3, 0]])"
      ]
     },
     "execution_count": 9,
     "metadata": {},
     "output_type": "execute_result"
    }
   ],
   "source": [
    "(B + eye(3)) * (B - 2 * eye(3))"
   ]
  },
  {
   "cell_type": "markdown",
   "metadata": {},
   "source": [
    "This is not the zero matrix, and so $m_T(x) = c_T(x)$, double-check:"
   ]
  },
  {
   "cell_type": "code",
   "execution_count": 10,
   "metadata": {},
   "outputs": [
    {
     "data": {
      "text/latex": [
       "$\\displaystyle \\left[\\begin{matrix}0 & 0 & 0\\\\0 & 0 & 0\\\\0 & 0 & 0\\end{matrix}\\right]$"
      ],
      "text/plain": [
       "Matrix([\n",
       "[0, 0, 0],\n",
       "[0, 0, 0],\n",
       "[0, 0, 0]])"
      ]
     },
     "execution_count": 10,
     "metadata": {},
     "output_type": "execute_result"
    }
   ],
   "source": [
    "(B + eye(3)) * (B - 2 * eye(3)) ** 2"
   ]
  },
  {
   "cell_type": "markdown",
   "metadata": {},
   "source": [
    "It follows that $m_T(x)$ is not a product of distinct linear factors, and so $B$ is not diagonalisable."
   ]
  },
  {
   "cell_type": "markdown",
   "metadata": {},
   "source": [
    "## Example 9.5A"
   ]
  },
  {
   "cell_type": "markdown",
   "metadata": {},
   "source": [
    "  Let\n",
    "  $$\n",
    "    A = \\begin{pmatrix}\n",
    "      -1 & 2 & -1 \\\\\n",
    "      -4 & 5 & -2 \\\\\n",
    "      -4 & 3 & 0\n",
    "    \\end{pmatrix}.\n",
    "  $$\n",
    "  Show that $A$ is not diagonalisable.\n"
   ]
  },
  {
   "cell_type": "markdown",
   "metadata": {},
   "source": [
    "## Solution to Example 9.5A"
   ]
  },
  {
   "cell_type": "code",
   "execution_count": 11,
   "metadata": {},
   "outputs": [],
   "source": [
    "from sympy import Matrix, factor, eye\n",
    "from sympy.abc import x"
   ]
  },
  {
   "cell_type": "code",
   "execution_count": 12,
   "metadata": {},
   "outputs": [],
   "source": [
    "A = Matrix([[-1, 2, -1], [-4, 5, -2], [-4, 3, 0]])"
   ]
  },
  {
   "cell_type": "code",
   "execution_count": 13,
   "metadata": {},
   "outputs": [
    {
     "data": {
      "text/latex": [
       "$\\displaystyle \\left(\\lambda - 2\\right) \\left(\\lambda - 1\\right)^{2}$"
      ],
      "text/plain": [
       "(lambda - 2)*(lambda - 1)**2"
      ]
     },
     "execution_count": 13,
     "metadata": {},
     "output_type": "execute_result"
    }
   ],
   "source": [
    "factor(A.charpoly().as_expr())"
   ]
  },
  {
   "cell_type": "markdown",
   "metadata": {},
   "source": [
    "Hence the eigenvalues of $A$ are $1$ and $2$. The corresponding algebraic multiplicities are $a_1 = 2$ and $a_2 = 1$. "
   ]
  },
  {
   "cell_type": "code",
   "execution_count": 14,
   "metadata": {},
   "outputs": [
    {
     "data": {
      "text/plain": [
       "(2, 2)"
      ]
     },
     "execution_count": 14,
     "metadata": {},
     "output_type": "execute_result"
    }
   ],
   "source": [
    "(A - 2 * eye(3)).rank(),(A - eye(3)).rank()"
   ]
  },
  {
   "cell_type": "markdown",
   "metadata": {},
   "source": [
    "Hence, by the Rank-Nullity Theorem, the geometric multiplicities are: $g_1 = g_ 2 = 1$ and so $A$ is not diagonalisable by Theorem 9.1.5(iii)."
   ]
  },
  {
   "cell_type": "markdown",
   "metadata": {},
   "source": [
    "## Example 9.5.3"
   ]
  },
  {
   "cell_type": "markdown",
   "metadata": {},
   "source": [
    "  Let $T : \\mathbb{R} ^ 3 \\to \\mathbb{R} ^ 3$ be such that the matrix of $T$ with respect\n",
    "  to the standard basis for $\\mathbb{R} ^ 3$ is\n",
    "  $$\n",
    "    A = \\begin{pmatrix}\n",
    "      8  & 6  & 0 \\\\\n",
    "      -9 & -7 & 0 \\\\\n",
    "      3  & 3  & 2\n",
    "    \\end{pmatrix}.\n",
    "  $$\n",
    "  \n",
    "  (1) Find the characteristic polynomial of $T$.\n",
    "  \n",
    "  (2) Show that $T$ is diagonalisable and find the diagonal matrix $D$ such\n",
    "          that $D = \\operatorname{Mat}_{\\mathscr{B}, \\mathscr{B}}(T)$ for some basis $\\mathscr{B}$ for $\\mathbb{R} ^ 3$.\n",
    "          \n",
    "  (3) Find the minimum polynomial of $T$.\n"
   ]
  },
  {
   "cell_type": "markdown",
   "metadata": {},
   "source": [
    "## Solution to Example 9.5.3(1)"
   ]
  },
  {
   "cell_type": "code",
   "execution_count": 15,
   "metadata": {},
   "outputs": [],
   "source": [
    "from sympy import Matrix, factor, eye"
   ]
  },
  {
   "cell_type": "code",
   "execution_count": 16,
   "metadata": {},
   "outputs": [],
   "source": [
    "A = Matrix([[8, 6, 0], [-9, -7, 0], [3, 3, 2]])"
   ]
  },
  {
   "cell_type": "code",
   "execution_count": 17,
   "metadata": {},
   "outputs": [
    {
     "data": {
      "text/latex": [
       "$\\displaystyle \\left(\\lambda - 2\\right)^{2} \\left(\\lambda + 1\\right)$"
      ],
      "text/plain": [
       "(lambda - 2)**2*(lambda + 1)"
      ]
     },
     "execution_count": 17,
     "metadata": {},
     "output_type": "execute_result"
    }
   ],
   "source": [
    "factor(A.charpoly().as_expr())"
   ]
  },
  {
   "cell_type": "markdown",
   "metadata": {},
   "source": [
    "## Solution to Example 9.5.3(2)"
   ]
  },
  {
   "cell_type": "markdown",
   "metadata": {},
   "source": [
    "We compute the minimum polynomial $m_T(x)$. We know that $m_T(x)$ must be either $(x - 2)(x + 1)$ or $(x - 2) ^ 2 (x + 1)$ and that $m_T(x)$ is the monic polynomial of least degree such that $m_T(A)$ is the zero matrix."
   ]
  },
  {
   "cell_type": "code",
   "execution_count": 18,
   "metadata": {},
   "outputs": [
    {
     "data": {
      "text/latex": [
       "$\\displaystyle \\left[\\begin{matrix}0 & 0 & 0\\\\0 & 0 & 0\\\\0 & 0 & 0\\end{matrix}\\right]$"
      ],
      "text/plain": [
       "Matrix([\n",
       "[0, 0, 0],\n",
       "[0, 0, 0],\n",
       "[0, 0, 0]])"
      ]
     },
     "execution_count": 18,
     "metadata": {},
     "output_type": "execute_result"
    }
   ],
   "source": [
    "(A - 2 * eye(3)) * (A + eye(3))"
   ]
  },
  {
   "cell_type": "markdown",
   "metadata": {},
   "source": [
    "So, $m_T(x) = (x - 2)(x + 1)$ and since this is a product of distinct linear factors it follows by Theorem 9.1.5(iv) that $A$ is diagonalisable. The matrix $D$ is given by:\n",
    "$$\n",
    "D = \\begin{pmatrix}\n",
    "-1 & 0 & 0 \\\\\n",
    "0 & 2 & 0 \\\\\n",
    "0 & 0 & 2\n",
    "\\end{pmatrix}\n",
    "$$\n",
    "by Proposition 9.1.2."
   ]
  },
  {
   "cell_type": "markdown",
   "metadata": {},
   "source": [
    "## Solution to Example 9.5.3(3)"
   ]
  },
  {
   "cell_type": "markdown",
   "metadata": {},
   "source": [
    "We already computed the minimal polynomial in the solution to part (ii)."
   ]
  },
  {
   "cell_type": "markdown",
   "metadata": {},
   "source": [
    "## Example 9.5.4"
   ]
  },
  {
   "cell_type": "markdown",
   "metadata": {},
   "source": [
    "Consider the linear transformation $\\mathbb{R}^{3} \\to \\mathbb{R}^{3}$ given\n",
    "by the matrix\n",
    "$$\n",
    "D = \\begin{pmatrix}\n",
    "3 & 0 & 1 \\\\\n",
    "2 & 2 & 2 \\\\\n",
    "-1 & 0 & 1\n",
    "\\end{pmatrix}.\n",
    "$$\n",
    "Calculate the characteristic polynomial of $D$, determine if\n",
    "$D$ is diagonalisable and calculate the minimum polynomial."
   ]
  },
  {
   "cell_type": "markdown",
   "metadata": {},
   "source": [
    "## Solution to Example 9.5.4"
   ]
  },
  {
   "cell_type": "code",
   "execution_count": 19,
   "metadata": {},
   "outputs": [],
   "source": [
    "from sympy import Matrix, factor, eye"
   ]
  },
  {
   "cell_type": "markdown",
   "metadata": {},
   "source": [
    "As in the previous examples, the characteristic polynomial can be found by doing:"
   ]
  },
  {
   "cell_type": "code",
   "execution_count": 20,
   "metadata": {},
   "outputs": [],
   "source": [
    "D = Matrix([[3, 0, 1], [2, 2, 2], [-1, 0, 1]])"
   ]
  },
  {
   "cell_type": "code",
   "execution_count": 21,
   "metadata": {},
   "outputs": [
    {
     "data": {
      "text/latex": [
       "$\\displaystyle \\left(\\lambda - 2\\right)^{3}$"
      ],
      "text/plain": [
       "(lambda - 2)**3"
      ]
     },
     "execution_count": 21,
     "metadata": {},
     "output_type": "execute_result"
    }
   ],
   "source": [
    "factor(D.charpoly().as_expr())"
   ]
  },
  {
   "cell_type": "markdown",
   "metadata": {},
   "source": [
    "Hence $D$ is diagonalisable if and only if the minimum polynomial of $D$ is $x - 2$ if and only if $D - 2I$ is the zero matrix, which is clearly isn't. Hence $D$ is not diagonalisable. "
   ]
  },
  {
   "cell_type": "markdown",
   "metadata": {},
   "source": [
    "To find the minimum polynomial we compute $(A - 2I) ^ 2$ and $(A - 2I) ^ 3$:"
   ]
  },
  {
   "cell_type": "code",
   "execution_count": 22,
   "metadata": {},
   "outputs": [
    {
     "data": {
      "text/plain": [
       "(Matrix([\n",
       " [0, 0, 0],\n",
       " [0, 0, 0],\n",
       " [0, 0, 0]]),\n",
       " Matrix([\n",
       " [0, 0, 0],\n",
       " [0, 0, 0],\n",
       " [0, 0, 0]]))"
      ]
     },
     "execution_count": 22,
     "metadata": {},
     "output_type": "execute_result"
    }
   ],
   "source": [
    "(D - 2 * eye(3)) ** 2, (D - 2 * eye(3)) ** 3"
   ]
  },
  {
   "cell_type": "markdown",
   "metadata": {},
   "source": [
    "Hence the minimum polynomial is $(x - 2) ^ 2$."
   ]
  },
  {
   "cell_type": "markdown",
   "metadata": {},
   "source": [
    "## Example 9.5.5"
   ]
  },
  {
   "cell_type": "markdown",
   "metadata": {},
   "source": [
    "  Consider the linear transformation $\\mathbb{R}^{3} \\to \\mathbb{R}^{3}$ given\n",
    "  by the matrix\n",
    "  $$\n",
    "    E = \\begin{pmatrix}\n",
    "      -3 & -4  & -12 \\\\\n",
    "      0  & -11 & -24 \\\\\n",
    "      0  & 4   & 9\n",
    "    \\end{pmatrix}.\n",
    "  $$\n",
    "  Calculate the characteristic polynomial of $E$, determine\n",
    "  if $E$ is diagonalisable and calculate its minimum polynomial."
   ]
  },
  {
   "cell_type": "markdown",
   "metadata": {},
   "source": [
    "## Solution to Example 9.5.5"
   ]
  },
  {
   "cell_type": "code",
   "execution_count": 23,
   "metadata": {},
   "outputs": [],
   "source": [
    "from sympy import Matrix, factor, eye"
   ]
  },
  {
   "cell_type": "code",
   "execution_count": 24,
   "metadata": {},
   "outputs": [],
   "source": [
    "E = Matrix([[-3, -4, -12], [0, -11, -24], [0, 4, 9]])"
   ]
  },
  {
   "cell_type": "code",
   "execution_count": 25,
   "metadata": {},
   "outputs": [
    {
     "data": {
      "text/latex": [
       "$\\displaystyle \\left(\\lambda - 1\\right) \\left(\\lambda + 3\\right)^{2}$"
      ],
      "text/plain": [
       "(lambda - 1)*(lambda + 3)**2"
      ]
     },
     "execution_count": 25,
     "metadata": {},
     "output_type": "execute_result"
    }
   ],
   "source": [
    "factor(E.charpoly().as_expr())"
   ]
  },
  {
   "cell_type": "code",
   "execution_count": 26,
   "metadata": {},
   "outputs": [
    {
     "data": {
      "text/latex": [
       "$\\displaystyle \\left[\\begin{matrix}0 & 0 & 0\\\\0 & 0 & 0\\\\0 & 0 & 0\\end{matrix}\\right]$"
      ],
      "text/plain": [
       "Matrix([\n",
       "[0, 0, 0],\n",
       "[0, 0, 0],\n",
       "[0, 0, 0]])"
      ]
     },
     "execution_count": 26,
     "metadata": {},
     "output_type": "execute_result"
    }
   ],
   "source": [
    "(E - eye(3)) * (E + 3* eye(3))"
   ]
  },
  {
   "cell_type": "markdown",
   "metadata": {},
   "source": [
    "Hence the minimum polynomial of $E$ is $(x - 1) (x + 3)$ which is a product of distinct linear factors and so $E$ is diagonalisable."
   ]
  },
  {
   "cell_type": "markdown",
   "metadata": {},
   "source": [
    "## Example 9.5B"
   ]
  },
  {
   "cell_type": "markdown",
   "metadata": {},
   "source": [
    "  Let\n",
    "  $$\n",
    "    A = \\begin{pmatrix}\n",
    "      0  & -2 & -1 \\\\\n",
    "      1  & 5  & 3  \\\\\n",
    "      -1 & -2 & 0\n",
    "    \\end{pmatrix}.\n",
    "  $$\n",
    "  Calculate the characteristic polynomial and the minimum polynomial\n",
    "  of $A$.  Hence determine whether $A$ is diagonalisable."
   ]
  },
  {
   "cell_type": "markdown",
   "metadata": {},
   "source": [
    "## Solution to 9.5B"
   ]
  },
  {
   "cell_type": "code",
   "execution_count": 27,
   "metadata": {},
   "outputs": [],
   "source": [
    "from sympy import Matrix, factor, eye"
   ]
  },
  {
   "cell_type": "code",
   "execution_count": 28,
   "metadata": {},
   "outputs": [],
   "source": [
    "A = Matrix([[0, -2, -1], [1, 5, 3], [-1, -2, 0]])"
   ]
  },
  {
   "cell_type": "code",
   "execution_count": 29,
   "metadata": {},
   "outputs": [
    {
     "data": {
      "text/latex": [
       "$\\displaystyle \\left(\\lambda - 3\\right) \\left(\\lambda - 1\\right)^{2}$"
      ],
      "text/plain": [
       "(lambda - 3)*(lambda - 1)**2"
      ]
     },
     "execution_count": 29,
     "metadata": {},
     "output_type": "execute_result"
    }
   ],
   "source": [
    "factor(A.charpoly().as_expr())"
   ]
  },
  {
   "cell_type": "code",
   "execution_count": 30,
   "metadata": {},
   "outputs": [
    {
     "data": {
      "text/latex": [
       "$\\displaystyle \\left[\\begin{matrix}2 & 0 & -2\\\\-2 & 0 & 2\\\\2 & 0 & -2\\end{matrix}\\right]$"
      ],
      "text/plain": [
       "Matrix([\n",
       "[ 2, 0, -2],\n",
       "[-2, 0,  2],\n",
       "[ 2, 0, -2]])"
      ]
     },
     "execution_count": 30,
     "metadata": {},
     "output_type": "execute_result"
    }
   ],
   "source": [
    "(A - 3 * eye(3)) * (A - eye(3))"
   ]
  },
  {
   "cell_type": "markdown",
   "metadata": {},
   "source": [
    "Hence the minimum polynomial is $(x - 3)(x - 1) ^ 2$, which is not a product of distinct linear factors and so is $A$ is not diagonalisable."
   ]
  }
 ],
 "metadata": {
  "kernelspec": {
   "display_name": "Python 3",
   "language": "python",
   "name": "python3"
  },
  "language_info": {
   "codemirror_mode": {
    "name": "ipython",
    "version": 3
   },
   "file_extension": ".py",
   "mimetype": "text/x-python",
   "name": "python",
   "nbconvert_exporter": "python",
   "pygments_lexer": "ipython3",
   "version": "3.9.8"
  }
 },
 "nbformat": 4,
 "nbformat_minor": 4
}
