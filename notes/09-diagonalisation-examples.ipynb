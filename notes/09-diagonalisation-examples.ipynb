{
 "cells": [
  {
   "cell_type": "markdown",
   "metadata": {
    "collapsed": false
   },
   "source": [
    "# Section 9 (Diagonalisation)"
   ]
  },
  {
   "cell_type": "markdown",
   "metadata": {
    "collapsed": false
   },
   "source": [
    "## Example 9.5.1"
   ]
  },
  {
   "cell_type": "markdown",
   "metadata": {
    "collapsed": false
   },
   "source": [
    "Let $T : \\R^{3} \\to \\R^{3}$ be the linear transformation such that the\n",
    "matrix of $T$ with respect to the standard basis for $\\R ^ 3$ is\n",
    "\\[\n",
    "B = \\begin{pmatrix}\n",
    "8 & 3 & 0 \\\\\n",
    "-18 & -7 & 0 \\\\\n",
    "-9 & -4 & 2\n",
    "\\end{pmatrix}.\n",
    "\\]\n",
    "Show that $T$ is not diagonalisable."
   ]
  },
  {
   "cell_type": "markdown",
   "metadata": {
    "collapsed": false
   },
   "source": [
    "## Solution to Example 9.5.1 (using Theorem 9.1.5(iii))"
   ]
  },
  {
   "cell_type": "markdown",
   "metadata": {
    "collapsed": false
   },
   "source": [
    "The transformation $T$ is diagonalisable if and only if the characteristic polynomial $c_T(x)$ is a product of linear factors, and the algebraic multiplicity of every eigenvalue $\\lambda$ equals the geometric multiplicity of $\\lambda$. "
   ]
  },
  {
   "cell_type": "code",
   "execution_count": 1,
   "metadata": {
    "collapsed": false
   },
   "outputs": [
   ],
   "source": [
    "from sympy import Matrix, factor, eye\n",
    "from sympy.abc import x"
   ]
  },
  {
   "cell_type": "code",
   "execution_count": 2,
   "metadata": {
    "collapsed": false
   },
   "outputs": [
   ],
   "source": [
    "B = Matrix([[8, 3, 0], [-18, -7, 0], [-9, -4, 2]])"
   ]
  },
  {
   "cell_type": "code",
   "execution_count": 3,
   "metadata": {
    "collapsed": false
   },
   "outputs": [
   ],
   "source": [
    "A = x * eye(3) - B"
   ]
  },
  {
   "cell_type": "code",
   "execution_count": 4,
   "metadata": {
    "collapsed": false
   },
   "outputs": [
    {
     "data": {
      "text/latex": [
       "$\\displaystyle \\left[\\begin{matrix}x - 8 & -3 & 0\\\\18 & x + 7 & 0\\\\9 & 4 & x - 2\\end{matrix}\\right]$"
      ],
      "text/plain": [
       "Matrix([\n",
       "[x - 8,    -3,     0],\n",
       "[   18, x + 7,     0],\n",
       "[    9,     4, x - 2]])"
      ]
     },
     "execution_count": 4,
     "metadata": {
     },
     "output_type": "execute_result"
    }
   ],
   "source": [
    "A"
   ]
  },
  {
   "cell_type": "code",
   "execution_count": 5,
   "metadata": {
    "collapsed": false
   },
   "outputs": [
    {
     "data": {
      "text/latex": [
       "$\\displaystyle 54 x + \\left(x - 8\\right) \\left(x - 2\\right) \\left(x + 7\\right) - 108$"
      ],
      "text/plain": [
       "54*x + (x - 8)*(x - 2)*(x + 7) - 108"
      ]
     },
     "execution_count": 5,
     "metadata": {
     },
     "output_type": "execute_result"
    }
   ],
   "source": [
    "A.det()"
   ]
  },
  {
   "cell_type": "markdown",
   "metadata": {
    "collapsed": false
   },
   "source": [
    "Not super helpful"
   ]
  },
  {
   "cell_type": "code",
   "execution_count": 6,
   "metadata": {
    "collapsed": false
   },
   "outputs": [
    {
     "data": {
      "text/latex": [
       "$\\displaystyle \\left(\\lambda - 2\\right)^{2} \\left(\\lambda + 1\\right)$"
      ],
      "text/plain": [
       "(lambda - 2)**2*(lambda + 1)"
      ]
     },
     "execution_count": 6,
     "metadata": {
     },
     "output_type": "execute_result"
    }
   ],
   "source": [
    "factor(B.charpoly().as_expr())"
   ]
  },
  {
   "cell_type": "markdown",
   "metadata": {
    "collapsed": false
   },
   "source": [
    "It follows that $c_T(x) = (x + 1)(x - 2) ^ 2$ and the algebraic multiplicities are $a_{-1} = 1$ and $a_{2} = 2$. Since $1 = a_{-1} \\geq g_{-1} \\geq 1$, it follows that $g_{-1}$ is $1$. "
   ]
  },
  {
   "cell_type": "markdown",
   "metadata": {
    "collapsed": false
   },
   "source": [
    "Alternatively, we can compute the dimension of the eigenspaces $\\ker(B + I)$ and $\\ker(B - 2I)$ directly. "
   ]
  },
  {
   "cell_type": "code",
   "execution_count": 7,
   "metadata": {
    "collapsed": false
   },
   "outputs": [
    {
     "data": {
      "text/plain": [
       "(2, 2)"
      ]
     },
     "execution_count": 7,
     "metadata": {
     },
     "output_type": "execute_result"
    }
   ],
   "source": [
    "(B + eye(3)).rank(), (B - 2 * eye(3)).rank()"
   ]
  },
  {
   "cell_type": "markdown",
   "metadata": {
    "collapsed": false
   },
   "source": [
    "Hence, by the Rank-Nullity Theorem, $g_{-1} = \\dim\\ker(B + I) = \\dim\\mathbb{R} ^ 3 - \\dim \\operatorname{im} (B + I) = 3 - 2 = 1$ and $g_{2} = \\dim\\ker(B - 2I) = 1$ also. In particular, $g_{2} = 1 \\neq 2 = a_2$, and so $B$ is not diagonalisable."
   ]
  },
  {
   "cell_type": "markdown",
   "metadata": {
    "collapsed": false
   },
   "source": [
    "## Solution to Example 9.5.1 (using Theorem 9.1.5(iv))"
   ]
  },
  {
   "cell_type": "code",
   "execution_count": 8,
   "metadata": {
    "collapsed": false
   },
   "outputs": [
   ],
   "source": [
    "from sympy import Matrix, factor, eye\n",
    "from sympy.abc import x"
   ]
  },
  {
   "cell_type": "markdown",
   "metadata": {
    "collapsed": false
   },
   "source": [
    "As in the other solution given above, we know that $c_T(x) = (x + 1)(x - 2) ^ 2$, and we know that the minimum polynomial $m_T(x) = (x + 1)(x - 2)$ or $(x + 1)(x - 2) ^ 2$. We can just evaluate both of the possibilities for the minimum polynomial (substituting $B$ for $x$), and the one of least degree that equals the zero matrix is the minimum polynomial."
   ]
  },
  {
   "cell_type": "code",
   "execution_count": 9,
   "metadata": {
    "collapsed": false
   },
   "outputs": [
    {
     "data": {
      "text/latex": [
       "$\\displaystyle \\left[\\begin{matrix}0 & 0 & 0\\\\0 & 0 & 0\\\\-9 & -3 & 0\\end{matrix}\\right]$"
      ],
      "text/plain": [
       "Matrix([\n",
       "[ 0,  0, 0],\n",
       "[ 0,  0, 0],\n",
       "[-9, -3, 0]])"
      ]
     },
     "execution_count": 9,
     "metadata": {
     },
     "output_type": "execute_result"
    }
   ],
   "source": [
    "(B + eye(3)) * (B - 2 * eye(3))"
   ]
  },
  {
   "cell_type": "markdown",
   "metadata": {
    "collapsed": false
   },
   "source": [
    "This is not the zero matrix, and so $m_T(x) = c_T(x)$, double-check:"
   ]
  },
  {
   "cell_type": "code",
   "execution_count": 10,
   "metadata": {
    "collapsed": false
   },
   "outputs": [
    {
     "data": {
      "text/latex": [
       "$\\displaystyle \\left[\\begin{matrix}0 & 0 & 0\\\\0 & 0 & 0\\\\0 & 0 & 0\\end{matrix}\\right]$"
      ],
      "text/plain": [
       "Matrix([\n",
       "[0, 0, 0],\n",
       "[0, 0, 0],\n",
       "[0, 0, 0]])"
      ]
     },
     "execution_count": 10,
     "metadata": {
     },
     "output_type": "execute_result"
    }
   ],
   "source": [
    "(B + eye(3)) * (B - 2 * eye(3)) ** 2"
   ]
  },
  {
   "cell_type": "markdown",
   "metadata": {
    "collapsed": false
   },
   "source": [
    "It follows that $m_T(x)$ is not a product of distinct linear factors, and so $B$ is not diagonalisable."
   ]
  },
  {
   "cell_type": "markdown",
   "metadata": {
    "collapsed": false
   },
   "source": [
    "## Example 9.5A"
   ]
  },
  {
   "cell_type": "markdown",
   "metadata": {
    "collapsed": false
   },
   "source": [
    "  Let\n",
    "  \\[\n",
    "    A = \\begin{pmatrix}\n",
    "      -1 & 2 & -1 \\\\\n",
    "      -4 & 5 & -2 \\\\\n",
    "      -4 & 3 & 0\n",
    "    \\end{pmatrix}.\n",
    "  \\]\n",
    "  Show that $A$ is not diagonalisable.\n"
   ]
  },
  {
   "cell_type": "markdown",
   "metadata": {
    "collapsed": false
   },
   "source": [
    "## Solution to Example 9.5A"
   ]
  },
  {
   "cell_type": "code",
   "execution_count": 13,
   "metadata": {
    "collapsed": false
   },
   "outputs": [
   ],
   "source": [
    "from sympy import Matrix, factor, eye\n",
    "from sympy.abc import x"
   ]
  },
  {
   "cell_type": "code",
   "execution_count": 14,
   "metadata": {
    "collapsed": false
   },
   "outputs": [
   ],
   "source": [
    "A = Matrix([[-1, 2, -1], [-4, 5, -2], [-4, 3, 0]])"
   ]
  },
  {
   "cell_type": "code",
   "execution_count": 15,
   "metadata": {
    "collapsed": false
   },
   "outputs": [
    {
     "data": {
      "text/latex": [
       "$\\displaystyle \\left(\\lambda - 2\\right) \\left(\\lambda - 1\\right)^{2}$"
      ],
      "text/plain": [
       "(lambda - 2)*(lambda - 1)**2"
      ]
     },
     "execution_count": 15,
     "metadata": {
     },
     "output_type": "execute_result"
    }
   ],
   "source": [
    "factor(A.charpoly().as_expr())"
   ]
  },
  {
   "cell_type": "markdown",
   "metadata": {
    "collapsed": false
   },
   "source": [
    "Hence the eigenvalues of $A$ are $1$ and $2$. The corresponding algebraic multiplicities are $a_1 = 2$ and $a_2 = 1$. "
   ]
  },
  {
   "cell_type": "code",
   "execution_count": 17,
   "metadata": {
    "collapsed": false
   },
   "outputs": [
    {
     "data": {
      "text/plain": [
       "(2, 2)"
      ]
     },
     "execution_count": 17,
     "metadata": {
     },
     "output_type": "execute_result"
    }
   ],
   "source": [
    "(A - 2 * eye(3)).rank(),(A - eye(3)).rank()"
   ]
  },
  {
   "cell_type": "markdown",
   "metadata": {
    "collapsed": false
   },
   "source": [
    "Hence, by the Rank-Nullity Theorem, the geometric multiplicities are: $g_1 = g_ 2 = 1$ and so $A$ is not diagonalisable by Theorem 9.1.5(iii)."
   ]
  },
  {
   "cell_type": "markdown",
   "metadata": {
    "collapsed": false
   },
   "source": [
    "## Example 9.5.3"
   ]
  },
  {
   "cell_type": "markdown",
   "metadata": {
    "collapsed": false
   },
   "source": [
    "  Let $T : \\R ^ 3 \\to \\R ^ 3$ be such that the matrix of $T$ with respect\n",
    "  to the standard basis for $\\R ^ 3$ is\n",
    "  \\[\n",
    "    A = \\begin{pmatrix}\n",
    "      8  & 6  & 0 \\\\\n",
    "      -9 & -7 & 0 \\\\\n",
    "      3  & 3  & 2\n",
    "    \\end{pmatrix}.\n",
    "  \\]\n",
    "  \n",
    "  (i) Find the characteristic polynomial of $T$.\n",
    "  \n",
    "  (ii) Show that $T$ is diagonalisable and find the diagonal matrix $D$ such\n",
    "          that $D = \\operatorname{Mat}_{\\mathscr{B}, \\mathscr{B}}(T)$ for some basis $\\mathscr{B}$ for $\\R ^ 3$.\n",
    "          \n",
    "  (iii) Find the minimum polynomial of $T$.\n"
   ]
  },
  {
   "cell_type": "markdown",
   "metadata": {
    "collapsed": false
   },
   "source": [
    "## Solution to Example 9.5.3(i)"
   ]
  },
  {
   "cell_type": "code",
   "execution_count": 24,
   "metadata": {
    "collapsed": false
   },
   "outputs": [
   ],
   "source": [
    "from sympy import Matrix, factor, eye"
   ]
  },
  {
   "cell_type": "code",
   "execution_count": 25,
   "metadata": {
    "collapsed": false
   },
   "outputs": [
   ],
   "source": [
    "A = Matrix([[8, 6, 0], [-9, -7, 0], [3, 3, 2]])"
   ]
  },
  {
   "cell_type": "code",
   "execution_count": 26,
   "metadata": {
    "collapsed": false
   },
   "outputs": [
    {
     "data": {
      "text/latex": [
       "$\\displaystyle \\left(\\lambda - 2\\right)^{2} \\left(\\lambda + 1\\right)$"
      ],
      "text/plain": [
       "(lambda - 2)**2*(lambda + 1)"
      ]
     },
     "execution_count": 26,
     "metadata": {
     },
     "output_type": "execute_result"
    }
   ],
   "source": [
    "factor(A.charpoly().as_expr())"
   ]
  },
  {
   "cell_type": "markdown",
   "metadata": {
    "collapsed": false
   },
   "source": [
    "## Solution to Example 9.5.3(ii)"
   ]
  },
  {
   "cell_type": "markdown",
   "metadata": {
    "collapsed": false
   },
   "source": [
    "We compute the minimum polynomial $m_T(x)$. We know that $m_T(x)$ must be either $(x - 2)(x + 1)$ or $(x - 2) ^ 2 (x + 1)$ and that $m_T(x)$ is the monic polynomial of least degree such that $m_T(A)$ is the zero matrix."
   ]
  },
  {
   "cell_type": "code",
   "execution_count": 28,
   "metadata": {
    "collapsed": false
   },
   "outputs": [
    {
     "data": {
      "text/latex": [
       "$\\displaystyle \\left[\\begin{matrix}0 & 0 & 0\\\\0 & 0 & 0\\\\0 & 0 & 0\\end{matrix}\\right]$"
      ],
      "text/plain": [
       "Matrix([\n",
       "[0, 0, 0],\n",
       "[0, 0, 0],\n",
       "[0, 0, 0]])"
      ]
     },
     "execution_count": 28,
     "metadata": {
     },
     "output_type": "execute_result"
    }
   ],
   "source": [
    "(A - 2 * eye(3)) * (A + eye(3))"
   ]
  },
  {
   "cell_type": "markdown",
   "metadata": {
    "collapsed": false
   },
   "source": [
    "So, $m_T(x) = (x - 2)(x + 1)$ and since this is a product of distinct linear factors it follows by Theorem 9.1.5(iv) that $A$ is diagonalisable. The matrix $D$ is given by:\n",
    "$$\n",
    "D = \\begin{pmatrix}\n",
    "-1 & 0 & 0 \\\\\n",
    "0 & 2 & 0 \\\\\n",
    "0 & 0 & 2\n",
    "\\end{pmatrix}\n",
    "$$\n",
    "by Proposition 9.1.2."
   ]
  },
  {
   "cell_type": "markdown",
   "metadata": {
    "collapsed": false
   },
   "source": [
    "## Solution to Example 9.5.3(iii)"
   ]
  },
  {
   "cell_type": "markdown",
   "metadata": {
    "collapsed": false
   },
   "source": [
    "We already computed the minimal polynomial in the solution to part (ii)."
   ]
  },
  {
   "cell_type": "markdown",
   "metadata": {
    "collapsed": false
   },
   "source": [
    "## Example 9.5.4"
   ]
  },
  {
   "cell_type": "markdown",
   "metadata": {
    "collapsed": false
   },
   "source": [
    "Consider the linear transformation $\\R^{3} \\to \\R^{3}$ given\n",
    "by the matrix\n",
    "\\[\n",
    "D = \\begin{pmatrix}\n",
    "3 & 0 & 1 \\\\\n",
    "2 & 2 & 2 \\\\\n",
    "-1 & 0 & 1\n",
    "\\end{pmatrix}.\n",
    "\\]\n",
    "Calculate the characteristic polynomial of $D$, determine if\n",
    "$D$ is diagonalisable and calculate the minimum polynomial."
   ]
  },
  {
   "cell_type": "markdown",
   "metadata": {
    "collapsed": false
   },
   "source": [
    "## Solution to Example 9.5.4"
   ]
  },
  {
   "cell_type": "code",
   "execution_count": 36,
   "metadata": {
    "collapsed": false
   },
   "outputs": [
   ],
   "source": [
    "from sympy import Matrix, factor, eye"
   ]
  },
  {
   "cell_type": "markdown",
   "metadata": {
    "collapsed": false
   },
   "source": [
    "As in the previous examples, the characteristic polynomial can be found by doing:"
   ]
  },
  {
   "cell_type": "code",
   "execution_count": 37,
   "metadata": {
    "collapsed": false
   },
   "outputs": [
   ],
   "source": [
    "D = Matrix([[3, 0, 1], [2, 2, 2], [-1, 0, 1]])"
   ]
  },
  {
   "cell_type": "code",
   "execution_count": 38,
   "metadata": {
    "collapsed": false
   },
   "outputs": [
    {
     "data": {
      "text/latex": [
       "$\\displaystyle \\left(\\lambda - 2\\right)^{3}$"
      ],
      "text/plain": [
       "(lambda - 2)**3"
      ]
     },
     "execution_count": 38,
     "metadata": {
     },
     "output_type": "execute_result"
    }
   ],
   "source": [
    "factor(D.charpoly().as_expr())"
   ]
  },
  {
   "cell_type": "markdown",
   "metadata": {
    "collapsed": false
   },
   "source": [
    "Hence $D$ is diagonalisable if and only if the minimum polynomial of $D$ is $x - 2$ if and only if $D - 2I$ is the zero matrix, which is clearly isn't. Hence $D$ is not diagonalisable. "
   ]
  },
  {
   "cell_type": "markdown",
   "metadata": {
    "collapsed": false
   },
   "source": [
    "To find the minimum polynomial we compute $(A - 2I) ^ 2$ and $(A - 2I) ^ 3$:"
   ]
  },
  {
   "cell_type": "code",
   "execution_count": 40,
   "metadata": {
    "collapsed": false
   },
   "outputs": [
    {
     "data": {
      "text/plain": [
       "(Matrix([\n",
       " [0, 0, 0],\n",
       " [0, 0, 0],\n",
       " [0, 0, 0]]),\n",
       " Matrix([\n",
       " [0, 0, 0],\n",
       " [0, 0, 0],\n",
       " [0, 0, 0]]))"
      ]
     },
     "execution_count": 40,
     "metadata": {
     },
     "output_type": "execute_result"
    }
   ],
   "source": [
    "(D - 2 * eye(3)) ** 2, (D - 2 * eye(3)) ** 3"
   ]
  },
  {
   "cell_type": "markdown",
   "metadata": {
    "collapsed": false
   },
   "source": [
    "Hence the minimum polynomial is $(x - 2) ^ 2$."
   ]
  },
  {
   "cell_type": "markdown",
   "metadata": {
    "collapsed": false
   },
   "source": [
    "## Example 9.5.5"
   ]
  },
  {
   "cell_type": "markdown",
   "metadata": {
    "collapsed": false
   },
   "source": [
    "  Consider the linear transformation $\\R^{3} \\to \\R^{3}$ given\n",
    "  by the matrix\n",
    "  \\[\n",
    "    E = \\begin{pmatrix}\n",
    "      -3 & -4  & -12 \\\\\n",
    "      0  & -11 & -24 \\\\\n",
    "      0  & 4   & 9\n",
    "    \\end{pmatrix}.\n",
    "  \\]\n",
    "  Calculate the characteristic polynomial of $E$, determine\n",
    "  if $E$ is diagonalisable and calculate its minimum polynomial."
   ]
  },
  {
   "cell_type": "markdown",
   "metadata": {
    "collapsed": false
   },
   "source": [
    "## Solution to Example 9.5.5"
   ]
  },
  {
   "cell_type": "code",
   "execution_count": 42,
   "metadata": {
    "collapsed": false
   },
   "outputs": [
   ],
   "source": [
    "from sympy import Matrix, factor, eye"
   ]
  },
  {
   "cell_type": "code",
   "execution_count": 43,
   "metadata": {
    "collapsed": false
   },
   "outputs": [
   ],
   "source": [
    "E = Matrix([[-3, -4, -12], [0, -11, -24], [0, 4, 9]])"
   ]
  },
  {
   "cell_type": "code",
   "execution_count": 44,
   "metadata": {
    "collapsed": false
   },
   "outputs": [
    {
     "data": {
      "text/latex": [
       "$\\displaystyle \\left(\\lambda - 1\\right) \\left(\\lambda + 3\\right)^{2}$"
      ],
      "text/plain": [
       "(lambda - 1)*(lambda + 3)**2"
      ]
     },
     "execution_count": 44,
     "metadata": {
     },
     "output_type": "execute_result"
    }
   ],
   "source": [
    "factor(E.charpoly().as_expr())"
   ]
  },
  {
   "cell_type": "code",
   "execution_count": 46,
   "metadata": {
    "collapsed": false
   },
   "outputs": [
    {
     "data": {
      "text/latex": [
       "$\\displaystyle \\left[\\begin{matrix}0 & 0 & 0\\\\0 & 0 & 0\\\\0 & 0 & 0\\end{matrix}\\right]$"
      ],
      "text/plain": [
       "Matrix([\n",
       "[0, 0, 0],\n",
       "[0, 0, 0],\n",
       "[0, 0, 0]])"
      ]
     },
     "execution_count": 46,
     "metadata": {
     },
     "output_type": "execute_result"
    }
   ],
   "source": [
    "(E - eye(3)) * (E + 3* eye(3))"
   ]
  },
  {
   "cell_type": "markdown",
   "metadata": {
    "collapsed": false
   },
   "source": [
    "Hence the minimum polynomial of $E$ is $(x - 1) (x + 3)$ which is a product of distinct linear factors and so $E$ is diagonalisable."
   ]
  },
  {
   "cell_type": "markdown",
   "metadata": {
    "collapsed": false
   },
   "source": [
    "## Example 9.5B"
   ]
  },
  {
   "cell_type": "markdown",
   "metadata": {
    "collapsed": false
   },
   "source": [
    "  Let\n",
    "  \\[\n",
    "    A = \\begin{pmatrix}\n",
    "      0  & -2 & -1 \\\\\n",
    "      1  & 5  & 3  \\\\\n",
    "      -1 & -2 & 0\n",
    "    \\end{pmatrix}.\n",
    "  \\]\n",
    "  Calculate the characteristic polynomial and the minimum polynomial\n",
    "  of $A$.  Hence determine whether $A$ is diagonalisable."
   ]
  },
  {
   "cell_type": "markdown",
   "metadata": {
    "collapsed": false
   },
   "source": [
    "## Solution to 9.5B"
   ]
  },
  {
   "cell_type": "code",
   "execution_count": 48,
   "metadata": {
    "collapsed": false
   },
   "outputs": [
   ],
   "source": [
    "from sympy import Matrix, factor, eye"
   ]
  },
  {
   "cell_type": "code",
   "execution_count": 49,
   "metadata": {
    "collapsed": false
   },
   "outputs": [
   ],
   "source": [
    "A = Matrix([[0, -2, -1], [1, 5, 3], [-1, -2, 0]])"
   ]
  },
  {
   "cell_type": "code",
   "execution_count": 50,
   "metadata": {
    "collapsed": false
   },
   "outputs": [
    {
     "data": {
      "text/latex": [
       "$\\displaystyle \\left(\\lambda - 3\\right) \\left(\\lambda - 1\\right)^{2}$"
      ],
      "text/plain": [
       "(lambda - 3)*(lambda - 1)**2"
      ]
     },
     "execution_count": 50,
     "metadata": {
     },
     "output_type": "execute_result"
    }
   ],
   "source": [
    "factor(A.charpoly().as_expr())"
   ]
  },
  {
   "cell_type": "code",
   "execution_count": 52,
   "metadata": {
    "collapsed": false
   },
   "outputs": [
    {
     "data": {
      "text/latex": [
       "$\\displaystyle \\left[\\begin{matrix}2 & 0 & -2\\\\-2 & 0 & 2\\\\2 & 0 & -2\\end{matrix}\\right]$"
      ],
      "text/plain": [
       "Matrix([\n",
       "[ 2, 0, -2],\n",
       "[-2, 0,  2],\n",
       "[ 2, 0, -2]])"
      ]
     },
     "execution_count": 52,
     "metadata": {
     },
     "output_type": "execute_result"
    }
   ],
   "source": [
    "(A - 3 * eye(3)) * (A - eye(3))"
   ]
  },
  {
   "cell_type": "markdown",
   "metadata": {
    "collapsed": false
   },
   "source": [
    "Hence the minimum polynomial is $(x - 3)(x - 1) ^ 2$, which is not a product of distinct linear factors and so is $A$ is not diagonalisable."
   ]
  }
 ],
 "metadata": {
  "kernelspec": {
   "display_name": "Python 3 (Anaconda 2020)",
   "env": {
    "ADDR2LINE": "/ext/anaconda2020.02/bin/x86_64-conda_cos6-linux-gnu-addr2line",
    "ANACONDA2019": "$EXT/anaconda-2019.03",
    "ANACONDA2020": "/ext/anaconda2020.02",
    "ANACONDA3": "$EXT/anaconda3",
    "ANACONDA5": "$EXT/anaconda5",
    "AR": "/ext/anaconda2020.02/bin/x86_64-conda_cos6-linux-gnu-ar",
    "AS": "/ext/anaconda2020.02/bin/x86_64-conda_cos6-linux-gnu-as",
    "CC": "/ext/anaconda2020.02/bin/x86_64-conda_cos6-linux-gnu-cc",
    "CFLAGS": "-march=nocona -mtune=haswell -ftree-vectorize -fPIC -fstack-protector-strong -fno-plt -O2 -ffunction-sections -pipe -isystem /ext/anaconda2020.02/include",
    "CMAKE_PREFIX_PATH": "/ext/anaconda2020.02:/ext/anaconda2020.02/x86_64-conda_cos6-linux-gnu/sysroot/usr",
    "CONDA_BACKUP_HOST": "x86_64-conda_cos6-linux-gnu",
    "CONDA_BUILD_SYSROOT": "/ext/anaconda2020.02/x86_64-conda_cos6-linux-gnu/sysroot",
    "CONDA_DEFAULT_ENV": "base",
    "CONDA_EXE": "/ext/anaconda2020.02/bin/conda",
    "CONDA_MKL_INTERFACE_LAYER_BACKUP": "",
    "CONDA_PREFIX": "/ext/anaconda2020.02",
    "CONDA_PROMPT_MODIFIER": "(base) ",
    "CONDA_PYTHON_EXE": "/ext/anaconda2020.02/bin/python",
    "CONDA_SHLVL": "1",
    "CPP": "/ext/anaconda2020.02/bin/x86_64-conda_cos6-linux-gnu-cpp",
    "CPPFLAGS": "-DNDEBUG -D_FORTIFY_SOURCE=2 -O2 -isystem /ext/anaconda2020.02/include",
    "CXX": "/ext/anaconda2020.02/bin/x86_64-conda_cos6-linux-gnu-c++",
    "CXXFILT": "/ext/anaconda2020.02/bin/x86_64-conda_cos6-linux-gnu-c++filt",
    "CXXFLAGS": "-fvisibility-inlines-hidden -std=c++17 -fmessage-length=0 -march=nocona -mtune=haswell -ftree-vectorize -fPIC -fstack-protector-strong -fno-plt -O2 -ffunction-sections -pipe -isystem /ext/anaconda2020.02/include",
    "DEBUG_CFLAGS": "-march=nocona -mtune=haswell -ftree-vectorize -fPIC -fstack-protector-all -fno-plt -Og -g -Wall -Wextra -fvar-tracking-assignments -ffunction-sections -pipe -isystem /ext/anaconda2020.02/include",
    "DEBUG_CPPFLAGS": "-D_DEBUG -D_FORTIFY_SOURCE=2 -Og -isystem /ext/anaconda2020.02/include",
    "DEBUG_CXXFLAGS": "-fvisibility-inlines-hidden -std=c++17 -fmessage-length=0 -march=nocona -mtune=haswell -ftree-vectorize -fPIC -fstack-protector-all -fno-plt -Og -g -Wall -Wextra -fvar-tracking-assignments -ffunction-sections -pipe -isystem /ext/anaconda2020.02/include",
    "DEBUG_FFLAGS": "-fopenmp -march=nocona -mtune=haswell -ftree-vectorize -fPIC -fstack-protector-strong -fno-plt -O2 -ffunction-sections -pipe -isystem /ext/anaconda2020.02/include -fopenmp -march=nocona -mtune=haswell -ftree-vectorize -fPIC -fstack-protector-all -fno-plt -Og -g -Wall -Wextra -fcheck=all -fbacktrace -fimplicit-none -fvar-tracking-assignments -ffunction-sections -pipe",
    "DEBUG_FORTRANFLAGS": "-fopenmp -march=nocona -mtune=haswell -ftree-vectorize -fPIC -fstack-protector-strong -fno-plt -O2 -ffunction-sections -pipe -isystem /ext/anaconda2020.02/include -fopenmp -march=nocona -mtune=haswell -ftree-vectorize -fPIC -fstack-protector-all -fno-plt -Og -g -Wall -Wextra -fcheck=all -fbacktrace -fimplicit-none -fvar-tracking-assignments -ffunction-sections -pipe",
    "ELFEDIT": "/ext/anaconda2020.02/bin/x86_64-conda_cos6-linux-gnu-elfedit",
    "F77": "/ext/anaconda2020.02/bin/x86_64-conda_cos6-linux-gnu-gfortran",
    "F90": "/ext/anaconda2020.02/bin/x86_64-conda_cos6-linux-gnu-gfortran",
    "F95": "/ext/anaconda2020.02/bin/x86_64-conda_cos6-linux-gnu-f95",
    "FC": "/ext/anaconda2020.02/bin/x86_64-conda_cos6-linux-gnu-gfortran",
    "FFLAGS": "-fopenmp -march=nocona -mtune=haswell -ftree-vectorize -fPIC -fstack-protector-strong -fno-plt -O2 -ffunction-sections -pipe -isystem /ext/anaconda2020.02/include",
    "FORTRANFLAGS": "-fopenmp -march=nocona -mtune=haswell -ftree-vectorize -fPIC -fstack-protector-strong -fno-plt -O2 -ffunction-sections -pipe -isystem /ext/anaconda2020.02/include",
    "GCC": "/ext/anaconda2020.02/bin/x86_64-conda_cos6-linux-gnu-gcc",
    "GCC_AR": "/ext/anaconda2020.02/bin/x86_64-conda_cos6-linux-gnu-gcc-ar",
    "GCC_NM": "/ext/anaconda2020.02/bin/x86_64-conda_cos6-linux-gnu-gcc-nm",
    "GCC_RANLIB": "/ext/anaconda2020.02/bin/x86_64-conda_cos6-linux-gnu-gcc-ranlib",
    "GDAL_DATA": "/ext/anaconda2020.02/share/gdal",
    "GFORTRAN": "/ext/anaconda2020.02/bin/x86_64-conda_cos6-linux-gnu-gfortran",
    "GPROF": "/ext/anaconda2020.02/bin/x86_64-conda_cos6-linux-gnu-gprof",
    "GXX": "/ext/anaconda2020.02/bin/x86_64-conda_cos6-linux-gnu-g++",
    "JAVA_HOME": "/ext/anaconda2020.02",
    "JAVA_HOME_CONDA_BACKUP": "",
    "JAVA_LD_LIBRARY_PATH": "/ext/anaconda2020.02/lib/server",
    "LD": "/ext/anaconda2020.02/bin/x86_64-conda_cos6-linux-gnu-ld",
    "LDFLAGS": "-Wl,-O2 -Wl,--sort-common -Wl,--as-needed -Wl,-z,relro -Wl,-z,now -Wl,--disable-new-dtags -Wl,--gc-sections -Wl,-rpath,/ext/anaconda2020.02/lib -Wl,-rpath-link,/ext/anaconda2020.02/lib -L/ext/anaconda2020.02/lib",
    "LD_GOLD": "/ext/anaconda2020.02/bin/x86_64-conda_cos6-linux-gnu-ld.gold",
    "LD_LIBRARY_PATH": "/ext/anaconda2020.02/lib",
    "MKL_INTERFACE_LAYER": "LP64,GNU",
    "MKL_THREADING_LAYER": "GNU",
    "NM": "/ext/anaconda2020.02/bin/x86_64-conda_cos6-linux-gnu-nm",
    "OBJCOPY": "/ext/anaconda2020.02/bin/x86_64-conda_cos6-linux-gnu-objcopy",
    "OBJDUMP": "/ext/anaconda2020.02/bin/x86_64-conda_cos6-linux-gnu-objdump",
    "OLDPWD": "/ext/anaconda2020.02",
    "PATH": "/ext/anaconda2020.02/bin:/ext/anaconda2020.02/bin:/ext/anaconda2020.02/condabin:/cocalc/bin:/cocalc/src/smc-project/bin:/home/salvus/bin:/home/salvus/.local/bin:/usr/lib/xpra:/ext/bin:/opt/ghc/bin:/usr/local/sbin:/usr/local/bin:/usr/sbin:/usr/bin:/sbin:/bin:/snap/bin:/usr/lib/postgresql/10/bin:/ext/data/homer/bin:/ext/data/weblogo",
    "PROJ_LIB": "/ext/anaconda2020.02/share/proj",
    "RANLIB": "/ext/anaconda2020.02/bin/x86_64-conda_cos6-linux-gnu-ranlib",
    "READELF": "/ext/anaconda2020.02/bin/x86_64-conda_cos6-linux-gnu-readelf",
    "RSTUDIO_WHICH_R": "/ext/anaconda2020.02/bin/R",
    "SIZE": "/ext/anaconda2020.02/bin/x86_64-conda_cos6-linux-gnu-size",
    "STRINGS": "/ext/anaconda2020.02/bin/x86_64-conda_cos6-linux-gnu-strings",
    "STRIP": "/ext/anaconda2020.02/bin/x86_64-conda_cos6-linux-gnu-strip",
    "_CE_CONDA": "",
    "_CE_M": "",
    "_CONDA_PYTHON_SYSCONFIGDATA_NAME": "_sysconfigdata_x86_64_conda_cos6_linux_gnu"
   },
   "language": "python",
   "metadata": {
    "cocalc": {
     "description": "Python/R distribution for data science",
     "priority": 5,
     "url": "https://www.anaconda.com/distribution/"
    }
   },
   "name": "anaconda2020"
  },
  "language_info": {
   "codemirror_mode": {
    "name": "ipython",
    "version": 3
   },
   "file_extension": ".py",
   "mimetype": "text/x-python",
   "name": "python",
   "nbconvert_exporter": "python",
   "pygments_lexer": "ipython3",
   "version": "3.7.8"
  }
 },
 "nbformat": 4,
 "nbformat_minor": 4
}