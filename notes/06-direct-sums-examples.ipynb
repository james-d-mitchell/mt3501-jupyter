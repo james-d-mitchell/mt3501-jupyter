{
 "cells": [
  {
   "cell_type": "markdown",
   "metadata": {},
   "source": [
    "# Section 6 (Direct sums)"
   ]
  },
  {
   "cell_type": "markdown",
   "metadata": {},
   "source": [
    "## Example 6.1.5"
   ]
  },
  {
   "cell_type": "markdown",
   "metadata": {},
   "source": [
    "  Let $V = \\mathbb{R}^{3}$ and let\n",
    "  $$\n",
    "    U_{1} = \\operatorname{Span} \\left( \\vec{v}_1 = \\begin{pmatrix}\n",
    " 1 \\\\\n",
    " 1 \\\\\n",
    " 1 \\\\\n",
    " \\end{pmatrix},\n",
    "    \\vec{v}_2 = \\begin{pmatrix}\n",
    " 2 \\\\\n",
    " 1 \\\\\n",
    " 0 \\\\\n",
    " \\end{pmatrix} \\right) \\qquad \\text{and} \\qquad U_{2} =\n",
    "    \\operatorname{Span} \\left( \\vec{v}_3 = \\begin{pmatrix}\n",
    " 0 \\\\\n",
    " 3 \\\\\n",
    " 1 \\\\\n",
    " \\end{pmatrix} \\right).\n",
    "  $$\n",
    "  Show that $V = U_{1} \\oplus U_{2}$.\n"
   ]
  },
  {
   "cell_type": "markdown",
   "metadata": {},
   "source": [
    "## Solution to Example 6.1.5"
   ]
  },
  {
   "cell_type": "markdown",
   "metadata": {},
   "source": [
    "It suffices by Proposition 6.1.3 to show that $\\{\\vec{v}_1,\n",
    "    \\vec{v}_2, \\vec{v}_3\\}$ is a basis for $V$."
   ]
  },
  {
   "cell_type": "code",
   "execution_count": 1,
   "metadata": {},
   "outputs": [],
   "source": [
    "from sympy import solve, Matrix\n",
    "from sympy.abc import a, b, c"
   ]
  },
  {
   "cell_type": "code",
   "execution_count": 2,
   "metadata": {},
   "outputs": [],
   "source": [
    "v1, v2, v3 = Matrix([1, 1, 1]), Matrix([2, 1, 0]), Matrix([0, 3, 1])"
   ]
  },
  {
   "cell_type": "code",
   "execution_count": 3,
   "metadata": {},
   "outputs": [
    {
     "data": {
      "text/plain": [
       "{a: 0, b: 0, c: 0}"
      ]
     },
     "execution_count": 3,
     "metadata": {},
     "output_type": "execute_result"
    }
   ],
   "source": [
    "solve(a * v1 + b * v2 + c * v3, [a, b, c])"
   ]
  },
  {
   "cell_type": "markdown",
   "metadata": {},
   "source": [
    "Hence the only solution to $a \\vec{v}_1 + b \\vec{v}_2 + c \\vec{v}_3 = \\vec{0}$ is $a = b = c = 0$, and so $\\{\\vec{v}_1,\n",
    "    \\vec{v}_2, \\vec{v}_3\\}$ is linearly independent. Since $|\\{\\vec{v}_1,\n",
    "    \\vec{v}_2, \\vec{v}_3\\}| = 3 = \\dim \\mathbb{R} ^3$, it follows that $\\{\\vec{v}_1,\n",
    "    \\vec{v}_2, \\vec{v}_3\\}$ is a basis for $\\mathbb{R} ^ 3$. "
   ]
  },
  {
   "cell_type": "markdown",
   "metadata": {},
   "source": [
    "## Example 6.2.4"
   ]
  },
  {
   "cell_type": "markdown",
   "metadata": {},
   "source": [
    "\n",
    "  Let\n",
    "  $$\n",
    "    U_{1} = \\operatorname{Span}\\begin{pmatrix}\n",
    "      1 \\\\\n",
    "      0 \\\\\n",
    "    \\end{pmatrix}, \\quad \n",
    "    U_{2} = \\operatorname{Span}\\begin{pmatrix}\n",
    "      0 \\\\\n",
    "      1 \\\\\n",
    "    \\end{pmatrix}, \\quad \\text{and} \\quad\n",
    "    U_{3} = \\operatorname{Span}\\begin{pmatrix}\n",
    "      1 \\\\\n",
    "      1 \\\\\n",
    "    \\end{pmatrix}.\n",
    "  $$\n",
    " \n",
    " (1)\n",
    "      Show that\n",
    "      $$\n",
    "        \\mathbb{R}^{2} = U_{1} \\oplus U_{2} \\qquad \\text{and} \\qquad \\mathbb{R}^{2} = U_{1}\n",
    "        \\oplus U_{3}.\n",
    "      $$\n",
    " (2)\n",
    "      If $P : \\mathbb{R}^{2} \\to \\mathbb{R}^{2}$ is the projection onto $U_{1}$\n",
    "      corresponding to the first decomposition and $Q : \\mathbb{R}^{2} \\to\n",
    "      \\mathbb{R}^{2}$ is the projection onto $U_{1}$ corresponding to the second\n",
    "      decomposition, that $P \\neq Q$."
   ]
  },
  {
   "cell_type": "markdown",
   "metadata": {},
   "source": [
    "## Solution to Example 6.2.4(1)"
   ]
  },
  {
   "cell_type": "markdown",
   "metadata": {},
   "source": [
    "From the definition of the direct sum, to show that $\\mathbb{R} ^ 2 = U_1 \\oplus U_2$, it suffices to show that $\\mathbb{R} ^ 2 = U_1 + U_2$ and that $U_1 \\cap U_2 = \\{\\vec{0}\\}$. \n",
    "\n",
    "The vectors \n",
    "$$\n",
    "\\begin{pmatrix} 1 \\\\ 0 \\end{pmatrix},\n",
    "\\begin{pmatrix} 0 \\\\ 1 \\end{pmatrix}\n",
    "$$\n",
    "are the standard basis vectors for $\\mathbb{R}$, and it's clear that\n",
    "$$\n",
    "\\begin{pmatrix} x \\\\ y \\end{pmatrix} =\n",
    "x\n",
    "\\begin{pmatrix} 1 \\\\ 0 \\end{pmatrix} + \n",
    "y\n",
    "\\begin{pmatrix} 0 \\\\ 1 \\end{pmatrix}.\n",
    "$$\n",
    "It's also clear that the only vector in both $U_1$ and $U_2$ is $\\vec{0}$. Hence $\\mathbb{R} ^ 2 = U_1 \\oplus U_2$."
   ]
  },
  {
   "cell_type": "markdown",
   "metadata": {},
   "source": [
    "From the definition of the direct sum, to show that $\\mathbb{R} ^ 2 = U_1 \\oplus U_3$, it suffices to show that $\\mathbb{R} ^ 2 = U_1 + U_3$ and that $U_1 \\cap U_3 = \\{\\vec{0}\\}$. It's clear that the only vector belonging to both $U_1$ and $U_3$ is $\\vec{0}$. "
   ]
  },
  {
   "cell_type": "code",
   "execution_count": 4,
   "metadata": {},
   "outputs": [],
   "source": [
    "from sympy import solve, Matrix\n",
    "from sympy.abc import a, b, c, x, y"
   ]
  },
  {
   "cell_type": "code",
   "execution_count": 5,
   "metadata": {},
   "outputs": [],
   "source": [
    "v2, v3 = Matrix([0, 1]), Matrix([1, 1])"
   ]
  },
  {
   "cell_type": "code",
   "execution_count": 6,
   "metadata": {},
   "outputs": [
    {
     "data": {
      "text/plain": [
       "{b: -x + y, c: x}"
      ]
     },
     "execution_count": 6,
     "metadata": {},
     "output_type": "execute_result"
    }
   ],
   "source": [
    "solve(b * v2 + c * v3 - Matrix([x, y]), [b, c])"
   ]
  },
  {
   "cell_type": "markdown",
   "metadata": {},
   "source": [
    "Hence \n",
    "$$\n",
    "\\begin{pmatrix} x \\\\ y \\end{pmatrix} \n",
    "= \n",
    "(-x + y)\\begin{pmatrix} 1 \\\\ 0 \\end{pmatrix} + \n",
    "x \n",
    "\\begin{pmatrix}\n",
    "      1 \\\\\n",
    "      1 \\\\\n",
    "    \\end{pmatrix}\n",
    "$$\n"
   ]
  },
  {
   "cell_type": "markdown",
   "metadata": {},
   "source": [
    "and so $\\mathbb{R} ^ 2 = U_1 + U_3$."
   ]
  },
  {
   "cell_type": "markdown",
   "metadata": {},
   "source": [
    "## Example 6.2A"
   ]
  },
  {
   "cell_type": "markdown",
   "metadata": {},
   "source": [
    "Let $V = \\mathbb{R}^{3}$ and $U = \\operatorname{Span}(\\vec{v}_{1})$, where\n",
    "\n",
    "$$\n",
    "  \\vec{v}_{1} =\n",
    "  \\begin{pmatrix}\n",
    "    3 \\\\\n",
    "    -1 \\\\\n",
    "    2 \\\\\n",
    "  \\end{pmatrix}.\n",
    "$$\n",
    "\n",
    "(1) Find a subspace $W$ such that $V = U \\oplus W$.\n",
    "\n",
    "(2) Let $P : V \\to V$ be the associated projection onto $W$.\n",
    "Calculate $P(\\vec{u})$ where\n",
    "\n",
    "$$\n",
    "\\vec{u} =\n",
    "\\begin{pmatrix}\n",
    "4 \\\\\n",
    "4 \\\\\n",
    "4 \\\\\n",
    "\\end{pmatrix}.\n",
    "$$"
   ]
  },
  {
   "cell_type": "markdown",
   "metadata": {},
   "source": [
    "## Solution to Example 6.2A"
   ]
  },
  {
   "cell_type": "markdown",
   "metadata": {},
   "source": [
    "### Part (1)"
   ]
  },
  {
   "cell_type": "markdown",
   "metadata": {},
   "source": [
    "It suffices, by Proposition 6.1.3, to find extend $\\{\\vec{v}_1\\}$ to a basis $\\{\\vec{v}_1, \\vec{v}_2, \\vec{v}_3\\}$ for $\\mathbb{R} ^ 3$ and to set $W = \\operatorname{Span}(\\vec{v}_2, \\vec{v}_3)$. We can choose $\\vec{v}_2$ to be any vector that isn't a scalar multiple of $\\vec{v}_1$, say,\n",
    "$$\\vec{v}_2 = \\begin{pmatrix} 1 \\\\ 0 \\\\ 0 \\end{pmatrix}.$$\n",
    "We set \n",
    "$$\n",
    "\\vec{v}_3 = \\begin{pmatrix} 0 \\\\ 1 \\\\ 0 \\end{pmatrix}.\n",
    "$$"
   ]
  },
  {
   "cell_type": "code",
   "execution_count": 7,
   "metadata": {},
   "outputs": [],
   "source": [
    "from sympy import Matrix"
   ]
  },
  {
   "cell_type": "code",
   "execution_count": 8,
   "metadata": {},
   "outputs": [
    {
     "data": {
      "text/plain": [
       "3"
      ]
     },
     "execution_count": 8,
     "metadata": {},
     "output_type": "execute_result"
    }
   ],
   "source": [
    "Matrix([[3, -1, 2], [1, 0, 0], [0, 1, 0]]).rank()"
   ]
  },
  {
   "cell_type": "markdown",
   "metadata": {},
   "source": [
    "Hence $\\mathscr{B} = \\{\\vec{v}_1, \\vec{v}_2, \\vec{v}_3\\}$ is a linearly independent set, and since $|\\mathscr{B}| = 3 = \\operatorname{dim}(\\mathbb{R} ^ 3)$, it follows that $\\mathscr{B}$ is a basis for $\\mathbb{R} ^ 3$, as required. The subspace $W$ is then\n",
    "$$W = \\operatorname{Span}(\\vec{v}_2, \\vec{v}_3) = \\left\\{\\begin{pmatrix} x \\\\ y \\\\ 0 \\end{pmatrix}: x, y\\in \\mathbb{R}\\right\\}.$$"
   ]
  },
  {
   "cell_type": "markdown",
   "metadata": {},
   "source": [
    "### Part (2)"
   ]
  },
  {
   "cell_type": "code",
   "execution_count": 9,
   "metadata": {},
   "outputs": [],
   "source": [
    "from sympy import solve, Matrix\n",
    "from sympy.abc import a, b, c, x, y"
   ]
  },
  {
   "cell_type": "code",
   "execution_count": 10,
   "metadata": {},
   "outputs": [],
   "source": [
    "v1, v2, v3 = Matrix([3, -1, 2]), Matrix([1, 0, 0]), Matrix([0, 1, 0])"
   ]
  },
  {
   "cell_type": "code",
   "execution_count": 11,
   "metadata": {},
   "outputs": [
    {
     "data": {
      "text/plain": [
       "{a: 2, b: -2, c: 6}"
      ]
     },
     "execution_count": 11,
     "metadata": {},
     "output_type": "execute_result"
    }
   ],
   "source": [
    "solve(a * v1 + b * v2 + c * v3 - Matrix([4, 4, 4]), [a, b, c])"
   ]
  },
  {
   "cell_type": "markdown",
   "metadata": {},
   "source": [
    "It follows that\n",
    "$$\n",
    "\\begin{pmatrix} 4 \\\\ 4 \\\\ 4 \\end{pmatrix} = 2\\vec{v}_1 - 2 \\vec{v}_2 + 6 \\vec{v}_3\n",
    "$$\n",
    "and so \n",
    "$$\n",
    "P\\begin{pmatrix} 4 \\\\ 4 \\\\ 4 \\end{pmatrix} = -2 \\vec{v}_2 + 6 \\vec{v}_3 = \n",
    "$$"
   ]
  },
  {
   "cell_type": "code",
   "execution_count": 12,
   "metadata": {},
   "outputs": [
    {
     "data": {
      "text/latex": [
       "$\\displaystyle \\left[\\begin{matrix}-2\\\\6\\\\0\\end{matrix}\\right]$"
      ],
      "text/plain": [
       "Matrix([\n",
       "[-2],\n",
       "[ 6],\n",
       "[ 0]])"
      ]
     },
     "execution_count": 12,
     "metadata": {},
     "output_type": "execute_result"
    }
   ],
   "source": [
    "- 2 * v2 + 6 * v3"
   ]
  }
 ],
 "metadata": {
  "kernelspec": {
   "display_name": "Python 3",
   "language": "python",
   "name": "python3"
  },
  "language_info": {
   "codemirror_mode": {
    "name": "ipython",
    "version": 3
   },
   "file_extension": ".py",
   "mimetype": "text/x-python",
   "name": "python",
   "nbconvert_exporter": "python",
   "pygments_lexer": "ipython3",
   "version": "3.9.7"
  }
 },
 "nbformat": 4,
 "nbformat_minor": 4
}
