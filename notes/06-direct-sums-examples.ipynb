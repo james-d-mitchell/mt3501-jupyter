{
 "cells": [
  {
   "cell_type": "markdown",
   "metadata": {
    "collapsed": false
   },
   "source": [
    "# Section 6 (Direct sums)"
   ]
  },
  {
   "cell_type": "markdown",
   "metadata": {
    "collapsed": false
   },
   "source": [
    "## Example 6.1.5"
   ]
  },
  {
   "cell_type": "markdown",
   "metadata": {
    "collapsed": false
   },
   "source": [
    "  Let $V = \\mathbb{R}^{3}$ and let\n",
    "  $$\n",
    "    U_{1} = \\operatorname{Span} \\left( \\vec{v}_1 = \\begin{pmatrix}\n",
    " 1 \\\\\n",
    " 1 \\\\\n",
    " 1 \\\\\n",
    " \\end{pmatrix},\n",
    "    \\vec{v}_2 = \\begin{pmatrix}\n",
    " 2 \\\\\n",
    " 1 \\\\\n",
    " 0 \\\\\n",
    " \\end{pmatrix} \\right) \\qquad \\text{and} \\qquad U_{2} =\n",
    "    \\operatorname{Span} \\left( \\vec{v}_3 = \\begin{pmatrix}\n",
    " 0 \\\\\n",
    " 3 \\\\\n",
    " 1 \\\\\n",
    " \\end{pmatrix} \\right).\n",
    "  $$\n",
    "  Show that $V = U_{1} \\oplus U_{2}$.\n"
   ]
  },
  {
   "cell_type": "markdown",
   "metadata": {
    "collapsed": false
   },
   "source": [
    "## Solution to Example 6.1.5"
   ]
  },
  {
   "cell_type": "markdown",
   "metadata": {
    "collapsed": false
   },
   "source": [
    "It suffices by Proposition 6.1.3 to show that $\\{\\vec{v}_1,\n",
    "    \\vec{v}_2, \\vec{v}_3\\}$ is a basis for $V$."
   ]
  },
  {
   "cell_type": "code",
   "execution_count": 2,
   "metadata": {
    "collapsed": false
   },
   "outputs": [
   ],
   "source": [
    "from sympy import solve, Matrix\n",
    "from sympy.abc import a, b, c\n",
    "def Vector(*args):\n",
    "    return Matrix([[x] for x in args])"
   ]
  },
  {
   "cell_type": "code",
   "execution_count": 3,
   "metadata": {
    "collapsed": false
   },
   "outputs": [
   ],
   "source": [
    "v1, v2, v3 = Vector(1, 1, 1), Vector(2, 1, 0), Vector(0, 3, 1)"
   ]
  },
  {
   "cell_type": "code",
   "execution_count": 4,
   "metadata": {
    "collapsed": false
   },
   "outputs": [
    {
     "data": {
      "text/plain": [
       "{c: 0, b: 0, a: 0}"
      ]
     },
     "execution_count": 4,
     "metadata": {
     },
     "output_type": "execute_result"
    }
   ],
   "source": [
    "solve(a * v1 + b * v2 + c * v3, [a, b, c])"
   ]
  },
  {
   "cell_type": "markdown",
   "metadata": {
    "collapsed": false
   },
   "source": [
    "Hence the only solution to $a \\vec{v}_1 + b \\vec{v}_2 + c \\vec{v}_3 = \\vec{0}$ is $a = b = c = 0$, and so $\\{\\vec{v}_1,\n",
    "    \\vec{v}_2, \\vec{v}_3\\}$ is linearly independent. Since $|\\{\\vec{v}_1,\n",
    "    \\vec{v}_2, \\vec{v}_3\\}| = 3 = \\dim \\mathbb{R} ^3$, it follows that $\\{\\vec{v}_1,\n",
    "    \\vec{v}_2, \\vec{v}_3\\}$ is a basis for $\\mathbb{R} ^ 3$. "
   ]
  },
  {
   "cell_type": "code",
   "execution_count": 0,
   "metadata": {
    "collapsed": false
   },
   "outputs": [
   ],
   "source": [
   ]
  },
  {
   "cell_type": "markdown",
   "metadata": {
    "collapsed": false
   },
   "source": [
    "## Example 6.2.4"
   ]
  },
  {
   "cell_type": "markdown",
   "metadata": {
    "collapsed": false
   },
   "source": [
    "\n",
    "  Let\n",
    "  $$\n",
    "    U_{1} = \\operatorname{Span}\\begin{pmatrix}\n",
    "      1 \\\\\n",
    "      0 \\\\\n",
    "    \\end{pmatrix}, \\quad \n",
    "    U_{2} = \\operatorname{Span}\\begin{pmatrix}\n",
    "      0 \\\\\n",
    "      1 \\\\\n",
    "    \\end{pmatrix}, \\quad \\text{and} \\quad\n",
    "    U_{3} = \\operatorname{Span}\\begin{pmatrix}\n",
    "      1 \\\\\n",
    "      1 \\\\\n",
    "    \\end{pmatrix}.\n",
    "  $$\n",
    " \n",
    " (i)\n",
    "      Show that\n",
    "      $$\n",
    "        \\mathbb{R}^{2} = U_{1} \\oplus U_{2} \\qquad \\text{and} \\qquad \\mathbb{R}^{2} = U_{1}\n",
    "        \\oplus U_{3}.\n",
    "      $$\n",
    " (ii)\n",
    "      If $P : \\mathbb{R}^{2} \\to \\mathbb{R}^{2}$ is the projection onto $U_{1}$\n",
    "      corresponding to the first decomposition and $Q : \\mathbb{R}^{2} \\to\n",
    "      \\mathbb{R}^{2}$ is the projection onto $U_{1}$ corresponding to the second\n",
    "      decomposition, that $P \\neq Q$.\n",
    " \n"
   ]
  },
  {
   "cell_type": "markdown",
   "metadata": {
    "collapsed": false
   },
   "source": [
    "## Solution to Example 6.2.4(i)"
   ]
  },
  {
   "cell_type": "markdown",
   "metadata": {
    "collapsed": false
   },
   "source": [
    "From the definition of the direct sum, to show that $\\mathbb{R} ^ 2 = U_1 \\oplus U_2$, it suffices to show that $\\mathbb{R} ^ 2 = U_1 + U_2$ and that $U_1 \\cap U_2 = \\{\\vec{0}\\}$. \n",
    "\n",
    "The vectors \n",
    "$$\n",
    "\\begin{pmatrix} 1 \\\\ 0 \\end{pmatrix},\n",
    "\\begin{pmatrix} 0 \\\\ 1 \\end{pmatrix}\n",
    "$$\n",
    "are the standard basis vectors for $\\mathbb{R}$, and it's clear that\n",
    "$$\n",
    "\\begin{pmatrix} x \\\\ y \\end{pmatrix} =\n",
    "x\n",
    "\\begin{pmatrix} 1 \\\\ 0 \\end{pmatrix} + \n",
    "y\n",
    "\\begin{pmatrix} 0 \\\\ 1 \\end{pmatrix}.\n",
    "$$\n",
    "It's also clear that the only vector in both $U_1$ and $U_2$ is $\\vec{0}$. Hence $\\mathbb{R} ^ 2 = U_1 \\oplus U_2$."
   ]
  },
  {
   "cell_type": "markdown",
   "metadata": {
    "collapsed": false
   },
   "source": [
    "From the definition of the direct sum, to show that $\\mathbb{R} ^ 2 = U_1 \\oplus U_3$, it suffices to show that $\\mathbb{R} ^ 2 = U_1 + U_3$ and that $U_1 \\cap U_3 = \\{\\vec{0}\\}$. It's clear that the only vector belonging to both $U_1$ and $U_3$ is $\\vec{0}$. "
   ]
  },
  {
   "cell_type": "code",
   "execution_count": 4,
   "metadata": {
    "collapsed": false
   },
   "outputs": [
   ],
   "source": [
    "from sympy import solve, Matrix\n",
    "from sympy.abc import a, b, c, x, y\n",
    "def Vector(*args):\n",
    "    return Matrix([[x] for x in args])"
   ]
  },
  {
   "cell_type": "code",
   "execution_count": 5,
   "metadata": {
    "collapsed": false
   },
   "outputs": [
   ],
   "source": [
    "v2, v3 = Vector(0, 1), Vector(1, 1)"
   ]
  },
  {
   "cell_type": "code",
   "execution_count": 6,
   "metadata": {
    "collapsed": false
   },
   "outputs": [
    {
     "data": {
      "text/plain": [
       "{b: -x + y, c: x}"
      ]
     },
     "execution_count": 6,
     "metadata": {
     },
     "output_type": "execute_result"
    }
   ],
   "source": [
    "solve(b * v2 + c * v3 - Vector(x, y), [b, c])"
   ]
  },
  {
   "cell_type": "markdown",
   "metadata": {
    "collapsed": false
   },
   "source": [
    "Hence \n",
    "$$\n",
    "\\begin{pmatrix} x \\\\ y \\end{pmatrix} \n",
    "= \n",
    "(-x + y)\\begin{pmatrix} 1 \\\\ 0 \\end{pmatrix} + \n",
    "x \n",
    "\\begin{pmatrix}\n",
    "      1 \\\\\n",
    "      1 \\\\\n",
    "    \\end{pmatrix}\n",
    "$$\n"
   ]
  },
  {
   "cell_type": "markdown",
   "metadata": {
    "collapsed": false
   },
   "source": [
    "and so $\\mathbb{R} ^ 2 = U_1 + U_3$."
   ]
  },
  {
   "cell_type": "markdown",
   "metadata": {
    "collapsed": false
   },
   "source": [
    "## Example 6.2A"
   ]
  },
  {
   "cell_type": "markdown",
   "metadata": {
    "collapsed": false
   },
   "source": [
    "Let $V = \\mathbb{R}^{3}$ and $U = \\operatorname{Span}(\\vec{v}_{1})$, where\n",
    "\n",
    "$$\n",
    "  \\vec{v}_{1} =\n",
    "  \\begin{pmatrix}\n",
    "    3 \\\\\n",
    "    -1 \\\\\n",
    "    2 \\\\\n",
    "  \\end{pmatrix}.\n",
    "$$\n",
    "\n",
    "(i) Find a subspace $W$ such that $V = U \\oplus W$.\n",
    "\n",
    "(ii) Let $P : V \\to V$ be the associated projection onto $W$.\n",
    "Calculate $P(\\vec{u})$ where\n",
    "\n",
    "$$\n",
    "\\vec{u} =\n",
    "\\begin{pmatrix}\n",
    "4 \\\\\n",
    "4 \\\\\n",
    "4 \\\\\n",
    "\\end{pmatrix}.\n",
    "$$"
   ]
  },
  {
   "cell_type": "markdown",
   "metadata": {
    "collapsed": false
   },
   "source": [
    "## Solution to Example 6.2A"
   ]
  },
  {
   "cell_type": "markdown",
   "metadata": {
    "collapsed": false
   },
   "source": [
    "### Part (i)"
   ]
  },
  {
   "cell_type": "markdown",
   "metadata": {
    "collapsed": false
   },
   "source": [
    "It suffices, by Proposition 6.1.3, to find extend $\\{\\vec{v}_1\\}$ to a basis $\\{\\vec{v}_1, \\vec{v}_2, \\vec{v}_3\\}$ for $\\mathbb{R} ^ 3$ and to set $W = \\operatorname{Span}(\\vec{v}_2, \\vec{v}_3)$. We can choose $\\vec{v}_2$ to be any vector that isn't a scalar multiple of $\\vec{v}_1$, say,\n",
    "$$\\vec{v}_2 = \\begin{pmatrix} 1 \\\\ 0 \\\\ 0 \\end{pmatrix}.$$\n",
    "We set \n",
    "$$\n",
    "\\vec{v}_3 = \\begin{pmatrix} 0 \\\\ 1 \\\\ 0 \\end{pmatrix}.\n",
    "$$"
   ]
  },
  {
   "cell_type": "code",
   "execution_count": 0,
   "metadata": {
    "collapsed": false
   },
   "outputs": [
   ],
   "source": [
    "from sympy import Matrix"
   ]
  },
  {
   "cell_type": "code",
   "execution_count": 10,
   "metadata": {
    "collapsed": false
   },
   "outputs": [
    {
     "data": {
      "text/plain": [
       "3"
      ]
     },
     "execution_count": 10,
     "metadata": {
     },
     "output_type": "execute_result"
    }
   ],
   "source": [
    "Matrix([[3, -1, 2], [1, 0, 0], [0, 1, 0]]).rank()"
   ]
  },
  {
   "cell_type": "markdown",
   "metadata": {
    "collapsed": false
   },
   "source": [
    "Hence $\\mathscr{B} = \\{\\vec{v}_1, \\vec{v}_2, \\vec{v}_3\\}$ is a linearly independent set, and since $|\\mathscr{B}| = 3 = \\operatorname{dim}(\\mathbb{R} ^ 3)$, it follows that $\\mathscr{B}$ is a basis for $\\mathbb{R} ^ 3$, as required. The subspace $W$ is then\n",
    "$$W = \\operatorname{Span}(\\vec{v}_2, \\vec{v}_3) = \\left\\{\\begin{pmatrix} x \\\\ y \\\\ 0 \\end{pmatrix}: x, y\\in \\mathbb{R}\\right\\}.$$"
   ]
  },
  {
   "cell_type": "markdown",
   "metadata": {
    "collapsed": false
   },
   "source": [
    "### Part (ii)"
   ]
  },
  {
   "cell_type": "code",
   "execution_count": 11,
   "metadata": {
    "collapsed": false
   },
   "outputs": [
   ],
   "source": [
    "from sympy import solve, Matrix\n",
    "from sympy.abc import a, b, c, x, y\n",
    "def Vector(*args):\n",
    "    return Matrix([[x] for x in args])"
   ]
  },
  {
   "cell_type": "code",
   "execution_count": 12,
   "metadata": {
    "collapsed": false
   },
   "outputs": [
   ],
   "source": [
    "v1, v2, v3 = Vector(3, -1, 2), Vector(1, 0, 0), Vector(0, 1, 0)"
   ]
  },
  {
   "cell_type": "code",
   "execution_count": 13,
   "metadata": {
    "collapsed": false
   },
   "outputs": [
    {
     "data": {
      "text/plain": [
       "{a: 2, b: -2, c: 6}"
      ]
     },
     "execution_count": 13,
     "metadata": {
     },
     "output_type": "execute_result"
    }
   ],
   "source": [
    "solve(a * v1 + b * v2 + c * v3 - Vector(4, 4, 4), [a, b, c])"
   ]
  },
  {
   "cell_type": "markdown",
   "metadata": {
    "collapsed": false
   },
   "source": [
    "It follows that\n",
    "$$\n",
    "\\begin{pmatrix} 4 \\\\ 4 \\\\ 4 \\end{pmatrix} = 2\\vec{v}_1 - 2 \\vec{v}_2 + 6 \\vec{v}_3\n",
    "$$\n",
    "and so \n",
    "$$\n",
    "P\\begin{pmatrix} 4 \\\\ 4 \\\\ 4 \\end{pmatrix} = -2 \\vec{v}_2 + 6 \\vec{v}_3 = \n",
    "$$"
   ]
  },
  {
   "cell_type": "code",
   "execution_count": 14,
   "metadata": {
    "collapsed": false
   },
   "outputs": [
    {
     "data": {
      "text/latex": [
       "$\\displaystyle \\left[\\begin{matrix}-2\\\\6\\\\0\\end{matrix}\\right]$"
      ],
      "text/plain": [
       "Matrix([\n",
       "[-2],\n",
       "[ 6],\n",
       "[ 0]])"
      ]
     },
     "execution_count": 14,
     "metadata": {
     },
     "output_type": "execute_result"
    }
   ],
   "source": [
    "- 2 * v2 + 6 * v3"
   ]
  },
  {
   "cell_type": "code",
   "execution_count": 0,
   "metadata": {
    "collapsed": false
   },
   "outputs": [
   ],
   "source": [
   ]
  }
 ],
 "metadata": {
  "kernelspec": {
   "display_name": "Python 3 (Anaconda 2020)",
   "env": {
    "ADDR2LINE": "/ext/anaconda2020.02/bin/x86_64-conda_cos6-linux-gnu-addr2line",
    "ANACONDA2019": "$EXT/anaconda-2019.03",
    "ANACONDA2020": "/ext/anaconda2020.02",
    "ANACONDA3": "$EXT/anaconda3",
    "ANACONDA5": "$EXT/anaconda5",
    "AR": "/ext/anaconda2020.02/bin/x86_64-conda_cos6-linux-gnu-ar",
    "AS": "/ext/anaconda2020.02/bin/x86_64-conda_cos6-linux-gnu-as",
    "CC": "/ext/anaconda2020.02/bin/x86_64-conda_cos6-linux-gnu-cc",
    "CFLAGS": "-march=nocona -mtune=haswell -ftree-vectorize -fPIC -fstack-protector-strong -fno-plt -O2 -ffunction-sections -pipe -isystem /ext/anaconda2020.02/include",
    "CMAKE_PREFIX_PATH": "/ext/anaconda2020.02:/ext/anaconda2020.02/x86_64-conda_cos6-linux-gnu/sysroot/usr",
    "CONDA_BACKUP_HOST": "x86_64-conda_cos6-linux-gnu",
    "CONDA_BUILD_SYSROOT": "/ext/anaconda2020.02/x86_64-conda_cos6-linux-gnu/sysroot",
    "CONDA_DEFAULT_ENV": "base",
    "CONDA_EXE": "/ext/anaconda2020.02/bin/conda",
    "CONDA_MKL_INTERFACE_LAYER_BACKUP": "",
    "CONDA_PREFIX": "/ext/anaconda2020.02",
    "CONDA_PROMPT_MODIFIER": "(base) ",
    "CONDA_PYTHON_EXE": "/ext/anaconda2020.02/bin/python",
    "CONDA_SHLVL": "1",
    "CPP": "/ext/anaconda2020.02/bin/x86_64-conda_cos6-linux-gnu-cpp",
    "CPPFLAGS": "-DNDEBUG -D_FORTIFY_SOURCE=2 -O2 -isystem /ext/anaconda2020.02/include",
    "CXX": "/ext/anaconda2020.02/bin/x86_64-conda_cos6-linux-gnu-c++",
    "CXXFILT": "/ext/anaconda2020.02/bin/x86_64-conda_cos6-linux-gnu-c++filt",
    "CXXFLAGS": "-fvisibility-inlines-hidden -std=c++17 -fmessage-length=0 -march=nocona -mtune=haswell -ftree-vectorize -fPIC -fstack-protector-strong -fno-plt -O2 -ffunction-sections -pipe -isystem /ext/anaconda2020.02/include",
    "DEBUG_CFLAGS": "-march=nocona -mtune=haswell -ftree-vectorize -fPIC -fstack-protector-all -fno-plt -Og -g -Wall -Wextra -fvar-tracking-assignments -ffunction-sections -pipe -isystem /ext/anaconda2020.02/include",
    "DEBUG_CPPFLAGS": "-D_DEBUG -D_FORTIFY_SOURCE=2 -Og -isystem /ext/anaconda2020.02/include",
    "DEBUG_CXXFLAGS": "-fvisibility-inlines-hidden -std=c++17 -fmessage-length=0 -march=nocona -mtune=haswell -ftree-vectorize -fPIC -fstack-protector-all -fno-plt -Og -g -Wall -Wextra -fvar-tracking-assignments -ffunction-sections -pipe -isystem /ext/anaconda2020.02/include",
    "DEBUG_FFLAGS": "-fopenmp -march=nocona -mtune=haswell -ftree-vectorize -fPIC -fstack-protector-strong -fno-plt -O2 -ffunction-sections -pipe -isystem /ext/anaconda2020.02/include -fopenmp -march=nocona -mtune=haswell -ftree-vectorize -fPIC -fstack-protector-all -fno-plt -Og -g -Wall -Wextra -fcheck=all -fbacktrace -fimplicit-none -fvar-tracking-assignments -ffunction-sections -pipe",
    "DEBUG_FORTRANFLAGS": "-fopenmp -march=nocona -mtune=haswell -ftree-vectorize -fPIC -fstack-protector-strong -fno-plt -O2 -ffunction-sections -pipe -isystem /ext/anaconda2020.02/include -fopenmp -march=nocona -mtune=haswell -ftree-vectorize -fPIC -fstack-protector-all -fno-plt -Og -g -Wall -Wextra -fcheck=all -fbacktrace -fimplicit-none -fvar-tracking-assignments -ffunction-sections -pipe",
    "ELFEDIT": "/ext/anaconda2020.02/bin/x86_64-conda_cos6-linux-gnu-elfedit",
    "F77": "/ext/anaconda2020.02/bin/x86_64-conda_cos6-linux-gnu-gfortran",
    "F90": "/ext/anaconda2020.02/bin/x86_64-conda_cos6-linux-gnu-gfortran",
    "F95": "/ext/anaconda2020.02/bin/x86_64-conda_cos6-linux-gnu-f95",
    "FC": "/ext/anaconda2020.02/bin/x86_64-conda_cos6-linux-gnu-gfortran",
    "FFLAGS": "-fopenmp -march=nocona -mtune=haswell -ftree-vectorize -fPIC -fstack-protector-strong -fno-plt -O2 -ffunction-sections -pipe -isystem /ext/anaconda2020.02/include",
    "FORTRANFLAGS": "-fopenmp -march=nocona -mtune=haswell -ftree-vectorize -fPIC -fstack-protector-strong -fno-plt -O2 -ffunction-sections -pipe -isystem /ext/anaconda2020.02/include",
    "GCC": "/ext/anaconda2020.02/bin/x86_64-conda_cos6-linux-gnu-gcc",
    "GCC_AR": "/ext/anaconda2020.02/bin/x86_64-conda_cos6-linux-gnu-gcc-ar",
    "GCC_NM": "/ext/anaconda2020.02/bin/x86_64-conda_cos6-linux-gnu-gcc-nm",
    "GCC_RANLIB": "/ext/anaconda2020.02/bin/x86_64-conda_cos6-linux-gnu-gcc-ranlib",
    "GDAL_DATA": "/ext/anaconda2020.02/share/gdal",
    "GFORTRAN": "/ext/anaconda2020.02/bin/x86_64-conda_cos6-linux-gnu-gfortran",
    "GPROF": "/ext/anaconda2020.02/bin/x86_64-conda_cos6-linux-gnu-gprof",
    "GXX": "/ext/anaconda2020.02/bin/x86_64-conda_cos6-linux-gnu-g++",
    "JAVA_HOME": "/ext/anaconda2020.02",
    "JAVA_HOME_CONDA_BACKUP": "",
    "JAVA_LD_LIBRARY_PATH": "/ext/anaconda2020.02/lib/server",
    "LD": "/ext/anaconda2020.02/bin/x86_64-conda_cos6-linux-gnu-ld",
    "LDFLAGS": "-Wl,-O2 -Wl,--sort-common -Wl,--as-needed -Wl,-z,relro -Wl,-z,now -Wl,--disable-new-dtags -Wl,--gc-sections -Wl,-rpath,/ext/anaconda2020.02/lib -Wl,-rpath-link,/ext/anaconda2020.02/lib -L/ext/anaconda2020.02/lib",
    "LD_GOLD": "/ext/anaconda2020.02/bin/x86_64-conda_cos6-linux-gnu-ld.gold",
    "LD_LIBRARY_PATH": "/ext/anaconda2020.02/lib",
    "MKL_INTERFACE_LAYER": "LP64,GNU",
    "MKL_THREADING_LAYER": "GNU",
    "NM": "/ext/anaconda2020.02/bin/x86_64-conda_cos6-linux-gnu-nm",
    "OBJCOPY": "/ext/anaconda2020.02/bin/x86_64-conda_cos6-linux-gnu-objcopy",
    "OBJDUMP": "/ext/anaconda2020.02/bin/x86_64-conda_cos6-linux-gnu-objdump",
    "OLDPWD": "/ext/anaconda2020.02",
    "PATH": "/ext/anaconda2020.02/bin:/ext/anaconda2020.02/bin:/ext/anaconda2020.02/condabin:/cocalc/bin:/cocalc/src/smc-project/bin:/home/salvus/bin:/home/salvus/.local/bin:/usr/lib/xpra:/ext/bin:/opt/ghc/bin:/usr/local/sbin:/usr/local/bin:/usr/sbin:/usr/bin:/sbin:/bin:/snap/bin:/usr/lib/postgresql/10/bin:/ext/data/homer/bin:/ext/data/weblogo",
    "PROJ_LIB": "/ext/anaconda2020.02/share/proj",
    "RANLIB": "/ext/anaconda2020.02/bin/x86_64-conda_cos6-linux-gnu-ranlib",
    "READELF": "/ext/anaconda2020.02/bin/x86_64-conda_cos6-linux-gnu-readelf",
    "RSTUDIO_WHICH_R": "/ext/anaconda2020.02/bin/R",
    "SIZE": "/ext/anaconda2020.02/bin/x86_64-conda_cos6-linux-gnu-size",
    "STRINGS": "/ext/anaconda2020.02/bin/x86_64-conda_cos6-linux-gnu-strings",
    "STRIP": "/ext/anaconda2020.02/bin/x86_64-conda_cos6-linux-gnu-strip",
    "_CE_CONDA": "",
    "_CE_M": "",
    "_CONDA_PYTHON_SYSCONFIGDATA_NAME": "_sysconfigdata_x86_64_conda_cos6_linux_gnu"
   },
   "language": "python",
   "metadata": {
    "cocalc": {
     "description": "Python/R distribution for data science",
     "priority": 5,
     "url": "https://www.anaconda.com/distribution/"
    }
   },
   "name": "anaconda2020"
  },
  "language_info": {
   "codemirror_mode": {
    "name": "ipython",
    "version": 3
   },
   "file_extension": ".py",
   "mimetype": "text/x-python",
   "name": "python",
   "nbconvert_exporter": "python",
   "pygments_lexer": "ipython3",
   "version": "3.7.8"
  }
 },
 "nbformat": 4,
 "nbformat_minor": 4
}