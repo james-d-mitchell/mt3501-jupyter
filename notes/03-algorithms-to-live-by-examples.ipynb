{
 "cells": [
  {
   "cell_type": "markdown",
   "metadata": {},
   "source": [
    "# Section 3 - Algorithms to live by"
   ]
  },
  {
   "cell_type": "markdown",
   "metadata": {},
   "source": [
    "This worksheet contains alternative solutions to the examples in Section 3 of the notes for MT3501."
   ]
  },
  {
   "cell_type": "markdown",
   "metadata": {
    "heading_collapsed": true
   },
   "source": [
    "## Example 3.3.3 (Algorithm 1)"
   ]
  },
  {
   "cell_type": "markdown",
   "metadata": {
    "hidden": true
   },
   "source": [
    "  Is the collection \n",
    "  $$\n",
    "  \\mathscr{A} = \n",
    "  \\left\\{\n",
    "  \\begin{pmatrix}2 \\\\ 1 \\\\ 0 \\\\ 0 \\end{pmatrix},\n",
    "  \\begin{pmatrix}1 \\\\ 1 \\\\ 1 \\\\ 0 \\end{pmatrix},\n",
    "  \\begin{pmatrix}1 \\\\ 0 \\\\ 1 \\\\ 1 \\end{pmatrix} \n",
    "  \\right\\}\n",
    "  $$\n",
    "  a linearly independent subset of $\\mathbb{R} ^ 4$?"
   ]
  },
  {
   "cell_type": "markdown",
   "metadata": {
    "heading_collapsed": true
   },
   "source": [
    "## Solution to Example 3.3.3"
   ]
  },
  {
   "cell_type": "code",
   "execution_count": 1,
   "metadata": {
    "hidden": true
   },
   "outputs": [],
   "source": [
    "from sympy import Matrix"
   ]
  },
  {
   "cell_type": "markdown",
   "metadata": {
    "hidden": true
   },
   "source": [
    "#### Insert the vectors in $\\mathscr{A}$ as the rows in the matrix, and compute the rank:"
   ]
  },
  {
   "cell_type": "code",
   "execution_count": 2,
   "metadata": {
    "hidden": true
   },
   "outputs": [
    {
     "data": {
      "text/plain": [
       "3"
      ]
     },
     "execution_count": 2,
     "metadata": {},
     "output_type": "execute_result"
    }
   ],
   "source": [
    "Matrix([[2, 1, 0, 0], [1, 1, 1, 0], [1, 0, 1, 1]]).rank()"
   ]
  },
  {
   "cell_type": "markdown",
   "metadata": {
    "hidden": true
   },
   "source": [
    "Conclude that $\\mathscr{A}$ is linearly independent, by Algorithm 1."
   ]
  },
  {
   "cell_type": "markdown",
   "metadata": {
    "hidden": true
   },
   "source": [
    "#### Insert the vectors in $\\mathscr{A}$ as the columns in the matrix, and compute the rank:"
   ]
  },
  {
   "cell_type": "code",
   "execution_count": 3,
   "metadata": {
    "hidden": true
   },
   "outputs": [
    {
     "data": {
      "text/latex": [
       "$\\displaystyle \\left[\\begin{matrix}2 & 1 & 1\\\\0 & 1 & -1\\\\0 & 0 & 2\\\\0 & 0 & 0\\end{matrix}\\right]$"
      ],
      "text/plain": [
       "Matrix([\n",
       "[2, 1,  1],\n",
       "[0, 1, -1],\n",
       "[0, 0,  2],\n",
       "[0, 0,  0]])"
      ]
     },
     "execution_count": 3,
     "metadata": {},
     "output_type": "execute_result"
    }
   ],
   "source": [
    "Matrix([[2, 1, 1], [1, 1, 0], [0, 1, 1], [0, 0, 1]]).echelon_form()"
   ]
  },
  {
   "cell_type": "code",
   "execution_count": 4,
   "metadata": {
    "hidden": true
   },
   "outputs": [
    {
     "data": {
      "text/plain": [
       "3"
      ]
     },
     "execution_count": 4,
     "metadata": {},
     "output_type": "execute_result"
    }
   ],
   "source": [
    "Matrix([[2, 1, 1], [1, 1, 0], [0, 1, 1], [0, 0, 1]]).rank()"
   ]
  },
  {
   "cell_type": "markdown",
   "metadata": {
    "hidden": true
   },
   "source": [
    "Conclude that $\\mathscr{A}$ is linearly independent. Note that almost all of the complexity of Algorithm 1 disappears when done in python, the rank is computed somehow by Sympy and we don't have to worry about whether or not it is performing column or row operations."
   ]
  },
  {
   "cell_type": "markdown",
   "metadata": {},
   "source": [
    "## Example 3.3A"
   ]
  },
  {
   "cell_type": "markdown",
   "metadata": {},
   "source": [
    "  Determine whether the set $\\{ x+x^{2}, 1-2x^{2}, 3+6x \\}$ is\n",
    "  linearly independent in the vector space $\\mathcal{P}$ of all real\n",
    "  polynomials."
   ]
  },
  {
   "cell_type": "markdown",
   "metadata": {},
   "source": [
    "## Solution to Example 3.3A"
   ]
  },
  {
   "cell_type": "markdown",
   "metadata": {},
   "source": [
    "  We solve\n",
    "  $$\n",
    "    \\alpha(x+x^{2}) + \\beta(1-2x^{2}) + \\gamma(3+6x) = 0.\n",
    "  $$"
   ]
  },
  {
   "cell_type": "code",
   "execution_count": 5,
   "metadata": {},
   "outputs": [],
   "source": [
    "# import symbolic constants (i.e. variables in a mathematical not python sense)\n",
    "# we use x to represent x in the equation above, and we use a for alpha, b for beta, and c for gamma. \n",
    "from sympy.abc import x, a, b, c \n",
    "# also get the \"solve\" command, which can be used to solve equations. \n",
    "# This is one of the 4 functions from sympy required in this course. \n",
    "from sympy import solve "
   ]
  },
  {
   "cell_type": "code",
   "execution_count": 6,
   "metadata": {},
   "outputs": [
    {
     "data": {
      "text/plain": [
       "{a: -6*c, b: -3*c}"
      ]
     },
     "execution_count": 6,
     "metadata": {},
     "output_type": "execute_result"
    }
   ],
   "source": [
    "solve(a * (x + x ** 2) + b * (1 - 2 * x ** 2) + c * (3 + 6 * x), [a, b, c])"
   ]
  },
  {
   "cell_type": "markdown",
   "metadata": {},
   "source": [
    "If $\\gamma = 1$, then $\\alpha = -6$ and $\\beta = -3$, is a non-zero solution to the equation. Hence the set is not linearly independent. "
   ]
  },
  {
   "cell_type": "markdown",
   "metadata": {},
   "source": [
    "## Example 3.3B"
   ]
  },
  {
   "cell_type": "markdown",
   "metadata": {},
   "source": [
    "  Is the collection:\n",
    "  $$\n",
    "    \\mathscr{A} =\n",
    "    \\left\\{\n",
    "    \\begin{pmatrix} -61 \\\\ -6 \\\\ -60 \\\\ -16 \\end{pmatrix},\n",
    "    \\begin{pmatrix} 91 \\\\ 12 \\\\ 46 \\\\ 58 \\end{pmatrix},\n",
    "    \\begin{pmatrix} 31 \\\\ -97 \\\\ 54 \\\\ -48 \\end{pmatrix}\n",
    "    \\begin{pmatrix} 0 \\\\ 97 \\\\ 20 \\\\ 22 \\end{pmatrix}\n",
    "    \\right\\}\n",
    "  $$\n",
    "  a linearly independent subset of $\\mathbb{R} ^ 4$?"
   ]
  },
  {
   "cell_type": "markdown",
   "metadata": {},
   "source": [
    "## Solution to Example 3.3B"
   ]
  },
  {
   "cell_type": "markdown",
   "metadata": {},
   "source": [
    "We enter the vectors in the matrix above as the rows in a matrix $A$:"
   ]
  },
  {
   "cell_type": "code",
   "execution_count": 7,
   "metadata": {},
   "outputs": [
    {
     "data": {
      "text/plain": [
       "3"
      ]
     },
     "execution_count": 7,
     "metadata": {},
     "output_type": "execute_result"
    }
   ],
   "source": [
    "Matrix([[-61, -6, -60, -16], [91, 12, 46, 58], [31, -97, 54, -48], [0, 97, 20, 22]]).rank()"
   ]
  },
  {
   "cell_type": "markdown",
   "metadata": {},
   "source": [
    "Since the rank of this matrix is $3$ we conclude that the set is not linearly independent. "
   ]
  },
  {
   "cell_type": "markdown",
   "metadata": {},
   "source": [
    "Alternatively, we can compute the row echelon form of the matrix:"
   ]
  },
  {
   "cell_type": "code",
   "execution_count": 8,
   "metadata": {},
   "outputs": [],
   "source": [
    "B = Matrix([[-61, -6, -60, -16], [91, 12, 46, 58], [31, -97, 54, -48], [0, 97, 20, 22]]).echelon_form()"
   ]
  },
  {
   "cell_type": "code",
   "execution_count": 9,
   "metadata": {},
   "outputs": [
    {
     "name": "stdout",
     "output_type": "stream",
     "text": [
      "\\left[\\begin{matrix}-61 & -6 & -60 & -16\\\\0 & -186 & 2654 & -2082\\\\0 & 0 & -15930638 & 12069582\\\\0 & 0 & 0 & 0\\end{matrix}\\right]\n"
     ]
    }
   ],
   "source": [
    "from sympy import init_printing, latex\n",
    "print(latex(B))"
   ]
  },
  {
   "cell_type": "markdown",
   "metadata": {
    "heading_collapsed": true
   },
   "source": [
    "## Example 3.4.3 (Algorithm 2)"
   ]
  },
  {
   "cell_type": "markdown",
   "metadata": {
    "hidden": true
   },
   "source": [
    "  Find the dimension of the subspace of $\\mathbb{R} ^ 3$ spanned by the vectors\n",
    "  $$\n",
    "    \\begin{pmatrix}\n",
    "      -2 \\\\\n",
    "      2 \\\\\n",
    "      0 \\\\\n",
    "    \\end{pmatrix},\n",
    "    \\begin{pmatrix}\n",
    "      -1 \\\\\n",
    "      0 \\\\\n",
    "      0 \\\\\n",
    "    \\end{pmatrix},\n",
    "    \\begin{pmatrix}\n",
    "      1 \\\\\n",
    "      -3 \\\\\n",
    "      1 \\\\\n",
    "    \\end{pmatrix}.\n",
    " $$\n"
   ]
  },
  {
   "cell_type": "markdown",
   "metadata": {
    "heading_collapsed": true
   },
   "source": [
    "## Solution to Example 3.4.3"
   ]
  },
  {
   "cell_type": "code",
   "execution_count": 10,
   "metadata": {
    "hidden": true
   },
   "outputs": [],
   "source": [
    "from sympy import Matrix"
   ]
  },
  {
   "cell_type": "code",
   "execution_count": 11,
   "metadata": {
    "hidden": true
   },
   "outputs": [
    {
     "data": {
      "text/plain": [
       "3"
      ]
     },
     "execution_count": 11,
     "metadata": {},
     "output_type": "execute_result"
    }
   ],
   "source": [
    "Matrix([[-2, -1, 1], [2, 0, -3], [0, 0, 1]]).rank()"
   ]
  },
  {
   "cell_type": "markdown",
   "metadata": {
    "hidden": true
   },
   "source": [
    "It follows that the dimension of the subspace spanned by these three vectors is $3$. "
   ]
  },
  {
   "cell_type": "markdown",
   "metadata": {
    "heading_collapsed": true
   },
   "source": [
    "## Example 3.4.4 (Algorithm 2)"
   ]
  },
  {
   "cell_type": "markdown",
   "metadata": {
    "hidden": true
   },
   "source": [
    "  Find dim Span$(\\mathscr{A})$ where\n",
    "  $$\n",
    "    \\mathscr{A} =\n",
    "    \\left\\{\n",
    "      \\begin{pmatrix} 0 \\\\\n",
    "        0 \\\\\n",
    "        0 \\\\\n",
    "        0 \\\\\n",
    "      \\end{pmatrix},\n",
    "      \\begin{pmatrix} 1 \\\\\n",
    "        0 \\\\\n",
    "        1 \\\\\n",
    "        -1 \\\\\n",
    "      \\end{pmatrix},\n",
    "      \\begin{pmatrix} 0 \\\\\n",
    "        -1 \\\\\n",
    "        0 \\\\\n",
    "        0 \\\\\n",
    "      \\end{pmatrix},\n",
    "      \\begin{pmatrix} 2 \\\\\n",
    "        -1 \\\\\n",
    "        0 \\\\\n",
    "        2 \\\\\n",
    "      \\end{pmatrix}\n",
    "    \\right\\}\\subseteq \\mathbb{R} ^ 4.\n",
    " $$\n"
   ]
  },
  {
   "cell_type": "markdown",
   "metadata": {
    "heading_collapsed": true
   },
   "source": [
    "## Solution to Example 3.4.4"
   ]
  },
  {
   "cell_type": "markdown",
   "metadata": {
    "hidden": true
   },
   "source": [
    "We enter the vectors in $\\mathscr{A}$ as the columns of a matrix and compute the rank of that matrix."
   ]
  },
  {
   "cell_type": "code",
   "execution_count": 12,
   "metadata": {
    "hidden": true
   },
   "outputs": [
    {
     "data": {
      "text/plain": [
       "3"
      ]
     },
     "execution_count": 12,
     "metadata": {},
     "output_type": "execute_result"
    }
   ],
   "source": [
    "Matrix([[0, 1, 0, 2], [0, 0, -1, -1], [0, 1, 0, 0], [0, -1, 0, 2]]).rank()"
   ]
  },
  {
   "cell_type": "markdown",
   "metadata": {
    "hidden": true
   },
   "source": [
    "Hence the dimension is $3$."
   ]
  },
  {
   "cell_type": "markdown",
   "metadata": {
    "heading_collapsed": true
   },
   "source": [
    "## Example 3.5A (Algorithm 3)"
   ]
  },
  {
   "cell_type": "markdown",
   "metadata": {
    "hidden": true
   },
   "source": [
    "  Let\n",
    "  $$\n",
    "    \\vec{v}_{1} = \\begin{pmatrix} 1 \\\\\n",
    "      -1 \\\\\n",
    "      0 \\\\\n",
    "      3 \\\\\n",
    "    \\end{pmatrix}, \\quad\n",
    "    \\vec{v}_{2} = \\begin{pmatrix} 2 \\\\\n",
    "      1 \\\\\n",
    "      1 \\\\\n",
    "      0 \\\\\n",
    "    \\end{pmatrix},  \\quad\n",
    "    \\vec{v}_{3} = \\begin{pmatrix} 0 \\\\\n",
    "      3 \\\\\n",
    "      1 \\\\\n",
    "      -6 \\\\\n",
    "    \\end{pmatrix}, \\quad\n",
    "    \\vec{v}_{4} = \\begin{pmatrix} 0 \\\\\n",
    "      1 \\\\\n",
    "      0 \\\\\n",
    "      -1 \\\\\n",
    "    \\end{pmatrix}, \\quad\n",
    "    \\vec{v}_{5} = \\begin{pmatrix} -1 \\\\\n",
    "      1 \\\\\n",
    "      -1 \\\\\n",
    "      0 \\\\\n",
    "    \\end{pmatrix}\n",
    "  $$\n",
    "  and let $U$ be the subspace of $\\mathbb{R}^{4}$ spanned by the set $\\mathscr{A} = \\{\n",
    "    \\vec{v}_{1}, \\vec{v}_{2}, \\vec{v}_{3}, \\vec{v}_{4}, \\vec{v}_{5}\n",
    "    \\}$.  Find a basis $\\mathscr{B}$ for $U$ and hence determine the dimension of $U$."
   ]
  },
  {
   "cell_type": "markdown",
   "metadata": {
    "heading_collapsed": true
   },
   "source": [
    "## Solution to Example 3.5A"
   ]
  },
  {
   "cell_type": "markdown",
   "metadata": {
    "hidden": true
   },
   "source": [
    "Import useful stuff from sympy"
   ]
  },
  {
   "cell_type": "code",
   "execution_count": 13,
   "metadata": {
    "hidden": true
   },
   "outputs": [],
   "source": [
    "from sympy import Matrix, solve\n",
    "from sympy.abc import a, b, c, d"
   ]
  },
  {
   "cell_type": "markdown",
   "metadata": {
    "hidden": true
   },
   "source": [
    "We define the vectors $\\vec{v}_1, \\ldots, \\vec{v}_5$ in python (remember that vectors are just $n\\times 1$ matrices!):"
   ]
  },
  {
   "cell_type": "code",
   "execution_count": 14,
   "metadata": {
    "hidden": true
   },
   "outputs": [],
   "source": [
    "v1, v2, v3, v4, v5 = Matrix([1, -1, 0, 3]), Matrix([2, 1, 1, 0]), Matrix([0, 3, 1, -6]), Matrix([0, 1, 0, -1]), Matrix([-1, 1, -1, 0])"
   ]
  },
  {
   "cell_type": "markdown",
   "metadata": {
    "hidden": true
   },
   "source": [
    "Next we test which of the vectors can be removed from the set $\\mathscr{A}$ by testing which can be written as a linear combination of the others."
   ]
  },
  {
   "cell_type": "code",
   "execution_count": 15,
   "metadata": {
    "hidden": true
   },
   "outputs": [
    {
     "data": {
      "text/plain": [
       "{a: d/2 + 1/2, b: d/2 - 1/2, c: -3*d}"
      ]
     },
     "execution_count": 15,
     "metadata": {},
     "output_type": "execute_result"
    }
   ],
   "source": [
    "solve(a * v2 + b * v3 + c * v4 + d * v5 - v1, [a, b, c, d])"
   ]
  },
  {
   "cell_type": "markdown",
   "metadata": {
    "hidden": true
   },
   "source": [
    "We deduce that $\\vec{v}_1$ can be given as a linear combination of the vectors $\\{\\vec{v}_2, \\vec{v}_3, \\vec{v}_4, \\vec{v}_5\\}$ and so we remove it from the $\\mathscr{A}$. "
   ]
  },
  {
   "cell_type": "code",
   "execution_count": 16,
   "metadata": {
    "hidden": true
   },
   "outputs": [
    {
     "data": {
      "text/plain": [
       "{b: -1, c: 6, d: -2}"
      ]
     },
     "execution_count": 16,
     "metadata": {},
     "output_type": "execute_result"
    }
   ],
   "source": [
    "solve(b * v3 + c * v4 + d * v5 - v2, [a, b, c, d])"
   ]
  },
  {
   "cell_type": "markdown",
   "metadata": {
    "hidden": true
   },
   "source": [
    "We deduce that $\\vec{v}_2$ can be given as a linear combination of the vectors $\\{\\vec{v}_3, \\vec{v}_4, \\vec{v}_5\\}$ and so we remove it from the $\\mathscr{A}$. "
   ]
  },
  {
   "cell_type": "code",
   "execution_count": 17,
   "metadata": {
    "hidden": true
   },
   "outputs": [
    {
     "data": {
      "text/plain": [
       "[]"
      ]
     },
     "execution_count": 17,
     "metadata": {},
     "output_type": "execute_result"
    }
   ],
   "source": [
    "solve(c * v4 + d * v5 - v3, [a, b, c, d])"
   ]
  },
  {
   "cell_type": "markdown",
   "metadata": {
    "hidden": true
   },
   "source": [
    "So, $\\vec{v}_3$ cannot be written as linear combination of the vectors $\\{\\vec{v}_4, \\vec{v}_5\\}$. Similarly, $\\vec{v}_4$ and $\\vec{v}_5$ cannot be written as linear combination of the vectors $\\{\\vec{v}_3, \\vec{v}_5\\}$ and $\\{\\vec{v}_3, \\vec{v}_4\\}$:"
   ]
  },
  {
   "cell_type": "code",
   "execution_count": 18,
   "metadata": {
    "hidden": true
   },
   "outputs": [
    {
     "data": {
      "text/plain": [
       "[]"
      ]
     },
     "execution_count": 18,
     "metadata": {},
     "output_type": "execute_result"
    }
   ],
   "source": [
    "solve(c * v3 + d * v5 - v4, [a, b, c, d])"
   ]
  },
  {
   "cell_type": "code",
   "execution_count": 19,
   "metadata": {
    "hidden": true
   },
   "outputs": [
    {
     "data": {
      "text/plain": [
       "[]"
      ]
     },
     "execution_count": 19,
     "metadata": {},
     "output_type": "execute_result"
    }
   ],
   "source": [
    "solve(c * v3 + d * v4 - v5, [a, b, c, d])"
   ]
  },
  {
   "cell_type": "markdown",
   "metadata": {
    "hidden": true
   },
   "source": [
    "It follows that $\\{\\vec{v}_3, \\vec{v}_4, \\vec{v}_5\\}$ is a basis for $U$ and so the dimension of $U$ is $3$."
   ]
  },
  {
   "cell_type": "markdown",
   "metadata": {
    "heading_collapsed": true,
    "hidden": true
   },
   "source": [
    "### Alternative solutions"
   ]
  },
  {
   "cell_type": "markdown",
   "metadata": {
    "hidden": true
   },
   "source": [
    "We note that there's a shorter solution if we allow ourselves to use some more of the functions in sympy:"
   ]
  },
  {
   "cell_type": "code",
   "execution_count": 20,
   "metadata": {},
   "outputs": [],
   "source": [
    "A = Matrix([[1, 2, 0, 0, -1], [-1, 1, 3, 1, 1], [0, 1, 1, 0, -1], [3, 0, -6, -1, 0]])"
   ]
  },
  {
   "cell_type": "code",
   "execution_count": 21,
   "metadata": {
    "hidden": true
   },
   "outputs": [
    {
     "data": {
      "text/latex": [
       "$\\displaystyle \\left[\\begin{matrix}1 & 2 & 0 & 0 & -1\\\\0 & 3 & 3 & 1 & 0\\\\0 & 0 & 0 & -1 & -3\\\\0 & 0 & 0 & 0 & 0\\end{matrix}\\right]$"
      ],
      "text/plain": [
       "Matrix([\n",
       "[1, 2, 0,  0, -1],\n",
       "[0, 3, 3,  1,  0],\n",
       "[0, 0, 0, -1, -3],\n",
       "[0, 0, 0,  0,  0]])"
      ]
     },
     "execution_count": 21,
     "metadata": {},
     "output_type": "execute_result"
    }
   ],
   "source": [
    "A.echelon_form() # this computes the row echelon form of the matrix"
   ]
  },
  {
   "cell_type": "markdown",
   "metadata": {
    "hidden": true
   },
   "source": [
    "There are 3 non-zero rows and so the rank of $A$ is $3$, and so too is the dimension of the subspace $U$. This does not give us a basis for $U$ however (the matrix is not in column echelon form, and the rows belong to $\\mathbb{R} ^ 5$ not $\\mathbb{R} ^ 4$)."
   ]
  },
  {
   "cell_type": "code",
   "execution_count": 22,
   "metadata": {
    "hidden": true
   },
   "outputs": [
    {
     "data": {
      "text/plain": [
       "[Matrix([\n",
       " [ 1],\n",
       " [-1],\n",
       " [ 0],\n",
       " [ 3]]),\n",
       " Matrix([\n",
       " [2],\n",
       " [1],\n",
       " [1],\n",
       " [0]]),\n",
       " Matrix([\n",
       " [ 0],\n",
       " [ 1],\n",
       " [ 0],\n",
       " [-1]])]"
      ]
     },
     "execution_count": 22,
     "metadata": {},
     "output_type": "execute_result"
    }
   ],
   "source": [
    "A.columnspace()"
   ]
  },
  {
   "cell_type": "markdown",
   "metadata": {
    "hidden": true
   },
   "source": [
    "So, a basis for the column space of $A$ (which is Span$(\\mathscr{A})$) is:\n",
    "$$\n",
    "\\mathscr{B} = \n",
    "\\left\\{\n",
    "\\begin{pmatrix}\n",
    "1  \\\\ \n",
    "-1 \\\\\n",
    "0  \\\\\n",
    "3 \n",
    "\\end{pmatrix}, \n",
    "\\begin{pmatrix}\n",
    "2  \\\\ \n",
    "1 \\\\\n",
    "1  \\\\\n",
    "0 \n",
    "\\end{pmatrix}, \n",
    "\\begin{pmatrix}\n",
    "0  \\\\ \n",
    "1 \\\\\n",
    "0  \\\\\n",
    "-1 \n",
    "\\end{pmatrix}\\right\\}.\n",
    "$$"
   ]
  },
  {
   "cell_type": "markdown",
   "metadata": {
    "hidden": true
   },
   "source": [
    "#### Double check that $\\mathscr{B}$ is really a basis\n",
    "\n",
    "Let's double check that this collection of vectors is linearly independent."
   ]
  },
  {
   "cell_type": "code",
   "execution_count": 23,
   "metadata": {
    "hidden": true
   },
   "outputs": [],
   "source": [
    "c = A.columnspace()"
   ]
  },
  {
   "cell_type": "code",
   "execution_count": 24,
   "metadata": {
    "hidden": true
   },
   "outputs": [],
   "source": [
    "B = Matrix()"
   ]
  },
  {
   "cell_type": "code",
   "execution_count": 25,
   "metadata": {
    "hidden": true
   },
   "outputs": [],
   "source": [
    "B = B.col_insert(0, c[0])"
   ]
  },
  {
   "cell_type": "code",
   "execution_count": 26,
   "metadata": {
    "hidden": true
   },
   "outputs": [],
   "source": [
    "B = B.col_insert(1, c[1])"
   ]
  },
  {
   "cell_type": "code",
   "execution_count": 27,
   "metadata": {
    "hidden": true
   },
   "outputs": [],
   "source": [
    "B = B.col_insert(2, c[2])"
   ]
  },
  {
   "cell_type": "code",
   "execution_count": 28,
   "metadata": {
    "hidden": true
   },
   "outputs": [
    {
     "data": {
      "text/latex": [
       "$\\displaystyle \\left[\\begin{matrix}1 & 2 & 0\\\\-1 & 1 & 1\\\\0 & 1 & 0\\\\3 & 0 & -1\\end{matrix}\\right]$"
      ],
      "text/plain": [
       "Matrix([\n",
       "[ 1, 2,  0],\n",
       "[-1, 1,  1],\n",
       "[ 0, 1,  0],\n",
       "[ 3, 0, -1]])"
      ]
     },
     "execution_count": 28,
     "metadata": {},
     "output_type": "execute_result"
    }
   ],
   "source": [
    "B"
   ]
  },
  {
   "cell_type": "code",
   "execution_count": 29,
   "metadata": {
    "hidden": true
   },
   "outputs": [
    {
     "data": {
      "text/plain": [
       "3"
      ]
     },
     "execution_count": 29,
     "metadata": {},
     "output_type": "execute_result"
    }
   ],
   "source": [
    "B.rank()"
   ]
  },
  {
   "cell_type": "markdown",
   "metadata": {
    "hidden": true
   },
   "source": [
    "Hence (by Algorithm 1) $\\mathscr{B}$ is linearly independent. "
   ]
  },
  {
   "cell_type": "markdown",
   "metadata": {
    "hidden": true
   },
   "source": [
    "Let's check that $\\mathscr{B}$ spans the same subspace as the vectors in the example. "
   ]
  },
  {
   "cell_type": "code",
   "execution_count": 30,
   "metadata": {
    "hidden": true
   },
   "outputs": [],
   "source": [
    "from sympy import solve\n",
    "from sympy.abc import a, b, c, d"
   ]
  },
  {
   "cell_type": "code",
   "execution_count": 31,
   "metadata": {
    "hidden": true
   },
   "outputs": [
    {
     "data": {
      "text/plain": [
       "{a: 1, b: 0, c: 0}"
      ]
     },
     "execution_count": 31,
     "metadata": {},
     "output_type": "execute_result"
    }
   ],
   "source": [
    "solve(a * B.col(0) + b * B.col(1) + c * B.col(2) - A.col(0), [a, b, c])"
   ]
  },
  {
   "cell_type": "markdown",
   "metadata": {
    "hidden": true
   },
   "source": [
    "We conclude that the first column of $A$ is a linear combination of the vectors in the column space of $A$ spanned by the columns of $B$. "
   ]
  },
  {
   "cell_type": "code",
   "execution_count": 32,
   "metadata": {
    "hidden": true
   },
   "outputs": [
    {
     "data": {
      "text/plain": [
       "{a: 0, b: 1, c: 0}"
      ]
     },
     "execution_count": 32,
     "metadata": {},
     "output_type": "execute_result"
    }
   ],
   "source": [
    "solve(a * B.col(0) + b * B.col(1) + c * B.col(2) - A.col(1), [a, b, c])"
   ]
  },
  {
   "cell_type": "markdown",
   "metadata": {
    "hidden": true
   },
   "source": [
    "Same for the second column of $A$."
   ]
  },
  {
   "cell_type": "code",
   "execution_count": 33,
   "metadata": {
    "hidden": true
   },
   "outputs": [
    {
     "data": {
      "text/plain": [
       "{a: -2, b: 1, c: 0}"
      ]
     },
     "execution_count": 33,
     "metadata": {},
     "output_type": "execute_result"
    }
   ],
   "source": [
    "solve(a * B.col(0) + b * B.col(1) + c * B.col(2) - A.col(2), [a, b, c])"
   ]
  },
  {
   "cell_type": "markdown",
   "metadata": {
    "hidden": true
   },
   "source": [
    "And the third..."
   ]
  },
  {
   "cell_type": "code",
   "execution_count": 34,
   "metadata": {
    "hidden": true
   },
   "outputs": [
    {
     "data": {
      "text/plain": [
       "{a: 0, b: 0, c: 1}"
      ]
     },
     "execution_count": 34,
     "metadata": {},
     "output_type": "execute_result"
    }
   ],
   "source": [
    "solve(a * B.col(0) + b * B.col(1) + c * B.col(2) - A.col(3), [a, b, c])"
   ]
  },
  {
   "cell_type": "markdown",
   "metadata": {
    "hidden": true
   },
   "source": [
    "and the fourth."
   ]
  },
  {
   "cell_type": "code",
   "execution_count": 35,
   "metadata": {
    "hidden": true
   },
   "outputs": [
    {
     "data": {
      "text/plain": [
       "{a: 1, b: -1, c: 3}"
      ]
     },
     "execution_count": 35,
     "metadata": {},
     "output_type": "execute_result"
    }
   ],
   "source": [
    "solve(a * B.col(0) + b * B.col(1) + c * B.col(2) - A.col(4), [a, b, c])"
   ]
  },
  {
   "cell_type": "markdown",
   "metadata": {
    "hidden": true
   },
   "source": [
    "and the fifth. So, we're all good."
   ]
  },
  {
   "cell_type": "markdown",
   "metadata": {
    "heading_collapsed": true,
    "hidden": true
   },
   "source": [
    "#### Try computing the echelon form instead"
   ]
  },
  {
   "cell_type": "code",
   "execution_count": 36,
   "metadata": {
    "hidden": true
   },
   "outputs": [
    {
     "data": {
      "text/latex": [
       "$\\displaystyle \\left[\\begin{matrix}1 & 2 & 0 & 0 & -1\\\\0 & 3 & 3 & 1 & 0\\\\0 & 0 & 0 & -1 & -3\\\\0 & 0 & 0 & 0 & 0\\end{matrix}\\right]$"
      ],
      "text/plain": [
       "Matrix([\n",
       "[1, 2, 0,  0, -1],\n",
       "[0, 3, 3,  1,  0],\n",
       "[0, 0, 0, -1, -3],\n",
       "[0, 0, 0,  0,  0]])"
      ]
     },
     "execution_count": 36,
     "metadata": {},
     "output_type": "execute_result"
    }
   ],
   "source": [
    "A.echelon_form()"
   ]
  },
  {
   "cell_type": "markdown",
   "metadata": {
    "hidden": true
   },
   "source": [
    "Note that we entered the vectors in our set $\\mathscr{A}$ as the columns of the matrix $A$, that the `echelon_form` method computes a row echelon form matrix equivalent to $A$. So, the number of non-zero rows of $A$ equals the dimension of the space spanned by $\\mathscr{A}$, but the actual rows of the echelon form matrix aren't a basis for the space spanned by $\\mathscr{A}$ (they aren't even the correct length!).\n",
    "\n",
    "If we transpose $A$, then the vectors in $\\mathscr{A}$ are this transposed matrix, and so the rows of its row echelon form are a basis for Span$\\mathscr{A}$ (well, they are if you write them as columns instead of rows)."
   ]
  },
  {
   "cell_type": "code",
   "execution_count": 37,
   "metadata": {
    "hidden": true
   },
   "outputs": [
    {
     "data": {
      "text/latex": [
       "$\\displaystyle \\left[\\begin{matrix}1 & -1 & 0 & 3\\\\0 & 3 & 1 & -6\\\\0 & 0 & -1 & 3\\\\0 & 0 & 0 & 0\\\\0 & 0 & 0 & 0\\end{matrix}\\right]$"
      ],
      "text/plain": [
       "Matrix([\n",
       "[1, -1,  0,  3],\n",
       "[0,  3,  1, -6],\n",
       "[0,  0, -1,  3],\n",
       "[0,  0,  0,  0],\n",
       "[0,  0,  0,  0]])"
      ]
     },
     "execution_count": 37,
     "metadata": {},
     "output_type": "execute_result"
    }
   ],
   "source": [
    "A.transpose().echelon_form()"
   ]
  },
  {
   "cell_type": "markdown",
   "metadata": {
    "hidden": true
   },
   "source": [
    "So, an alternative basis for Span$\\mathscr{A}$ is:\n",
    "$$\n",
    "\\begin{pmatrix}\n",
    "1 \\\\\n",
    "-1 \\\\\n",
    "0 \\\\\n",
    "3\n",
    "\\end{pmatrix}, \n",
    "\\begin{pmatrix}\n",
    "0 \\\\\n",
    "3 \\\\\n",
    "1 \\\\\n",
    "-6\n",
    "\\end{pmatrix},\n",
    "\\begin{pmatrix}\n",
    "0 \\\\\n",
    "0 \\\\\n",
    "-1 \\\\\n",
    "3\n",
    "\\end{pmatrix}\n",
    "$$"
   ]
  },
  {
   "cell_type": "markdown",
   "metadata": {
    "heading_collapsed": true
   },
   "source": [
    "## Example 3.6.2 (Algorithm 4)"
   ]
  },
  {
   "cell_type": "markdown",
   "metadata": {
    "hidden": true
   },
   "source": [
    "  Suppose that\n",
    " $$\n",
    "    \\vec{v}_1 = \n",
    "    \\begin{pmatrix} \n",
    "      -2 \\\\\n",
    "      0 \\\\\n",
    "      3 \\\\\n",
    "      0 \\\\\n",
    "    \\end{pmatrix},\\\n",
    "    \\vec{v}_2 = \n",
    "    \\begin{pmatrix} \n",
    "      -1 \\\\\n",
    "      1 \\\\\n",
    "      -3 \\\\\n",
    "      0 \\\\\n",
    "    \\end{pmatrix},\\\n",
    "    \\vec{v}_3 = \n",
    "    \\begin{pmatrix} \n",
    "      1 \\\\\n",
    "      0 \\\\\n",
    "      -1 \\\\\n",
    "      3 \\\\\n",
    "    \\end{pmatrix},\\\n",
    "    \\vec{v}_4 = \n",
    "    \\begin{pmatrix} \n",
    "      1 \\\\\n",
    "      0 \\\\\n",
    "      -1 \\\\\n",
    "      0 \\\\\n",
    "    \\end{pmatrix} \\in \\mathbb{R} ^ 4.\n",
    "  $$\n",
    "  Write\n",
    "  $$\n",
    "    \\vec{u} = \\begin{pmatrix} 0 \\\\\n",
    " 0 \\\\\n",
    " -1 \\\\\n",
    " 2 \\\\\n",
    " \\end{pmatrix} \\in \\mathbb{R} ^ 4\n",
    "$$\n",
    "  as a linear combination of $\\vec{v}_1$, $\\vec{v}_2$, $\\vec{v}_3$, and $\\vec{v}_4$.\n"
   ]
  },
  {
   "cell_type": "markdown",
   "metadata": {
    "heading_collapsed": true
   },
   "source": [
    "## Solution to Example 3.6.2"
   ]
  },
  {
   "cell_type": "code",
   "execution_count": 38,
   "metadata": {
    "hidden": true
   },
   "outputs": [],
   "source": [
    "from sympy import Matrix"
   ]
  },
  {
   "cell_type": "code",
   "execution_count": 39,
   "metadata": {
    "hidden": true
   },
   "outputs": [],
   "source": [
    "v1, v2, v3, v4, u = Matrix([-2, 0, 3, 0]), Matrix([-1, 1, -3, 0]), Matrix([1, 0, -1, 3]), Matrix([1, 0, -1, 0]), Matrix([0, 0, -1, 2])"
   ]
  },
  {
   "cell_type": "code",
   "execution_count": 40,
   "metadata": {
    "hidden": true
   },
   "outputs": [],
   "source": [
    "from sympy import solve\n",
    "from sympy.abc import a, b, c, d"
   ]
  },
  {
   "cell_type": "code",
   "execution_count": 41,
   "metadata": {
    "hidden": true
   },
   "outputs": [
    {
     "data": {
      "text/plain": [
       "{a: -1, b: 0, c: 2/3, d: -8/3}"
      ]
     },
     "execution_count": 41,
     "metadata": {},
     "output_type": "execute_result"
    }
   ],
   "source": [
    "solve(a * v1 + b * v2 + c * v3 + d * v4 - u, [a, b, c, d])"
   ]
  },
  {
   "cell_type": "markdown",
   "metadata": {
    "hidden": true
   },
   "source": [
    "Hence \n",
    "$$\\vec{u}= -\\vec{v}_1 + \\frac{2}{3}\\vec{v}_3 - \\frac{8}{3}\\vec{v}_4.$$\n"
   ]
  },
  {
   "cell_type": "markdown",
   "metadata": {
    "hidden": true
   },
   "source": [
    "Let's double check:"
   ]
  },
  {
   "cell_type": "code",
   "execution_count": 42,
   "metadata": {
    "hidden": true
   },
   "outputs": [
    {
     "data": {
      "text/latex": [
       "$\\displaystyle \\left[\\begin{matrix}0\\\\0\\\\-1.0\\\\2.0\\end{matrix}\\right]$"
      ],
      "text/plain": [
       "Matrix([\n",
       "[   0],\n",
       "[   0],\n",
       "[-1.0],\n",
       "[ 2.0]])"
      ]
     },
     "execution_count": 42,
     "metadata": {},
     "output_type": "execute_result"
    }
   ],
   "source": [
    "-1 * v1 + (2 / 3) * v3 - (8 / 3) * v4"
   ]
  },
  {
   "cell_type": "code",
   "execution_count": 43,
   "metadata": {
    "hidden": true
   },
   "outputs": [
    {
     "data": {
      "text/latex": [
       "$\\displaystyle \\left[\\begin{matrix}0\\\\0\\\\-1\\\\2\\end{matrix}\\right]$"
      ],
      "text/plain": [
       "Matrix([\n",
       "[ 0],\n",
       "[ 0],\n",
       "[-1],\n",
       "[ 2]])"
      ]
     },
     "execution_count": 43,
     "metadata": {},
     "output_type": "execute_result"
    }
   ],
   "source": [
    "u"
   ]
  },
  {
   "cell_type": "markdown",
   "metadata": {
    "hidden": true
   },
   "source": [
    "Good enough"
   ]
  }
 ],
 "metadata": {
  "kernelspec": {
   "display_name": "Python 3",
   "language": "python",
   "name": "python3"
  },
  "language_info": {
   "codemirror_mode": {
    "name": "ipython",
    "version": 3
   },
   "file_extension": ".py",
   "mimetype": "text/x-python",
   "name": "python",
   "nbconvert_exporter": "python",
   "pygments_lexer": "ipython3",
   "version": "3.9.7"
  }
 },
 "nbformat": 4,
 "nbformat_minor": 4
}
