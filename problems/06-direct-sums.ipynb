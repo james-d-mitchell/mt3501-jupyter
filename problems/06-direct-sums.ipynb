{
 "cells": [
  {
   "cell_type": "markdown",
   "metadata": {
    "collapsed": false
   },
   "source": [
    "# MT3501 - Section 6 - Problem Sheet - Supplementary notebook\n",
    "# Direct sums"
   ]
  },
  {
   "cell_type": "markdown",
   "metadata": {
    "collapsed": false
   },
   "source": [
    "## [FAQs](faq.ipynb)"
   ]
  },
  {
   "cell_type": "markdown",
   "metadata": {
    "collapsed": false
   },
   "source": [
    "## Problem 1"
   ]
  },
  {
   "cell_type": "markdown",
   "metadata": {
    "collapsed": false
   },
   "source": [
    "Consider the vector space $\\mathbb{R}^{4}$.  Let\n",
    "$$\n",
    "U = \\operatorname{Span} \\left( \\begin{pmatrix}\n",
    " 3 \\\\\n",
    " 1 \\\\\n",
    " 0 \\\\\n",
    " 4 \\\\\n",
    " \\end{pmatrix},\n",
    "  \\begin{pmatrix}\n",
    " 1 \\\\\n",
    " 0 \\\\\n",
    " -2 \\\\\n",
    " 1 \\\\\n",
    " \\end{pmatrix} \\right) \\qquad \\text{and} \\qquad W =\n",
    "\\operatorname{Span} \\left( \\begin{pmatrix}\n",
    " 0 \\\\\n",
    " 1 \\\\\n",
    " 0 \\\\\n",
    " -1 \\\\\n",
    " \\end{pmatrix}, \\begin{pmatrix}\n",
    " 2 \\\\\n",
    " 0 \\\\\n",
    " 0 \\\\\n",
    " 3 \\\\\n",
    " \\end{pmatrix} \\right).\n",
    "$$\n"
   ]
  },
  {
   "cell_type": "markdown",
   "metadata": {
    "collapsed": false
   },
   "source": [
    "### Problem 1(a)"
   ]
  },
  {
   "cell_type": "markdown",
   "metadata": {
    "collapsed": false
   },
   "source": [
    "Show that $\\mathbb{R}^{4} = U \\oplus W$."
   ]
  },
  {
   "cell_type": "markdown",
   "metadata": {
    "collapsed": false
   },
   "source": [
    "### Solution 1(a)"
   ]
  },
  {
   "cell_type": "markdown",
   "metadata": {
    "collapsed": false
   },
   "source": [
    "  Recall from a theorem in the lecture notes that, if $\\mathscr{B}_1$  and $\\mathscr{B}_2$ are bases for $U$ and $W$,\n",
    "  respectively, then $\\mathbb{R}^{4} = U \\oplus W$ if and only if $\\mathscr{B}_1 \\cup \\mathscr{B}_2$ is a basis for\n",
    "  $\\mathbb{R}^{4}$ and $\\mathscr{B}_1 \\cap \\mathscr{B}_2 = \\varnothing$.\n",
    "  \n",
    "  We set \n",
    "  $$\n",
    "  \\mathscr{B}_1 = \\left\\{\n",
    "  \\begin{pmatrix}\n",
    " 3 \\\\\n",
    " 1 \\\\\n",
    " 0 \\\\\n",
    " 4 \\\\\n",
    " \\end{pmatrix},\n",
    "  \\begin{pmatrix}\n",
    " 1 \\\\\n",
    " 0 \\\\\n",
    " -2 \\\\\n",
    " 1 \\\\\n",
    " \\end{pmatrix}\\right\\}\n",
    " \\quad\\text{and}\\quad\n",
    " \\mathscr{B}_2 = \\left\\{\n",
    " \\begin{pmatrix}\n",
    "    0 \\\\\n",
    "    1 \\\\\n",
    "    0 \\\\\n",
    "    -1 \\\\\n",
    "  \\end{pmatrix}, \\begin{pmatrix}\n",
    "    2 \\\\\n",
    "    0 \\\\\n",
    "    0 \\\\\n",
    "    3 \\\\\n",
    "  \\end{pmatrix} \n",
    "  \\right\\}.\n",
    " $$\n",
    " If $\\mathscr{B} = \\mathscr{B}_1 \\cup \\mathscr{B}_2$ and we show that $\\mathscr{B}$ is a basis for $\\mathbb{R} ^ 4$, then $\\mathscr{B}_1$ is a basis for $\\operatorname{Span}(\\mathscr{B}_1) = U$. Similarly, if we show that $\\mathscr{B}$ is a basis for $\\mathbb{R} ^ 4$, then $\\mathscr{B}_2$ is a basis for $\\operatorname{Span}(\\mathscr{B}_2) = W$. It follows that to show that $\\mathbb{R} ^ 4 = U \\oplus W$, it suffices to show that\n",
    " \n",
    "  $$\n",
    "  \\mathscr{B} = \\left\\{ \\begin{pmatrix}\n",
    "    3 \\\\\n",
    "    1 \\\\\n",
    "    0 \\\\\n",
    "    4 \\\\\n",
    "  \\end{pmatrix}, \\begin{pmatrix}\n",
    "    1 \\\\\n",
    "    0 \\\\\n",
    "    -2 \\\\\n",
    "    1 \\\\\n",
    "  \\end{pmatrix},\n",
    "  \\begin{pmatrix}\n",
    "    0 \\\\\n",
    "    1 \\\\\n",
    "    0 \\\\\n",
    "    -1 \\\\\n",
    "  \\end{pmatrix}, \\begin{pmatrix}\n",
    "    2 \\\\\n",
    "    0 \\\\\n",
    "    0 \\\\\n",
    "    3 \\\\\n",
    "  \\end{pmatrix} \\right\\}\n",
    "  $$\n",
    "  \n",
    "  is a basis for $\\mathbb{R} ^ 4$. Since $|\\mathscr{B}| = 4 = \\dim \\mathbb{R} ^\n",
    "  4$, it suffices to show that $\\mathscr{B}$ is linearly independent."
   ]
  },
  {
   "cell_type": "code",
   "execution_count": 1,
   "metadata": {
    "collapsed": false
   },
   "outputs": [
   ],
   "source": [
    "from sympy import Matrix"
   ]
  },
  {
   "cell_type": "code",
   "execution_count": 2,
   "metadata": {
    "collapsed": false
   },
   "outputs": [
    {
     "data": {
      "text/plain": [
       "4"
      ]
     },
     "execution_count": 2,
     "metadata": {
     },
     "output_type": "execute_result"
    }
   ],
   "source": [
    "Matrix([[3, 1, 0, 2], [1, 0, 1, 0], [0, -2, 0, 0], [4, 1, -1, 3]]).rank()"
   ]
  },
  {
   "cell_type": "markdown",
   "metadata": {
    "collapsed": false
   },
   "source": [
    "Hence $\\operatorname{dim} \\operatorname{Span}(\\mathscr{B}) = 4$ and $\\mathscr{B}$ is linearly independent. "
   ]
  },
  {
   "cell_type": "markdown",
   "metadata": {
    "collapsed": false
   },
   "source": [
    "### Problem 1(b)"
   ]
  },
  {
   "cell_type": "markdown",
   "metadata": {
    "collapsed": false
   },
   "source": [
    "Let $P \\colon \\mathbb{R}^{4} \\to \\mathbb{R}^{4}$ be the projection map onto $U$.\n",
    "Calculate\n",
    "$$\n",
    "P \\begin{pmatrix}\n",
    " 1 \\\\\n",
    " 0 \\\\\n",
    " 0 \\\\\n",
    " 0 \\\\\n",
    " \\end{pmatrix}.\n",
    "$$"
   ]
  },
  {
   "cell_type": "markdown",
   "metadata": {
    "collapsed": false
   },
   "source": [
    "### Solution 1(b)"
   ]
  },
  {
   "cell_type": "markdown",
   "metadata": {
    "collapsed": false
   },
   "source": [
    "To calculate $P\\begin{pmatrix}\n",
    " 1 \\\\\n",
    " 0 \\\\\n",
    " 0 \\\\\n",
    " 0 \\\\\n",
    " \\end{pmatrix}$, we need to write\n",
    "$$\n",
    "\\begin{pmatrix}\n",
    " 1 \\\\\n",
    " 0 \\\\\n",
    " 0 \\\\\n",
    " 0 \\\\\n",
    " \\end{pmatrix} = \\vec{u} + \\vec{w}\n",
    "$$\n",
    "where $\\vec{u} \\in U$ and $\\vec{w} \\in W$.  We solve the equation below for $a, b, c, d\\in \\mathbb{R}$\n",
    "\\begin{equation}\n",
    "a \\begin{pmatrix}\n",
    " 3 \\\\\n",
    " 1 \\\\\n",
    " 0 \\\\\n",
    " 4 \\\\\n",
    " \\end{pmatrix} \n",
    " + b \n",
    " \\begin{pmatrix}\n",
    " 1 \\\\\n",
    " 0 \\\\\n",
    " -2 \\\\\n",
    " 1 \\\\\n",
    " \\end{pmatrix} \n",
    " + c\n",
    "\\begin{pmatrix}\n",
    " 0 \\\\\n",
    " 1 \\\\\n",
    " 0 \\\\\n",
    " -1 \\\\\n",
    " \\end{pmatrix} + d \\begin{pmatrix}\n",
    " 2 \\\\\n",
    " 0 \\\\\n",
    " 0 \\\\\n",
    " 3 \\\\\n",
    " \\end{pmatrix} -\n",
    "\\begin{pmatrix}\n",
    " 1 \\\\\n",
    " 0 \\\\\n",
    " 0 \\\\\n",
    " 0 \\\\\n",
    " \\end{pmatrix}\n",
    " = \n",
    " \\begin{pmatrix}\n",
    " 0 \\\\\n",
    " 0 \\\\\n",
    " 0 \\\\\n",
    " 0 \\\\\n",
    " \\end{pmatrix}.\n",
    "\\label{eq:III.Q1b}\n",
    "\\end{equation}"
   ]
  },
  {
   "cell_type": "markdown",
   "metadata": {
    "collapsed": false
   },
   "source": [
    "Import the relevant stuff from sympy:"
   ]
  },
  {
   "cell_type": "code",
   "execution_count": 3,
   "metadata": {
    "collapsed": false
   },
   "outputs": [
   ],
   "source": [
    "from sympy import Matrix, solve\n",
    "from sympy.abc import a, b, c, d\n",
    "def Vector(*args):\n",
    "    return Matrix([[x] for x in args])"
   ]
  },
  {
   "cell_type": "code",
   "execution_count": 4,
   "metadata": {
    "collapsed": false
   },
   "outputs": [
    {
     "data": {
      "text/plain": [
       "{a: -3, b: 0, c: 3, d: 5}"
      ]
     },
     "execution_count": 4,
     "metadata": {
     },
     "output_type": "execute_result"
    }
   ],
   "source": [
    "solve(a * Vector(3, 1, 0, 4) + b * Vector(1, 0, -2, 1) + c * Vector(0, 1, 0, -1) \n",
    "      + d * Vector(2, 0, 0, 3) - Vector(1, 0, 0, 0), [a, b, c, d])"
   ]
  },
  {
   "cell_type": "markdown",
   "metadata": {
    "collapsed": false
   },
   "source": [
    "Hence"
   ]
  },
  {
   "cell_type": "markdown",
   "metadata": {
    "collapsed": false
   },
   "source": [
    "\\begin{equation}\n",
    "\\begin{pmatrix}\n",
    " 1 \\\\\n",
    " 0 \\\\\n",
    " 0 \\\\\n",
    " 0 \\\\\n",
    " \\end{pmatrix}\n",
    "=\n",
    "-3 \\begin{pmatrix}\n",
    " 3 \\\\\n",
    " 1 \\\\\n",
    " 0 \\\\\n",
    " 4 \\\\\n",
    " \\end{pmatrix} \n",
    " + 0 \n",
    " \\begin{pmatrix}\n",
    " 1 \\\\\n",
    " 0 \\\\\n",
    " -2 \\\\\n",
    " 1 \\\\\n",
    " \\end{pmatrix}\n",
    " + 3\n",
    "\\begin{pmatrix}\n",
    " 0 \\\\\n",
    " 1 \\\\\n",
    " 0 \\\\\n",
    " -1 \\\\\n",
    " \\end{pmatrix} + 5 \\begin{pmatrix}\n",
    " 2 \\\\\n",
    " 0 \\\\\n",
    " 0 \\\\\n",
    " 3 \\\\\n",
    " \\end{pmatrix} \n",
    " = \n",
    "   -3 \\begin{pmatrix}\n",
    " 3 \\\\\n",
    " 1 \\\\\n",
    " 0 \\\\\n",
    " 4 \\\\\n",
    " \\end{pmatrix} \n",
    "     + 3\n",
    "\\begin{pmatrix}\n",
    " 0 \\\\\n",
    " 1 \\\\\n",
    " 0 \\\\\n",
    " -1 \\\\\n",
    " \\end{pmatrix} + 5 \\begin{pmatrix}\n",
    " 2 \\\\\n",
    " 0 \\\\\n",
    " 0 \\\\\n",
    " 3 \\\\\n",
    " \\end{pmatrix},\n",
    "\\end{equation}\n",
    "where \n",
    "$$  -3 \\begin{pmatrix}\n",
    " 3 \\\\\n",
    " 1 \\\\\n",
    " 0 \\\\\n",
    " 4 \\\\\n",
    " \\end{pmatrix}\\in \\operatorname{Span}(\\mathscr{B}_1) = U\n",
    " $$\n",
    " and \n",
    " $$\n",
    " 3\n",
    "\\begin{pmatrix}\n",
    " 0 \\\\\n",
    " 1 \\\\\n",
    " 0 \\\\\n",
    " -1 \\\\\n",
    " \\end{pmatrix} + 5 \\begin{pmatrix}\n",
    " 2 \\\\\n",
    " 0 \\\\\n",
    " 0 \\\\\n",
    " 3 \\\\\n",
    " \\end{pmatrix}\n",
    " \\in \\operatorname{Span}(\\mathscr{B}_2) = W.\n",
    " $$\n",
    " Finally,\n",
    "$$\n",
    "P\\begin{pmatrix}\n",
    " 1 \\\\\n",
    " 0 \\\\\n",
    " 0 \\\\\n",
    " 0 \\\\\n",
    " \\end{pmatrix}\n",
    " = \n",
    " -3 \\begin{pmatrix}\n",
    " 3 \\\\\n",
    " 1 \\\\\n",
    " 0 \\\\\n",
    " 4 \\\\\n",
    " \\end{pmatrix} \n",
    " = \\begin{pmatrix}\n",
    " -9 \\\\\n",
    " -3 \\\\\n",
    " 0 \\\\\n",
    " -12 \\\\\n",
    " \\end{pmatrix}.\n",
    "$$ \n",
    " "
   ]
  },
  {
   "cell_type": "markdown",
   "metadata": {
    "collapsed": false
   },
   "source": [
    "## Problem 4"
   ]
  },
  {
   "cell_type": "markdown",
   "metadata": {
    "collapsed": false
   },
   "source": [
    "Let $U$ be the following subspace of $\\mathbb{R}^{3}$:\n",
    "$$\n",
    "U = \\left\\{ \\begin{pmatrix}\n",
    " x \\\\\n",
    " x \\\\\n",
    " 0 \\\\\n",
    " \\end{pmatrix} \\biggm| x \\in \\mathbb{R} \\right\\}.\n",
    "$$"
   ]
  },
  {
   "cell_type": "markdown",
   "metadata": {
    "collapsed": false
   },
   "source": [
    "### Problem 4(a)"
   ]
  },
  {
   "cell_type": "markdown",
   "metadata": {
    "collapsed": false
   },
   "source": [
    "Find a subspace $W$ of $\\mathbb{R}^{3}$ such that $\\mathbb{R}^{3} = U\\oplus W$."
   ]
  },
  {
   "cell_type": "markdown",
   "metadata": {
    "collapsed": false
   },
   "source": [
    "### Solution 4(a)"
   ]
  },
  {
   "cell_type": "markdown",
   "metadata": {
    "collapsed": false
   },
   "source": [
    "Since\n",
    "$$\n",
    "U \n",
    "= \\left\\{\n",
    "    \\begin{pmatrix}\n",
    " x \\\\\n",
    " x \\\\\n",
    " 0 \\\\\n",
    " \\end{pmatrix} \\biggm| x \\in \\mathbb{R} \\right\\}\n",
    "= \\operatorname{Span}   \n",
    "\\begin{pmatrix}\n",
    " 1 \\\\\n",
    " 1 \\\\\n",
    " 0 \\\\\n",
    " \\end{pmatrix},\n",
    "$$\n",
    "it suffices to extend \n",
    "$$\n",
    "\\left\\{\n",
    "\\vec{v}_1 = \n",
    "\\begin{pmatrix}\n",
    " 1 \\\\\n",
    " 1 \\\\\n",
    " 0 \\\\\n",
    " \\end{pmatrix},\n",
    "\\right\\}\n",
    "$$\n",
    "to a basis $\\mathscr{B} = \\{\\vec{v}_1, \\vec{v}_2, \\vec{v}_3\\}$ for $\\mathbb{R} ^ 3$, and set \n",
    "$W = \\operatorname{Span}(\\vec{v}_2, \\vec{v}_3)$. "
   ]
  },
  {
   "cell_type": "code",
   "execution_count": 16,
   "metadata": {
    "collapsed": false
   },
   "outputs": [
   ],
   "source": [
    "from sympy import Matrix\n",
    "from sympy.matrices import randMatrix as RandomMatrix\n",
    "def Vector(*args):\n",
    "    return Matrix([[x] for x in args])"
   ]
  },
  {
   "cell_type": "code",
   "execution_count": 17,
   "metadata": {
    "collapsed": false
   },
   "outputs": [
   ],
   "source": [
    "v1 = Vector(1, 1, 0)"
   ]
  },
  {
   "cell_type": "code",
   "execution_count": 18,
   "metadata": {
    "collapsed": false
   },
   "outputs": [
   ],
   "source": [
    "v2 = RandomMatrix(3, 1)"
   ]
  },
  {
   "cell_type": "code",
   "execution_count": 22,
   "metadata": {
    "collapsed": false
   },
   "outputs": [
    {
     "data": {
      "text/plain": [
       "[43, 11, 8]"
      ]
     },
     "execution_count": 22,
     "metadata": {
     },
     "output_type": "execute_result"
    }
   ],
   "source": [
    "list(v2)"
   ]
  },
  {
   "cell_type": "code",
   "execution_count": 23,
   "metadata": {
    "collapsed": false
   },
   "outputs": [
    {
     "data": {
      "text/plain": [
       "2"
      ]
     },
     "execution_count": 23,
     "metadata": {
     },
     "output_type": "execute_result"
    }
   ],
   "source": [
    "Matrix([list(v1), list(v2)]).rank()"
   ]
  },
  {
   "cell_type": "code",
   "execution_count": 24,
   "metadata": {
    "collapsed": false
   },
   "outputs": [
   ],
   "source": [
    "v3 = RandomMatrix(3, 1)"
   ]
  },
  {
   "cell_type": "code",
   "execution_count": 26,
   "metadata": {
    "collapsed": false
   },
   "outputs": [
    {
     "name": "stdout",
     "output_type": "stream",
     "text": [
      "Matrix([[34], [55], [20]])\n"
     ]
    }
   ],
   "source": [
    "print(v3)"
   ]
  },
  {
   "cell_type": "code",
   "execution_count": 25,
   "metadata": {
    "collapsed": false
   },
   "outputs": [
    {
     "data": {
      "text/plain": [
       "3"
      ]
     },
     "execution_count": 25,
     "metadata": {
     },
     "output_type": "execute_result"
    }
   ],
   "source": [
    "Matrix([list(v1), list(v2), list(v3)]).rank()"
   ]
  },
  {
   "cell_type": "markdown",
   "metadata": {
    "collapsed": false
   },
   "source": [
    "So, one possiblity for $\\vec{v}_2$ and $\\vec{v}_3$ is:\n",
    "$$\n",
    "\\vec{v}_2 \n",
    "= \n",
    "\\begin{pmatrix}\n",
    "43 \\\\\n",
    "11 \\\\\n",
    "8\n",
    "\\end{pmatrix},\n",
    "\\quad\n",
    "\\vec{v}_3 = \n",
    "\\begin{pmatrix}\n",
    "34 \\\\\n",
    "55 \\\\\n",
    "20\n",
    "\\end{pmatrix}.\n",
    "$$\n"
   ]
  }
 ],
 "metadata": {
  "kernelspec": {
   "display_name": "Python 3 (system-wide)",
   "language": "python",
   "metadata": {
    "cocalc": {
     "description": "Python 3 programming language",
     "priority": 100,
     "url": "https://www.python.org/"
    }
   },
   "name": "python3"
  },
  "language_info": {
   "codemirror_mode": {
    "name": "ipython",
    "version": 3
   },
   "file_extension": ".py",
   "mimetype": "text/x-python",
   "name": "python",
   "nbconvert_exporter": "python",
   "pygments_lexer": "ipython3",
   "version": "3.8.2"
  }
 },
 "nbformat": 4,
 "nbformat_minor": 4
}