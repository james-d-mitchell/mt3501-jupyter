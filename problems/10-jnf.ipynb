{
 "cells": [
  {
   "cell_type": "markdown",
   "metadata": {},
   "source": [
    "# MT3501 - Section 10 - Problem Sheet - Supplementary notebook\n",
    "# Jordan normal form"
   ]
  },
  {
   "cell_type": "markdown",
   "metadata": {},
   "source": [
    "## Problem 5"
   ]
  },
  {
   "cell_type": "markdown",
   "metadata": {},
   "source": [
    "For each of the following matrices $A$ of real numbers, find an invertible\n",
    "matrix $P$ such that $P^{-1}AP$ is in Jordan normal form.\n",
    "$$\n",
    "\\begin{array}{rlrlrl}\n",
    "  \\mbox{(a)} & \\begin{pmatrix}\n",
    "    3 & -4 & 0 \\\\\n",
    "    0 & -1 & 0 \\\\\n",
    "    0 & 6 & 2\n",
    "  \\end{pmatrix}\n",
    "  &\\quad\n",
    "  \\mbox{(b)} & \\begin{pmatrix}\n",
    "    1 & 1 & -1 \\\\\n",
    "    -2 & 4 & -2 \\\\\n",
    "    0 & 1 & 0\n",
    "  \\end{pmatrix}\n",
    "  &\\quad\n",
    "  \\mbox{(c)} &\\begin{pmatrix}\n",
    "    5 & 2 & 2 \\\\\n",
    "    2 & 2 & -4 \\\\\n",
    "    2 & -4 & 2\n",
    "  \\end{pmatrix}\n",
    "  \\\\[20pt]\n",
    "  \\mbox{(d)} & \\begin{pmatrix}\n",
    "    3 & 4 & 4 \\\\\n",
    "    1 & 3 & 0 \\\\\n",
    "    -2 & -4 & -1\n",
    "  \\end{pmatrix}\n",
    "  &\n",
    "  \\mbox{(e)} & \\begin{pmatrix}\n",
    "    1 & 0 & 1 \\\\\n",
    "    0 & 2 & 1 \\\\\n",
    "    -1 & 0 & 3\n",
    "  \\end{pmatrix}.\n",
    "\\end{array}\n",
    "$$\n",
    "(Hint: These matrices appeared on the Problem Sheets for Sections 8 and 9!)"
   ]
  },
  {
   "cell_type": "markdown",
   "metadata": {},
   "source": [
    "## Solution to Problem 5(b)"
   ]
  },
  {
   "cell_type": "code",
   "execution_count": 1,
   "metadata": {},
   "outputs": [],
   "source": [
    "from sympy import Matrix, solve\n",
    "from sympy.abc import x, y, z, t"
   ]
  },
  {
   "cell_type": "code",
   "execution_count": 2,
   "metadata": {},
   "outputs": [],
   "source": [
    "A = Matrix([[1, 1, -1], [-2, 4, -2], [0, 1, 0]])"
   ]
  },
  {
   "cell_type": "markdown",
   "metadata": {},
   "source": [
    "We must find a basis $\\mathscr{B} = \\{\\vec{v}_1, \\vec{v}_2, \\vec{v}_3\\}$ for $\\mathbb{R} ^ 3$ such that \n",
    "$$\\operatorname{Mat}_{\\mathscr{B}, \\mathscr{B}}(T)\n",
    "= \n",
    "\\begin{pmatrix}\n",
    "1 & 0 & 0 \\\\\n",
    "0 & 2 & 1 \\\\\n",
    "0 & 0 & 2\n",
    "\\end{pmatrix}.$$\n",
    "In other words, such that  \n",
    "$$ T(\\vec{v}_1) = A\\vec{v}_1 = \\vec{v}_1, \\qquad T(\\vec{v}_2) = A\\vec{v}_2 = 2\\vec{v}_2, \\qquad T(\\vec{v}_3) = A\\vec{v}_3 = \\vec{v}_2 + 2\\vec{v}_3. $$"
   ]
  },
  {
   "cell_type": "code",
   "execution_count": 3,
   "metadata": {},
   "outputs": [
    {
     "data": {
      "text/plain": [
       "{x: z/2, y: z}"
      ]
     },
     "execution_count": 3,
     "metadata": {},
     "output_type": "execute_result"
    }
   ],
   "source": [
    "v1 = Matrix([x, y, z])\n",
    "solve(A * v1 - v1, [x, y, z])"
   ]
  },
  {
   "cell_type": "markdown",
   "metadata": {},
   "source": [
    "So, for example, if $z = 2$, then one choice for $\\vec{v}_1$ is:\n",
    "$$\n",
    "\\vec{v}_1 = \\begin{pmatrix} 1 \\\\ 2 \\\\ 2 \\end{pmatrix}.\n",
    "$$"
   ]
  },
  {
   "cell_type": "code",
   "execution_count": 4,
   "metadata": {},
   "outputs": [
    {
     "data": {
      "text/plain": [
       "{x: z, y: 2*z}"
      ]
     },
     "execution_count": 4,
     "metadata": {},
     "output_type": "execute_result"
    }
   ],
   "source": [
    "v2 = Matrix([x, y, z])\n",
    "solve(A * v2 - 2* v2, [x, y, z])"
   ]
  },
  {
   "cell_type": "code",
   "execution_count": 5,
   "metadata": {},
   "outputs": [],
   "source": [
    "v2 = Matrix([t, 2 * t, t])"
   ]
  },
  {
   "cell_type": "code",
   "execution_count": 6,
   "metadata": {},
   "outputs": [
    {
     "data": {
      "text/plain": [
       "{x: z, y: t + 2*z}"
      ]
     },
     "execution_count": 6,
     "metadata": {},
     "output_type": "execute_result"
    }
   ],
   "source": [
    "v3 = Matrix([x, y, z])\n",
    "solve(A * v3 - v2 - 2 * v3, [x, y, z, t])"
   ]
  },
  {
   "cell_type": "markdown",
   "metadata": {},
   "source": [
    "So, setting $z = 1$ and $t = 1$, \n",
    "$$\n",
    "\\vec{v}_2 =\n",
    "\\begin{pmatrix}\n",
    "1 \\\\ 2 \\\\ 1\n",
    "\\end{pmatrix}, \n",
    "\\quad\n",
    "\\vec{v}_3 =\n",
    "\\begin{pmatrix}\n",
    "1 \\\\ 3 \\\\ 1\n",
    "\\end{pmatrix}.\n",
    "$$"
   ]
  },
  {
   "cell_type": "markdown",
   "metadata": {},
   "source": [
    "So, the matrix $P = \\operatorname{Mat}_{\\mathscr{B}, \\mathscr{C}}(\\operatorname{id})$ where $\\mathscr{C}$ is the standard basis for $\\mathbb{R} ^ 3$ is:\n",
    "$$\n",
    "P = \\begin{pmatrix}\n",
    "1 & 1 & 1 \\\\\n",
    "2 & 2 & 3 \\\\\n",
    "2 & 1 & 1 \n",
    "\\end{pmatrix}.\n",
    "$$\n",
    "Let's double check:"
   ]
  },
  {
   "cell_type": "code",
   "execution_count": 7,
   "metadata": {},
   "outputs": [],
   "source": [
    "P = Matrix([[1, 1, 1], [2, 2, 3], [2, 1, 1]])"
   ]
  },
  {
   "cell_type": "code",
   "execution_count": 8,
   "metadata": {},
   "outputs": [
    {
     "data": {
      "text/latex": [
       "$\\displaystyle \\left[\\begin{matrix}1 & 0 & 0\\\\0 & 2 & 1\\\\0 & 0 & 2\\end{matrix}\\right]$"
      ],
      "text/plain": [
       "Matrix([\n",
       "[1, 0, 0],\n",
       "[0, 2, 1],\n",
       "[0, 0, 2]])"
      ]
     },
     "execution_count": 8,
     "metadata": {},
     "output_type": "execute_result"
    }
   ],
   "source": [
    "P ** -1 * A * P"
   ]
  },
  {
   "cell_type": "markdown",
   "metadata": {},
   "source": [
    "## Solution to Problem 5(d)"
   ]
  },
  {
   "cell_type": "code",
   "execution_count": 9,
   "metadata": {},
   "outputs": [],
   "source": [
    "from sympy import Matrix, solve\n",
    "from sympy.abc import x, y, z, t"
   ]
  },
  {
   "cell_type": "code",
   "execution_count": 10,
   "metadata": {},
   "outputs": [],
   "source": [
    "A = Matrix([[3, 4, 4], [1, 3, 0], [-2, -4, -1]])"
   ]
  },
  {
   "cell_type": "markdown",
   "metadata": {},
   "source": [
    "We must find a basis $\\mathscr{B} = \\{\\vec{v}_1, \\vec{v}_2, \\vec{v}_3\\}$ for $\\mathbb{R} ^ 3$ such that \n",
    "$$\\operatorname{Mat}_{\\mathscr{B}, \\mathscr{B}}(T)\n",
    "= \n",
    "\\begin{pmatrix}\n",
    "1 & 1 & 0 \\\\\n",
    "0 & 1 & 0 \\\\\n",
    "0 & 0 & 3\n",
    "\\end{pmatrix}.$$\n",
    "In other words, such that  \n",
    "$$ T(\\vec{v}_1) = A\\vec{v}_1 = \\vec{v}_1, \\qquad T(\\vec{v}_2) = A\\vec{v}_2 = \\vec{v}_1 + \\vec{v}_2, \\qquad T(\\vec{v}_3) = A\\vec{v}_3 = 3\\vec{v}_3. $$"
   ]
  },
  {
   "cell_type": "code",
   "execution_count": 11,
   "metadata": {},
   "outputs": [
    {
     "data": {
      "text/plain": [
       "{x: -2*y, z: 0}"
      ]
     },
     "execution_count": 11,
     "metadata": {},
     "output_type": "execute_result"
    }
   ],
   "source": [
    "v1 = Matrix([x, y, z])\n",
    "solve(A * v1 - v1, [x, y, z])"
   ]
  },
  {
   "cell_type": "code",
   "execution_count": 12,
   "metadata": {},
   "outputs": [],
   "source": [
    "v1 = Matrix([-2 * t, t, 0])\n",
    "v2 = Matrix([x, y, z])"
   ]
  },
  {
   "cell_type": "code",
   "execution_count": 13,
   "metadata": {},
   "outputs": [
    {
     "data": {
      "text/plain": [
       "{x: t - 2*y, z: -t}"
      ]
     },
     "execution_count": 13,
     "metadata": {},
     "output_type": "execute_result"
    }
   ],
   "source": [
    "solve(A * v2 - v1 - v2, [x, y, z, t])"
   ]
  },
  {
   "cell_type": "markdown",
   "metadata": {},
   "source": [
    "So, one choice for $\\vec{v}_1$ and $\\vec{v}_2$, when $t = 1$ and $y = 1$, is\n",
    "$$\n",
    "\\vec{v}_1 = \\begin{pmatrix} -2 \\\\ 1 \\\\ 0 \\end{pmatrix}, \\qquad\n",
    "\\vec{v}_2 = \\begin{pmatrix} -1 \\\\ 1 \\\\ -1 \\end{pmatrix}.\n",
    "$$"
   ]
  },
  {
   "cell_type": "code",
   "execution_count": 14,
   "metadata": {},
   "outputs": [
    {
     "data": {
      "text/plain": [
       "{x: 0, y: -z}"
      ]
     },
     "execution_count": 14,
     "metadata": {},
     "output_type": "execute_result"
    }
   ],
   "source": [
    "v3 = Matrix([x, y, z])\n",
    "solve(A * v3 - 3 * v3, [x, y, z])"
   ]
  },
  {
   "cell_type": "markdown",
   "metadata": {},
   "source": [
    "So, setting $z = 1$, one choice for $\\vec{v}_3$ is\n",
    "$$\n",
    "\\vec{v}_3 = \\begin{pmatrix} 0 \\\\ -1 \\\\ 1 \\end{pmatrix}.\n",
    "$$"
   ]
  },
  {
   "cell_type": "markdown",
   "metadata": {},
   "source": [
    "So, the matrix $P = \\operatorname{Mat}_{\\mathscr{B}, \\mathscr{C}}(\\operatorname{id})$ where $\\mathscr{C}$ is the standard basis for $\\mathbb{R} ^ 3$ is:\n",
    "$$\n",
    "P = \\begin{pmatrix}\n",
    "-2 & -1 & 0 \\\\\n",
    "1 & 1 & -1 \\\\\n",
    "0 & -1 & 1 \n",
    "\\end{pmatrix}.\n",
    "$$\n",
    "Let's double check:"
   ]
  },
  {
   "cell_type": "code",
   "execution_count": 15,
   "metadata": {},
   "outputs": [],
   "source": [
    "P = Matrix([[-2, -1, 0], [1, 1, -1], [0, -1, 1]])"
   ]
  },
  {
   "cell_type": "code",
   "execution_count": 16,
   "metadata": {},
   "outputs": [
    {
     "data": {
      "text/latex": [
       "$\\displaystyle \\left[\\begin{matrix}1 & 1 & 0\\\\0 & 1 & 0\\\\0 & 0 & 3\\end{matrix}\\right]$"
      ],
      "text/plain": [
       "Matrix([\n",
       "[1, 1, 0],\n",
       "[0, 1, 0],\n",
       "[0, 0, 3]])"
      ]
     },
     "execution_count": 16,
     "metadata": {},
     "output_type": "execute_result"
    }
   ],
   "source": [
    "P ** -1 * A * P"
   ]
  },
  {
   "cell_type": "markdown",
   "metadata": {},
   "source": [
    "## Solution to Problem 5(e)"
   ]
  },
  {
   "cell_type": "code",
   "execution_count": 17,
   "metadata": {},
   "outputs": [],
   "source": [
    "from sympy import Matrix, solve\n",
    "from sympy.abc import x, y, z, t, u"
   ]
  },
  {
   "cell_type": "code",
   "execution_count": 18,
   "metadata": {},
   "outputs": [],
   "source": [
    "A = Matrix([[1, 0, 1], [0, 2, 1], [-1, 0, 3]])"
   ]
  },
  {
   "cell_type": "markdown",
   "metadata": {},
   "source": [
    "We must find a basis $\\mathscr{B} = \\{\\vec{v}_1, \\vec{v}_2, \\vec{v}_3\\}$ for $\\mathbb{R} ^ 3$ such that \n",
    "$$\\operatorname{Mat}_{\\mathscr{B}, \\mathscr{B}}(T)\n",
    "= \n",
    "\\begin{pmatrix}\n",
    "2 & 1 & 0 \\\\\n",
    "0 & 2 & 1 \\\\\n",
    "0 & 0 & 2\n",
    "\\end{pmatrix}.$$\n",
    "In other words, such that  \n",
    "$$ T(\\vec{v}_1) = A\\vec{v}_1 = 2\\vec{v}_1, \\qquad T(\\vec{v}_2) = A\\vec{v}_2 = \\vec{v}_1 + 2\\vec{v}_2, \\qquad T(\\vec{v}_3) = A\\vec{v}_3 = \\vec{v}_2 + 2\\vec{v}_3. $$"
   ]
  },
  {
   "cell_type": "code",
   "execution_count": 19,
   "metadata": {},
   "outputs": [
    {
     "data": {
      "text/plain": [
       "{x: 0, z: 0}"
      ]
     },
     "execution_count": 19,
     "metadata": {},
     "output_type": "execute_result"
    }
   ],
   "source": [
    "v1 = Matrix([x, y, z])\n",
    "solve(A * v1 - 2* v1, [x, y, z])"
   ]
  },
  {
   "cell_type": "code",
   "execution_count": 20,
   "metadata": {},
   "outputs": [
    {
     "data": {
      "text/plain": [
       "{x: t, z: t}"
      ]
     },
     "execution_count": 20,
     "metadata": {},
     "output_type": "execute_result"
    }
   ],
   "source": [
    "v1 = Matrix([0, t, 0])\n",
    "v2 = Matrix([x, y, z])\n",
    "solve(A * v2 - v1 - 2* v2, [x, y, z, t])"
   ]
  },
  {
   "cell_type": "code",
   "execution_count": 21,
   "metadata": {},
   "outputs": [
    {
     "data": {
      "text/plain": [
       "{x: -t + u, z: u}"
      ]
     },
     "execution_count": 21,
     "metadata": {},
     "output_type": "execute_result"
    }
   ],
   "source": [
    "v2 = Matrix([t, u, t])\n",
    "v3 = Matrix([x, y, z])\n",
    "solve(A * v3 - v2 - 2* v3, [x, y, z, t, u])"
   ]
  },
  {
   "cell_type": "markdown",
   "metadata": {},
   "source": [
    "So, setting $t = 1$, $u = 1$, we get:\n",
    "$$\n",
    "\\vec{v}_1 = \\begin{pmatrix} 0 \\\\ 1 \\\\ 0 \\end{pmatrix}, \\qquad\n",
    "\\vec{v}_2 = \\begin{pmatrix} 1 \\\\ 1 \\\\ 1 \\end{pmatrix}, \\qquad\n",
    "\\vec{v}_3 = \\begin{pmatrix} 0 \\\\ 1 \\\\ 1 \\end{pmatrix}\n",
    "$$"
   ]
  },
  {
   "cell_type": "markdown",
   "metadata": {},
   "source": [
    "So, the matrix $P = \\operatorname{Mat}_{\\mathscr{B}, \\mathscr{C}}(\\operatorname{id})$ where $\\mathscr{C}$ is the standard basis for $\\mathbb{R} ^ 3$ is:\n",
    "$$\n",
    "P = \\begin{pmatrix}\n",
    "0 & 1 & 0 \\\\\n",
    "1 & 1 & 1 \\\\\n",
    "0 & 1 & 1 \n",
    "\\end{pmatrix}.\n",
    "$$\n",
    "Let's double check:"
   ]
  },
  {
   "cell_type": "code",
   "execution_count": 22,
   "metadata": {},
   "outputs": [],
   "source": [
    "P = Matrix([[0, 1, 0], [1, 1, 1], [0, 1, 1]])"
   ]
  },
  {
   "cell_type": "code",
   "execution_count": 23,
   "metadata": {},
   "outputs": [
    {
     "data": {
      "text/latex": [
       "$\\displaystyle \\left[\\begin{matrix}2 & 1 & 0\\\\0 & 2 & 1\\\\0 & 0 & 2\\end{matrix}\\right]$"
      ],
      "text/plain": [
       "Matrix([\n",
       "[2, 1, 0],\n",
       "[0, 2, 1],\n",
       "[0, 0, 2]])"
      ]
     },
     "execution_count": 23,
     "metadata": {},
     "output_type": "execute_result"
    }
   ],
   "source": [
    "P ** -1 * A * P"
   ]
  },
  {
   "cell_type": "markdown",
   "metadata": {},
   "source": [
    "## Problem 6"
   ]
  },
  {
   "cell_type": "markdown",
   "metadata": {},
   "source": [
    "Show that the matrix of real numbers\n",
    "$$\n",
    "A = \\begin{pmatrix}\n",
    "0 & 1 & 2 \\\\\n",
    "0 & 0 & 3 \\\\\n",
    "0 & 0 & 0\n",
    "\\end{pmatrix}\n",
    "$$\n",
    "is not diagonalisable.  Find a Jordan normal form $J$ of $A$ and an\n",
    "invertible matrix $P$ such that $P^{-1}AP = J$."
   ]
  },
  {
   "cell_type": "markdown",
   "metadata": {},
   "source": [
    "## Solution to Problem 6"
   ]
  },
  {
   "cell_type": "code",
   "execution_count": 24,
   "metadata": {},
   "outputs": [],
   "source": [
    "from sympy import Matrix, solve, factor, eye\n",
    "from sympy.abc import x, y, z, t, u\n",
    "\n"
   ]
  },
  {
   "cell_type": "code",
   "execution_count": 25,
   "metadata": {},
   "outputs": [],
   "source": [
    "A = Matrix([[0, 1, 2], [0, 0, 3], [0, 0, 0]])"
   ]
  },
  {
   "cell_type": "code",
   "execution_count": 26,
   "metadata": {},
   "outputs": [
    {
     "data": {
      "text/latex": [
       "$\\displaystyle \\lambda^{3}$"
      ],
      "text/plain": [
       "lambda**3"
      ]
     },
     "execution_count": 26,
     "metadata": {},
     "output_type": "execute_result"
    }
   ],
   "source": [
    "factor(A.charpoly().as_expr())"
   ]
  },
  {
   "cell_type": "markdown",
   "metadata": {},
   "source": [
    "Hence the characteristic polynomial $c_A(x)$ of $A$ is $x ^ 3$. It follows that the $A$ is diagonalisable if and only if the minimum polynomial of $A$ is $x$, but $A$ is not the zero matrix, and so $m_A(x) \\not= x$ and $A$ is not diagonalisable."
   ]
  },
  {
   "cell_type": "code",
   "execution_count": 27,
   "metadata": {},
   "outputs": [
    {
     "data": {
      "text/latex": [
       "$\\displaystyle \\left[\\begin{matrix}0 & 0 & 3\\\\0 & 0 & 0\\\\0 & 0 & 0\\end{matrix}\\right]$"
      ],
      "text/plain": [
       "Matrix([\n",
       "[0, 0, 3],\n",
       "[0, 0, 0],\n",
       "[0, 0, 0]])"
      ]
     },
     "execution_count": 27,
     "metadata": {},
     "output_type": "execute_result"
    }
   ],
   "source": [
    "A ** 2"
   ]
  },
  {
   "cell_type": "markdown",
   "metadata": {},
   "source": [
    "Since $A ^ 2$ is not the zero matrix either, it follows that $m_A(x) = x ^ 3 = c_A(x)$. "
   ]
  },
  {
   "cell_type": "markdown",
   "metadata": {},
   "source": [
    "By Proposition 10.2.1(ii), there is a single Jordan block $J_3(0)$ in $JNF(A)$ and so \n",
    "$$\n",
    "JNF(A) = \n",
    "\\begin{pmatrix}\n",
    "0 & 1 & 0 \\\\\n",
    "0 & 0 & 1 \\\\\n",
    "0 & 0 & 0 \n",
    "\\end{pmatrix}.\n",
    "$$"
   ]
  },
  {
   "cell_type": "markdown",
   "metadata": {},
   "source": [
    "We must find a basis $\\mathscr{B} = \\{\\vec{v}_1, \\vec{v}_2, \\vec{v}_3\\}$ for $\\mathbb{R} ^ 3$ such that \n",
    "$$\\operatorname{Mat}_{\\mathscr{B}, \\mathscr{B}}(T)\n",
    "= \n",
    "\\begin{pmatrix}\n",
    "0 & 1 & 0 \\\\\n",
    "0 & 0 & 1 \\\\\n",
    "0 & 0 & 0\n",
    "\\end{pmatrix}.$$\n",
    "In other words, such that  \n",
    "$$ T(\\vec{v}_1) = A\\vec{v}_1 = \\vec{0}, \\qquad T(\\vec{v}_2) = A\\vec{v}_2 = \\vec{v}_1, \\qquad T(\\vec{v}_3) = A\\vec{v}_3 = \\vec{v}_2. $$"
   ]
  },
  {
   "cell_type": "code",
   "execution_count": 28,
   "metadata": {},
   "outputs": [
    {
     "data": {
      "text/plain": [
       "{y: 0, z: 0}"
      ]
     },
     "execution_count": 28,
     "metadata": {},
     "output_type": "execute_result"
    }
   ],
   "source": [
    "v1 = Matrix([x, y, z])\n",
    "solve(A * v1, [x, y, z])"
   ]
  },
  {
   "cell_type": "code",
   "execution_count": 29,
   "metadata": {},
   "outputs": [
    {
     "data": {
      "text/plain": [
       "{y: t, z: 0}"
      ]
     },
     "execution_count": 29,
     "metadata": {},
     "output_type": "execute_result"
    }
   ],
   "source": [
    "v1 = Matrix([t, 0, 0])\n",
    "v2 = Matrix([x, y, z])\n",
    "solve(A * v2 - v1, [x, y, z, t])"
   ]
  },
  {
   "cell_type": "code",
   "execution_count": 30,
   "metadata": {},
   "outputs": [
    {
     "data": {
      "text/plain": [
       "{y: -2*t/3, z: t/3}"
      ]
     },
     "execution_count": 30,
     "metadata": {},
     "output_type": "execute_result"
    }
   ],
   "source": [
    "v2 = Matrix([0, t, 0])\n",
    "solve(A * v3 - v2, [x, y, z, t])"
   ]
  },
  {
   "cell_type": "markdown",
   "metadata": {},
   "source": [
    "So, setting $t = 3$, we obtain\n",
    "$$\n",
    "\\vec{v}_1 = \\begin{pmatrix} 3 \\\\ 0\\\\ 0 \\end{pmatrix},\\qquad\n",
    "\\vec{v}_2 = \\begin{pmatrix} 0 \\\\ 3\\\\ 0 \\end{pmatrix},\\qquad\n",
    "\\vec{v}_3 = \\begin{pmatrix} 0 \\\\ -2\\\\ 1 \\end{pmatrix}.\n",
    "$$"
   ]
  },
  {
   "cell_type": "markdown",
   "metadata": {},
   "source": [
    "So, the matrix $P = \\operatorname{Mat}_{\\mathscr{B}, \\mathscr{C}}(\\operatorname{id})$ where $\\mathscr{C}$ is the standard basis for $\\mathbb{R} ^ 3$ is:\n",
    "$$\n",
    "P = \\begin{pmatrix}\n",
    "3 & 0 & 0 \\\\\n",
    "0 & 3 & -2 \\\\\n",
    "0 & 0 & 1 \n",
    "\\end{pmatrix}.\n",
    "$$\n",
    "Let's double check:"
   ]
  },
  {
   "cell_type": "code",
   "execution_count": 31,
   "metadata": {},
   "outputs": [
    {
     "data": {
      "text/latex": [
       "$\\displaystyle \\left[\\begin{matrix}0 & 1 & 0\\\\0 & 0 & 1\\\\0 & 0 & 0\\end{matrix}\\right]$"
      ],
      "text/plain": [
       "Matrix([\n",
       "[0, 1, 0],\n",
       "[0, 0, 1],\n",
       "[0, 0, 0]])"
      ]
     },
     "execution_count": 31,
     "metadata": {},
     "output_type": "execute_result"
    }
   ],
   "source": [
    "P = Matrix([[3, 0, 0], [0, 3, -2], [0, 0, 1]])\n",
    "P ** -1 * A * P"
   ]
  },
  {
   "cell_type": "markdown",
   "metadata": {},
   "source": [
    "## Problem 7"
   ]
  },
  {
   "cell_type": "markdown",
   "metadata": {},
   "source": [
    "For each of the following matrices $A$, determine a Jordan normal form\n",
    "of $A$ and find an invertible matrix $P$ such that $P^{-1}AP$ is in\n",
    "Jordan normal form.\n",
    "$$\n",
    "\\begin{array}{rlrlrl}\n",
    "  \\mbox{(a)} & \\begin{pmatrix}\n",
    "    1 & 0 & 0 & 0 \\\\\n",
    "    -6 & -1 & 1 & 0 \\\\\n",
    "    -4 & 0 & -1 & 0 \\\\\n",
    "    13 & 0 & 6 & 1\n",
    "  \\end{pmatrix}\n",
    "  &\\quad\n",
    "  \\mbox{(b)} & \\begin{pmatrix}\n",
    "    -14 & 1 & 0 & 14 \\\\\n",
    "    -6 & 0 & 0 & 6 \\\\\n",
    "    6 & -3 & -3 & -6 \\\\\n",
    "    -11 & 1 & 0 & 11\n",
    "  \\end{pmatrix}\n",
    "  \\\\\n",
    "  \\mbox{(c)} &\\begin{pmatrix}\n",
    "    -2 & 1 & 0 & -9 \\\\\n",
    "    0 & 1 & 0 & 0 \\\\\n",
    "    2 & 1 & 1 & 7 \\\\\n",
    "    1 & 0 & 0 & 4\n",
    "  \\end{pmatrix}\n",
    "  &\\quad\n",
    "  \\mbox{(d)} & \\begin{pmatrix}\n",
    "    -4 & 0 & 2 & -4 \\\\\n",
    "    -2 & -2 & 3 & -4 \\\\\n",
    "    0 & 0 & -2 & 0 \\\\\n",
    "    1 & 0 & -1 & 0\n",
    "  \\end{pmatrix}\n",
    "  \\\\\n",
    "  \\mbox{(e)} & \\begin{pmatrix}\n",
    "    -3 & 2 & \\frac{1}{2} & -2 \\\\\n",
    "    0 & 0 & 0 & 1 \\\\\n",
    "    0 & -3 & -3 & 3 \\\\\n",
    "    0 & 0 & 0 & 1\n",
    "  \\end{pmatrix}\n",
    "  &\n",
    "  \\mbox{(f)} & \\begin{pmatrix}\n",
    "    -2 & 2 & 0 & -6 \\\\\n",
    "    -2 & 3 & 0 & -3 \\\\\n",
    "    -2 & 1 & 2 & -3 \\\\\n",
    "    2 & -1 & 0 & 5\n",
    "  \\end{pmatrix}.\n",
    "\\end{array}\n",
    "$$"
   ]
  },
  {
   "cell_type": "markdown",
   "metadata": {},
   "source": [
    "## Solution to Problem 7(a)"
   ]
  },
  {
   "cell_type": "code",
   "execution_count": 32,
   "metadata": {},
   "outputs": [],
   "source": [
    "from sympy import Matrix, solve, factor, eye\n",
    "from sympy.abc import x, y, z, t, a, b, c, d"
   ]
  },
  {
   "cell_type": "code",
   "execution_count": 33,
   "metadata": {},
   "outputs": [],
   "source": [
    "A = Matrix([[1, 0, 0, 0], [-6, -1, 1, 0], [-4, 0, -1, 0], [13, 0, 6, 1]])"
   ]
  },
  {
   "cell_type": "code",
   "execution_count": 34,
   "metadata": {},
   "outputs": [
    {
     "data": {
      "text/latex": [
       "$\\displaystyle \\left(\\lambda - 1\\right)^{2} \\left(\\lambda + 1\\right)^{2}$"
      ],
      "text/plain": [
       "(lambda - 1)**2*(lambda + 1)**2"
      ]
     },
     "execution_count": 34,
     "metadata": {},
     "output_type": "execute_result"
    }
   ],
   "source": [
    "factor(A.charpoly().as_expr())"
   ]
  },
  {
   "cell_type": "code",
   "execution_count": 35,
   "metadata": {},
   "outputs": [
    {
     "data": {
      "text/latex": [
       "$\\displaystyle \\left[\\begin{matrix}0 & 0 & 0 & 0\\\\-4 & 0 & -2 & 0\\\\0 & 0 & 0 & 0\\\\2 & 0 & 0 & 0\\end{matrix}\\right]$"
      ],
      "text/plain": [
       "Matrix([\n",
       "[ 0, 0,  0, 0],\n",
       "[-4, 0, -2, 0],\n",
       "[ 0, 0,  0, 0],\n",
       "[ 2, 0,  0, 0]])"
      ]
     },
     "execution_count": 35,
     "metadata": {},
     "output_type": "execute_result"
    }
   ],
   "source": [
    "(A - eye(4)) * (A + eye(4))"
   ]
  },
  {
   "cell_type": "code",
   "execution_count": 36,
   "metadata": {},
   "outputs": [
    {
     "data": {
      "text/latex": [
       "$\\displaystyle \\left[\\begin{matrix}0 & 0 & 0 & 0\\\\8 & 0 & 4 & 0\\\\0 & 0 & 0 & 0\\\\0 & 0 & 0 & 0\\end{matrix}\\right]$"
      ],
      "text/plain": [
       "Matrix([\n",
       "[0, 0, 0, 0],\n",
       "[8, 0, 4, 0],\n",
       "[0, 0, 0, 0],\n",
       "[0, 0, 0, 0]])"
      ]
     },
     "execution_count": 36,
     "metadata": {},
     "output_type": "execute_result"
    }
   ],
   "source": [
    "(A - eye(4)) ** 2* (A + eye(4))"
   ]
  },
  {
   "cell_type": "code",
   "execution_count": 37,
   "metadata": {},
   "outputs": [
    {
     "data": {
      "text/latex": [
       "$\\displaystyle \\left[\\begin{matrix}0 & 0 & 0 & 0\\\\0 & 0 & 0 & 0\\\\0 & 0 & 0 & 0\\\\4 & 0 & 0 & 0\\end{matrix}\\right]$"
      ],
      "text/plain": [
       "Matrix([\n",
       "[0, 0, 0, 0],\n",
       "[0, 0, 0, 0],\n",
       "[0, 0, 0, 0],\n",
       "[4, 0, 0, 0]])"
      ]
     },
     "execution_count": 37,
     "metadata": {},
     "output_type": "execute_result"
    }
   ],
   "source": [
    "(A - eye(4)) * (A + eye(4)) ** 2"
   ]
  },
  {
   "cell_type": "markdown",
   "metadata": {},
   "source": [
    "So, $m_A(x) = c_A(x) = (x - 1) ^ 2 (x + 1)^ 2$, and so\n",
    "$$\n",
    "JNF(A) = \n",
    "\\begin{pmatrix}\n",
    "J_{2}(1) & 0 \\\\\n",
    "0 & J_{2}(-1)\n",
    "\\end{pmatrix} =\n",
    "\\begin{pmatrix}\n",
    "1 & 1 & 0 & 0 \\\\\n",
    "0 & 1 & 0 & 0 \\\\\n",
    "0 & 0 & -1 & 1 \\\\\n",
    "0 & 0 & 0 & -1\n",
    "\\end{pmatrix}.\n",
    "$$"
   ]
  },
  {
   "cell_type": "markdown",
   "metadata": {},
   "source": [
    "We must find a basis $\\mathscr{B} = \\{\\vec{v}_1, \\vec{v}_2, \\vec{v}_3, \\vec{v}_4\\}$ for $\\mathbb{R} ^ 4$ such that \n",
    "$$\\operatorname{Mat}_{\\mathscr{B}, \\mathscr{B}}(T)\n",
    "= \n",
    "\\begin{pmatrix}\n",
    "1 & 1 & 0 & 0 \\\\\n",
    "0 & 1 & 0 & 0 \\\\\n",
    "0 & 0 & -1 & 1 \\\\\n",
    "0 & 0 & 0 & -1\n",
    "\\end{pmatrix}.$$\n",
    "In other words, such that  \n",
    "$$ T(\\vec{v}_1) = A\\vec{v}_1 = \\vec{v}_1, \\qquad \n",
    "   T(\\vec{v}_2) = A\\vec{v}_2 = \\vec{v}_1 + \\vec{v}_2, \\qquad \n",
    "   T(\\vec{v}_3) = A\\vec{v}_3 = -\\vec{v}_3, \\qquad\n",
    "   T(\\vec{v}_4) = A\\vec{v}_4 = \\vec{v}_3-\\vec{v}_4.\n",
    "$$"
   ]
  },
  {
   "cell_type": "code",
   "execution_count": 38,
   "metadata": {},
   "outputs": [
    {
     "data": {
      "text/plain": [
       "{x: 0, y: 0, z: 0}"
      ]
     },
     "execution_count": 38,
     "metadata": {},
     "output_type": "execute_result"
    }
   ],
   "source": [
    "v1 = Matrix([x, y, z, t])\n",
    "solve(A * v1 - v1, [x, y, z, t])"
   ]
  },
  {
   "cell_type": "code",
   "execution_count": 39,
   "metadata": {},
   "outputs": [
    {
     "data": {
      "text/plain": [
       "{x: a, y: -4*a, z: -2*a}"
      ]
     },
     "execution_count": 39,
     "metadata": {},
     "output_type": "execute_result"
    }
   ],
   "source": [
    "v1 = Matrix([0, 0, 0, a])\n",
    "v2 = Matrix([x, y, z, t])\n",
    "solve(A * v2 - v1 - v2, [x, y, z, t, a])"
   ]
  },
  {
   "cell_type": "markdown",
   "metadata": {},
   "source": [
    "So, setting $a = 1$, \n",
    "$$\n",
    "\\vec{v}_1 = \\begin{pmatrix} 0 \\\\ 0 \\\\ 0 \\\\ 1\\end{pmatrix},\\qquad\n",
    "\\vec{v}_2 = \\begin{pmatrix} 1 \\\\ -4 \\\\ -2 \\\\ 0\\end{pmatrix}.\n",
    "$$"
   ]
  },
  {
   "cell_type": "code",
   "execution_count": 40,
   "metadata": {},
   "outputs": [
    {
     "data": {
      "text/plain": [
       "{x: 0, z: 0, t: 0}"
      ]
     },
     "execution_count": 40,
     "metadata": {},
     "output_type": "execute_result"
    }
   ],
   "source": [
    "v3 = Matrix([x, y, z, t])\n",
    "solve(A * v3 + v3, [x, y, z, t])"
   ]
  },
  {
   "cell_type": "code",
   "execution_count": 41,
   "metadata": {},
   "outputs": [
    {
     "data": {
      "text/plain": [
       "{x: 0, z: a, t: -3*a}"
      ]
     },
     "execution_count": 41,
     "metadata": {},
     "output_type": "execute_result"
    }
   ],
   "source": [
    "v3 = Matrix([0, a, 0, 0])\n",
    "v4 = Matrix([x, y, z, t])\n",
    "solve(A * v4 + v4 - v3, [x, y, z, t])"
   ]
  },
  {
   "cell_type": "markdown",
   "metadata": {},
   "source": [
    "So, setting $a = 1$:\n",
    "$$\n",
    "\\vec{v}_3 = \\begin{pmatrix} 0 \\\\ 1 \\\\ 0 \\\\ 0\\end{pmatrix},\\qquad\n",
    "\\vec{v}_4 = \\begin{pmatrix} 0 \\\\ 0 \\\\ 1 \\\\ -3\\end{pmatrix}.\n",
    "$$"
   ]
  },
  {
   "cell_type": "markdown",
   "metadata": {},
   "source": [
    "So, the matrix $P = \\operatorname{Mat}_{\\mathscr{B}, \\mathscr{C}}(\\operatorname{id})$ where $\\mathscr{C}$ is the standard basis for $\\mathbb{R} ^ 4$ is:\n",
    "$$\n",
    "P = \\begin{pmatrix}\n",
    "0 & 1  & 0 & 0 \\\\\n",
    "0 & -4 & 1 & 0 \\\\\n",
    "0 & -2 & 0 & 1 \\\\\n",
    "1 & 0  & 0 & -3 \n",
    "\\end{pmatrix}.\n",
    "$$\n",
    "Let's double check:"
   ]
  },
  {
   "cell_type": "code",
   "execution_count": 42,
   "metadata": {},
   "outputs": [
    {
     "data": {
      "text/latex": [
       "$\\displaystyle \\left[\\begin{matrix}1 & 1 & 0 & 0\\\\0 & 1 & 0 & 0\\\\0 & 0 & -1 & 1\\\\0 & 0 & 0 & -1\\end{matrix}\\right]$"
      ],
      "text/plain": [
       "Matrix([\n",
       "[1, 1,  0,  0],\n",
       "[0, 1,  0,  0],\n",
       "[0, 0, -1,  1],\n",
       "[0, 0,  0, -1]])"
      ]
     },
     "execution_count": 42,
     "metadata": {},
     "output_type": "execute_result"
    }
   ],
   "source": [
    "P = Matrix([[0, 1, 0, 0], [0, -4, 1, 0], [0, -2, 0, 1], [1, 0, 0, -3]])\n",
    "P ** -1 * A * P"
   ]
  },
  {
   "cell_type": "markdown",
   "metadata": {},
   "source": [
    "## Solution to Problem 7(b)"
   ]
  },
  {
   "cell_type": "code",
   "execution_count": 43,
   "metadata": {},
   "outputs": [],
   "source": [
    "from sympy import Matrix, solve, factor, eye\n",
    "from sympy.abc import x, y, z, t, a, b, c, d"
   ]
  },
  {
   "cell_type": "code",
   "execution_count": 44,
   "metadata": {},
   "outputs": [],
   "source": [
    "A = Matrix([[-14, 1, 0, 14], [-6, 0, 0, 6], [6, -3, -3, -6], [-11, 1, 0, 11]])"
   ]
  },
  {
   "cell_type": "code",
   "execution_count": 45,
   "metadata": {},
   "outputs": [
    {
     "data": {
      "text/latex": [
       "$\\displaystyle \\lambda^{2} \\left(\\lambda + 3\\right)^{2}$"
      ],
      "text/plain": [
       "lambda**2*(lambda + 3)**2"
      ]
     },
     "execution_count": 45,
     "metadata": {},
     "output_type": "execute_result"
    }
   ],
   "source": [
    "factor(A.charpoly().as_expr())"
   ]
  },
  {
   "cell_type": "code",
   "execution_count": 46,
   "metadata": {},
   "outputs": [
    {
     "data": {
      "text/latex": [
       "$\\displaystyle \\left[\\begin{matrix}-6 & 3 & 0 & 6\\\\0 & 0 & 0 & 0\\\\0 & 0 & 0 & 0\\\\-6 & 3 & 0 & 6\\end{matrix}\\right]$"
      ],
      "text/plain": [
       "Matrix([\n",
       "[-6, 3, 0, 6],\n",
       "[ 0, 0, 0, 0],\n",
       "[ 0, 0, 0, 0],\n",
       "[-6, 3, 0, 6]])"
      ]
     },
     "execution_count": 46,
     "metadata": {},
     "output_type": "execute_result"
    }
   ],
   "source": [
    "A * (A + 3 * eye(4))"
   ]
  },
  {
   "cell_type": "code",
   "execution_count": 47,
   "metadata": {},
   "outputs": [
    {
     "data": {
      "text/latex": [
       "$\\displaystyle \\left[\\begin{matrix}0 & 0 & 0 & 0\\\\0 & 0 & 0 & 0\\\\0 & 0 & 0 & 0\\\\0 & 0 & 0 & 0\\end{matrix}\\right]$"
      ],
      "text/plain": [
       "Matrix([\n",
       "[0, 0, 0, 0],\n",
       "[0, 0, 0, 0],\n",
       "[0, 0, 0, 0],\n",
       "[0, 0, 0, 0]])"
      ]
     },
     "execution_count": 47,
     "metadata": {},
     "output_type": "execute_result"
    }
   ],
   "source": [
    "A ** 2 * (A + 3 * eye(4))"
   ]
  },
  {
   "cell_type": "markdown",
   "metadata": {},
   "source": [
    "Hence $m_A(x) = x ^ 2(x + 3)$ and so \n",
    "$$ JNF(A) = \n",
    "\\begin{pmatrix}\n",
    "J_{2}(0) & 0 & 0 \\\\\n",
    "0 & J_{1}(-3) & 0 \\\\\n",
    "0 & 0 & J_{1}(-3)\n",
    "\\end{pmatrix} =\n",
    "\\begin{pmatrix}\n",
    "0 & 1 & 0 & 0 \\\\\n",
    "0 & 0 & 0 & 0 \\\\\n",
    "0 & 0 & -3 & 0 \\\\\n",
    "0 & 0 & 0 & -3\n",
    "\\end{pmatrix}.\n",
    "$$"
   ]
  },
  {
   "cell_type": "code",
   "execution_count": 48,
   "metadata": {},
   "outputs": [
    {
     "data": {
      "text/plain": [
       "{x: t, y: 0, z: 0}"
      ]
     },
     "execution_count": 48,
     "metadata": {},
     "output_type": "execute_result"
    }
   ],
   "source": [
    "v1 = Matrix([x, y, z, t])\n",
    "solve(A * v1, [x, y, z, t])"
   ]
  },
  {
   "cell_type": "code",
   "execution_count": 49,
   "metadata": {},
   "outputs": [
    {
     "data": {
      "text/plain": [
       "{x: t, y: a, z: -a}"
      ]
     },
     "execution_count": 49,
     "metadata": {},
     "output_type": "execute_result"
    }
   ],
   "source": [
    "v1 = Matrix([a, 0, 0, a])\n",
    "v2 = Matrix([x, y, z, t])\n",
    "solve(A * v2 - v1, [x, y, z, t])"
   ]
  },
  {
   "cell_type": "markdown",
   "metadata": {},
   "source": [
    "Setting $a = 1$, $t = 1$, we obtain\n",
    "$$\n",
    "\\begin{pmatrix} 1 \\\\ 0 \\\\0 \\\\ 1\\end{pmatrix}, \\qquad\n",
    "\\begin{pmatrix} 1 \\\\ 1 \\\\-1 \\\\ 1\\end{pmatrix}.\n",
    "$$"
   ]
  },
  {
   "cell_type": "code",
   "execution_count": 50,
   "metadata": {},
   "outputs": [
    {
     "data": {
      "text/plain": [
       "{x: 4*t/3, y: 2*t/3}"
      ]
     },
     "execution_count": 50,
     "metadata": {},
     "output_type": "execute_result"
    }
   ],
   "source": [
    "v3 = Matrix([x, y, z, t])\n",
    "solve(A * v3 + 3* v3, [x, y, z, t])"
   ]
  },
  {
   "cell_type": "markdown",
   "metadata": {},
   "source": [
    "Setting $t = 3$ and $z = 1$, and then $0$, we get\n",
    "$$\n",
    "\\begin{pmatrix} 4 \\\\ 2 \\\\ 1 \\\\ 3 \\end{pmatrix}, \\qquad\n",
    "\\begin{pmatrix} 4 \\\\ 2 \\\\ 0 \\\\ 3 \\end{pmatrix}.\n",
    "$$"
   ]
  },
  {
   "cell_type": "code",
   "execution_count": 51,
   "metadata": {},
   "outputs": [
    {
     "data": {
      "text/latex": [
       "$\\displaystyle \\left[\\begin{matrix}0 & 1 & 0 & 0\\\\0 & 0 & 0 & 0\\\\0 & 0 & -3 & 0\\\\0 & 0 & 0 & -3\\end{matrix}\\right]$"
      ],
      "text/plain": [
       "Matrix([\n",
       "[0, 1,  0,  0],\n",
       "[0, 0,  0,  0],\n",
       "[0, 0, -3,  0],\n",
       "[0, 0,  0, -3]])"
      ]
     },
     "execution_count": 51,
     "metadata": {},
     "output_type": "execute_result"
    }
   ],
   "source": [
    "P = Matrix([[1, 1, 4, 4], [0, 1, 2, 2], [0, -1, 1, 0], [1, 1, 3, 3]])\n",
    "P ** - 1 * A * P"
   ]
  },
  {
   "cell_type": "markdown",
   "metadata": {},
   "source": [
    "## Solution to Problem 7(c) "
   ]
  },
  {
   "cell_type": "code",
   "execution_count": 52,
   "metadata": {},
   "outputs": [],
   "source": [
    "from sympy import Matrix, solve, factor, eye\n",
    "from sympy.abc import x, y, z, t, a, b, c, d"
   ]
  },
  {
   "cell_type": "code",
   "execution_count": 53,
   "metadata": {},
   "outputs": [],
   "source": [
    "A = Matrix([[-2, 1, 0, -9], [0, 1, 0, 0], [2, 1, 1, 7], [1, 0, 0, 4]])"
   ]
  },
  {
   "cell_type": "code",
   "execution_count": 54,
   "metadata": {},
   "outputs": [
    {
     "data": {
      "text/latex": [
       "$\\displaystyle \\left(\\lambda - 1\\right)^{4}$"
      ],
      "text/plain": [
       "(lambda - 1)**4"
      ]
     },
     "execution_count": 54,
     "metadata": {},
     "output_type": "execute_result"
    }
   ],
   "source": [
    "factor(A.charpoly().as_expr())"
   ]
  },
  {
   "cell_type": "code",
   "execution_count": 55,
   "metadata": {},
   "outputs": [
    {
     "data": {
      "text/latex": [
       "$\\displaystyle \\left[\\begin{matrix}-3 & 1 & 0 & -9\\\\0 & 0 & 0 & 0\\\\2 & 1 & 0 & 7\\\\1 & 0 & 0 & 3\\end{matrix}\\right]$"
      ],
      "text/plain": [
       "Matrix([\n",
       "[-3, 1, 0, -9],\n",
       "[ 0, 0, 0,  0],\n",
       "[ 2, 1, 0,  7],\n",
       "[ 1, 0, 0,  3]])"
      ]
     },
     "execution_count": 55,
     "metadata": {},
     "output_type": "execute_result"
    }
   ],
   "source": [
    "A - eye(4)"
   ]
  },
  {
   "cell_type": "code",
   "execution_count": 56,
   "metadata": {},
   "outputs": [
    {
     "data": {
      "text/latex": [
       "$\\displaystyle \\left[\\begin{matrix}0 & -3 & 0 & 0\\\\0 & 0 & 0 & 0\\\\1 & 2 & 0 & 3\\\\0 & 1 & 0 & 0\\end{matrix}\\right]$"
      ],
      "text/plain": [
       "Matrix([\n",
       "[0, -3, 0, 0],\n",
       "[0,  0, 0, 0],\n",
       "[1,  2, 0, 3],\n",
       "[0,  1, 0, 0]])"
      ]
     },
     "execution_count": 56,
     "metadata": {},
     "output_type": "execute_result"
    }
   ],
   "source": [
    "(A - eye(4)) ** 2"
   ]
  },
  {
   "cell_type": "code",
   "execution_count": 57,
   "metadata": {},
   "outputs": [
    {
     "data": {
      "text/latex": [
       "$\\displaystyle \\left[\\begin{matrix}0 & 0 & 0 & 0\\\\0 & 0 & 0 & 0\\\\0 & 1 & 0 & 0\\\\0 & 0 & 0 & 0\\end{matrix}\\right]$"
      ],
      "text/plain": [
       "Matrix([\n",
       "[0, 0, 0, 0],\n",
       "[0, 0, 0, 0],\n",
       "[0, 1, 0, 0],\n",
       "[0, 0, 0, 0]])"
      ]
     },
     "execution_count": 57,
     "metadata": {},
     "output_type": "execute_result"
    }
   ],
   "source": [
    "(A - eye(4)) ** 3"
   ]
  },
  {
   "cell_type": "markdown",
   "metadata": {},
   "source": [
    "Hence $m_A(x) = c_A(x) = (x - 1) ^ 4$, and so \n",
    "$$\n",
    "JNF(A) = J_{4}(1) = \n",
    "\\begin{pmatrix}\n",
    "1 & 1 & 0 & 0 \\\\\n",
    "0 & 1 & 1 & 0 \\\\\n",
    "0 & 0 & 1 & 1 \\\\\n",
    "0 & 0 & 0 & 1\n",
    "\\end{pmatrix}.\n",
    "$$"
   ]
  },
  {
   "cell_type": "code",
   "execution_count": 58,
   "metadata": {},
   "outputs": [
    {
     "data": {
      "text/plain": [
       "{x: 0, y: 0, t: 0}"
      ]
     },
     "execution_count": 58,
     "metadata": {},
     "output_type": "execute_result"
    }
   ],
   "source": [
    "v1 = Matrix([x, y, z, t])\n",
    "solve(A * v1 - v1, [x, y, z, t])"
   ]
  },
  {
   "cell_type": "code",
   "execution_count": 59,
   "metadata": {},
   "outputs": [
    {
     "data": {
      "text/plain": [
       "{x: -3*a, y: 0, t: a}"
      ]
     },
     "execution_count": 59,
     "metadata": {},
     "output_type": "execute_result"
    }
   ],
   "source": [
    "v1 = Matrix([0, 0, a, 0])\n",
    "v2 = Matrix([x, y, z, t])\n",
    "solve(A * v2 - v1 - v2, [x, y, z, t])"
   ]
  },
  {
   "cell_type": "code",
   "execution_count": 60,
   "metadata": {},
   "outputs": [
    {
     "data": {
      "text/plain": [
       "{x: 7*a, y: 0, t: -2*a}"
      ]
     },
     "execution_count": 60,
     "metadata": {},
     "output_type": "execute_result"
    }
   ],
   "source": [
    "v2 = Matrix([-3 * a, 0, 0, a])\n",
    "v3 = Matrix([x, y, z, t])\n",
    "solve(A * v3 - v2 - v3, [x, y, z, t])"
   ]
  },
  {
   "cell_type": "code",
   "execution_count": 61,
   "metadata": {},
   "outputs": [
    {
     "data": {
      "text/plain": [
       "{x: -11*a, y: a, t: 3*a}"
      ]
     },
     "execution_count": 61,
     "metadata": {},
     "output_type": "execute_result"
    }
   ],
   "source": [
    "v3 = Matrix([7 * a, 0, 0, -2 * a])\n",
    "v4 = Matrix([x, y, z, t])\n",
    "solve(A * v4 - v3 - v4, [x, y, z, t])"
   ]
  },
  {
   "cell_type": "markdown",
   "metadata": {},
   "source": [
    "So, setting $a = 1$, we obtain\n",
    "$$\n",
    "\\vec{v}_1 = \\begin{pmatrix} 0 \\\\ 0 \\\\ 1 \\\\ 0 \\end{pmatrix},\\qquad\n",
    "\\vec{v}_2 = \\begin{pmatrix} -3 \\\\ 0 \\\\ 0 \\\\ 1 \\end{pmatrix}, \\qquad\n",
    "\\vec{v}_3 = \\begin{pmatrix} 7 \\\\ 0 \\\\ 0 \\\\ -2 \\end{pmatrix}, \\qquad\n",
    "\\vec{v}_4 = \\begin{pmatrix} -11\\\\ 1 \\\\ 0 \\\\ 3 \\end{pmatrix}\n",
    "$$"
   ]
  },
  {
   "cell_type": "code",
   "execution_count": 62,
   "metadata": {},
   "outputs": [
    {
     "data": {
      "text/latex": [
       "$\\displaystyle \\left[\\begin{matrix}1 & 1 & 0 & 0\\\\0 & 1 & 1 & 0\\\\0 & 0 & 1 & 1\\\\0 & 0 & 0 & 1\\end{matrix}\\right]$"
      ],
      "text/plain": [
       "Matrix([\n",
       "[1, 1, 0, 0],\n",
       "[0, 1, 1, 0],\n",
       "[0, 0, 1, 1],\n",
       "[0, 0, 0, 1]])"
      ]
     },
     "execution_count": 62,
     "metadata": {},
     "output_type": "execute_result"
    }
   ],
   "source": [
    "P = Matrix([[0, -3, 7, -11], \n",
    "            [0, 0, 0, 1], \n",
    "            [1, 0, 0, 0], \n",
    "            [0, 1, -2, 3]])\n",
    "P ** - 1 * A * P"
   ]
  },
  {
   "cell_type": "markdown",
   "metadata": {},
   "source": [
    "## Solution to Problem 7(d)"
   ]
  },
  {
   "cell_type": "code",
   "execution_count": 63,
   "metadata": {},
   "outputs": [],
   "source": [
    "from sympy import Matrix, solve, factor, eye\n",
    "from sympy.abc import x, y, z, t, a, b, c, d"
   ]
  },
  {
   "cell_type": "code",
   "execution_count": 64,
   "metadata": {},
   "outputs": [
    {
     "data": {
      "text/latex": [
       "$\\displaystyle \\left(\\lambda + 2\\right)^{4}$"
      ],
      "text/plain": [
       "(lambda + 2)**4"
      ]
     },
     "execution_count": 64,
     "metadata": {},
     "output_type": "execute_result"
    }
   ],
   "source": [
    "A = Matrix([[-4, 0, 2, -4], [-2, -2, 3, -4], [0, 0, -2, 0], [1, 0, -1, 0]])\n",
    "factor(A.charpoly().as_expr())"
   ]
  },
  {
   "cell_type": "code",
   "execution_count": 65,
   "metadata": {},
   "outputs": [
    {
     "data": {
      "text/latex": [
       "$\\displaystyle \\left[\\begin{matrix}-2 & 0 & 2 & -4\\\\-2 & 0 & 3 & -4\\\\0 & 0 & 0 & 0\\\\1 & 0 & -1 & 2\\end{matrix}\\right]$"
      ],
      "text/plain": [
       "Matrix([\n",
       "[-2, 0,  2, -4],\n",
       "[-2, 0,  3, -4],\n",
       "[ 0, 0,  0,  0],\n",
       "[ 1, 0, -1,  2]])"
      ]
     },
     "execution_count": 65,
     "metadata": {},
     "output_type": "execute_result"
    }
   ],
   "source": [
    "A + 2 * eye(4)"
   ]
  },
  {
   "cell_type": "code",
   "execution_count": 66,
   "metadata": {},
   "outputs": [
    {
     "data": {
      "text/latex": [
       "$\\displaystyle \\left[\\begin{matrix}0 & 0 & 0 & 0\\\\0 & 0 & 0 & 0\\\\0 & 0 & 0 & 0\\\\0 & 0 & 0 & 0\\end{matrix}\\right]$"
      ],
      "text/plain": [
       "Matrix([\n",
       "[0, 0, 0, 0],\n",
       "[0, 0, 0, 0],\n",
       "[0, 0, 0, 0],\n",
       "[0, 0, 0, 0]])"
      ]
     },
     "execution_count": 66,
     "metadata": {},
     "output_type": "execute_result"
    }
   ],
   "source": [
    "(A + 2 * eye(4)) ** 2"
   ]
  },
  {
   "cell_type": "markdown",
   "metadata": {},
   "source": [
    "Hence $m_A(x) = (x + 2) ^ 2$ and so the Jordan blocks in the JNF of $A$ correspond to $1 + 1 + 2$ or $2 + 2$. To figure out which one we must compute the dimension of the eigenspace of the eigenvalue $-2$, which is $\\dim \\ker(A + 2I)$:"
   ]
  },
  {
   "cell_type": "code",
   "execution_count": 67,
   "metadata": {},
   "outputs": [
    {
     "data": {
      "text/plain": [
       "2"
      ]
     },
     "execution_count": 67,
     "metadata": {},
     "output_type": "execute_result"
    }
   ],
   "source": [
    "(A + 2 * eye(4)).rank()"
   ]
  },
  {
   "cell_type": "markdown",
   "metadata": {},
   "source": [
    "Hence $g_{-2} = 4 - 2 = 2$ and so there are 2 Jordan blocks in $JNF(A)$, corresponding to $2 + 2$:\n",
    "$$\n",
    "JNF(A) = \\begin{pmatrix}\n",
    "J_{2}(-2) & 0 \\\\\n",
    "0 & J_{2}(-2)\n",
    "\\end{pmatrix} =\n",
    "\\begin{pmatrix}\n",
    "-2 & 1 & 0 & 0 \\\\\n",
    "0 & -2 & 0 & 0 \\\\\n",
    "0 & 0 & -2 & 1 \\\\\n",
    "0 & 0 & 0 & -2\n",
    "\\end{pmatrix}.\n",
    "$$"
   ]
  },
  {
   "cell_type": "code",
   "execution_count": 68,
   "metadata": {},
   "outputs": [
    {
     "data": {
      "text/plain": [
       "{x: -2*t, z: 0}"
      ]
     },
     "execution_count": 68,
     "metadata": {},
     "output_type": "execute_result"
    }
   ],
   "source": [
    "v = Matrix([x, y, z, t])\n",
    "solve(A * v + 2 * v, [x, y, z, t])"
   ]
  },
  {
   "cell_type": "markdown",
   "metadata": {},
   "source": [
    "Hence setting $t = 1$ and $y = 0$, and $t = 1$ and $y = 1$, we get:\n",
    "$$v_1 = \\begin{pmatrix} -2 \\\\ 0 \\\\ 0 \\\\ 1 \\end{pmatrix}, \\qquad\n",
    "v_3 = \\begin{pmatrix} -2 \\\\ 1 \\\\ 0 \\\\ 1 \\end{pmatrix}\n",
    "$$"
   ]
  },
  {
   "cell_type": "code",
   "execution_count": 69,
   "metadata": {},
   "outputs": [
    {
     "data": {
      "text/plain": [
       "{x: 3*a + b - 2*t, z: 2*a + b}"
      ]
     },
     "execution_count": 69,
     "metadata": {},
     "output_type": "execute_result"
    }
   ],
   "source": [
    "v1 = Matrix([-2 * a, b, 0, a])\n",
    "v2 = Matrix([x, y, z, t])\n",
    "solve(A * v2 - v1 + 2 * v2, [x, y, z, t])"
   ]
  },
  {
   "cell_type": "markdown",
   "metadata": {},
   "source": [
    "So, when $a = 1$, $b = 0$ and $t = 1$, and when $a = 1$, $b = 1$, and $t = 1$, we ge\n",
    "$$\n",
    "\\vec{v}_2 = \\begin{pmatrix} 1 \\\\ 0 \\\\ 2 \\\\ 1 \\end{pmatrix}, \\qquad\n",
    "\\vec{v}_4 = \\begin{pmatrix} 2 \\\\ 0 \\\\ 3 \\\\ 1 \\end{pmatrix}.\n",
    "$$"
   ]
  },
  {
   "cell_type": "code",
   "execution_count": 70,
   "metadata": {},
   "outputs": [
    {
     "data": {
      "text/latex": [
       "$\\displaystyle \\left[\\begin{matrix}-2 & 1 & 0 & 0\\\\0 & -2 & 0 & 0\\\\0 & 0 & -2 & 1\\\\0 & 0 & 0 & -2\\end{matrix}\\right]$"
      ],
      "text/plain": [
       "Matrix([\n",
       "[-2,  1,  0,  0],\n",
       "[ 0, -2,  0,  0],\n",
       "[ 0,  0, -2,  1],\n",
       "[ 0,  0,  0, -2]])"
      ]
     },
     "execution_count": 70,
     "metadata": {},
     "output_type": "execute_result"
    }
   ],
   "source": [
    "P = Matrix([[-2, 1, -2, 2], \n",
    "            [0, 0, 1, 0], \n",
    "            [0, 2, 0, 3], \n",
    "            [1, 1, 1, 1]])\n",
    "P ** -1 * A * P"
   ]
  },
  {
   "cell_type": "markdown",
   "metadata": {},
   "source": [
    "## Solution to Problem 7(e)"
   ]
  },
  {
   "cell_type": "code",
   "execution_count": 71,
   "metadata": {},
   "outputs": [],
   "source": [
    "from sympy import Matrix, solve, factor, eye\n",
    "from sympy.abc import x, y, z, t, a, b, c, d"
   ]
  },
  {
   "cell_type": "code",
   "execution_count": 72,
   "metadata": {},
   "outputs": [
    {
     "data": {
      "text/latex": [
       "$\\displaystyle \\lambda \\left(\\lambda - 1\\right) \\left(\\lambda + 3\\right)^{2}$"
      ],
      "text/plain": [
       "lambda*(lambda - 1)*(lambda + 3)**2"
      ]
     },
     "execution_count": 72,
     "metadata": {},
     "output_type": "execute_result"
    }
   ],
   "source": [
    "A = Matrix([[-3, 2, 0.5, -2], [0, 0, 0, 1], [0, -3, -3, 3], [0, 0, 0, 1]])\n",
    "factor(A.charpoly().as_expr())"
   ]
  },
  {
   "cell_type": "code",
   "execution_count": 73,
   "metadata": {},
   "outputs": [
    {
     "data": {
      "text/latex": [
       "$\\displaystyle \\left[\\begin{matrix}0 & 6.0 & 6.0 & -6.0\\\\0 & 0 & 0 & 0\\\\0 & 0 & 0 & 0\\\\0 & 0 & 0 & 0\\end{matrix}\\right]$"
      ],
      "text/plain": [
       "Matrix([\n",
       "[0, 6.0, 6.0, -6.0],\n",
       "[0,   0,   0,    0],\n",
       "[0,   0,   0,    0],\n",
       "[0,   0,   0,    0]])"
      ]
     },
     "execution_count": 73,
     "metadata": {},
     "output_type": "execute_result"
    }
   ],
   "source": [
    "A * (A - eye(4))* (A + 3 * eye(4))"
   ]
  },
  {
   "cell_type": "markdown",
   "metadata": {},
   "source": [
    "Hence $m_A(x) = c_A(x)$ and so \n",
    "$$ JNF(A) = \\begin{pmatrix}\n",
    "J_{1}(0) & 0 & 0 \\\\\n",
    "0 & J_{1}(1) & 0 \\\\\n",
    "0 & 0 & J_{2}(-3)\n",
    "\\end{pmatrix} =\n",
    "\\begin{pmatrix}\n",
    "0 & 0 & 0 & 0 \\\\\n",
    "0 & 1 & 0 & 0 \\\\\n",
    "0 & 0 & -3 & 1 \\\\\n",
    "0 & 0 & 0 & -3\n",
    "\\end{pmatrix}.\n",
    "$$"
   ]
  },
  {
   "cell_type": "code",
   "execution_count": 74,
   "metadata": {},
   "outputs": [
    {
     "data": {
      "text/plain": [
       "{x: -0.5*z, y: -z, t: 0.0}"
      ]
     },
     "execution_count": 74,
     "metadata": {},
     "output_type": "execute_result"
    }
   ],
   "source": [
    "v1 = Matrix([x, y, z, t])\n",
    "solve(A * v1, [x, y, z, t])"
   ]
  },
  {
   "cell_type": "code",
   "execution_count": 75,
   "metadata": {},
   "outputs": [],
   "source": [
    "v1 = Matrix([1, 2, -2, 0]) # y = 2"
   ]
  },
  {
   "cell_type": "code",
   "execution_count": 76,
   "metadata": {},
   "outputs": [
    {
     "data": {
      "text/plain": [
       "{x: 0.0, y: t, z: 0.0}"
      ]
     },
     "execution_count": 76,
     "metadata": {},
     "output_type": "execute_result"
    }
   ],
   "source": [
    "v2 = Matrix([x, y, z, t])\n",
    "solve(A * v2 - v2, [x, y, z, t])"
   ]
  },
  {
   "cell_type": "code",
   "execution_count": 77,
   "metadata": {},
   "outputs": [],
   "source": [
    "v2 = Matrix([0, 1, 0, 1]) # t = 1 "
   ]
  },
  {
   "cell_type": "code",
   "execution_count": 78,
   "metadata": {},
   "outputs": [
    {
     "data": {
      "text/plain": [
       "{y: 0.0, z: 0.0, t: 0.0}"
      ]
     },
     "execution_count": 78,
     "metadata": {},
     "output_type": "execute_result"
    }
   ],
   "source": [
    "v3 = Matrix([x, y, z, t])\n",
    "solve(A * v3 + 3 * v3, [x, y, z, t])"
   ]
  },
  {
   "cell_type": "code",
   "execution_count": 79,
   "metadata": {},
   "outputs": [
    {
     "data": {
      "text/plain": [
       "{y: 0.0, z: 2.0*a, t: 0.0}"
      ]
     },
     "execution_count": 79,
     "metadata": {},
     "output_type": "execute_result"
    }
   ],
   "source": [
    "v3 = Matrix([a, 0, 0, 0])\n",
    "v4 = Matrix([x, y, z, t])\n",
    "solve(A * v4 - v3 + 3 * v4, [x, y, z, t])"
   ]
  },
  {
   "cell_type": "code",
   "execution_count": 80,
   "metadata": {},
   "outputs": [],
   "source": [
    "v3 = Matrix([1, 0, 0, 0]) # a = 1\n",
    "v4 = Matrix([1, 0, 2, 0]) # x = 1, a = 1"
   ]
  },
  {
   "cell_type": "code",
   "execution_count": 81,
   "metadata": {},
   "outputs": [
    {
     "data": {
      "text/latex": [
       "$\\displaystyle \\left[\\begin{matrix}0 & 0 & 0 & 0\\\\0 & 1 & 0 & 0\\\\0 & 0 & -3 & 1.0\\\\0 & 0 & 0 & -3\\end{matrix}\\right]$"
      ],
      "text/plain": [
       "Matrix([\n",
       "[0, 0,  0,   0],\n",
       "[0, 1,  0,   0],\n",
       "[0, 0, -3, 1.0],\n",
       "[0, 0,  0,  -3]])"
      ]
     },
     "execution_count": 81,
     "metadata": {},
     "output_type": "execute_result"
    }
   ],
   "source": [
    "P = Matrix([[1, 0, 1, 1], [2, 1, 0, 0], [-2, 0, 0, 2], [0, 1, 0, 0]])\n",
    "P ** -1 * A * P"
   ]
  },
  {
   "cell_type": "markdown",
   "metadata": {},
   "source": [
    "## Solution to Problem 7(f)"
   ]
  },
  {
   "cell_type": "code",
   "execution_count": 82,
   "metadata": {},
   "outputs": [],
   "source": [
    "from sympy import Matrix, solve, factor, eye\n",
    "from sympy.abc import x, y, z, t, a, b, c, d"
   ]
  },
  {
   "cell_type": "code",
   "execution_count": 83,
   "metadata": {},
   "outputs": [
    {
     "data": {
      "text/latex": [
       "$\\displaystyle \\left(\\lambda - 2\\right)^{4}$"
      ],
      "text/plain": [
       "(lambda - 2)**4"
      ]
     },
     "execution_count": 83,
     "metadata": {},
     "output_type": "execute_result"
    }
   ],
   "source": [
    "A = Matrix([[-2, 2, 0, -6], [-2, 3, 0, -3], [-2, 1, 2, -3], [2, -1, 0, 5]])\n",
    "factor(A.charpoly().as_expr())"
   ]
  },
  {
   "cell_type": "code",
   "execution_count": 84,
   "metadata": {},
   "outputs": [
    {
     "data": {
      "text/latex": [
       "$\\displaystyle \\left[\\begin{matrix}-4 & 2 & 0 & -6\\\\-2 & 1 & 0 & -3\\\\-2 & 1 & 0 & -3\\\\2 & -1 & 0 & 3\\end{matrix}\\right]$"
      ],
      "text/plain": [
       "Matrix([\n",
       "[-4,  2, 0, -6],\n",
       "[-2,  1, 0, -3],\n",
       "[-2,  1, 0, -3],\n",
       "[ 2, -1, 0,  3]])"
      ]
     },
     "execution_count": 84,
     "metadata": {},
     "output_type": "execute_result"
    }
   ],
   "source": [
    "A - 2 * eye(4)"
   ]
  },
  {
   "cell_type": "code",
   "execution_count": 85,
   "metadata": {},
   "outputs": [
    {
     "data": {
      "text/latex": [
       "$\\displaystyle \\left[\\begin{matrix}0 & 0 & 0 & 0\\\\0 & 0 & 0 & 0\\\\0 & 0 & 0 & 0\\\\0 & 0 & 0 & 0\\end{matrix}\\right]$"
      ],
      "text/plain": [
       "Matrix([\n",
       "[0, 0, 0, 0],\n",
       "[0, 0, 0, 0],\n",
       "[0, 0, 0, 0],\n",
       "[0, 0, 0, 0]])"
      ]
     },
     "execution_count": 85,
     "metadata": {},
     "output_type": "execute_result"
    }
   ],
   "source": [
    "(A - 2 * eye(4)) ** 2"
   ]
  },
  {
   "cell_type": "markdown",
   "metadata": {},
   "source": [
    "Hence the Jordan blocks in the JNF of $A$ correspond to $2 + 2$ or $1 + 1 + 2$, we find the dimension of the eigenspace of the eigenvalue $2$, to figure out which one:"
   ]
  },
  {
   "cell_type": "code",
   "execution_count": 86,
   "metadata": {},
   "outputs": [
    {
     "data": {
      "text/plain": [
       "1"
      ]
     },
     "execution_count": 86,
     "metadata": {},
     "output_type": "execute_result"
    }
   ],
   "source": [
    "(A - 2 * eye(4)).rank()"
   ]
  },
  {
   "cell_type": "markdown",
   "metadata": {},
   "source": [
    "So, the dimension of $E_2$ is $3 = 4 - 1$, and so the Jordan blocks in JNF of $A$ correspond to $1 + 1 + 2$, that is,\n",
    "$$\n",
    "\\begin{pmatrix}\n",
    "J_{2}(2) & 0 & 0 \\\\\n",
    "0 & J_{1}(2) & 0 \\\\\n",
    "0 & 0 & J_{1}(2)\n",
    "\\end{pmatrix} =\n",
    "\\begin{pmatrix}\n",
    "2 & 1 & 0 & 0 \\\\\n",
    "0 & 2 & 0 & 0 \\\\\n",
    "0 & 0 & 2 & 0 \\\\\n",
    "0 & 0 & 0 & 2\n",
    "\\end{pmatrix}.\n",
    "$$"
   ]
  },
  {
   "cell_type": "code",
   "execution_count": 87,
   "metadata": {},
   "outputs": [
    {
     "data": {
      "text/plain": [
       "{x: -3*t/2 + y/2}"
      ]
     },
     "execution_count": 87,
     "metadata": {},
     "output_type": "execute_result"
    }
   ],
   "source": [
    "v1 = Matrix([x, y, z, t])\n",
    "solve(A * v1 - 2 * v1, [x, y, z, t])"
   ]
  },
  {
   "cell_type": "markdown",
   "metadata": {},
   "source": [
    "Setting $y = 2b$, $z = c$, and $t = 2a$, we get"
   ]
  },
  {
   "cell_type": "code",
   "execution_count": 88,
   "metadata": {},
   "outputs": [
    {
     "data": {
      "text/plain": [
       "{x: -c/2 - 3*t/2 + y/2, a: -c/2, b: c/2}"
      ]
     },
     "execution_count": 88,
     "metadata": {},
     "output_type": "execute_result"
    }
   ],
   "source": [
    "v1 = Matrix([-3 * a + b, 2 * b, c, 2 * a])\n",
    "v2 = Matrix([x, y, z, t])\n",
    "solve(A * v2 - v1 - 2 * v2, [x, y, z, t, a, b, c])"
   ]
  },
  {
   "cell_type": "markdown",
   "metadata": {},
   "source": [
    "So, setting $c = 2$ and $y = z = t = 0$, we get $a = -1$, $b = 1$, $x = -1$"
   ]
  },
  {
   "cell_type": "code",
   "execution_count": 89,
   "metadata": {},
   "outputs": [],
   "source": [
    "v1, v2, v3, v4 = Matrix([4, 2, 2, -2]), Matrix([-1, 0, 0, 0]), Matrix([-3, 0, 0, 2]), Matrix([1, 2, 0, 0]) # the last two are from v1 = Matrix([-3 * a + b, 2 * b, c, 2 * a]) with a = 1 and b = 1, other values 0 resp"
   ]
  },
  {
   "cell_type": "code",
   "execution_count": 90,
   "metadata": {},
   "outputs": [
    {
     "data": {
      "text/latex": [
       "$\\displaystyle \\left[\\begin{matrix}2 & 1 & 0 & 0\\\\0 & 2 & 0 & 0\\\\0 & 0 & 2 & 0\\\\0 & 0 & 0 & 2\\end{matrix}\\right]$"
      ],
      "text/plain": [
       "Matrix([\n",
       "[2, 1, 0, 0],\n",
       "[0, 2, 0, 0],\n",
       "[0, 0, 2, 0],\n",
       "[0, 0, 0, 2]])"
      ]
     },
     "execution_count": 90,
     "metadata": {},
     "output_type": "execute_result"
    }
   ],
   "source": [
    "P = Matrix([[4, -1, -3, 1], [2, 0, 0, 2], [2, 0, 0, 0], [-2, 0, 2, 0]])\n",
    "P ** -1 * A * P"
   ]
  }
 ],
 "metadata": {
  "kernelspec": {
   "display_name": "Python 3",
   "language": "python",
   "name": "python3"
  },
  "language_info": {
   "codemirror_mode": {
    "name": "ipython",
    "version": 3
   },
   "file_extension": ".py",
   "mimetype": "text/x-python",
   "name": "python",
   "nbconvert_exporter": "python",
   "pygments_lexer": "ipython3",
   "version": "3.9.8"
  }
 },
 "nbformat": 4,
 "nbformat_minor": 4
}
