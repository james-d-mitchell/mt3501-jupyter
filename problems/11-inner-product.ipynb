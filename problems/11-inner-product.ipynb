{
 "cells": [
  {
   "cell_type": "markdown",
   "metadata": {},
   "source": [
    "# MT3501 - Section 11 - Problem Sheet - Supplementary notebook\n",
    "# Inner product"
   ]
  },
  {
   "cell_type": "markdown",
   "metadata": {},
   "source": [
    "## Problem 6"
   ]
  },
  {
   "cell_type": "markdown",
   "metadata": {},
   "source": [
    " Consider the vector space $\\mathbb{R}^{3}$ with its usual inner product (given\n",
    " by the dot product).  Apply the Gram-Schmidt process to the following\n",
    " bases to produce orthonormal bases for $\\mathbb{R}^{3}$:\n",
    " \n",
    " \n",
    " **(a)** $\\left\\{ \\begin{pmatrix}\n",
    " -1 \\\\\n",
    " 1 \\\\\n",
    " 0 \\\\\n",
    " \\end{pmatrix}, \\begin{pmatrix}\n",
    " -1 \\\\\n",
    " 1 \\\\\n",
    " 1 \\\\\n",
    " \\end{pmatrix},\n",
    "     \\begin{pmatrix}\n",
    " 1 \\\\\n",
    " 1 \\\\\n",
    " 0 \\\\\n",
    " \\end{pmatrix} \\right\\}$; $\\qquad\\qquad$\n",
    "**(b)** $\\left\\{ \\begin{pmatrix}\n",
    " 1 \\\\\n",
    " 2 \\\\\n",
    " 1 \\\\\n",
    " \\end{pmatrix}, \\begin{pmatrix}\n",
    " -1 \\\\\n",
    " 2 \\\\\n",
    " 3 \\\\\n",
    " \\end{pmatrix},\n",
    "     \\begin{pmatrix}\n",
    " 1 \\\\\n",
    " 1 \\\\\n",
    " 3 \\\\\n",
    " \\end{pmatrix} \\right\\}$."
   ]
  },
  {
   "cell_type": "markdown",
   "metadata": {},
   "source": [
    "## Solution to Problem 6(a)"
   ]
  },
  {
   "cell_type": "code",
   "execution_count": 2,
   "metadata": {},
   "outputs": [],
   "source": [
    "from sympy import sqrt, Matrix\n",
    "import numpy\n",
    "def dot(x, y):\n",
    "    \"Computes the inner product of two of sympy's vectors\"\n",
    "    return numpy.dot(list(x), list(y))\n",
    "def norm(x):\n",
    "    \"Computes the norm of a sympy vector\"\n",
    "    return sqrt(dot(list(x), list(x)))"
   ]
  },
  {
   "cell_type": "code",
   "execution_count": 3,
   "metadata": {},
   "outputs": [],
   "source": [
    "v1, v2, v3 = Matrix([-1, 1, 0]), Matrix([-1, 1, 1]), Matrix([1, 1, 0])"
   ]
  },
  {
   "cell_type": "code",
   "execution_count": 5,
   "metadata": {},
   "outputs": [
    {
     "data": {
      "text/latex": [
       "$\\displaystyle \\left[\\begin{matrix}- \\frac{\\sqrt{2}}{2}\\\\\\frac{\\sqrt{2}}{2}\\\\0\\end{matrix}\\right]$"
      ],
      "text/plain": [
       "Matrix([\n",
       "[-sqrt(2)/2],\n",
       "[ sqrt(2)/2],\n",
       "[         0]])"
      ]
     },
     "execution_count": 5,
     "metadata": {},
     "output_type": "execute_result"
    }
   ],
   "source": [
    "e1 = 1 / norm(v1) * v1\n",
    "e1"
   ]
  },
  {
   "cell_type": "code",
   "execution_count": 8,
   "metadata": {},
   "outputs": [
    {
     "data": {
      "text/latex": [
       "$\\displaystyle \\left[\\begin{matrix}0\\\\0\\\\1\\end{matrix}\\right]$"
      ],
      "text/plain": [
       "Matrix([\n",
       "[0],\n",
       "[0],\n",
       "[1]])"
      ]
     },
     "execution_count": 8,
     "metadata": {},
     "output_type": "execute_result"
    }
   ],
   "source": [
    "w2 = v2 - dot(v2, e1) * e1\n",
    "w2"
   ]
  },
  {
   "cell_type": "code",
   "execution_count": 11,
   "metadata": {},
   "outputs": [
    {
     "data": {
      "text/latex": [
       "$\\displaystyle \\left[\\begin{matrix}0\\\\0\\\\1\\end{matrix}\\right]$"
      ],
      "text/plain": [
       "Matrix([\n",
       "[0],\n",
       "[0],\n",
       "[1]])"
      ]
     },
     "execution_count": 11,
     "metadata": {},
     "output_type": "execute_result"
    }
   ],
   "source": [
    "e2 = 1 / norm(w2) * w2\n",
    "e2"
   ]
  },
  {
   "cell_type": "code",
   "execution_count": 14,
   "metadata": {},
   "outputs": [
    {
     "data": {
      "text/latex": [
       "$\\displaystyle \\left[\\begin{matrix}1\\\\1\\\\0\\end{matrix}\\right]$"
      ],
      "text/plain": [
       "Matrix([\n",
       "[1],\n",
       "[1],\n",
       "[0]])"
      ]
     },
     "execution_count": 14,
     "metadata": {},
     "output_type": "execute_result"
    }
   ],
   "source": [
    "w3 = v3 - dot(v3, e1) * e1 - dot(v3, e2) * e2\n",
    "w3"
   ]
  },
  {
   "cell_type": "code",
   "execution_count": 16,
   "metadata": {},
   "outputs": [
    {
     "data": {
      "text/latex": [
       "$\\displaystyle \\left[\\begin{matrix}\\frac{\\sqrt{2}}{2}\\\\\\frac{\\sqrt{2}}{2}\\\\0\\end{matrix}\\right]$"
      ],
      "text/plain": [
       "Matrix([\n",
       "[sqrt(2)/2],\n",
       "[sqrt(2)/2],\n",
       "[        0]])"
      ]
     },
     "execution_count": 16,
     "metadata": {},
     "output_type": "execute_result"
    }
   ],
   "source": [
    "e3 = 1 / norm(w3) * w3\n",
    "e3"
   ]
  },
  {
   "cell_type": "code",
   "execution_count": 17,
   "metadata": {},
   "outputs": [
    {
     "data": {
      "text/plain": [
       "(1, 1, 1)"
      ]
     },
     "execution_count": 17,
     "metadata": {},
     "output_type": "execute_result"
    }
   ],
   "source": [
    "(norm(e1), norm(e2), norm(e3))"
   ]
  },
  {
   "cell_type": "code",
   "execution_count": 18,
   "metadata": {},
   "outputs": [
    {
     "data": {
      "text/plain": [
       "(0, 0, 0)"
      ]
     },
     "execution_count": 18,
     "metadata": {},
     "output_type": "execute_result"
    }
   ],
   "source": [
    "(dot(e1, e2), dot(e1, e3), dot(e2, e3))"
   ]
  },
  {
   "cell_type": "markdown",
   "metadata": {},
   "source": [
    "## Solution to Problem 6(b)"
   ]
  },
  {
   "cell_type": "code",
   "execution_count": 19,
   "metadata": {},
   "outputs": [],
   "source": [
    "from sympy import sqrt, Matrix\n",
    "import numpy\n",
    "def dot(x, y):\n",
    "    \"Computes the inner product of two of sympy's vectors\"\n",
    "    return numpy.dot(list(x), list(y))\n",
    "def norm(x):\n",
    "    \"Computes the norm of a sympy vector\"\n",
    "    return sqrt(dot(list(x), list(x)))"
   ]
  },
  {
   "cell_type": "code",
   "execution_count": 20,
   "metadata": {},
   "outputs": [],
   "source": [
    "v1, v2, v3 = Matrix([1, 2, 1]), Matrix([-1, 2, 3]), Matrix([1, 1, 3])"
   ]
  },
  {
   "cell_type": "code",
   "execution_count": 22,
   "metadata": {},
   "outputs": [
    {
     "data": {
      "text/latex": [
       "$\\displaystyle \\left[\\begin{matrix}\\frac{\\sqrt{6}}{6}\\\\\\frac{\\sqrt{6}}{3}\\\\\\frac{\\sqrt{6}}{6}\\end{matrix}\\right]$"
      ],
      "text/plain": [
       "Matrix([\n",
       "[sqrt(6)/6],\n",
       "[sqrt(6)/3],\n",
       "[sqrt(6)/6]])"
      ]
     },
     "execution_count": 22,
     "metadata": {},
     "output_type": "execute_result"
    }
   ],
   "source": [
    "e1 = 1 / norm(v1) * v1\n",
    "e1"
   ]
  },
  {
   "cell_type": "code",
   "execution_count": 25,
   "metadata": {},
   "outputs": [
    {
     "data": {
      "text/latex": [
       "$\\displaystyle \\left[\\begin{matrix}-2\\\\0\\\\2\\end{matrix}\\right]$"
      ],
      "text/plain": [
       "Matrix([\n",
       "[-2],\n",
       "[ 0],\n",
       "[ 2]])"
      ]
     },
     "execution_count": 25,
     "metadata": {},
     "output_type": "execute_result"
    }
   ],
   "source": [
    "w2 = v2 - dot(v2, e1) * e1\n",
    "w2"
   ]
  },
  {
   "cell_type": "code",
   "execution_count": 27,
   "metadata": {},
   "outputs": [
    {
     "data": {
      "text/latex": [
       "$\\displaystyle \\left[\\begin{matrix}- \\frac{\\sqrt{2}}{2}\\\\0\\\\\\frac{\\sqrt{2}}{2}\\end{matrix}\\right]$"
      ],
      "text/plain": [
       "Matrix([\n",
       "[-sqrt(2)/2],\n",
       "[         0],\n",
       "[ sqrt(2)/2]])"
      ]
     },
     "execution_count": 27,
     "metadata": {},
     "output_type": "execute_result"
    }
   ],
   "source": [
    "e2 = 1 / norm(w2) * w2\n",
    "e2"
   ]
  },
  {
   "cell_type": "code",
   "execution_count": 30,
   "metadata": {},
   "outputs": [
    {
     "data": {
      "text/latex": [
       "$\\displaystyle \\left[\\begin{matrix}1\\\\-1\\\\1\\end{matrix}\\right]$"
      ],
      "text/plain": [
       "Matrix([\n",
       "[ 1],\n",
       "[-1],\n",
       "[ 1]])"
      ]
     },
     "execution_count": 30,
     "metadata": {},
     "output_type": "execute_result"
    }
   ],
   "source": [
    "w3 = v3 - dot(v3, e1) * e1 - dot(v3, e2) * e2\n",
    "w3"
   ]
  },
  {
   "cell_type": "code",
   "execution_count": 32,
   "metadata": {},
   "outputs": [
    {
     "data": {
      "text/latex": [
       "$\\displaystyle \\left[\\begin{matrix}\\frac{\\sqrt{3}}{3}\\\\- \\frac{\\sqrt{3}}{3}\\\\\\frac{\\sqrt{3}}{3}\\end{matrix}\\right]$"
      ],
      "text/plain": [
       "Matrix([\n",
       "[ sqrt(3)/3],\n",
       "[-sqrt(3)/3],\n",
       "[ sqrt(3)/3]])"
      ]
     },
     "execution_count": 32,
     "metadata": {},
     "output_type": "execute_result"
    }
   ],
   "source": [
    "e3 = 1 / norm(w3) * w3\n",
    "e3"
   ]
  },
  {
   "cell_type": "code",
   "execution_count": 33,
   "metadata": {},
   "outputs": [
    {
     "data": {
      "text/plain": [
       "(1, 1, 1)"
      ]
     },
     "execution_count": 33,
     "metadata": {},
     "output_type": "execute_result"
    }
   ],
   "source": [
    "(norm(e1), norm(e2), norm(e3))"
   ]
  },
  {
   "cell_type": "code",
   "execution_count": 34,
   "metadata": {},
   "outputs": [
    {
     "data": {
      "text/plain": [
       "(0, 0, 0)"
      ]
     },
     "execution_count": 34,
     "metadata": {},
     "output_type": "execute_result"
    }
   ],
   "source": [
    "(dot(e1, e2), dot(e1, e3), dot(e2, e3))"
   ]
  },
  {
   "cell_type": "markdown",
   "metadata": {},
   "source": [
    "## Problem 7"
   ]
  },
  {
   "cell_type": "markdown",
   "metadata": {},
   "source": [
    " Let $\\mathcal{P}_{2}$ denote the inner product space of all\n",
    " polynomials over $\\mathbb{C}$ of degree at most $2$ with inner product given\n",
    " by\n",
    " \\[\n",
    " \\langle f,g \\rangle = \\int_{-1}^{1} f(x) \\overline{g(x)} \\, \\mathrm{d}x.\n",
    " \\]\n",
    " Apply the Gram-Schmidt process to the set $\\{ 1,x,x^{2} \\}$ to\n",
    " produce an ortonormal basis for $\\mathcal{P}_{2}$."
   ]
  },
  {
   "cell_type": "markdown",
   "metadata": {},
   "source": [
    "## Solution to Problem 7"
   ]
  },
  {
   "cell_type": "code",
   "execution_count": 35,
   "metadata": {},
   "outputs": [],
   "source": [
    "from sympy import integrate, sqrt\n",
    "from sympy.abc import x\n",
    "\n",
    "def dot(f, g):\n",
    "    return integrate(f * g, (x, -1, 1))\n",
    "def norm(f):\n",
    "    return sqrt(dot(f, f))"
   ]
  },
  {
   "cell_type": "code",
   "execution_count": 37,
   "metadata": {},
   "outputs": [
    {
     "data": {
      "text/latex": [
       "$\\displaystyle \\frac{\\sqrt{2}}{2}$"
      ],
      "text/plain": [
       "sqrt(2)/2"
      ]
     },
     "execution_count": 37,
     "metadata": {},
     "output_type": "execute_result"
    }
   ],
   "source": [
    "e1 = 1 / norm(1) * 1\n",
    "e1"
   ]
  },
  {
   "cell_type": "code",
   "execution_count": 40,
   "metadata": {},
   "outputs": [
    {
     "data": {
      "text/latex": [
       "$\\displaystyle x$"
      ],
      "text/plain": [
       "x"
      ]
     },
     "execution_count": 40,
     "metadata": {},
     "output_type": "execute_result"
    }
   ],
   "source": [
    "w2 = x - dot(x, e1) * e1\n",
    "w2"
   ]
  },
  {
   "cell_type": "code",
   "execution_count": 43,
   "metadata": {},
   "outputs": [
    {
     "data": {
      "text/latex": [
       "$\\displaystyle \\frac{\\sqrt{6} x}{2}$"
      ],
      "text/plain": [
       "sqrt(6)*x/2"
      ]
     },
     "execution_count": 43,
     "metadata": {},
     "output_type": "execute_result"
    }
   ],
   "source": [
    "e2 = 1 / norm(w2) * w2\n",
    "e2"
   ]
  },
  {
   "cell_type": "code",
   "execution_count": 46,
   "metadata": {},
   "outputs": [
    {
     "data": {
      "text/latex": [
       "$\\displaystyle x^{2} - \\frac{1}{3}$"
      ],
      "text/plain": [
       "x**2 - 1/3"
      ]
     },
     "execution_count": 46,
     "metadata": {},
     "output_type": "execute_result"
    }
   ],
   "source": [
    "w3 = x ** 2 - dot(x ** 2, e1) * e1 - dot(x ** 2, e2) * e2\n",
    "w3"
   ]
  },
  {
   "cell_type": "code",
   "execution_count": 48,
   "metadata": {},
   "outputs": [
    {
     "data": {
      "text/latex": [
       "$\\displaystyle \\frac{3 \\sqrt{10} \\left(x^{2} - \\frac{1}{3}\\right)}{4}$"
      ],
      "text/plain": [
       "3*sqrt(10)*(x**2 - 1/3)/4"
      ]
     },
     "execution_count": 48,
     "metadata": {},
     "output_type": "execute_result"
    }
   ],
   "source": [
    "e3 = 1 / norm(w3) * w3\n",
    "e3"
   ]
  },
  {
   "cell_type": "code",
   "execution_count": 49,
   "metadata": {},
   "outputs": [
    {
     "data": {
      "text/plain": [
       "(1, 1, 1)"
      ]
     },
     "execution_count": 49,
     "metadata": {},
     "output_type": "execute_result"
    }
   ],
   "source": [
    "(norm(e1), norm(e2), norm(e3))"
   ]
  },
  {
   "cell_type": "code",
   "execution_count": 50,
   "metadata": {},
   "outputs": [
    {
     "data": {
      "text/plain": [
       "(0, 0, 0)"
      ]
     },
     "execution_count": 50,
     "metadata": {},
     "output_type": "execute_result"
    }
   ],
   "source": [
    "(dot(e1, e2), dot(e1, e3), dot(e2, e3))"
   ]
  },
  {
   "cell_type": "markdown",
   "metadata": {},
   "source": [
    "## Problem 8"
   ]
  },
  {
   "cell_type": "markdown",
   "metadata": {},
   "source": [
    " Consider the space $\\mathcal{P}_{3}$ of complex polynomials of degree\n",
    " at most $3$ with inner product given by\n",
    "$$\n",
    " \\langle f,g \\rangle = \\int_{0}^{1} f(x)\\overline{g(x)} \\mathrm{d}x.\n",
    " $$\n",
    " Find an orthonormal basis for $\\mathcal{P}_{3}$ by applying the\n",
    " Gram-Schmidt process to the standard basis of monomials $\\{ 1, x,\n",
    " x^{2}, x^{3} \\}$."
   ]
  },
  {
   "cell_type": "markdown",
   "metadata": {},
   "source": [
    "## Solution to Problem 8"
   ]
  },
  {
   "cell_type": "code",
   "execution_count": 125,
   "metadata": {},
   "outputs": [],
   "source": [
    "from sympy import integrate, sqrt, simplify\n",
    "from sympy.abc import x\n",
    "\n",
    "def dot(f, g):\n",
    "    return integrate(f * g, (x, 0, 1))\n",
    "def norm(f):\n",
    "    return sqrt(dot(f, f))"
   ]
  },
  {
   "cell_type": "code",
   "execution_count": 126,
   "metadata": {},
   "outputs": [
    {
     "name": "stdout",
     "output_type": "stream",
     "text": [
      "1\n"
     ]
    }
   ],
   "source": [
    "e1 = 1 / norm(1) * 1\n",
    "print(e1)"
   ]
  },
  {
   "cell_type": "code",
   "execution_count": 127,
   "metadata": {},
   "outputs": [
    {
     "data": {
      "text/latex": [
       "$\\displaystyle x - \\frac{1}{2}$"
      ],
      "text/plain": [
       "x - 1/2"
      ]
     },
     "execution_count": 127,
     "metadata": {},
     "output_type": "execute_result"
    }
   ],
   "source": [
    "w2 = x - dot(x, e1) * e1\n",
    "w2"
   ]
  },
  {
   "cell_type": "code",
   "execution_count": 128,
   "metadata": {},
   "outputs": [
    {
     "name": "stdout",
     "output_type": "stream",
     "text": [
      "2*sqrt(3)*(x - 1/2)\n"
     ]
    }
   ],
   "source": [
    "e2 = 1 / norm(w2) * w2\n",
    "print(e2)"
   ]
  },
  {
   "cell_type": "code",
   "execution_count": 129,
   "metadata": {},
   "outputs": [
    {
     "data": {
      "text/latex": [
       "$\\displaystyle x^{2} - x + \\frac{1}{6}$"
      ],
      "text/plain": [
       "x**2 - x + 1/6"
      ]
     },
     "execution_count": 129,
     "metadata": {},
     "output_type": "execute_result"
    }
   ],
   "source": [
    "w3 = x ** 2 - dot(x ** 2, e1) * e1 - dot(x ** 2, e2) * e2\n",
    "w3"
   ]
  },
  {
   "cell_type": "code",
   "execution_count": 130,
   "metadata": {},
   "outputs": [
    {
     "name": "stdout",
     "output_type": "stream",
     "text": [
      "sqrt(5)*(6*x**2 - 6*x + 1)\n"
     ]
    }
   ],
   "source": [
    "e3 = 1 / norm(w3) * w3\n",
    "e3 = simplify(e3)\n",
    "print(e3)"
   ]
  },
  {
   "cell_type": "code",
   "execution_count": 131,
   "metadata": {},
   "outputs": [
    {
     "data": {
      "text/latex": [
       "$\\displaystyle x^{3} - \\frac{3 x^{2}}{2} + \\frac{3 x}{5} - \\frac{1}{20}$"
      ],
      "text/plain": [
       "x**3 - 3*x**2/2 + 3*x/5 - 1/20"
      ]
     },
     "execution_count": 131,
     "metadata": {},
     "output_type": "execute_result"
    }
   ],
   "source": [
    "w4 = x ** 3 - dot(x ** 3, e1) * e1 - dot(x ** 3, e2) * e2 - dot(x **3, e3) * e3\n",
    "w4 = simplify(w4)\n",
    "w4"
   ]
  },
  {
   "cell_type": "code",
   "execution_count": 132,
   "metadata": {},
   "outputs": [
    {
     "name": "stdout",
     "output_type": "stream",
     "text": [
      "sqrt(7)*(20*x**3 - 30*x**2 + 12*x - 1)\n"
     ]
    }
   ],
   "source": [
    "e4 = 1 / norm(w4) * w4\n",
    "e4 = simplify(e4)\n",
    "print(e4)"
   ]
  },
  {
   "cell_type": "code",
   "execution_count": 101,
   "metadata": {},
   "outputs": [
    {
     "data": {
      "text/plain": [
       "(1, 1, 1, 1)"
      ]
     },
     "execution_count": 101,
     "metadata": {},
     "output_type": "execute_result"
    }
   ],
   "source": [
    "(norm(e1), norm(e2), norm(e3), simplify(simplify(norm(e4))))"
   ]
  },
  {
   "cell_type": "code",
   "execution_count": 102,
   "metadata": {},
   "outputs": [
    {
     "data": {
      "text/plain": [
       "(0, 0, 0, 0, 0, 0)"
      ]
     },
     "execution_count": 102,
     "metadata": {},
     "output_type": "execute_result"
    }
   ],
   "source": [
    "dot(e1, e2), dot(e1, e3), dot(e2, e3), dot(e1, e4), dot(e2, e4), dot(e3, e4)"
   ]
  },
  {
   "cell_type": "markdown",
   "metadata": {},
   "source": [
    "## Problem 9"
   ]
  },
  {
   "cell_type": "markdown",
   "metadata": {},
   "source": [
    " Consider the vector space $\\mathbb{R}^{3}$.  Let\n",
    " $$\n",
    " \\vec{v} = \\begin{pmatrix}\n",
    " 0 \\\\\n",
    " 3 \\\\\n",
    " 1 \\\\\n",
    " \\end{pmatrix} \\qquad \\text{and} \\qquad U =\n",
    " \\operatorname{Span} \\left( \\begin{pmatrix}\n",
    " 1 \\\\\n",
    " 0 \\\\\n",
    " 1 \\\\\n",
    " \\end{pmatrix}, \\begin{pmatrix}\n",
    " -1 \\\\\n",
    " 2 \\\\\n",
    " -1 \\\\\n",
    " \\end{pmatrix}\n",
    " \\right).\n",
    " $$\n",
    " Determine the orthogonal complement $U^{\\perp}$.\n",
    " \n",
    " Find the vector in $U$ that is closest to $\\vec{v}$ and hence\n",
    " determine the distance from $\\vec{v}$ to $U$.\n"
   ]
  },
  {
   "cell_type": "markdown",
   "metadata": {},
   "source": [
    "## Solution to Problem 9"
   ]
  },
  {
   "cell_type": "code",
   "execution_count": 111,
   "metadata": {},
   "outputs": [],
   "source": [
    "from sympy import sqrt, Matrix, solve\n",
    "from sympy.abc import x, y, z, a, b, c\n",
    "import numpy\n",
    "def Matrix(*args):\n",
    "    return Matrix([[x] for x in args])\n",
    "def dot(x, y):\n",
    "    \"Computes the inner product of two of sympy's vectors\"\n",
    "    return numpy.dot(list(x), list(y))\n",
    "def norm(x):\n",
    "    \"Computes the norm of a sympy vector\"\n",
    "    return sqrt(dot(list(x), list(x)))"
   ]
  },
  {
   "cell_type": "code",
   "execution_count": 112,
   "metadata": {},
   "outputs": [],
   "source": [
    "u1, u2 = Matrix(1, 0, 1), Matrix(-1, 2, -1)"
   ]
  },
  {
   "cell_type": "code",
   "execution_count": 113,
   "metadata": {},
   "outputs": [
    {
     "data": {
      "text/plain": [
       "[(-z, y, z)]"
      ]
     },
     "execution_count": 113,
     "metadata": {},
     "output_type": "execute_result"
    }
   ],
   "source": [
    "w = Matrix(x, y, z)\n",
    "solve(dot(u1, w), [x, y, z])"
   ]
  },
  {
   "cell_type": "code",
   "execution_count": 114,
   "metadata": {},
   "outputs": [
    {
     "data": {
      "text/plain": [
       "[(0, z)]"
      ]
     },
     "execution_count": 114,
     "metadata": {},
     "output_type": "execute_result"
    }
   ],
   "source": [
    "w = Matrix(-z, y, z)\n",
    "solve(dot(u2, w), [y, z])"
   ]
  },
  {
   "cell_type": "code",
   "execution_count": 115,
   "metadata": {},
   "outputs": [
    {
     "data": {
      "text/plain": [
       "(0, 0)"
      ]
     },
     "execution_count": 115,
     "metadata": {},
     "output_type": "execute_result"
    }
   ],
   "source": [
    "w = Matrix(-1, 0, 1)\n",
    "dot(u2, w), dot(u1, w)"
   ]
  },
  {
   "cell_type": "markdown",
   "metadata": {},
   "source": [
    "Hence $U ^ {\\perp} = \\operatorname{Span}\\begin{pmatrix} -1 \\\\ 0 \\\\ 1 \\end{pmatrix}$. We must express $\\vec{v}$ as a linear combination of $\\vec{u}_1, \\vec{u}_2$, and $\\vec{w}$."
   ]
  },
  {
   "cell_type": "code",
   "execution_count": 117,
   "metadata": {},
   "outputs": [
    {
     "data": {
      "text/plain": [
       "{a: 2, b: 3/2, c: 1/2}"
      ]
     },
     "execution_count": 117,
     "metadata": {},
     "output_type": "execute_result"
    }
   ],
   "source": [
    "v = Matrix(0, 3, 1)\n",
    "solve(a * u1 + b * u2 + c * w - v, [a, b, c])"
   ]
  },
  {
   "cell_type": "markdown",
   "metadata": {},
   "source": [
    "Hence $\\vec{v} = 2u_1  + \\frac{3}{2}u_2 + \\frac{1}{2}w$ and so the closest vector in $U$ to $\\vec{v}$ is $2u_1  + \\frac{3}{2}u_2$"
   ]
  },
  {
   "cell_type": "code",
   "execution_count": 119,
   "metadata": {},
   "outputs": [
    {
     "data": {
      "text/latex": [
       "$\\displaystyle \\left[\\begin{matrix}0.5\\\\3.0\\\\0.5\\end{matrix}\\right]$"
      ],
      "text/plain": [
       "Matrix([\n",
       "[0.5],\n",
       "[3.0],\n",
       "[0.5]])"
      ]
     },
     "execution_count": 119,
     "metadata": {},
     "output_type": "execute_result"
    }
   ],
   "source": [
    "2 * u1 + (3 / 2) * u2"
   ]
  },
  {
   "cell_type": "code",
   "execution_count": 121,
   "metadata": {},
   "outputs": [
    {
     "data": {
      "text/latex": [
       "$\\displaystyle 0.707106781186548$"
      ],
      "text/plain": [
       "0.707106781186548"
      ]
     },
     "execution_count": 121,
     "metadata": {},
     "output_type": "execute_result"
    }
   ],
   "source": [
    "norm(_ - v)"
   ]
  },
  {
   "cell_type": "code",
   "execution_count": 122,
   "metadata": {},
   "outputs": [
    {
     "data": {
      "text/plain": [
       "0.7071067811865476"
      ]
     },
     "execution_count": 122,
     "metadata": {},
     "output_type": "execute_result"
    }
   ],
   "source": [
    "float(1 / sqrt(2))"
   ]
  },
  {
   "cell_type": "markdown",
   "metadata": {},
   "source": [
    "## Problem 10"
   ]
  },
  {
   "cell_type": "markdown",
   "metadata": {},
   "source": [
    " Let $\\mathcal{P}_{3}$ be the space of complex polynomials of degree at\n",
    " most $3$ and $U = \\mathcal{P}_{1}$ be the subspace of polynomials of\n",
    " degree at most $1$.  Consider the following inner produce\n",
    " $$\n",
    " \\langle f,g \\rangle = \\int_{0}^{1} f(x)\\overline{g(x)} \\, \\mathrm{d}x.\n",
    " $$\n",
    " Determine the orthogonal complement $U^{\\perp}$ with respect to this\n",
    " inner product.\n",
    " \n",
    " Find the polynomial in $U$ that is closest to $x^{3}$ with respect to\n",
    " the norm determined by this inner product and hence determine the\n",
    " distance from $x^{3}$ to $U$."
   ]
  },
  {
   "cell_type": "markdown",
   "metadata": {},
   "source": [
    "## Solution to Problem 10"
   ]
  },
  {
   "cell_type": "code",
   "execution_count": 2,
   "metadata": {},
   "outputs": [],
   "source": [
    "from math import sqrt # we're going to use sqrt from math instead of from sympy, because this problem doesn't seem to be solvable symbolically. \n",
    "from sympy import integrate, solve\n",
    "from sympy.abc import x, a, b, c, d\n",
    "\n",
    "def dot(f, g):\n",
    "    return integrate(f * g, (x, 0, 1))\n",
    "def norm(f):\n",
    "    return sqrt(dot(f, f))"
   ]
  },
  {
   "cell_type": "markdown",
   "metadata": {},
   "source": [
    "We showed in Problem 8 that the following form an orthonormal basis for $\\mathcal{P}_3$:"
   ]
  },
  {
   "cell_type": "code",
   "execution_count": 3,
   "metadata": {},
   "outputs": [],
   "source": [
    "e1, e2, e3, e4 = 1, 2*sqrt(3)*(x - 1/2), sqrt(5)*(6*x**2 - 6*x + 1), sqrt(7)*(20*x**3 - 30*x**2 + 12*x - 1)"
   ]
  },
  {
   "cell_type": "markdown",
   "metadata": {},
   "source": [
    "It's clear that $\\operatorname{Span}(e_1, e_2) = U = \\mathcal{P}_1$ and so $U ^ {\\perp} = \\operatorname{Span}(e_3, e_4)$."
   ]
  },
  {
   "cell_type": "markdown",
   "metadata": {},
   "source": [
    "We must write $x ^ 3$ as a linear combo of $e_1, e_2, e_3, e_4$:"
   ]
  },
  {
   "cell_type": "code",
   "execution_count": 4,
   "metadata": {},
   "outputs": [
    {
     "data": {
      "text/plain": [
       "{a: 0.250000000000000,\n",
       " b: 0.259807621135332,\n",
       " c: 0.111803398874990,\n",
       " d: 0.0188982236504614}"
      ]
     },
     "execution_count": 4,
     "metadata": {},
     "output_type": "execute_result"
    }
   ],
   "source": [
    "s = solve(a * e1 + b * e2 + c * e3 + d * e4 - x ** 3, [a, b, c, d])\n",
    "s"
   ]
  },
  {
   "cell_type": "code",
   "execution_count": 5,
   "metadata": {},
   "outputs": [
    {
     "data": {
      "text/latex": [
       "$\\displaystyle 0.900000000000001 x - 0.2$"
      ],
      "text/plain": [
       "0.900000000000001*x - 0.2"
      ]
     },
     "execution_count": 5,
     "metadata": {},
     "output_type": "execute_result"
    }
   ],
   "source": [
    "s[a] * e1 + s[b] * e2"
   ]
  },
  {
   "cell_type": "code",
   "execution_count": 6,
   "metadata": {},
   "outputs": [
    {
     "data": {
      "text/plain": [
       "0.11338934190276836"
      ]
     },
     "execution_count": 6,
     "metadata": {},
     "output_type": "execute_result"
    }
   ],
   "source": [
    "norm(s[a] * e1 + s[b] * e2 - x ** 3)"
   ]
  },
  {
   "cell_type": "code",
   "execution_count": 8,
   "metadata": {},
   "outputs": [
    {
     "data": {
      "text/plain": [
       "0.11338934190276817"
      ]
     },
     "execution_count": 8,
     "metadata": {},
     "output_type": "execute_result"
    }
   ],
   "source": [
    "3 / (10* sqrt(7))"
   ]
  }
 ],
 "metadata": {
  "kernelspec": {
   "display_name": "Python 3",
   "language": "python",
   "name": "python3"
  },
  "language_info": {
   "codemirror_mode": {
    "name": "ipython",
    "version": 3
   },
   "file_extension": ".py",
   "mimetype": "text/x-python",
   "name": "python",
   "nbconvert_exporter": "python",
   "pygments_lexer": "ipython3",
   "version": "3.9.8"
  }
 },
 "nbformat": 4,
 "nbformat_minor": 4
}
