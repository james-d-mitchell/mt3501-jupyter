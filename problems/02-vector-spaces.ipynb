{
 "cells": [
  {
   "cell_type": "markdown",
   "metadata": {},
   "source": [
    "# MT3501 - Section 2 - Problem Sheet - Supplementary notebook\n",
    "# Vector spaces"
   ]
  },
  {
   "cell_type": "markdown",
   "metadata": {},
   "source": [
    "## [FAQs](faq.ipynb)"
   ]
  },
  {
   "cell_type": "markdown",
   "metadata": {},
   "source": [
    "## Some preamble that you can largely ignore"
   ]
  },
  {
   "cell_type": "code",
   "execution_count": 1,
   "metadata": {},
   "outputs": [],
   "source": [
    "from sympy import Matrix"
   ]
  },
  {
   "cell_type": "markdown",
   "metadata": {},
   "source": [
    "## Problem 4"
   ]
  },
  {
   "cell_type": "markdown",
   "metadata": {},
   "source": [
    "Suppose that\n",
    "$$\n",
    "W = \n",
    "\\left\\{ \n",
    "\\begin{pmatrix} \n",
    "    x+y-z \\\\\n",
    "\ty-x+z \\\\\n",
    "\t2x    \\\\\n",
    "\\end{pmatrix} \n",
    "\\biggm | \n",
    "x,y,z \\in \\mathbb{R} \n",
    "\\right\\}.\n",
    "$$"
   ]
  },
  {
   "cell_type": "markdown",
   "metadata": {},
   "source": [
    "### Problem 4(b)\n",
    "\n",
    "Show that\n",
    "$$ \\mathcal{A} =   \n",
    "        \\left\\{ \\begin{pmatrix} 1 \\\\\n",
    "          -1 \\\\\n",
    "          2 \\\\\n",
    "        \\end{pmatrix}, \\begin{pmatrix} 1 \\\\\n",
    "          1 \\\\\n",
    "          0 \\\\\n",
    "        \\end{pmatrix},\n",
    "        \\begin{pmatrix} -1 \\\\\n",
    "          1 \\\\\n",
    "          0 \\\\\n",
    "        \\end{pmatrix} \\right\\}\n",
    "$$\n",
    "is a spanning set for $W$.  Is $\\mathcal{A}$ linearly independent?  "
   ]
  },
  {
   "cell_type": "markdown",
   "metadata": {},
   "source": [
    "### Solution 4(b)\n",
    "\n",
    "It is shown in the solutions that the set $\\mathcal{A}$ spans $W$. We determine whether or not $\\mathcal{A}$ is linearly independent.\n",
    "\n",
    "#### Step 1: import the relevant bits of sympy"
   ]
  },
  {
   "cell_type": "code",
   "execution_count": 2,
   "metadata": {},
   "outputs": [],
   "source": [
    "from sympy import solve\n",
    "from sympy.abc import a, b, c"
   ]
  },
  {
   "cell_type": "markdown",
   "metadata": {},
   "source": [
    "#### Step 2:  check linear independence\n",
    "\n",
    "The set $\\mathcal{A}$ is linearly independent if and only if the only solution to the equation\n",
    "\\begin{equation}\\label{eq-4-b}\n",
    "a \\begin{pmatrix} 1 \\\\\n",
    "          -1 \\\\\n",
    "          2 \\\\\n",
    "        \\end{pmatrix} + b \\begin{pmatrix} 1 \\\\\n",
    "          1 \\\\\n",
    "          0 \\\\\n",
    "        \\end{pmatrix} + c \n",
    "        \\begin{pmatrix} -1 \\\\\n",
    "          1 \\\\\n",
    "          0 \\\\\n",
    "        \\end{pmatrix} = \\begin{pmatrix} 0 \\\\ 0 \\\\ 0\\end{pmatrix}\n",
    "        \\end{equation} \n",
    " is $a = b = c = 0$.\n",
    "\n",
    "Assign the variable $A$ to equal the left hand side of (1):"
   ]
  },
  {
   "cell_type": "code",
   "execution_count": 3,
   "metadata": {},
   "outputs": [],
   "source": [
    "A = a * Matrix([1, -1, 2]) + b * Matrix([1, 1, 0]) + c * Matrix([-1, 1, 0])"
   ]
  },
  {
   "cell_type": "markdown",
   "metadata": {},
   "source": [
    "Solve equation (1):"
   ]
  },
  {
   "cell_type": "code",
   "execution_count": 4,
   "metadata": {},
   "outputs": [
    {
     "data": {
      "text/plain": [
       "{a: 0, b: 0, c: 0}"
      ]
     },
     "execution_count": 4,
     "metadata": {},
     "output_type": "execute_result"
    }
   ],
   "source": [
    "solve(A, [a, b, c])"
   ]
  },
  {
   "cell_type": "markdown",
   "metadata": {},
   "source": [
    "Hence the only solution is when $a = b = c = 0$ and so $\\mathcal{A}$ is linearly independent."
   ]
  },
  {
   "cell_type": "markdown",
   "metadata": {
    "heading_collapsed": true
   },
   "source": [
    "## Problem 6"
   ]
  },
  {
   "cell_type": "markdown",
   "metadata": {
    "hidden": true
   },
   "source": [
    "Let\n",
    "$$\n",
    "\\vec{v}_{1} = \\begin{pmatrix} 2 \\\\\n",
    " 1 \\\\\n",
    " 0 \\\\\n",
    " -1 \\\\\n",
    " \\end{pmatrix},\\quad \n",
    " \\vec{v}_{2} = \\begin{pmatrix} 4 \\\\\n",
    " 8 \\\\\n",
    " -4 \\\\\n",
    " -3 \\\\\n",
    " \\end{pmatrix},\\quad\n",
    "\\vec{v}_{3} = \\begin{pmatrix} 1 \\\\\n",
    " -3 \\\\\n",
    " 2 \\\\\n",
    " 0 \\\\\n",
    " \\end{pmatrix},\\quad\n",
    "\\vec{v}_{4} = \\begin{pmatrix} 1 \\\\\n",
    " 10 \\\\\n",
    " -6 \\\\\n",
    " -2 \\\\\n",
    " \\end{pmatrix},\\quad \n",
    " \\vec{v}_{5} = \\begin{pmatrix} -2 \\\\\n",
    " 0 \\\\\n",
    " 6 \\\\\n",
    " 1 \\\\\n",
    " \\end{pmatrix},\\quad\n",
    "\\vec{v}_{6} = \\begin{pmatrix} 3 \\\\\n",
    " -1 \\\\\n",
    " 2 \\\\\n",
    " 4 \\\\\n",
    "\\end{pmatrix}\n",
    "$$\n",
    "\n",
    "be six vectors in the vector space $\\mathbb{R}^{4}$. Let $U =\n",
    "\\operatorname{Span}(\\vec{v}_{1},\\vec{v}_{2},\\vec{v}_{3},\\vec{v}_{4})$ and $W =\n",
    "\\operatorname{Span}{\\vec{v}_{4},\\vec{v}_{5},\\vec{v}_{6}}$."
   ]
  },
  {
   "cell_type": "markdown",
   "metadata": {
    "hidden": true
   },
   "source": [
    "Define the vectors in the question (as lists, not vector objects):"
   ]
  },
  {
   "cell_type": "code",
   "execution_count": 5,
   "metadata": {
    "hidden": true
   },
   "outputs": [],
   "source": [
    "v1, v2, v3, v4, v5, v6 = [2, 1, 0, -1], [4, 8, -4, -3], [1, -3, 2, 0], [1, 10, -6, -2], [-2, 0, 6, 1], [3, -1, 2, 4]"
   ]
  },
  {
   "cell_type": "markdown",
   "metadata": {
    "hidden": true
   },
   "source": [
    "### Problem 6(a)\n",
    "\n",
    "Determine the dimension of $U$."
   ]
  },
  {
   "cell_type": "markdown",
   "metadata": {
    "hidden": true
   },
   "source": [
    "### Solution 6(a)\n",
    "\n",
    "Make a matrix with the vectors spanning $U$ as the rows (or columns) and compute the rank of that matrix. Recall that the rank of a matrix equals the dimension of the subspace spanned by its rows."
   ]
  },
  {
   "cell_type": "code",
   "execution_count": 6,
   "metadata": {
    "hidden": true
   },
   "outputs": [
    {
     "data": {
      "text/plain": [
       "3"
      ]
     },
     "execution_count": 6,
     "metadata": {},
     "output_type": "execute_result"
    }
   ],
   "source": [
    "Matrix([v1, v2, v3, v4]).rank()"
   ]
  },
  {
   "cell_type": "markdown",
   "metadata": {
    "hidden": true
   },
   "source": [
    "Hence $\\operatorname{dim}(U) = 3$."
   ]
  },
  {
   "cell_type": "markdown",
   "metadata": {
    "hidden": true
   },
   "source": [
    "### Problem 6(b)\n",
    "\n",
    "Determine the dimension of $W$."
   ]
  },
  {
   "cell_type": "markdown",
   "metadata": {
    "hidden": true
   },
   "source": [
    "### Solution 6(b)\n",
    "\n",
    "This is uses the same method as the Solution 6(a):"
   ]
  },
  {
   "cell_type": "code",
   "execution_count": 7,
   "metadata": {
    "hidden": true
   },
   "outputs": [
    {
     "data": {
      "text/plain": [
       "3"
      ]
     },
     "execution_count": 7,
     "metadata": {},
     "output_type": "execute_result"
    }
   ],
   "source": [
    "Matrix([v4, v5, v6]).rank()"
   ]
  },
  {
   "cell_type": "markdown",
   "metadata": {
    "hidden": true
   },
   "source": [
    "Hence $\\operatorname{dim}(W) = 3$."
   ]
  },
  {
   "cell_type": "markdown",
   "metadata": {
    "hidden": true
   },
   "source": [
    "### Problem 6(c)\n",
    "\n",
    "Determine the dimension of $U + W$."
   ]
  },
  {
   "cell_type": "markdown",
   "metadata": {
    "hidden": true
   },
   "source": [
    "### Solution 6(c)\n",
    "\n",
    "Since $\\{\\vec{v}_1, \\vec{v}_2, \\vec{v}_3, \\vec{v}_4\\}$ and $\\{\\vec{v}_4, \\vec{v}_5, \\vec{v}_6\\}$ span $U$ and $W$, respectively, it follows, by Problem 5(a) on Sheet I, that $\\{\\vec{v}_1, \\vec{v}_2, \\vec{v}_3, \\vec{v}_4, \\vec{v}_5, \\vec{v}_6\\}$ spans $U + W$. Hence to compute the dimension of $U + W$, we may repeat the method used in the solutions to parts (b) and (c):"
   ]
  },
  {
   "cell_type": "code",
   "execution_count": 8,
   "metadata": {
    "hidden": true
   },
   "outputs": [
    {
     "data": {
      "text/plain": [
       "4"
      ]
     },
     "execution_count": 8,
     "metadata": {},
     "output_type": "execute_result"
    }
   ],
   "source": [
    "Matrix([v1, v2, v3, v4, v5, v6]).rank()"
   ]
  },
  {
   "cell_type": "markdown",
   "metadata": {
    "hidden": true
   },
   "source": [
    "Hence $\\operatorname{dim}(U + W) = 4$, and so $U + W = \\mathbb{R} ^ 4$."
   ]
  },
  {
   "cell_type": "markdown",
   "metadata": {
    "hidden": true
   },
   "source": [
    "### Alternative Solution 6(c)"
   ]
  },
  {
   "cell_type": "markdown",
   "metadata": {
    "hidden": true
   },
   "source": [
    "Since $U + W$ is a subspace of $\\mathbb{R} ^ 4$, it follows that $\\operatorname{dim}(U + W) \\leq \\operatorname{dim}(\\mathbb{R} ^ 4) = 4$. On the other hand, $U$ is a subspace of $U + W$ and so $\\operatorname{dim}(U + W) \\geq \\operatorname{dim}(U) = 3$. Therefore $\\operatorname{dim}(U + W) = 3$ or $4$. "
   ]
  },
  {
   "cell_type": "markdown",
   "metadata": {
    "hidden": true
   },
   "source": [
    "We will show that $\\vec{v}_5\\not\\in U = \\operatorname{Span}(\\vec{v}_1, \\vec{v}_2, \\vec{v}_3, \\vec{v}_4)$. If $v_5 \\in U$, then there exist $a, b, c, d \\in \\mathbb{R}$ such that \n",
    "\n",
    "$$\\vec{v}_5 = \\begin{pmatrix} -2 \\\\\n",
    " 0 \\\\\n",
    " 6 \\\\\n",
    " 1 \\\\\n",
    " \\end{pmatrix} = a \\vec{v}_1 + b \\vec{v}_2 + c \\vec{v}_3 + d \\vec{v}_4 = \n",
    " a\\begin{pmatrix} 2 \\\\\n",
    " 1 \\\\\n",
    " 0 \\\\\n",
    " -1 \\\\\n",
    " \\end{pmatrix} + \n",
    " b \\begin{pmatrix} 4 \\\\\n",
    " 8 \\\\\n",
    " -4 \\\\\n",
    " -3 \\\\\n",
    " \\end{pmatrix} + \n",
    "c \\begin{pmatrix} 1 \\\\\n",
    " -3 \\\\\n",
    " 2 \\\\\n",
    " 0 \\\\\n",
    " \\end{pmatrix}\n",
    "+ d \\begin{pmatrix} 1 \\\\\n",
    " 10 \\\\\n",
    " -6 \\\\\n",
    " -2 \\\\\n",
    " \\end{pmatrix} \n",
    " = \n",
    " \\begin{pmatrix}\n",
    " 2 & 4 & 1 & 1 \\\\\n",
    " 1 & 8 & -3 & 10 \\\\\n",
    " 0 & -4 & 2 & -6 \\\\\n",
    " -1 & -3 & 0 & -2\n",
    " \\end{pmatrix}\n",
    " \\begin{pmatrix}\n",
    " a \\\\\n",
    " b \\\\\n",
    " c \\\\\n",
    " d \n",
    " \\end{pmatrix}.\n",
    " $$\n",
    " \n",
    " In other words, there exist $a, b, c, d \\in \\mathbb{R}$ which are not all zero, such that\n",
    " \n",
    " $$\n",
    " \\begin{pmatrix}\n",
    " 2 & 4 & 1 & 1 \\\\\n",
    " 1 & 8 & -3 & 10 \\\\\n",
    " 0 & -4 & 2 & -6 \\\\\n",
    " -1 & -3 & 0 & -2\n",
    " \\end{pmatrix}\n",
    " \\begin{pmatrix}\n",
    " a \\\\\n",
    " b \\\\\n",
    " c \\\\\n",
    " d \n",
    " \\end{pmatrix}\n",
    " - \n",
    " \\begin{pmatrix} -2 \\\\\n",
    " 0 \\\\\n",
    " 6 \\\\\n",
    " 1 \\\\\n",
    " \\end{pmatrix}\n",
    " = \\begin{pmatrix} \n",
    " 0 \\\\\n",
    " 0 \\\\\n",
    " 0 \\\\\n",
    " 0\n",
    " \\end{pmatrix}.\n",
    " $$ "
   ]
  },
  {
   "cell_type": "code",
   "execution_count": 9,
   "metadata": {
    "hidden": true
   },
   "outputs": [],
   "source": [
    "from sympy import solve\n",
    "from sympy.abc import a, b, c, d"
   ]
  },
  {
   "cell_type": "markdown",
   "metadata": {
    "hidden": true
   },
   "source": [
    "The left hand side of the above equations is then:"
   ]
  },
  {
   "cell_type": "code",
   "execution_count": 10,
   "metadata": {
    "hidden": true
   },
   "outputs": [],
   "source": [
    "A = Matrix([[2, 4, 1, 1], [1, 8, -3, 10], [0, -4, 2, -6], [-1, -3, 0, -2]]) * Matrix([a, b, c, d]) - Matrix([-2, 0, 6, 1])"
   ]
  },
  {
   "cell_type": "code",
   "execution_count": 11,
   "metadata": {
    "hidden": true
   },
   "outputs": [
    {
     "data": {
      "text/latex": [
       "$\\displaystyle \\left[\\begin{matrix}2 a + 4 b + c + d + 2\\\\a + 8 b - 3 c + 10 d\\\\- 4 b + 2 c - 6 d - 6\\\\- a - 3 b - 2 d - 1\\end{matrix}\\right]$"
      ],
      "text/plain": [
       "Matrix([\n",
       "[2*a + 4*b + c + d + 2],\n",
       "[ a + 8*b - 3*c + 10*d],\n",
       "[ -4*b + 2*c - 6*d - 6],\n",
       "[   -a - 3*b - 2*d - 1]])"
      ]
     },
     "execution_count": 11,
     "metadata": {},
     "output_type": "execute_result"
    }
   ],
   "source": [
    "A"
   ]
  },
  {
   "cell_type": "code",
   "execution_count": 12,
   "metadata": {
    "hidden": true
   },
   "outputs": [
    {
     "data": {
      "text/plain": [
       "[]"
      ]
     },
     "execution_count": 12,
     "metadata": {},
     "output_type": "execute_result"
    }
   ],
   "source": [
    "solve(A, [a, b, c, d])"
   ]
  },
  {
   "cell_type": "markdown",
   "metadata": {
    "hidden": true
   },
   "source": [
    "This means that there are no solutions to:\n",
    "$$\n",
    "\\begin{pmatrix}\n",
    "2𝑎+4𝑏+𝑐+𝑑+2 \\\\\n",
    "𝑎+8𝑏−3𝑐+10𝑑 \\\\\n",
    "−4𝑏+2𝑐−6𝑑−6 \\\\\n",
    "−𝑎−3𝑏−2𝑑−1\n",
    "\\end{pmatrix} \n",
    "= \n",
    "\\begin{pmatrix} \n",
    " 0 \\\\\n",
    " 0 \\\\\n",
    " 0 \\\\\n",
    " 0\n",
    " \\end{pmatrix},\n",
    "$$\n",
    "\n",
    "and so $\\vec{v}_5\\not\\in \\operatorname{Span}(v_1, v_2, v_3, v_4) = U$. Hence $\\dim U + W \\not=3$ and so by a process of elimination $\\dim U + W = 4$."
   ]
  },
  {
   "cell_type": "markdown",
   "metadata": {
    "heading_collapsed": true
   },
   "source": [
    "## Problem 7"
   ]
  },
  {
   "cell_type": "markdown",
   "metadata": {
    "heading_collapsed": true,
    "hidden": true
   },
   "source": [
    "### Problem 7(a)\n",
    "\n",
    "If \n",
    "$ \\displaystyle \\mathscr{A} =\\left\\{ \\begin{pmatrix} 2 \\\\\n",
    " -1 \\\\\n",
    " 2 \\\\\n",
    " \\end{pmatrix},\n",
    "    \\begin{pmatrix} 1 \\\\\n",
    " 1 \\\\\n",
    " 3 \\\\\n",
    " \\end{pmatrix}, \\begin{pmatrix} 0 \\\\\n",
    " 1 \\\\\n",
    " 1 \\\\\n",
    " \\end{pmatrix}, \\begin{pmatrix} 4 \\\\\n",
    " -1 \\\\\n",
    " 3 \\\\\n",
    " \\end{pmatrix}\n",
    "  \\right\\}\n",
    "$, find a subset $\\mathscr{B}$ of $\\mathscr{A}$ that is a basis for $U = \\operatorname{Span}(\\mathscr{A})$."
   ]
  },
  {
   "cell_type": "markdown",
   "metadata": {
    "heading_collapsed": true,
    "hidden": true
   },
   "source": [
    "### Solution 7(a)"
   ]
  },
  {
   "cell_type": "markdown",
   "metadata": {
    "hidden": true
   },
   "source": [
    "Import the relevant python stuff"
   ]
  },
  {
   "cell_type": "code",
   "execution_count": 13,
   "metadata": {
    "hidden": true
   },
   "outputs": [],
   "source": [
    "from sympy import Matrix"
   ]
  },
  {
   "cell_type": "markdown",
   "metadata": {
    "hidden": true
   },
   "source": [
    "We will denote the 4 vectors in $\\mathscr{A}$ by $\\vec{v}_1, \\vec{v}_2, \\vec{v}_3$, and $\\vec{v}_4$. We define the vectors (as lists, not vectors):"
   ]
  },
  {
   "cell_type": "code",
   "execution_count": 14,
   "metadata": {
    "hidden": true
   },
   "outputs": [],
   "source": [
    "v1, v2, v3, v4 = [2, -1, 2], [1, 1, 3], [0, 1, 1], [4, -1, 3]"
   ]
  },
  {
   "cell_type": "markdown",
   "metadata": {
    "hidden": true
   },
   "source": [
    "We know that these vectors are not linearly independent, because $\\operatorname{dim} \\mathbb{R} ^ 3 = 3$ and there are $4$ vectors. \n",
    "\n",
    "Let's doublecheck this though, by making a matrix with rows equal to $\\vec{v}_1$, $\\vec{v}_2$, $\\vec{v}_3$, and $\\vec{v}_4$, and computing its rank (which equals the dimension of the rowspace which equals $\\operatorname{Span}(\\vec{v}_1, \\vec{v}_2, \\vec{v}_3, \\vec{v}_4)$)."
   ]
  },
  {
   "cell_type": "code",
   "execution_count": 15,
   "metadata": {
    "hidden": true
   },
   "outputs": [
    {
     "data": {
      "text/plain": [
       "3"
      ]
     },
     "execution_count": 15,
     "metadata": {},
     "output_type": "execute_result"
    }
   ],
   "source": [
    "Matrix([v1, v2, v3, v4]).rank()"
   ]
  },
  {
   "cell_type": "markdown",
   "metadata": {
    "hidden": true
   },
   "source": [
    "It follows that $\\operatorname{dim}(\\mathscr{A}) = 3$. So, if we can find a subset $\\mathscr{B}$ of $\\mathscr{A}$ such that $|\\mathscr{B}| = 3$ and the rank of the matrix whose rows (or columns) are the vectors in $\\mathscr{B}$, then $\\mathscr{B}$ is a basis for $\\operatorname{Span}(\\mathscr{A})$. "
   ]
  },
  {
   "cell_type": "code",
   "execution_count": 16,
   "metadata": {
    "hidden": true
   },
   "outputs": [
    {
     "data": {
      "text/plain": [
       "3"
      ]
     },
     "execution_count": 16,
     "metadata": {},
     "output_type": "execute_result"
    }
   ],
   "source": [
    "Matrix([v1, v2, v3]).rank()"
   ]
  },
  {
   "cell_type": "markdown",
   "metadata": {
    "hidden": true
   },
   "source": [
    "So, one choice for $\\mathscr{B}$ is $\\{\\vec{v}_1, \\vec{v}_2, \\vec{v}_3\\}$. "
   ]
  },
  {
   "cell_type": "markdown",
   "metadata": {
    "hidden": true
   },
   "source": [
    "Just out of interest, let's see which other subsets work too:"
   ]
  },
  {
   "cell_type": "code",
   "execution_count": 17,
   "metadata": {
    "hidden": true
   },
   "outputs": [
    {
     "data": {
      "text/plain": [
       "3"
      ]
     },
     "execution_count": 17,
     "metadata": {},
     "output_type": "execute_result"
    }
   ],
   "source": [
    "Matrix([v1, v2, v4]).rank()"
   ]
  },
  {
   "cell_type": "code",
   "execution_count": 18,
   "metadata": {
    "hidden": true
   },
   "outputs": [
    {
     "data": {
      "text/plain": [
       "3"
      ]
     },
     "execution_count": 18,
     "metadata": {},
     "output_type": "execute_result"
    }
   ],
   "source": [
    "Matrix([v1, v3, v4]).rank()"
   ]
  },
  {
   "cell_type": "code",
   "execution_count": 19,
   "metadata": {
    "hidden": true
   },
   "outputs": [
    {
     "data": {
      "text/plain": [
       "3"
      ]
     },
     "execution_count": 19,
     "metadata": {},
     "output_type": "execute_result"
    }
   ],
   "source": [
    "Matrix([v2, v3, v4]).rank()"
   ]
  },
  {
   "cell_type": "markdown",
   "metadata": {
    "hidden": true
   },
   "source": [
    "Hence in this example, every subset $\\mathscr{B}$ of $\\mathscr{A}$ with $|\\mathscr{B}| = 3$ works."
   ]
  },
  {
   "cell_type": "markdown",
   "metadata": {
    "heading_collapsed": true,
    "hidden": true
   },
   "source": [
    "### Problem 7(b)\n",
    "\n",
    "If \n",
    "$ \\displaystyle \\mathscr{A} = \\left\\{ \\begin{pmatrix} 0 \\\\\n",
    " 2 \\\\\n",
    " -3 \\\\\n",
    " -3 \\\\\n",
    " \\end{pmatrix},\n",
    "    \\begin{pmatrix} 1 \\\\\n",
    " 1 \\\\\n",
    " -2 \\\\\n",
    " 0 \\\\\n",
    " \\end{pmatrix}, \\begin{pmatrix} 2 \\\\\n",
    " 0 \\\\\n",
    " -1 \\\\\n",
    " 3 \\\\\n",
    " \\end{pmatrix},\n",
    "    \\begin{pmatrix} -7 \\\\\n",
    " 3 \\\\\n",
    " -1 \\\\\n",
    " -15 \\\\\n",
    " \\end{pmatrix} \\right\\}$, find a subset $\\mathscr{B}$ of $\\mathscr{A}$ that is a basis for $U = \\operatorname{Span}(\\mathscr{A})$."
   ]
  },
  {
   "cell_type": "markdown",
   "metadata": {
    "heading_collapsed": true,
    "hidden": true
   },
   "source": [
    "### Solution 7(b)"
   ]
  },
  {
   "cell_type": "markdown",
   "metadata": {
    "hidden": true
   },
   "source": [
    "Import the relevant python stuff"
   ]
  },
  {
   "cell_type": "code",
   "execution_count": 20,
   "metadata": {
    "hidden": true
   },
   "outputs": [],
   "source": [
    "from sympy import Matrix"
   ]
  },
  {
   "cell_type": "markdown",
   "metadata": {
    "hidden": true
   },
   "source": [
    "We will denote the 4 vectors in $\\mathscr{A}$ by $\\vec{v}_1, \\vec{v}_2, \\vec{v}_3$, and $\\vec{v}_4$. We define the vectors (as lists, not vectors):"
   ]
  },
  {
   "cell_type": "code",
   "execution_count": 21,
   "metadata": {
    "hidden": true
   },
   "outputs": [],
   "source": [
    "v1, v2, v3, v4 = [0, 2, -3, -3], [1, 1, -2, 0], [2, 0, -1, 3], [-7, 3, -1, -15]"
   ]
  },
  {
   "cell_type": "markdown",
   "metadata": {
    "hidden": true
   },
   "source": [
    "We use the same method as in Solution 7(b):"
   ]
  },
  {
   "cell_type": "code",
   "execution_count": 22,
   "metadata": {
    "hidden": true
   },
   "outputs": [
    {
     "data": {
      "text/plain": [
       "2"
      ]
     },
     "execution_count": 22,
     "metadata": {},
     "output_type": "execute_result"
    }
   ],
   "source": [
    "Matrix([v1, v2, v3, v4]).rank()"
   ]
  },
  {
   "cell_type": "markdown",
   "metadata": {
    "hidden": true
   },
   "source": [
    "So, we are looking for two of the vectors in $\\mathscr{A}$:"
   ]
  },
  {
   "cell_type": "code",
   "execution_count": 23,
   "metadata": {
    "hidden": true
   },
   "outputs": [
    {
     "data": {
      "text/plain": [
       "2"
      ]
     },
     "execution_count": 23,
     "metadata": {},
     "output_type": "execute_result"
    }
   ],
   "source": [
    "Matrix([v1, v2]).rank()"
   ]
  },
  {
   "cell_type": "markdown",
   "metadata": {
    "hidden": true
   },
   "source": [
    "So, one solution is $\\mathscr{B} = \\{\\vec{v}_1, \\vec{v}_2\\}$. "
   ]
  },
  {
   "cell_type": "markdown",
   "metadata": {
    "hidden": true
   },
   "source": [
    "For \"fun\", let's check which other subsets work:"
   ]
  },
  {
   "cell_type": "code",
   "execution_count": 24,
   "metadata": {
    "hidden": true
   },
   "outputs": [
    {
     "data": {
      "text/plain": [
       "2"
      ]
     },
     "execution_count": 24,
     "metadata": {},
     "output_type": "execute_result"
    }
   ],
   "source": [
    "Matrix([v1, v3]).rank()"
   ]
  },
  {
   "cell_type": "code",
   "execution_count": 25,
   "metadata": {
    "hidden": true
   },
   "outputs": [
    {
     "data": {
      "text/plain": [
       "2"
      ]
     },
     "execution_count": 25,
     "metadata": {},
     "output_type": "execute_result"
    }
   ],
   "source": [
    "Matrix([v1, v4]).rank()"
   ]
  },
  {
   "cell_type": "code",
   "execution_count": 26,
   "metadata": {
    "hidden": true
   },
   "outputs": [
    {
     "data": {
      "text/plain": [
       "2"
      ]
     },
     "execution_count": 26,
     "metadata": {},
     "output_type": "execute_result"
    }
   ],
   "source": [
    "Matrix([v2, v3]).rank()"
   ]
  },
  {
   "cell_type": "code",
   "execution_count": 27,
   "metadata": {
    "hidden": true
   },
   "outputs": [
    {
     "data": {
      "text/plain": [
       "2"
      ]
     },
     "execution_count": 27,
     "metadata": {},
     "output_type": "execute_result"
    }
   ],
   "source": [
    "Matrix([v2, v4]).rank()"
   ]
  },
  {
   "cell_type": "code",
   "execution_count": 28,
   "metadata": {
    "hidden": true
   },
   "outputs": [
    {
     "data": {
      "text/plain": [
       "2"
      ]
     },
     "execution_count": 28,
     "metadata": {},
     "output_type": "execute_result"
    }
   ],
   "source": [
    "Matrix([v3, v4]).rank()"
   ]
  },
  {
   "cell_type": "markdown",
   "metadata": {
    "hidden": true
   },
   "source": [
    "Hence in this example, every subset $\\mathscr{B}$ of $\\mathscr{A}$ with $|\\mathscr{B}| = 2$ works."
   ]
  }
 ],
 "metadata": {
  "kernelspec": {
   "display_name": "Python 3",
   "language": "python",
   "name": "python3"
  },
  "language_info": {
   "codemirror_mode": {
    "name": "ipython",
    "version": 3
   },
   "file_extension": ".py",
   "mimetype": "text/x-python",
   "name": "python",
   "nbconvert_exporter": "python",
   "pygments_lexer": "ipython3",
   "version": "3.9.7"
  },
  "toc": {
   "base_numbering": 1,
   "nav_menu": {},
   "number_sections": true,
   "sideBar": true,
   "skip_h1_title": false,
   "title_cell": "Table of Contents",
   "title_sidebar": "Contents",
   "toc_cell": false,
   "toc_position": {},
   "toc_section_display": true,
   "toc_window_display": false
  }
 },
 "nbformat": 4,
 "nbformat_minor": 4
}
