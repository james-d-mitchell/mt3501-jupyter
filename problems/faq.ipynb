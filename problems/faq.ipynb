{
 "cells": [
  {
   "cell_type": "markdown",
   "metadata": {
    "collapsed": false
   },
   "source": [
    "# MT3501 - Problem Sheets - Supplementary notebooks"
   ]
  },
  {
   "cell_type": "markdown",
   "metadata": {
    "collapsed": false
   },
   "source": [
    "## FAQs"
   ]
  },
  {
   "cell_type": "markdown",
   "metadata": {
    "collapsed": false
   },
   "source": [
    "### What's this? "
   ]
  },
  {
   "cell_type": "markdown",
   "metadata": {
    "collapsed": false
   },
   "source": [
    "This is a jupyter notebook containing solutions to all the problems on Problem Sheet I that are computational in nature. In further words, this worksheet contains solutions that use Python to solve all of the problems on Problem Sheet I that involve numbers. "
   ]
  },
  {
   "cell_type": "markdown",
   "metadata": {
    "collapsed": false
   },
   "source": [
    "### What's the point? "
   ]
  },
  {
   "cell_type": "markdown",
   "metadata": {
    "collapsed": false
   },
   "source": [
    "The point is that you learned how to do Gaussian elimination by hand in MT2501, and that's great and all, but now you know how to do it by hand, rather than repeatedly testing your ability to do elementary arithmetic, in this course you can (if you want to) do the same as professional mathematicians, use a computer to do these tedious and error-prone calculations. You can find one approach to resolving problems of this sort in this and the subsequent worksheets."
   ]
  },
  {
   "cell_type": "markdown",
   "metadata": {
    "collapsed": false
   },
   "source": [
    "### Do I have to use these notebooks? "
   ]
  },
  {
   "cell_type": "markdown",
   "metadata": {
    "collapsed": false
   },
   "source": [
    "No, these are provided as a resource for you to use if you want to, if you prefer to continue answering these questions by hand, then please do. In any case, I'd recommend using some form of computer (maple, mathematica, wolfram alpha, or one of these jupyter notebooks) to check the answers you produce by hand."
   ]
  },
  {
   "cell_type": "markdown",
   "metadata": {
    "collapsed": false
   },
   "source": [
    "### Why aren't you using Maple, Mathematica, or Wolfram Alpha?"
   ]
  },
  {
   "cell_type": "markdown",
   "metadata": {
    "collapsed": false
   },
   "source": [
    "Because Maple, Mathematica, and Wolfram Alpha are all paid for software which is closed source. Using these jupyter notebooks is free and the code behind sympy is also open source. This means that it is possible for anyone to understand how sympy (or any python package) works by inspecting the code directly, and figuring it out from there. Do I expect that you do this? No, but in theory it's important to know that, or be able to verify, that the mathematical results produced by any piece of software are valid. If you can't read the source code, then you can't do this, and have to trust that the software provider (Maple, Mathematica, Wolfram Alpha) has done it correctly for you. While most of the time this is probably the case, and while I'm sure that the companies behind these products put significant effort into ensuring that their software is correct, they can't guaranteed this in most cases, and there are always bugs in software. Sometimes these bugs can be super costly; see the [list of software bugs](https://en.wikipedia.org/wiki/List_of_software_bugs) for some examples."
   ]
  },
  {
   "cell_type": "markdown",
   "metadata": {
    "collapsed": false
   },
   "source": [
    "### I don't know anything about python but I want to use these sheets, what do I do?"
   ]
  },
  {
   "cell_type": "markdown",
   "metadata": {
    "collapsed": false
   },
   "source": [
    "Just use them, they don't involve any complicated features of python, or much knowledge of how to programme. They ought to be significantly easier to use than the 2000-level computing projects were to complete.\n",
    "The solutions in these sheets are self-contained, and use very few features of sympy or python. The principal difficulty is usually formulating the problem so that the features available in sympy/python can be used to resolve that problem. This too is a useful skill for you to develop, in particular, because you'll quickly realise that essentially every (computational) problem you encounter in this course, or that you encountered in MT2501, boils down to solving a system of linear equations. Exactly how depends on the particular problem. There are plenty of examples in these notebooks explaining step-by-step how to do this."
   ]
  },
  {
   "cell_type": "markdown",
   "metadata": {
    "collapsed": false
   },
   "source": [
    "### Why did you choose sympy, rather than alternatives such as numpy?"
   ]
  },
  {
   "cell_type": "markdown",
   "metadata": {
    "collapsed": false
   },
   "source": [
    "Mostly because there are enough features in sympy (even an extremely limited subset of sympy) to answer all the problems of a computational nature in this module, and because sympy allows for the symbolic manipulation of matrices, vectors, and polynomials, which mirrors the way that the accompanying mathematical solutions (pdf) are presented."
   ]
  }
 ],
 "metadata": {
  "kernelspec": {
   "display_name": "Python 3 (system-wide)",
   "language": "python",
   "metadata": {
    "cocalc": {
     "description": "Python 3 programming language",
     "priority": 100,
     "url": "https://www.python.org/"
    }
   },
   "name": "python3"
  },
  "language_info": {
   "codemirror_mode": {
    "name": "ipython",
    "version": 3
   },
   "file_extension": ".py",
   "mimetype": "text/x-python",
   "name": "python",
   "nbconvert_exporter": "python",
   "pygments_lexer": "ipython3",
   "version": "3.8.2"
  }
 },
 "nbformat": 4,
 "nbformat_minor": 4
}