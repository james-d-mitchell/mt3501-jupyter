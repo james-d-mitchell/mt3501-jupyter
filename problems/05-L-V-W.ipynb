{
 "cells": [
  {
   "cell_type": "markdown",
   "metadata": {},
   "source": [
    "# MT3501 - Section 5 - Problem Sheet - Supplementary notebook\n",
    "# The vector space of linear transformations"
   ]
  },
  {
   "cell_type": "markdown",
   "metadata": {},
   "source": [
    "## [FAQs](faq.ipynb)"
   ]
  },
  {
   "cell_type": "markdown",
   "metadata": {
    "heading_collapsed": true
   },
   "source": [
    "## Problem 9"
   ]
  },
  {
   "cell_type": "markdown",
   "metadata": {
    "hidden": true
   },
   "source": [
    "   Suppose that $\\mathscr{B} = \\{\\vec{e}_1, \\vec{e}_2, \\vec{e}_3\\}$ is the\n",
    "  standard basis for $\\mathbb{R} ^ 3$, and that \n",
    "  $$\\mathscr{C} = \\{\\vec{v}_1, \\vec{v}_2, \\vec{v}_3, \\vec{v}_4\\}\n",
    "  = \\left\\{\\begin{pmatrix}\n",
    "    1 \\\\\n",
    "    1 \\\\\n",
    "    0 \\\\\n",
    "    0 \\\\\n",
    "  \\end{pmatrix}, \n",
    "  \\begin{pmatrix}\n",
    "    1 \\\\\n",
    "    0 \\\\\n",
    "    1 \\\\\n",
    "    0 \\\\\n",
    "  \\end{pmatrix},\n",
    "  \\begin{pmatrix}\n",
    "    0 \\\\\n",
    "    1 \\\\\n",
    "    1 \\\\\n",
    "    0 \\\\\n",
    "  \\end{pmatrix},\n",
    "  \\begin{pmatrix}\n",
    "    1 \\\\\n",
    "    0 \\\\\n",
    "    0 \\\\\n",
    "    1 \\\\\n",
    "  \\end{pmatrix}\n",
    "  \\right\\}\n",
    "  $$ \n",
    "  is a basis for $\\mathbb{R} ^ 4$. If $T: \\mathbb{R} ^ 4 \\to \\mathbb{R} ^ 3$\n",
    "  is such that \n",
    "  $$\n",
    "  \\operatorname{Mat}_{\\mathscr{C}, \\mathscr{B}}(T) = \n",
    "  \\begin{pmatrix}\n",
    "    1 & 0 & 1 & 0 \\\\\n",
    "    0 & 1 & 0 & 1 \\\\\n",
    "    1 & 0 & 1 & 0 \n",
    "  \\end{pmatrix}.\n",
    "  $$\n",
    "  find a vector equal to\n",
    "  $$\n",
    "  T \\begin{pmatrix}\n",
    "    x \\\\\n",
    "    y \\\\\n",
    "    z \\\\\n",
    "    t \\\\\n",
    "  \\end{pmatrix}\n",
    "  $$\n",
    "  in terms of $x, y, z, t\\in \\mathbb{R}$."
   ]
  },
  {
   "cell_type": "markdown",
   "metadata": {},
   "source": [
    "## Solution 9"
   ]
  },
  {
   "cell_type": "markdown",
   "metadata": {},
   "source": [
    "Import some relevant stuff from sympy:"
   ]
  },
  {
   "cell_type": "code",
   "execution_count": 1,
   "metadata": {},
   "outputs": [],
   "source": [
    "from sympy import Matrix, solve\n",
    "from sympy.abc import a, b, c, d, x, y, z, t"
   ]
  },
  {
   "cell_type": "markdown",
   "metadata": {},
   "source": [
    "By Theorem 2.25 in the lecture notes, it follows that\n",
    "$$\n",
    "T(\\vec{v}) \n",
    "= \\operatorname{Mat}_{\\mathscr{B}}{T(\\vec{v})} \n",
    "= \\operatorname{Mat}_{\\mathscr{C}, \\mathscr{B}}(T)\n",
    "  \\operatorname{Mat}_{\\mathscr{C}}(\\vec{v})\n",
    "$$\n",
    "and so it suffices to find $\\operatorname{Mat}_{\\mathscr{C}}(\\vec{v})$ for an arbitrary $\\vec{v} \\in \\mathbb{R} ^ 4$. Suppose that \n",
    "$$\n",
    "\\vec{v} = \n",
    "\\begin{pmatrix}\n",
    "x \\\\\n",
    "y \\\\\n",
    "z \\\\ \n",
    "t\n",
    "\\end{pmatrix} \n",
    "\\in \\mathbb{R} ^ 4\n",
    "$$\n",
    "is arbitrary. We must find $a, b, c, d\\in \\mathbb{R}$ such that:\n",
    "$$\n",
    "\\begin{pmatrix}\n",
    "x \\\\\n",
    "y \\\\\n",
    "z \\\\ \n",
    "t\n",
    "\\end{pmatrix} \n",
    "= \n",
    "a\n",
    "\\begin{pmatrix}\n",
    "    1 \\\\\n",
    "    1 \\\\\n",
    "    0 \\\\\n",
    "    0 \\\\\n",
    "  \\end{pmatrix} + \n",
    "  b\n",
    "  \\begin{pmatrix}\n",
    "    1 \\\\\n",
    "    0 \\\\\n",
    "    1 \\\\\n",
    "    0 \\\\\n",
    "  \\end{pmatrix} + c\n",
    "  \\begin{pmatrix}\n",
    "    0 \\\\\n",
    "    1 \\\\\n",
    "    1 \\\\\n",
    "    0 \\\\\n",
    "  \\end{pmatrix} + d\n",
    "  \\begin{pmatrix}\n",
    "    1 \\\\\n",
    "    0 \\\\\n",
    "    0 \\\\\n",
    "    1 \\\\\n",
    "  \\end{pmatrix}.\n",
    "$$\n",
    "Rearranging we get:"
   ]
  },
  {
   "cell_type": "code",
   "execution_count": 2,
   "metadata": {},
   "outputs": [],
   "source": [
    "w = a * Matrix([1, 1, 0, 0]) + b * Matrix([1, 0, 1, 0]) + c * Matrix([0, 1, 1, 0]) + d * Matrix([1, 0, 0, 1]) - Matrix([x, y, z, t])"
   ]
  },
  {
   "cell_type": "code",
   "execution_count": 3,
   "metadata": {},
   "outputs": [
    {
     "data": {
      "text/latex": [
       "$\\displaystyle \\left[\\begin{matrix}a + b + d - x\\\\a + c - y\\\\b + c - z\\\\d - t\\end{matrix}\\right]$"
      ],
      "text/plain": [
       "Matrix([\n",
       "[a + b + d - x],\n",
       "[    a + c - y],\n",
       "[    b + c - z],\n",
       "[        d - t]])"
      ]
     },
     "execution_count": 3,
     "metadata": {},
     "output_type": "execute_result"
    }
   ],
   "source": [
    "w"
   ]
  },
  {
   "cell_type": "code",
   "execution_count": 4,
   "metadata": {},
   "outputs": [
    {
     "data": {
      "text/plain": [
       "{a: -t/2 + x/2 + y/2 - z/2,\n",
       " b: -t/2 + x/2 - y/2 + z/2,\n",
       " c: t/2 - x/2 + y/2 + z/2,\n",
       " d: t}"
      ]
     },
     "execution_count": 4,
     "metadata": {},
     "output_type": "execute_result"
    }
   ],
   "source": [
    "solve(w, [a, b, c, d])"
   ]
  },
  {
   "cell_type": "markdown",
   "metadata": {},
   "source": [
    "So, \n",
    "$$\n",
    "\\begin{pmatrix}\n",
    "x \\\\\n",
    "y \\\\\n",
    "z \\\\ \n",
    "t\n",
    "\\end{pmatrix} \n",
    "= \n",
    "-t/2 + x/2 + y/2 - z/2\n",
    "\\begin{pmatrix}\n",
    "    1 \\\\\n",
    "    1 \\\\\n",
    "    0 \\\\\n",
    "    0 \\\\\n",
    "  \\end{pmatrix} + \n",
    "  -t/2 + x/2 - y/2 + z/2\n",
    "  \\begin{pmatrix}\n",
    "    1 \\\\\n",
    "    0 \\\\\n",
    "    1 \\\\\n",
    "    0 \\\\\n",
    "  \\end{pmatrix} + t/2 - x/2 + y/2 + z/2\n",
    "  \\begin{pmatrix}\n",
    "    0 \\\\\n",
    "    1 \\\\\n",
    "    1 \\\\\n",
    "    0 \\\\\n",
    "  \\end{pmatrix} + t\n",
    "  \\begin{pmatrix}\n",
    "    1 \\\\\n",
    "    0 \\\\\n",
    "    0 \\\\\n",
    "    1 \\\\\n",
    "  \\end{pmatrix} \n",
    "$$\n",
    "and so\n",
    "$$\n",
    "\\operatorname{Mat}_{\\mathscr{C}}(\\vec{v}) =  \\frac{1}{2} \\begin{pmatrix}\n",
    " x - z + y - t \\\\\n",
    " z - y + x - t \\\\\n",
    " z + y - x + t \\\\\n",
    " 2t \\\\\n",
    " \\end{pmatrix}.\n",
    "$$\n",
    "Therefore\n",
    "$$\n",
    "\\mathrm{Mat}_{\\mathscr{C}}T\\begin{pmatrix}\n",
    " x \\\\\n",
    " y \\\\\n",
    " z \\\\\n",
    " t \\\\\n",
    " \\end{pmatrix} \n",
    "= \n",
    "\\operatorname{Mat}_{\\mathscr{C}, \\mathscr{B}}(T)\n",
    "\\operatorname{Mat}_{\\mathscr{C}}(\\vec{v})\n",
    "=\n",
    "\\frac{1}{2}\n",
    "\\begin{pmatrix}\n",
    "  1 & 0 & 1 & 0 \\\\\n",
    "  0 & 1 & 0 & 1 \\\\\n",
    "  1 & 0 & 1 & 0 \n",
    "\\end{pmatrix} \n",
    "\\begin{pmatrix}\n",
    " x - z + y - t \\\\\n",
    " z - y + x - t \\\\\n",
    " z + y - x + t \\\\\n",
    " 2t \\\\\n",
    " \\end{pmatrix}\n",
    "$$"
   ]
  },
  {
   "cell_type": "code",
   "execution_count": 5,
   "metadata": {},
   "outputs": [
    {
     "data": {
      "text/latex": [
       "$\\displaystyle \\left[\\begin{matrix}1.0 y\\\\0.5 t + 0.5 x - 0.5 y + 0.5 z\\\\1.0 y\\end{matrix}\\right]$"
      ],
      "text/plain": [
       "Matrix([\n",
       "[                        1.0*y],\n",
       "[0.5*t + 0.5*x - 0.5*y + 0.5*z],\n",
       "[                        1.0*y]])"
      ]
     },
     "execution_count": 5,
     "metadata": {},
     "output_type": "execute_result"
    }
   ],
   "source": [
    "1/2 * Matrix([[1, 0, 1, 0], [0, 1, 0, 1], [1, 0, 1, 0]]) * Matrix([x - z + y - t, z - y + x - t, z + y - x + t, 2*t])"
   ]
  },
  {
   "cell_type": "markdown",
   "metadata": {},
   "source": [
    "Which simplifies to:\n",
    "$$\n",
    "\\mathrm{Mat}_{\\mathscr{C}}T\\begin{pmatrix}\n",
    " x \\\\\n",
    " y \\\\\n",
    " z \\\\\n",
    " t \\\\\n",
    " \\end{pmatrix} =\n",
    " \\frac{1}{2} \\begin{pmatrix}\n",
    " 2y \\\\\n",
    " x - y + z + t \\\\\n",
    " 2y \\\\\n",
    " \\end{pmatrix}.\n",
    " $$\n"
   ]
  }
 ],
 "metadata": {
  "kernelspec": {
   "display_name": "Python 3",
   "language": "python",
   "name": "python3"
  },
  "language_info": {
   "codemirror_mode": {
    "name": "ipython",
    "version": 3
   },
   "file_extension": ".py",
   "mimetype": "text/x-python",
   "name": "python",
   "nbconvert_exporter": "python",
   "pygments_lexer": "ipython3",
   "version": "3.9.8"
  }
 },
 "nbformat": 4,
 "nbformat_minor": 4
}
