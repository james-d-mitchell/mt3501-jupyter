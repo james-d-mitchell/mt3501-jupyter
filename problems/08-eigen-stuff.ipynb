{
 "cells": [
  {
   "cell_type": "markdown",
   "metadata": {},
   "source": [
    "# MT3501 - Section 8 - Problem Sheet - Supplementary notebook\n",
    "# Eigenvectors, eigenvalues, and the characteristic polynomial"
   ]
  },
  {
   "cell_type": "markdown",
   "metadata": {},
   "source": [
    "## [FAQs](faq.ipynb)"
   ]
  },
  {
   "cell_type": "markdown",
   "metadata": {},
   "source": [
    "## Problem 1"
   ]
  },
  {
   "cell_type": "markdown",
   "metadata": {},
   "source": [
    "  Let $T \\colon \\mathbb{R}^{2} \\to \\mathbb{R}^{2}$ be the linear transformation\n",
    "  having matrix\n",
    "$$\n",
    "  A = \\begin{pmatrix}\n",
    "    -13 & -5 \\\\\n",
    "    34 & 13\n",
    "  \\end{pmatrix}\n",
    " $$\n",
    "  with respect to the standard basis.  Calculate the characteristic\n",
    "  polynomial of $T$. "
   ]
  },
  {
   "cell_type": "markdown",
   "metadata": {},
   "source": [
    "## Solution to Problem 1"
   ]
  },
  {
   "cell_type": "code",
   "execution_count": 1,
   "metadata": {},
   "outputs": [],
   "source": [
    "from sympy import Matrix, factor"
   ]
  },
  {
   "cell_type": "code",
   "execution_count": 2,
   "metadata": {},
   "outputs": [],
   "source": [
    "A = Matrix([[-13, -5], [34, 13]])"
   ]
  },
  {
   "cell_type": "code",
   "execution_count": 3,
   "metadata": {},
   "outputs": [
    {
     "data": {
      "text/latex": [
       "$\\displaystyle \\lambda^{2} + 1$"
      ],
      "text/plain": [
       "lambda**2 + 1"
      ]
     },
     "execution_count": 3,
     "metadata": {},
     "output_type": "execute_result"
    }
   ],
   "source": [
    "factor(A.charpoly().as_expr())"
   ]
  },
  {
   "cell_type": "markdown",
   "metadata": {},
   "source": [
    "Hence $c_A(x) = x ^ 2 + 1$."
   ]
  },
  {
   "cell_type": "markdown",
   "metadata": {},
   "source": [
    "## Problem 2"
   ]
  },
  {
   "cell_type": "markdown",
   "metadata": {},
   "source": [
    "For each matrix $A$ below, let $T \\colon \\mathbb{R}^{3} \\to \\mathbb{R}^{3}$ be the\n",
    "linear transformation having matrix $A$ with respect to the standard\n",
    "basis, that is,\n",
    "\\begin{align*}\n",
    "T \\colon \\mathbb{R}^{3} &\\to \\mathbb{R}^{3} \\\\\n",
    "\\vec{v} &\\mapsto A\\vec{v}.\n",
    "\\end{align*}\n",
    "Calculate the characteristic polynomial of $T$, and find the eigenvalues\n",
    "of $T$.\n",
    "$$\n",
    "\\begin{array}{rlrlrl}\n",
    "  \\mbox{(a)} & \\begin{pmatrix}\n",
    "    3 & -4 & 0 \\\\\n",
    "    0 & -1 & 0 \\\\\n",
    "    0 & 6 & 2\n",
    "  \\end{pmatrix}\n",
    "  &\\quad\n",
    "  \\mbox{(b)} & \\begin{pmatrix}\n",
    "    1 & 1 & -1 \\\\\n",
    "    -2 & 4 & -2 \\\\\n",
    "    0 & 1 & 0\n",
    "  \\end{pmatrix}\n",
    "  &\\quad\n",
    "  \\mbox{(c)} &\\begin{pmatrix}\n",
    "    5 & 2 & 2 \\\\\n",
    "    2 & 2 & -4 \\\\\n",
    "    2 & -4 & 2\n",
    "  \\end{pmatrix}\n",
    "  \\\\[20pt]\n",
    "  \\mbox{(d)} & \\begin{pmatrix}\n",
    "    3 & 4 & 4 \\\\\n",
    "    1 & 3 & 0 \\\\\n",
    "    -2 & -4 & -1\n",
    "  \\end{pmatrix}\n",
    "  &\n",
    "  \\mbox{(e)} & \\begin{pmatrix}\n",
    "    1 & 0 & 1 \\\\\n",
    "    0 & 2 & 1 \\\\\n",
    "    -1 & 0 & 3\n",
    "  \\end{pmatrix}\n",
    "  &\n",
    "  \\mbox{(f)} & \\begin{pmatrix}\n",
    "    2 & -1 & 0 \\\\\n",
    "    0 & 2 & 0 \\\\\n",
    "    -1 & 1 & 2\n",
    "  \\end{pmatrix}\n",
    "  \\\\[20pt]\n",
    "  \\mbox{(g)} & \\begin{pmatrix}\n",
    "    -2 & -3 & 0 \\\\\n",
    "    3 & 4 & 0 \\\\\n",
    "    6 & 6 & 1\n",
    "  \\end{pmatrix}.\n",
    "\\end{array}\n",
    "$$"
   ]
  },
  {
   "cell_type": "markdown",
   "metadata": {},
   "source": [
    "## Solution to Problem 2(a)"
   ]
  },
  {
   "cell_type": "code",
   "execution_count": 4,
   "metadata": {},
   "outputs": [
    {
     "data": {
      "text/latex": [
       "$\\displaystyle \\left(\\lambda - 3\\right) \\left(\\lambda - 2\\right) \\left(\\lambda + 1\\right)$"
      ],
      "text/plain": [
       "(lambda - 3)*(lambda - 2)*(lambda + 1)"
      ]
     },
     "execution_count": 4,
     "metadata": {},
     "output_type": "execute_result"
    }
   ],
   "source": [
    "from sympy import Matrix, factor\n",
    "A = Matrix([[3, -4, 0], [0, -1, 0], [0, 6, 2]])\n",
    "factor(A.charpoly().as_expr())"
   ]
  },
  {
   "cell_type": "markdown",
   "metadata": {},
   "source": [
    "Hence $c_A(x) = (x - 3)(x - 2)(x + 1)$ and the eigenvalues of $A$ are $3$, $2$, and $-1$."
   ]
  },
  {
   "cell_type": "markdown",
   "metadata": {},
   "source": [
    "## Solution to Problem 2(b)"
   ]
  },
  {
   "cell_type": "code",
   "execution_count": 5,
   "metadata": {},
   "outputs": [
    {
     "data": {
      "text/latex": [
       "$\\displaystyle \\left(\\lambda - 2\\right)^{2} \\left(\\lambda - 1\\right)$"
      ],
      "text/plain": [
       "(lambda - 2)**2*(lambda - 1)"
      ]
     },
     "execution_count": 5,
     "metadata": {},
     "output_type": "execute_result"
    }
   ],
   "source": [
    "from sympy import Matrix, factor, eye\n",
    "A = Matrix([[1, 1, -1], [-2, 4, -2], [0, 1, 0]])\n",
    "factor(A.charpoly().as_expr())"
   ]
  },
  {
   "cell_type": "markdown",
   "metadata": {},
   "source": [
    "Hence $c_A(x) = (x - 2) ^ 2(x - 1)$ and the eigenvalues of $A$ are $2$ and $1$."
   ]
  },
  {
   "cell_type": "markdown",
   "metadata": {},
   "source": [
    "## Solution to Problem 2(c)"
   ]
  },
  {
   "cell_type": "code",
   "execution_count": 6,
   "metadata": {},
   "outputs": [
    {
     "data": {
      "text/latex": [
       "$\\displaystyle \\left(\\lambda - 6\\right)^{2} \\left(\\lambda + 3\\right)$"
      ],
      "text/plain": [
       "(lambda - 6)**2*(lambda + 3)"
      ]
     },
     "execution_count": 6,
     "metadata": {},
     "output_type": "execute_result"
    }
   ],
   "source": [
    "from sympy import Matrix, factor, eye\n",
    "A = Matrix([[5, 2, 2], [2, 2, -4], [2, -4, 2]])\n",
    "factor(A.charpoly().as_expr())"
   ]
  },
  {
   "cell_type": "markdown",
   "metadata": {},
   "source": [
    "Hence $c_A(x) = (x - 6) ^ 2(x + 3)$ and the eigenvalues of $A$ are $6$ and $-3$."
   ]
  },
  {
   "cell_type": "markdown",
   "metadata": {},
   "source": [
    "## Solution to Problem 2(d)"
   ]
  },
  {
   "cell_type": "code",
   "execution_count": 7,
   "metadata": {},
   "outputs": [
    {
     "data": {
      "text/latex": [
       "$\\displaystyle \\left(\\lambda - 3\\right) \\left(\\lambda - 1\\right)^{2}$"
      ],
      "text/plain": [
       "(lambda - 3)*(lambda - 1)**2"
      ]
     },
     "execution_count": 7,
     "metadata": {},
     "output_type": "execute_result"
    }
   ],
   "source": [
    "from sympy import Matrix, factor, eye\n",
    "A = Matrix([[3, 4, 4], [1, 3, 0], [-2, -4, -1]])\n",
    "factor(A.charpoly().as_expr())"
   ]
  },
  {
   "cell_type": "markdown",
   "metadata": {},
   "source": [
    "Hence $c_A(x) = (x - 3)(x - 1) ^ 2$ and the eigenvalues of $A$ are $3$ and $1$."
   ]
  },
  {
   "cell_type": "markdown",
   "metadata": {},
   "source": [
    "## Solution to Problem 2(e)"
   ]
  },
  {
   "cell_type": "code",
   "execution_count": 8,
   "metadata": {},
   "outputs": [
    {
     "data": {
      "text/latex": [
       "$\\displaystyle \\left(\\lambda - 2\\right)^{3}$"
      ],
      "text/plain": [
       "(lambda - 2)**3"
      ]
     },
     "execution_count": 8,
     "metadata": {},
     "output_type": "execute_result"
    }
   ],
   "source": [
    "from sympy import Matrix, factor, eye\n",
    "A = Matrix([[1, 0, 1], [0, 2, 1], [-1, 0, 3]])\n",
    "factor(A.charpoly().as_expr())"
   ]
  },
  {
   "cell_type": "markdown",
   "metadata": {},
   "source": [
    "Hence $c_A(x) = (x - 2) ^ 3$ and the only eigenvalue of $A$ is $2$."
   ]
  },
  {
   "cell_type": "markdown",
   "metadata": {},
   "source": [
    "## Solution to Problem 2(f)"
   ]
  },
  {
   "cell_type": "code",
   "execution_count": 9,
   "metadata": {},
   "outputs": [
    {
     "data": {
      "text/latex": [
       "$\\displaystyle \\left(\\lambda - 2\\right)^{3}$"
      ],
      "text/plain": [
       "(lambda - 2)**3"
      ]
     },
     "execution_count": 9,
     "metadata": {},
     "output_type": "execute_result"
    }
   ],
   "source": [
    "from sympy import Matrix, factor, eye\n",
    "A = Matrix([[2, -1, 0], [0, 2, 0], [-1, 1, 2]])\n",
    "factor(A.charpoly().as_expr())"
   ]
  },
  {
   "cell_type": "markdown",
   "metadata": {},
   "source": [
    "Hence $c_A(x) = (x - 2) ^ 3$ and the only eigenvalue of $A$ is $2$."
   ]
  },
  {
   "cell_type": "markdown",
   "metadata": {},
   "source": [
    "## Solution to Problem 2(g)"
   ]
  },
  {
   "cell_type": "code",
   "execution_count": 10,
   "metadata": {},
   "outputs": [
    {
     "data": {
      "text/latex": [
       "$\\displaystyle \\left(\\lambda - 1\\right)^{3}$"
      ],
      "text/plain": [
       "(lambda - 1)**3"
      ]
     },
     "execution_count": 10,
     "metadata": {},
     "output_type": "execute_result"
    }
   ],
   "source": [
    "from sympy import Matrix, factor, eye\n",
    "A = Matrix([[-2, -3, 0], [3, 4, 0], [6, 6, 1]])\n",
    "factor(A.charpoly().as_expr())"
   ]
  },
  {
   "cell_type": "markdown",
   "metadata": {},
   "source": [
    "Hence $c_A(x) = (x - 1) ^ 3$ and the only eigenvalue of $A$ is $1$."
   ]
  },
  {
   "cell_type": "markdown",
   "metadata": {},
   "source": [
    "## Problem 3"
   ]
  },
  {
   "cell_type": "markdown",
   "metadata": {},
   "source": [
    "    Let\n",
    "  $$\n",
    "    A = \\begin{pmatrix}\n",
    "      1 & 1 & 0 \\\\\n",
    "      0 & 2 & 0 \\\\\n",
    "      0 & 0 & 1\n",
    "    \\end{pmatrix}\n",
    "    \\qquad \\text{and} \\qquad\n",
    "    B = \\begin{pmatrix}\n",
    "      2 & 0 & 0 \\\\\n",
    "      0 & 2 & 2 \\\\\n",
    "      0 & 0 & 1\n",
    "    \\end{pmatrix}.\n",
    "$$\n",
    "    Show that $A$ and $B$ have different characteristic polynomials\n"
   ]
  },
  {
   "cell_type": "markdown",
   "metadata": {},
   "source": [
    "## Solution to Problem 3"
   ]
  },
  {
   "cell_type": "code",
   "execution_count": 11,
   "metadata": {},
   "outputs": [
    {
     "data": {
      "text/latex": [
       "$\\displaystyle \\left(\\lambda - 2\\right) \\left(\\lambda - 1\\right)^{2}$"
      ],
      "text/plain": [
       "(lambda - 2)*(lambda - 1)**2"
      ]
     },
     "execution_count": 11,
     "metadata": {},
     "output_type": "execute_result"
    }
   ],
   "source": [
    "from sympy import Matrix, factor\n",
    "A = Matrix([[1, 1, 0], [0, 2, 0], [0, 0, 1]])\n",
    "B = Matrix([[2, 0, 0], [0, 2, 2], [0, 0, 1]])\n",
    "factor(A.charpoly().as_expr())"
   ]
  },
  {
   "cell_type": "code",
   "execution_count": 12,
   "metadata": {},
   "outputs": [
    {
     "data": {
      "text/latex": [
       "$\\displaystyle \\left(\\lambda - 2\\right)^{2} \\left(\\lambda - 1\\right)$"
      ],
      "text/plain": [
       "(lambda - 2)**2*(lambda - 1)"
      ]
     },
     "execution_count": 12,
     "metadata": {},
     "output_type": "execute_result"
    }
   ],
   "source": [
    "factor(B.charpoly().as_expr())"
   ]
  },
  {
   "cell_type": "markdown",
   "metadata": {},
   "source": [
    "## Problem 4"
   ]
  },
  {
   "cell_type": "markdown",
   "metadata": {},
   "source": [
    "  Let $T \\colon \\mathbb{R}^{4} \\to \\mathbb{R}^{4}$ be the linear transformation given by\n",
    "  the matrix\n",
    "$$\n",
    "  A = \\begin{pmatrix}\n",
    "    2 & 1 & 0 & -1 \\\\\n",
    "    -2 & 5 & -1 & -7 \\\\\n",
    "    -12 & 16 & -4 & -15 \\\\\n",
    "    -2 & 3 & -1 & -5\n",
    "  \\end{pmatrix}.\n",
    "$$\n",
    "  Calculate the characteristic polynomial of $T$."
   ]
  },
  {
   "cell_type": "markdown",
   "metadata": {},
   "source": [
    "## Solution to Problem 4"
   ]
  },
  {
   "cell_type": "code",
   "execution_count": 13,
   "metadata": {},
   "outputs": [
    {
     "data": {
      "text/latex": [
       "$\\displaystyle \\left(\\lambda - 2\\right)^{2} \\left(\\lambda + 3\\right)^{2}$"
      ],
      "text/plain": [
       "(lambda - 2)**2*(lambda + 3)**2"
      ]
     },
     "execution_count": 13,
     "metadata": {},
     "output_type": "execute_result"
    }
   ],
   "source": [
    "from sympy import Matrix, factor\n",
    "A = Matrix([[2, 1, 0, -1], [-2, 5, -1, -7], [-12, 16, -4, -15], [-2, 3, -1, -5]])\n",
    "factor(A.charpoly().as_expr())"
   ]
  }
 ],
 "metadata": {
  "kernelspec": {
   "display_name": "Python 3",
   "language": "python",
   "name": "python3"
  },
  "language_info": {
   "codemirror_mode": {
    "name": "ipython",
    "version": 3
   },
   "file_extension": ".py",
   "mimetype": "text/x-python",
   "name": "python",
   "nbconvert_exporter": "python",
   "pygments_lexer": "ipython3",
   "version": "3.9.8"
  }
 },
 "nbformat": 4,
 "nbformat_minor": 4
}
