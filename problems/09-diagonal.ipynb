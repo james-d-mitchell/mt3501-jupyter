{
 "cells": [
  {
   "cell_type": "markdown",
   "metadata": {},
   "source": [
    "# MT3501 - Section 9 - Problem Sheet - Supplementary notebook\n",
    "# Diagonalisation"
   ]
  },
  {
   "cell_type": "markdown",
   "metadata": {},
   "source": [
    "## [FAQs](faq.ipynb)"
   ]
  },
  {
   "cell_type": "markdown",
   "metadata": {},
   "source": [
    "## Problem 2"
   ]
  },
  {
   "cell_type": "markdown",
   "metadata": {},
   "source": [
    "  For each matrix $A$ below, let $T \\colon \\mathbb{R}^{3} \\to \\mathbb{R}^{3}$ be the\n",
    "  linear transformation having matrix $A$ with respect to the standard\n",
    "  basis, that is,\n",
    "  \\begin{align*}\n",
    "    T \\colon \\mathbb{R}^{3} &\\to \\mathbb{R}^{3} \\\\\n",
    "    \\vec{v} &\\mapsto A\\vec{v}.\n",
    "  \\end{align*}\n",
    "  Calculate the algebraic and geometric multiplicities of each\n",
    "  eigenvalue of each such $T$, and determine whether $T$ is diagonalisable.  \n",
    "  If $T$ is\n",
    "  diagonalisable, find a matrix $P$ such that $P^{-1}AP$ is diagonal.\n",
    "  $$\n",
    "  \\begin{array}{rlrlrl}\n",
    "    \\mbox{(a)} & \\begin{pmatrix}\n",
    "      3 & -4 & 0 \\\\\n",
    "      0 & -1 & 0 \\\\\n",
    "      0 & 6 & 2\n",
    "    \\end{pmatrix}\n",
    "    &\\quad\n",
    "    \\mbox{(b)} & \\begin{pmatrix}\n",
    "      1 & 1 & -1 \\\\\n",
    "      -2 & 4 & -2 \\\\\n",
    "      0 & 1 & 0\n",
    "    \\end{pmatrix}\n",
    "    &\\quad\n",
    "    \\mbox{(c)} &\\begin{pmatrix}\n",
    "      5 & 2 & 2 \\\\\n",
    "      2 & 2 & -4 \\\\\n",
    "      2 & -4 & 2\n",
    "    \\end{pmatrix}\n",
    "  \\end{array}\n",
    "    $$\n",
    "    $$\n",
    "  \\begin{array}{rlrlrl}\n",
    "  \\mbox{(d)} & \\begin{pmatrix}\n",
    "      3 & 4 & 4 \\\\\n",
    "      1 & 3 & 0 \\\\\n",
    "      -2 & -4 & -1\n",
    "    \\end{pmatrix}\n",
    "    &\n",
    "    \\mbox{(e)} & \\begin{pmatrix}\n",
    "      1 & 0 & 1 \\\\\n",
    "      0 & 2 & 1 \\\\\n",
    "      -1 & 0 & 3\n",
    "    \\end{pmatrix}\n",
    "    &\n",
    "    \\mbox{(f)} & \\begin{pmatrix}\n",
    "      2 & -1 & 0 \\\\\n",
    "      0 & 2 & 0 \\\\\n",
    "      -1 & 1 & 2\n",
    "    \\end{pmatrix}\n",
    "  \\end{array}\n",
    "    $$\n",
    "    $$\n",
    "  \\begin{array}{rlrlrl}\n",
    "    \\mbox{(g)} & \\begin{pmatrix}\n",
    "      -2 & -3 & 0 \\\\\n",
    "      3 & 4 & 0 \\\\\n",
    "      6 & 6 & 1\n",
    "    \\end{pmatrix}\n",
    "  \\end{array}\n",
    "  $$\n"
   ]
  },
  {
   "cell_type": "markdown",
   "metadata": {},
   "source": [
    "## Solution to Problem 2(a)"
   ]
  },
  {
   "cell_type": "code",
   "execution_count": 1,
   "metadata": {},
   "outputs": [
    {
     "data": {
      "text/latex": [
       "$\\displaystyle \\left(\\lambda - 3\\right) \\left(\\lambda - 2\\right) \\left(\\lambda + 1\\right)$"
      ],
      "text/plain": [
       "(lambda - 3)*(lambda - 2)*(lambda + 1)"
      ]
     },
     "execution_count": 1,
     "metadata": {},
     "output_type": "execute_result"
    }
   ],
   "source": [
    "from sympy import Matrix, factor\n",
    "A = Matrix([[3, -4, 0], [0, -1, 0], [0, 6, 2]])\n",
    "factor(A.charpoly().as_expr())"
   ]
  },
  {
   "cell_type": "markdown",
   "metadata": {},
   "source": [
    "Hence $c_A(x) = (x - 3)(x - 2)(x + 1)$ and the eigenvalues of $A$ are $3$, $2$, and $-1$. Since $1 \\leq g_{\\lambda} \\leq a_{\\lambda} = 1$ for $\\lambda = 3, 2, -1$, it follows that the $g_3 = g_2 = g_{-1} = 1$. Since $A$ has $3$ distinct eigenvalues, it follows that $A$ is diagonalisable, and that the diagonal matrix $P ^ {-1}AP$ is\n",
    "$$\n",
    "\\begin{pmatrix}\n",
    "-1 & 0 & 0 \\\\\n",
    "0  & 2 & 0 \\\\\n",
    "0  & 0 & 3\n",
    "\\end{pmatrix}.\n",
    "$$\n",
    "To find $P$ it suffices to find a basis $\\mathscr{B} = \\{\\vec{v}_1, \\vec{v}_2, \\vec{v}_3\\}$ for $\\mathbb{R} ^ 3$ consisting of eigenvectors for $A$."
   ]
  },
  {
   "cell_type": "code",
   "execution_count": 2,
   "metadata": {},
   "outputs": [],
   "source": [
    "from sympy.abc import x, y, z\n",
    "from sympy import solve, eye"
   ]
  },
  {
   "cell_type": "code",
   "execution_count": 3,
   "metadata": {},
   "outputs": [
    {
     "data": {
      "text/plain": [
       "{x: -z/2, y: -z/2}"
      ]
     },
     "execution_count": 3,
     "metadata": {},
     "output_type": "execute_result"
    }
   ],
   "source": [
    "v1 = Matrix([x, y, z])\n",
    "solve(A * v1 + v1, [x, y, z])"
   ]
  },
  {
   "cell_type": "markdown",
   "metadata": {},
   "source": [
    "Setting $z = -2$, we obtain:"
   ]
  },
  {
   "cell_type": "code",
   "execution_count": 4,
   "metadata": {},
   "outputs": [],
   "source": [
    "v1 = Matrix([1, 1, -2])"
   ]
  },
  {
   "cell_type": "code",
   "execution_count": 5,
   "metadata": {},
   "outputs": [
    {
     "data": {
      "text/plain": [
       "{x: 0, y: 0}"
      ]
     },
     "execution_count": 5,
     "metadata": {},
     "output_type": "execute_result"
    }
   ],
   "source": [
    "v2 = Matrix([x, y, z])\n",
    "solve(A * v2 - 2* v2, [x, y, z])"
   ]
  },
  {
   "cell_type": "markdown",
   "metadata": {},
   "source": [
    "Setting $z = 1$ we obtain"
   ]
  },
  {
   "cell_type": "code",
   "execution_count": 6,
   "metadata": {},
   "outputs": [],
   "source": [
    "v2 = Matrix([0, 0, 1])"
   ]
  },
  {
   "cell_type": "code",
   "execution_count": 7,
   "metadata": {},
   "outputs": [
    {
     "data": {
      "text/plain": [
       "{y: 0, z: 0}"
      ]
     },
     "execution_count": 7,
     "metadata": {},
     "output_type": "execute_result"
    }
   ],
   "source": [
    "v3 = Matrix([x, y, z])\n",
    "solve(A * v3 - 3* v3, [x, y, z])"
   ]
  },
  {
   "cell_type": "code",
   "execution_count": 8,
   "metadata": {},
   "outputs": [],
   "source": [
    "v3 = Matrix([1, 0, 0])"
   ]
  },
  {
   "cell_type": "markdown",
   "metadata": {},
   "source": [
    "So, the required basis $\\mathscr{B}$ is:\n",
    "$$\n",
    "\\mathscr{B}\n",
    "= \\left\\{\n",
    "\\vec{v}_1 = \n",
    "\\begin{pmatrix}\n",
    "1 \\\\ 1 \\\\ -2\n",
    "\\end{pmatrix}, \\quad\n",
    "\\vec{v}_2 =\n",
    "\\begin{pmatrix}\n",
    "0 \\\\ 0 \\\\ 1\n",
    "\\end{pmatrix}, \\quad\n",
    "\\vec{v}_3 = \n",
    "\\begin{pmatrix}\n",
    "1 \\\\ 0 \\\\ 0\n",
    "\\end{pmatrix}\n",
    "\\right\\}\n",
    "$$\n",
    "(we know that $\\mathscr{B}$ is linearly independent because it consists of eigenvectors for distinct eigenvalues).\n",
    "\n",
    "The change of basis matrix is then $P = \\operatorname{Mat}_{\\mathscr{B}, \\mathscr{C}}(\\operatorname{id})$ where $\\mathscr{C}$ is the standard basis for $\\mathbb{R} ^ 3$, and so \n",
    "$$\n",
    "P = \\begin{pmatrix}\n",
    "1 & 0 & 1 \\\\\n",
    "1 & 0 & 0 \\\\\n",
    "-2 & 1 & 0\n",
    "\\end{pmatrix}.\n",
    "$$\n",
    "Let's double-check:"
   ]
  },
  {
   "cell_type": "code",
   "execution_count": 9,
   "metadata": {},
   "outputs": [
    {
     "data": {
      "text/latex": [
       "$\\displaystyle \\left[\\begin{matrix}-1 & 0 & 0\\\\0 & 2 & 0\\\\0 & 0 & 3\\end{matrix}\\right]$"
      ],
      "text/plain": [
       "Matrix([\n",
       "[-1, 0, 0],\n",
       "[ 0, 2, 0],\n",
       "[ 0, 0, 3]])"
      ]
     },
     "execution_count": 9,
     "metadata": {},
     "output_type": "execute_result"
    }
   ],
   "source": [
    "P = Matrix([[1, 0, 1], [1, 0, 0], [-2, 1, 0]])\n",
    "P ** -1 * A * P"
   ]
  },
  {
   "cell_type": "markdown",
   "metadata": {},
   "source": [
    "## Solution to Problem 2(b)"
   ]
  },
  {
   "cell_type": "code",
   "execution_count": 10,
   "metadata": {},
   "outputs": [],
   "source": [
    "A = Matrix([[1, 1, -1], [-2, 4, -2], [0, 1, 0]])"
   ]
  },
  {
   "cell_type": "code",
   "execution_count": 11,
   "metadata": {},
   "outputs": [
    {
     "data": {
      "text/latex": [
       "$\\displaystyle \\left(\\lambda - 2\\right)^{2} \\left(\\lambda - 1\\right)$"
      ],
      "text/plain": [
       "(lambda - 2)**2*(lambda - 1)"
      ]
     },
     "execution_count": 11,
     "metadata": {},
     "output_type": "execute_result"
    }
   ],
   "source": [
    "factor(A.charpoly().as_expr())"
   ]
  },
  {
   "cell_type": "markdown",
   "metadata": {},
   "source": [
    "Hence $c_A(x) = (x - 2) ^ 2(x - 1)$ and the eigenvalues of $A$ are $2$ and $1$ with algebraic multiplicities $a_2 = 2$ and $a_1 = 1$. Since $1 \\leq g_{1} \\leq a_{1}$, it follows that $g_1 = 1$. To find $g_2$, we must compute $\\dim\\ker A - 2I$ and so we compute:"
   ]
  },
  {
   "cell_type": "code",
   "execution_count": 12,
   "metadata": {},
   "outputs": [
    {
     "data": {
      "text/plain": [
       "2"
      ]
     },
     "execution_count": 12,
     "metadata": {},
     "output_type": "execute_result"
    }
   ],
   "source": [
    "(A - 2 * eye(3)).rank()"
   ]
  },
  {
   "cell_type": "markdown",
   "metadata": {},
   "source": [
    "Hence, by the Rank-Nullity Theorem, $g_2 = \\dim\\ker A - 2I = 3 - 2 = 1$. Since $g_2 < a_2$, $A$ is not diagonalisable. "
   ]
  },
  {
   "cell_type": "markdown",
   "metadata": {},
   "source": [
    "## Solution to Problem 2(c)"
   ]
  },
  {
   "cell_type": "code",
   "execution_count": 13,
   "metadata": {},
   "outputs": [],
   "source": [
    "from sympy import Matrix, factor, eye"
   ]
  },
  {
   "cell_type": "code",
   "execution_count": 14,
   "metadata": {},
   "outputs": [],
   "source": [
    "A = Matrix([[5, 2, 2], [2, 2, -4], [2, -4, 2]])"
   ]
  },
  {
   "cell_type": "code",
   "execution_count": 15,
   "metadata": {},
   "outputs": [
    {
     "data": {
      "text/latex": [
       "$\\displaystyle \\left(\\lambda - 6\\right)^{2} \\left(\\lambda + 3\\right)$"
      ],
      "text/plain": [
       "(lambda - 6)**2*(lambda + 3)"
      ]
     },
     "execution_count": 15,
     "metadata": {},
     "output_type": "execute_result"
    }
   ],
   "source": [
    "factor(A.charpoly().as_expr())"
   ]
  },
  {
   "cell_type": "markdown",
   "metadata": {},
   "source": [
    "Hence $c_A(x) = (x - 6) ^ 2(x + 3)$ and the eigenvalues of $A$ are $6$ and $-3$ with algebraic multiplicities $a_6 = 2$ and $a_{-3} = 1$. Since $1 \\leq g_{-3} \\leq a_{-3}$, it follows that $g_{-3} = 1$.\n",
    "To find $g_6$, we must compute $\\dim\\ker A - 6I$ and so we compute:"
   ]
  },
  {
   "cell_type": "code",
   "execution_count": 16,
   "metadata": {},
   "outputs": [
    {
     "data": {
      "text/plain": [
       "1"
      ]
     },
     "execution_count": 16,
     "metadata": {},
     "output_type": "execute_result"
    }
   ],
   "source": [
    "(A - 6 * eye(3)).rank()"
   ]
  },
  {
   "cell_type": "markdown",
   "metadata": {},
   "source": [
    "Hence, by the Rank-Nullity Theorem, $g_6 = \\dim\\ker A - 6I = 3 - 1 = 2 = a_6$, and so, by Theorem 9.1.5(iii), $A$ is diagonalisable and the diagonal matrix $P ^ {-1} A P$ is\n",
    "$$\n",
    "\\begin{pmatrix}\n",
    "-3 & 0 & 0 \\\\\n",
    "0  & 6 & 0 \\\\\n",
    "0  & 0 & 6\n",
    "\\end{pmatrix}.\n",
    "$$\n",
    "As above, we find a basis consisting of eigenvectors for $A$:"
   ]
  },
  {
   "cell_type": "code",
   "execution_count": 17,
   "metadata": {},
   "outputs": [],
   "source": [
    "from sympy.abc import x, y, z\n",
    "from sympy import solve\n"
   ]
  },
  {
   "cell_type": "code",
   "execution_count": 18,
   "metadata": {},
   "outputs": [
    {
     "data": {
      "text/plain": [
       "{x: -z/2, y: z}"
      ]
     },
     "execution_count": 18,
     "metadata": {},
     "output_type": "execute_result"
    }
   ],
   "source": [
    "v1 = Matrix([x, y, z])\n",
    "solve(A * v1 + 3 * v1, [x, y, z])"
   ]
  },
  {
   "cell_type": "code",
   "execution_count": 19,
   "metadata": {},
   "outputs": [],
   "source": [
    "v1 = Matrix([1, -2, -2])"
   ]
  },
  {
   "cell_type": "code",
   "execution_count": 20,
   "metadata": {},
   "outputs": [
    {
     "data": {
      "text/plain": [
       "{x: 2*y + 2*z}"
      ]
     },
     "execution_count": 20,
     "metadata": {},
     "output_type": "execute_result"
    }
   ],
   "source": [
    "v2 = Matrix([x, y, z])\n",
    "solve(A * v2 - 6 * v2, [x, y, z])"
   ]
  },
  {
   "cell_type": "code",
   "execution_count": 21,
   "metadata": {},
   "outputs": [],
   "source": [
    "v2, v3 = Matrix([2, 1, 0]), Matrix([2, 0, 1])"
   ]
  },
  {
   "cell_type": "code",
   "execution_count": 22,
   "metadata": {},
   "outputs": [
    {
     "data": {
      "text/plain": [
       "3"
      ]
     },
     "execution_count": 22,
     "metadata": {},
     "output_type": "execute_result"
    }
   ],
   "source": [
    "Matrix([[1, -2, -2], [2, 1, 0], [2, 0, 1]]).rank() # double check that v1, v2, v3 are linearly independent"
   ]
  },
  {
   "cell_type": "markdown",
   "metadata": {},
   "source": [
    "Hence: \n",
    "$$\n",
    "P = \n",
    "\\begin{pmatrix}\n",
    "1 & 2 & 2 \\\\\n",
    "-2 & 1 & 0 \\\\\n",
    "-2 & 0 & 1 \n",
    "\\end{pmatrix}\n",
    "$$"
   ]
  },
  {
   "cell_type": "code",
   "execution_count": 23,
   "metadata": {},
   "outputs": [
    {
     "data": {
      "text/latex": [
       "$\\displaystyle \\left[\\begin{matrix}-3 & 0 & 0\\\\0 & 6 & 0\\\\0 & 0 & 6\\end{matrix}\\right]$"
      ],
      "text/plain": [
       "Matrix([\n",
       "[-3, 0, 0],\n",
       "[ 0, 6, 0],\n",
       "[ 0, 0, 6]])"
      ]
     },
     "execution_count": 23,
     "metadata": {},
     "output_type": "execute_result"
    }
   ],
   "source": [
    "P = Matrix([[1, 2, 2], [-2, 1, 0], [-2, 0, 1]])\n",
    "P ** - 1 * A * P"
   ]
  },
  {
   "cell_type": "markdown",
   "metadata": {},
   "source": [
    "## Solution to Problem 2(d)"
   ]
  },
  {
   "cell_type": "code",
   "execution_count": 24,
   "metadata": {},
   "outputs": [],
   "source": [
    "from sympy import Matrix, factor, eye"
   ]
  },
  {
   "cell_type": "code",
   "execution_count": 25,
   "metadata": {},
   "outputs": [],
   "source": [
    "A = Matrix([[3, 4, 4], [1, 3, 0], [-2, -4, -1]])"
   ]
  },
  {
   "cell_type": "code",
   "execution_count": 26,
   "metadata": {},
   "outputs": [
    {
     "data": {
      "text/latex": [
       "$\\displaystyle \\left(\\lambda - 3\\right) \\left(\\lambda - 1\\right)^{2}$"
      ],
      "text/plain": [
       "(lambda - 3)*(lambda - 1)**2"
      ]
     },
     "execution_count": 26,
     "metadata": {},
     "output_type": "execute_result"
    }
   ],
   "source": [
    "factor(A.charpoly().as_expr())"
   ]
  },
  {
   "cell_type": "markdown",
   "metadata": {},
   "source": [
    "Hence $c_A(x) = (x - 3)(x - 1) ^ 2$ and the eigenvalues of $A$ are $3$ and $1$ with algebraic multiplicities $a_3 = 1$ and $a_{1} = 2$. Since $1 \\leq g_{3} \\leq a_{3}$, it follows that $g_{3} = 1$.\n",
    "To find $g_1$, we must compute $\\dim\\ker A - I$ and so we compute:"
   ]
  },
  {
   "cell_type": "code",
   "execution_count": 27,
   "metadata": {},
   "outputs": [
    {
     "data": {
      "text/plain": [
       "2"
      ]
     },
     "execution_count": 27,
     "metadata": {},
     "output_type": "execute_result"
    }
   ],
   "source": [
    "(A - eye(3)).rank()"
   ]
  },
  {
   "cell_type": "markdown",
   "metadata": {},
   "source": [
    "Hence, as above, $g_1 = 1 < 2 = a_1$, and so $A$ is not diagonalisable."
   ]
  },
  {
   "cell_type": "markdown",
   "metadata": {},
   "source": [
    "## Solution to Problem 2(e)"
   ]
  },
  {
   "cell_type": "code",
   "execution_count": 28,
   "metadata": {},
   "outputs": [
    {
     "data": {
      "text/latex": [
       "$\\displaystyle \\left(\\lambda - 2\\right)^{3}$"
      ],
      "text/plain": [
       "(lambda - 2)**3"
      ]
     },
     "execution_count": 28,
     "metadata": {},
     "output_type": "execute_result"
    }
   ],
   "source": [
    "from sympy import Matrix, factor, eye\n",
    "A = Matrix([[1, 0, 1], [0, 2, 1], [-1, 0, 3]])\n",
    "factor(A.charpoly().as_expr())"
   ]
  },
  {
   "cell_type": "markdown",
   "metadata": {},
   "source": [
    "Hence $c_A(x) = (x - 2) ^ 3$ and the only eigenvalue of $A$ is $2$ with algebraic multiplicity $a_2 = 3$. \n",
    "To find $g_2$, we must compute $\\dim\\ker A - 2I$ and so we compute:"
   ]
  },
  {
   "cell_type": "code",
   "execution_count": 29,
   "metadata": {},
   "outputs": [
    {
     "data": {
      "text/plain": [
       "2"
      ]
     },
     "execution_count": 29,
     "metadata": {},
     "output_type": "execute_result"
    }
   ],
   "source": [
    "(A - 2* eye(3)).rank()"
   ]
  },
  {
   "cell_type": "markdown",
   "metadata": {},
   "source": [
    "Hence, as above, $g_2 = 1 < 3 = a_2$ and so $A$ is not diagonalisable."
   ]
  },
  {
   "cell_type": "markdown",
   "metadata": {},
   "source": [
    "## Solution to Problem 2(f)"
   ]
  },
  {
   "cell_type": "code",
   "execution_count": 30,
   "metadata": {},
   "outputs": [
    {
     "data": {
      "text/latex": [
       "$\\displaystyle \\left(\\lambda - 2\\right)^{3}$"
      ],
      "text/plain": [
       "(lambda - 2)**3"
      ]
     },
     "execution_count": 30,
     "metadata": {},
     "output_type": "execute_result"
    }
   ],
   "source": [
    "from sympy import Matrix, factor, eye\n",
    "A = Matrix([[2, -1, 0], [0, 2, 0], [-1, 1, 2]])\n",
    "factor(A.charpoly().as_expr())"
   ]
  },
  {
   "cell_type": "markdown",
   "metadata": {},
   "source": [
    "Hence $c_A(x) = (x - 2) ^ 3$ and the only eigenvalue of $A$ is $2$ with algebraic multiplicity $a_2 = 3$. \n",
    "To find $g_2$, we must compute $\\dim\\ker A - 2I$ and so we compute:"
   ]
  },
  {
   "cell_type": "code",
   "execution_count": 31,
   "metadata": {},
   "outputs": [
    {
     "data": {
      "text/plain": [
       "2"
      ]
     },
     "execution_count": 31,
     "metadata": {},
     "output_type": "execute_result"
    }
   ],
   "source": [
    "(A - 2* eye(3)).rank()"
   ]
  },
  {
   "cell_type": "markdown",
   "metadata": {},
   "source": [
    "Hence, as above, $g_2 = 1 < 3 = a_2$ and so $A$ is not diagonalisable."
   ]
  },
  {
   "cell_type": "markdown",
   "metadata": {},
   "source": [
    "## Solution to Problem 2(g)"
   ]
  },
  {
   "cell_type": "code",
   "execution_count": 32,
   "metadata": {},
   "outputs": [
    {
     "data": {
      "text/latex": [
       "$\\displaystyle \\left(\\lambda - 1\\right)^{3}$"
      ],
      "text/plain": [
       "(lambda - 1)**3"
      ]
     },
     "execution_count": 32,
     "metadata": {},
     "output_type": "execute_result"
    }
   ],
   "source": [
    "from sympy import Matrix, factor, eye\n",
    "A = Matrix([[-2, -3, 0], [3, 4, 0], [6, 6, 1]])\n",
    "factor(A.charpoly().as_expr())"
   ]
  },
  {
   "cell_type": "markdown",
   "metadata": {},
   "source": [
    "Hence $c_A(x) = (x - 1) ^ 3$ and the only eigenvalue of $A$ is $1$ with algebraic multiplicity $a_1 = 3$. \n",
    "To find $g_1$, we must compute $\\dim\\ker A - I$ and so we compute:"
   ]
  },
  {
   "cell_type": "code",
   "execution_count": 33,
   "metadata": {},
   "outputs": [
    {
     "data": {
      "text/plain": [
       "1"
      ]
     },
     "execution_count": 33,
     "metadata": {},
     "output_type": "execute_result"
    }
   ],
   "source": [
    "(A - eye(3)).rank()"
   ]
  },
  {
   "cell_type": "markdown",
   "metadata": {},
   "source": [
    "Hence, as above, $g_1 = 2 < 3 = a_1$ and so $A$ is not diagonalisable."
   ]
  },
  {
   "cell_type": "markdown",
   "metadata": {},
   "source": [
    "## Problem 3(e)"
   ]
  },
  {
   "cell_type": "markdown",
   "metadata": {},
   "source": [
    "Suppose that\n",
    "$$\n",
    "A = \\begin{pmatrix}\n",
    "1 & 0 & 1 \\\\\n",
    "0 & 2 & 1 \\\\\n",
    "-1 & 0 & 3\n",
    "\\end{pmatrix}\n",
    "$$\n",
    "find the minimum polynomial of $A$."
   ]
  },
  {
   "cell_type": "markdown",
   "metadata": {},
   "source": [
    "## Solution to Problem 3(e)"
   ]
  },
  {
   "cell_type": "markdown",
   "metadata": {},
   "source": [
    "We showed in Problem 2(e) that $c_A(x) = (x - 2) ^ 3$ and so $m_A(x)$ is one of $(x - 2) ^ 2$ and $(x - 2) ^ 3$ (the first one so that $m_A(A)$ is the zero matrix):"
   ]
  },
  {
   "cell_type": "code",
   "execution_count": 34,
   "metadata": {},
   "outputs": [],
   "source": [
    "from sympy import Matrix, eye\n",
    "A = Matrix([[1, 0, 1], [0, 2, 1], [-1, 0, 3]])"
   ]
  },
  {
   "cell_type": "code",
   "execution_count": 35,
   "metadata": {},
   "outputs": [
    {
     "data": {
      "text/latex": [
       "$\\displaystyle \\left[\\begin{matrix}0 & 0 & 0\\\\-1 & 0 & 1\\\\0 & 0 & 0\\end{matrix}\\right]$"
      ],
      "text/plain": [
       "Matrix([\n",
       "[ 0, 0, 0],\n",
       "[-1, 0, 1],\n",
       "[ 0, 0, 0]])"
      ]
     },
     "execution_count": 35,
     "metadata": {},
     "output_type": "execute_result"
    }
   ],
   "source": [
    "(A - 2 * eye(3)) ** 2"
   ]
  },
  {
   "cell_type": "markdown",
   "metadata": {},
   "source": [
    "Hence $m_A(x) = (x - 2) ^ 3$, double-check:"
   ]
  },
  {
   "cell_type": "code",
   "execution_count": 36,
   "metadata": {},
   "outputs": [
    {
     "data": {
      "text/latex": [
       "$\\displaystyle \\left[\\begin{matrix}0 & 0 & 0\\\\0 & 0 & 0\\\\0 & 0 & 0\\end{matrix}\\right]$"
      ],
      "text/plain": [
       "Matrix([\n",
       "[0, 0, 0],\n",
       "[0, 0, 0],\n",
       "[0, 0, 0]])"
      ]
     },
     "execution_count": 36,
     "metadata": {},
     "output_type": "execute_result"
    }
   ],
   "source": [
    "(A - 2 * eye(3)) ** 3"
   ]
  },
  {
   "cell_type": "markdown",
   "metadata": {},
   "source": [
    "## Problem 3(f)"
   ]
  },
  {
   "cell_type": "markdown",
   "metadata": {},
   "source": [
    "Suppose that\n",
    "$$\n",
    "A = \\begin{pmatrix}\n",
    "2 & -1 & 0 \\\\\n",
    "0 & 2 & 0 \\\\\n",
    "-1 & 1 & 2\n",
    "\\end{pmatrix}\n",
    "$$\n",
    "find the minimum polynomial of $A$."
   ]
  },
  {
   "cell_type": "markdown",
   "metadata": {},
   "source": [
    "## Solution to Problem 3(f)"
   ]
  },
  {
   "cell_type": "markdown",
   "metadata": {},
   "source": [
    "We showed in Problem 2(f) that $c_A(x) = (x - 2) ^ 3$ and so $m_A(x)$ is one of $(x - 2) ^ 2$ or $(x - 2) ^ 3$ (the first one so that $m_A(A)$ is the zero matrix):"
   ]
  },
  {
   "cell_type": "code",
   "execution_count": 37,
   "metadata": {},
   "outputs": [],
   "source": [
    "from sympy import Matrix, factor, eye\n",
    "A = Matrix([[2, -1, 0], [0, 2, 0], [-1, 1, 2]])"
   ]
  },
  {
   "cell_type": "code",
   "execution_count": 38,
   "metadata": {},
   "outputs": [
    {
     "data": {
      "text/latex": [
       "$\\displaystyle \\left[\\begin{matrix}0 & 0 & 0\\\\0 & 0 & 0\\\\0 & 1 & 0\\end{matrix}\\right]$"
      ],
      "text/plain": [
       "Matrix([\n",
       "[0, 0, 0],\n",
       "[0, 0, 0],\n",
       "[0, 1, 0]])"
      ]
     },
     "execution_count": 38,
     "metadata": {},
     "output_type": "execute_result"
    }
   ],
   "source": [
    "(A - 2 * eye(3)) ** 2"
   ]
  },
  {
   "cell_type": "markdown",
   "metadata": {},
   "source": [
    "Hence $m_A(x) = (x - 2) ^ 3$, double-check:"
   ]
  },
  {
   "cell_type": "code",
   "execution_count": 39,
   "metadata": {},
   "outputs": [
    {
     "data": {
      "text/latex": [
       "$\\displaystyle \\left[\\begin{matrix}0 & 0 & 0\\\\0 & 0 & 0\\\\0 & 0 & 0\\end{matrix}\\right]$"
      ],
      "text/plain": [
       "Matrix([\n",
       "[0, 0, 0],\n",
       "[0, 0, 0],\n",
       "[0, 0, 0]])"
      ]
     },
     "execution_count": 39,
     "metadata": {},
     "output_type": "execute_result"
    }
   ],
   "source": [
    "(A - 2 * eye(3)) ** 3"
   ]
  },
  {
   "cell_type": "markdown",
   "metadata": {},
   "source": [
    "## Problem 3(g)"
   ]
  },
  {
   "cell_type": "markdown",
   "metadata": {},
   "source": [
    "Suppose that\n",
    "$$\n",
    "A = \\begin{pmatrix}\n",
    "-2 & -3 & 0 \\\\\n",
    "3 & 4 & 0 \\\\\n",
    "6 & 6 & 1\n",
    "\\end{pmatrix}\n",
    "$$\n",
    "find the minimum polynomial of $A$."
   ]
  },
  {
   "cell_type": "markdown",
   "metadata": {},
   "source": [
    "## Solution to Problem 3(g)"
   ]
  },
  {
   "cell_type": "markdown",
   "metadata": {},
   "source": [
    "We showed in Problem 2(g) that $c_A(x) = (x - 1) ^ 3$ and so $m_A(x)$ is one of $(x - 1) ^ 2$ or $(x - 1) ^ 3$ (the first one so that $m_A(A)$ is the zero matrix):"
   ]
  },
  {
   "cell_type": "code",
   "execution_count": 40,
   "metadata": {},
   "outputs": [],
   "source": [
    "from sympy import Matrix, factor, eye\n",
    "A = Matrix([[-2, -3, 0], [3, 4, 0], [6, 6, 1]])"
   ]
  },
  {
   "cell_type": "code",
   "execution_count": 41,
   "metadata": {},
   "outputs": [
    {
     "data": {
      "text/latex": [
       "$\\displaystyle \\left[\\begin{matrix}0 & 0 & 0\\\\0 & 0 & 0\\\\0 & 0 & 0\\end{matrix}\\right]$"
      ],
      "text/plain": [
       "Matrix([\n",
       "[0, 0, 0],\n",
       "[0, 0, 0],\n",
       "[0, 0, 0]])"
      ]
     },
     "execution_count": 41,
     "metadata": {},
     "output_type": "execute_result"
    }
   ],
   "source": [
    "(A - eye(3)) ** 2"
   ]
  },
  {
   "cell_type": "markdown",
   "metadata": {},
   "source": [
    "Hence $m_A(x) = (x - 1) ^ 2$."
   ]
  },
  {
   "cell_type": "markdown",
   "metadata": {},
   "source": [
    "## Problem 4"
   ]
  },
  {
   "cell_type": "markdown",
   "metadata": {},
   "source": [
    "Let\n",
    "$$\n",
    "A = \\begin{pmatrix}\n",
    "1 & 1 & 0 \\\\\n",
    "0 & 2 & 0 \\\\\n",
    "0 & 0 & 1\n",
    "\\end{pmatrix}\n",
    "\\qquad \\text{and} \\qquad\n",
    "B = \\begin{pmatrix}\n",
    "2 & 0 & 0 \\\\\n",
    "0 & 2 & 2 \\\\\n",
    "0 & 0 & 1\n",
    "\\end{pmatrix}.\n",
    "$$\n",
    "Show that $A$ and $B$ have the same minimum polynomial."
   ]
  },
  {
   "cell_type": "markdown",
   "metadata": {},
   "source": [
    "## Solution to Problem 4"
   ]
  },
  {
   "cell_type": "markdown",
   "metadata": {},
   "source": [
    "We showed in Problem 4 on the Section 8 Problem Sheet that $c_A(x) = (x - 2)(x - 1) ^ 2$ and that $c_B(x) = (x -2)^ 2(x - 1)$, hence if $m_A(x) = m_B(x)$, then they are both $(x - 2)(x - 1)$, let's check:"
   ]
  },
  {
   "cell_type": "code",
   "execution_count": 42,
   "metadata": {},
   "outputs": [],
   "source": [
    "from sympy import Matrix, eye\n",
    "A = Matrix([[1, 1, 0], [0, 2, 0], [0, 0, 1]])\n",
    "B = Matrix([[2, 0, 0], [0, 2, 2], [0, 0, 1]])"
   ]
  },
  {
   "cell_type": "code",
   "execution_count": 43,
   "metadata": {},
   "outputs": [
    {
     "data": {
      "text/latex": [
       "$\\displaystyle \\left[\\begin{matrix}0 & 0 & 0\\\\0 & 0 & 0\\\\0 & 0 & 0\\end{matrix}\\right]$"
      ],
      "text/plain": [
       "Matrix([\n",
       "[0, 0, 0],\n",
       "[0, 0, 0],\n",
       "[0, 0, 0]])"
      ]
     },
     "execution_count": 43,
     "metadata": {},
     "output_type": "execute_result"
    }
   ],
   "source": [
    "(A - 2 * eye(3)) * (A - eye(3))"
   ]
  },
  {
   "cell_type": "code",
   "execution_count": 44,
   "metadata": {},
   "outputs": [
    {
     "data": {
      "text/latex": [
       "$\\displaystyle \\left[\\begin{matrix}0 & 0 & 0\\\\0 & 0 & 0\\\\0 & 0 & 0\\end{matrix}\\right]$"
      ],
      "text/plain": [
       "Matrix([\n",
       "[0, 0, 0],\n",
       "[0, 0, 0],\n",
       "[0, 0, 0]])"
      ]
     },
     "execution_count": 44,
     "metadata": {},
     "output_type": "execute_result"
    }
   ],
   "source": [
    "(B - 2 * eye(3)) * (B - eye(3))"
   ]
  },
  {
   "cell_type": "markdown",
   "metadata": {},
   "source": [
    "Bingo!"
   ]
  },
  {
   "cell_type": "markdown",
   "metadata": {},
   "source": [
    "## Problem 5"
   ]
  },
  {
   "cell_type": "markdown",
   "metadata": {},
   "source": [
    "## Solution to Problem 5"
   ]
  },
  {
   "cell_type": "code",
   "execution_count": 45,
   "metadata": {},
   "outputs": [
    {
     "data": {
      "text/latex": [
       "$\\displaystyle \\left(\\lambda - 2\\right)^{2} \\left(\\lambda + 3\\right)^{2}$"
      ],
      "text/plain": [
       "(lambda - 2)**2*(lambda + 3)**2"
      ]
     },
     "execution_count": 45,
     "metadata": {},
     "output_type": "execute_result"
    }
   ],
   "source": [
    "from sympy import Matrix, factor, eye\n",
    "A = Matrix([[2, 1, 0, -1], [-2, 5, -1, -7], [-12, 16, -4, -15], [-2, 3, -1, -5]])\n",
    "factor(A.charpoly().as_expr())"
   ]
  },
  {
   "cell_type": "code",
   "execution_count": 46,
   "metadata": {},
   "outputs": [
    {
     "data": {
      "text/latex": [
       "$\\displaystyle \\left[\\begin{matrix}0 & 5 & 0 & -5\\\\10 & -15 & 5 & 10\\\\10 & -25 & 5 & 20\\\\10 & -15 & 5 & 10\\end{matrix}\\right]$"
      ],
      "text/plain": [
       "Matrix([\n",
       "[ 0,   5, 0, -5],\n",
       "[10, -15, 5, 10],\n",
       "[10, -25, 5, 20],\n",
       "[10, -15, 5, 10]])"
      ]
     },
     "execution_count": 46,
     "metadata": {},
     "output_type": "execute_result"
    }
   ],
   "source": [
    "(A - 2 * eye(4)) * (A + 3 * eye(4))"
   ]
  },
  {
   "cell_type": "markdown",
   "metadata": {},
   "source": [
    "This is not the zero matrix and so $m_A(x)$ is not a product of distinct linear factors, and so $A$ is not diagonalisable. "
   ]
  }
 ],
 "metadata": {
  "kernelspec": {
   "display_name": "Python 3",
   "language": "python",
   "name": "python3"
  },
  "language_info": {
   "codemirror_mode": {
    "name": "ipython",
    "version": 3
   },
   "file_extension": ".py",
   "mimetype": "text/x-python",
   "name": "python",
   "nbconvert_exporter": "python",
   "pygments_lexer": "ipython3",
   "version": "3.9.8"
  }
 },
 "nbformat": 4,
 "nbformat_minor": 4
}
