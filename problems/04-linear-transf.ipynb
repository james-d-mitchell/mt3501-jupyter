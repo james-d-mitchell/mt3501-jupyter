{
 "cells": [
  {
   "cell_type": "markdown",
   "metadata": {},
   "source": [
    "# MT3501 - Section 4 - Problem Sheet - Supplementary notebook\n",
    "# Linear transformations"
   ]
  },
  {
   "cell_type": "markdown",
   "metadata": {},
   "source": [
    "## [FAQs](faq.ipynb)"
   ]
  },
  {
   "cell_type": "markdown",
   "metadata": {
    "heading_collapsed": true
   },
   "source": [
    "## Problem 1"
   ]
  },
  {
   "cell_type": "markdown",
   "metadata": {
    "hidden": true
   },
   "source": [
    "  Define a function $T \\colon \\mathbb{R}^{3} \\to \\mathbb{R}^{3}$ by\n",
    "$$\n",
    "T \\begin{pmatrix} x \\\\\n",
    " y \\\\\n",
    " z \\\\\n",
    " \\end{pmatrix} = \\begin{pmatrix} x+3y-z \\\\\n",
    " x+2y-2z \\\\\n",
    " -x+4z \\\\\n",
    " \\end{pmatrix}.\n",
    "$$"
   ]
  },
  {
   "cell_type": "markdown",
   "metadata": {
    "heading_collapsed": true,
    "hidden": true
   },
   "source": [
    "### Problem 1(b)"
   ]
  },
  {
   "cell_type": "markdown",
   "metadata": {
    "hidden": true
   },
   "source": [
    "Determine the kernel of $T$ and find a basis for $\\ker T$.   (Hint: Solving $T(\\vec{v}) = \\vec{0}$ will correspond to solving a set of simultaneous linear equations.)"
   ]
  },
  {
   "cell_type": "markdown",
   "metadata": {
    "heading_collapsed": true,
    "hidden": true
   },
   "source": [
    "### Solution 1(b)"
   ]
  },
  {
   "cell_type": "markdown",
   "metadata": {
    "hidden": true
   },
   "source": [
    "Since\n",
    "$$\n",
    "T \\begin{pmatrix} x \\\\\n",
    " y \\\\\n",
    " z \\\\\n",
    " \\end{pmatrix} = \\begin{pmatrix} x+3y-z \\\\\n",
    " x+2y-2z \\\\\n",
    " -x+4z \\\\\n",
    " \\end{pmatrix} \n",
    " = \n",
    " \\begin{pmatrix}\n",
    " 1 & 3 & -1 \\\\\n",
    " 1 & 2 & -2 \\\\\n",
    " -1 & 0 & 4 \n",
    " \\end{pmatrix}\n",
    " \\begin{pmatrix} x \\\\\n",
    " y \\\\\n",
    " z \\\\\n",
    " \\end{pmatrix},\n",
    "$$\n",
    "we solve \n",
    "$$\n",
    " \\begin{pmatrix}\n",
    " 1 & 3 & -1 \\\\\n",
    " 1 & 2 & -2 \\\\\n",
    " -1 & 0 & 4 \n",
    " \\end{pmatrix}\n",
    " \\begin{pmatrix} \n",
    " x \\\\\n",
    " y \\\\\n",
    " z \\\\\n",
    " \\end{pmatrix}\n",
    " = \n",
    "  \\begin{pmatrix} \n",
    " 0 \\\\\n",
    " 0 \\\\\n",
    " 0 \\\\\n",
    " \\end{pmatrix}.\n",
    " $$"
   ]
  },
  {
   "cell_type": "code",
   "execution_count": 1,
   "metadata": {
    "hidden": true
   },
   "outputs": [],
   "source": [
    "from sympy import solve, Matrix\n",
    "from sympy.abc import x, y, z"
   ]
  },
  {
   "cell_type": "code",
   "execution_count": 2,
   "metadata": {
    "hidden": true
   },
   "outputs": [
    {
     "data": {
      "text/plain": [
       "{x: 4*z, y: -z}"
      ]
     },
     "execution_count": 2,
     "metadata": {},
     "output_type": "execute_result"
    }
   ],
   "source": [
    "solve(Matrix([[1, 3, -1], [1, 2, -2], [-1, 0, 4]]) * Matrix([x, y, z]), [x, y, z])"
   ]
  },
  {
   "cell_type": "markdown",
   "metadata": {
    "hidden": true
   },
   "source": [
    "Hence\n",
    "$$\\ker(T) = \\left\\{ \\begin{pmatrix} 4z \\\\ -z \\\\ z \\end{pmatrix} \\colon z \\in \\mathbb{R} \\right\\} = \\operatorname{Span}\\left( \\begin{pmatrix} 4 \\\\ -1 \\\\ 1 \\end{pmatrix} \\right),$$\n",
    "and, in particular, the set\n",
    "$$\\left\\{\\begin{pmatrix} 4 \\\\ -1 \\\\ 1 \\end{pmatrix}\\right\\}$$\n",
    "is a basis for $\\ker(T)$."
   ]
  },
  {
   "cell_type": "markdown",
   "metadata": {
    "heading_collapsed": true,
    "hidden": true
   },
   "source": [
    "### Problem 1(c)"
   ]
  },
  {
   "cell_type": "markdown",
   "metadata": {
    "hidden": true
   },
   "source": [
    "Show that\n",
    "$$\n",
    "\\operatorname{im} T = \\operatorname{Span} \\left( \\begin{pmatrix} 1 \\\\\n",
    " 1 \\\\\n",
    " -1 \\\\\n",
    " \\end{pmatrix},\n",
    "\\begin{pmatrix} 3 \\\\\n",
    " 2 \\\\\n",
    " 0 \\\\\n",
    " \\end{pmatrix}, \\begin{pmatrix} -1 \\\\\n",
    " -2 \\\\\n",
    " 4 \\\\\n",
    " \\end{pmatrix} \\right).\n",
    "$$\n",
    "Hence find a basis for $\\operatorname{im} T$."
   ]
  },
  {
   "cell_type": "markdown",
   "metadata": {
    "hidden": true
   },
   "source": [
    "### Solution 1(c)"
   ]
  },
  {
   "cell_type": "markdown",
   "metadata": {
    "hidden": true
   },
   "source": [
    "As you can see in the pdf version of the solutions:\n",
    "$$\n",
    "T\\begin{pmatrix}\n",
    " x \\\\\n",
    " y \\\\\n",
    " z \\\\\n",
    " \\end{pmatrix} = \\begin{pmatrix}\n",
    " x+3y-z \\\\\n",
    " x+2y-2z \\\\\n",
    " -x+4z \\\\\n",
    " \\end{pmatrix} =\n",
    "x\\begin{pmatrix}\n",
    " 1 \\\\\n",
    " 1 \\\\\n",
    " -1 \\\\\n",
    " \\end{pmatrix} + y\\begin{pmatrix}\n",
    " 3 \\\\\n",
    " 2 \\\\\n",
    " 0 \\\\\n",
    " \\end{pmatrix} + z\\begin{pmatrix}\n",
    " -1 \\\\\n",
    " -2 \\\\\n",
    " 4 \\\\\n",
    " \\end{pmatrix},\n",
    "$$\n",
    "so\n",
    "\\begin{align*}\n",
    "\\operatorname{im} T &= \\left\\{ T\\begin{pmatrix}\n",
    " x \\\\\n",
    " y \\\\\n",
    " z \\\\\n",
    " \\end{pmatrix} \\biggm| \\begin{pmatrix}\n",
    " x \\\\\n",
    " y \\\\\n",
    " z \\\\\n",
    " \\end{pmatrix} \\in\n",
    "  \\mathbb{R}^{3} \\right\\} \\\\\n",
    "&= \\left\\{ x\\begin{pmatrix}\n",
    " 1 \\\\\n",
    " 1 \\\\\n",
    " -1 \\\\\n",
    " \\end{pmatrix} + y\\begin{pmatrix}\n",
    " 3 \\\\\n",
    " 2 \\\\\n",
    " 0 \\\\\n",
    " \\end{pmatrix} +\n",
    "  z\\begin{pmatrix}\n",
    " -1 \\\\\n",
    " -2 \\\\\n",
    " 4 \\\\\n",
    " \\end{pmatrix} \\biggm| x,y,z \\in \\mathbb{R} \\right\\} \\\\\n",
    "&= \\operatorname{Span} \\left( \\begin{pmatrix}\n",
    " 1 \\\\\n",
    " 1 \\\\\n",
    " -1 \\\\\n",
    " \\end{pmatrix},\n",
    "  \\begin{pmatrix}\n",
    " 3 \\\\\n",
    " 2 \\\\\n",
    " 0 \\\\\n",
    " \\end{pmatrix}, \\begin{pmatrix}\n",
    " -1 \\\\\n",
    " -2 \\\\\n",
    " 4 \\\\\n",
    " \\end{pmatrix} \\right).\n",
    "\\end{align*}"
   ]
  },
  {
   "cell_type": "markdown",
   "metadata": {
    "hidden": true
   },
   "source": [
    "We find a basis for $\\operatorname{im} T$ by making a matrix $A$ with rows equal to the three vectors:\n",
    "$$\n",
    "\\vec{v}_1 \n",
    "= \\begin{pmatrix}\n",
    " 1 \\\\\n",
    " 1 \\\\\n",
    " -1 \\\\\n",
    " \\end{pmatrix}, \\quad \n",
    " \\vec{v}_2\n",
    "= \\begin{pmatrix}\n",
    " 3 \\\\\n",
    " 2 \\\\\n",
    " 0 \\\\\n",
    " \\end{pmatrix}, \\quad\n",
    " \\vec{v}_3 = \n",
    " \\begin{pmatrix}\n",
    " -1 \\\\\n",
    " -2 \\\\\n",
    " 4 \\\\\n",
    " \\end{pmatrix}\n",
    "$$\n",
    "and finding a basis for the rowspace of that matrix."
   ]
  },
  {
   "cell_type": "code",
   "execution_count": 3,
   "metadata": {
    "hidden": true
   },
   "outputs": [],
   "source": [
    "v1, v2, v3 = [1, 1, -1], [3, 2, 0], [-1, -2, 4]"
   ]
  },
  {
   "cell_type": "code",
   "execution_count": 4,
   "metadata": {
    "hidden": true
   },
   "outputs": [
    {
     "data": {
      "text/plain": [
       "[Matrix([[1, 1, -1]]), Matrix([[0, -1, 3]])]"
      ]
     },
     "execution_count": 4,
     "metadata": {},
     "output_type": "execute_result"
    }
   ],
   "source": [
    "from sympy import Matrix\n",
    "Matrix([v1, v2, v3]).rowspace()"
   ]
  },
  {
   "cell_type": "markdown",
   "metadata": {
    "hidden": true
   },
   "source": [
    "So, a basis for $\\operatorname{im} T$ is:\n",
    "$$\n",
    "\\left\\{\n",
    "\\begin{pmatrix}\n",
    " 1 \\\\\n",
    " 1 \\\\\n",
    " -1 \\\\\n",
    " \\end{pmatrix}, \n",
    "\\begin{pmatrix}\n",
    " 0 \\\\\n",
    " -1 \\\\\n",
    " 3 \\\\\n",
    " \\end{pmatrix}\n",
    " \\right\\}.\n",
    "$$"
   ]
  },
  {
   "cell_type": "markdown",
   "metadata": {
    "hidden": true
   },
   "source": [
    "This is not the same as the basis in the pdf of the solutions. The high-level reason for this is that vector spaces (such as $\\operatorname{im} T$) have many different bases; the lower-level reason is that the \\`\\`algorithm\\'\\' used to compute solution in the pdf version of the solutions is not the same as the algorithm used by sympy. We can check that the two different sets of vectors span the same space by checking that:\n",
    "\n",
    "$$ \n",
    "\\begin{pmatrix}\n",
    "3 \\\\\n",
    "2 \\\\\n",
    "0 \n",
    "\\end{pmatrix}\n",
    "\\in \\operatorname{Span}\\left(\\begin{pmatrix}\n",
    " 1 \\\\\n",
    " 1 \\\\\n",
    " -1 \\\\\n",
    " \\end{pmatrix}, \n",
    "\\begin{pmatrix}\n",
    " 0 \\\\\n",
    " -1 \\\\\n",
    " 3 \\\\\n",
    " \\end{pmatrix}\\right),\n",
    " $$\n",
    " which is equivalent to showing that there exist $a, b\\in \\mathbb{R}$ such that:\n",
    " $$\n",
    " \\begin{pmatrix}\n",
    "3 \\\\\n",
    "2 \\\\\n",
    "0 \n",
    "\\end{pmatrix}\n",
    "= \n",
    "a\n",
    "\\begin{pmatrix}\n",
    " 1 \\\\\n",
    " 1 \\\\\n",
    " -1 \\\\\n",
    "\\end{pmatrix} \n",
    "+ b\n",
    "\\begin{pmatrix}\n",
    " 0 \\\\\n",
    " -1 \\\\\n",
    " 3 \\\\\n",
    " \\end{pmatrix}.\n",
    "$$"
   ]
  },
  {
   "cell_type": "markdown",
   "metadata": {
    "hidden": true
   },
   "source": [
    "Simplifying the above:"
   ]
  },
  {
   "cell_type": "code",
   "execution_count": 5,
   "metadata": {
    "hidden": true
   },
   "outputs": [],
   "source": [
    "from sympy import solve, Matrix\n",
    "from sympy.abc import a, b"
   ]
  },
  {
   "cell_type": "code",
   "execution_count": 6,
   "metadata": {
    "hidden": true
   },
   "outputs": [],
   "source": [
    "A = a* Matrix([1, 1, -1]) + b * Matrix([0, -1, 3]) - Matrix([3, 2, 0])"
   ]
  },
  {
   "cell_type": "code",
   "execution_count": 7,
   "metadata": {
    "hidden": true
   },
   "outputs": [
    {
     "data": {
      "text/latex": [
       "$\\displaystyle \\left[\\begin{matrix}a - 3\\\\a - b - 2\\\\- a + 3 b\\end{matrix}\\right]$"
      ],
      "text/plain": [
       "Matrix([\n",
       "[    a - 3],\n",
       "[a - b - 2],\n",
       "[ -a + 3*b]])"
      ]
     },
     "execution_count": 7,
     "metadata": {},
     "output_type": "execute_result"
    }
   ],
   "source": [
    "A"
   ]
  },
  {
   "cell_type": "code",
   "execution_count": 8,
   "metadata": {
    "hidden": true
   },
   "outputs": [
    {
     "data": {
      "text/plain": [
       "{a: 3, b: 1}"
      ]
     },
     "execution_count": 8,
     "metadata": {},
     "output_type": "execute_result"
    }
   ],
   "source": [
    "solve(A, [a, b])"
   ]
  },
  {
   "cell_type": "markdown",
   "metadata": {
    "hidden": true
   },
   "source": [
    "It follows that:\n",
    "$$\n",
    " \\begin{pmatrix}\n",
    "3 \\\\\n",
    "2 \\\\\n",
    "0 \n",
    "\\end{pmatrix}\n",
    "= \n",
    "3\n",
    "\\begin{pmatrix}\n",
    " 1 \\\\\n",
    " 1 \\\\\n",
    " -1 \\\\\n",
    "\\end{pmatrix} \n",
    "+ 1\n",
    "\\begin{pmatrix}\n",
    " 0 \\\\\n",
    " -1 \\\\\n",
    " 3 \\\\\n",
    " \\end{pmatrix}.\n",
    "$$\n",
    "Doublecheck:"
   ]
  },
  {
   "cell_type": "code",
   "execution_count": 9,
   "metadata": {
    "hidden": true
   },
   "outputs": [
    {
     "data": {
      "text/latex": [
       "$\\displaystyle \\left[\\begin{matrix}3\\\\2\\\\0\\end{matrix}\\right]$"
      ],
      "text/plain": [
       "Matrix([\n",
       "[3],\n",
       "[2],\n",
       "[0]])"
      ]
     },
     "execution_count": 9,
     "metadata": {},
     "output_type": "execute_result"
    }
   ],
   "source": [
    "3 * Matrix([1, 1, -1]) + 1 * Matrix([0, -1, 3]) "
   ]
  },
  {
   "cell_type": "markdown",
   "metadata": {},
   "source": [
    "## Problem 2"
   ]
  },
  {
   "cell_type": "markdown",
   "metadata": {},
   "source": [
    "  Define a linear transformation $T \\colon \\mathbb{R}^{4} \\to \\mathbb{R}^{3}$ by\n",
    "  \\begin{align*}\n",
    "    T(\\vec{e}_{1}) &= \\vec{y}_{1} = \\begin{pmatrix}\n",
    "      1 \\\\\n",
    "      -2 \\\\  3 \\\\\n",
    "    \\end{pmatrix},\n",
    "    &T(\\vec{e}_{2}) &= \\vec{y}_{2} = \\begin{pmatrix}\n",
    "      -3 \\\\\n",
    "      0 \\\\  9 \\\\\n",
    "    \\end{pmatrix}, \\\\\n",
    "    T(\\vec{e}_{3}) &= \\vec{y}_{3} = \\begin{pmatrix}\n",
    "      -2 \\\\\n",
    "      1 \\\\ 3 \\\\\n",
    "    \\end{pmatrix},\n",
    "    &T(\\vec{e}_{4}) &= \\vec{y}_{4} = \\begin{pmatrix}\n",
    "      1 \\\\\n",
    "      -1 \\\\ 0 \\\\\n",
    "    \\end{pmatrix},\n",
    "  \\end{align*}\n",
    "  where $\\{ \\vec{e}_{1},\\vec{e}_{2},\\vec{e}_{3},\\vec{e}_{4} \\}$ is the standard\n",
    "  basis for $\\mathbb{R}^{4}$.\n"
   ]
  },
  {
   "cell_type": "markdown",
   "metadata": {},
   "source": [
    "### Problem 2(a)"
   ]
  },
  {
   "cell_type": "markdown",
   "metadata": {},
   "source": [
    "Find a subset of $\\{ \\vec{y}_{1}, \\vec{y}_{2}, \\vec{y}_{3},\n",
    "      \\vec{y}_{4} \\}$ that is a basis for the image of $T$."
   ]
  },
  {
   "cell_type": "markdown",
   "metadata": {},
   "source": [
    "### Solution 2(a)"
   ]
  },
  {
   "cell_type": "markdown",
   "metadata": {},
   "source": [
    "Import the relevant stuff from sympy:"
   ]
  },
  {
   "cell_type": "code",
   "execution_count": 10,
   "metadata": {},
   "outputs": [],
   "source": [
    "from sympy import Matrix"
   ]
  },
  {
   "cell_type": "markdown",
   "metadata": {},
   "source": [
    "Define the vectors $\\vec{y}_{1}, \\vec{y}_{2}, \\vec{y}_{3}, \\vec{y}_{4}$ to python (as lists, not vectors):"
   ]
  },
  {
   "cell_type": "code",
   "execution_count": 11,
   "metadata": {},
   "outputs": [],
   "source": [
    "y1, y2, y3, y4 = [1, -2, 3], [-3, 0, 9], [-2, 1, 3], [1, -1, 0]"
   ]
  },
  {
   "cell_type": "markdown",
   "metadata": {},
   "source": [
    "Figure out how many vectors we are trying to find by making a matrix $A$ whose rows are $\\vec{y}_{1}, \\vec{y}_{2}, \\vec{y}_{3}, \\vec{y}_{4}$, and computing its rank (which equals the rank of the rowspace, which is the dimension of the space spanned by the vectors $\\vec{y}_{1}, \\vec{y}_{2}, \\vec{y}_{3}, \\vec{y}_{4}$):"
   ]
  },
  {
   "cell_type": "code",
   "execution_count": 12,
   "metadata": {},
   "outputs": [
    {
     "data": {
      "text/plain": [
       "2"
      ]
     },
     "execution_count": 12,
     "metadata": {},
     "output_type": "execute_result"
    }
   ],
   "source": [
    "Matrix([y1, y2, y3, y4]).rank()"
   ]
  },
  {
   "cell_type": "markdown",
   "metadata": {},
   "source": [
    "So, we are looking for 2 linearly independent vectors among $\\vec{y}_{1}, \\vec{y}_{2}, \\vec{y}_{3}, \\vec{y}_{4}$:"
   ]
  },
  {
   "cell_type": "code",
   "execution_count": 13,
   "metadata": {},
   "outputs": [
    {
     "data": {
      "text/plain": [
       "2"
      ]
     },
     "execution_count": 13,
     "metadata": {},
     "output_type": "execute_result"
    }
   ],
   "source": [
    "Matrix([y1, y2]).rank()"
   ]
  },
  {
   "cell_type": "markdown",
   "metadata": {},
   "source": [
    "So, for example, $\\{\\vec{y}_{1}, \\vec{y}_{2}\\}$ is a subset of $\\{\\vec{y}_{1}, \\vec{y}_{2}, \\vec{y}_{3}, \\vec{y}_{4}\\}$ which is a basis for $\\operatorname{im} T$. "
   ]
  },
  {
   "cell_type": "markdown",
   "metadata": {
    "heading_collapsed": true
   },
   "source": [
    "### Problem 2(b)"
   ]
  },
  {
   "cell_type": "markdown",
   "metadata": {
    "hidden": true
   },
   "source": [
    "Find a basis for the kernel of $T$."
   ]
  },
  {
   "cell_type": "markdown",
   "metadata": {},
   "source": [
    "### Solution 2(b)"
   ]
  },
  {
   "cell_type": "markdown",
   "metadata": {},
   "source": [
    "As in the pdf solution to this problem it suffices to solve:\n",
    "$$\n",
    "\\begin{pmatrix}\n",
    "1 & -3 & -2 & 1 \\\\\n",
    "-2 & 0 & 1 & -1 \\\\\n",
    "3 & 9 & 3 & 0\n",
    "\\end{pmatrix} \\begin{pmatrix}\n",
    " x \\\\\n",
    " y \\\\\n",
    " z \\\\\n",
    " t \\\\\n",
    " \\end{pmatrix}\n",
    "= \\begin{pmatrix}\n",
    " 0 \\\\\n",
    " 0 \\\\\n",
    " 0 \\\\\n",
    " \\end{pmatrix}.\n",
    "$$"
   ]
  },
  {
   "cell_type": "code",
   "execution_count": 14,
   "metadata": {},
   "outputs": [],
   "source": [
    "from sympy import Matrix, solve\n",
    "from sympy.abc import x, y, z, t"
   ]
  },
  {
   "cell_type": "code",
   "execution_count": 15,
   "metadata": {},
   "outputs": [
    {
     "data": {
      "text/plain": [
       "{x: -t/2 + z/2, y: t/6 - z/2}"
      ]
     },
     "execution_count": 15,
     "metadata": {},
     "output_type": "execute_result"
    }
   ],
   "source": [
    "solve(Matrix([[1, -3, -2, 1], [-2, 0, 1, -1], [3, 9, 3, 0]]) * Matrix([x, y, z, t]), [x, y, z, t])"
   ]
  },
  {
   "cell_type": "markdown",
   "metadata": {},
   "source": [
    "Hence \n",
    "$$\\ker(T) = \\left\\{ \\begin{pmatrix} \\frac{-t}{2} + \\frac{z}{2} \\\\ \\frac{t}{6} - \\frac{z}{2} \\\\ z \\\\ t \\end{pmatrix}\\biggm | t, z\\in \\mathbb{R}\\right\\}\n",
    "= \n",
    "\\left\\{ \\begin{pmatrix} -3t + 3z \\\\ t - 3z \\\\ z \\\\ t \\end{pmatrix}\\biggm | t, z\\in \\mathbb{R}\\right\\}\n",
    "= \n",
    "\\operatorname{Span}\\left( \\begin{pmatrix} -3 \\\\ 1 \\\\ 0 \\\\ 1 \\end{pmatrix}, \n",
    "\\begin{pmatrix} 3 \\\\ -3 \\\\ 1 \\\\ 0 \\end{pmatrix}\\right)\n",
    "$$\n",
    "and \n",
    "$$\n",
    "\\mathscr{B} = \\left\\{\\begin{pmatrix} -3 \\\\ 1 \\\\ 0 \\\\ 1 \\end{pmatrix}, \n",
    "\\begin{pmatrix} 3 \\\\ -3 \\\\ 1 \\\\ 0 \\end{pmatrix}\\right\\}\n",
    "$$\n",
    "is a basis for $\\operatorname{ker} T$."
   ]
  },
  {
   "cell_type": "markdown",
   "metadata": {},
   "source": [
    "Note that this is not the same as the basis:\n",
    "$$\n",
    "\\mathscr{A} = \\left\\{\\begin{pmatrix} -3 \\\\ 1 \\\\ 0 \\\\ 6 \\end{pmatrix}, \n",
    "\\begin{pmatrix} -1 \\\\ 0 \\\\ 1 \\\\ 3 \\end{pmatrix}\\right\\}\n",
    "$$\n",
    "given in the pdf version of the solutions. Let's just double check that these two bases span the same subspace. It suffices to verify that:\n",
    "1. $\\mathscr{A}$ is linearly independent;\n",
    "2. $\\mathscr{A} \\subseteq \\operatorname{Span}\\mathscr{B} = \\ker T$.\n"
   ]
  },
  {
   "cell_type": "markdown",
   "metadata": {},
   "source": [
    "To show that $\\mathscr{A}$ is linearly independent, define"
   ]
  },
  {
   "cell_type": "code",
   "execution_count": 16,
   "metadata": {},
   "outputs": [],
   "source": [
    "a1, a2 = [-3, 1, 0, 6], [-1, 0, 1, 3]"
   ]
  },
  {
   "cell_type": "code",
   "execution_count": 17,
   "metadata": {},
   "outputs": [
    {
     "data": {
      "text/plain": [
       "2"
      ]
     },
     "execution_count": 17,
     "metadata": {},
     "output_type": "execute_result"
    }
   ],
   "source": [
    "Matrix([a1, a2]).rank()"
   ]
  },
  {
   "cell_type": "markdown",
   "metadata": {},
   "source": [
    "Hence $\\mathscr{A}$ is linearly independent. "
   ]
  },
  {
   "cell_type": "markdown",
   "metadata": {},
   "source": [
    "To check that $\\mathscr{A} \\subseteq \\ker T$, we compute:"
   ]
  },
  {
   "cell_type": "code",
   "execution_count": 18,
   "metadata": {},
   "outputs": [],
   "source": [
    "def T(x, y, z, t):\n",
    "    return Matrix([[1, -3, -2, 1], [-2, 0, 1, -1], [3, 9, 3, 0]]) * Matrix([x, y, z, t])"
   ]
  },
  {
   "cell_type": "code",
   "execution_count": 19,
   "metadata": {},
   "outputs": [
    {
     "data": {
      "text/latex": [
       "$\\displaystyle \\left[\\begin{matrix}0\\\\0\\\\0\\end{matrix}\\right]$"
      ],
      "text/plain": [
       "Matrix([\n",
       "[0],\n",
       "[0],\n",
       "[0]])"
      ]
     },
     "execution_count": 19,
     "metadata": {},
     "output_type": "execute_result"
    }
   ],
   "source": [
    "T(-3, 1, 0, 6)"
   ]
  },
  {
   "cell_type": "code",
   "execution_count": 20,
   "metadata": {},
   "outputs": [
    {
     "data": {
      "text/latex": [
       "$\\displaystyle \\left[\\begin{matrix}0\\\\0\\\\0\\end{matrix}\\right]$"
      ],
      "text/plain": [
       "Matrix([\n",
       "[0],\n",
       "[0],\n",
       "[0]])"
      ]
     },
     "execution_count": 20,
     "metadata": {},
     "output_type": "execute_result"
    }
   ],
   "source": [
    "T(-1, 0, 1, 3)"
   ]
  },
  {
   "cell_type": "markdown",
   "metadata": {},
   "source": [
    "Hence $\\mathscr{A} \\subseteq  \\ker T$, as required."
   ]
  },
  {
   "cell_type": "markdown",
   "metadata": {
    "heading_collapsed": true
   },
   "source": [
    "## Problem 8"
   ]
  },
  {
   "cell_type": "markdown",
   "metadata": {
    "hidden": true
   },
   "source": [
    "Let $T \\colon \\mathbb{R}^{2} \\to \\mathbb{R}^{2}$ be the linear mapping whose matrix\n",
    "with respect to the standard basis for $\\mathbb{R}^{2}$ is\n",
    "$$\n",
    "A = \\begin{pmatrix}\n",
    "4 & 3 \\\\\n",
    "1 & 2\n",
    "\\end{pmatrix};\n",
    "$$\n",
    "that is, $T(\\vec{v}) = A\\vec{v}$ for all $\\vec{v} \\in \\mathbb{R}^{2}$."
   ]
  },
  {
   "cell_type": "markdown",
   "metadata": {
    "heading_collapsed": true,
    "hidden": true
   },
   "source": [
    "### Problem 8(a)"
   ]
  },
  {
   "cell_type": "markdown",
   "metadata": {
    "hidden": true
   },
   "source": [
    "Show that\n",
    "$$\n",
    "\\mathscr{B} = \\left\\{ \\begin{pmatrix}\n",
    " 3 \\\\\n",
    " -1 \n",
    " \\end{pmatrix}, \\begin{pmatrix}\n",
    " -5 \\\\\n",
    " 2 \n",
    " \\end{pmatrix} \\right\\}\n",
    "  $$\n",
    "is a basis for $\\mathbb{R}^{2}$."
   ]
  },
  {
   "cell_type": "markdown",
   "metadata": {
    "heading_collapsed": true,
    "hidden": true
   },
   "source": [
    "### Solution 8(a)"
   ]
  },
  {
   "cell_type": "code",
   "execution_count": 21,
   "metadata": {
    "hidden": true
   },
   "outputs": [],
   "source": [
    "b1, b2 = [3, -1], [-5, 2]"
   ]
  },
  {
   "cell_type": "code",
   "execution_count": 22,
   "metadata": {
    "hidden": true
   },
   "outputs": [
    {
     "data": {
      "text/plain": [
       "2"
      ]
     },
     "execution_count": 22,
     "metadata": {},
     "output_type": "execute_result"
    }
   ],
   "source": [
    "Matrix([b1, b2]).rank()"
   ]
  },
  {
   "cell_type": "markdown",
   "metadata": {
    "hidden": true
   },
   "source": [
    "Hence $\\mathscr{B}$ is linearly independent, and since $|\\mathscr{B}| = 2 = \\operatorname{dim}(\\mathbb{R} ^ 2)$, it follows that $\\mathscr{B}$ is a basis for $\\mathbb{R} ^ 2$."
   ]
  },
  {
   "cell_type": "markdown",
   "metadata": {
    "hidden": true
   },
   "source": [
    "### Problem 8(b)"
   ]
  },
  {
   "cell_type": "markdown",
   "metadata": {
    "hidden": true
   },
   "source": [
    "Calculate the matrix $\\operatorname{Mat}_{\\mathscr{B},\\mathscr{B}}(T)$ of $T$ with respect to the\n",
    "basis $\\mathscr{B}$."
   ]
  },
  {
   "cell_type": "markdown",
   "metadata": {
    "hidden": true
   },
   "source": [
    "### Solution 8(b)"
   ]
  },
  {
   "cell_type": "markdown",
   "metadata": {
    "hidden": true
   },
   "source": [
    "From the definition of $\\operatorname{Mat}_{\\mathscr{B},\\mathscr{B}}(T)$, it suffices to express the vectors\n",
    "$$\n",
    "T\\begin{pmatrix} 3 \\\\ -1 \\end{pmatrix}, \\quad T\\begin{pmatrix} -5 \\\\ 2 \\end{pmatrix}\n",
    "$$\n",
    "as a linear combination of the vectors in $\\mathscr{B}$. Writing this out:\n",
    "$$T\\begin{pmatrix} 3 \\\\ -1 \\end{pmatrix} = \\begin{pmatrix}\n",
    "4 & 3 \\\\\n",
    "1 & 2\n",
    "\\end{pmatrix}\n",
    "\\begin{pmatrix} 3 \\\\ -1 \\end{pmatrix}$$"
   ]
  },
  {
   "cell_type": "code",
   "execution_count": 23,
   "metadata": {
    "hidden": true
   },
   "outputs": [],
   "source": [
    "from sympy import Matrix"
   ]
  },
  {
   "cell_type": "code",
   "execution_count": 24,
   "metadata": {
    "hidden": true
   },
   "outputs": [],
   "source": [
    "A = Matrix([[4, 3], [1, 2]])"
   ]
  },
  {
   "cell_type": "code",
   "execution_count": 25,
   "metadata": {
    "hidden": true
   },
   "outputs": [
    {
     "data": {
      "text/latex": [
       "$\\displaystyle \\left[\\begin{matrix}9\\\\1\\end{matrix}\\right]$"
      ],
      "text/plain": [
       "Matrix([\n",
       "[9],\n",
       "[1]])"
      ]
     },
     "execution_count": 25,
     "metadata": {},
     "output_type": "execute_result"
    }
   ],
   "source": [
    "A * Matrix([3, -1])"
   ]
  },
  {
   "cell_type": "markdown",
   "metadata": {
    "hidden": true
   },
   "source": [
    "Hence \n",
    "$$T\\begin{pmatrix} 3 \\\\ -1 \\end{pmatrix} = \\begin{pmatrix}\n",
    "4 & 3 \\\\\n",
    "1 & 2\n",
    "\\end{pmatrix}\n",
    "\\begin{pmatrix} 3 \\\\ -1 \\end{pmatrix} = \n",
    "\\begin{pmatrix} 9 \\\\ 1 \\end{pmatrix}$$\n",
    "and it suffices to find $a, b \\in \\mathbb{R}$ such that:\n",
    "$$\n",
    "\\begin{pmatrix} 9 \\\\ 1 \\end{pmatrix} = a \\begin{pmatrix}\n",
    " 3 \\\\\n",
    " -1 \n",
    " \\end{pmatrix} + b \\begin{pmatrix}\n",
    " -5 \\\\\n",
    " 2 \n",
    " \\end{pmatrix}\n",
    "$$\n",
    "or, equivalently, such that \n",
    "$$\\begin{pmatrix} 0 \\\\ 0 \\end{pmatrix} = a \\begin{pmatrix}\n",
    " 3 \\\\\n",
    " -1 \n",
    " \\end{pmatrix} + b \\begin{pmatrix}\n",
    " -5 \\\\\n",
    " 2 \n",
    " \\end{pmatrix} - \\begin{pmatrix} 9 \\\\ 1 \\end{pmatrix} $$"
   ]
  },
  {
   "cell_type": "code",
   "execution_count": 26,
   "metadata": {
    "hidden": true
   },
   "outputs": [],
   "source": [
    "from sympy import solve\n",
    "from sympy.abc import a, b"
   ]
  },
  {
   "cell_type": "code",
   "execution_count": 27,
   "metadata": {
    "hidden": true
   },
   "outputs": [
    {
     "data": {
      "text/plain": [
       "{a: 23, b: 12}"
      ]
     },
     "execution_count": 27,
     "metadata": {},
     "output_type": "execute_result"
    }
   ],
   "source": [
    "solve(a * Matrix([3, -1]) + b * Matrix([-5, 2]) - Matrix([9, 1]), [a, b])"
   ]
  },
  {
   "cell_type": "markdown",
   "metadata": {
    "hidden": true
   },
   "source": [
    "Hence the first column of  $\\operatorname{Mat}_{\\mathscr{B},\\mathscr{B}}(T)$ is\n",
    "$$\n",
    "\\begin{pmatrix}\n",
    "23 \\\\ 12 \\end{pmatrix}.\n",
    "$$\n",
    "Similarly, for \n",
    "$$\n",
    "T\\begin{pmatrix} -5 \\\\ 2 \\end{pmatrix}\n",
    "$$"
   ]
  },
  {
   "cell_type": "code",
   "execution_count": 28,
   "metadata": {
    "hidden": true
   },
   "outputs": [
    {
     "data": {
      "text/plain": [
       "{a: -33, b: -17}"
      ]
     },
     "execution_count": 28,
     "metadata": {},
     "output_type": "execute_result"
    }
   ],
   "source": [
    "solve(a * Matrix([3, -1]) + b * Matrix([-5, 2]) - A * Matrix([-5, 2]), [a, b])"
   ]
  },
  {
   "cell_type": "markdown",
   "metadata": {
    "hidden": true
   },
   "source": [
    "and so the second column of $\\operatorname{Mat}_{\\mathscr{B},\\mathscr{B}}(T)$ is:\n",
    "$$\\begin{pmatrix}\n",
    "-33 \\\\ -17\n",
    "\\end{pmatrix}.$$\n",
    "Therefore \n",
    "$$\n",
    "\\operatorname{Mat}_{\\mathscr{B},\\mathscr{B}}(T) = \n",
    "\\begin{pmatrix}\n",
    "23 & -33 \\\\\n",
    "12 & -17 \n",
    "\\end{pmatrix}.\n",
    "$$"
   ]
  },
  {
   "cell_type": "markdown",
   "metadata": {
    "heading_collapsed": true
   },
   "source": [
    "## Problem 9"
   ]
  },
  {
   "cell_type": "markdown",
   "metadata": {
    "hidden": true
   },
   "source": [
    "Define the linear transformation $T \\colon \\mathbb{R}^{3} \\to \\mathbb{R}^{3}$ by\n",
    "$$\n",
    "T\\begin{pmatrix}\n",
    " x \\\\\n",
    " y \\\\\n",
    " z \\\\\n",
    " \\end{pmatrix} = \\begin{pmatrix}\n",
    " x+2y+2z \\\\\n",
    " -3x+4y-2z \\\\\n",
    " -2y \\\\\n",
    " \\end{pmatrix}.\n",
    "$$"
   ]
  },
  {
   "cell_type": "markdown",
   "metadata": {
    "hidden": true
   },
   "source": [
    "### Problem 9(b)"
   ]
  },
  {
   "cell_type": "markdown",
   "metadata": {
    "hidden": true
   },
   "source": [
    "  Show that\n",
    "  $$\n",
    "  \\mathscr{B} = \\left\\{ \\begin{pmatrix}\n",
    " 1 \\\\\n",
    " 1 \\\\\n",
    " 1 \\\\\n",
    " \\end{pmatrix}, \\begin{pmatrix}\n",
    " 1 \\\\\n",
    " 2 \\\\\n",
    " 2 \\\\\n",
    " \\end{pmatrix},\n",
    "  \\begin{pmatrix}\n",
    " 1 \\\\\n",
    " 2 \\\\\n",
    " 1 \\\\\n",
    " \\end{pmatrix} \\right\\}\n",
    "  $$\n",
    "  is a basis for $\\mathbb{R}^{3}$."
   ]
  },
  {
   "cell_type": "code",
   "execution_count": 29,
   "metadata": {
    "hidden": true
   },
   "outputs": [],
   "source": [
    "from sympy import Matrix"
   ]
  },
  {
   "cell_type": "code",
   "execution_count": 30,
   "metadata": {
    "hidden": true
   },
   "outputs": [
    {
     "data": {
      "text/plain": [
       "3"
      ]
     },
     "execution_count": 30,
     "metadata": {},
     "output_type": "execute_result"
    }
   ],
   "source": [
    "Matrix([[1, 1, 1], [1, 2, 2], [1, 2, 1]]).rank()"
   ]
  },
  {
   "cell_type": "markdown",
   "metadata": {
    "hidden": true
   },
   "source": [
    "Hence, the rank of the matrix whose columns are the vectors in $\\mathscr{B}$ is $3$. But the rank of the matrix is the rank of the column space, which is the dimension of the space spanned by $\\mathscr{B}$, and hence $\\operatorname{dim}(\\operatorname{Span}(\\mathscr{B})) = 2 = \\operatorname{dim} \\mathbb{R} ^ 2$. It follows that $\\mathscr{B}$ is a basis for $\\mathbb{R} ^ 2$."
   ]
  },
  {
   "cell_type": "markdown",
   "metadata": {
    "hidden": true
   },
   "source": [
    "### Problem 9(c)"
   ]
  },
  {
   "cell_type": "markdown",
   "metadata": {
    "hidden": true
   },
   "source": [
    " Find the matrix of $T$ with respect to the basis $\\mathscr{B}$."
   ]
  },
  {
   "cell_type": "markdown",
   "metadata": {
    "hidden": true
   },
   "source": [
    "### Solution 9(c)"
   ]
  },
  {
   "cell_type": "markdown",
   "metadata": {
    "hidden": true
   },
   "source": [
    "Import some stuff from sympy:"
   ]
  },
  {
   "cell_type": "code",
   "execution_count": 31,
   "metadata": {
    "hidden": true
   },
   "outputs": [],
   "source": [
    "from sympy import Matrix, solve\n",
    "from sympy.abc import a, b, c"
   ]
  },
  {
   "cell_type": "markdown",
   "metadata": {
    "hidden": true
   },
   "source": [
    "Define $T$ as a python function:"
   ]
  },
  {
   "cell_type": "code",
   "execution_count": 32,
   "metadata": {
    "hidden": true
   },
   "outputs": [],
   "source": [
    "def T(x, y, z):\n",
    "    return Matrix([x + 2 * y + 2 * z, -3 * x + 4 * y - 2 * z, -2 * y])"
   ]
  },
  {
   "cell_type": "markdown",
   "metadata": {
    "hidden": true
   },
   "source": [
    "Applying the same technique as we applied in Solution 8(b) above:"
   ]
  },
  {
   "cell_type": "code",
   "execution_count": 33,
   "metadata": {
    "hidden": true
   },
   "outputs": [
    {
     "data": {
      "text/plain": [
       "{a: 11, b: -7, c: 1}"
      ]
     },
     "execution_count": 33,
     "metadata": {},
     "output_type": "execute_result"
    }
   ],
   "source": [
    "solve(a * Matrix([1, 1, 1]) + b * Matrix([1, 2, 2]) + c * Matrix([1, 2, 1]) - T(1, 1, 1), [a, b, c])"
   ]
  },
  {
   "cell_type": "code",
   "execution_count": 34,
   "metadata": {
    "hidden": true
   },
   "outputs": [
    {
     "data": {
      "text/plain": [
       "{a: 17, b: -13, c: 5}"
      ]
     },
     "execution_count": 34,
     "metadata": {},
     "output_type": "execute_result"
    }
   ],
   "source": [
    "solve(a * Matrix([1, 1, 1]) + b * Matrix([1, 2, 2]) + c * Matrix([1, 2, 1]) - T(1, 2, 2), [a, b, c])"
   ]
  },
  {
   "cell_type": "code",
   "execution_count": 35,
   "metadata": {
    "hidden": true
   },
   "outputs": [
    {
     "data": {
      "text/plain": [
       "{a: 11, b: -11, c: 7}"
      ]
     },
     "execution_count": 35,
     "metadata": {},
     "output_type": "execute_result"
    }
   ],
   "source": [
    "solve(a * Matrix([1, 1, 1]) + b * Matrix([1, 2, 2]) + c * Matrix([1, 2, 1]) - T(1, 2, 1), [a, b, c])"
   ]
  },
  {
   "cell_type": "markdown",
   "metadata": {
    "hidden": true
   },
   "source": [
    "And so the matrix of $T$ with respect to $\\mathscr{B}$ is:\n",
    "$$\n",
    "\\begin{pmatrix}\n",
    "11 & 17 & 11 \\\\\n",
    "-7 & -13 & -11 \\\\\n",
    "1 & 5 & 7 \n",
    "\\end{pmatrix}.\n",
    "$$"
   ]
  },
  {
   "cell_type": "markdown",
   "metadata": {},
   "source": [
    "## Problem 10"
   ]
  },
  {
   "cell_type": "markdown",
   "metadata": {},
   "source": [
    "### Problem 10(c)"
   ]
  },
  {
   "cell_type": "markdown",
   "metadata": {},
   "source": [
    "Suppose  $T \\colon \\mathbb{R}^{3} \\to \\mathbb{R}^{3}$ is a linear transformation\n",
    "whose matrix with respect to the standard basis for $\\mathbb{R} ^ 3$ is\n",
    "$$\n",
    "A = \\begin{pmatrix}\n",
    "0 & 0 & 2 \\\\\n",
    "1 & -1 & 1 \\\\\n",
    "-1 & 1 & 1\n",
    "\\end{pmatrix}.\n",
    "$$\n",
    "Show that $T$ is nilpotent of index $3$.  Find a basis with respect to\n",
    "which $T$ has matrix\n",
    "$$\n",
    "\\begin{pmatrix}\n",
    "0 & 0 & 0 \\\\\n",
    "1 & 0 & 0 \\\\\n",
    "0 & 1 & 0\n",
    "\\end{pmatrix}.\n",
    "$$\n"
   ]
  },
  {
   "cell_type": "code",
   "execution_count": 36,
   "metadata": {},
   "outputs": [],
   "source": [
    "from sympy import Matrix"
   ]
  },
  {
   "cell_type": "code",
   "execution_count": 37,
   "metadata": {},
   "outputs": [],
   "source": [
    "A = Matrix([[0, 0, 2], [1, -1, 1], [-1, 1, 1]])"
   ]
  },
  {
   "cell_type": "code",
   "execution_count": 38,
   "metadata": {},
   "outputs": [
    {
     "data": {
      "text/latex": [
       "$\\displaystyle \\left[\\begin{matrix}-2 & 2 & 2\\\\-2 & 2 & 2\\\\0 & 0 & 0\\end{matrix}\\right]$"
      ],
      "text/plain": [
       "Matrix([\n",
       "[-2, 2, 2],\n",
       "[-2, 2, 2],\n",
       "[ 0, 0, 0]])"
      ]
     },
     "execution_count": 38,
     "metadata": {},
     "output_type": "execute_result"
    }
   ],
   "source": [
    "A ** 2"
   ]
  },
  {
   "cell_type": "code",
   "execution_count": 39,
   "metadata": {},
   "outputs": [
    {
     "data": {
      "text/latex": [
       "$\\displaystyle \\left[\\begin{matrix}0 & 0 & 0\\\\0 & 0 & 0\\\\0 & 0 & 0\\end{matrix}\\right]$"
      ],
      "text/plain": [
       "Matrix([\n",
       "[0, 0, 0],\n",
       "[0, 0, 0],\n",
       "[0, 0, 0]])"
      ]
     },
     "execution_count": 39,
     "metadata": {},
     "output_type": "execute_result"
    }
   ],
   "source": [
    "A ** 3"
   ]
  },
  {
   "cell_type": "markdown",
   "metadata": {},
   "source": [
    "So, $A ^ 3$ is the matrix of the zero map but $A ^ 2$ is not, and so $T$ is nilpotent of rank $3$, as required."
   ]
  },
  {
   "cell_type": "markdown",
   "metadata": {},
   "source": [
    "Next we find a basis $\\mathscr{B}$ for $\\mathbb{R} ^ 3$ such that \n",
    "$$\\operatorname{Mat}_{\\mathscr{B},\\mathscr{B}}(T)  = \\begin{pmatrix}\n",
    "0 & 0 & 0 \\\\\n",
    "1 & 0 & 0 \\\\\n",
    "0 & 1 & 0\n",
    "\\end{pmatrix}.\n",
    "$$\n",
    "Note that by part (a) if $\\vec{v}\\in \\mathbb{R} ^ 3$ is any vector such that $T ^ 2 (\\vec{v}) = A ^ 2 \\vec{v} \\not= \\vec{0}$, then \n",
    "$$\\mathscr{B} = \\{\\vec{v}, T(\\vec{v}), T ^ 2(\\vec{v})\\}$$ \n",
    "is a basis for $\\mathbb{R} ^ 3$, and by part (b), \n",
    "$$\n",
    "\\operatorname{Mat}_{\\mathscr{B},\\mathscr{B}}(T)  = \\begin{pmatrix}\n",
    "0 & 0 & 0 \\\\\n",
    "1 & 0 & 0 \\\\\n",
    "0 & 1 & 0\n",
    "\\end{pmatrix}.\n",
    "$$\n",
    "It's clear that if \n",
    "$$ \\vec{v} = \\begin{pmatrix} 1 \\\\ 0 \\\\ 0 \\end{pmatrix}, $$\n",
    "then $A ^ 2 \\vec{v} \\not= \\vec{0}$.\n",
    "We verify this:"
   ]
  },
  {
   "cell_type": "code",
   "execution_count": 40,
   "metadata": {},
   "outputs": [
    {
     "data": {
      "text/latex": [
       "$\\displaystyle \\left[\\begin{matrix}-2\\\\-2\\\\0\\end{matrix}\\right]$"
      ],
      "text/plain": [
       "Matrix([\n",
       "[-2],\n",
       "[-2],\n",
       "[ 0]])"
      ]
     },
     "execution_count": 40,
     "metadata": {},
     "output_type": "execute_result"
    }
   ],
   "source": [
    "A ** 2 * Matrix([1, 0, 0])"
   ]
  },
  {
   "cell_type": "markdown",
   "metadata": {},
   "source": [
    "Hence the basis $\\mathscr{B}$ is found as follows:"
   ]
  },
  {
   "cell_type": "markdown",
   "metadata": {},
   "source": [
    "v = Matrix([1, 0, 0])\n",
    "A * v"
   ]
  },
  {
   "cell_type": "markdown",
   "metadata": {},
   "source": [
    "A ** 2 * v"
   ]
  },
  {
   "cell_type": "markdown",
   "metadata": {},
   "source": [
    "Hence \n",
    "$$\\mathscr{B} = \n",
    "\\left\\{\n",
    "\\begin{pmatrix} 1 \\\\ 0 \\\\ 0 \\end{pmatrix},\n",
    "\\begin{pmatrix} 0 \\\\ 1 \\\\ -1 \\end{pmatrix},\n",
    "\\begin{pmatrix} -2 \\\\ -2 \\\\ 0 \\end{pmatrix}\n",
    "\\right\\}.$$\n",
    "Let's just double-check that this is indeed linearly independent:"
   ]
  },
  {
   "cell_type": "code",
   "execution_count": 41,
   "metadata": {},
   "outputs": [
    {
     "data": {
      "text/plain": [
       "3"
      ]
     },
     "execution_count": 41,
     "metadata": {},
     "output_type": "execute_result"
    }
   ],
   "source": [
    "Matrix([[1, 0, -2], [0, 1, -2], [0, -1, 0]]).rank()"
   ]
  },
  {
   "cell_type": "markdown",
   "metadata": {},
   "source": [
    "So, $\\mathscr{B}$ is linearly independent."
   ]
  },
  {
   "cell_type": "markdown",
   "metadata": {},
   "source": [
    "According to the results of part (b) and (c) \n",
    "$$\n",
    "\\operatorname{Mat}_{\\mathscr{B},\\mathscr{B}}(T) \n",
    "= \n",
    "\\begin{pmatrix}\n",
    "0 & 0 & 0 \\\\\n",
    "1 & 0 & 0 \\\\\n",
    "0 & 1 & 0\n",
    "\\end{pmatrix}\n",
    "$$\n",
    "but we can verify this too, using the same approach as that used in Solutions 8(b) and 9(c)."
   ]
  },
  {
   "cell_type": "code",
   "execution_count": 42,
   "metadata": {},
   "outputs": [],
   "source": [
    "from sympy.abc import a, b, c"
   ]
  },
  {
   "cell_type": "code",
   "execution_count": 43,
   "metadata": {},
   "outputs": [
    {
     "data": {
      "text/plain": [
       "{a: 0, b: 1, c: 0}"
      ]
     },
     "execution_count": 43,
     "metadata": {},
     "output_type": "execute_result"
    }
   ],
   "source": [
    "solve(a * Matrix([1, 0, 0]) + b * Matrix([0, 1, -1]) + c * Matrix([-2, -2, 0]) - A * Matrix([1, 0, 0]), [a, b, c])"
   ]
  },
  {
   "cell_type": "code",
   "execution_count": 44,
   "metadata": {},
   "outputs": [
    {
     "data": {
      "text/plain": [
       "{a: 0, b: 0, c: 1}"
      ]
     },
     "execution_count": 44,
     "metadata": {},
     "output_type": "execute_result"
    }
   ],
   "source": [
    "solve(a * Matrix([1, 0, 0]) + b * Matrix([0, 1, -1]) + c * Matrix([-2, -2, 0]) - A * Matrix([0, 1, -1]), [a, b, c])"
   ]
  },
  {
   "cell_type": "code",
   "execution_count": 45,
   "metadata": {},
   "outputs": [
    {
     "data": {
      "text/plain": [
       "{a: 0, b: 0, c: 0}"
      ]
     },
     "execution_count": 45,
     "metadata": {},
     "output_type": "execute_result"
    }
   ],
   "source": [
    "solve(a * Matrix([1, 0, 0]) + b * Matrix([0, 1, -1]) + c * Matrix([-2, -2, 0]) - A * Matrix([-2, -2, 0]), [a, b, c])"
   ]
  },
  {
   "attachments": {
    "unicorn-face_1f984.png": {
     "image/png": "[encoded data removed]"
    }
   },
   "cell_type": "markdown",
   "metadata": {},
   "source": [
    "So, we've verified it! ![unicorn-face_1f984.png](attachment:unicorn-face_1f984.png)"
   ]
  }
 ],
 "metadata": {
  "kernelspec": {
   "display_name": "Python 3",
   "language": "python",
   "name": "python3"
  },
  "language_info": {
   "codemirror_mode": {
    "name": "ipython",
    "version": 3
   },
   "file_extension": ".py",
   "mimetype": "text/x-python",
   "name": "python",
   "nbconvert_exporter": "python",
   "pygments_lexer": "ipython3",
   "version": "3.9.8"
  }
 },
 "nbformat": 4,
 "nbformat_minor": 4
}
