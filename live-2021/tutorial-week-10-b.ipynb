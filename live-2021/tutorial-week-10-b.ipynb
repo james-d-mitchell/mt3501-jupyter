{
 "cells": [
  {
   "cell_type": "code",
   "execution_count": 1,
   "id": "993ceb26",
   "metadata": {},
   "outputs": [
    {
     "data": {
      "text/latex": [
       "$\\displaystyle \\left[\\begin{matrix}0 & 1 & 2\\\\0 & 0 & 3\\\\0 & 0 & 0\\end{matrix}\\right]$"
      ],
      "text/plain": [
       "Matrix([\n",
       "[0, 1, 2],\n",
       "[0, 0, 3],\n",
       "[0, 0, 0]])"
      ]
     },
     "execution_count": 1,
     "metadata": {},
     "output_type": "execute_result"
    }
   ],
   "source": [
    "from sympy import Matrix, factor\n",
    "A = Matrix([[0, 1, 2], [0, 0, 3], [0] * 3])\n",
    "A"
   ]
  },
  {
   "cell_type": "code",
   "execution_count": 2,
   "id": "19d10982",
   "metadata": {},
   "outputs": [
    {
     "data": {
      "text/latex": [
       "$\\displaystyle \\lambda^{3}$"
      ],
      "text/plain": [
       "lambda**3"
      ]
     },
     "execution_count": 2,
     "metadata": {},
     "output_type": "execute_result"
    }
   ],
   "source": [
    "A.charpoly().as_expr()"
   ]
  },
  {
   "cell_type": "code",
   "execution_count": 3,
   "id": "4cc83fb3",
   "metadata": {},
   "outputs": [
    {
     "data": {
      "text/latex": [
       "$\\displaystyle \\left[\\begin{matrix}0 & 1 & 2\\\\0 & 0 & 3\\\\0 & 0 & 0\\end{matrix}\\right]$"
      ],
      "text/plain": [
       "Matrix([\n",
       "[0, 1, 2],\n",
       "[0, 0, 3],\n",
       "[0, 0, 0]])"
      ]
     },
     "execution_count": 3,
     "metadata": {},
     "output_type": "execute_result"
    }
   ],
   "source": [
    "A"
   ]
  },
  {
   "cell_type": "code",
   "execution_count": 4,
   "id": "a802240d",
   "metadata": {},
   "outputs": [
    {
     "data": {
      "text/latex": [
       "$\\displaystyle \\left[\\begin{matrix}0 & 0 & 3\\\\0 & 0 & 0\\\\0 & 0 & 0\\end{matrix}\\right]$"
      ],
      "text/plain": [
       "Matrix([\n",
       "[0, 0, 3],\n",
       "[0, 0, 0],\n",
       "[0, 0, 0]])"
      ]
     },
     "execution_count": 4,
     "metadata": {},
     "output_type": "execute_result"
    }
   ],
   "source": [
    "A ** 2"
   ]
  },
  {
   "cell_type": "code",
   "execution_count": 5,
   "id": "23d4ec65",
   "metadata": {},
   "outputs": [
    {
     "data": {
      "text/latex": [
       "$\\displaystyle \\left[\\begin{matrix}0 & 0 & 0\\\\0 & 0 & 0\\\\0 & 0 & 0\\end{matrix}\\right]$"
      ],
      "text/plain": [
       "Matrix([\n",
       "[0, 0, 0],\n",
       "[0, 0, 0],\n",
       "[0, 0, 0]])"
      ]
     },
     "execution_count": 5,
     "metadata": {},
     "output_type": "execute_result"
    }
   ],
   "source": [
    "A ** 3"
   ]
  },
  {
   "cell_type": "code",
   "execution_count": 6,
   "id": "af52bbaa",
   "metadata": {},
   "outputs": [],
   "source": [
    "from sympy.abc import x, y, z, a, b, c\n",
    "from sympy import solve\n",
    "v1 = Matrix([x, y, z])"
   ]
  },
  {
   "cell_type": "code",
   "execution_count": 7,
   "id": "a48ea590",
   "metadata": {},
   "outputs": [
    {
     "data": {
      "text/plain": [
       "{y: 0, z: 0}"
      ]
     },
     "execution_count": 7,
     "metadata": {},
     "output_type": "execute_result"
    }
   ],
   "source": [
    "solve(A * v1)"
   ]
  },
  {
   "cell_type": "code",
   "execution_count": 8,
   "id": "2cfcf6ad",
   "metadata": {},
   "outputs": [
    {
     "data": {
      "text/plain": [
       "{y: 666, z: 0}"
      ]
     },
     "execution_count": 8,
     "metadata": {},
     "output_type": "execute_result"
    }
   ],
   "source": [
    "# x = 1\n",
    "v1 = Matrix([666, 0, 0])\n",
    "v2 = Matrix([x, y, z])\n",
    "solve(A * v2 - v1)"
   ]
  },
  {
   "cell_type": "code",
   "execution_count": 9,
   "id": "f233d9e7",
   "metadata": {},
   "outputs": [],
   "source": [
    "v2 = Matrix([0, 666, 0])"
   ]
  },
  {
   "cell_type": "code",
   "execution_count": 10,
   "id": "a7a1ace9",
   "metadata": {},
   "outputs": [
    {
     "data": {
      "text/plain": [
       "{y: -444, z: 222}"
      ]
     },
     "execution_count": 10,
     "metadata": {},
     "output_type": "execute_result"
    }
   ],
   "source": [
    "v3 = Matrix([x, y, z])\n",
    "solve(A * v3 - v2)"
   ]
  },
  {
   "cell_type": "code",
   "execution_count": 11,
   "id": "4cc4df00",
   "metadata": {},
   "outputs": [],
   "source": [
    "P = Matrix( [[666, 0, 0], [0, 666, -444], [0, 0, 222]])"
   ]
  },
  {
   "cell_type": "code",
   "execution_count": 12,
   "id": "e7bb46c6",
   "metadata": {},
   "outputs": [
    {
     "data": {
      "text/latex": [
       "$\\displaystyle \\left[\\begin{matrix}0 & 1 & 0\\\\0 & 0 & 1\\\\0 & 0 & 0\\end{matrix}\\right]$"
      ],
      "text/plain": [
       "Matrix([\n",
       "[0, 1, 0],\n",
       "[0, 0, 1],\n",
       "[0, 0, 0]])"
      ]
     },
     "execution_count": 12,
     "metadata": {},
     "output_type": "execute_result"
    }
   ],
   "source": [
    "P ** -1 * A * P"
   ]
  },
  {
   "cell_type": "code",
   "execution_count": 13,
   "id": "9dabf7d9",
   "metadata": {},
   "outputs": [
    {
     "data": {
      "text/plain": [
       "0.6666666666666666"
      ]
     },
     "execution_count": 13,
     "metadata": {},
     "output_type": "execute_result"
    }
   ],
   "source": [
    "2 / 3"
   ]
  },
  {
   "cell_type": "code",
   "execution_count": 18,
   "id": "1f9416fb",
   "metadata": {},
   "outputs": [],
   "source": [
    "A = Matrix([[-2, 2, 0, -6], [-2, 3, 0, -3], [-2, 1, 2, -3], [2, -1, 0, 5]])"
   ]
  },
  {
   "cell_type": "code",
   "execution_count": 19,
   "id": "a40fb59e",
   "metadata": {},
   "outputs": [
    {
     "data": {
      "text/latex": [
       "$\\displaystyle \\left(\\lambda - 2\\right)^{4}$"
      ],
      "text/plain": [
       "(lambda - 2)**4"
      ]
     },
     "execution_count": 19,
     "metadata": {},
     "output_type": "execute_result"
    }
   ],
   "source": [
    "factor(A.charpoly().as_expr())"
   ]
  },
  {
   "cell_type": "code",
   "execution_count": 21,
   "id": "cfe16581",
   "metadata": {},
   "outputs": [
    {
     "data": {
      "text/latex": [
       "$\\displaystyle \\left[\\begin{matrix}-4 & 2 & 0 & -6\\\\-2 & 1 & 0 & -3\\\\-2 & 1 & 0 & -3\\\\2 & -1 & 0 & 3\\end{matrix}\\right]$"
      ],
      "text/plain": [
       "Matrix([\n",
       "[-4,  2, 0, -6],\n",
       "[-2,  1, 0, -3],\n",
       "[-2,  1, 0, -3],\n",
       "[ 2, -1, 0,  3]])"
      ]
     },
     "execution_count": 21,
     "metadata": {},
     "output_type": "execute_result"
    }
   ],
   "source": [
    "from sympy import eye\n",
    "(A - 2 * eye(4))"
   ]
  },
  {
   "cell_type": "code",
   "execution_count": 22,
   "id": "b64f8843",
   "metadata": {},
   "outputs": [
    {
     "data": {
      "text/latex": [
       "$\\displaystyle \\left[\\begin{matrix}0 & 0 & 0 & 0\\\\0 & 0 & 0 & 0\\\\0 & 0 & 0 & 0\\\\0 & 0 & 0 & 0\\end{matrix}\\right]$"
      ],
      "text/plain": [
       "Matrix([\n",
       "[0, 0, 0, 0],\n",
       "[0, 0, 0, 0],\n",
       "[0, 0, 0, 0],\n",
       "[0, 0, 0, 0]])"
      ]
     },
     "execution_count": 22,
     "metadata": {},
     "output_type": "execute_result"
    }
   ],
   "source": [
    "(A - 2 * eye(4)) ** 2"
   ]
  },
  {
   "cell_type": "code",
   "execution_count": 23,
   "id": "2eade1b5",
   "metadata": {},
   "outputs": [
    {
     "data": {
      "text/plain": [
       "1"
      ]
     },
     "execution_count": 23,
     "metadata": {},
     "output_type": "execute_result"
    }
   ],
   "source": [
    "# 4 = 2 + 2 = 2 + 1 + 1\n",
    "# if g_2 = 2, then there are 2 blocks of size 2\n",
    "# if g_2 = 3, then there are 1 block of size 2, and 2 blokcs of size 1\n",
    "# g_2 = dim E_2 = dim ker (A - 2 * eye(4))\n",
    "(A - 2 * eye(4)).rank()"
   ]
  },
  {
   "cell_type": "code",
   "execution_count": 24,
   "id": "807a434d",
   "metadata": {},
   "outputs": [],
   "source": [
    "# Rank-Nullity implies that dim ker( A - 2 * eye(4)) = 4 - 1 = 3\n",
    "# Hence\n",
    "# JNF(A) = \n",
    "J = Matrix([[2, 1, 0, 0], \n",
    "            [0, 2, 0, 0], \n",
    "            [0, 0, 2, 0], \n",
    "            [0, 0, 0, 2]])"
   ]
  },
  {
   "cell_type": "code",
   "execution_count": 25,
   "id": "d6247064",
   "metadata": {},
   "outputs": [],
   "source": [
    "# Find v1, v2, v3, v4 s.t.\n",
    "# Av1 = 2v1\n",
    "# Av2 = v1 + 2v2\n",
    "# Av3 = 2v3\n",
    "# Av4 = 2v4 \n",
    "# because A is written with respect to the standard basis and \n",
    "# so T(v_i) = A v_i\n",
    "from sympy.abc import x, y, z, t, a, b, c, d\n",
    "v1 = Matrix([x, y, z, t])\n",
    "v2 = Matrix([a, b, c, d])\n"
   ]
  },
  {
   "cell_type": "code",
   "execution_count": 29,
   "id": "4685d01e",
   "metadata": {},
   "outputs": [
    {
     "data": {
      "text/plain": [
       "{x: -3*t/2 + y/2}"
      ]
     },
     "execution_count": 29,
     "metadata": {},
     "output_type": "execute_result"
    }
   ],
   "source": [
    "solve(A * v1 - 2 *v1, [x, y, z, t])"
   ]
  },
  {
   "cell_type": "code",
   "execution_count": 30,
   "id": "a6ffc76e",
   "metadata": {},
   "outputs": [
    {
     "data": {
      "text/plain": [
       "{a: b/2 - 3*d/2 - z/2, t: -z, y: z}"
      ]
     },
     "execution_count": 30,
     "metadata": {},
     "output_type": "execute_result"
    }
   ],
   "source": [
    "v1 = Matrix([-3 * t / 2 + y / 2, y, z, t])\n",
    "solve(A * v2 - v1 - 2 * v2)"
   ]
  },
  {
   "cell_type": "code",
   "execution_count": 31,
   "id": "75275272",
   "metadata": {},
   "outputs": [
    {
     "data": {
      "text/plain": [
       "True"
      ]
     },
     "execution_count": 31,
     "metadata": {},
     "output_type": "execute_result"
    }
   ],
   "source": [
    "# z = 1, t = -1, y = 1, x = 2\n",
    "v1 = Matrix([2, 1, 1, -1])\n",
    "A * v1 == 2 * v1"
   ]
  },
  {
   "cell_type": "code",
   "execution_count": 37,
   "id": "860eb351",
   "metadata": {},
   "outputs": [
    {
     "data": {
      "text/latex": [
       "$\\displaystyle \\left[\\begin{matrix}0\\\\0\\\\0\\\\0\\end{matrix}\\right]$"
      ],
      "text/plain": [
       "Matrix([\n",
       "[0],\n",
       "[0],\n",
       "[0],\n",
       "[0]])"
      ]
     },
     "execution_count": 37,
     "metadata": {},
     "output_type": "execute_result"
    }
   ],
   "source": [
    "# a = -2, b = 2, c = 0, d = 2\n",
    "v2 = Matrix([-2.5, 2, 0, 2])\n",
    "A * v2- v1 - 2 * v2"
   ]
  },
  {
   "cell_type": "code",
   "execution_count": 38,
   "id": "9f0bbfeb",
   "metadata": {},
   "outputs": [
    {
     "data": {
      "text/plain": [
       "{a: 0.0, b: 0.0}"
      ]
     },
     "execution_count": 38,
     "metadata": {},
     "output_type": "execute_result"
    }
   ],
   "source": [
    "solve(a * v1 + b * v2)"
   ]
  },
  {
   "cell_type": "code",
   "execution_count": 39,
   "id": "aaac1815",
   "metadata": {},
   "outputs": [],
   "source": [
    "v3 = Matrix([x, y, z, t])"
   ]
  },
  {
   "cell_type": "code",
   "execution_count": 40,
   "id": "4813665d",
   "metadata": {},
   "outputs": [
    {
     "data": {
      "text/plain": [
       "{t: -2*x/3 + y/3}"
      ]
     },
     "execution_count": 40,
     "metadata": {},
     "output_type": "execute_result"
    }
   ],
   "source": [
    "solve(A * v3 - 2 * v3)"
   ]
  },
  {
   "cell_type": "code",
   "execution_count": 42,
   "id": "689d829b",
   "metadata": {},
   "outputs": [
    {
     "data": {
      "text/plain": [
       "True"
      ]
     },
     "execution_count": 42,
     "metadata": {},
     "output_type": "execute_result"
    }
   ],
   "source": [
    "# x = 0, y = 3, z = 1, t = 1\n",
    "v3 = Matrix([0, 3, 1, 1])\n",
    "A * v3 == 2 * v3"
   ]
  },
  {
   "cell_type": "code",
   "execution_count": 43,
   "id": "d08a0370",
   "metadata": {},
   "outputs": [
    {
     "data": {
      "text/plain": [
       "{a: 0.0, b: 0.0, c: 0.0}"
      ]
     },
     "execution_count": 43,
     "metadata": {},
     "output_type": "execute_result"
    }
   ],
   "source": [
    "solve(a * v1 + b * v2 + c * v3)"
   ]
  },
  {
   "cell_type": "code",
   "execution_count": 44,
   "id": "bfe228ff",
   "metadata": {},
   "outputs": [
    {
     "data": {
      "text/plain": [
       "{a: 0.0, b: 0.0, c: 0.0, d: 0.0}"
      ]
     },
     "execution_count": 44,
     "metadata": {},
     "output_type": "execute_result"
    }
   ],
   "source": [
    "# x = 3, y = 0, z = 0, t = -2\n",
    "v4 = Matrix([3, 0, 0, -2])\n",
    "solve(a * v1 + b * v2 + c * v3 + d * v4)"
   ]
  },
  {
   "cell_type": "code",
   "execution_count": 46,
   "id": "b7010e41",
   "metadata": {},
   "outputs": [],
   "source": [
    "P = Matrix([[*v1], [*v2], [*v3], [*v4]]).transpose()"
   ]
  },
  {
   "cell_type": "code",
   "execution_count": 47,
   "id": "b89a26b8",
   "metadata": {},
   "outputs": [
    {
     "data": {
      "text/latex": [
       "$\\displaystyle \\left[\\begin{matrix}2 & -2.5 & 0 & 3\\\\1 & 2 & 3 & 0\\\\1 & 0 & 1 & 0\\\\-1 & 2 & 1 & -2\\end{matrix}\\right]$"
      ],
      "text/plain": [
       "Matrix([\n",
       "[ 2, -2.5, 0,  3],\n",
       "[ 1,    2, 3,  0],\n",
       "[ 1,    0, 1,  0],\n",
       "[-1,    2, 1, -2]])"
      ]
     },
     "execution_count": 47,
     "metadata": {},
     "output_type": "execute_result"
    }
   ],
   "source": [
    "P"
   ]
  },
  {
   "cell_type": "code",
   "execution_count": 48,
   "id": "1d502591",
   "metadata": {},
   "outputs": [
    {
     "data": {
      "text/latex": [
       "$\\displaystyle \\left[\\begin{matrix}2.0 & 1.0 & 0 & 0\\\\0 & 2.0 & 0 & 0\\\\0 & 0 & 2.0 & 0\\\\0 & 0 & 0 & 2.0\\end{matrix}\\right]$"
      ],
      "text/plain": [
       "Matrix([\n",
       "[2.0, 1.0,   0,   0],\n",
       "[  0, 2.0,   0,   0],\n",
       "[  0,   0, 2.0,   0],\n",
       "[  0,   0,   0, 2.0]])"
      ]
     },
     "execution_count": 48,
     "metadata": {},
     "output_type": "execute_result"
    }
   ],
   "source": [
    "P ** - 1 * A * P"
   ]
  },
  {
   "cell_type": "code",
   "execution_count": 49,
   "id": "405b12f7",
   "metadata": {},
   "outputs": [],
   "source": [
    "A = Matrix([[1, 2, 3, 4], [4, 5, 6, 7], [-1, 1, 0, 1], [1, 0, -2, 1]])"
   ]
  },
  {
   "cell_type": "code",
   "execution_count": 50,
   "id": "e2477694",
   "metadata": {},
   "outputs": [
    {
     "data": {
      "text/latex": [
       "$\\displaystyle \\lambda^{4} - 7 \\lambda^{3} - 2 \\lambda^{2} - 6 \\lambda + 39$"
      ],
      "text/plain": [
       "lambda**4 - 7*lambda**3 - 2*lambda**2 - 6*lambda + 39"
      ]
     },
     "execution_count": 50,
     "metadata": {},
     "output_type": "execute_result"
    }
   ],
   "source": [
    "factor(A.charpoly().as_expr())"
   ]
  },
  {
   "cell_type": "code",
   "execution_count": 55,
   "id": "6a88bf7c",
   "metadata": {},
   "outputs": [
    {
     "data": {
      "text/plain": [
       "[(1.642684818073247, 0.0),\n",
       " (7.286673608719728, 0.0),\n",
       " (-0.9646792133964874, -1.5256535748752817),\n",
       " (-0.9646792133964874, 1.5256535748752817)]"
      ]
     },
     "execution_count": 55,
     "metadata": {},
     "output_type": "execute_result"
    }
   ],
   "source": [
    "from sympy import re, im\n",
    "[(float(re(x)), float(im(x))) for x in A.charpoly().all_roots()]"
   ]
  },
  {
   "cell_type": "code",
   "execution_count": null,
   "id": "6ee2526c",
   "metadata": {},
   "outputs": [],
   "source": []
  }
 ],
 "metadata": {
  "kernelspec": {
   "display_name": "Python 3 (ipykernel)",
   "language": "python",
   "name": "python3"
  },
  "language_info": {
   "codemirror_mode": {
    "name": "ipython",
    "version": 3
   },
   "file_extension": ".py",
   "mimetype": "text/x-python",
   "name": "python",
   "nbconvert_exporter": "python",
   "pygments_lexer": "ipython3",
   "version": "3.9.6"
  }
 },
 "nbformat": 4,
 "nbformat_minor": 5
}
