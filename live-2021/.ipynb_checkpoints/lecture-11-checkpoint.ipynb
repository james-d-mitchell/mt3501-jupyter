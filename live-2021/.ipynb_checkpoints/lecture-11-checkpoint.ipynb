{
 "cells": [
  {
   "cell_type": "markdown",
   "id": "1a80f243",
   "metadata": {},
   "source": [
    "# Example 6.1.5"
   ]
  },
  {
   "cell_type": "code",
   "execution_count": 1,
   "id": "319961fa",
   "metadata": {},
   "outputs": [
    {
     "data": {
      "text/plain": [
       "3"
      ]
     },
     "execution_count": 1,
     "metadata": {},
     "output_type": "execute_result"
    }
   ],
   "source": [
    "from sympy import Matrix\n",
    "Matrix([[1, 1, 1], [2, 1, 0], [0, 3, 1]]).rank()"
   ]
  }
 ],
 "metadata": {
  "kernelspec": {
   "display_name": "Python 3",
   "language": "python",
   "name": "python3"
  },
  "language_info": {
   "codemirror_mode": {
    "name": "ipython",
    "version": 3
   },
   "file_extension": ".py",
   "mimetype": "text/x-python",
   "name": "python",
   "nbconvert_exporter": "python",
   "pygments_lexer": "ipython3",
   "version": "3.9.8"
  }
 },
 "nbformat": 4,
 "nbformat_minor": 5
}
