{
 "cells": [
  {
   "cell_type": "code",
   "execution_count": 1,
   "id": "43a987f6",
   "metadata": {},
   "outputs": [],
   "source": [
    "from sympy import Matrix"
   ]
  },
  {
   "cell_type": "code",
   "execution_count": 3,
   "id": "1fa0acc1",
   "metadata": {},
   "outputs": [],
   "source": [
    "A = Matrix([[2, 1, 0, 0], [1, 1, 1, 0], [1, 0, 1, 1]])"
   ]
  },
  {
   "cell_type": "code",
   "execution_count": 4,
   "id": "a808509f",
   "metadata": {},
   "outputs": [
    {
     "data": {
      "text/latex": [
       "$\\displaystyle \\left[\\begin{matrix}2 & 1 & 0 & 0\\\\1 & 1 & 1 & 0\\\\1 & 0 & 1 & 1\\end{matrix}\\right]$"
      ],
      "text/plain": [
       "Matrix([\n",
       "[2, 1, 0, 0],\n",
       "[1, 1, 1, 0],\n",
       "[1, 0, 1, 1]])"
      ]
     },
     "execution_count": 4,
     "metadata": {},
     "output_type": "execute_result"
    }
   ],
   "source": [
    "A"
   ]
  },
  {
   "cell_type": "code",
   "execution_count": 5,
   "id": "ae3d4231",
   "metadata": {},
   "outputs": [
    {
     "data": {
      "text/plain": [
       "3"
      ]
     },
     "execution_count": 5,
     "metadata": {},
     "output_type": "execute_result"
    }
   ],
   "source": [
    "A.rank()"
   ]
  },
  {
   "cell_type": "code",
   "execution_count": 8,
   "id": "3859d62e",
   "metadata": {},
   "outputs": [
    {
     "data": {
      "text/plain": [
       "2"
      ]
     },
     "execution_count": 8,
     "metadata": {},
     "output_type": "execute_result"
    }
   ],
   "source": [
    "A = Matrix([[1, 6, 7, 4], [2 * 1, 2 * 6, 2 * 7, 2* 4], [600, 234, 703, 3929]])\n",
    "A.rank()"
   ]
  },
  {
   "cell_type": "code",
   "execution_count": 9,
   "id": "c5888860",
   "metadata": {},
   "outputs": [
    {
     "data": {
      "text/plain": [
       "3"
      ]
     },
     "execution_count": 9,
     "metadata": {},
     "output_type": "execute_result"
    }
   ],
   "source": [
    "A = Matrix([[2, 1, 1], [1, 1, 0], [0, 1, 1], [0, 0, 1]])\n",
    "A.rank()"
   ]
  },
  {
   "cell_type": "code",
   "execution_count": 10,
   "id": "fc97d376",
   "metadata": {},
   "outputs": [
    {
     "data": {
      "text/latex": [
       "$\\displaystyle \\left[\\begin{matrix}2 & 1 & 1\\\\1 & 1 & 0\\\\0 & 1 & 1\\\\0 & 0 & 1\\end{matrix}\\right]$"
      ],
      "text/plain": [
       "Matrix([\n",
       "[2, 1, 1],\n",
       "[1, 1, 0],\n",
       "[0, 1, 1],\n",
       "[0, 0, 1]])"
      ]
     },
     "execution_count": 10,
     "metadata": {},
     "output_type": "execute_result"
    }
   ],
   "source": [
    "A"
   ]
  },
  {
   "cell_type": "code",
   "execution_count": 11,
   "id": "7de39189",
   "metadata": {},
   "outputs": [
    {
     "data": {
      "text/latex": [
       "$\\displaystyle \\left[\\begin{matrix}2 & 1 & 0 & 0\\\\1 & 1 & 1 & 0\\\\1 & 0 & 1 & 1\\end{matrix}\\right]$"
      ],
      "text/plain": [
       "Matrix([\n",
       "[2, 1, 0, 0],\n",
       "[1, 1, 1, 0],\n",
       "[1, 0, 1, 1]])"
      ]
     },
     "execution_count": 11,
     "metadata": {},
     "output_type": "execute_result"
    }
   ],
   "source": [
    "A.transpose()"
   ]
  },
  {
   "cell_type": "code",
   "execution_count": 12,
   "id": "9256ccb1",
   "metadata": {},
   "outputs": [
    {
     "data": {
      "text/plain": [
       "3"
      ]
     },
     "execution_count": 12,
     "metadata": {},
     "output_type": "execute_result"
    }
   ],
   "source": [
    "A.transpose().rank()"
   ]
  },
  {
   "cell_type": "code",
   "execution_count": 13,
   "id": "df1a4b12",
   "metadata": {},
   "outputs": [
    {
     "data": {
      "text/latex": [
       "$\\displaystyle \\left[\\begin{matrix}2 & 1 & 1\\\\0 & 1 & -1\\\\0 & 0 & 2\\\\0 & 0 & 0\\end{matrix}\\right]$"
      ],
      "text/plain": [
       "Matrix([\n",
       "[2, 1,  1],\n",
       "[0, 1, -1],\n",
       "[0, 0,  2],\n",
       "[0, 0,  0]])"
      ]
     },
     "execution_count": 13,
     "metadata": {},
     "output_type": "execute_result"
    }
   ],
   "source": [
    "A.echelon_form()\n"
   ]
  },
  {
   "cell_type": "code",
   "execution_count": 15,
   "id": "fd442d23",
   "metadata": {
    "scrolled": true
   },
   "outputs": [
    {
     "data": {
      "text/plain": [
       "(Matrix([\n",
       " [1, 0, 0],\n",
       " [0, 1, 0],\n",
       " [0, 0, 1],\n",
       " [0, 0, 0]]),\n",
       " (0, 1, 2))"
      ]
     },
     "execution_count": 15,
     "metadata": {},
     "output_type": "execute_result"
    }
   ],
   "source": [
    "A.rref()\n"
   ]
  },
  {
   "cell_type": "code",
   "execution_count": 16,
   "id": "3f64d06f",
   "metadata": {},
   "outputs": [
    {
     "name": "stdout",
     "output_type": "stream",
     "text": [
      "Help on function rref in module sympy.matrices.matrices:\n",
      "\n",
      "rref(self, iszerofunc=<function _iszero at 0x7fb018df65e0>, simplify=False, pivots=True, normalize_last=True)\n",
      "    Return reduced row-echelon form of matrix and indices of pivot vars.\n",
      "    \n",
      "    Parameters\n",
      "    ==========\n",
      "    \n",
      "    iszerofunc : Function\n",
      "        A function used for detecting whether an element can\n",
      "        act as a pivot.  ``lambda x: x.is_zero`` is used by default.\n",
      "    \n",
      "    simplify : Function\n",
      "        A function used to simplify elements when looking for a pivot.\n",
      "        By default SymPy's ``simplify`` is used.\n",
      "    \n",
      "    pivots : True or False\n",
      "        If ``True``, a tuple containing the row-reduced matrix and a tuple\n",
      "        of pivot columns is returned.  If ``False`` just the row-reduced\n",
      "        matrix is returned.\n",
      "    \n",
      "    normalize_last : True or False\n",
      "        If ``True``, no pivots are normalized to `1` until after all\n",
      "        entries above and below each pivot are zeroed.  This means the row\n",
      "        reduction algorithm is fraction free until the very last step.\n",
      "        If ``False``, the naive row reduction procedure is used where\n",
      "        each pivot is normalized to be `1` before row operations are\n",
      "        used to zero above and below the pivot.\n",
      "    \n",
      "    Examples\n",
      "    ========\n",
      "    \n",
      "    >>> from sympy import Matrix\n",
      "    >>> from sympy.abc import x\n",
      "    >>> m = Matrix([[1, 2], [x, 1 - 1/x]])\n",
      "    >>> m.rref()\n",
      "    (Matrix([\n",
      "    [1, 0],\n",
      "    [0, 1]]), (0, 1))\n",
      "    >>> rref_matrix, rref_pivots = m.rref()\n",
      "    >>> rref_matrix\n",
      "    Matrix([\n",
      "    [1, 0],\n",
      "    [0, 1]])\n",
      "    >>> rref_pivots\n",
      "    (0, 1)\n",
      "    \n",
      "    Notes\n",
      "    =====\n",
      "    \n",
      "    The default value of ``normalize_last=True`` can provide significant\n",
      "    speedup to row reduction, especially on matrices with symbols.  However,\n",
      "    if you depend on the form row reduction algorithm leaves entries\n",
      "    of the matrix, set ``noramlize_last=False``\n",
      "\n"
     ]
    }
   ],
   "source": [
    "help(Matrix.rref)"
   ]
  },
  {
   "cell_type": "code",
   "execution_count": 17,
   "id": "2510745b",
   "metadata": {},
   "outputs": [],
   "source": [
    "A = Matrix([[-2, 2, 0], [-1, 0, 0], [1, -3, 1]])"
   ]
  },
  {
   "cell_type": "code",
   "execution_count": 18,
   "id": "4124b1bc",
   "metadata": {},
   "outputs": [
    {
     "data": {
      "text/latex": [
       "$\\displaystyle \\left[\\begin{matrix}-2 & 2 & 0\\\\-1 & 0 & 0\\\\1 & -3 & 1\\end{matrix}\\right]$"
      ],
      "text/plain": [
       "Matrix([\n",
       "[-2,  2, 0],\n",
       "[-1,  0, 0],\n",
       "[ 1, -3, 1]])"
      ]
     },
     "execution_count": 18,
     "metadata": {},
     "output_type": "execute_result"
    }
   ],
   "source": [
    "A"
   ]
  },
  {
   "cell_type": "code",
   "execution_count": 19,
   "id": "b6393459",
   "metadata": {},
   "outputs": [
    {
     "data": {
      "text/plain": [
       "3"
      ]
     },
     "execution_count": 19,
     "metadata": {},
     "output_type": "execute_result"
    }
   ],
   "source": [
    "A.rank()"
   ]
  },
  {
   "cell_type": "markdown",
   "id": "ad72a17c",
   "metadata": {},
   "source": [
    "# The previous is the solution to Example 3.4.3"
   ]
  },
  {
   "cell_type": "code",
   "execution_count": 20,
   "id": "f3fff78d",
   "metadata": {},
   "outputs": [],
   "source": [
    "A = Matrix([[1, -1, 0, 3], [2, 1, 1, 0], [0, 3, 1, -6], [0, 1, 0, -1], [-1, 1, -1, 0]])"
   ]
  },
  {
   "cell_type": "code",
   "execution_count": 21,
   "id": "8cd32882",
   "metadata": {},
   "outputs": [
    {
     "data": {
      "text/latex": [
       "$\\displaystyle \\left[\\begin{matrix}1 & -1 & 0 & 3\\\\2 & 1 & 1 & 0\\\\0 & 3 & 1 & -6\\\\0 & 1 & 0 & -1\\\\-1 & 1 & -1 & 0\\end{matrix}\\right]$"
      ],
      "text/plain": [
       "Matrix([\n",
       "[ 1, -1,  0,  3],\n",
       "[ 2,  1,  1,  0],\n",
       "[ 0,  3,  1, -6],\n",
       "[ 0,  1,  0, -1],\n",
       "[-1,  1, -1,  0]])"
      ]
     },
     "execution_count": 21,
     "metadata": {},
     "output_type": "execute_result"
    }
   ],
   "source": [
    "A"
   ]
  },
  {
   "cell_type": "code",
   "execution_count": 22,
   "id": "b92a95e0",
   "metadata": {},
   "outputs": [
    {
     "data": {
      "text/latex": [
       "$\\displaystyle \\left[\\begin{matrix}1 & -1 & 0 & 3\\\\0 & 3 & 1 & -6\\\\0 & 0 & -1 & 3\\\\0 & 0 & 0 & 0\\\\0 & 0 & 0 & 0\\end{matrix}\\right]$"
      ],
      "text/plain": [
       "Matrix([\n",
       "[1, -1,  0,  3],\n",
       "[0,  3,  1, -6],\n",
       "[0,  0, -1,  3],\n",
       "[0,  0,  0,  0],\n",
       "[0,  0,  0,  0]])"
      ]
     },
     "execution_count": 22,
     "metadata": {},
     "output_type": "execute_result"
    }
   ],
   "source": [
    "A.echelon_form() # basis for the row-space is given by the non-zero rows in any echelon form for the matrix A."
   ]
  },
  {
   "cell_type": "code",
   "execution_count": 23,
   "id": "7ef10d96",
   "metadata": {},
   "outputs": [],
   "source": [
    "v1, v2, v3 = Matrix([1, -1, 0, 3]), Matrix([0, 3, 1, -6]), Matrix([0, 0, -1, 3])"
   ]
  },
  {
   "cell_type": "code",
   "execution_count": 24,
   "id": "d99a281c",
   "metadata": {},
   "outputs": [
    {
     "data": {
      "text/latex": [
       "$\\displaystyle \\left[\\begin{matrix}1\\\\-1\\\\0\\\\3\\end{matrix}\\right]$"
      ],
      "text/plain": [
       "Matrix([\n",
       "[ 1],\n",
       "[-1],\n",
       "[ 0],\n",
       "[ 3]])"
      ]
     },
     "execution_count": 24,
     "metadata": {},
     "output_type": "execute_result"
    }
   ],
   "source": [
    "v1"
   ]
  },
  {
   "cell_type": "code",
   "execution_count": 25,
   "id": "6aa083e4",
   "metadata": {},
   "outputs": [
    {
     "data": {
      "text/latex": [
       "$\\displaystyle \\left[\\begin{matrix}0\\\\3\\\\1\\\\-6\\end{matrix}\\right]$"
      ],
      "text/plain": [
       "Matrix([\n",
       "[ 0],\n",
       "[ 3],\n",
       "[ 1],\n",
       "[-6]])"
      ]
     },
     "execution_count": 25,
     "metadata": {},
     "output_type": "execute_result"
    }
   ],
   "source": [
    "v2"
   ]
  },
  {
   "cell_type": "code",
   "execution_count": 26,
   "id": "1f150d42",
   "metadata": {},
   "outputs": [
    {
     "data": {
      "text/latex": [
       "$\\displaystyle \\left[\\begin{matrix}0\\\\0\\\\-1\\\\3\\end{matrix}\\right]$"
      ],
      "text/plain": [
       "Matrix([\n",
       "[ 0],\n",
       "[ 0],\n",
       "[-1],\n",
       "[ 3]])"
      ]
     },
     "execution_count": 26,
     "metadata": {},
     "output_type": "execute_result"
    }
   ],
   "source": [
    "v3 "
   ]
  },
  {
   "cell_type": "code",
   "execution_count": 27,
   "id": "58b75b15",
   "metadata": {},
   "outputs": [],
   "source": [
    "w1 = Matrix([1, -1, 0, 3])"
   ]
  },
  {
   "cell_type": "code",
   "execution_count": 28,
   "id": "9e1f5bec",
   "metadata": {},
   "outputs": [
    {
     "data": {
      "text/latex": [
       "$\\displaystyle \\left[\\begin{matrix}1\\\\-1\\\\0\\\\3\\end{matrix}\\right]$"
      ],
      "text/plain": [
       "Matrix([\n",
       "[ 1],\n",
       "[-1],\n",
       "[ 0],\n",
       "[ 3]])"
      ]
     },
     "execution_count": 28,
     "metadata": {},
     "output_type": "execute_result"
    }
   ],
   "source": [
    "w1\n"
   ]
  },
  {
   "cell_type": "code",
   "execution_count": 29,
   "id": "afa949cd",
   "metadata": {},
   "outputs": [],
   "source": [
    "from sympy import solve\n",
    "from sympy.abc import a, b, c"
   ]
  },
  {
   "cell_type": "code",
   "execution_count": 30,
   "id": "fc51e167",
   "metadata": {},
   "outputs": [
    {
     "data": {
      "text/plain": [
       "{a: 1, b: 0, c: 0}"
      ]
     },
     "execution_count": 30,
     "metadata": {},
     "output_type": "execute_result"
    }
   ],
   "source": [
    "solve(a * v1 + b * v2 + c * v3 - w1, [a, b, c])"
   ]
  },
  {
   "cell_type": "code",
   "execution_count": 33,
   "id": "b47a2205",
   "metadata": {},
   "outputs": [
    {
     "data": {
      "text/latex": [
       "$\\displaystyle \\left[\\begin{matrix}-1\\\\1\\\\-1\\\\0\\end{matrix}\\right]$"
      ],
      "text/plain": [
       "Matrix([\n",
       "[-1],\n",
       "[ 1],\n",
       "[-1],\n",
       "[ 0]])"
      ]
     },
     "execution_count": 33,
     "metadata": {},
     "output_type": "execute_result"
    }
   ],
   "source": [
    "w = Matrix([-1, 1, -1, 0])\n",
    "w"
   ]
  },
  {
   "cell_type": "code",
   "execution_count": 34,
   "id": "e16510db",
   "metadata": {},
   "outputs": [
    {
     "data": {
      "text/plain": [
       "{a: -1, b: 0, c: 1}"
      ]
     },
     "execution_count": 34,
     "metadata": {},
     "output_type": "execute_result"
    }
   ],
   "source": [
    "solve(a * v1 + b * v2 + c * v3 - w, [a, b, c])"
   ]
  },
  {
   "cell_type": "code",
   "execution_count": 35,
   "id": "82b0cf64",
   "metadata": {},
   "outputs": [
    {
     "data": {
      "text/latex": [
       "$\\displaystyle \\left[\\begin{matrix}-1\\\\1\\\\-1\\\\0\\end{matrix}\\right]$"
      ],
      "text/plain": [
       "Matrix([\n",
       "[-1],\n",
       "[ 1],\n",
       "[-1],\n",
       "[ 0]])"
      ]
     },
     "execution_count": 35,
     "metadata": {},
     "output_type": "execute_result"
    }
   ],
   "source": [
    "-1 * v1 + 0 * v2 + 1 * v3 "
   ]
  },
  {
   "cell_type": "code",
   "execution_count": 36,
   "id": "ef1d74a9",
   "metadata": {},
   "outputs": [
    {
     "data": {
      "text/latex": [
       "$\\displaystyle \\left[\\begin{matrix}-1\\\\1\\\\-1\\\\0\\end{matrix}\\right]$"
      ],
      "text/plain": [
       "Matrix([\n",
       "[-1],\n",
       "[ 1],\n",
       "[-1],\n",
       "[ 0]])"
      ]
     },
     "execution_count": 36,
     "metadata": {},
     "output_type": "execute_result"
    }
   ],
   "source": [
    "w"
   ]
  },
  {
   "cell_type": "code",
   "execution_count": 40,
   "id": "f807c5b4",
   "metadata": {},
   "outputs": [],
   "source": [
    "from sympy.abc import x, y, z, t, d\n",
    "w = Matrix([x, y, z, t])"
   ]
  },
  {
   "cell_type": "code",
   "execution_count": 38,
   "id": "12342350",
   "metadata": {},
   "outputs": [
    {
     "data": {
      "text/plain": [
       "[]"
      ]
     },
     "execution_count": 38,
     "metadata": {},
     "output_type": "execute_result"
    }
   ],
   "source": [
    "solve(a * v1 + b * v2 + c * v3 - w, [a, b, c])"
   ]
  },
  {
   "cell_type": "code",
   "execution_count": 39,
   "id": "eb76843b",
   "metadata": {},
   "outputs": [],
   "source": [
    "e1, e2, e3, e4 = Matrix([1, 0, 0, 0]), Matrix([0,1,0, 0]), Matrix([0, 0, 1, 0]), Matrix([0, 0, 0, 1])"
   ]
  },
  {
   "cell_type": "code",
   "execution_count": 41,
   "id": "d87750b5",
   "metadata": {},
   "outputs": [
    {
     "data": {
      "text/plain": [
       "{a: x, b: y, c: z, d: t}"
      ]
     },
     "execution_count": 41,
     "metadata": {},
     "output_type": "execute_result"
    }
   ],
   "source": [
    "solve(a * e1 + b * e2 + c * e3 + d * e4 - w, [a, b, c, d])"
   ]
  },
  {
   "cell_type": "code",
   "execution_count": 42,
   "id": "4b10350c",
   "metadata": {},
   "outputs": [],
   "source": [
    "v1, v2, v3, v4 = Matrix([-2, 0, 3, 0]), Matrix([-1, 1, -3, 0]), Matrix([1, 0, -1, 3]), Matrix([1, 0, -1, 0])"
   ]
  },
  {
   "cell_type": "code",
   "execution_count": 43,
   "id": "e0eed649",
   "metadata": {},
   "outputs": [],
   "source": [
    "u = Matrix([0, 0, -1, 2])"
   ]
  },
  {
   "cell_type": "code",
   "execution_count": 44,
   "id": "84ea2313",
   "metadata": {},
   "outputs": [
    {
     "data": {
      "text/plain": [
       "{a: -1, b: 0, c: 2/3, d: -8/3}"
      ]
     },
     "execution_count": 44,
     "metadata": {},
     "output_type": "execute_result"
    }
   ],
   "source": [
    "solve(a * v1 + b * v2 + c * v3 + d * v4 - u, [a, b, c, d])"
   ]
  },
  {
   "cell_type": "code",
   "execution_count": 45,
   "id": "5c58b955",
   "metadata": {},
   "outputs": [
    {
     "data": {
      "text/latex": [
       "$\\displaystyle a$"
      ],
      "text/plain": [
       "a"
      ]
     },
     "execution_count": 45,
     "metadata": {},
     "output_type": "execute_result"
    }
   ],
   "source": [
    "a"
   ]
  },
  {
   "cell_type": "code",
   "execution_count": 50,
   "id": "dc9de8ff",
   "metadata": {},
   "outputs": [
    {
     "data": {
      "text/latex": [
       "$\\displaystyle \\left[\\begin{matrix}0\\\\0\\\\-1.0\\\\2.0\\end{matrix}\\right]$"
      ],
      "text/plain": [
       "Matrix([\n",
       "[   0],\n",
       "[   0],\n",
       "[-1.0],\n",
       "[ 2.0]])"
      ]
     },
     "execution_count": 50,
     "metadata": {},
     "output_type": "execute_result"
    }
   ],
   "source": [
    "-1 * v1 + 0 * v2 + 2 / 3 * v3 + -8 / 3 * v4"
   ]
  },
  {
   "cell_type": "code",
   "execution_count": 47,
   "id": "c5acef8f",
   "metadata": {},
   "outputs": [
    {
     "data": {
      "text/plain": [
       "0.6666666666666666"
      ]
     },
     "execution_count": 47,
     "metadata": {},
     "output_type": "execute_result"
    }
   ],
   "source": []
  },
  {
   "cell_type": "code",
   "execution_count": 49,
   "id": "64f8ba58",
   "metadata": {},
   "outputs": [
    {
     "data": {
      "text/plain": [
       "True"
      ]
     },
     "execution_count": 49,
     "metadata": {},
     "output_type": "execute_result"
    }
   ],
   "source": [
    "-1.0 == -1"
   ]
  },
  {
   "cell_type": "code",
   "execution_count": 51,
   "id": "2d82605e",
   "metadata": {},
   "outputs": [
    {
     "ename": "ImportError",
     "evalue": "cannot import name 'xxx' from 'sympy.abc' (/opt/conda/lib/python3.9/site-packages/sympy/abc.py)",
     "output_type": "error",
     "traceback": [
      "\u001b[0;31m---------------------------------------------------------------------------\u001b[0m",
      "\u001b[0;31mImportError\u001b[0m                               Traceback (most recent call last)",
      "\u001b[0;32m/tmp/ipykernel_163/2333293403.py\u001b[0m in \u001b[0;36m<module>\u001b[0;34m\u001b[0m\n\u001b[0;32m----> 1\u001b[0;31m \u001b[0;32mfrom\u001b[0m \u001b[0msympy\u001b[0m\u001b[0;34m.\u001b[0m\u001b[0mabc\u001b[0m \u001b[0;32mimport\u001b[0m \u001b[0mxxx\u001b[0m\u001b[0;34m\u001b[0m\u001b[0;34m\u001b[0m\u001b[0m\n\u001b[0m",
      "\u001b[0;31mImportError\u001b[0m: cannot import name 'xxx' from 'sympy.abc' (/opt/conda/lib/python3.9/site-packages/sympy/abc.py)"
     ]
    }
   ],
   "source": [
    "from sympy.abc import xxx\n"
   ]
  },
  {
   "cell_type": "code",
   "execution_count": 59,
   "id": "7f4e64d6",
   "metadata": {},
   "outputs": [],
   "source": [
    "from sympy.abc import a, b, c, d, e, f, g, h, i, j, k, l, m, n, o, p, q , r, s, t, u, v, w, x, y, z"
   ]
  },
  {
   "cell_type": "code",
   "execution_count": 1,
   "id": "21f925e2",
   "metadata": {},
   "outputs": [],
   "source": [
    "from sympy import Symbol\n",
    "xxx = Symbol(\"xxx\")"
   ]
  },
  {
   "cell_type": "code",
   "execution_count": 2,
   "id": "0340ffe4",
   "metadata": {},
   "outputs": [
    {
     "data": {
      "text/latex": [
       "$\\displaystyle xxx$"
      ],
      "text/plain": [
       "xxx"
      ]
     },
     "execution_count": 2,
     "metadata": {},
     "output_type": "execute_result"
    }
   ],
   "source": [
    "xxx"
   ]
  },
  {
   "cell_type": "code",
   "execution_count": null,
   "id": "e032f21c",
   "metadata": {},
   "outputs": [],
   "source": []
  }
 ],
 "metadata": {
  "kernelspec": {
   "display_name": "Python 3 (ipykernel)",
   "language": "python",
   "name": "python3"
  },
  "language_info": {
   "codemirror_mode": {
    "name": "ipython",
    "version": 3
   },
   "file_extension": ".py",
   "mimetype": "text/x-python",
   "name": "python",
   "nbconvert_exporter": "python",
   "pygments_lexer": "ipython3",
   "version": "3.9.6"
  }
 },
 "nbformat": 4,
 "nbformat_minor": 5
}
