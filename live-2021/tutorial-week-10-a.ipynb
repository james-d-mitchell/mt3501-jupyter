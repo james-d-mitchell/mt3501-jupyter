{
 "cells": [
  {
   "cell_type": "code",
   "execution_count": 1,
   "id": "abb71002",
   "metadata": {},
   "outputs": [],
   "source": [
    "from sympy import Matrix, factor, solve, eye\n",
    "A = Matrix([[1, 0, 0, 0], [-6, -1, 1, 0], [-4, 0, -1, 0], [13, 0, 6, 1]])"
   ]
  },
  {
   "cell_type": "code",
   "execution_count": 2,
   "id": "2efd35ab",
   "metadata": {},
   "outputs": [
    {
     "data": {
      "text/latex": [
       "$\\displaystyle \\left(\\lambda - 1\\right)^{2} \\left(\\lambda + 1\\right)^{2}$"
      ],
      "text/plain": [
       "(lambda - 1)**2*(lambda + 1)**2"
      ]
     },
     "execution_count": 2,
     "metadata": {},
     "output_type": "execute_result"
    }
   ],
   "source": [
    "factor(A.charpoly().as_expr())"
   ]
  },
  {
   "cell_type": "code",
   "execution_count": 3,
   "id": "b6db4e3d",
   "metadata": {},
   "outputs": [
    {
     "data": {
      "text/latex": [
       "$\\displaystyle \\left[\\begin{matrix}0 & 0 & 0 & 0\\\\-4 & 0 & -2 & 0\\\\0 & 0 & 0 & 0\\\\2 & 0 & 0 & 0\\end{matrix}\\right]$"
      ],
      "text/plain": [
       "Matrix([\n",
       "[ 0, 0,  0, 0],\n",
       "[-4, 0, -2, 0],\n",
       "[ 0, 0,  0, 0],\n",
       "[ 2, 0,  0, 0]])"
      ]
     },
     "execution_count": 3,
     "metadata": {},
     "output_type": "execute_result"
    }
   ],
   "source": [
    "# a_1 = 2, a_{-1} = 2\n",
    "# For each eigenvalue we have either 2 blocks of size 1 (1 + 1) or 1 block of size 2 (2)\n",
    "(A - eye(4)) * (A + eye(4))"
   ]
  },
  {
   "cell_type": "code",
   "execution_count": 4,
   "id": "7111b669",
   "metadata": {},
   "outputs": [
    {
     "data": {
      "text/latex": [
       "$\\displaystyle \\left[\\begin{matrix}0 & 0 & 0 & 0\\\\8 & 0 & 4 & 0\\\\0 & 0 & 0 & 0\\\\0 & 0 & 0 & 0\\end{matrix}\\right]$"
      ],
      "text/plain": [
       "Matrix([\n",
       "[0, 0, 0, 0],\n",
       "[8, 0, 4, 0],\n",
       "[0, 0, 0, 0],\n",
       "[0, 0, 0, 0]])"
      ]
     },
     "execution_count": 4,
     "metadata": {},
     "output_type": "execute_result"
    }
   ],
   "source": [
    "(A - eye(4)) ** 2 * (A + eye(4))"
   ]
  },
  {
   "cell_type": "code",
   "execution_count": 5,
   "id": "801e01b8",
   "metadata": {},
   "outputs": [
    {
     "data": {
      "text/latex": [
       "$\\displaystyle \\left[\\begin{matrix}0 & 0 & 0 & 0\\\\0 & 0 & 0 & 0\\\\0 & 0 & 0 & 0\\\\4 & 0 & 0 & 0\\end{matrix}\\right]$"
      ],
      "text/plain": [
       "Matrix([\n",
       "[0, 0, 0, 0],\n",
       "[0, 0, 0, 0],\n",
       "[0, 0, 0, 0],\n",
       "[4, 0, 0, 0]])"
      ]
     },
     "execution_count": 5,
     "metadata": {},
     "output_type": "execute_result"
    }
   ],
   "source": [
    "(A - eye(4)) * (A + eye(4)) ** 2"
   ]
  },
  {
   "cell_type": "code",
   "execution_count": 6,
   "id": "4d0b1895",
   "metadata": {},
   "outputs": [
    {
     "data": {
      "text/latex": [
       "$\\displaystyle \\left[\\begin{matrix}0 & 0 & 0 & 0\\\\0 & 0 & 0 & 0\\\\0 & 0 & 0 & 0\\\\0 & 0 & 0 & 0\\end{matrix}\\right]$"
      ],
      "text/plain": [
       "Matrix([\n",
       "[0, 0, 0, 0],\n",
       "[0, 0, 0, 0],\n",
       "[0, 0, 0, 0],\n",
       "[0, 0, 0, 0]])"
      ]
     },
     "execution_count": 6,
     "metadata": {},
     "output_type": "execute_result"
    }
   ],
   "source": [
    "(A - eye(4)) ** 2 * (A + eye(4)) ** 2"
   ]
  },
  {
   "cell_type": "code",
   "execution_count": 8,
   "id": "323db544",
   "metadata": {},
   "outputs": [],
   "source": [
    "# m_A(x) = c_A(x)\n",
    "# Hence the Jordan blocks are J_2(1) J_2(-1)\n",
    "J = Matrix([[1, 1, 0, 0], \n",
    "            [0, 1, 0, 0], \n",
    "            [0, 0, -1, 1], \n",
    "            [0, 0, 0, -1]])"
   ]
  },
  {
   "cell_type": "code",
   "execution_count": 35,
   "id": "6b0efa97",
   "metadata": {},
   "outputs": [],
   "source": [
    "# P = Mat_{B, C}(id) where B is the standard basis and C is the basis st  J = Mat_{C, C}(T).\n",
    "# T(v1) = v1 = Av1\n",
    "# T(v2) = v1 + v2 = Av2\n",
    "# T(v3) = -v3\n",
    "# T(v4) = v3 - v4\n",
    "from sympy.abc import x, y, z, t, a, b, c, d\n",
    "v1 = Matrix([x, y, z, t])\n",
    "v2 = Matrix([a, b, c, d])"
   ]
  },
  {
   "cell_type": "code",
   "execution_count": 36,
   "id": "56778bde",
   "metadata": {},
   "outputs": [
    {
     "data": {
      "text/plain": [
       "{a: t + 3*z, b: -4*t - 3*y/2 - 49*z/4, c: -2*t - 15*z/2, x: 0}"
      ]
     },
     "execution_count": 36,
     "metadata": {},
     "output_type": "execute_result"
    }
   ],
   "source": [
    "solve(A * v1 - v1 + A * v2 - v1 - v2) # THIS FAILS"
   ]
  },
  {
   "cell_type": "code",
   "execution_count": 37,
   "id": "a0103402",
   "metadata": {},
   "outputs": [
    {
     "data": {
      "text/plain": [
       "{x: 0, y: 0, z: 0}"
      ]
     },
     "execution_count": 37,
     "metadata": {},
     "output_type": "execute_result"
    }
   ],
   "source": [
    "v1 = Matrix([x, y, z, t])\n",
    "solve(A * v1 - v1)"
   ]
  },
  {
   "cell_type": "code",
   "execution_count": 38,
   "id": "f6a14e9d",
   "metadata": {},
   "outputs": [],
   "source": [
    "v1 = Matrix([0, 0, 0, 1])\n",
    "v2 = Matrix([1, -4, -2, 0])"
   ]
  },
  {
   "cell_type": "code",
   "execution_count": 39,
   "id": "6f6d90c9",
   "metadata": {},
   "outputs": [
    {
     "data": {
      "text/latex": [
       "$\\displaystyle \\left[\\begin{matrix}1\\\\-4\\\\-2\\\\0\\end{matrix}\\right]$"
      ],
      "text/plain": [
       "Matrix([\n",
       "[ 1],\n",
       "[-4],\n",
       "[-2],\n",
       "[ 0]])"
      ]
     },
     "execution_count": 39,
     "metadata": {},
     "output_type": "execute_result"
    }
   ],
   "source": [
    "v2"
   ]
  },
  {
   "cell_type": "code",
   "execution_count": 40,
   "id": "bd0135ab",
   "metadata": {},
   "outputs": [
    {
     "data": {
      "text/plain": [
       "True"
      ]
     },
     "execution_count": 40,
     "metadata": {},
     "output_type": "execute_result"
    }
   ],
   "source": [
    "A * v2 == v1 + v2"
   ]
  },
  {
   "cell_type": "code",
   "execution_count": 41,
   "id": "a74d1c0b",
   "metadata": {},
   "outputs": [
    {
     "data": {
      "text/plain": [
       "True"
      ]
     },
     "execution_count": 41,
     "metadata": {},
     "output_type": "execute_result"
    }
   ],
   "source": [
    "A * v1 == v1"
   ]
  },
  {
   "cell_type": "code",
   "execution_count": 42,
   "id": "e8e15180",
   "metadata": {},
   "outputs": [],
   "source": [
    "v3 = Matrix([x, y, z, t])\n",
    "v4 = Matrix([a, b, c, d])"
   ]
  },
  {
   "cell_type": "code",
   "execution_count": 43,
   "id": "bb091891",
   "metadata": {},
   "outputs": [
    {
     "data": {
      "text/plain": [
       "{t: 0, x: 0, z: 0}"
      ]
     },
     "execution_count": 43,
     "metadata": {},
     "output_type": "execute_result"
    }
   ],
   "source": [
    "solve(A * v3 + v3)"
   ]
  },
  {
   "cell_type": "code",
   "execution_count": 46,
   "id": "59057d2b",
   "metadata": {},
   "outputs": [
    {
     "data": {
      "text/plain": [
       "True"
      ]
     },
     "execution_count": 46,
     "metadata": {},
     "output_type": "execute_result"
    }
   ],
   "source": [
    "# x = 0, y = 1, z = 0, t = 0\n",
    "v3 = Matrix([0, 1, 0, 0])\n",
    "A * v3 == -v3"
   ]
  },
  {
   "cell_type": "code",
   "execution_count": 47,
   "id": "fc02196a",
   "metadata": {},
   "outputs": [
    {
     "data": {
      "text/plain": [
       "{a: 0, c: 1, d: -3}"
      ]
     },
     "execution_count": 47,
     "metadata": {},
     "output_type": "execute_result"
    }
   ],
   "source": [
    "solve(A * v4 - v3 + v4)"
   ]
  },
  {
   "cell_type": "code",
   "execution_count": 48,
   "id": "b6d842fd",
   "metadata": {},
   "outputs": [],
   "source": [
    "v4 = Matrix([0, 0, 1, -3])"
   ]
  },
  {
   "cell_type": "code",
   "execution_count": 49,
   "id": "1a54206f",
   "metadata": {},
   "outputs": [
    {
     "data": {
      "text/latex": [
       "$\\displaystyle \\left[\\begin{matrix}0\\\\0\\\\0\\\\0\\end{matrix}\\right]$"
      ],
      "text/plain": [
       "Matrix([\n",
       "[0],\n",
       "[0],\n",
       "[0],\n",
       "[0]])"
      ]
     },
     "execution_count": 49,
     "metadata": {},
     "output_type": "execute_result"
    }
   ],
   "source": [
    "A * v4 - v3 + v4"
   ]
  },
  {
   "cell_type": "code",
   "execution_count": 50,
   "id": "0cf569ee",
   "metadata": {},
   "outputs": [
    {
     "data": {
      "text/plain": [
       "{a: 0, b: 0, c: 0, d: 0}"
      ]
     },
     "execution_count": 50,
     "metadata": {},
     "output_type": "execute_result"
    }
   ],
   "source": [
    "solve(a * v1 + b * v2 + c *v3 + d *v4)"
   ]
  },
  {
   "cell_type": "code",
   "execution_count": 55,
   "id": "e0f3268f",
   "metadata": {},
   "outputs": [],
   "source": [
    "P = Matrix([[*v1], [*v2], [*v3], [*v4]]).transpose()"
   ]
  },
  {
   "cell_type": "code",
   "execution_count": 56,
   "id": "9cfb54da",
   "metadata": {},
   "outputs": [
    {
     "data": {
      "text/latex": [
       "$\\displaystyle \\left[\\begin{matrix}0 & 1 & 0 & 0\\\\0 & -4 & 1 & 0\\\\0 & -2 & 0 & 1\\\\1 & 0 & 0 & -3\\end{matrix}\\right]$"
      ],
      "text/plain": [
       "Matrix([\n",
       "[0,  1, 0,  0],\n",
       "[0, -4, 1,  0],\n",
       "[0, -2, 0,  1],\n",
       "[1,  0, 0, -3]])"
      ]
     },
     "execution_count": 56,
     "metadata": {},
     "output_type": "execute_result"
    }
   ],
   "source": [
    "P"
   ]
  },
  {
   "cell_type": "code",
   "execution_count": 54,
   "id": "2adb170c",
   "metadata": {},
   "outputs": [
    {
     "data": {
      "text/plain": [
       "(Matrix([\n",
       " [0],\n",
       " [0],\n",
       " [0],\n",
       " [1]]),\n",
       " Matrix([\n",
       " [ 1],\n",
       " [-4],\n",
       " [-2],\n",
       " [ 0]]),\n",
       " Matrix([\n",
       " [0],\n",
       " [1],\n",
       " [0],\n",
       " [0]]),\n",
       " Matrix([\n",
       " [ 0],\n",
       " [ 0],\n",
       " [ 1],\n",
       " [-3]]))"
      ]
     },
     "execution_count": 54,
     "metadata": {},
     "output_type": "execute_result"
    }
   ],
   "source": [
    "v1, v2, v3, v4"
   ]
  },
  {
   "cell_type": "code",
   "execution_count": 58,
   "id": "2e4c4688",
   "metadata": {},
   "outputs": [
    {
     "data": {
      "text/plain": [
       "True"
      ]
     },
     "execution_count": 58,
     "metadata": {},
     "output_type": "execute_result"
    }
   ],
   "source": [
    "P ** -1 * A * P == J"
   ]
  },
  {
   "cell_type": "code",
   "execution_count": 59,
   "id": "0ab6a23f",
   "metadata": {},
   "outputs": [],
   "source": [
    "A = Matrix([[1, 4, 4, 0, 0], [-5, 9, 7, 2, 1], [-1, 1, 1, 1, 1], [-1, 0, 2, 3, 1], [4, 5, 6, 1, 0]])"
   ]
  },
  {
   "cell_type": "code",
   "execution_count": 67,
   "id": "4cb09898",
   "metadata": {},
   "outputs": [],
   "source": [
    "c = A.charpoly()"
   ]
  },
  {
   "cell_type": "code",
   "execution_count": 71,
   "id": "e9ed6f44",
   "metadata": {},
   "outputs": [
    {
     "data": {
      "text/plain": [
       "[(8.582329743773977, 0.0),\n",
       " (-0.37968013111082133, -0.6617140943597325),\n",
       " (-0.37968013111082133, 0.6617140943597325),\n",
       " (3.0885152592238327, -1.7531143377367664),\n",
       " (3.0885152592238327, 1.7531143377367664)]"
      ]
     },
     "execution_count": 71,
     "metadata": {},
     "output_type": "execute_result"
    }
   ],
   "source": [
    "from sympy import re, im\n",
    "[(float(re(x)), float(im(x))) for x in c.all_roots()]"
   ]
  },
  {
   "cell_type": "code",
   "execution_count": null,
   "id": "6835fe9d",
   "metadata": {},
   "outputs": [],
   "source": [
    "# c_A(x) is a product of linear factors and so m_A(x) is also, and so A is diagonalisable\n"
   ]
  }
 ],
 "metadata": {
  "kernelspec": {
   "display_name": "Python 3 (ipykernel)",
   "language": "python",
   "name": "python3"
  },
  "language_info": {
   "codemirror_mode": {
    "name": "ipython",
    "version": 3
   },
   "file_extension": ".py",
   "mimetype": "text/x-python",
   "name": "python",
   "nbconvert_exporter": "python",
   "pygments_lexer": "ipython3",
   "version": "3.9.6"
  }
 },
 "nbformat": 4,
 "nbformat_minor": 5
}
