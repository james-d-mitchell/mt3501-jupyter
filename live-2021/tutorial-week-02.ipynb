{
 "cells": [
  {
   "cell_type": "code",
   "execution_count": 1,
   "id": "14cd45fc",
   "metadata": {},
   "outputs": [],
   "source": [
    "from sympy import Matrix"
   ]
  },
  {
   "cell_type": "markdown",
   "id": "75bf412d",
   "metadata": {},
   "source": [
    "# Problem 7(a)"
   ]
  },
  {
   "cell_type": "code",
   "execution_count": 2,
   "id": "be451daf",
   "metadata": {},
   "outputs": [],
   "source": [
    "v1, v2, v3, v4 = Matrix([2, -1, 2]), Matrix([1, 1, 3]), Matrix([0, 1, 1]), Matrix([4, -1, 3])"
   ]
  },
  {
   "cell_type": "code",
   "execution_count": 3,
   "id": "03200319",
   "metadata": {},
   "outputs": [
    {
     "data": {
      "text/latex": [
       "$\\displaystyle \\left[\\begin{matrix}2\\\\-1\\\\2\\end{matrix}\\right]$"
      ],
      "text/plain": [
       "Matrix([\n",
       "[ 2],\n",
       "[-1],\n",
       "[ 2]])"
      ]
     },
     "execution_count": 3,
     "metadata": {},
     "output_type": "execute_result"
    }
   ],
   "source": [
    "v1"
   ]
  },
  {
   "cell_type": "code",
   "execution_count": 5,
   "id": "cdcbdcfc",
   "metadata": {},
   "outputs": [],
   "source": [
    "A = Matrix([list(v1), list(v2), list(v3), list(v4)])"
   ]
  },
  {
   "cell_type": "code",
   "execution_count": 6,
   "id": "6e016237",
   "metadata": {},
   "outputs": [
    {
     "data": {
      "text/latex": [
       "$\\displaystyle \\left[\\begin{matrix}2 & -1 & 2\\\\1 & 1 & 3\\\\0 & 1 & 1\\\\4 & -1 & 3\\end{matrix}\\right]$"
      ],
      "text/plain": [
       "Matrix([\n",
       "[2, -1, 2],\n",
       "[1,  1, 3],\n",
       "[0,  1, 1],\n",
       "[4, -1, 3]])"
      ]
     },
     "execution_count": 6,
     "metadata": {},
     "output_type": "execute_result"
    }
   ],
   "source": [
    "A"
   ]
  },
  {
   "cell_type": "code",
   "execution_count": 7,
   "id": "04ffe539",
   "metadata": {},
   "outputs": [
    {
     "data": {
      "text/latex": [
       "$\\displaystyle \\left[\\begin{matrix}2 & -1 & 2\\\\0 & 3 & 4\\\\0 & 0 & -1\\\\0 & 0 & 0\\end{matrix}\\right]$"
      ],
      "text/plain": [
       "Matrix([\n",
       "[2, -1,  2],\n",
       "[0,  3,  4],\n",
       "[0,  0, -1],\n",
       "[0,  0,  0]])"
      ]
     },
     "execution_count": 7,
     "metadata": {},
     "output_type": "execute_result"
    }
   ],
   "source": [
    "A.echelon_form()"
   ]
  },
  {
   "cell_type": "markdown",
   "id": "11557f7d",
   "metadata": {},
   "source": [
    "The row space of a matrix (this subspace spanned by the rows of the matrix) has as a basis the non-zero rows in any echelon form of the matrix. Hence the basis in this example is:\n",
    "$$\n",
    "\\begin{pmatrix}\n",
    "2 \\\\ -1 \\\\ 2\n",
    "\\end{pmatrix}, \n",
    "\\begin{pmatrix}\n",
    "0 \\\\ 3 \\\\ 4\n",
    "\\end{pmatrix},\n",
    "\\begin{pmatrix}\n",
    "0 \\\\ 0 \\\\ -1\n",
    "\\end{pmatrix},\n",
    "$$\n"
   ]
  },
  {
   "cell_type": "code",
   "execution_count": 9,
   "id": "bd4ce75a",
   "metadata": {},
   "outputs": [],
   "source": [
    "from sympy import solve\n",
    "from sympy.abc import a, b, c"
   ]
  },
  {
   "cell_type": "code",
   "execution_count": 10,
   "id": "5652a898",
   "metadata": {},
   "outputs": [],
   "source": [
    "w1, w2, w3 = Matrix([2, -1, 2]), Matrix([0, 3, 4]), Matrix([0, 0, -1])"
   ]
  },
  {
   "cell_type": "code",
   "execution_count": 11,
   "id": "79395890",
   "metadata": {},
   "outputs": [
    {
     "data": {
      "text/plain": [
       "{a: 0, b: 0, c: 0}"
      ]
     },
     "execution_count": 11,
     "metadata": {},
     "output_type": "execute_result"
    }
   ],
   "source": [
    "solve(a * w1 + b * w2 + c * w3, [a, b, c]) # solve the equation aw1 + bw2 + cw3 = 0 for the variables a, b, and c"
   ]
  },
  {
   "cell_type": "code",
   "execution_count": null,
   "id": "54dcf590",
   "metadata": {},
   "outputs": [],
   "source": [
    "# the set w1, w2, w3 is linearly independent. "
   ]
  }
 ],
 "metadata": {
  "kernelspec": {
   "display_name": "Python 3 (ipykernel)",
   "language": "python",
   "name": "python3"
  },
  "language_info": {
   "codemirror_mode": {
    "name": "ipython",
    "version": 3
   },
   "file_extension": ".py",
   "mimetype": "text/x-python",
   "name": "python",
   "nbconvert_exporter": "python",
   "pygments_lexer": "ipython3",
   "version": "3.9.6"
  }
 },
 "nbformat": 4,
 "nbformat_minor": 5
}
