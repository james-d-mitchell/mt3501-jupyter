{
 "cells": [
  {
   "cell_type": "markdown",
   "id": "0e043c5a",
   "metadata": {},
   "source": [
    "# Problem 9"
   ]
  },
  {
   "cell_type": "code",
   "execution_count": null,
   "id": "a4774c34",
   "metadata": {},
   "outputs": [],
   "source": [
    "w1 = v1\n",
    "w2 = v2 - dot(v2, w1) * w1\n",
    "dot(w1, w2)"
   ]
  },
  {
   "cell_type": "code",
   "execution_count": 1,
   "id": "f32e0271",
   "metadata": {},
   "outputs": [],
   "source": [
    "from sympy import Matrix\n",
    "v1, v2, v3 = Matrix([1, 0, 1]), Matrix([-1, 2, -1]), Matrix([-1, 0, 1])"
   ]
  },
  {
   "cell_type": "code",
   "execution_count": 2,
   "id": "726793ea",
   "metadata": {},
   "outputs": [],
   "source": [
    "from sympy.abc import a, b, c\n",
    "from sympy import solve\n",
    "v = Matrix([0, 3, 1])"
   ]
  },
  {
   "cell_type": "code",
   "execution_count": 3,
   "id": "74862596",
   "metadata": {},
   "outputs": [
    {
     "data": {
      "text/plain": [
       "{a: 2, b: 3/2, c: 1/2}"
      ]
     },
     "execution_count": 3,
     "metadata": {},
     "output_type": "execute_result"
    }
   ],
   "source": [
    "solve(a * v1 + b * v2 + c * v3 - v)"
   ]
  },
  {
   "cell_type": "code",
   "execution_count": 4,
   "id": "ac28929b",
   "metadata": {},
   "outputs": [
    {
     "data": {
      "text/latex": [
       "$\\displaystyle \\left[\\begin{matrix}0.5\\\\3.0\\\\0.5\\end{matrix}\\right]$"
      ],
      "text/plain": [
       "Matrix([\n",
       "[0.5],\n",
       "[3.0],\n",
       "[0.5]])"
      ]
     },
     "execution_count": 4,
     "metadata": {},
     "output_type": "execute_result"
    }
   ],
   "source": [
    "2 * v1 + 3/2 * v2"
   ]
  },
  {
   "cell_type": "code",
   "execution_count": 5,
   "id": "5129c619",
   "metadata": {},
   "outputs": [],
   "source": [
    "import numpy\n",
    "from sympy import sqrt\n",
    "def dot(w1, w2):\n",
    "    return numpy.dot(list(w1), list(w2))\n",
    "\n",
    "def norm(w):\n",
    "    return sqrt(dot(w, w))"
   ]
  },
  {
   "cell_type": "code",
   "execution_count": 6,
   "id": "2d5b6966",
   "metadata": {},
   "outputs": [
    {
     "data": {
      "text/latex": [
       "$\\displaystyle 0.707106781186548$"
      ],
      "text/plain": [
       "0.707106781186548"
      ]
     },
     "execution_count": 6,
     "metadata": {},
     "output_type": "execute_result"
    }
   ],
   "source": [
    "norm(2 * v1 + 3/2 * v2 - v)"
   ]
  },
  {
   "cell_type": "code",
   "execution_count": 7,
   "id": "68a0f481",
   "metadata": {},
   "outputs": [
    {
     "data": {
      "text/latex": [
       "$\\displaystyle 0.707106781186548$"
      ],
      "text/plain": [
       "0.707106781186548"
      ]
     },
     "execution_count": 7,
     "metadata": {},
     "output_type": "execute_result"
    }
   ],
   "source": [
    "norm(1/2 * v3)"
   ]
  },
  {
   "cell_type": "code",
   "execution_count": 10,
   "id": "2af78b50",
   "metadata": {},
   "outputs": [
    {
     "data": {
      "text/plain": [
       "0.7071067811865476"
      ]
     },
     "execution_count": 10,
     "metadata": {},
     "output_type": "execute_result"
    }
   ],
   "source": [
    "float(1 / sqrt(2))"
   ]
  },
  {
   "cell_type": "code",
   "execution_count": 11,
   "id": "316f4511",
   "metadata": {},
   "outputs": [],
   "source": [
    "v3 = Matrix([0, 0, 1])"
   ]
  },
  {
   "cell_type": "code",
   "execution_count": 12,
   "id": "200ee160",
   "metadata": {},
   "outputs": [
    {
     "data": {
      "text/latex": [
       "$\\displaystyle \\left[\\begin{matrix}1\\\\0\\\\1\\end{matrix}\\right]$"
      ],
      "text/plain": [
       "Matrix([\n",
       "[1],\n",
       "[0],\n",
       "[1]])"
      ]
     },
     "execution_count": 12,
     "metadata": {},
     "output_type": "execute_result"
    }
   ],
   "source": [
    "v1"
   ]
  },
  {
   "cell_type": "code",
   "execution_count": 22,
   "id": "fccd84e3",
   "metadata": {},
   "outputs": [],
   "source": [
    "e1 = 1 / norm(v1) * v1 "
   ]
  },
  {
   "cell_type": "code",
   "execution_count": 23,
   "id": "30e52113",
   "metadata": {},
   "outputs": [],
   "source": [
    "w2 = v2 - dot(v2, e1) * e1"
   ]
  },
  {
   "cell_type": "code",
   "execution_count": 24,
   "id": "46cf5591",
   "metadata": {},
   "outputs": [],
   "source": [
    "e2 = 1 / norm(w2) * w2"
   ]
  },
  {
   "cell_type": "code",
   "execution_count": 16,
   "id": "00895ce3",
   "metadata": {},
   "outputs": [
    {
     "data": {
      "text/latex": [
       "$\\displaystyle 2$"
      ],
      "text/plain": [
       "2"
      ]
     },
     "execution_count": 16,
     "metadata": {},
     "output_type": "execute_result"
    }
   ],
   "source": []
  },
  {
   "cell_type": "code",
   "execution_count": 25,
   "id": "8639eea3",
   "metadata": {},
   "outputs": [],
   "source": [
    "w3 = v3 - dot(v3, e1) * e1 - dot(v3, e2) * e2\n",
    "e3 = 1/ norm(w3) * w3"
   ]
  },
  {
   "cell_type": "code",
   "execution_count": 26,
   "id": "6e08780a",
   "metadata": {},
   "outputs": [
    {
     "data": {
      "text/plain": [
       "(Matrix([\n",
       " [sqrt(2)/2],\n",
       " [        0],\n",
       " [sqrt(2)/2]]),\n",
       " Matrix([\n",
       " [0],\n",
       " [1],\n",
       " [0]]),\n",
       " Matrix([\n",
       " [-sqrt(2)/2],\n",
       " [         0],\n",
       " [ sqrt(2)/2]]))"
      ]
     },
     "execution_count": 26,
     "metadata": {},
     "output_type": "execute_result"
    }
   ],
   "source": [
    "e1, e2, e3"
   ]
  },
  {
   "cell_type": "code",
   "execution_count": 28,
   "id": "10b19efe",
   "metadata": {},
   "outputs": [
    {
     "data": {
      "text/plain": [
       "(0, 0, 0)"
      ]
     },
     "execution_count": 28,
     "metadata": {},
     "output_type": "execute_result"
    }
   ],
   "source": [
    "dot(w1, w2), dot(w2, w3), dot(w1, w3)"
   ]
  },
  {
   "cell_type": "code",
   "execution_count": 29,
   "id": "bfbf00cc",
   "metadata": {},
   "outputs": [
    {
     "data": {
      "text/plain": [
       "(Matrix([\n",
       " [1],\n",
       " [0],\n",
       " [1]]),\n",
       " Matrix([\n",
       " [0],\n",
       " [2],\n",
       " [0]]),\n",
       " Matrix([\n",
       " [-1/2],\n",
       " [   0],\n",
       " [ 1/2]]))"
      ]
     },
     "execution_count": 29,
     "metadata": {},
     "output_type": "execute_result"
    }
   ],
   "source": [
    "w1, w2, w3"
   ]
  },
  {
   "cell_type": "code",
   "execution_count": 30,
   "id": "96e9064f",
   "metadata": {},
   "outputs": [
    {
     "data": {
      "text/plain": [
       "{a: 1/2, c: 1, b: 3/2}"
      ]
     },
     "execution_count": 30,
     "metadata": {},
     "output_type": "execute_result"
    }
   ],
   "source": [
    "solve(a * w1 + b * w2 + c * w3 - v)"
   ]
  },
  {
   "cell_type": "code",
   "execution_count": 31,
   "id": "c0931c88",
   "metadata": {},
   "outputs": [
    {
     "data": {
      "text/latex": [
       "$\\displaystyle \\left[\\begin{matrix}0.5\\\\3.0\\\\0.5\\end{matrix}\\right]$"
      ],
      "text/plain": [
       "Matrix([\n",
       "[0.5],\n",
       "[3.0],\n",
       "[0.5]])"
      ]
     },
     "execution_count": 31,
     "metadata": {},
     "output_type": "execute_result"
    }
   ],
   "source": [
    "1/ 2 * w1 + 3/ 2 * w2"
   ]
  },
  {
   "cell_type": "code",
   "execution_count": null,
   "id": "c2326e05",
   "metadata": {},
   "outputs": [],
   "source": []
  }
 ],
 "metadata": {
  "kernelspec": {
   "display_name": "Python 3 (ipykernel)",
   "language": "python",
   "name": "python3"
  },
  "language_info": {
   "codemirror_mode": {
    "name": "ipython",
    "version": 3
   },
   "file_extension": ".py",
   "mimetype": "text/x-python",
   "name": "python",
   "nbconvert_exporter": "python",
   "pygments_lexer": "ipython3",
   "version": "3.9.6"
  }
 },
 "nbformat": 4,
 "nbformat_minor": 5
}
