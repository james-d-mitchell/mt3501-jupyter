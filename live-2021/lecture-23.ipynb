{
 "cells": [
  {
   "cell_type": "code",
   "execution_count": 3,
   "id": "f3e1157d",
   "metadata": {},
   "outputs": [],
   "source": [
    "from sympy import Matrix, sqrt\n",
    "import numpy\n",
    "def dot(v1, v2):\n",
    "    return numpy.dot(list(v1), list(v2))\n",
    "def norm(v):\n",
    "    return sqrt(dot(v, v))"
   ]
  },
  {
   "cell_type": "code",
   "execution_count": 4,
   "id": "a218c586",
   "metadata": {},
   "outputs": [
    {
     "data": {
      "text/latex": [
       "$\\displaystyle 3$"
      ],
      "text/plain": [
       "3"
      ]
     },
     "execution_count": 4,
     "metadata": {},
     "output_type": "execute_result"
    }
   ],
   "source": [
    "dot(Matrix([1, 1, 1]), Matrix([1, 1, 1]))"
   ]
  },
  {
   "cell_type": "markdown",
   "id": "f7acef35",
   "metadata": {},
   "source": [
    "norm(v)"
   ]
  },
  {
   "cell_type": "code",
   "execution_count": 5,
   "id": "ec68c7c1",
   "metadata": {},
   "outputs": [
    {
     "data": {
      "text/latex": [
       "$\\displaystyle \\sqrt{3}$"
      ],
      "text/plain": [
       "sqrt(3)"
      ]
     },
     "execution_count": 5,
     "metadata": {},
     "output_type": "execute_result"
    }
   ],
   "source": [
    "norm(Matrix([1, 1, 1]))"
   ]
  },
  {
   "cell_type": "code",
   "execution_count": 6,
   "id": "cafbafee",
   "metadata": {},
   "outputs": [],
   "source": [
    "v1 = Matrix([1, 1, 1])\n",
    "v2 = Matrix([0, 1, -2])\n",
    "v3 = Matrix([0, 1, 0])"
   ]
  },
  {
   "cell_type": "code",
   "execution_count": 8,
   "id": "f31f48d7",
   "metadata": {},
   "outputs": [
    {
     "data": {
      "text/plain": [
       "3"
      ]
     },
     "execution_count": 8,
     "metadata": {},
     "output_type": "execute_result"
    }
   ],
   "source": [
    "from sympy import solve\n",
    "Matrix([[*v1], [*v2], [*v3]]).rank()"
   ]
  },
  {
   "cell_type": "code",
   "execution_count": 9,
   "id": "806a5850",
   "metadata": {},
   "outputs": [],
   "source": [
    "e1 = 1 / norm(v1) * v1"
   ]
  },
  {
   "cell_type": "code",
   "execution_count": 10,
   "id": "20e18331",
   "metadata": {},
   "outputs": [],
   "source": [
    "w2 = v2 - dot(e1, v2) * e1"
   ]
  },
  {
   "cell_type": "code",
   "execution_count": 11,
   "id": "cb3d738e",
   "metadata": {},
   "outputs": [],
   "source": [
    "e2 = 1/ norm(w2) * w2"
   ]
  },
  {
   "cell_type": "code",
   "execution_count": 12,
   "id": "8c93d85e",
   "metadata": {},
   "outputs": [
    {
     "data": {
      "text/latex": [
       "$\\displaystyle 0$"
      ],
      "text/plain": [
       "0"
      ]
     },
     "execution_count": 12,
     "metadata": {},
     "output_type": "execute_result"
    }
   ],
   "source": [
    "dot(e1, e2)"
   ]
  },
  {
   "cell_type": "code",
   "execution_count": 13,
   "id": "f3e70c15",
   "metadata": {},
   "outputs": [],
   "source": [
    "w3 = v3 - dot(e1, v3) * e1 - dot(e2, v3) * e2"
   ]
  },
  {
   "cell_type": "code",
   "execution_count": 14,
   "id": "14734a0c",
   "metadata": {},
   "outputs": [],
   "source": [
    "e3 = 1/ norm(w3) * w3"
   ]
  },
  {
   "cell_type": "code",
   "execution_count": 15,
   "id": "b8a316b2",
   "metadata": {},
   "outputs": [
    {
     "data": {
      "text/latex": [
       "$\\displaystyle 0$"
      ],
      "text/plain": [
       "0"
      ]
     },
     "execution_count": 15,
     "metadata": {},
     "output_type": "execute_result"
    }
   ],
   "source": [
    "dot(e2, e3)"
   ]
  },
  {
   "cell_type": "code",
   "execution_count": 16,
   "id": "dcb30dc3",
   "metadata": {},
   "outputs": [
    {
     "data": {
      "text/latex": [
       "$\\displaystyle 0$"
      ],
      "text/plain": [
       "0"
      ]
     },
     "execution_count": 16,
     "metadata": {},
     "output_type": "execute_result"
    }
   ],
   "source": [
    "dot(e1, e3)"
   ]
  },
  {
   "cell_type": "code",
   "execution_count": 17,
   "id": "8481af7d",
   "metadata": {},
   "outputs": [
    {
     "data": {
      "text/plain": [
       "(Matrix([\n",
       " [sqrt(3)/3],\n",
       " [sqrt(3)/3],\n",
       " [sqrt(3)/3]]),\n",
       " Matrix([\n",
       " [   sqrt(42)/42],\n",
       " [ 2*sqrt(42)/21],\n",
       " [-5*sqrt(42)/42]]),\n",
       " Matrix([\n",
       " [-3*sqrt(14)/14],\n",
       " [    sqrt(14)/7],\n",
       " [   sqrt(14)/14]]))"
      ]
     },
     "execution_count": 17,
     "metadata": {},
     "output_type": "execute_result"
    }
   ],
   "source": [
    "e1, e2, e3"
   ]
  },
  {
   "cell_type": "code",
   "execution_count": 19,
   "id": "e8120e31",
   "metadata": {},
   "outputs": [
    {
     "data": {
      "text/plain": [
       "{a: 5*sqrt(3)/3, b: sqrt(42)/3, c: sqrt(14)}"
      ]
     },
     "execution_count": 19,
     "metadata": {},
     "output_type": "execute_result"
    }
   ],
   "source": [
    "w0 = Matrix([-1, 5, 1])\n",
    "from sympy.abc import a, b, c\n",
    "from sympy import solve\n",
    "solve(a * e1 + b * e2 + c * e3 - w0, [a, b, c])"
   ]
  },
  {
   "cell_type": "code",
   "execution_count": 20,
   "id": "7fd260db",
   "metadata": {},
   "outputs": [],
   "source": [
    "# P_U(w0) = a * e1 + b * e2"
   ]
  },
  {
   "cell_type": "code",
   "execution_count": 28,
   "id": "19c3d0e0",
   "metadata": {},
   "outputs": [],
   "source": [
    "u = 5*sqrt(3)/3 * e1 + sqrt(42)/3 * e2"
   ]
  },
  {
   "cell_type": "code",
   "execution_count": 29,
   "id": "2598c1d2",
   "metadata": {},
   "outputs": [
    {
     "data": {
      "text/latex": [
       "$\\displaystyle \\sqrt{14}$"
      ],
      "text/plain": [
       "sqrt(14)"
      ]
     },
     "execution_count": 29,
     "metadata": {},
     "output_type": "execute_result"
    }
   ],
   "source": [
    "norm(u - w0)"
   ]
  },
  {
   "cell_type": "code",
   "execution_count": 25,
   "id": "13c6db91",
   "metadata": {},
   "outputs": [
    {
     "data": {
      "text/plain": [
       "{a: -sqrt(3)/3, b: sqrt(42)/3}"
      ]
     },
     "execution_count": 25,
     "metadata": {},
     "output_type": "execute_result"
    }
   ],
   "source": [
    "solve(a * e1 + b * e2 - v2)"
   ]
  },
  {
   "cell_type": "code",
   "execution_count": 26,
   "id": "dbb5ff20",
   "metadata": {},
   "outputs": [],
   "source": [
    "Matrix([-3, 2, 1]) "
   ]
  },
  {
   "cell_type": "code",
   "execution_count": 30,
   "id": "06ceeef2",
   "metadata": {},
   "outputs": [
    {
     "data": {
      "text/latex": [
       "$\\displaystyle \\sqrt{13}$"
      ],
      "text/plain": [
       "sqrt(13)"
      ]
     },
     "execution_count": 30,
     "metadata": {},
     "output_type": "execute_result"
    }
   ],
   "source": [
    "norm(Matrix([-3, 2, 1]) - w0)"
   ]
  },
  {
   "cell_type": "code",
   "execution_count": null,
   "id": "1d016c7f",
   "metadata": {},
   "outputs": [],
   "source": [
    "norm(u -)"
   ]
  }
 ],
 "metadata": {
  "kernelspec": {
   "display_name": "Python 3 (ipykernel)",
   "language": "python",
   "name": "python3"
  },
  "language_info": {
   "codemirror_mode": {
    "name": "ipython",
    "version": 3
   },
   "file_extension": ".py",
   "mimetype": "text/x-python",
   "name": "python",
   "nbconvert_exporter": "python",
   "pygments_lexer": "ipython3",
   "version": "3.9.6"
  }
 },
 "nbformat": 4,
 "nbformat_minor": 5
}
