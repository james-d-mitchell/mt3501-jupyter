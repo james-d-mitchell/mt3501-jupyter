{
 "cells": [
  {
   "cell_type": "code",
   "execution_count": 1,
   "id": "f3e1157d",
   "metadata": {},
   "outputs": [],
   "source": [
    "from sympy import Matrix, sqrt\n",
    "import numpy\n",
    "def dot(v1, v2):\n",
    "    return numpy.dot(list(v1), list(v2))\n",
    "def norm(v):\n",
    "    return sqrt(dot(v, v))"
   ]
  },
  {
   "cell_type": "code",
   "execution_count": 4,
   "id": "a218c586",
   "metadata": {},
   "outputs": [
    {
     "data": {
      "text/latex": [
       "$\\displaystyle 3$"
      ],
      "text/plain": [
       "3"
      ]
     },
     "execution_count": 4,
     "metadata": {},
     "output_type": "execute_result"
    }
   ],
   "source": [
    "dot(Matrix([1, 1, 1]), Matrix([1, 1, 1]))"
   ]
  },
  {
   "cell_type": "markdown",
   "id": "f7acef35",
   "metadata": {},
   "source": [
    "norm(v)"
   ]
  },
  {
   "cell_type": "code",
   "execution_count": 5,
   "id": "ec68c7c1",
   "metadata": {},
   "outputs": [
    {
     "data": {
      "text/latex": [
       "$\\displaystyle \\sqrt{3}$"
      ],
      "text/plain": [
       "sqrt(3)"
      ]
     },
     "execution_count": 5,
     "metadata": {},
     "output_type": "execute_result"
    }
   ],
   "source": [
    "norm(Matrix([1, 1, 1]))"
   ]
  },
  {
   "cell_type": "code",
   "execution_count": 3,
   "id": "cafbafee",
   "metadata": {},
   "outputs": [],
   "source": [
    "v1 = Matrix([1, 1, 1])\n",
    "v2 = Matrix([0, 1, -2])\n",
    "v3 = Matrix([0, 1, 0])"
   ]
  },
  {
   "cell_type": "code",
   "execution_count": 4,
   "id": "f31f48d7",
   "metadata": {},
   "outputs": [
    {
     "data": {
      "text/plain": [
       "3"
      ]
     },
     "execution_count": 4,
     "metadata": {},
     "output_type": "execute_result"
    }
   ],
   "source": [
    "from sympy import solve\n",
    "Matrix([[*v1], [*v2], [*v3]]).rank()"
   ]
  },
  {
   "cell_type": "code",
   "execution_count": 7,
   "id": "806a5850",
   "metadata": {},
   "outputs": [],
   "source": [
    "e1 = 1 / norm(v1) * v1"
   ]
  },
  {
   "cell_type": "code",
   "execution_count": 6,
   "id": "b788e656",
   "metadata": {},
   "outputs": [
    {
     "data": {
      "text/latex": [
       "$\\displaystyle 2$"
      ],
      "text/plain": [
       "2"
      ]
     },
     "execution_count": 6,
     "metadata": {},
     "output_type": "execute_result"
    }
   ],
   "source": [
    "w1 = v1\n",
    "w2 = v2 - dot(w1, v2) * w1\n",
    "dot(w1, w2)"
   ]
  },
  {
   "cell_type": "code",
   "execution_count": 8,
   "id": "20e18331",
   "metadata": {},
   "outputs": [],
   "source": [
    "w2 = v2 - dot(e1, v2) * e1"
   ]
  },
  {
   "cell_type": "code",
   "execution_count": 9,
   "id": "cb3d738e",
   "metadata": {},
   "outputs": [],
   "source": [
    "e2 = 1/ norm(w2) * w2"
   ]
  },
  {
   "cell_type": "code",
   "execution_count": 12,
   "id": "8c93d85e",
   "metadata": {},
   "outputs": [
    {
     "data": {
      "text/latex": [
       "$\\displaystyle 0$"
      ],
      "text/plain": [
       "0"
      ]
     },
     "execution_count": 12,
     "metadata": {},
     "output_type": "execute_result"
    }
   ],
   "source": [
    "dot(e1, e2)"
   ]
  },
  {
   "cell_type": "code",
   "execution_count": 10,
   "id": "f3e70c15",
   "metadata": {},
   "outputs": [],
   "source": [
    "w3 = v3 - dot(e1, v3) * e1 - dot(e2, v3) * e2"
   ]
  },
  {
   "cell_type": "code",
   "execution_count": 11,
   "id": "14734a0c",
   "metadata": {},
   "outputs": [],
   "source": [
    "e3 = 1/ norm(w3) * w3"
   ]
  },
  {
   "cell_type": "code",
   "execution_count": 12,
   "id": "b8a316b2",
   "metadata": {},
   "outputs": [
    {
     "data": {
      "text/latex": [
       "$\\displaystyle 0$"
      ],
      "text/plain": [
       "0"
      ]
     },
     "execution_count": 12,
     "metadata": {},
     "output_type": "execute_result"
    }
   ],
   "source": [
    "dot(e2, e3)"
   ]
  },
  {
   "cell_type": "code",
   "execution_count": 13,
   "id": "dcb30dc3",
   "metadata": {},
   "outputs": [
    {
     "data": {
      "text/latex": [
       "$\\displaystyle 0$"
      ],
      "text/plain": [
       "0"
      ]
     },
     "execution_count": 13,
     "metadata": {},
     "output_type": "execute_result"
    }
   ],
   "source": [
    "dot(e1, e3)"
   ]
  },
  {
   "cell_type": "code",
   "execution_count": 17,
   "id": "8481af7d",
   "metadata": {},
   "outputs": [
    {
     "data": {
      "text/plain": [
       "(Matrix([\n",
       " [sqrt(3)/3],\n",
       " [sqrt(3)/3],\n",
       " [sqrt(3)/3]]),\n",
       " Matrix([\n",
       " [   sqrt(42)/42],\n",
       " [ 2*sqrt(42)/21],\n",
       " [-5*sqrt(42)/42]]),\n",
       " Matrix([\n",
       " [-3*sqrt(14)/14],\n",
       " [    sqrt(14)/7],\n",
       " [   sqrt(14)/14]]))"
      ]
     },
     "execution_count": 17,
     "metadata": {},
     "output_type": "execute_result"
    }
   ],
   "source": [
    "e1, e2, e3"
   ]
  },
  {
   "cell_type": "code",
   "execution_count": 15,
   "id": "0416bfd3",
   "metadata": {},
   "outputs": [
    {
     "data": {
      "text/plain": [
       "(0, 0, 0)"
      ]
     },
     "execution_count": 15,
     "metadata": {},
     "output_type": "execute_result"
    }
   ],
   "source": [
    "dot(w1, w2), dot(w2, w3), dot(w1, w3)"
   ]
  },
  {
   "cell_type": "code",
   "execution_count": 16,
   "id": "f5fb00c1",
   "metadata": {},
   "outputs": [
    {
     "data": {
      "text/plain": [
       "(Matrix([\n",
       " [1],\n",
       " [1],\n",
       " [1]]),\n",
       " Matrix([\n",
       " [ 1/3],\n",
       " [ 4/3],\n",
       " [-5/3]]),\n",
       " Matrix([\n",
       " [-3/7],\n",
       " [ 2/7],\n",
       " [ 1/7]]))"
      ]
     },
     "execution_count": 16,
     "metadata": {},
     "output_type": "execute_result"
    }
   ],
   "source": [
    "w1, w2, w3"
   ]
  },
  {
   "cell_type": "code",
   "execution_count": 17,
   "id": "e8120e31",
   "metadata": {},
   "outputs": [
    {
     "data": {
      "text/plain": [
       "{a: 5/3, b: 1, c: 7}"
      ]
     },
     "execution_count": 17,
     "metadata": {},
     "output_type": "execute_result"
    }
   ],
   "source": [
    "w0 = Matrix([-1, 5, 1])\n",
    "from sympy.abc import a, b, c\n",
    "from sympy import solve\n",
    "solve(a * w1 + b * w2 + c * w3 - w0, [a, b, c])"
   ]
  },
  {
   "cell_type": "code",
   "execution_count": 20,
   "id": "7fd260db",
   "metadata": {},
   "outputs": [],
   "source": [
    "# P_U(w0) = a * w1 + b * w2"
   ]
  },
  {
   "cell_type": "code",
   "execution_count": 19,
   "id": "19c3d0e0",
   "metadata": {},
   "outputs": [
    {
     "data": {
      "text/latex": [
       "$\\displaystyle \\left[\\begin{matrix}2.0\\\\3.0\\\\0\\end{matrix}\\right]$"
      ],
      "text/plain": [
       "Matrix([\n",
       "[2.0],\n",
       "[3.0],\n",
       "[  0]])"
      ]
     },
     "execution_count": 19,
     "metadata": {},
     "output_type": "execute_result"
    }
   ],
   "source": [
    "u = 5/3 * w1 +  w2\n",
    "u"
   ]
  },
  {
   "cell_type": "code",
   "execution_count": 22,
   "id": "2598c1d2",
   "metadata": {},
   "outputs": [
    {
     "data": {
      "text/plain": [
       "(3.74165738677394, 3.7416573867739413)"
      ]
     },
     "execution_count": 22,
     "metadata": {},
     "output_type": "execute_result"
    }
   ],
   "source": [
    "norm(u - w0), float(sqrt(14))\n"
   ]
  },
  {
   "cell_type": "code",
   "execution_count": 23,
   "id": "8a57dc17",
   "metadata": {},
   "outputs": [
    {
     "data": {
      "text/latex": [
       "$\\displaystyle \\sqrt{14}$"
      ],
      "text/plain": [
       "sqrt(14)"
      ]
     },
     "execution_count": 23,
     "metadata": {},
     "output_type": "execute_result"
    }
   ],
   "source": [
    "norm(7 * w3)"
   ]
  },
  {
   "cell_type": "markdown",
   "id": "2e2d4cb8",
   "metadata": {},
   "source": [
    "# Example 11.5A"
   ]
  },
  {
   "cell_type": "code",
   "execution_count": null,
   "id": "41baf6a2",
   "metadata": {},
   "outputs": [],
   "source": [
    "from sympy import Matrix, sqrt\n",
    "import numpy\n",
    "def dot(v1, v2):\n",
    "    return numpy.dot(list(v1), list(v2))\n",
    "def norm(v):\n",
    "    return sqrt(dot(v, v))"
   ]
  },
  {
   "cell_type": "code",
   "execution_count": 24,
   "id": "2cd09d03",
   "metadata": {},
   "outputs": [],
   "source": [
    "v1, v2, v3, v4 = Matrix([1, 1, -1, 1]), Matrix([3, 1, -2, 2]), Matrix([2, -4, 3, 1]), Matrix([1, 0, 0, 0])"
   ]
  },
  {
   "cell_type": "code",
   "execution_count": 28,
   "id": "4ff23bd6",
   "metadata": {},
   "outputs": [],
   "source": [
    "e1 = 1 /norm(v1) * v1"
   ]
  },
  {
   "cell_type": "code",
   "execution_count": 29,
   "id": "0ba8bc19",
   "metadata": {},
   "outputs": [],
   "source": [
    "w2 = v2 - dot(v2, e1) * e1"
   ]
  },
  {
   "cell_type": "code",
   "execution_count": 30,
   "id": "767acd91",
   "metadata": {},
   "outputs": [],
   "source": [
    "e2 = 1 / norm(w2) * w2"
   ]
  },
  {
   "cell_type": "code",
   "execution_count": 32,
   "id": "a28a47b0",
   "metadata": {},
   "outputs": [
    {
     "data": {
      "text/plain": [
       "(0, 1, 1)"
      ]
     },
     "execution_count": 32,
     "metadata": {},
     "output_type": "execute_result"
    }
   ],
   "source": [
    "dot(e1, e2), norm(e1), norm(e2)"
   ]
  },
  {
   "cell_type": "code",
   "execution_count": 34,
   "id": "bb6aef29",
   "metadata": {},
   "outputs": [],
   "source": [
    "w3 = v3 - dot(v3, e1) * e1 - dot(v3, e2) * e2\n",
    "e3 = 1 / norm(w3) * w3"
   ]
  },
  {
   "cell_type": "code",
   "execution_count": 35,
   "id": "60233e5a",
   "metadata": {},
   "outputs": [],
   "source": [
    "w4 = v4 - dot(v4, e1) * e1 - dot(v4, e2) * e2 - dot(v4, e3) * e3\n",
    "e4 = 1 / norm(w4) * w4"
   ]
  },
  {
   "cell_type": "code",
   "execution_count": 36,
   "id": "34445699",
   "metadata": {},
   "outputs": [
    {
     "data": {
      "text/plain": [
       "(Matrix([\n",
       " [ 1/2],\n",
       " [ 1/2],\n",
       " [-1/2],\n",
       " [ 1/2]]),\n",
       " Matrix([\n",
       " [ sqrt(2)/2],\n",
       " [-sqrt(2)/2],\n",
       " [         0],\n",
       " [         0]]),\n",
       " Matrix([\n",
       " [        0],\n",
       " [        0],\n",
       " [sqrt(2)/2],\n",
       " [sqrt(2)/2]]),\n",
       " Matrix([\n",
       " [ 1/2],\n",
       " [ 1/2],\n",
       " [ 1/2],\n",
       " [-1/2]]))"
      ]
     },
     "execution_count": 36,
     "metadata": {},
     "output_type": "execute_result"
    }
   ],
   "source": [
    "e1, e2, e3, e4"
   ]
  },
  {
   "cell_type": "code",
   "execution_count": 37,
   "id": "395f70fd",
   "metadata": {},
   "outputs": [
    {
     "data": {
      "text/plain": [
       "[1, 0, 0, 0, 0, 1, 0, 0, 0, 0, 1, 0, 0, 0, 0, 1]"
      ]
     },
     "execution_count": 37,
     "metadata": {},
     "output_type": "execute_result"
    }
   ],
   "source": [
    "[dot(x, y) for x in (e1, e2, e3, e4) for y in (e1, e2, e3, e4)]"
   ]
  },
  {
   "cell_type": "markdown",
   "id": "11934d64",
   "metadata": {},
   "source": [
    "U is the subspace spanned by v1, v2. Find a basis for the orthogonal complement of U in $\\mathbb{R} ^ 4$."
   ]
  },
  {
   "cell_type": "code",
   "execution_count": 38,
   "id": "f2b6ced3",
   "metadata": {},
   "outputs": [
    {
     "data": {
      "text/plain": [
       "{a: -2, b: 3*sqrt(2), c: 2*sqrt(2), d: 0}"
      ]
     },
     "execution_count": 38,
     "metadata": {},
     "output_type": "execute_result"
    }
   ],
   "source": [
    "from sympy.abc import a, b, c, d\n",
    "from sympy import solve\n",
    "solve(a * e1 + b * e2 + c * e3 + d * e4 - Matrix([2, -4, 3, 1]))"
   ]
  },
  {
   "cell_type": "code",
   "execution_count": 39,
   "id": "ae783314",
   "metadata": {},
   "outputs": [
    {
     "data": {
      "text/latex": [
       "$\\displaystyle \\left[\\begin{matrix}2\\\\-4\\\\1\\\\-1\\end{matrix}\\right]$"
      ],
      "text/plain": [
       "Matrix([\n",
       "[ 2],\n",
       "[-4],\n",
       "[ 1],\n",
       "[-1]])"
      ]
     },
     "execution_count": 39,
     "metadata": {},
     "output_type": "execute_result"
    }
   ],
   "source": [
    "-2 * e1 + 3 * sqrt(2) * e2"
   ]
  },
  {
   "cell_type": "code",
   "execution_count": 40,
   "id": "08d71b5e",
   "metadata": {},
   "outputs": [
    {
     "data": {
      "text/latex": [
       "$\\displaystyle 2 \\sqrt{2}$"
      ],
      "text/plain": [
       "2*sqrt(2)"
      ]
     },
     "execution_count": 40,
     "metadata": {},
     "output_type": "execute_result"
    }
   ],
   "source": [
    "norm(-2 * e1 + 3 * sqrt(2) * e2 -  Matrix([2, -4, 3, 1]))"
   ]
  },
  {
   "cell_type": "code",
   "execution_count": 41,
   "id": "b4341ceb",
   "metadata": {},
   "outputs": [
    {
     "data": {
      "text/latex": [
       "$\\displaystyle 2 \\sqrt{2}$"
      ],
      "text/plain": [
       "2*sqrt(2)"
      ]
     },
     "execution_count": 41,
     "metadata": {},
     "output_type": "execute_result"
    }
   ],
   "source": [
    "norm(2*sqrt(2) * e3)"
   ]
  },
  {
   "cell_type": "code",
   "execution_count": 45,
   "id": "04e5fba4",
   "metadata": {},
   "outputs": [],
   "source": [
    "A = Matrix([[1, 2, 3, 4], [5, 6, 6, 10], [42, 666, 0, 1], [1, 1, 1, 1]])"
   ]
  },
  {
   "cell_type": "code",
   "execution_count": 47,
   "id": "4327a2c6",
   "metadata": {},
   "outputs": [
    {
     "data": {
      "text/latex": [
       "$\\displaystyle \\lambda^{4} - 8 \\lambda^{3} - 4134 \\lambda^{2} - 8452 \\lambda - 4493$"
      ],
      "text/plain": [
       "lambda**4 - 8*lambda**3 - 4134*lambda**2 - 8452*lambda - 4493"
      ]
     },
     "execution_count": 47,
     "metadata": {},
     "output_type": "execute_result"
    }
   ],
   "source": [
    "from sympy import factor\n",
    "factor(A.charpoly().as_expr())"
   ]
  },
  {
   "cell_type": "code",
   "execution_count": 51,
   "id": "f5309aae",
   "metadata": {},
   "outputs": [
    {
     "data": {
      "text/plain": [
       "[(-59.31495458537868, 0.0),\n",
       " (69.36650000469157, 0.0),\n",
       " (-1.0257727096564464, -0.19947389574039087),\n",
       " (-1.0257727096564464, 0.19947389574039087)]"
      ]
     },
     "execution_count": 51,
     "metadata": {},
     "output_type": "execute_result"
    }
   ],
   "source": [
    "from sympy import re, im\n",
    "[(float(re(x)), float(im(x))) for x in A.charpoly().all_roots()]"
   ]
  },
  {
   "cell_type": "code",
   "execution_count": null,
   "id": "9e7036b4",
   "metadata": {},
   "outputs": [],
   "source": []
  }
 ],
 "metadata": {
  "kernelspec": {
   "display_name": "Python 3",
   "language": "python",
   "name": "python3"
  },
  "language_info": {
   "codemirror_mode": {
    "name": "ipython",
    "version": 3
   },
   "file_extension": ".py",
   "mimetype": "text/x-python",
   "name": "python",
   "nbconvert_exporter": "python",
   "pygments_lexer": "ipython3",
   "version": "3.9.8"
  }
 },
 "nbformat": 4,
 "nbformat_minor": 5
}
